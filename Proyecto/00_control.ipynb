{
 "cells": [
  {
   "cell_type": "markdown",
   "metadata": {},
   "source": [
    "# Pendientes\n",
    "\n",
    "* convertir control en diccionario\n",
    "* script mas complejo para proporcion\n",
    "    - puede haber nulos, solucionar los faltantes\n",
    "    - poder darle una lista de meses\n",
    "* arreglar scripts para control\n",
    "*reescribir optimizaicon de hiperparam"
   ]
  },
  {
   "cell_type": "code",
   "execution_count": 26,
   "metadata": {},
   "outputs": [],
   "source": [
    "from datetime import datetime\n",
    "import os"
   ]
  },
  {
   "cell_type": "code",
   "execution_count": 27,
   "metadata": {},
   "outputs": [],
   "source": [
    "NOMBRE_EXPERIMENTO = '2024-06-23_NuevoScript'\n",
    "\n",
    "FILES = [\n",
    "    ['01_sell_in_group.parquet',\n",
    "        '01_prod_stats.parquet',\n",
    "        '01_prod_data_group.parquet',\n",
    "        '01_prod_data_ungroup.parquet',\n",
    "        '01_stock_data.parquet'],\n",
    "    ['02_sell_in_norm.parquet'],\n",
    "    ['03_sell_in_lag.parquet'],\n",
    "    ['04_sell_in_train.parquet',\n",
    "        '04_sell_in_test.parquet',\n",
    "        '04_sell_in_futuro.parquet'],\n",
    "    ['05_sell_in_pred.parquet',\n",
    "        '05_sell_in_pred_futuro.parquet'],\n",
    "    ['06_kaggle_pred.csv'],\n",
    "]\n",
    "\n",
    "FOLDER = f'./Experimentos/{NOMBRE_EXPERIMENTO}/'"
   ]
  },
  {
   "cell_type": "code",
   "execution_count": 28,
   "metadata": {},
   "outputs": [
    {
     "name": "stdout",
     "output_type": "stream",
     "text": [
      "./Experimentos/2024-06-23_NuevoScript/01_sell_in_group.parquet\n",
      "./Experimentos/2024-06-23_NuevoScript/01_prod_stats.parquet\n",
      "./Experimentos/2024-06-23_NuevoScript/01_prod_data_group.parquet\n",
      "./Experimentos/2024-06-23_NuevoScript/01_prod_data_ungroup.parquet\n",
      "./Experimentos/2024-06-23_NuevoScript/01_stock_data.parquet\n",
      "./Experimentos/2024-06-23_NuevoScript/02_sell_in_norm.parquet\n",
      "./Experimentos/2024-06-23_NuevoScript/03_sell_in_lag.parquet\n",
      "./Experimentos/2024-06-23_NuevoScript/04_sell_in_train.parquet\n",
      "./Experimentos/2024-06-23_NuevoScript/04_sell_in_test.parquet\n",
      "./Experimentos/2024-06-23_NuevoScript/04_sell_in_futuro.parquet\n",
      "./Experimentos/2024-06-23_NuevoScript/05_sell_in_pred.parquet\n",
      "./Experimentos/2024-06-23_NuevoScript/05_sell_in_pred_futuro.parquet\n",
      "./Experimentos/2024-06-23_NuevoScript/06_kaggle_pred.csv\n"
     ]
    }
   ],
   "source": [
    "for FILE in FILES:\n",
    "    for f in FILE:\n",
    "        print(f\"{FOLDER}{f}\")"
   ]
  },
  {
   "cell_type": "code",
   "execution_count": 29,
   "metadata": {},
   "outputs": [
    {
     "name": "stdout",
     "output_type": "stream",
     "text": [
      "------------------------------COMIENZA-----------------------------\n",
      "[./Experimentos/2024-06-23_NuevoScript//['01_sell_in_group.parquet', '01_prod_stats.parquet', '01_prod_data_group.parquet', '01_prod_data_ungroup.parquet', '01_stock_data.parquet']\n",
      "(15416, 3)\n",
      "(542, 11)\n",
      " ./Experimentos/2024-06-23_NuevoScript//['01_sell_in_group.parquet', '01_prod_stats.parquet', '01_prod_data_group.parquet', '01_prod_data_ungroup.parquet', '01_stock_data.parquet']\n",
      "------------------------------FINALIZA-----------------------------\n",
      "------------------------------COMIENZA-----------------------------\n",
      "[./Experimentos/2024-06-23_NuevoScript//['02_sell_in_norm.parquet']\n",
      " ./Experimentos/2024-06-23_NuevoScript//['02_sell_in_norm.parquet']\n",
      "------------------------------FINALIZA-----------------------------\n",
      "------------------------------COMIENZA-----------------------------\n",
      "[./Experimentos/2024-06-23_NuevoScript//['03_sell_in_lag.parquet']\n",
      "(542, 20)\n",
      "(542, 168)\n",
      " ./Experimentos/2024-06-23_NuevoScript//['03_sell_in_lag.parquet']\n",
      "------------------------------FINALIZA-----------------------------\n",
      "------------------------------COMIENZA-----------------------------\n",
      "[./Experimentos/2024-06-23_NuevoScript//['04_sell_in_train.parquet', '04_sell_in_test.parquet', '04_sell_in_futuro.parquet']\n",
      "(15416, 189)\n",
      "df_train: (14332, 181)\n",
      "df_test: (542, 181)\n",
      "df_futuro: (542, 181)\n",
      "Shape Train: (14332, 181) para los periodos desde 201701 hasta 201910\n",
      "Shape Test: (542, 181) para el periodo 201910\n",
      "Shape Futuro: (542, 181) para el periodo 201912\n",
      " ./Experimentos/2024-06-23_NuevoScript//['04_sell_in_train.parquet', '04_sell_in_test.parquet', '04_sell_in_futuro.parquet']\n",
      "------------------------------FINALIZA-----------------------------\n",
      "------------------------------COMIENZA-----------------------------\n",
      "[./Experimentos/2024-06-23_NuevoScript//['05_sell_in_pred.parquet', '05_sell_in_pred_futuro.parquet']\n",
      "df_train: (14332, 181)\n",
      "df_test: (542, 181)\n",
      "df_futuro: (542, 181)\n",
      "convertida yearquarter\n",
      "convertida cat1\n",
      "convertida cat2\n",
      "convertida cat3\n",
      "convertida brand\n",
      "convertida descripcion\n",
      "X_train: (14332, 180)\n",
      "X_test: (542, 180)\n",
      "X_futuro: (542, 180)\n",
      "y_train: (14332,)\n",
      "y_test: (542,)\n",
      "y_futuro: (542,)\n",
      "[LightGBM] [Info] Auto-choosing col-wise multi-threading, the overhead of testing was 0.032345 seconds.\n",
      "You can set `force_col_wise=true` to remove the overhead.\n",
      "[LightGBM] [Info] Total Bins 97588\n",
      "[LightGBM] [Info] Number of data points in the train set: 14332, number of used features: 174\n",
      "[LightGBM] [Info] Start training from score -0.058833\n",
      " ./Experimentos/2024-06-23_NuevoScript//['05_sell_in_pred.parquet', '05_sell_in_pred_futuro.parquet']\n",
      "------------------------------FINALIZA-----------------------------\n",
      "------------------------------COMIENZA-----------------------------\n",
      "[./Experimentos/2024-06-23_NuevoScript//['06_kaggle_pred.csv']\n",
      " ./Experimentos/2024-06-23_NuevoScript//['06_kaggle_pred.csv']\n",
      "------------------------------FINALIZA-----------------------------\n"
     ]
    }
   ],
   "source": [
    "%run 01_LecturaDatos.ipynb\n",
    "%run 02_normaliza.ipynb\n",
    "%run 03_features.ipynb\n",
    "%run 04_crear_train_set.ipynb\n",
    "%run 05_lightgbm.ipynb\n",
    "%run 06_evaluar_prediccion.ipynb"
   ]
  },
  {
   "cell_type": "code",
   "execution_count": 30,
   "metadata": {},
   "outputs": [],
   "source": [
    "# %run 01_LecturaDatos.ipynb\n",
    "# %run 02_normaliza.ipynb\n",
    "# %run 03_features.ipynb\n",
    "# %run 04_crear_train_set.ipynb\n",
    "# %run 05_lightgbm.ipynb\n",
    "# %run 06_evaluar_prediccion.ipynb"
   ]
  }
 ],
 "metadata": {
  "kernelspec": {
   "display_name": "uni",
   "language": "python",
   "name": "python3"
  },
  "language_info": {
   "codemirror_mode": {
    "name": "ipython",
    "version": 3
   },
   "file_extension": ".py",
   "mimetype": "text/x-python",
   "name": "python",
   "nbconvert_exporter": "python",
   "pygments_lexer": "ipython3",
   "version": "3.10.13"
  }
 },
 "nbformat": 4,
 "nbformat_minor": 2
}
