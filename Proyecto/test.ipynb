{
 "cells": [
  {
   "cell_type": "code",
   "execution_count": 93,
   "metadata": {},
   "outputs": [],
   "source": [
    "import numpy as np\n",
    "import pandas as pd"
   ]
  },
  {
   "cell_type": "code",
   "execution_count": 94,
   "metadata": {},
   "outputs": [],
   "source": [
    "series1 = pd.Series([1,4,5,10,9,3,2,6,8,4])\n",
    "series2 = pd.Series([1,7,3,4,1,10,5,4,7,4])"
   ]
  },
  {
   "cell_type": "code",
   "execution_count": 95,
   "metadata": {},
   "outputs": [],
   "source": [
    "def fill_dtw_cost_matrix(s1, s2):\n",
    "    l_s_1, l_s_2 = len(s1), len(s2)\n",
    "    \n",
    "    cost_matrix = np.zeros((l_s_1+1, l_s_2+1))\n",
    "\n",
    "    for i in range(l_s_1+1):\n",
    "        for j in range(l_s_2+1):\n",
    "            cost_matrix[i, j] = np.inf\n",
    "\n",
    "    cost_matrix[0, 0] = 0\n",
    "    \n",
    "    for i in range(1, l_s_1+1):\n",
    "        for j in range(1, l_s_2+1):\n",
    "            cost = abs(s1[i-1] - s2[j-1])\n",
    "            #take last min from the window\n",
    "            prev_min = np.min([cost_matrix[i-1, j], cost_matrix[i, j-1], cost_matrix[i-1, j-1]])\n",
    "            cost_matrix[i, j] = cost + prev_min\n",
    "\n",
    "    return cost_matrix"
   ]
  },
  {
   "cell_type": "code",
   "execution_count": 96,
   "metadata": {},
   "outputs": [],
   "source": [
    "dtw_cost_matrix = fill_dtw_cost_matrix(series1,series2)"
   ]
  },
  {
   "cell_type": "code",
   "execution_count": 97,
   "metadata": {},
   "outputs": [
    {
     "data": {
      "text/plain": [
       "array([[ 0., inf, inf, inf, inf, inf, inf, inf, inf, inf, inf],\n",
       "       [inf,  0.,  6.,  8., 11., 11., 20., 24., 27., 33., 36.],\n",
       "       [inf,  3.,  3.,  4.,  4.,  7., 13., 14., 14., 17., 17.],\n",
       "       [inf,  7.,  5.,  5.,  5.,  8., 12., 12., 13., 15., 16.],\n",
       "       [inf, 16.,  8., 12., 11., 14.,  8., 13., 18., 16., 21.],\n",
       "       [inf, 24., 10., 14., 16., 19.,  9., 12., 17., 18., 21.],\n",
       "       [inf, 26., 14., 10., 11., 13., 16., 11., 12., 16., 17.],\n",
       "       [inf, 27., 19., 11., 12., 12., 20., 14., 13., 17., 18.],\n",
       "       [inf, 32., 20., 14., 13., 17., 16., 15., 15., 14., 16.],\n",
       "       [inf, 39., 21., 19., 17., 20., 18., 18., 19., 15., 18.],\n",
       "       [inf, 42., 24., 20., 17., 20., 24., 19., 18., 18., 15.]])"
      ]
     },
     "execution_count": 97,
     "metadata": {},
     "output_type": "execute_result"
    }
   ],
   "source": [
    "dtw_cost_matrix"
   ]
  },
  {
   "cell_type": "code",
   "execution_count": 114,
   "metadata": {},
   "outputs": [],
   "source": [
    "def get_dtw_path(mat):\n",
    "\n",
    "    mat_path = np.full_like(mat, np.NaN)\n",
    "\n",
    "    i, j = mat.shape[0]-1, mat.shape[1]-1\n",
    "    curr_min = mat[i-1,j-1]\n",
    "    #print[curr_min]\n",
    "    #print[i,j]\n",
    "    out=0\n",
    "    mat_path[i, j] = mat[i, j]\n",
    "    while curr_min > 0:\n",
    "        out+=1\n",
    "        \n",
    "        if mat[i-1, j-1] <= mat[i, j]:\n",
    "            mat_path[i-1, j-1] = mat[i-1, j-1]\n",
    "            i -= 1\n",
    "            j -= 1\n",
    "            continue\n",
    "            #print('A')\n",
    "        if mat[i, j-1] <= mat[i, j]:\n",
    "            mat_path[i, j-1] = mat[i, j-1]\n",
    "            j -= 1\n",
    "            continue\n",
    "            #print('B')\n",
    "        if mat[i-1, j] <= mat[i, j]:\n",
    "            mat_path[i-1, j] = mat[i-1, j]\n",
    "            i -= 1\n",
    "            continue\n",
    "            #print('C')\n",
    "        \n",
    "        #print(curr_min)\n",
    "        #print(i,j)\n",
    "\n",
    "        if out > 30:\n",
    "            break\n",
    "\n",
    "    return mat_path"
   ]
  },
  {
   "cell_type": "code",
   "execution_count": 115,
   "metadata": {},
   "outputs": [
    {
     "data": {
      "text/plain": [
       "(array([[ 0., inf, inf, inf, inf, inf, inf, inf, inf, inf, inf],\n",
       "        [inf,  0.,  6.,  8., 11., 11., 20., 24., 27., 33., 36.],\n",
       "        [inf,  3.,  3.,  4.,  4.,  7., 13., 14., 14., 17., 17.],\n",
       "        [inf,  7.,  5.,  5.,  5.,  8., 12., 12., 13., 15., 16.],\n",
       "        [inf, 16.,  8., 12., 11., 14.,  8., 13., 18., 16., 21.],\n",
       "        [inf, 24., 10., 14., 16., 19.,  9., 12., 17., 18., 21.],\n",
       "        [inf, 26., 14., 10., 11., 13., 16., 11., 12., 16., 17.],\n",
       "        [inf, 27., 19., 11., 12., 12., 20., 14., 13., 17., 18.],\n",
       "        [inf, 32., 20., 14., 13., 17., 16., 15., 15., 14., 16.],\n",
       "        [inf, 39., 21., 19., 17., 20., 18., 18., 19., 15., 18.],\n",
       "        [inf, 42., 24., 20., 17., 20., 24., 19., 18., 18., 15.]]),\n",
       " array([[ 0., nan, nan, nan, nan, nan, nan, nan, nan, nan, nan],\n",
       "        [nan,  0., nan, nan, nan, nan, nan, nan, nan, nan, nan],\n",
       "        [nan, nan,  3.,  4.,  4., nan, nan, nan, nan, nan, nan],\n",
       "        [nan, nan, nan, nan, nan,  8., nan, nan, nan, nan, nan],\n",
       "        [nan, nan, nan, nan, nan, nan,  8., nan, nan, nan, nan],\n",
       "        [nan, nan, nan, nan, nan, nan,  9., nan, nan, nan, nan],\n",
       "        [nan, nan, nan, nan, nan, nan, nan, 11., nan, nan, nan],\n",
       "        [nan, nan, nan, nan, nan, nan, nan, 14., nan, nan, nan],\n",
       "        [nan, nan, nan, nan, nan, nan, nan, nan, 15., nan, nan],\n",
       "        [nan, nan, nan, nan, nan, nan, nan, nan, nan, 15., nan],\n",
       "        [nan, nan, nan, nan, nan, nan, nan, nan, nan, nan, 15.]]))"
      ]
     },
     "execution_count": 115,
     "metadata": {},
     "output_type": "execute_result"
    }
   ],
   "source": [
    "path = get_dtw_path(dtw_cost_matrix)\n",
    "dtw_cost_matrix, path"
   ]
  },
  {
   "cell_type": "code",
   "execution_count": 116,
   "metadata": {},
   "outputs": [
    {
     "name": "stdout",
     "output_type": "stream",
     "text": [
      "Pasos: 13\n",
      "Suma: 106.0\n",
      "Distancia: 8.154\n"
     ]
    }
   ],
   "source": [
    "path_count = np.count_nonzero(~np.isnan(path))\n",
    "path_sum = np.nansum(path)\n",
    "distance = path_sum / path_count\n",
    "\n",
    "print(f\"Pasos: {path_count}\\nSuma: {path_sum}\\nDistancia: {distance:.3f}\")"
   ]
  },
  {
   "cell_type": "code",
   "execution_count": 117,
   "metadata": {},
   "outputs": [
    {
     "name": "stdout",
     "output_type": "stream",
     "text": [
      "15.0 [(0, 0), (1, 1), (1, 2), (1, 3), (2, 4), (3, 5), (4, 5), (5, 6), (6, 7), (7, 8), (8, 8), (9, 9)] 1.25\n"
     ]
    }
   ],
   "source": [
    "import numpy as np\n",
    "from scipy.spatial.distance import euclidean\n",
    "\n",
    "from fastdtw import fastdtw\n",
    "\n",
    "s1 = np.array(series1).reshape(-1, 1)\n",
    "s2 = np.array(series2).reshape(-1, 1)\n",
    "\n",
    "distance, path = fastdtw(s1, s2, dist=euclidean)\n",
    "print(distance, path, distance / len(path))"
   ]
  },
  {
   "cell_type": "code",
   "execution_count": 118,
   "metadata": {},
   "outputs": [
    {
     "data": {
      "text/plain": [
       "(10, 1)"
      ]
     },
     "execution_count": 118,
     "metadata": {},
     "output_type": "execute_result"
    }
   ],
   "source": [
    "s1.shape"
   ]
  },
  {
   "cell_type": "code",
   "execution_count": null,
   "metadata": {},
   "outputs": [],
   "source": []
  }
 ],
 "metadata": {
  "kernelspec": {
   "display_name": "uni",
   "language": "python",
   "name": "python3"
  },
  "language_info": {
   "codemirror_mode": {
    "name": "ipython",
    "version": 3
   },
   "file_extension": ".py",
   "mimetype": "text/x-python",
   "name": "python",
   "nbconvert_exporter": "python",
   "pygments_lexer": "ipython3",
   "version": "3.10.13"
  }
 },
 "nbformat": 4,
 "nbformat_minor": 2
}
