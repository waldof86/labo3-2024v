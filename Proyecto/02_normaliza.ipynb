{
 "cells": [
  {
   "cell_type": "code",
   "execution_count": 11,
   "metadata": {},
   "outputs": [],
   "source": [
    "import pandas as pd\n",
    "from datetime import datetime\n",
    "import os"
   ]
  },
  {
   "cell_type": "code",
   "execution_count": null,
   "metadata": {},
   "outputs": [
    {
     "name": "stdout",
     "output_type": "stream",
     "text": [
      "------------------------------COMIENZA-----------------------------\n",
      "[DefaultFolder/['01_sell_in_group.parquet', '01_prod_stats.parquet', '01_prod_data.parquet', '01_stock_data.parquet']\n"
     ]
    }
   ],
   "source": [
    "try:\n",
    "    FILES\n",
    "    FILE = FILES[1]\n",
    "    FOLDER\n",
    "except NameError:\n",
    "    FILE = ['02_sell_in_norm.parquet']\n",
    "    FOLDER = 'DefaultFolder'\n",
    "\n",
    "    \n",
    "print(f\"------------------------------COMIENZA-----------------------------\\n[{FOLDER}/{FILE}\")"
   ]
  },
  {
   "cell_type": "code",
   "execution_count": 16,
   "metadata": {},
   "outputs": [],
   "source": [
    "#df = pd.read_parquet(f\"sell_in_group.parquet\")\n",
    "#prod_stats = pd.read_parquet('prod_stats.parquet')\n",
    "\n",
    "df = pd.read_parquet(f\"{FOLDER}/{FILES[0][0]}\")\n",
    "prod_stats = pd.read_parquet(f'{FOLDER}/{FILES[0][1]}')"
   ]
  },
  {
   "cell_type": "code",
   "execution_count": 3,
   "metadata": {},
   "outputs": [
    {
     "data": {
      "text/html": [
       "<div>\n",
       "<style scoped>\n",
       "    .dataframe tbody tr th:only-of-type {\n",
       "        vertical-align: middle;\n",
       "    }\n",
       "\n",
       "    .dataframe tbody tr th {\n",
       "        vertical-align: top;\n",
       "    }\n",
       "\n",
       "    .dataframe thead th {\n",
       "        text-align: right;\n",
       "    }\n",
       "</style>\n",
       "<table border=\"1\" class=\"dataframe\">\n",
       "  <thead>\n",
       "    <tr style=\"text-align: right;\">\n",
       "      <th></th>\n",
       "      <th>product_id</th>\n",
       "      <th>periodo</th>\n",
       "      <th>tn</th>\n",
       "      <th>primer_periodo</th>\n",
       "      <th>ultimo_periodo</th>\n",
       "      <th>values</th>\n",
       "      <th>total_tn</th>\n",
       "      <th>min_tn</th>\n",
       "      <th>average_tn</th>\n",
       "      <th>median_tn</th>\n",
       "      <th>std_dev_tn</th>\n",
       "      <th>iqr_tn</th>\n",
       "      <th>max_tn</th>\n",
       "    </tr>\n",
       "  </thead>\n",
       "  <tbody>\n",
       "    <tr>\n",
       "      <th>0</th>\n",
       "      <td>20001</td>\n",
       "      <td>201701</td>\n",
       "      <td>934.77222</td>\n",
       "      <td>2017-01-01</td>\n",
       "      <td>2019-12-01</td>\n",
       "      <td>36.0</td>\n",
       "      <td>50340.39558</td>\n",
       "      <td>798.0162</td>\n",
       "      <td>1398.344322</td>\n",
       "      <td>1418.02343</td>\n",
       "      <td>298.14546</td>\n",
       "      <td>335.515348</td>\n",
       "      <td>2295.19832</td>\n",
       "    </tr>\n",
       "    <tr>\n",
       "      <th>1</th>\n",
       "      <td>20001</td>\n",
       "      <td>201702</td>\n",
       "      <td>798.01620</td>\n",
       "      <td>2017-01-01</td>\n",
       "      <td>2019-12-01</td>\n",
       "      <td>36.0</td>\n",
       "      <td>50340.39558</td>\n",
       "      <td>798.0162</td>\n",
       "      <td>1398.344322</td>\n",
       "      <td>1418.02343</td>\n",
       "      <td>298.14546</td>\n",
       "      <td>335.515348</td>\n",
       "      <td>2295.19832</td>\n",
       "    </tr>\n",
       "    <tr>\n",
       "      <th>2</th>\n",
       "      <td>20001</td>\n",
       "      <td>201703</td>\n",
       "      <td>1303.35771</td>\n",
       "      <td>2017-01-01</td>\n",
       "      <td>2019-12-01</td>\n",
       "      <td>36.0</td>\n",
       "      <td>50340.39558</td>\n",
       "      <td>798.0162</td>\n",
       "      <td>1398.344322</td>\n",
       "      <td>1418.02343</td>\n",
       "      <td>298.14546</td>\n",
       "      <td>335.515348</td>\n",
       "      <td>2295.19832</td>\n",
       "    </tr>\n",
       "    <tr>\n",
       "      <th>3</th>\n",
       "      <td>20001</td>\n",
       "      <td>201704</td>\n",
       "      <td>1069.96130</td>\n",
       "      <td>2017-01-01</td>\n",
       "      <td>2019-12-01</td>\n",
       "      <td>36.0</td>\n",
       "      <td>50340.39558</td>\n",
       "      <td>798.0162</td>\n",
       "      <td>1398.344322</td>\n",
       "      <td>1418.02343</td>\n",
       "      <td>298.14546</td>\n",
       "      <td>335.515348</td>\n",
       "      <td>2295.19832</td>\n",
       "    </tr>\n",
       "    <tr>\n",
       "      <th>4</th>\n",
       "      <td>20001</td>\n",
       "      <td>201705</td>\n",
       "      <td>1502.20132</td>\n",
       "      <td>2017-01-01</td>\n",
       "      <td>2019-12-01</td>\n",
       "      <td>36.0</td>\n",
       "      <td>50340.39558</td>\n",
       "      <td>798.0162</td>\n",
       "      <td>1398.344322</td>\n",
       "      <td>1418.02343</td>\n",
       "      <td>298.14546</td>\n",
       "      <td>335.515348</td>\n",
       "      <td>2295.19832</td>\n",
       "    </tr>\n",
       "  </tbody>\n",
       "</table>\n",
       "</div>"
      ],
      "text/plain": [
       "   product_id  periodo          tn primer_periodo ultimo_periodo  values  \\\n",
       "0       20001   201701   934.77222     2017-01-01     2019-12-01    36.0   \n",
       "1       20001   201702   798.01620     2017-01-01     2019-12-01    36.0   \n",
       "2       20001   201703  1303.35771     2017-01-01     2019-12-01    36.0   \n",
       "3       20001   201704  1069.96130     2017-01-01     2019-12-01    36.0   \n",
       "4       20001   201705  1502.20132     2017-01-01     2019-12-01    36.0   \n",
       "\n",
       "      total_tn    min_tn   average_tn   median_tn  std_dev_tn      iqr_tn  \\\n",
       "0  50340.39558  798.0162  1398.344322  1418.02343   298.14546  335.515348   \n",
       "1  50340.39558  798.0162  1398.344322  1418.02343   298.14546  335.515348   \n",
       "2  50340.39558  798.0162  1398.344322  1418.02343   298.14546  335.515348   \n",
       "3  50340.39558  798.0162  1398.344322  1418.02343   298.14546  335.515348   \n",
       "4  50340.39558  798.0162  1398.344322  1418.02343   298.14546  335.515348   \n",
       "\n",
       "       max_tn  \n",
       "0  2295.19832  \n",
       "1  2295.19832  \n",
       "2  2295.19832  \n",
       "3  2295.19832  \n",
       "4  2295.19832  "
      ]
     },
     "execution_count": 3,
     "metadata": {},
     "output_type": "execute_result"
    }
   ],
   "source": [
    "df_norm = df.merge(prod_stats, how='left', on='product_id')\n",
    "df_norm.head()"
   ]
  },
  {
   "cell_type": "code",
   "execution_count": 4,
   "metadata": {},
   "outputs": [],
   "source": [
    "df_norm['tn_norm'] = (df_norm['tn'] - df_norm['average_tn']) / df_norm['std_dev_tn']"
   ]
  },
  {
   "cell_type": "code",
   "execution_count": 5,
   "metadata": {},
   "outputs": [
    {
     "data": {
      "text/html": [
       "<div>\n",
       "<style scoped>\n",
       "    .dataframe tbody tr th:only-of-type {\n",
       "        vertical-align: middle;\n",
       "    }\n",
       "\n",
       "    .dataframe tbody tr th {\n",
       "        vertical-align: top;\n",
       "    }\n",
       "\n",
       "    .dataframe thead th {\n",
       "        text-align: right;\n",
       "    }\n",
       "</style>\n",
       "<table border=\"1\" class=\"dataframe\">\n",
       "  <thead>\n",
       "    <tr style=\"text-align: right;\">\n",
       "      <th></th>\n",
       "      <th>product_id</th>\n",
       "      <th>periodo</th>\n",
       "      <th>tn_norm</th>\n",
       "    </tr>\n",
       "  </thead>\n",
       "  <tbody>\n",
       "    <tr>\n",
       "      <th>0</th>\n",
       "      <td>20001</td>\n",
       "      <td>201701</td>\n",
       "      <td>-1.554852</td>\n",
       "    </tr>\n",
       "    <tr>\n",
       "      <th>1</th>\n",
       "      <td>20001</td>\n",
       "      <td>201702</td>\n",
       "      <td>-2.013541</td>\n",
       "    </tr>\n",
       "    <tr>\n",
       "      <th>2</th>\n",
       "      <td>20001</td>\n",
       "      <td>201703</td>\n",
       "      <td>-0.318592</td>\n",
       "    </tr>\n",
       "    <tr>\n",
       "      <th>3</th>\n",
       "      <td>20001</td>\n",
       "      <td>201704</td>\n",
       "      <td>-1.101419</td>\n",
       "    </tr>\n",
       "    <tr>\n",
       "      <th>4</th>\n",
       "      <td>20001</td>\n",
       "      <td>201705</td>\n",
       "      <td>0.348343</td>\n",
       "    </tr>\n",
       "    <tr>\n",
       "      <th>...</th>\n",
       "      <td>...</td>\n",
       "      <td>...</td>\n",
       "      <td>...</td>\n",
       "    </tr>\n",
       "    <tr>\n",
       "      <th>22344</th>\n",
       "      <td>21276</td>\n",
       "      <td>201908</td>\n",
       "      <td>-0.751911</td>\n",
       "    </tr>\n",
       "    <tr>\n",
       "      <th>22345</th>\n",
       "      <td>21276</td>\n",
       "      <td>201909</td>\n",
       "      <td>-0.616417</td>\n",
       "    </tr>\n",
       "    <tr>\n",
       "      <th>22346</th>\n",
       "      <td>21276</td>\n",
       "      <td>201910</td>\n",
       "      <td>-0.565291</td>\n",
       "    </tr>\n",
       "    <tr>\n",
       "      <th>22347</th>\n",
       "      <td>21276</td>\n",
       "      <td>201911</td>\n",
       "      <td>-0.275963</td>\n",
       "    </tr>\n",
       "    <tr>\n",
       "      <th>22348</th>\n",
       "      <td>21276</td>\n",
       "      <td>201912</td>\n",
       "      <td>-0.837426</td>\n",
       "    </tr>\n",
       "  </tbody>\n",
       "</table>\n",
       "<p>22349 rows × 3 columns</p>\n",
       "</div>"
      ],
      "text/plain": [
       "       product_id  periodo   tn_norm\n",
       "0           20001   201701 -1.554852\n",
       "1           20001   201702 -2.013541\n",
       "2           20001   201703 -0.318592\n",
       "3           20001   201704 -1.101419\n",
       "4           20001   201705  0.348343\n",
       "...           ...      ...       ...\n",
       "22344       21276   201908 -0.751911\n",
       "22345       21276   201909 -0.616417\n",
       "22346       21276   201910 -0.565291\n",
       "22347       21276   201911 -0.275963\n",
       "22348       21276   201912 -0.837426\n",
       "\n",
       "[22349 rows x 3 columns]"
      ]
     },
     "execution_count": 5,
     "metadata": {},
     "output_type": "execute_result"
    }
   ],
   "source": [
    "df_norm[['product_id', 'periodo','tn_norm']]"
   ]
  },
  {
   "cell_type": "code",
   "execution_count": 6,
   "metadata": {},
   "outputs": [],
   "source": [
    "df_norm.to_parquet(f'{FOLDER}/{FILE[0]}', index=False)"
   ]
  },
  {
   "cell_type": "code",
   "execution_count": 7,
   "metadata": {},
   "outputs": [
    {
     "data": {
      "text/plain": [
       "(780, 14)"
      ]
     },
     "execution_count": 7,
     "metadata": {},
     "output_type": "execute_result"
    }
   ],
   "source": [
    "df_norm[df_norm['periodo'] == 201912].shape"
   ]
  },
  {
   "cell_type": "code",
   "execution_count": null,
   "metadata": {},
   "outputs": [
    {
     "name": "stdout",
     "output_type": "stream",
     "text": [
      "Notebook 1 terminado\n"
     ]
    }
   ],
   "source": [
    "#estado_control = f\"02_normaliza Terminado - {nombrefile} - {datetime.now()}\""
   ]
  },
  {
   "cell_type": "code",
   "execution_count": null,
   "metadata": {},
   "outputs": [
    {
     "name": "stdout",
     "output_type": "stream",
     "text": [
      " Prueba__01\n",
      "------------------------------FINALIZA-----------------------------\n"
     ]
    }
   ],
   "source": [
    "print(f\" {FOLDER}/{FILE}\\n------------------------------FINALIZA-----------------------------\")"
   ]
  }
 ],
 "metadata": {
  "kernelspec": {
   "display_name": "uni",
   "language": "python",
   "name": "python3"
  },
  "language_info": {
   "codemirror_mode": {
    "name": "ipython",
    "version": 3
   },
   "file_extension": ".py",
   "mimetype": "text/x-python",
   "name": "python",
   "nbconvert_exporter": "python",
   "pygments_lexer": "ipython3",
   "version": "3.10.13"
  }
 },
 "nbformat": 4,
 "nbformat_minor": 2
}
