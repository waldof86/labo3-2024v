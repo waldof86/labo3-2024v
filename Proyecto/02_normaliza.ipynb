{
 "cells": [
  {
   "cell_type": "code",
   "execution_count": 128,
   "metadata": {},
   "outputs": [],
   "source": [
    "#import pandas as pd\n",
    "import polars as pl\n",
    "import numpy as np\n",
    "from datetime import datetime\n",
    "import json\n",
    "import os\n",
    "import math\n",
    "import pandas as pd\n",
    "from sklearn.preprocessing import PowerTransformer, StandardScaler, RobustScaler\n",
    "import time\n",
    "\n",
    "import warnings\n",
    "\n",
    "import pandas as pd\n",
    "import matplotlib.pyplot as plt\n",
    "\n",
    "warnings.filterwarnings('ignore')\n",
    "\n",
    "fase = '02_normaliza'"
   ]
  },
  {
   "cell_type": "code",
   "execution_count": 129,
   "metadata": {},
   "outputs": [],
   "source": [
    "with open('gen_config.json', 'r') as file:\n",
    "    gen_config =json.load(file)"
   ]
  },
  {
   "cell_type": "code",
   "execution_count": 130,
   "metadata": {},
   "outputs": [
    {
     "name": "stdout",
     "output_type": "stream",
     "text": [
      "----------------------------------------------COMIENZA----------------------------------------------\n",
      "--------------------------------------------02_normaliza--------------------------------------------\n"
     ]
    }
   ],
   "source": [
    "folder = gen_config['folder']\n",
    "\n",
    "#entradas\n",
    "path_group = gen_config['path_group']\n",
    "path_prod_stats = gen_config['path_prod_stats']\n",
    "\n",
    "#salidas\n",
    "path_norm = gen_config['path_norm']\n",
    "#path_transform_stats = gen_config['path_transform_stats']\n",
    "\n",
    "#variables\n",
    "var_escalado = gen_config['var_escalado']\n",
    "var_withmean = gen_config['var_withmean']\n",
    "\n",
    "print(f\"{'COMIENZA':-^100}\")\n",
    "print(f\"{fase:-^100}\")"
   ]
  },
  {
   "cell_type": "code",
   "execution_count": 131,
   "metadata": {},
   "outputs": [],
   "source": [
    "df_norm = pl.read_parquet(f\"{folder}/{path_group}\")\n",
    "prod_stats = pl.read_parquet(f'{folder}/{path_prod_stats}')"
   ]
  },
  {
   "cell_type": "code",
   "execution_count": 132,
   "metadata": {},
   "outputs": [],
   "source": [
    "df_norm = df_norm.to_pandas()\n",
    "prod_stats = prod_stats.to_pandas()"
   ]
  },
  {
   "cell_type": "code",
   "execution_count": 133,
   "metadata": {},
   "outputs": [],
   "source": [
    "grouped = df_norm.groupby(['product_id', 'customer_id'])"
   ]
  },
  {
   "cell_type": "markdown",
   "metadata": {},
   "source": [
    "# Standard Scaler"
   ]
  },
  {
   "cell_type": "code",
   "execution_count": 60,
   "metadata": {},
   "outputs": [],
   "source": [
    "def scale_standard(group):\n",
    "    scaler = StandardScaler(with_mean=var_withmean)\n",
    "    group['tn_standard'] = scaler.fit_transform(group[['tn']])\n",
    "    # Store the scaler in a dictionary with a tuple key\n",
    "    standard_scalers[(group['product_id'].iloc[0], group['customer_id'].iloc[0])] = scaler\n",
    "    return group"
   ]
  },
  {
   "cell_type": "code",
   "execution_count": 16,
   "metadata": {},
   "outputs": [],
   "source": [
    "standard_scalers = {}\n",
    "df_standard = grouped.apply(scale_standard)\n",
    "df_standard = df_standard.reset_index(drop=True)"
   ]
  },
  {
   "cell_type": "code",
   "execution_count": 17,
   "metadata": {},
   "outputs": [],
   "source": [
    "scaler_data = []\n",
    "for (product_id, client_id), scaler in standard_scalers.items():\n",
    "    scaler_data.append({\n",
    "        'product_id': product_id,\n",
    "        'customer_id': client_id,\n",
    "        'standard_scaler_mean': scaler.mean_[0],\n",
    "        'standard_scaler_scale': scaler.scale_[0]\n",
    "    })\n",
    "\n",
    "scalers_standard_stats = pd.DataFrame(scaler_data)"
   ]
  },
  {
   "cell_type": "markdown",
   "metadata": {},
   "source": [
    "# Robust Scaler"
   ]
  },
  {
   "cell_type": "code",
   "execution_count": 61,
   "metadata": {},
   "outputs": [],
   "source": [
    "def scale_robust(group):\n",
    "    scaler = RobustScaler(with_centering=var_withmean)\n",
    "    group['tn_robust'] = scaler.fit_transform(group[['tn']])\n",
    "    # Store the scaler in a dictionary with a tuple key\n",
    "    robust_scalers[(group['product_id'].iloc[0], group['customer_id'].iloc[0])] = scaler\n",
    "    return group"
   ]
  },
  {
   "cell_type": "code",
   "execution_count": 19,
   "metadata": {},
   "outputs": [],
   "source": [
    "robust_scalers = {}\n",
    "df_robust = grouped.apply(scale_robust)\n",
    "df_robust = df_robust.reset_index(drop=True)"
   ]
  },
  {
   "cell_type": "code",
   "execution_count": 20,
   "metadata": {},
   "outputs": [],
   "source": [
    "scaler_data = []\n",
    "for (product_id, client_id), scaler in robust_scalers.items():\n",
    "    if var_withmean:\n",
    "        scaler_data.append({\n",
    "            'product_id': product_id,\n",
    "            'customer_id': client_id,\n",
    "            'robust_scaler_center': scaler.center_[0],\n",
    "            'robust_scaler_scale': scaler.scale_[0]\n",
    "        })\n",
    "    else:\n",
    "        scaler_data.append({\n",
    "            'product_id': product_id,\n",
    "            'customer_id': client_id,\n",
    "            'robust_scaler_scale': scaler.scale_[0]\n",
    "        })\n",
    "\n",
    "scalers_robust_stats = pd.DataFrame(scaler_data)"
   ]
  },
  {
   "cell_type": "markdown",
   "metadata": {},
   "source": [
    "# DF finales"
   ]
  },
  {
   "cell_type": "code",
   "execution_count": 134,
   "metadata": {},
   "outputs": [],
   "source": [
    "df_norm = df_norm.merge(df_standard[['product_id', 'customer_id', 'periodo', 'tn_standard']], on=['product_id', 'customer_id', 'periodo'], how='left', suffixes=('', ''))\n",
    "df_norm = df_norm.merge(  df_robust[['product_id', 'customer_id', 'periodo', 'tn_robust'  ]], on=['product_id', 'customer_id', 'periodo'], how='left', suffixes=('', ''))\n",
    "df_norm['tn_norm'] = df_norm[var_escalado]\n",
    "df_norm = pl.from_pandas(df_norm)"
   ]
  },
  {
   "cell_type": "code",
   "execution_count": 135,
   "metadata": {},
   "outputs": [],
   "source": [
    "transform_stats = scalers_standard_stats.merge(scalers_robust_stats, on=['product_id', 'customer_id'], how='left', suffixes=('', ''))\n",
    "prod_stats = prod_stats.merge(transform_stats, on=['product_id', 'customer_id'], how='left', suffixes=('', ''))\n",
    "prod_stats.drop(columns=['total_tn_right'], inplace=True)\n",
    "prod_stats = pl.from_pandas(prod_stats)"
   ]
  },
  {
   "cell_type": "code",
   "execution_count": 148,
   "metadata": {},
   "outputs": [],
   "source": [
    "#df_norm.filter((df_norm['product_id'] == 21097) & (df_norm['customer_id'] == 10052))\n",
    "\n",
    "if var_escalado == 'tn_trans':\n",
    "    df_norm = df_norm.with_columns(\n",
    "        pl.lit('tn_standard').alias('metodo_escalado')\n",
    "    )\n",
    "else:\n",
    "    df_norm = df_norm.with_columns([\n",
    "        pl.when(pl.col(\"tn_robust\") < 10)\n",
    "        .then(pl.col(\"tn_robust\"))\n",
    "        .otherwise(pl.col(\"tn_standard\"))\n",
    "        .alias(\"new_tn_column\"),\n",
    "\n",
    "        pl.when(pl.col(\"tn_robust\") < 10)\n",
    "        .then(pl.lit(\"tn_robust\"))\n",
    "        .otherwise(pl.lit('tn_standard'))\n",
    "        .alias(\"metodo_escalado\")\n",
    "        ])\n",
    "\n",
    "df_norm = df_norm.with_columns(\n",
    "    pl.col('metodo_escalado').cast(pl.Categorical)\n",
    ")\n"
   ]
  },
  {
   "cell_type": "code",
   "execution_count": 149,
   "metadata": {},
   "outputs": [],
   "source": [
    "# grouped = df_scaled.groupby(['product_id', 'customer_id'])\n",
    "# df_unscaled = grouped.apply(inverse_scale_sales)\n",
    "# df_unscaled = df_unscaled.reset_index(drop=True)\n",
    "\n",
    "# df_unscaled"
   ]
  },
  {
   "cell_type": "code",
   "execution_count": 150,
   "metadata": {},
   "outputs": [],
   "source": [
    "# def inverse_scale_standard(group):\n",
    "#     scaler = standard_scalers[(group['product_id'].iloc[0], group['customer_id'].iloc[0])]\n",
    "#     group['tn_inverse'] = scaler.inverse_transform(group[['tn_standard']])\n",
    "#     return group"
   ]
  },
  {
   "cell_type": "code",
   "execution_count": 151,
   "metadata": {},
   "outputs": [],
   "source": [
    "# def inverse_scale_robust(group):\n",
    "#     scaler = robust_scalers[(group['product_id'].iloc[0], group['customer_id'].iloc[0])]\n",
    "#     group['tn_inverse'] = scaler.inverse_transform(group[['tn_standard']])\n",
    "#     return group"
   ]
  },
  {
   "cell_type": "code",
   "execution_count": 152,
   "metadata": {},
   "outputs": [],
   "source": [
    "# def create_scaler_from_row(row):\n",
    "#     scaler = StandardScaler(with_mean=var_withmean)\n",
    "#     scaler.mean_ = [row['scaler_mean']]\n",
    "#     scaler.scale_ = [row['scaler_scale']]\n",
    "#     scaler.var_ = [row['scaler_scale']**2]\n",
    "#     return scaler"
   ]
  },
  {
   "cell_type": "code",
   "execution_count": 153,
   "metadata": {},
   "outputs": [
    {
     "name": "stdout",
     "output_type": "stream",
     "text": [
      "\n",
      "Datos con inf en tn_standard: 0.0\n",
      "Datos con -inf en tn_standard: 0.0\n",
      "Datos con NaN en tn_standard: 0.0\n",
      "Datos con inf en tn_robust: 0.0\n",
      "Datos con -inf en tn_robust: 0.0\n",
      "Datos con NaN en tn_robust: 0.0\n",
      "\n",
      "shape: (9, 10)\n",
      "┌───────────┬───────────┬───────────┬───────────┬───┬───────────┬───────────┬───────────┬──────────┐\n",
      "│ statistic ┆ product_i ┆ customer_ ┆ periodo   ┆ … ┆ tn_robust ┆ tn_norm   ┆ new_tn_co ┆ metodo_e │\n",
      "│ ---       ┆ d         ┆ id        ┆ ---       ┆   ┆ ---       ┆ ---       ┆ lumn      ┆ scalado  │\n",
      "│ str       ┆ ---       ┆ ---       ┆ f64       ┆   ┆ f64       ┆ f64       ┆ ---       ┆ ---      │\n",
      "│           ┆ f64       ┆ f64       ┆           ┆   ┆           ┆           ┆ f64       ┆ str      │\n",
      "╞═══════════╪═══════════╪═══════════╪═══════════╪═══╪═══════════╪═══════════╪═══════════╪══════════╡\n",
      "│ count     ┆ 5.303555e ┆ 5.303555e ┆ 5.303555e ┆ … ┆ 5.303555e ┆ 5.303555e ┆ 5.303555e ┆ 5303555  │\n",
      "│           ┆ 6         ┆ 6         ┆ 6         ┆   ┆ 6         ┆ 6         ┆ 6         ┆          │\n",
      "│ null_coun ┆ 0.0       ┆ 0.0       ┆ 0.0       ┆ … ┆ 0.0       ┆ 0.0       ┆ 0.0       ┆ 0        │\n",
      "│ t         ┆           ┆           ┆           ┆   ┆           ┆           ┆           ┆          │\n",
      "│ mean      ┆ 20401.247 ┆ 10207.011 ┆ 201815.63 ┆ … ┆ 0.663301  ┆ 0.620724  ┆ 0.504961  ┆ null     │\n",
      "│           ┆ 467       ┆ 761       ┆ 5073      ┆   ┆           ┆           ┆           ┆          │\n",
      "│ std       ┆ 304.78909 ┆ 144.84256 ┆ 81.645467 ┆ … ┆ 26.166973 ┆ 1.047512  ┆ 1.05747   ┆ null     │\n",
      "│ min       ┆ 20001.0   ┆ 10001.0   ┆ 201701.0  ┆ … ┆ 0.0       ┆ 0.0       ┆ 0.0       ┆ null     │\n",
      "│ 25%       ┆ 20142.0   ┆ 10083.0   ┆ 201711.0  ┆ … ┆ 0.0       ┆ 0.0       ┆ 0.0       ┆ null     │\n",
      "│ 50%       ┆ 20329.0   ┆ 10183.0   ┆ 201808.0  ┆ … ┆ 0.0       ┆ 0.0       ┆ 0.0       ┆ null     │\n",
      "│ 75%       ┆ 20624.0   ┆ 10315.0   ┆ 201905.0  ┆ … ┆ 0.71107   ┆ 1.014555  ┆ 0.708967  ┆ null     │\n",
      "│ max       ┆ 21276.0   ┆ 10618.0   ┆ 201912.0  ┆ … ┆ 43663.0   ┆ 7.568138  ┆ 10.0      ┆ null     │\n",
      "└───────────┴───────────┴───────────┴───────────┴───┴───────────┴───────────┴───────────┴──────────┘\n",
      "shape: (100, 9)\n",
      "┌────────────┬────────────┬─────────┬──────────┬───┬────────────┬──────────┬───────────┬───────────┐\n",
      "│ product_id ┆ customer_i ┆ periodo ┆ tn       ┆ … ┆ tn_robust  ┆ tn_norm  ┆ new_tn_co ┆ metodo_es │\n",
      "│ ---        ┆ d          ┆ ---     ┆ ---      ┆   ┆ ---        ┆ ---      ┆ lumn      ┆ calado    │\n",
      "│ i64        ┆ ---        ┆ i64     ┆ f64      ┆   ┆ f64        ┆ f64      ┆ ---       ┆ ---       │\n",
      "│            ┆ i64        ┆         ┆          ┆   ┆            ┆          ┆ f64       ┆ cat       │\n",
      "╞════════════╪════════════╪═════════╪══════════╪═══╪════════════╪══════════╪═══════════╪═══════════╡\n",
      "│ 21097      ┆ 10052      ┆ 201910  ┆ 0.43663  ┆ … ┆ 43663.0    ┆ 3.159    ┆ 3.159     ┆ tn_standa │\n",
      "│            ┆            ┆         ┆          ┆   ┆            ┆          ┆           ┆ rd        │\n",
      "│ 21097      ┆ 10052      ┆ 201908  ┆ 0.23116  ┆ … ┆ 23116.0    ┆ 1.672433 ┆ 1.672433  ┆ tn_standa │\n",
      "│            ┆            ┆         ┆          ┆   ┆            ┆          ┆           ┆ rd        │\n",
      "│ 21097      ┆ 10052      ┆ 201912  ┆ 0.23116  ┆ … ┆ 23116.0    ┆ 1.672433 ┆ 1.672433  ┆ tn_standa │\n",
      "│            ┆            ┆         ┆          ┆   ┆            ┆          ┆           ┆ rd        │\n",
      "│ 21097      ┆ 10052      ┆ 201911  ┆ 0.23115  ┆ … ┆ 23115.0    ┆ 1.672361 ┆ 1.672361  ┆ tn_standa │\n",
      "│            ┆            ┆         ┆          ┆   ┆            ┆          ┆           ┆ rd        │\n",
      "│ 20316      ┆ 10035      ┆ 201709  ┆ 0.90123  ┆ … ┆ 3678.48979 ┆ 5.771968 ┆ 5.771968  ┆ tn_standa │\n",
      "│            ┆            ┆         ┆          ┆   ┆ 6          ┆          ┆           ┆ rd        │\n",
      "│ 20022      ┆ 10122      ┆ 201710  ┆ 9.62707  ┆ … ┆ 2204.25186 ┆ 5.304489 ┆ 5.304489  ┆ tn_standa │\n",
      "│            ┆            ┆         ┆          ┆   ┆            ┆          ┆           ┆ rd        │\n",
      "│ 20549      ┆ 10064      ┆ 201706  ┆ 6.03707  ┆ … ┆ 2067.48972 ┆ 5.978049 ┆ 5.978049  ┆ tn_standa │\n",
      "│            ┆            ┆         ┆          ┆   ┆ 6          ┆          ┆           ┆ rd        │\n",
      "│ 21218      ┆ 10013      ┆ 201705  ┆ 0.15106  ┆ … ┆ 1678.44444 ┆ 6.098734 ┆ 6.098734  ┆ tn_standa │\n",
      "│            ┆            ┆         ┆          ┆   ┆ 4          ┆          ┆           ┆ rd        │\n",
      "│ 20233      ┆ 10063      ┆ 201905  ┆ 1.32915  ┆ … ┆ 1568.31858 ┆ 4.921393 ┆ 4.921393  ┆ tn_standa │\n",
      "│            ┆            ┆         ┆          ┆   ┆ 4          ┆          ┆           ┆ rd        │\n",
      "│ 20148      ┆ 10063      ┆ 201912  ┆ 1.32914  ┆ … ┆ 1568.30678 ┆ 4.898455 ┆ 4.898455  ┆ tn_standa │\n",
      "│            ┆            ┆         ┆          ┆   ┆ 5          ┆          ┆           ┆ rd        │\n",
      "│ 20122      ┆ 10284      ┆ 201710  ┆ 0.37682  ┆ … ┆ 1553.89690 ┆ 6.022331 ┆ 6.022331  ┆ tn_standa │\n",
      "│            ┆            ┆         ┆          ┆   ┆ 7          ┆          ┆           ┆ rd        │\n",
      "│ 20849      ┆ 10035      ┆ 201803  ┆ 0.21534  ┆ … ┆ 1345.875   ┆ 5.581197 ┆ 5.581197  ┆ tn_standa │\n",
      "│            ┆            ┆         ┆          ┆   ┆            ┆          ┆           ┆ rd        │\n",
      "│ 20097      ┆ 10120      ┆ 201703  ┆ 4.6006   ┆ … ┆ 1320.11477 ┆ 5.510624 ┆ 5.510624  ┆ tn_standa │\n",
      "│            ┆            ┆         ┆          ┆   ┆ 8          ┆          ┆           ┆ rd        │\n",
      "│ 20362      ┆ 10335      ┆ 201812  ┆ 1.27764  ┆ … ┆ 1040.84725 ┆ 5.179747 ┆ 5.179747  ┆ tn_standa │\n",
      "│            ┆            ┆         ┆          ┆   ┆ 1          ┆          ┆           ┆ rd        │\n",
      "│ 20316      ┆ 10035      ┆ 201802  ┆ 0.25356  ┆ … ┆ 1034.93877 ┆ 1.623936 ┆ 1.623936  ┆ tn_standa │\n",
      "│            ┆            ┆         ┆          ┆   ┆ 6          ┆          ┆           ┆ rd        │\n",
      "│ 20231      ┆ 10195      ┆ 201708  ┆ 0.4095   ┆ … ┆ 998.780488 ┆ 5.602373 ┆ 5.602373  ┆ tn_standa │\n",
      "│            ┆            ┆         ┆          ┆   ┆            ┆          ┆           ┆ rd        │\n",
      "│ 20931      ┆ 10004      ┆ 201708  ┆ 0.53945  ┆ … ┆ 989.816514 ┆ 5.741471 ┆ 5.741471  ┆ tn_standa │\n",
      "│            ┆            ┆         ┆          ┆   ┆            ┆          ┆           ┆ rd        │\n",
      "│ 20316      ┆ 10263      ┆ 201812  ┆ 0.71843  ┆ … ┆ 974.142373 ┆ 5.973184 ┆ 5.973184  ┆ tn_standa │\n",
      "│            ┆            ┆         ┆          ┆   ┆            ┆          ┆           ┆ rd        │\n",
      "│ 20320      ┆ 10263      ┆ 201812  ┆ 0.71843  ┆ … ┆ 974.142373 ┆ 4.775473 ┆ 4.775473  ┆ tn_standa │\n",
      "│            ┆            ┆         ┆          ┆   ┆            ┆          ┆           ┆ rd        │\n",
      "│ 20407      ┆ 10263      ┆ 201809  ┆ 0.68796  ┆ … ┆ 932.827119 ┆ 6.097007 ┆ 6.097007  ┆ tn_standa │\n",
      "│            ┆            ┆         ┆          ┆   ┆            ┆          ┆           ┆ rd        │\n",
      "│ 20316      ┆ 10035      ┆ 201803  ┆ 0.2113   ┆ … ┆ 862.44898  ┆ 1.35328  ┆ 1.35328   ┆ tn_standa │\n",
      "│            ┆            ┆         ┆          ┆   ┆            ┆          ┆           ┆ rd        │\n",
      "│ 20542      ┆ 10055      ┆ 201807  ┆ 1.04373  ┆ … ┆ 850.289206 ┆ 4.355489 ┆ 4.355489  ┆ tn_standa │\n",
      "│            ┆            ┆         ┆          ┆   ┆            ┆          ┆           ┆ rd        │\n",
      "│ 20039      ┆ 10062      ┆ 201803  ┆ 3.19519  ┆ … ┆ 835.890124 ┆ 5.32321  ┆ 5.32321   ┆ tn_standa │\n",
      "│            ┆            ┆         ┆          ┆   ┆            ┆          ┆           ┆ rd        │\n",
      "│ 20070      ┆ 10195      ┆ 201701  ┆ 1.4336   ┆ … ┆ 829.869754 ┆ 4.42664  ┆ 4.42664   ┆ tn_standa │\n",
      "│            ┆            ┆         ┆          ┆   ┆            ┆          ┆           ┆ rd        │\n",
      "│ 20276      ┆ 10107      ┆ 201703  ┆ 0.19656  ┆ … ┆ 802.285714 ┆ 5.437112 ┆ 5.437112  ┆ tn_standa │\n",
      "│            ┆            ┆         ┆          ┆   ┆            ┆          ┆           ┆ rd        │\n",
      "│ 20320      ┆ 10263      ┆ 201810  ┆ 0.59165  ┆ … ┆ 802.237288 ┆ 3.932754 ┆ 3.932754  ┆ tn_standa │\n",
      "│            ┆            ┆         ┆          ┆   ┆            ┆          ┆           ┆ rd        │\n",
      "│ 20022      ┆ 10122      ┆ 201705  ┆ 3.4944   ┆ … ┆ 800.091586 ┆ 1.925405 ┆ 1.925405  ┆ tn_standa │\n",
      "│            ┆            ┆         ┆          ┆   ┆            ┆          ┆           ┆ rd        │\n",
      "│ 20022      ┆ 10122      ┆ 201906  ┆ 3.4944   ┆ … ┆ 800.091586 ┆ 1.925405 ┆ 1.925405  ┆ tn_standa │\n",
      "│            ┆            ┆         ┆          ┆   ┆            ┆          ┆           ┆ rd        │\n",
      "│ 20038      ┆ 10139      ┆ 201709  ┆ 3.4944   ┆ … ┆ 800.091586 ┆ 5.485175 ┆ 5.485175  ┆ tn_standa │\n",
      "│            ┆            ┆         ┆          ┆   ┆            ┆          ┆           ┆ rd        │\n",
      "│ 20037      ┆ 10179      ┆ 201704  ┆ 1.65984  ┆ … ┆ 799.922892 ┆ 3.654301 ┆ 3.654301  ┆ tn_standa │\n",
      "│            ┆            ┆         ┆          ┆   ┆            ┆          ┆           ┆ rd        │\n",
      "│ 20037      ┆ 10179      ┆ 201705  ┆ 1.65984  ┆ … ┆ 799.922892 ┆ 3.654301 ┆ 3.654301  ┆ tn_standa │\n",
      "│            ┆            ┆         ┆          ┆   ┆            ┆          ┆           ┆ rd        │\n",
      "│ 20329      ┆ 10035      ┆ 201711  ┆ 0.74733  ┆ … ┆ 784.598425 ┆ 4.142054 ┆ 4.142054  ┆ tn_standa │\n",
      "│            ┆            ┆         ┆          ┆   ┆            ┆          ┆           ┆ rd        │\n",
      "│ 20329      ┆ 10035      ┆ 201911  ┆ 0.74733  ┆ … ┆ 784.598425 ┆ 4.142054 ┆ 4.142054  ┆ tn_standa │\n",
      "│            ┆            ┆         ┆          ┆   ┆            ┆          ┆           ┆ rd        │\n",
      "│ 20148      ┆ 10063      ┆ 201903  ┆ 0.66457  ┆ … ┆ 784.153392 ┆ 2.449228 ┆ 2.449228  ┆ tn_standa │\n",
      "│            ┆            ┆         ┆          ┆   ┆            ┆          ┆           ┆ rd        │\n",
      "│ 20148      ┆ 10063      ┆ 201908  ┆ 0.66457  ┆ … ┆ 784.153392 ┆ 2.449228 ┆ 2.449228  ┆ tn_standa │\n",
      "│            ┆            ┆         ┆          ┆   ┆            ┆          ┆           ┆ rd        │\n",
      "│ 20233      ┆ 10063      ┆ 201903  ┆ 0.66457  ┆ … ┆ 784.153392 ┆ 2.460678 ┆ 2.460678  ┆ tn_standa │\n",
      "│            ┆            ┆         ┆          ┆   ┆            ┆          ┆           ┆ rd        │\n",
      "│ 20233      ┆ 10063      ┆ 201908  ┆ 0.66457  ┆ … ┆ 784.153392 ┆ 2.460678 ┆ 2.460678  ┆ tn_standa │\n",
      "│            ┆            ┆         ┆          ┆   ┆            ┆          ┆           ┆ rd        │\n",
      "│ 20424      ┆ 10063      ┆ 201909  ┆ 0.19701  ┆ … ┆ 743.433962 ┆ 5.242531 ┆ 5.242531  ┆ tn_standa │\n",
      "│            ┆            ┆         ┆          ┆   ┆            ┆          ┆           ┆ rd        │\n",
      "│ 20255      ┆ 10263      ┆ 201809  ┆ 0.34398  ┆ … ┆ 698.436548 ┆ 6.102019 ┆ 6.102019  ┆ tn_standa │\n",
      "│            ┆            ┆         ┆          ┆   ┆            ┆          ┆           ┆ rd        │\n",
      "│ 20314      ┆ 10036      ┆ 201703  ┆ 1.87752  ┆ … ┆ 697.314763 ┆ 3.754025 ┆ 3.754025  ┆ tn_standa │\n",
      "│            ┆            ┆         ┆          ┆   ┆            ┆          ┆           ┆ rd        │\n",
      "│ 20168      ┆ 10231      ┆ 201801  ┆ 1.89724  ┆ … ┆ 680.014337 ┆ 6.102982 ┆ 6.102982  ┆ tn_standa │\n",
      "│            ┆            ┆         ┆          ┆   ┆            ┆          ┆           ┆ rd        │\n",
      "│ 20267      ┆ 10182      ┆ 201910  ┆ 0.87069  ┆ … ┆ 660.865275 ┆ 6.098874 ┆ 6.098874  ┆ tn_standa │\n",
      "│            ┆            ┆         ┆          ┆   ┆            ┆          ┆           ┆ rd        │\n",
      "│ 20284      ┆ 10161      ┆ 201907  ┆ 0.33889  ┆ … ┆ 658.038835 ┆ 5.975816 ┆ 5.975816  ┆ tn_standa │\n",
      "│            ┆            ┆         ┆          ┆   ┆            ┆          ┆           ┆ rd        │\n",
      "│ 20148      ┆ 10251      ┆ 201907  ┆ 0.55606  ┆ … ┆ 656.117994 ┆ 5.462428 ┆ 5.462428  ┆ tn_standa │\n",
      "│            ┆            ┆         ┆          ┆   ┆            ┆          ┆           ┆ rd        │\n",
      "│ 20878      ┆ 10055      ┆ 201811  ┆ 0.17193  ┆ … ┆ 648.792453 ┆ 4.555742 ┆ 4.555742  ┆ tn_standa │\n",
      "│            ┆            ┆         ┆          ┆   ┆            ┆          ┆           ┆ rd        │\n",
      "│ 20362      ┆ 10335      ┆ 201811  ┆ 0.79115  ┆ … ┆ 644.521385 ┆ 3.207443 ┆ 3.207443  ┆ tn_standa │\n",
      "│            ┆            ┆         ┆          ┆   ┆            ┆          ┆           ┆ rd        │\n",
      "│ 20540      ┆ 10038      ┆ 201910  ┆ 0.65724  ┆ … ┆ 641.209756 ┆ 3.78004  ┆ 3.78004   ┆ tn_standa │\n",
      "│            ┆            ┆         ┆          ┆   ┆            ┆          ┆           ┆ rd        │\n",
      "│ 20523      ┆ 10038      ┆ 201910  ┆ 0.68578  ┆ … ┆ 639.421911 ┆ 3.78005  ┆ 3.78005   ┆ tn_standa │\n",
      "│            ┆            ┆         ┆          ┆   ┆            ┆          ┆           ┆ rd        │\n",
      "│ 20085      ┆ 10038      ┆ 201905  ┆ 38.30194 ┆ … ┆ 624.013359 ┆ 3.941151 ┆ 3.941151  ┆ tn_standa │\n",
      "│            ┆            ┆         ┆          ┆   ┆            ┆          ┆           ┆ rd        │\n",
      "│ 20072      ┆ 10038      ┆ 201810  ┆ 20.44224 ┆ … ┆ 624.0      ┆ 3.771181 ┆ 3.771181  ┆ tn_standa │\n",
      "│            ┆            ┆         ┆          ┆   ┆            ┆          ┆           ┆ rd        │\n",
      "│ 20072      ┆ 10038      ┆ 201906  ┆ 20.44224 ┆ … ┆ 624.0      ┆ 3.771181 ┆ 3.771181  ┆ tn_standa │\n",
      "│            ┆            ┆         ┆          ┆   ┆            ┆          ┆           ┆ rd        │\n",
      "│ 20022      ┆ 10122      ┆ 201703  ┆ 2.6208   ┆ … ┆ 600.068689 ┆ 1.444053 ┆ 1.444053  ┆ tn_standa │\n",
      "│            ┆            ┆         ┆          ┆   ┆            ┆          ┆           ┆ rd        │\n",
      "│ 20022      ┆ 10122      ┆ 201908  ┆ 2.6208   ┆ … ┆ 600.068689 ┆ 1.444053 ┆ 1.444053  ┆ tn_standa │\n",
      "│            ┆            ┆         ┆          ┆   ┆            ┆          ┆           ┆ rd        │\n",
      "│ 20402      ┆ 10035      ┆ 201811  ┆ 1.638    ┆ … ┆ 600.0      ┆ 5.404288 ┆ 5.404288  ┆ tn_standa │\n",
      "│            ┆            ┆         ┆          ┆   ┆            ┆          ┆           ┆ rd        │\n",
      "│ 20986      ┆ 10040      ┆ 201710  ┆ 0.30873  ┆ … ┆ 590.870813 ┆ 5.746813 ┆ 5.746813  ┆ tn_standa │\n",
      "│            ┆            ┆         ┆          ┆   ┆            ┆          ┆           ┆ rd        │\n",
      "│ 20314      ┆ 10036      ┆ 201805  ┆ 1.57469  ┆ … ┆ 584.843083 ┆ 3.148529 ┆ 3.148529  ┆ tn_standa │\n",
      "│            ┆            ┆         ┆          ┆   ┆            ┆          ┆           ┆ rd        │\n",
      "│ 20079      ┆ 10319      ┆ 201806  ┆ 0.19656  ┆ … ┆ 573.89781  ┆ 4.989415 ┆ 4.989415  ┆ tn_standa │\n",
      "│            ┆            ┆         ┆          ┆   ┆            ┆          ┆           ┆ rd        │\n",
      "│ 20354      ┆ 10263      ┆ 201812  ┆ 0.4226   ┆ … ┆ 573.016949 ┆ 5.367327 ┆ 5.367327  ┆ tn_standa │\n",
      "│            ┆            ┆         ┆          ┆   ┆            ┆          ┆           ┆ rd        │\n",
      "│ 20102      ┆ 10034      ┆ 201803  ┆ 30.85058 ┆ … ┆ 551.17388  ┆ 6.029643 ┆ 6.029643  ┆ tn_standa │\n",
      "│            ┆            ┆         ┆          ┆   ┆            ┆          ┆           ┆ rd        │\n",
      "│ 20402      ┆ 10108      ┆ 201809  ┆ 0.14742  ┆ … ┆ 540.990826 ┆ 4.15503  ┆ 4.15503   ┆ tn_standa │\n",
      "│            ┆            ┆         ┆          ┆   ┆            ┆          ┆           ┆ rd        │\n",
      "│ 20521      ┆ 10010      ┆ 201908  ┆ 4.76756  ┆ … ┆ 538.707345 ┆ 2.834164 ┆ 2.834164  ┆ tn_standa │\n",
      "│            ┆            ┆         ┆          ┆   ┆            ┆          ┆           ┆ rd        │\n",
      "│ 20849      ┆ 10035      ┆ 201801  ┆ 0.08614  ┆ … ┆ 538.375    ┆ 2.232583 ┆ 2.232583  ┆ tn_standa │\n",
      "│            ┆            ┆         ┆          ┆   ┆            ┆          ┆           ┆ rd        │\n",
      "│ 20542      ┆ 10055      ┆ 201909  ┆ 0.65553  ┆ … ┆ 534.03666  ┆ 2.735529 ┆ 2.735529  ┆ tn_standa │\n",
      "│            ┆            ┆         ┆          ┆   ┆            ┆          ┆           ┆ rd        │\n",
      "│ 20050      ┆ 10070      ┆ 201809  ┆ 2.27136  ┆ … ┆ 520.059531 ┆ 5.171931 ┆ 5.171931  ┆ tn_standa │\n",
      "│            ┆            ┆         ┆          ┆   ┆            ┆          ┆           ┆ rd        │\n",
      "│ 20316      ┆ 10035      ┆ 201810  ┆ 0.12678  ┆ … ┆ 517.469388 ┆ 0.811968 ┆ 0.811968  ┆ tn_standa │\n",
      "│            ┆            ┆         ┆          ┆   ┆            ┆          ┆           ┆ rd        │\n",
      "│ 20316      ┆ 10035      ┆ 201911  ┆ 0.12678  ┆ … ┆ 517.469388 ┆ 0.811968 ┆ 0.811968  ┆ tn_standa │\n",
      "│            ┆            ┆         ┆          ┆   ┆            ┆          ┆           ┆ rd        │\n",
      "│ 20037      ┆ 10179      ┆ 201907  ┆ 1.0457   ┆ … ┆ 503.951807 ┆ 2.302212 ┆ 2.302212  ┆ tn_standa │\n",
      "│            ┆            ┆         ┆          ┆   ┆            ┆          ┆           ┆ rd        │\n",
      "│ 20015      ┆ 10195      ┆ 201712  ┆ 2.2345   ┆ … ┆ 503.833145 ┆ 4.615921 ┆ 4.615921  ┆ tn_standa │\n",
      "│            ┆            ┆         ┆          ┆   ┆            ┆          ┆           ┆ rd        │\n",
      "│ 20350      ┆ 10060      ┆ 201702  ┆ 0.23849  ┆ … ┆ 499.455497 ┆ 4.06063  ┆ 4.06063   ┆ tn_standa │\n",
      "│            ┆            ┆         ┆          ┆   ┆            ┆          ┆           ┆ rd        │\n",
      "│ 20263      ┆ 10182      ┆ 201910  ┆ 0.65143  ┆ … ┆ 494.444023 ┆ 6.097384 ┆ 6.097384  ┆ tn_standa │\n",
      "│            ┆            ┆         ┆          ┆   ┆            ┆          ┆           ┆ rd        │\n",
      "│ 20184      ┆ 10335      ┆ 201806  ┆ 0.44386  ┆ … ┆ 487.758242 ┆ 4.364856 ┆ 4.364856  ┆ tn_standa │\n",
      "│            ┆            ┆         ┆          ┆   ┆            ┆          ┆           ┆ rd        │\n",
      "│ 20314      ┆ 10036      ┆ 201904  ┆ 1.31225  ┆ … ┆ 487.372331 ┆ 2.623791 ┆ 2.623791  ┆ tn_standa │\n",
      "│            ┆            ┆         ┆          ┆   ┆            ┆          ┆           ┆ rd        │\n",
      "│ 20314      ┆ 10036      ┆ 201808  ┆ 1.31224  ┆ … ┆ 487.368617 ┆ 2.623771 ┆ 2.623771  ┆ tn_standa │\n",
      "│            ┆            ┆         ┆          ┆   ┆            ┆          ┆           ┆ rd        │\n",
      "│ 20227      ┆ 10319      ┆ 201811  ┆ 1.03085  ┆ … ┆ 480.023283 ┆ 4.342838 ┆ 4.342838  ┆ tn_standa │\n",
      "│            ┆            ┆         ┆          ┆   ┆            ┆          ┆           ┆ rd        │\n",
      "│ 20227      ┆ 10319      ┆ 201911  ┆ 1.03085  ┆ … ┆ 480.023283 ┆ 4.342838 ┆ 4.342838  ┆ tn_standa │\n",
      "│            ┆            ┆         ┆          ┆   ┆            ┆          ┆           ┆ rd        │\n",
      "│ 20114      ┆ 10330      ┆ 201702  ┆ 0.9828   ┆ … ┆ 480.0      ┆ 6.095157 ┆ 6.095157  ┆ tn_standa │\n",
      "│            ┆            ┆         ┆          ┆   ┆            ┆          ┆           ┆ rd        │\n",
      "│ 20037      ┆ 10179      ┆ 201702  ┆ 0.9959   ┆ … ┆ 479.951807 ┆ 2.192572 ┆ 2.192572  ┆ tn_standa │\n",
      "│            ┆            ┆         ┆          ┆   ┆            ┆          ┆           ┆ rd        │\n",
      "│ 20235      ┆ 10263      ┆ 201809  ┆ 0.34398  ┆ … ┆ 466.413559 ┆ 6.102728 ┆ 6.102728  ┆ tn_standa │\n",
      "│            ┆            ┆         ┆          ┆   ┆            ┆          ┆           ┆ rd        │\n",
      "│ 20296      ┆ 10252      ┆ 201708  ┆ 0.33808  ┆ … ┆ 458.413559 ┆ 4.785229 ┆ 4.785229  ┆ tn_standa │\n",
      "│            ┆            ┆         ┆          ┆   ┆            ┆          ┆           ┆ rd        │\n",
      "│ 20148      ┆ 10063      ┆ 201801  ┆ 0.37975  ┆ … ┆ 448.082596 ┆ 1.399543 ┆ 1.399543  ┆ tn_standa │\n",
      "│            ┆            ┆         ┆          ┆   ┆            ┆          ┆           ┆ rd        │\n",
      "│ 20148      ┆ 10063      ┆ 201803  ┆ 0.37975  ┆ … ┆ 448.082596 ┆ 1.399543 ┆ 1.399543  ┆ tn_standa │\n",
      "│            ┆            ┆         ┆          ┆   ┆            ┆          ┆           ┆ rd        │\n",
      "│ 20233      ┆ 10063      ┆ 201801  ┆ 0.37975  ┆ … ┆ 448.082596 ┆ 1.406086 ┆ 1.406086  ┆ tn_standa │\n",
      "│            ┆            ┆         ┆          ┆   ┆            ┆          ┆           ┆ rd        │\n",
      "│ 20097      ┆ 10120      ┆ 201910  ┆ 1.53353  ┆ … ┆ 440.037303 ┆ 1.836871 ┆ 1.836871  ┆ tn_standa │\n",
      "│            ┆            ┆         ┆          ┆   ┆            ┆          ┆           ┆ rd        │\n",
      "│ 20184      ┆ 10335      ┆ 201707  ┆ 0.4002   ┆ … ┆ 439.78022  ┆ 3.93551  ┆ 3.93551   ┆ tn_standa │\n",
      "│            ┆            ┆         ┆          ┆   ┆            ┆          ┆           ┆ rd        │\n",
      "│ 20097      ┆ 10120      ┆ 201802  ┆ 1.51959  ┆ … ┆ 436.037303 ┆ 1.820173 ┆ 1.820173  ┆ tn_standa │\n",
      "│            ┆            ┆         ┆          ┆   ┆            ┆          ┆           ┆ rd        │\n",
      "│ 20256      ┆ 10050      ┆ 201909  ┆ 1.4054   ┆ … ┆ 433.097072 ┆ 5.910013 ┆ 5.910013  ┆ tn_standa │\n",
      "│            ┆            ┆         ┆          ┆   ┆            ┆          ┆           ┆ rd        │\n",
      "│ 20878      ┆ 10055      ┆ 201804  ┆ 0.11374  ┆ … ┆ 429.207547 ┆ 3.013843 ┆ 3.013843  ┆ tn_standa │\n",
      "│            ┆            ┆         ┆          ┆   ┆            ┆          ┆           ┆ rd        │\n",
      "│ 20350      ┆ 10060      ┆ 201803  ┆ 0.20123  ┆ … ┆ 421.424084 ┆ 3.426225 ┆ 3.426225  ┆ tn_standa │\n",
      "│            ┆            ┆         ┆          ┆   ┆            ┆          ┆           ┆ rd        │\n",
      "│ 20073      ┆ 10092      ┆ 201905  ┆ 0.67974  ┆ … ┆ 420.241113 ┆ 5.074328 ┆ 5.074328  ┆ tn_standa │\n",
      "│            ┆            ┆         ┆          ┆   ┆            ┆          ┆           ┆ rd        │\n",
      "│ 20302      ┆ 10117      ┆ 201703  ┆ 0.09156  ┆ … ┆ 416.181818 ┆ 5.250802 ┆ 5.250802  ┆ tn_standa │\n",
      "│            ┆            ┆         ┆          ┆   ┆            ┆          ┆           ┆ rd        │\n",
      "│ 20148      ┆ 10063      ┆ 201705  ┆ 0.35263  ┆ … ┆ 416.082596 ┆ 1.299594 ┆ 1.299594  ┆ tn_standa │\n",
      "│            ┆            ┆         ┆          ┆   ┆            ┆          ┆           ┆ rd        │\n",
      "│ 20233      ┆ 10063      ┆ 201704  ┆ 0.35263  ┆ … ┆ 416.082596 ┆ 1.30567  ┆ 1.30567   ┆ tn_standa │\n",
      "│            ┆            ┆         ┆          ┆   ┆            ┆          ┆           ┆ rd        │\n",
      "│ 20422      ┆ 10021      ┆ 201806  ┆ 0.28392  ┆ … ┆ 416.0      ┆ 4.931019 ┆ 4.931019  ┆ tn_standa │\n",
      "│            ┆            ┆         ┆          ┆   ┆            ┆          ┆           ┆ rd        │\n",
      "│ 20542      ┆ 10055      ┆ 201902  ┆ 0.50712  ┆ … ┆ 413.132383 ┆ 2.116213 ┆ 2.116213  ┆ tn_standa │\n",
      "│            ┆            ┆         ┆          ┆   ┆            ┆          ┆           ┆ rd        │\n",
      "│ 20070      ┆ 10195      ┆ 201711  ┆ 0.71122  ┆ … ┆ 411.704776 ┆ 2.19609  ┆ 2.19609   ┆ tn_standa │\n",
      "│            ┆            ┆         ┆          ┆   ┆            ┆          ┆           ┆ rd        │\n",
      "│ 20670      ┆ 10119      ┆ 201804  ┆ 0.07008  ┆ … ┆ 406.26087  ┆ 4.219241 ┆ 4.219241  ┆ tn_standa │\n",
      "│            ┆            ┆         ┆          ┆   ┆            ┆          ┆           ┆ rd        │\n",
      "│ 20307      ┆ 10263      ┆ 201901  ┆ 0.29582  ┆ … ┆ 401.111864 ┆ 4.705179 ┆ 4.705179  ┆ tn_standa │\n",
      "│            ┆            ┆         ┆          ┆   ┆            ┆          ┆           ┆ rd        │\n",
      "│ 20022      ┆ 10122      ┆ 201701  ┆ 1.7472   ┆ … ┆ 400.045793 ┆ 0.962702 ┆ 0.962702  ┆ tn_standa │\n",
      "│            ┆            ┆         ┆          ┆   ┆            ┆          ┆           ┆ rd        │\n",
      "│ 20022      ┆ 10122      ┆ 201702  ┆ 1.7472   ┆ … ┆ 400.045793 ┆ 0.962702 ┆ 0.962702  ┆ tn_standa │\n",
      "│            ┆            ┆         ┆          ┆   ┆            ┆          ┆           ┆ rd        │\n",
      "│ 20022      ┆ 10234      ┆ 201912  ┆ 1.7472   ┆ … ┆ 400.045793 ┆ 4.829491 ┆ 4.829491  ┆ tn_standa │\n",
      "│            ┆            ┆         ┆          ┆   ┆            ┆          ┆           ┆ rd        │\n",
      "└────────────┴────────────┴─────────┴──────────┴───┴────────────┴──────────┴───────────┴───────────┘\n"
     ]
    }
   ],
   "source": [
    "print(f\"\"\"\n",
    "Datos con inf en tn_standard: {df_norm.filter((pl.col('tn_standard') == np.inf))['tn'].sum()}\n",
    "Datos con -inf en tn_standard: {df_norm.filter((pl.col('tn_standard') == -np.inf))['tn'].sum()}\n",
    "Datos con NaN en tn_standard: {df_norm.filter((pl.col('tn_standard') == np.NaN))['tn'].sum()}\n",
    "Datos con inf en tn_robust: {df_norm.filter((pl.col('tn_robust') == np.inf))['tn'].sum()}\n",
    "Datos con -inf en tn_robust: {df_norm.filter((pl.col('tn_robust') == -np.inf))['tn'].sum()}\n",
    "Datos con NaN en tn_robust: {df_norm.filter((pl.col('tn_robust') == np.NaN))['tn'].sum()}\n",
    "\"\"\")\n",
    "\n",
    "print(df_norm.describe())\n",
    "pl.Config.set_tbl_rows(100)\n",
    "print(df_norm.sort('tn_robust', descending=True).head(100))"
   ]
  },
  {
   "cell_type": "code",
   "execution_count": 154,
   "metadata": {},
   "outputs": [],
   "source": [
    "prod_stats.write_parquet(f'{folder}/{path_prod_stats}')\n",
    "df_norm.write_parquet(f'{folder}/{path_norm}')"
   ]
  },
  {
   "cell_type": "code",
   "execution_count": 155,
   "metadata": {},
   "outputs": [
    {
     "name": "stdout",
     "output_type": "stream",
     "text": [
      "--------------------------------------------02_normaliza--------------------------------------------\n",
      "----------------------------------------------FINALIZA----------------------------------------------\n",
      "\n",
      "\n",
      "\n"
     ]
    }
   ],
   "source": [
    "print(f\"{fase:-^100}\")\n",
    "print(f\"{'FINALIZA':-^100}\\n\\n\\n\")"
   ]
  }
 ],
 "metadata": {
  "kernelspec": {
   "display_name": "uni",
   "language": "python",
   "name": "python3"
  },
  "language_info": {
   "codemirror_mode": {
    "name": "ipython",
    "version": 3
   },
   "file_extension": ".py",
   "mimetype": "text/x-python",
   "name": "python",
   "nbconvert_exporter": "python",
   "pygments_lexer": "ipython3",
   "version": "3.10.14"
  }
 },
 "nbformat": 4,
 "nbformat_minor": 2
}
