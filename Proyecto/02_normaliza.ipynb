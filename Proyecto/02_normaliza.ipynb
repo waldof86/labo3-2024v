{
 "cells": [
  {
   "cell_type": "code",
   "execution_count": 2,
   "metadata": {},
   "outputs": [],
   "source": [
    "#import pandas as pd\n",
    "import polars as pl\n",
    "import numpy as np\n",
    "from datetime import datetime\n",
    "import json\n",
    "import os\n",
    "import math\n",
    "import pandas as pd\n",
    "from sklearn.preprocessing import PowerTransformer, StandardScaler\n",
    "import time\n",
    "\n",
    "import warnings\n",
    "\n",
    "warnings.filterwarnings('ignore')\n",
    "\n",
    "fase = '02_normaliza'"
   ]
  },
  {
   "cell_type": "code",
   "execution_count": 3,
   "metadata": {},
   "outputs": [],
   "source": [
    "with open('gen_config.json', 'r') as file:\n",
    "    gen_config =json.load(file)"
   ]
  },
  {
   "cell_type": "code",
   "execution_count": 4,
   "metadata": {},
   "outputs": [
    {
     "name": "stdout",
     "output_type": "stream",
     "text": [
      "----------------------------------------------COMIENZA----------------------------------------------\n",
      "--------------------------------------------02_normaliza--------------------------------------------\n"
     ]
    }
   ],
   "source": [
    "folder = gen_config['folder']\n",
    "\n",
    "#entradas\n",
    "path_group = gen_config['path_group']\n",
    "path_prod_stats = gen_config['path_prod_stats']\n",
    "\n",
    "#salidas\n",
    "path_norm = gen_config['path_norm']\n",
    "path_transform_stats = gen_config['path_transform_stats']\n",
    "\n",
    "#variables\n",
    "var_escalado = gen_config['var_escalado']\n",
    "\n",
    "print(f\"{'COMIENZA':-^100}\")\n",
    "print(f\"{fase:-^100}\")"
   ]
  },
  {
   "cell_type": "code",
   "execution_count": 5,
   "metadata": {},
   "outputs": [],
   "source": [
    "df = pl.read_parquet(f\"{folder}/{path_group}\")\n",
    "prod_stats = pl.read_parquet(f'{folder}/{path_prod_stats}')"
   ]
  },
  {
   "cell_type": "code",
   "execution_count": 6,
   "metadata": {},
   "outputs": [
    {
     "name": "stdout",
     "output_type": "stream",
     "text": [
      "Columnas en DF:['product_id', 'customer_id', 'periodo', 'tn', 'primer_periodo', 'ultimo_periodo', 'values', 'total_tn', 'min_tn', 'average_tn', 'median_tn', 'std_dev_tn', 'iqr_tn', 'max_tn']\n",
      "df_norm shape: (5_303_555, 14)\n"
     ]
    }
   ],
   "source": [
    "df_norm = df.join(prod_stats, on=['product_id', 'customer_id'], how='left', coalesce=True)\n",
    "print(f\"Columnas en DF:{df_norm.columns}\")\n",
    "print(f\"df_norm shape: ({df_norm.shape[0]:>9_d}, {df_norm.shape[1]:_d})\")"
   ]
  },
  {
   "cell_type": "code",
   "execution_count": 7,
   "metadata": {},
   "outputs": [],
   "source": [
    "# juguete = df_norm.filter((pl.col('product_id') == 20011) & (pl.col('customer_id') == 10001))[['product_id','customer_id', 'periodo','tn']]\n",
    "# juguete, lambda_, scale_, mean_, var_ = power_transform(juguete)\n",
    "# juguete = power_inverse_transform(juguete, lambda_, mean_, var_)\n",
    "# juguete"
   ]
  },
  {
   "cell_type": "markdown",
   "metadata": {},
   "source": [
    "# ACA SUCEDE LA NORMALIZACION"
   ]
  },
  {
   "cell_type": "code",
   "execution_count": 8,
   "metadata": {},
   "outputs": [],
   "source": [
    "df_norm = df_norm.with_columns([\n",
    "    ((pl.col(\"periodo\").cast(pl.Utf8) + \"01\").str.to_date(\"%Y%m%d\")).alias(\"periodo_dt\"),  \n",
    "])\n",
    "\n",
    "primer_periodo = df_norm['periodo_dt'].min()\n",
    "\n",
    "df_norm = df_norm.with_columns(\n",
    "    ((pl.col('periodo_dt').dt.year() - primer_periodo.year) * 12 +\n",
    "    (pl.col('periodo_dt').dt.month() - primer_periodo.month)).alias('mes_indice')\n",
    ")\n",
    "\n",
    "df_pivot = df_norm.pivot(values='tn', index=['product_id', 'customer_id'], columns='mes_indice')\n",
    "df_pivot = df_pivot.to_pandas()\n"
   ]
  },
  {
   "cell_type": "code",
   "execution_count": 9,
   "metadata": {},
   "outputs": [],
   "source": [
    "def power_transform(row_df):\n",
    "    pt = PowerTransformer()\n",
    "    transformed_data = pt.fit_transform(row_df[2:].to_numpy().reshape(-1, 1)).flatten()\n",
    "    #group_df = group_df.with_columns(pl.Series('tn_trans', transformed_data))\n",
    "\n",
    "    stdscaler = pt.__getattribute__('_scaler')\n",
    "    \n",
    "    lambda_ = pt.lambdas_[0]\n",
    "    scale_ = stdscaler.scale_[0]\n",
    "    mean_ = stdscaler.mean_[0]\n",
    "    var_ = stdscaler.var_[0]\n",
    "\n",
    "    return transformed_data, lambda_, scale_, mean_, var_"
   ]
  },
  {
   "cell_type": "code",
   "execution_count": 10,
   "metadata": {},
   "outputs": [],
   "source": [
    "def power_inverse_transform(x_trans, lambda_, mean_, var_):\n",
    "    try:\n",
    "        x = x_trans.to_numpy().reshape(-1, 1)\n",
    "    except:\n",
    "        x = np.array(x_trans)\n",
    "\n",
    "    x = x * var_ ** 0.5 + mean_\n",
    "\n",
    "    x_inv = np.zeros_like(x)\n",
    "    pos = x >= 0\n",
    "\n",
    "    # when x >= 0\n",
    "    if abs(lambda_) < np.spacing(1.0):\n",
    "        x_inv[pos] = np.exp(x[pos]) - 1\n",
    "    else:  # lambda_ != 0\n",
    "        x_inv[pos] = np.power(x[pos] * lambda_ + 1, 1 / lambda_) - 1\n",
    "\n",
    "    # when x < 0\n",
    "    if abs(lambda_ - 2) > np.spacing(1.0):\n",
    "        x_inv[~pos] = 1 - np.power(-(2 - lambda_) * x[~pos] + 1, 1 / (2 - lambda_))\n",
    "    else:  # lambda_ == 2\n",
    "        x_inv[~pos] = 1 - np.exp(-x[~pos])\n",
    "\n",
    "    x_orig = x_inv.flatten()\n",
    "\n",
    "    return x_orig"
   ]
  },
  {
   "cell_type": "code",
   "execution_count": 11,
   "metadata": {},
   "outputs": [
    {
     "name": "stdout",
     "output_type": "stream",
     "text": [
      "Transformando serie 0 de 178684, Acumulado: (0, 5), 0.0% || 0.02 segundos\n",
      "Transformando serie 1786 de 178684, Acumulado: (64296, 5), 1.0% || 4.09 segundos\n",
      "Transformando serie 3572 de 178684, Acumulado: (128592, 5), 2.0% || 3.85 segundos\n",
      "Transformando serie 5358 de 178684, Acumulado: (192888, 5), 3.0% || 3.7 segundos\n",
      "Transformando serie 7144 de 178684, Acumulado: (257184, 5), 4.0% || 3.66 segundos\n",
      "Transformando serie 8930 de 178684, Acumulado: (321480, 5), 5.0% || 3.66 segundos\n",
      "Transformando serie 10716 de 178684, Acumulado: (385776, 5), 6.0% || 3.71 segundos\n",
      "Transformando serie 12502 de 178684, Acumulado: (450072, 5), 7.0% || 3.82 segundos\n",
      "Transformando serie 14288 de 178684, Acumulado: (514368, 5), 8.0% || 3.83 segundos\n",
      "Transformando serie 16074 de 178684, Acumulado: (578664, 5), 9.0% || 3.67 segundos\n",
      "Transformando serie 17860 de 178684, Acumulado: (642960, 5), 10.0% || 3.7 segundos\n",
      "Transformando serie 19646 de 178684, Acumulado: (707256, 5), 10.99% || 3.8 segundos\n",
      "Transformando serie 21432 de 178684, Acumulado: (771552, 5), 11.99% || 3.84 segundos\n",
      "Transformando serie 23218 de 178684, Acumulado: (835848, 5), 12.99% || 4.62 segundos\n",
      "Transformando serie 25004 de 178684, Acumulado: (900144, 5), 13.99% || 4.62 segundos\n",
      "Transformando serie 26790 de 178684, Acumulado: (964440, 5), 14.99% || 4.76 segundos\n",
      "Transformando serie 28576 de 178684, Acumulado: (1028736, 5), 15.99% || 4.79 segundos\n",
      "Transformando serie 30362 de 178684, Acumulado: (1093032, 5), 16.99% || 4.9 segundos\n",
      "Transformando serie 32148 de 178684, Acumulado: (1157328, 5), 17.99% || 4.91 segundos\n",
      "Transformando serie 33934 de 178684, Acumulado: (1221624, 5), 18.99% || 4.91 segundos\n",
      "Transformando serie 35720 de 178684, Acumulado: (1285920, 5), 19.99% || 5.08 segundos\n",
      "Transformando serie 37506 de 178684, Acumulado: (1350216, 5), 20.99% || 5.02 segundos\n",
      "Transformando serie 39292 de 178684, Acumulado: (1414512, 5), 21.99% || 5.17 segundos\n",
      "Transformando serie 41078 de 178684, Acumulado: (1478808, 5), 22.99% || 5.13 segundos\n",
      "Transformando serie 42864 de 178684, Acumulado: (1543104, 5), 23.99% || 4.91 segundos\n",
      "Transformando serie 44650 de 178684, Acumulado: (1607400, 5), 24.99% || 4.93 segundos\n",
      "Transformando serie 46436 de 178684, Acumulado: (1671696, 5), 25.99% || 4.95 segundos\n",
      "Transformando serie 48222 de 178684, Acumulado: (1735992, 5), 26.99% || 5.0 segundos\n",
      "Transformando serie 50008 de 178684, Acumulado: (1800288, 5), 27.99% || 4.95 segundos\n",
      "Transformando serie 51794 de 178684, Acumulado: (1864584, 5), 28.99% || 4.98 segundos\n",
      "Transformando serie 53580 de 178684, Acumulado: (1928880, 5), 29.99% || 4.97 segundos\n",
      "Transformando serie 55366 de 178684, Acumulado: (1993176, 5), 30.99% || 5.01 segundos\n",
      "Transformando serie 57152 de 178684, Acumulado: (2057472, 5), 31.98% || 5.11 segundos\n",
      "Transformando serie 58938 de 178684, Acumulado: (2121768, 5), 32.98% || 5.16 segundos\n",
      "Transformando serie 60724 de 178684, Acumulado: (2186064, 5), 33.98% || 5.2 segundos\n",
      "Transformando serie 62510 de 178684, Acumulado: (2250360, 5), 34.98% || 5.28 segundos\n",
      "Transformando serie 64296 de 178684, Acumulado: (2314656, 5), 35.98% || 5.36 segundos\n",
      "Transformando serie 66082 de 178684, Acumulado: (2378952, 5), 36.98% || 5.36 segundos\n",
      "Transformando serie 67868 de 178684, Acumulado: (2443248, 5), 37.98% || 5.46 segundos\n",
      "Transformando serie 69654 de 178684, Acumulado: (2507544, 5), 38.98% || 5.48 segundos\n",
      "Transformando serie 71440 de 178684, Acumulado: (2571840, 5), 39.98% || 5.59 segundos\n",
      "Transformando serie 73226 de 178684, Acumulado: (2636136, 5), 40.98% || 5.63 segundos\n",
      "Transformando serie 75012 de 178684, Acumulado: (2700432, 5), 41.98% || 5.65 segundos\n",
      "Transformando serie 76798 de 178684, Acumulado: (2764728, 5), 42.98% || 5.75 segundos\n",
      "Transformando serie 78584 de 178684, Acumulado: (2829024, 5), 43.98% || 5.79 segundos\n",
      "Transformando serie 80370 de 178684, Acumulado: (2893320, 5), 44.98% || 5.79 segundos\n",
      "Transformando serie 82156 de 178684, Acumulado: (2957616, 5), 45.98% || 6.1 segundos\n",
      "Transformando serie 83942 de 178684, Acumulado: (3021912, 5), 46.98% || 7.36 segundos\n",
      "Transformando serie 85728 de 178684, Acumulado: (3086208, 5), 47.98% || 12.12 segundos\n",
      "Transformando serie 87514 de 178684, Acumulado: (3150504, 5), 48.98% || 11.39 segundos\n",
      "Transformando serie 89300 de 178684, Acumulado: (3214800, 5), 49.98% || 11.33 segundos\n",
      "Transformando serie 91086 de 178684, Acumulado: (3279096, 5), 50.98% || 11.29 segundos\n",
      "Transformando serie 92872 de 178684, Acumulado: (3343392, 5), 51.98% || 11.4 segundos\n",
      "Transformando serie 94658 de 178684, Acumulado: (3407688, 5), 52.98% || 11.22 segundos\n",
      "Transformando serie 96444 de 178684, Acumulado: (3471984, 5), 53.97% || 10.95 segundos\n",
      "Transformando serie 98230 de 178684, Acumulado: (3536280, 5), 54.97% || 10.86 segundos\n",
      "Transformando serie 100016 de 178684, Acumulado: (3600576, 5), 55.97% || 11.08 segundos\n",
      "Transformando serie 101802 de 178684, Acumulado: (3664872, 5), 56.97% || 11.07 segundos\n",
      "Transformando serie 103588 de 178684, Acumulado: (3729168, 5), 57.97% || 11.11 segundos\n",
      "Transformando serie 105374 de 178684, Acumulado: (3793464, 5), 58.97% || 11.04 segundos\n",
      "Transformando serie 107160 de 178684, Acumulado: (3857760, 5), 59.97% || 11.34 segundos\n",
      "Transformando serie 108946 de 178684, Acumulado: (3922056, 5), 60.97% || 11.02 segundos\n",
      "Transformando serie 110732 de 178684, Acumulado: (3986352, 5), 61.97% || 11.5 segundos\n",
      "Transformando serie 112518 de 178684, Acumulado: (4050648, 5), 62.97% || 11.18 segundos\n",
      "Transformando serie 114304 de 178684, Acumulado: (4114944, 5), 63.97% || 11.13 segundos\n",
      "Transformando serie 116090 de 178684, Acumulado: (4179240, 5), 64.97% || 11.21 segundos\n",
      "Transformando serie 117876 de 178684, Acumulado: (4243536, 5), 65.97% || 11.34 segundos\n",
      "Transformando serie 119662 de 178684, Acumulado: (4307832, 5), 66.97% || 11.48 segundos\n",
      "Transformando serie 121448 de 178684, Acumulado: (4372128, 5), 67.97% || 11.51 segundos\n",
      "Transformando serie 123234 de 178684, Acumulado: (4436424, 5), 68.97% || 11.38 segundos\n",
      "Transformando serie 125020 de 178684, Acumulado: (4500720, 5), 69.97% || 11.6 segundos\n",
      "Transformando serie 126806 de 178684, Acumulado: (4565016, 5), 70.97% || 11.61 segundos\n",
      "Transformando serie 128592 de 178684, Acumulado: (4629312, 5), 71.97% || 11.59 segundos\n",
      "Transformando serie 130378 de 178684, Acumulado: (4693608, 5), 72.97% || 11.81 segundos\n",
      "Transformando serie 132164 de 178684, Acumulado: (4757904, 5), 73.97% || 11.83 segundos\n",
      "Transformando serie 133950 de 178684, Acumulado: (4822200, 5), 74.96% || 12.08 segundos\n",
      "Transformando serie 135736 de 178684, Acumulado: (4886496, 5), 75.96% || 12.03 segundos\n",
      "Transformando serie 137522 de 178684, Acumulado: (4950792, 5), 76.96% || 11.97 segundos\n",
      "Transformando serie 139308 de 178684, Acumulado: (5015088, 5), 77.96% || 12.19 segundos\n",
      "Transformando serie 141094 de 178684, Acumulado: (5079384, 5), 78.96% || 12.18 segundos\n",
      "Transformando serie 142880 de 178684, Acumulado: (5143680, 5), 79.96% || 12.36 segundos\n",
      "Transformando serie 144666 de 178684, Acumulado: (5207976, 5), 80.96% || 12.33 segundos\n",
      "Transformando serie 146452 de 178684, Acumulado: (5272272, 5), 81.96% || 12.53 segundos\n",
      "Transformando serie 148238 de 178684, Acumulado: (5336568, 5), 82.96% || 12.64 segundos\n",
      "Transformando serie 150024 de 178684, Acumulado: (5400864, 5), 83.96% || 12.46 segundos\n",
      "Transformando serie 151810 de 178684, Acumulado: (5465160, 5), 84.96% || 12.68 segundos\n",
      "Transformando serie 153596 de 178684, Acumulado: (5529456, 5), 85.96% || 12.58 segundos\n",
      "Transformando serie 155382 de 178684, Acumulado: (5593752, 5), 86.96% || 12.99 segundos\n",
      "Transformando serie 157168 de 178684, Acumulado: (5658048, 5), 87.96% || 12.81 segundos\n",
      "Transformando serie 158954 de 178684, Acumulado: (5722344, 5), 88.96% || 12.67 segundos\n",
      "Transformando serie 160740 de 178684, Acumulado: (5786640, 5), 89.96% || 12.86 segundos\n",
      "Transformando serie 162526 de 178684, Acumulado: (5850936, 5), 90.96% || 12.95 segundos\n",
      "Transformando serie 164312 de 178684, Acumulado: (5915232, 5), 91.96% || 13.13 segundos\n",
      "Transformando serie 166098 de 178684, Acumulado: (5979528, 5), 92.96% || 13.23 segundos\n",
      "Transformando serie 167884 de 178684, Acumulado: (6043824, 5), 93.96% || 13.2 segundos\n",
      "Transformando serie 169670 de 178684, Acumulado: (6108120, 5), 94.96% || 13.25 segundos\n",
      "Transformando serie 171456 de 178684, Acumulado: (6172416, 5), 95.95% || 13.39 segundos\n",
      "Transformando serie 173242 de 178684, Acumulado: (6236712, 5), 96.95% || 13.79 segundos\n",
      "Transformando serie 175028 de 178684, Acumulado: (6301008, 5), 97.95% || 8.34 segundos\n",
      "Transformando serie 176814 de 178684, Acumulado: (6365304, 5), 98.95% || 8.51 segundos\n",
      "Transformando serie 178600 de 178684, Acumulado: (6429600, 5), 99.95% || 8.46 segundos\n",
      "Transformando serie 178683 de 178684, Acumulado: (6429600, 5), 100.0% || 0.37 segundos\n"
     ]
    }
   ],
   "source": [
    "transform_stats = pd.DataFrame(columns=['product_id', 'customer_id', 'pwr_lambda', 'pwr_scale', 'pwr_mean', 'pwr_var'])\n",
    "df_pwr_pt = pd.DataFrame(columns=['product_id', 'customer_id', 'mes_indice', 'tn', 'tn_trans'])\n",
    "df_pwr = pd.DataFrame(columns=['product_id', 'customer_id', 'mes_indice', 'tn', 'tn_trans'])\n",
    "meses = pd.Series(df_pivot.columns[2:])\n",
    "\n",
    "start_time = time.time()\n",
    "\n",
    "for i, row in df_pivot.iterrows():\n",
    "    if i % (df_pivot.shape[0]//100) == 0:\n",
    "        #print(f\"Transformando serie {i} de {df_pivot.shape[0]}, {round(i/df_pivot.shape[0]*100, 2)}%\")\n",
    "        df_pwr = pd.concat([df_pwr, df_pwr_pt], ignore_index=True, axis=0)  \n",
    "        df_pwr_pt = pd.DataFrame(columns=['product_id', 'customer_id', 'mes_indice', 'tn', 'tn_trans'])\n",
    "        print(f\"Transformando serie {i} de {df_pivot.shape[0]}, Acumulado: {df_pwr.shape}, {round(i/df_pivot.shape[0]*100, 2)}% || {round(time.time() - start_time, 2)} segundos\")\n",
    "        start_time = time.time()\n",
    "    \n",
    "    x_trans, lambda_, scale_, mean_, var_ = power_transform(row)\n",
    "    df_row = pd.DataFrame({'product_id' : row.iloc[0],\n",
    "                            'customer_id' : row.iloc[1],\n",
    "                            'mes_indice' : meses.values,\n",
    "                            'tn' : row.iloc[2:],\n",
    "                            'tn_trans' : x_trans})\n",
    "    df_pwr_pt = pd.concat([df_pwr_pt, df_row], ignore_index=True, axis=0)    \n",
    "    \n",
    "    transform_stats_row = pd.DataFrame({'product_id': row.iloc[0],\n",
    "                        'customer_id': row.iloc[1],\n",
    "                        'pwr_lambda': lambda_,\n",
    "                        'pwr_scale': scale_,\n",
    "                        'pwr_mean': mean_,\n",
    "                        'pwr_var': var_\n",
    "                        }, index=[i])\n",
    "    transform_stats = pd.concat([transform_stats, transform_stats_row], ignore_index=True, axis=0)\n",
    "\n",
    "#resto\n",
    "print(f\"Transformando serie {i} de {df_pivot.shape[0]}, Acumulado: {df_pwr.shape}, {round(i/df_pivot.shape[0]*100, 2)}% || {round(time.time() - start_time, 2)} segundos\")\n",
    "df_pwr = pd.concat([df_pwr, df_pwr_pt], ignore_index=True, axis=0)  \n",
    "df_pwr_pt = pd.DataFrame(columns=['product_id', 'customer_id', 'mes_indice', 'tn', 'tn_trans'])"
   ]
  },
  {
   "cell_type": "code",
   "execution_count": 12,
   "metadata": {},
   "outputs": [],
   "source": [
    "# para controlar\n",
    "# a = df_pwr[(df_pwr['product_id'] == 20001) & (df_pwr['customer_id'] == 10001)]['tn_trans']\n",
    "# b = power_inverse_transform(a,\n",
    "#                         lambda_=transform_stats.iloc[0]['pwr_lambda'],\n",
    "#                         mean_=transform_stats.iloc[0]['pwr_mean'],\n",
    "#                         var_=transform_stats.iloc[0]['pwr_var'])\n",
    "# c = df_pwr[(df_pwr['product_id'] == 20001) & (df_pwr['customer_id'] == 10001)]['tn']\n",
    "\n",
    "# pd.DataFrame({'a': a, 'b': b, 'c': c})"
   ]
  },
  {
   "cell_type": "code",
   "execution_count": 13,
   "metadata": {},
   "outputs": [],
   "source": [
    "df_pwr = pl.from_pandas(df_pwr)\n",
    "transform_stats = pl.from_pandas(transform_stats)"
   ]
  },
  {
   "cell_type": "code",
   "execution_count": 14,
   "metadata": {},
   "outputs": [],
   "source": [
    "df_pwr = df_pwr.with_columns([\n",
    "    pl.col('product_id').cast(pl.Int64),\n",
    "    pl.col('customer_id').cast(pl.Int64),\n",
    "    pl.col('mes_indice').cast(pl.Int32),\n",
    "])\n",
    "\n",
    "transform_stats = transform_stats.with_columns([\n",
    "    pl.col('product_id').cast(pl.Int64),\n",
    "    pl.col('customer_id').cast(pl.Int64),\n",
    "])"
   ]
  },
  {
   "cell_type": "code",
   "execution_count": 15,
   "metadata": {},
   "outputs": [],
   "source": [
    "df_pwr.write_parquet(f'{folder}/pwr.parquet')\n",
    "transform_stats.write_parquet(f'{folder}/{path_transform_stats}')"
   ]
  },
  {
   "cell_type": "code",
   "execution_count": 16,
   "metadata": {},
   "outputs": [],
   "source": [
    "df_pwr = pl.read_parquet(f'{folder}/pwr.parquet')\n",
    "transform_stats = pl.read_parquet(f'{folder}/{path_transform_stats}')"
   ]
  },
  {
   "cell_type": "code",
   "execution_count": 17,
   "metadata": {},
   "outputs": [],
   "source": [
    "df_norm = df_norm.join(df_pwr[['product_id', 'customer_id', 'mes_indice', 'tn_trans']],\n",
    "            on=['product_id', 'customer_id', 'mes_indice'], how='left', coalesce=True)"
   ]
  },
  {
   "cell_type": "code",
   "execution_count": 18,
   "metadata": {},
   "outputs": [],
   "source": [
    "#df_temp = df_norm.join(transform_stats, on=['product_id', 'customer_id'], how='left', coalesce=True)"
   ]
  },
  {
   "cell_type": "code",
   "execution_count": 21,
   "metadata": {},
   "outputs": [],
   "source": [
    "df_norm = df_norm.with_columns([\n",
    "    ((pl.col('tn') - pl.col('average_tn')) / pl.col('std_dev_tn')).alias('tn_standard'),\n",
    "])\n",
    "\n",
    "df_norm = df_norm.with_columns([\n",
    "    ((pl.col('tn') - pl.col('median_tn')) / pl.col('iqr_tn')).alias('tn_robust'),\n",
    "])\n",
    "\n",
    "#se  pueden pasar a cero xq corrije los productos constantes\n",
    "\n",
    "df_norm = df_norm.with_columns([\n",
    "    pl.col(\"tn_standard\")\n",
    "    .fill_nan(0)\n",
    "    .replace([float('inf'), float('-inf')], 0),\n",
    "    pl.col(\"tn_robust\")\n",
    "    .fill_nan(0)\n",
    "    .replace([float('inf'), float('-inf')], 0),\n",
    "    ]\n",
    ")"
   ]
  },
  {
   "cell_type": "code",
   "execution_count": 22,
   "metadata": {},
   "outputs": [],
   "source": [
    "df_norm = df_norm.sort(by=['product_id', 'customer_id', 'periodo'])"
   ]
  },
  {
   "cell_type": "code",
   "execution_count": 23,
   "metadata": {},
   "outputs": [
    {
     "name": "stdout",
     "output_type": "stream",
     "text": [
      "Metodo de escalado: tn_robust\n"
     ]
    }
   ],
   "source": [
    "#asigno la que efectivamente se usa en el resto del proceso\n",
    "df_norm = df_norm.with_columns(pl.col(var_escalado).alias('tn_norm'))\n",
    "print(f\"Metodo de escalado: {var_escalado}\")"
   ]
  },
  {
   "cell_type": "code",
   "execution_count": 24,
   "metadata": {},
   "outputs": [],
   "source": [
    "df_norm.write_parquet(f'{folder}/{path_norm}')\n",
    "transform_stats.write_parquet(f'{folder}/{path_transform_stats}')"
   ]
  },
  {
   "cell_type": "code",
   "execution_count": 25,
   "metadata": {},
   "outputs": [
    {
     "name": "stdout",
     "output_type": "stream",
     "text": [
      "df_norm completo: (5303555, 20)\n",
      "df_norm diciembre: (178684, 20)\n"
     ]
    }
   ],
   "source": [
    "print(f\"df_norm completo: {df_norm.shape}\")\n",
    "print(f\"df_norm diciembre: {df_norm.filter(pl.col('periodo') == 201912).shape}\")"
   ]
  },
  {
   "cell_type": "code",
   "execution_count": 26,
   "metadata": {},
   "outputs": [
    {
     "data": {
      "text/html": [
       "<div><style>\n",
       ".dataframe > thead > tr,\n",
       ".dataframe > tbody > tr {\n",
       "  text-align: right;\n",
       "  white-space: pre-wrap;\n",
       "}\n",
       "</style>\n",
       "<small>shape: (0, 20)</small><table border=\"1\" class=\"dataframe\"><thead><tr><th>product_id</th><th>customer_id</th><th>periodo</th><th>tn</th><th>primer_periodo</th><th>ultimo_periodo</th><th>values</th><th>total_tn</th><th>min_tn</th><th>average_tn</th><th>median_tn</th><th>std_dev_tn</th><th>iqr_tn</th><th>max_tn</th><th>periodo_dt</th><th>mes_indice</th><th>tn_trans</th><th>tn_standard</th><th>tn_robust</th><th>tn_norm</th></tr><tr><td>i64</td><td>i64</td><td>i64</td><td>f64</td><td>date</td><td>date</td><td>u32</td><td>f64</td><td>f64</td><td>f64</td><td>f64</td><td>f64</td><td>f64</td><td>f64</td><td>date</td><td>i32</td><td>f64</td><td>f64</td><td>f64</td><td>f64</td></tr></thead><tbody></tbody></table></div>"
      ],
      "text/plain": [
       "shape: (0, 20)\n",
       "┌────────────┬─────────────┬─────────┬─────┬───┬──────────┬─────────────┬───────────┬─────────┐\n",
       "│ product_id ┆ customer_id ┆ periodo ┆ tn  ┆ … ┆ tn_trans ┆ tn_standard ┆ tn_robust ┆ tn_norm │\n",
       "│ ---        ┆ ---         ┆ ---     ┆ --- ┆   ┆ ---      ┆ ---         ┆ ---       ┆ ---     │\n",
       "│ i64        ┆ i64         ┆ i64     ┆ f64 ┆   ┆ f64      ┆ f64         ┆ f64       ┆ f64     │\n",
       "╞════════════╪═════════════╪═════════╪═════╪═══╪══════════╪═════════════╪═══════════╪═════════╡\n",
       "└────────────┴─────────────┴─────────┴─────┴───┴──────────┴─────────────┴───────────┴─────────┘"
      ]
     },
     "execution_count": 26,
     "metadata": {},
     "output_type": "execute_result"
    }
   ],
   "source": [
    "df_norm.filter((pl.col('tn_standard') == np.inf))"
   ]
  },
  {
   "cell_type": "code",
   "execution_count": 27,
   "metadata": {},
   "outputs": [
    {
     "name": "stdout",
     "output_type": "stream",
     "text": [
      "\n",
      "Datos con inf en tn_standard: 0.0\n",
      "Datos con -inf en tn_standard: 0.0\n",
      "Datos con NaN en tn_standard: 0.0\n",
      "Datos con inf en tn_robust: 0.0\n",
      "Datos con -inf en tn_robust: 0.0\n",
      "Datos con NaN en tn_robust: 0.0\n",
      "\n"
     ]
    }
   ],
   "source": [
    "print(f\"\"\"\n",
    "Datos con inf en tn_standard: {df_norm.filter((pl.col('tn_standard') == np.inf))['total_tn'].sum()}\n",
    "Datos con -inf en tn_standard: {df_norm.filter((pl.col('tn_standard') == -np.inf))['total_tn'].sum()}\n",
    "Datos con NaN en tn_standard: {df_norm.filter((pl.col('tn_standard') == np.NaN))['total_tn'].sum()}\n",
    "Datos con inf en tn_robust: {df_norm.filter((pl.col('tn_robust') == np.inf))['total_tn'].sum()}\n",
    "Datos con -inf en tn_robust: {df_norm.filter((pl.col('tn_robust') == -np.inf))['total_tn'].sum()}\n",
    "Datos con NaN en tn_robust: {df_norm.filter((pl.col('tn_robust') == np.NaN))['total_tn'].sum()}\n",
    "\"\"\")"
   ]
  },
  {
   "cell_type": "code",
   "execution_count": 28,
   "metadata": {},
   "outputs": [],
   "source": [
    "# df_temp = df_norm.join(transform_stats, on=['product_id', 'customer_id'], how='left', coalesce=True)"
   ]
  },
  {
   "cell_type": "code",
   "execution_count": 29,
   "metadata": {},
   "outputs": [],
   "source": [
    "# df_temp = df_temp.to_pandas()"
   ]
  },
  {
   "cell_type": "code",
   "execution_count": 30,
   "metadata": {},
   "outputs": [],
   "source": [
    "# df_temp['tn_inversa'] = df_temp.apply(lambda row: power_inverse_transform(row['tn_trans'], row['pwr_lambda'], row['pwr_mean'], row['pwr_var']), axis=1)"
   ]
  },
  {
   "cell_type": "code",
   "execution_count": 31,
   "metadata": {},
   "outputs": [],
   "source": [
    "# df_temp['tn_inversa'] = [tn_inv[0] for tn_inv in df_temp['tn_inversa']]"
   ]
  },
  {
   "cell_type": "code",
   "execution_count": 32,
   "metadata": {},
   "outputs": [],
   "source": [
    "# test = df_temp['tn_inversa'] - df_temp['tn']"
   ]
  },
  {
   "cell_type": "code",
   "execution_count": 33,
   "metadata": {},
   "outputs": [],
   "source": [
    "# test = df_temp[np.abs(df_temp['tn_inversa'] - df_temp['tn']) >= 0.01]\n",
    "# test"
   ]
  },
  {
   "cell_type": "code",
   "execution_count": 34,
   "metadata": {},
   "outputs": [],
   "source": [
    "# df_temp.to_parquet(f'{folder}/temp.parquet', index=False)"
   ]
  },
  {
   "cell_type": "code",
   "execution_count": 35,
   "metadata": {},
   "outputs": [
    {
     "name": "stdout",
     "output_type": "stream",
     "text": [
      "--------------------------------------------02_normaliza--------------------------------------------\n",
      "----------------------------------------------FINALIZA----------------------------------------------\n",
      "\n",
      "\n",
      "\n"
     ]
    }
   ],
   "source": [
    "print(f\"{fase:-^100}\")\n",
    "print(f\"{'FINALIZA':-^100}\\n\\n\\n\")"
   ]
  }
 ],
 "metadata": {
  "kernelspec": {
   "display_name": "uni",
   "language": "python",
   "name": "python3"
  },
  "language_info": {
   "codemirror_mode": {
    "name": "ipython",
    "version": 3
   },
   "file_extension": ".py",
   "mimetype": "text/x-python",
   "name": "python",
   "nbconvert_exporter": "python",
   "pygments_lexer": "ipython3",
   "version": "3.10.14"
  }
 },
 "nbformat": 4,
 "nbformat_minor": 2
}
