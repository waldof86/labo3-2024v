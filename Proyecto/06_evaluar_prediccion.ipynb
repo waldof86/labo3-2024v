{
 "cells": [
  {
   "cell_type": "code",
   "execution_count": 10,
   "metadata": {},
   "outputs": [],
   "source": [
    "import pandas as pd"
   ]
  },
  {
   "cell_type": "code",
   "execution_count": 11,
   "metadata": {},
   "outputs": [],
   "source": [
    "df = pd.read_csv('sell_in_pred.csv')"
   ]
  },
  {
   "cell_type": "code",
   "execution_count": 14,
   "metadata": {},
   "outputs": [],
   "source": [
    "def perdida(real, prediccion):\n",
    "    total = real.sum()\n",
    "    perdida =  abs(real - prediccion).sum()\n",
    "    resultado = perdida / total\n",
    "    return resultado"
   ]
  },
  {
   "cell_type": "code",
   "execution_count": 15,
   "metadata": {},
   "outputs": [
    {
     "data": {
      "text/html": [
       "<div>\n",
       "<style scoped>\n",
       "    .dataframe tbody tr th:only-of-type {\n",
       "        vertical-align: middle;\n",
       "    }\n",
       "\n",
       "    .dataframe tbody tr th {\n",
       "        vertical-align: top;\n",
       "    }\n",
       "\n",
       "    .dataframe thead th {\n",
       "        text-align: right;\n",
       "    }\n",
       "</style>\n",
       "<table border=\"1\" class=\"dataframe\">\n",
       "  <thead>\n",
       "    <tr style=\"text-align: right;\">\n",
       "      <th></th>\n",
       "      <th>product_id</th>\n",
       "      <th>tn_futuro_real</th>\n",
       "      <th>tn_prediccion_real</th>\n",
       "    </tr>\n",
       "  </thead>\n",
       "  <tbody>\n",
       "    <tr>\n",
       "      <th>1</th>\n",
       "      <td>20001</td>\n",
       "      <td>1504.68856</td>\n",
       "      <td>1279.744833</td>\n",
       "    </tr>\n",
       "    <tr>\n",
       "      <th>3</th>\n",
       "      <td>20002</td>\n",
       "      <td>1087.30855</td>\n",
       "      <td>887.685612</td>\n",
       "    </tr>\n",
       "    <tr>\n",
       "      <th>5</th>\n",
       "      <td>20003</td>\n",
       "      <td>892.50129</td>\n",
       "      <td>651.713996</td>\n",
       "    </tr>\n",
       "    <tr>\n",
       "      <th>7</th>\n",
       "      <td>20004</td>\n",
       "      <td>637.90002</td>\n",
       "      <td>498.630301</td>\n",
       "    </tr>\n",
       "    <tr>\n",
       "      <th>9</th>\n",
       "      <td>20005</td>\n",
       "      <td>593.24443</td>\n",
       "      <td>498.364877</td>\n",
       "    </tr>\n",
       "    <tr>\n",
       "      <th>...</th>\n",
       "      <td>...</td>\n",
       "      <td>...</td>\n",
       "      <td>...</td>\n",
       "    </tr>\n",
       "    <tr>\n",
       "      <th>1551</th>\n",
       "      <td>21263</td>\n",
       "      <td>0.01270</td>\n",
       "      <td>-0.008041</td>\n",
       "    </tr>\n",
       "    <tr>\n",
       "      <th>1553</th>\n",
       "      <td>21265</td>\n",
       "      <td>0.05007</td>\n",
       "      <td>0.034672</td>\n",
       "    </tr>\n",
       "    <tr>\n",
       "      <th>1555</th>\n",
       "      <td>21266</td>\n",
       "      <td>0.05121</td>\n",
       "      <td>0.045201</td>\n",
       "    </tr>\n",
       "    <tr>\n",
       "      <th>1557</th>\n",
       "      <td>21267</td>\n",
       "      <td>0.01569</td>\n",
       "      <td>0.058069</td>\n",
       "    </tr>\n",
       "    <tr>\n",
       "      <th>1559</th>\n",
       "      <td>21276</td>\n",
       "      <td>0.00892</td>\n",
       "      <td>0.026591</td>\n",
       "    </tr>\n",
       "  </tbody>\n",
       "</table>\n",
       "<p>780 rows × 3 columns</p>\n",
       "</div>"
      ],
      "text/plain": [
       "      product_id  tn_futuro_real  tn_prediccion_real\n",
       "1          20001      1504.68856         1279.744833\n",
       "3          20002      1087.30855          887.685612\n",
       "5          20003       892.50129          651.713996\n",
       "7          20004       637.90002          498.630301\n",
       "9          20005       593.24443          498.364877\n",
       "...          ...             ...                 ...\n",
       "1551       21263         0.01270           -0.008041\n",
       "1553       21265         0.05007            0.034672\n",
       "1555       21266         0.05121            0.045201\n",
       "1557       21267         0.01569            0.058069\n",
       "1559       21276         0.00892            0.026591\n",
       "\n",
       "[780 rows x 3 columns]"
      ]
     },
     "execution_count": 15,
     "metadata": {},
     "output_type": "execute_result"
    }
   ],
   "source": [
    "df_pred = df[df['periodo'] == 201912][['product_id', 'tn_futuro_real', 'tn_prediccion_real']]\n",
    "df_pred"
   ]
  },
  {
   "cell_type": "code",
   "execution_count": 16,
   "metadata": {},
   "outputs": [
    {
     "data": {
      "text/plain": [
       "0.2299234351631148"
      ]
     },
     "execution_count": 16,
     "metadata": {},
     "output_type": "execute_result"
    }
   ],
   "source": [
    "perdida = perdida(df_pred['tn_futuro_real'], df_pred['tn_prediccion_real'])\n",
    "perdida"
   ]
  }
 ],
 "metadata": {
  "kernelspec": {
   "display_name": "uni",
   "language": "python",
   "name": "python3"
  },
  "language_info": {
   "codemirror_mode": {
    "name": "ipython",
    "version": 3
   },
   "file_extension": ".py",
   "mimetype": "text/x-python",
   "name": "python",
   "nbconvert_exporter": "python",
   "pygments_lexer": "ipython3",
   "version": "3.10.13"
  }
 },
 "nbformat": 4,
 "nbformat_minor": 2
}
