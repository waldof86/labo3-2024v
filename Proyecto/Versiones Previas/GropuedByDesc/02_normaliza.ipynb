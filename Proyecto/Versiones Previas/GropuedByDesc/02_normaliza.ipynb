{
 "cells": [
  {
   "cell_type": "code",
   "execution_count": 11,
   "metadata": {},
   "outputs": [],
   "source": [
    "import pandas as pd\n",
    "from datetime import datetime\n",
    "import json\n",
    "import os\n",
    "\n",
    "fase = '02_normaliza'"
   ]
  },
  {
   "cell_type": "code",
   "execution_count": 12,
   "metadata": {},
   "outputs": [],
   "source": [
    "with open('gen_config.json', 'r') as file:\n",
    "    gen_config =json.load(file)"
   ]
  },
  {
   "cell_type": "code",
   "execution_count": 13,
   "metadata": {},
   "outputs": [
    {
     "name": "stdout",
     "output_type": "stream",
     "text": [
      "----------------------------------------------COMIENZA----------------------------------------------\n",
      "--------------------------------------------02_normaliza--------------------------------------------\n"
     ]
    }
   ],
   "source": [
    "folder = gen_config['folder']\n",
    "\n",
    "path_group = gen_config['path_group']\n",
    "path_prod_stats = gen_config['path_prod_stats']\n",
    "path_norm = gen_config['path_norm']\n",
    "\n",
    "print(f\"{'COMIENZA':-^100}\")\n",
    "print(f\"{fase:-^100}\")"
   ]
  },
  {
   "cell_type": "code",
   "execution_count": 14,
   "metadata": {},
   "outputs": [],
   "source": [
    "df = pd.read_parquet(f\"{folder}/{path_group}\")\n",
    "prod_stats = pd.read_parquet(f'{folder}/{path_prod_stats}')"
   ]
  },
  {
   "cell_type": "code",
   "execution_count": 15,
   "metadata": {},
   "outputs": [
    {
     "data": {
      "text/html": [
       "<div>\n",
       "<style scoped>\n",
       "    .dataframe tbody tr th:only-of-type {\n",
       "        vertical-align: middle;\n",
       "    }\n",
       "\n",
       "    .dataframe tbody tr th {\n",
       "        vertical-align: top;\n",
       "    }\n",
       "\n",
       "    .dataframe thead th {\n",
       "        text-align: right;\n",
       "    }\n",
       "</style>\n",
       "<table border=\"1\" class=\"dataframe\">\n",
       "  <thead>\n",
       "    <tr style=\"text-align: right;\">\n",
       "      <th></th>\n",
       "      <th>group_index</th>\n",
       "      <th>periodo</th>\n",
       "      <th>tn</th>\n",
       "      <th>primer_periodo</th>\n",
       "      <th>ultimo_periodo</th>\n",
       "      <th>values</th>\n",
       "      <th>total_tn</th>\n",
       "      <th>min_tn</th>\n",
       "      <th>average_tn</th>\n",
       "      <th>median_tn</th>\n",
       "      <th>std_dev_tn</th>\n",
       "      <th>iqr_tn</th>\n",
       "      <th>max_tn</th>\n",
       "    </tr>\n",
       "  </thead>\n",
       "  <tbody>\n",
       "    <tr>\n",
       "      <th>0</th>\n",
       "      <td>0</td>\n",
       "      <td>201701</td>\n",
       "      <td>6.32131</td>\n",
       "      <td>2017-01-01</td>\n",
       "      <td>2019-12-01</td>\n",
       "      <td>36.0</td>\n",
       "      <td>214.60446</td>\n",
       "      <td>0.47173</td>\n",
       "      <td>5.961235</td>\n",
       "      <td>6.234785</td>\n",
       "      <td>2.164849</td>\n",
       "      <td>3.344115</td>\n",
       "      <td>9.23561</td>\n",
       "    </tr>\n",
       "    <tr>\n",
       "      <th>1</th>\n",
       "      <td>0</td>\n",
       "      <td>201702</td>\n",
       "      <td>5.36212</td>\n",
       "      <td>2017-01-01</td>\n",
       "      <td>2019-12-01</td>\n",
       "      <td>36.0</td>\n",
       "      <td>214.60446</td>\n",
       "      <td>0.47173</td>\n",
       "      <td>5.961235</td>\n",
       "      <td>6.234785</td>\n",
       "      <td>2.164849</td>\n",
       "      <td>3.344115</td>\n",
       "      <td>9.23561</td>\n",
       "    </tr>\n",
       "    <tr>\n",
       "      <th>2</th>\n",
       "      <td>0</td>\n",
       "      <td>201703</td>\n",
       "      <td>4.27708</td>\n",
       "      <td>2017-01-01</td>\n",
       "      <td>2019-12-01</td>\n",
       "      <td>36.0</td>\n",
       "      <td>214.60446</td>\n",
       "      <td>0.47173</td>\n",
       "      <td>5.961235</td>\n",
       "      <td>6.234785</td>\n",
       "      <td>2.164849</td>\n",
       "      <td>3.344115</td>\n",
       "      <td>9.23561</td>\n",
       "    </tr>\n",
       "    <tr>\n",
       "      <th>3</th>\n",
       "      <td>0</td>\n",
       "      <td>201704</td>\n",
       "      <td>7.85708</td>\n",
       "      <td>2017-01-01</td>\n",
       "      <td>2019-12-01</td>\n",
       "      <td>36.0</td>\n",
       "      <td>214.60446</td>\n",
       "      <td>0.47173</td>\n",
       "      <td>5.961235</td>\n",
       "      <td>6.234785</td>\n",
       "      <td>2.164849</td>\n",
       "      <td>3.344115</td>\n",
       "      <td>9.23561</td>\n",
       "    </tr>\n",
       "    <tr>\n",
       "      <th>4</th>\n",
       "      <td>0</td>\n",
       "      <td>201705</td>\n",
       "      <td>5.64517</td>\n",
       "      <td>2017-01-01</td>\n",
       "      <td>2019-12-01</td>\n",
       "      <td>36.0</td>\n",
       "      <td>214.60446</td>\n",
       "      <td>0.47173</td>\n",
       "      <td>5.961235</td>\n",
       "      <td>6.234785</td>\n",
       "      <td>2.164849</td>\n",
       "      <td>3.344115</td>\n",
       "      <td>9.23561</td>\n",
       "    </tr>\n",
       "  </tbody>\n",
       "</table>\n",
       "</div>"
      ],
      "text/plain": [
       "   group_index  periodo       tn primer_periodo ultimo_periodo  values  \\\n",
       "0            0   201701  6.32131     2017-01-01     2019-12-01    36.0   \n",
       "1            0   201702  5.36212     2017-01-01     2019-12-01    36.0   \n",
       "2            0   201703  4.27708     2017-01-01     2019-12-01    36.0   \n",
       "3            0   201704  7.85708     2017-01-01     2019-12-01    36.0   \n",
       "4            0   201705  5.64517     2017-01-01     2019-12-01    36.0   \n",
       "\n",
       "    total_tn   min_tn  average_tn  median_tn  std_dev_tn    iqr_tn   max_tn  \n",
       "0  214.60446  0.47173    5.961235   6.234785    2.164849  3.344115  9.23561  \n",
       "1  214.60446  0.47173    5.961235   6.234785    2.164849  3.344115  9.23561  \n",
       "2  214.60446  0.47173    5.961235   6.234785    2.164849  3.344115  9.23561  \n",
       "3  214.60446  0.47173    5.961235   6.234785    2.164849  3.344115  9.23561  \n",
       "4  214.60446  0.47173    5.961235   6.234785    2.164849  3.344115  9.23561  "
      ]
     },
     "execution_count": 15,
     "metadata": {},
     "output_type": "execute_result"
    }
   ],
   "source": [
    "df_norm = df.merge(prod_stats, how='left', on='group_index')\n",
    "df_norm.head()"
   ]
  },
  {
   "cell_type": "code",
   "execution_count": 16,
   "metadata": {},
   "outputs": [],
   "source": [
    "df_norm['tn_norm'] = (df_norm['tn'] - df_norm['average_tn']) / df_norm['std_dev_tn']"
   ]
  },
  {
   "cell_type": "code",
   "execution_count": 17,
   "metadata": {},
   "outputs": [
    {
     "data": {
      "text/html": [
       "<div>\n",
       "<style scoped>\n",
       "    .dataframe tbody tr th:only-of-type {\n",
       "        vertical-align: middle;\n",
       "    }\n",
       "\n",
       "    .dataframe tbody tr th {\n",
       "        vertical-align: top;\n",
       "    }\n",
       "\n",
       "    .dataframe thead th {\n",
       "        text-align: right;\n",
       "    }\n",
       "</style>\n",
       "<table border=\"1\" class=\"dataframe\">\n",
       "  <thead>\n",
       "    <tr style=\"text-align: right;\">\n",
       "      <th></th>\n",
       "      <th>group_index</th>\n",
       "      <th>periodo</th>\n",
       "      <th>tn_norm</th>\n",
       "    </tr>\n",
       "  </thead>\n",
       "  <tbody>\n",
       "    <tr>\n",
       "      <th>0</th>\n",
       "      <td>0</td>\n",
       "      <td>201701</td>\n",
       "      <td>0.166328</td>\n",
       "    </tr>\n",
       "    <tr>\n",
       "      <th>1</th>\n",
       "      <td>0</td>\n",
       "      <td>201702</td>\n",
       "      <td>-0.276747</td>\n",
       "    </tr>\n",
       "    <tr>\n",
       "      <th>2</th>\n",
       "      <td>0</td>\n",
       "      <td>201703</td>\n",
       "      <td>-0.777955</td>\n",
       "    </tr>\n",
       "    <tr>\n",
       "      <th>3</th>\n",
       "      <td>0</td>\n",
       "      <td>201704</td>\n",
       "      <td>0.875740</td>\n",
       "    </tr>\n",
       "    <tr>\n",
       "      <th>4</th>\n",
       "      <td>0</td>\n",
       "      <td>201705</td>\n",
       "      <td>-0.145999</td>\n",
       "    </tr>\n",
       "    <tr>\n",
       "      <th>...</th>\n",
       "      <td>...</td>\n",
       "      <td>...</td>\n",
       "      <td>...</td>\n",
       "    </tr>\n",
       "    <tr>\n",
       "      <th>15411</th>\n",
       "      <td>836</td>\n",
       "      <td>201908</td>\n",
       "      <td>-0.577488</td>\n",
       "    </tr>\n",
       "    <tr>\n",
       "      <th>15412</th>\n",
       "      <td>836</td>\n",
       "      <td>201909</td>\n",
       "      <td>-0.223904</td>\n",
       "    </tr>\n",
       "    <tr>\n",
       "      <th>15413</th>\n",
       "      <td>836</td>\n",
       "      <td>201910</td>\n",
       "      <td>-0.374476</td>\n",
       "    </tr>\n",
       "    <tr>\n",
       "      <th>15414</th>\n",
       "      <td>836</td>\n",
       "      <td>201911</td>\n",
       "      <td>-0.728240</td>\n",
       "    </tr>\n",
       "    <tr>\n",
       "      <th>15415</th>\n",
       "      <td>836</td>\n",
       "      <td>201912</td>\n",
       "      <td>-0.780589</td>\n",
       "    </tr>\n",
       "  </tbody>\n",
       "</table>\n",
       "<p>15416 rows × 3 columns</p>\n",
       "</div>"
      ],
      "text/plain": [
       "       group_index  periodo   tn_norm\n",
       "0                0   201701  0.166328\n",
       "1                0   201702 -0.276747\n",
       "2                0   201703 -0.777955\n",
       "3                0   201704  0.875740\n",
       "4                0   201705 -0.145999\n",
       "...            ...      ...       ...\n",
       "15411          836   201908 -0.577488\n",
       "15412          836   201909 -0.223904\n",
       "15413          836   201910 -0.374476\n",
       "15414          836   201911 -0.728240\n",
       "15415          836   201912 -0.780589\n",
       "\n",
       "[15416 rows x 3 columns]"
      ]
     },
     "execution_count": 17,
     "metadata": {},
     "output_type": "execute_result"
    }
   ],
   "source": [
    "df_norm[['group_index', 'periodo','tn_norm']]"
   ]
  },
  {
   "cell_type": "code",
   "execution_count": 18,
   "metadata": {},
   "outputs": [],
   "source": [
    "df_norm.to_parquet(f'{folder}/{path_norm}', index=False)"
   ]
  },
  {
   "cell_type": "code",
   "execution_count": 19,
   "metadata": {},
   "outputs": [
    {
     "data": {
      "text/plain": [
       "(542, 14)"
      ]
     },
     "execution_count": 19,
     "metadata": {},
     "output_type": "execute_result"
    }
   ],
   "source": [
    "df_norm[df_norm['periodo'] == 201912].shape"
   ]
  },
  {
   "cell_type": "code",
   "execution_count": 20,
   "metadata": {},
   "outputs": [],
   "source": [
    "#estado_control = f\"02_normaliza Terminado - {nombrefile} - {datetime.now()}\""
   ]
  },
  {
   "cell_type": "code",
   "execution_count": 21,
   "metadata": {},
   "outputs": [
    {
     "name": "stdout",
     "output_type": "stream",
     "text": [
      "--------------------------------------------02_normaliza--------------------------------------------\n",
      "----------------------------------------------FINALIZA----------------------------------------------\n"
     ]
    }
   ],
   "source": [
    "print(f\"{fase:-^100}\")\n",
    "print(f\"{'FINALIZA':-^100}\\n\")"
   ]
  }
 ],
 "metadata": {
  "kernelspec": {
   "display_name": "uni",
   "language": "python",
   "name": "python3"
  },
  "language_info": {
   "codemirror_mode": {
    "name": "ipython",
    "version": 3
   },
   "file_extension": ".py",
   "mimetype": "text/x-python",
   "name": "python",
   "nbconvert_exporter": "python",
   "pygments_lexer": "ipython3",
   "version": "3.10.13"
  }
 },
 "nbformat": 4,
 "nbformat_minor": 2
}
