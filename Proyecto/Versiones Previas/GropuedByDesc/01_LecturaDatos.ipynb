{
 "cells": [
  {
   "cell_type": "code",
   "execution_count": 70,
   "metadata": {},
   "outputs": [],
   "source": [
    "import pandas as pd\n",
    "import numpy as np\n",
    "import json\n",
    "from datetime import datetime\n",
    "import matplotlib.pyplot as plt\n",
    "import os\n",
    "\n",
    "fase = '01_LecturaDatos'"
   ]
  },
  {
   "cell_type": "code",
   "execution_count": 51,
   "metadata": {},
   "outputs": [],
   "source": [
    "with open('gen_config.json', 'r') as file:\n",
    "    gen_config =json.load(file)"
   ]
  },
  {
   "cell_type": "code",
   "execution_count": 73,
   "metadata": {},
   "outputs": [
    {
     "name": "stdout",
     "output_type": "stream",
     "text": [
      "----------------------------------------------COMIENZA----------------------------------------------\n",
      "------------------------------------------01_LecturaDatos-------------------------------------------\n"
     ]
    }
   ],
   "source": [
    "folder = gen_config['folder']\n",
    "\n",
    "path_group = gen_config['path_group']\n",
    "path_prod_stats = gen_config['path_prod_stats']\n",
    "path_prod_data_group = gen_config['path_prod_data_group']\n",
    "path_prod_data_ungroup = gen_config['path_prod_data_ungroup']\n",
    "path_stock_data = gen_config['path_stock_data']\n",
    "\n",
    "periodo_rep_start = gen_config['var_periodo_rep_start']\n",
    "periodo_rep_end = gen_config['var_periodo_rep_end']\n",
    "\n",
    "print(f\"{'COMIENZA':-^100}\")\n",
    "print(f\"{fase:-^100}\")"
   ]
  },
  {
   "cell_type": "code",
   "execution_count": 55,
   "metadata": {},
   "outputs": [],
   "source": [
    "df = pd.read_csv('../sell-in.txt',sep='\\t')\n",
    "prod_a_predecir = pd.read_csv('../productos_a_predecir.txt', sep='\\t')\n",
    "prod_data_ungroup = pd.read_csv('../tb_productos_descripcion.txt', sep='\\t')\n",
    "stock_data = pd.read_csv('../tb_stocks.txt', sep='\\t')"
   ]
  },
  {
   "cell_type": "code",
   "execution_count": 56,
   "metadata": {},
   "outputs": [],
   "source": [
    "#filtrar los de la lista final\n",
    "df = df[df['product_id'].isin(prod_a_predecir['product_id'])]"
   ]
  },
  {
   "cell_type": "code",
   "execution_count": 57,
   "metadata": {},
   "outputs": [],
   "source": [
    "prod_data_group = prod_data_ungroup.groupby(['cat1','cat2','cat3','brand','descripcion'],\n",
    "                            observed=False,\n",
    "                            as_index=False,\n",
    "                            group_keys=True\n",
    "                            ).count()\n",
    "prod_data_group['group_index'] = prod_data_group.index\n",
    "prod_data_group.rename(columns={'sku_size': 'sku_size_count', 'product_id': 'product_id_count'},\n",
    "                        inplace=True)\n",
    "\n",
    "prod_data_ungroup = prod_data_ungroup.merge(prod_data_group.drop(\n",
    "    columns=['sku_size_count','product_id_count']),\n",
    "    on=['cat1','cat2','cat3','brand','descripcion'],\n",
    "    how='left')"
   ]
  },
  {
   "cell_type": "code",
   "execution_count": 58,
   "metadata": {},
   "outputs": [],
   "source": [
    "# for col in prod_data_group.select_dtypes(include=['object']).columns:\n",
    "#     prod_data_group[col] = prod_data_group[col].astype('category')\n",
    "\n",
    "# for col in prod_data_ungroup.select_dtypes(include=['object']).columns:\n",
    "#     prod_data_ungroup[col] = prod_data_ungroup[col].astype('category')"
   ]
  },
  {
   "cell_type": "code",
   "execution_count": 59,
   "metadata": {},
   "outputs": [],
   "source": [
    "df_grouped = df.groupby(['periodo', 'product_id']).sum().reset_index()"
   ]
  },
  {
   "cell_type": "code",
   "execution_count": 60,
   "metadata": {},
   "outputs": [],
   "source": [
    "df_grouped = df_grouped.merge(prod_data_ungroup, on='product_id', how='left')"
   ]
  },
  {
   "cell_type": "code",
   "execution_count": 61,
   "metadata": {},
   "outputs": [],
   "source": [
    "# print(f\"Unicos:\\n{df.nunique()}\\n\\n\")\n",
    "# print(f\"Nulos:\\n{df.isnull().sum()}\")"
   ]
  },
  {
   "cell_type": "code",
   "execution_count": 62,
   "metadata": {},
   "outputs": [],
   "source": [
    "df_grouped = df_grouped.groupby(['periodo', 'group_index']).sum().reset_index()"
   ]
  },
  {
   "cell_type": "code",
   "execution_count": 63,
   "metadata": {},
   "outputs": [],
   "source": [
    "df_grouped['group_index'] = df_grouped['group_index'].astype(int)"
   ]
  },
  {
   "cell_type": "code",
   "execution_count": 64,
   "metadata": {},
   "outputs": [],
   "source": [
    "df_grouped = df_grouped[['group_index', 'periodo', 'tn']]\n",
    "df_grouped.sort_values(by=['group_index', 'periodo'], inplace=True)\n",
    "df_grouped.reset_index(drop=True, inplace=True)"
   ]
  },
  {
   "cell_type": "code",
   "execution_count": 74,
   "metadata": {},
   "outputs": [
    {
     "name": "stdout",
     "output_type": "stream",
     "text": [
      "Tamaño data_grouped......: (15416, 3)\n"
     ]
    }
   ],
   "source": [
    "print(f\"{'Tamaño data_grouped':.<25}: {df_grouped.shape}\")\n",
    "# df_grouped.head()"
   ]
  },
  {
   "cell_type": "code",
   "execution_count": 66,
   "metadata": {},
   "outputs": [],
   "source": [
    "#deberia haberse lamado group stats, la idea de armar grupos por descripcion vino luego de escribir esto y los scripts posteriores\n",
    "\n",
    "prod_stats = df_grouped.groupby('group_index').apply(lambda group: pd.Series({\n",
    "    'primer_periodo': group['periodo'].min(),\n",
    "    'ultimo_periodo': group['periodo'].max(),\n",
    "    'values': group['tn'].count(),\n",
    "    'total_tn': group['tn'].sum(),\n",
    "    'min_tn': group['tn'].min(),\n",
    "    'average_tn': group['tn'].mean(),\n",
    "    'median_tn': group['tn'].median(),\n",
    "    'std_dev_tn': group['tn'].std(),\n",
    "    'iqr_tn': (group['tn'].quantile(0.75) - group['tn'].quantile(0.25)),\n",
    "    'max_tn': group['tn'].max()\n",
    "}))\n",
    "prod_stats['primer_periodo'] = prod_stats['primer_periodo'].astype(int)\n",
    "prod_stats['primer_periodo'] = pd.to_datetime(prod_stats['primer_periodo'].astype(str), format='%Y%m')\n",
    "\n",
    "prod_stats['ultimo_periodo'] = prod_stats['ultimo_periodo'].astype(int)\n",
    "prod_stats['ultimo_periodo'] = pd.to_datetime(prod_stats['ultimo_periodo'].astype(str), format='%Y%m')\n",
    "\n",
    "prod_stats.reset_index(inplace=True)"
   ]
  },
  {
   "cell_type": "code",
   "execution_count": 67,
   "metadata": {},
   "outputs": [],
   "source": [
    "df_prod_level = df[['product_id', 'periodo', 'tn']].groupby(['product_id', 'periodo'], as_index=False).sum()\n",
    "df_prod_level.sort_values(by=['product_id', 'periodo'], inplace=True)\n",
    "\n",
    "df_prod_level = df_prod_level.merge(prod_data_ungroup[['product_id','group_index']], on='product_id', how='left')\n",
    "\n",
    "df_prod_level = df_prod_level[(df_prod_level['periodo'] >= periodo_rep_start) & (df_prod_level['periodo'] <= periodo_rep_end)]\n",
    "\n",
    "df_prod_level = df_prod_level.groupby(['product_id','group_index'],\n",
    "            as_index=False).apply(lambda group: pd.Series({\n",
    "                    'cuenta': group['periodo'].nunique(),\n",
    "                    'tn': group['tn'].sum(),}))\n",
    "\n",
    "df_prod_level['group_sum'] = df_prod_level.groupby('group_index')['tn'].transform('sum')\n",
    "df_prod_level['proporcion'] = df_prod_level['tn'] / df_prod_level['group_sum']\n",
    "\n",
    "df_prod_level.sort_values(by=['group_index', 'product_id'], inplace=True)\n",
    "#df_prod_level = df_prod_level.merge(prod_stats, on='group_index', how='left')\n",
    "\n",
    "df_prod_level = df_prod_level[['product_id','group_index','proporcion']]\n",
    "\n",
    "prod_data_ungroup = prod_data_ungroup.merge(df_prod_level, on=['product_id','group_index'], how='left')"
   ]
  },
  {
   "cell_type": "code",
   "execution_count": 75,
   "metadata": {},
   "outputs": [
    {
     "name": "stdout",
     "output_type": "stream",
     "text": [
      "Tamaño prod_stats........: (542, 11)\n"
     ]
    }
   ],
   "source": [
    "print(f\"{'Tamaño prod_stats':.<25}: {prod_stats.shape}\")\n",
    "# prod_stats.head()"
   ]
  },
  {
   "cell_type": "code",
   "execution_count": 69,
   "metadata": {},
   "outputs": [],
   "source": [
    "if not os.path.exists(folder):\n",
    "    os.makedirs(folder)\n",
    "\n",
    "df_grouped.to_parquet(f'{folder}/{path_group}', index=False)\n",
    "prod_stats.to_parquet(f'{folder}/{path_prod_stats}', index=False)\n",
    "prod_data_group.to_parquet(f'{folder}/{path_prod_data_group}', index=False)\n",
    "prod_data_ungroup.to_parquet(f'{folder}/{path_prod_data_ungroup}', index=False)\n",
    "stock_data.to_parquet(f'{folder}/{path_stock_data}', index=False)"
   ]
  },
  {
   "cell_type": "code",
   "execution_count": 72,
   "metadata": {},
   "outputs": [
    {
     "name": "stdout",
     "output_type": "stream",
     "text": [
      "------------------------------------------01_LecturaDatos-------------------------------------------\n",
      "----------------------------------------------FINALIZA----------------------------------------------\n"
     ]
    }
   ],
   "source": [
    "print(f\"{fase:-^100}\")\n",
    "print(f\"{'FINALIZA':-^100}\\n\")"
   ]
  },
  {
   "cell_type": "code",
   "execution_count": null,
   "metadata": {},
   "outputs": [],
   "source": [
    "# for col in prod_data_group.select_dtypes(include=['object']).columns:\n",
    "#     prod_data_group[col] = prod_data_group[col].astype('category')\n",
    "\n",
    "# for col in prod_data_ungroup.select_dtypes(include=['object']).columns:\n",
    "#     prod_data_ungroup[col] = prod_data_ungroup[col].astype('category')"
   ]
  }
 ],
 "metadata": {
  "kernelspec": {
   "display_name": "uni",
   "language": "python",
   "name": "python3"
  },
  "language_info": {
   "codemirror_mode": {
    "name": "ipython",
    "version": 3
   },
   "file_extension": ".py",
   "mimetype": "text/x-python",
   "name": "python",
   "nbconvert_exporter": "python",
   "pygments_lexer": "ipython3",
   "version": "3.10.13"
  }
 },
 "nbformat": 4,
 "nbformat_minor": 2
}
