{
 "cells": [
  {
   "cell_type": "code",
   "execution_count": 13,
   "metadata": {},
   "outputs": [],
   "source": [
    "import pandas as pd\n",
    "import numpy as np\n",
    "from datetime import datetime\n",
    "import os"
   ]
  },
  {
   "cell_type": "code",
   "execution_count": 14,
   "metadata": {},
   "outputs": [
    {
     "name": "stdout",
     "output_type": "stream",
     "text": [
      "------------------------------COMIENZA-----------------------------\n",
      "[DefaultFolder/['01_sell_in_group.parquet', '01_prod_stats.parquet', '01_prod_data.parquet', '01_stock_data.parquet']\n"
     ]
    }
   ],
   "source": [
    "try:\n",
    "    FILES\n",
    "    FILE = FILES[0]\n",
    "    FOLDER\n",
    "except NameError:\n",
    "    FILE = []\n",
    "    FILE.append('01_sell_in_group.parquet')\n",
    "    FILE.append('01_prod_stats.parquet')\n",
    "    FILE.append('01_prod_data.parquet')\n",
    "    FILE.append('01_stock_data.parquet')\n",
    "    FOLDER = 'DefaultFolder'\n",
    "\n",
    "\n",
    "print(f\"------------------------------COMIENZA-----------------------------\\n[{FOLDER}/{FILE}\")"
   ]
  },
  {
   "cell_type": "code",
   "execution_count": 15,
   "metadata": {},
   "outputs": [],
   "source": [
    "df = pd.read_csv('../sell-in.txt',sep='\\t')\n",
    "prod_a_predecir = pd.read_csv('../productos_a_predecir.txt', sep='\\t')\n",
    "prod_data = pd.read_csv('../tb_productos.txt', sep='\\t')\n",
    "stock_data = pd.read_csv('../tb_stocks.txt', sep='\\t')"
   ]
  },
  {
   "cell_type": "code",
   "execution_count": 16,
   "metadata": {},
   "outputs": [],
   "source": [
    "for col in prod_data.select_dtypes(include=['object']).columns:\n",
    "    prod_data[col] = prod_data[col].astype('category')\n",
    "\n",
    "prod_data = prod_data.drop_duplicates(subset='product_id')"
   ]
  },
  {
   "cell_type": "code",
   "execution_count": 17,
   "metadata": {},
   "outputs": [],
   "source": [
    "df_grouped = df.groupby(['periodo', 'product_id']).sum().reset_index()"
   ]
  },
  {
   "cell_type": "code",
   "execution_count": 18,
   "metadata": {},
   "outputs": [],
   "source": [
    "df_grouped = df_grouped[['product_id', 'periodo', 'tn']]\n",
    "df_grouped.sort_values(by=['product_id', 'periodo'], inplace=True)\n",
    "df_grouped.reset_index(drop=True, inplace=True)"
   ]
  },
  {
   "cell_type": "code",
   "execution_count": 19,
   "metadata": {},
   "outputs": [
    {
     "name": "stdout",
     "output_type": "stream",
     "text": [
      "(31243, 3)\n"
     ]
    },
    {
     "data": {
      "text/html": [
       "<div>\n",
       "<style scoped>\n",
       "    .dataframe tbody tr th:only-of-type {\n",
       "        vertical-align: middle;\n",
       "    }\n",
       "\n",
       "    .dataframe tbody tr th {\n",
       "        vertical-align: top;\n",
       "    }\n",
       "\n",
       "    .dataframe thead th {\n",
       "        text-align: right;\n",
       "    }\n",
       "</style>\n",
       "<table border=\"1\" class=\"dataframe\">\n",
       "  <thead>\n",
       "    <tr style=\"text-align: right;\">\n",
       "      <th></th>\n",
       "      <th>product_id</th>\n",
       "      <th>periodo</th>\n",
       "      <th>tn</th>\n",
       "    </tr>\n",
       "  </thead>\n",
       "  <tbody>\n",
       "    <tr>\n",
       "      <th>0</th>\n",
       "      <td>20001</td>\n",
       "      <td>201701</td>\n",
       "      <td>934.77222</td>\n",
       "    </tr>\n",
       "    <tr>\n",
       "      <th>1</th>\n",
       "      <td>20001</td>\n",
       "      <td>201702</td>\n",
       "      <td>798.01620</td>\n",
       "    </tr>\n",
       "    <tr>\n",
       "      <th>2</th>\n",
       "      <td>20001</td>\n",
       "      <td>201703</td>\n",
       "      <td>1303.35771</td>\n",
       "    </tr>\n",
       "    <tr>\n",
       "      <th>3</th>\n",
       "      <td>20001</td>\n",
       "      <td>201704</td>\n",
       "      <td>1069.96130</td>\n",
       "    </tr>\n",
       "    <tr>\n",
       "      <th>4</th>\n",
       "      <td>20001</td>\n",
       "      <td>201705</td>\n",
       "      <td>1502.20132</td>\n",
       "    </tr>\n",
       "  </tbody>\n",
       "</table>\n",
       "</div>"
      ],
      "text/plain": [
       "   product_id  periodo          tn\n",
       "0       20001   201701   934.77222\n",
       "1       20001   201702   798.01620\n",
       "2       20001   201703  1303.35771\n",
       "3       20001   201704  1069.96130\n",
       "4       20001   201705  1502.20132"
      ]
     },
     "execution_count": 19,
     "metadata": {},
     "output_type": "execute_result"
    }
   ],
   "source": [
    "print(df_grouped.shape)\n",
    "df_grouped.head()"
   ]
  },
  {
   "cell_type": "code",
   "execution_count": 20,
   "metadata": {},
   "outputs": [],
   "source": [
    "prod_stats = df_grouped.groupby('product_id').apply(lambda group: pd.Series({\n",
    "    'primer_periodo': group['periodo'].min(),\n",
    "    'ultimo_periodo': group['periodo'].max(),\n",
    "    'values': group['tn'].count(),\n",
    "    'total_tn': group['tn'].sum(),\n",
    "    'min_tn': group['tn'].min(),\n",
    "    'average_tn': group['tn'].mean(),\n",
    "    'median_tn': group['tn'].median(),\n",
    "    'std_dev_tn': group['tn'].std(),\n",
    "    'iqr_tn': (group['tn'].quantile(0.75) - group['tn'].quantile(0.25)),\n",
    "    'max_tn': group['tn'].max()\n",
    "}))\n",
    "prod_stats['primer_periodo'] = prod_stats['primer_periodo'].astype(int)\n",
    "prod_stats['primer_periodo'] = pd.to_datetime(prod_stats['primer_periodo'].astype(str), format='%Y%m')\n",
    "\n",
    "prod_stats['ultimo_periodo'] = prod_stats['ultimo_periodo'].astype(int)\n",
    "prod_stats['ultimo_periodo'] = pd.to_datetime(prod_stats['ultimo_periodo'].astype(str), format='%Y%m')\n",
    "\n",
    "prod_stats.reset_index(inplace=True)"
   ]
  },
  {
   "cell_type": "code",
   "execution_count": 21,
   "metadata": {},
   "outputs": [],
   "source": [
    "prod_stats = prod_stats[prod_stats['product_id'].isin(prod_a_predecir['product_id'])]\n",
    "df_grouped = df_grouped[df_grouped['product_id'].isin(prod_a_predecir['product_id'])]\n",
    "\n",
    "#prod_stats = prod_stats\n",
    "#df_grouped = df_grouped"
   ]
  },
  {
   "cell_type": "code",
   "execution_count": 22,
   "metadata": {},
   "outputs": [
    {
     "name": "stdout",
     "output_type": "stream",
     "text": [
      "(780, 11)\n"
     ]
    },
    {
     "data": {
      "text/html": [
       "<div>\n",
       "<style scoped>\n",
       "    .dataframe tbody tr th:only-of-type {\n",
       "        vertical-align: middle;\n",
       "    }\n",
       "\n",
       "    .dataframe tbody tr th {\n",
       "        vertical-align: top;\n",
       "    }\n",
       "\n",
       "    .dataframe thead th {\n",
       "        text-align: right;\n",
       "    }\n",
       "</style>\n",
       "<table border=\"1\" class=\"dataframe\">\n",
       "  <thead>\n",
       "    <tr style=\"text-align: right;\">\n",
       "      <th></th>\n",
       "      <th>product_id</th>\n",
       "      <th>primer_periodo</th>\n",
       "      <th>ultimo_periodo</th>\n",
       "      <th>values</th>\n",
       "      <th>total_tn</th>\n",
       "      <th>min_tn</th>\n",
       "      <th>average_tn</th>\n",
       "      <th>median_tn</th>\n",
       "      <th>std_dev_tn</th>\n",
       "      <th>iqr_tn</th>\n",
       "      <th>max_tn</th>\n",
       "    </tr>\n",
       "  </thead>\n",
       "  <tbody>\n",
       "    <tr>\n",
       "      <th>0</th>\n",
       "      <td>20001</td>\n",
       "      <td>2017-01-01</td>\n",
       "      <td>2019-12-01</td>\n",
       "      <td>36.0</td>\n",
       "      <td>50340.39558</td>\n",
       "      <td>798.01620</td>\n",
       "      <td>1398.344322</td>\n",
       "      <td>1418.023430</td>\n",
       "      <td>298.145460</td>\n",
       "      <td>335.515348</td>\n",
       "      <td>2295.19832</td>\n",
       "    </tr>\n",
       "    <tr>\n",
       "      <th>1</th>\n",
       "      <td>20002</td>\n",
       "      <td>2017-01-01</td>\n",
       "      <td>2019-12-01</td>\n",
       "      <td>36.0</td>\n",
       "      <td>36337.25439</td>\n",
       "      <td>505.88633</td>\n",
       "      <td>1009.368178</td>\n",
       "      <td>992.005505</td>\n",
       "      <td>303.834835</td>\n",
       "      <td>246.766150</td>\n",
       "      <td>1979.53635</td>\n",
       "    </tr>\n",
       "    <tr>\n",
       "      <th>2</th>\n",
       "      <td>20003</td>\n",
       "      <td>2017-01-01</td>\n",
       "      <td>2019-12-01</td>\n",
       "      <td>36.0</td>\n",
       "      <td>32004.15274</td>\n",
       "      <td>525.82591</td>\n",
       "      <td>889.004243</td>\n",
       "      <td>786.715735</td>\n",
       "      <td>292.036581</td>\n",
       "      <td>260.440887</td>\n",
       "      <td>1958.59845</td>\n",
       "    </tr>\n",
       "    <tr>\n",
       "      <th>3</th>\n",
       "      <td>20004</td>\n",
       "      <td>2017-01-01</td>\n",
       "      <td>2019-12-01</td>\n",
       "      <td>36.0</td>\n",
       "      <td>24178.15379</td>\n",
       "      <td>415.52538</td>\n",
       "      <td>671.615383</td>\n",
       "      <td>596.909300</td>\n",
       "      <td>224.450085</td>\n",
       "      <td>279.662265</td>\n",
       "      <td>1268.21209</td>\n",
       "    </tr>\n",
       "    <tr>\n",
       "      <th>4</th>\n",
       "      <td>20005</td>\n",
       "      <td>2017-01-01</td>\n",
       "      <td>2019-12-01</td>\n",
       "      <td>36.0</td>\n",
       "      <td>23191.21852</td>\n",
       "      <td>329.42894</td>\n",
       "      <td>644.200514</td>\n",
       "      <td>578.571990</td>\n",
       "      <td>218.273222</td>\n",
       "      <td>305.415543</td>\n",
       "      <td>1247.88880</td>\n",
       "    </tr>\n",
       "  </tbody>\n",
       "</table>\n",
       "</div>"
      ],
      "text/plain": [
       "   product_id primer_periodo ultimo_periodo  values     total_tn     min_tn  \\\n",
       "0       20001     2017-01-01     2019-12-01    36.0  50340.39558  798.01620   \n",
       "1       20002     2017-01-01     2019-12-01    36.0  36337.25439  505.88633   \n",
       "2       20003     2017-01-01     2019-12-01    36.0  32004.15274  525.82591   \n",
       "3       20004     2017-01-01     2019-12-01    36.0  24178.15379  415.52538   \n",
       "4       20005     2017-01-01     2019-12-01    36.0  23191.21852  329.42894   \n",
       "\n",
       "    average_tn    median_tn  std_dev_tn      iqr_tn      max_tn  \n",
       "0  1398.344322  1418.023430  298.145460  335.515348  2295.19832  \n",
       "1  1009.368178   992.005505  303.834835  246.766150  1979.53635  \n",
       "2   889.004243   786.715735  292.036581  260.440887  1958.59845  \n",
       "3   671.615383   596.909300  224.450085  279.662265  1268.21209  \n",
       "4   644.200514   578.571990  218.273222  305.415543  1247.88880  "
      ]
     },
     "execution_count": 22,
     "metadata": {},
     "output_type": "execute_result"
    }
   ],
   "source": [
    "print(prod_stats.shape)\n",
    "prod_stats.head()"
   ]
  },
  {
   "cell_type": "code",
   "execution_count": 23,
   "metadata": {},
   "outputs": [],
   "source": [
    "if not os.path.exists(FOLDER):\n",
    "    os.makedirs(FOLDER)\n",
    "\n",
    "df_grouped.to_parquet(f'{FOLDER}/{FILE[0]}', index=False)\n",
    "prod_stats.to_parquet(f'{FOLDER}/{FILE[1]}', index=False)\n",
    "prod_data.to_parquet(f'{FOLDER}/{FILE[2]}', index=False)\n",
    "stock_data.to_parquet(f'{FOLDER}/{FILE[3]}', index=False)"
   ]
  },
  {
   "cell_type": "code",
   "execution_count": 24,
   "metadata": {},
   "outputs": [],
   "source": [
    "import matplotlib.pyplot as plt"
   ]
  },
  {
   "cell_type": "code",
   "execution_count": 25,
   "metadata": {},
   "outputs": [
    {
     "data": {
      "text/html": [
       "<div>\n",
       "<style scoped>\n",
       "    .dataframe tbody tr th:only-of-type {\n",
       "        vertical-align: middle;\n",
       "    }\n",
       "\n",
       "    .dataframe tbody tr th {\n",
       "        vertical-align: top;\n",
       "    }\n",
       "\n",
       "    .dataframe thead th {\n",
       "        text-align: right;\n",
       "    }\n",
       "</style>\n",
       "<table border=\"1\" class=\"dataframe\">\n",
       "  <thead>\n",
       "    <tr style=\"text-align: right;\">\n",
       "      <th></th>\n",
       "      <th>periodo</th>\n",
       "      <th>tn</th>\n",
       "      <th>fecha</th>\n",
       "    </tr>\n",
       "  </thead>\n",
       "  <tbody>\n",
       "    <tr>\n",
       "      <th>0</th>\n",
       "      <td>201701</td>\n",
       "      <td>54.836658</td>\n",
       "      <td>2017-01-01</td>\n",
       "    </tr>\n",
       "    <tr>\n",
       "      <th>1</th>\n",
       "      <td>201702</td>\n",
       "      <td>54.827691</td>\n",
       "      <td>2017-02-01</td>\n",
       "    </tr>\n",
       "    <tr>\n",
       "      <th>2</th>\n",
       "      <td>201703</td>\n",
       "      <td>73.167157</td>\n",
       "      <td>2017-03-01</td>\n",
       "    </tr>\n",
       "    <tr>\n",
       "      <th>3</th>\n",
       "      <td>201704</td>\n",
       "      <td>62.153104</td>\n",
       "      <td>2017-04-01</td>\n",
       "    </tr>\n",
       "    <tr>\n",
       "      <th>4</th>\n",
       "      <td>201705</td>\n",
       "      <td>70.767490</td>\n",
       "      <td>2017-05-01</td>\n",
       "    </tr>\n",
       "  </tbody>\n",
       "</table>\n",
       "</div>"
      ],
      "text/plain": [
       "   periodo         tn      fecha\n",
       "0   201701  54.836658 2017-01-01\n",
       "1   201702  54.827691 2017-02-01\n",
       "2   201703  73.167157 2017-03-01\n",
       "3   201704  62.153104 2017-04-01\n",
       "4   201705  70.767490 2017-05-01"
      ]
     },
     "execution_count": 25,
     "metadata": {},
     "output_type": "execute_result"
    }
   ],
   "source": [
    "dibujo = pd.DataFrame(df_grouped['tn'].groupby(df_grouped['periodo']).aggregate('mean')).reset_index()\n",
    "dibujo['fecha'] = pd.to_datetime(dibujo['periodo'].astype(str), format='%Y%m')\n",
    "dibujo.head()"
   ]
  },
  {
   "cell_type": "code",
   "execution_count": 26,
   "metadata": {},
   "outputs": [],
   "source": [
    "# plt.figure(figsize=(20, 7))\n",
    "# plt.plot(dibujo['fecha'], dibujo['tn'], marker='o')\n",
    "# plt.title('Total TN by Time')\n",
    "# plt.xlabel('Time')\n",
    "# plt.ylabel('Total TN')\n",
    "# plt.grid(True)\n",
    "# plt.tight_layout()"
   ]
  },
  {
   "cell_type": "code",
   "execution_count": 27,
   "metadata": {},
   "outputs": [
    {
     "name": "stdout",
     "output_type": "stream",
     "text": [
      " DefaultFolder/['01_sell_in_group.parquet', '01_prod_stats.parquet', '01_prod_data.parquet', '01_stock_data.parquet']\n",
      "------------------------------FINALIZA-----------------------------\n"
     ]
    }
   ],
   "source": [
    "print(f\" {FOLDER}/{FILE}\\n------------------------------FINALIZA-----------------------------\")"
   ]
  }
 ],
 "metadata": {
  "kernelspec": {
   "display_name": "uni",
   "language": "python",
   "name": "python3"
  },
  "language_info": {
   "codemirror_mode": {
    "name": "ipython",
    "version": 3
   },
   "file_extension": ".py",
   "mimetype": "text/x-python",
   "name": "python",
   "nbconvert_exporter": "python",
   "pygments_lexer": "ipython3",
   "version": "3.10.13"
  }
 },
 "nbformat": 4,
 "nbformat_minor": 2
}
