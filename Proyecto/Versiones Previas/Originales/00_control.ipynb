{
 "cells": [
  {
   "cell_type": "code",
   "execution_count": 130,
   "metadata": {},
   "outputs": [],
   "source": [
    "from datetime import datetime\n",
    "import os"
   ]
  },
  {
   "cell_type": "code",
   "execution_count": 131,
   "metadata": {},
   "outputs": [],
   "source": [
    "NOMBRE_EXPERIMENTO = 'Clase6_PredJulio2018'\n",
    "\n",
    "FILES = [\n",
    "    ['01_sell_in_group.parquet',\n",
    "        '01_prod_stats.parquet',\n",
    "        '01_prod_data.parquet',\n",
    "        '01_stock_data.parquet'],\n",
    "    ['02_sell_in_norm.parquet'],\n",
    "    ['03_sell_in_lag.parquet'],\n",
    "    ['04_sell_in_train.parquet',\n",
    "        '04_sell_in_test.parquet',\n",
    "        '04_sell_in_futuro.parquet'],\n",
    "    ['05_sell_in_pred.parquet',\n",
    "        '05_sell_in_pred_futuro.parquet'],\n",
    "    ['06_kaggle_pred.csv'],\n",
    "]\n",
    "\n",
    "FOLDER = f'./Experimentos/{NOMBRE_EXPERIMENTO}/'"
   ]
  },
  {
   "cell_type": "code",
   "execution_count": 132,
   "metadata": {},
   "outputs": [
    {
     "name": "stdout",
     "output_type": "stream",
     "text": [
      "./Experimentos/Clase6_PredJulio2018/01_sell_in_group.parquet\n",
      "./Experimentos/Clase6_PredJulio2018/01_prod_stats.parquet\n",
      "./Experimentos/Clase6_PredJulio2018/01_prod_data.parquet\n",
      "./Experimentos/Clase6_PredJulio2018/01_stock_data.parquet\n",
      "./Experimentos/Clase6_PredJulio2018/02_sell_in_norm.parquet\n",
      "./Experimentos/Clase6_PredJulio2018/03_sell_in_lag.parquet\n",
      "./Experimentos/Clase6_PredJulio2018/04_sell_in_train.parquet\n",
      "./Experimentos/Clase6_PredJulio2018/04_sell_in_test.parquet\n",
      "./Experimentos/Clase6_PredJulio2018/04_sell_in_futuro.parquet\n",
      "./Experimentos/Clase6_PredJulio2018/05_sell_in_pred.parquet\n",
      "./Experimentos/Clase6_PredJulio2018/05_sell_in_pred_futuro.parquet\n",
      "./Experimentos/Clase6_PredJulio2018/06_kaggle_pred.csv\n"
     ]
    }
   ],
   "source": [
    "for FILE in FILES:\n",
    "    for f in FILE:\n",
    "        print(f\"{FOLDER}{f}\")"
   ]
  },
  {
   "cell_type": "code",
   "execution_count": 133,
   "metadata": {},
   "outputs": [
    {
     "name": "stdout",
     "output_type": "stream",
     "text": [
      "------------------------------COMIENZA-----------------------------\n",
      "[./Experimentos/Clase6_PredJulio2018//['01_sell_in_group.parquet', '01_prod_stats.parquet', '01_prod_data.parquet', '01_stock_data.parquet']\n",
      "(31243, 3)\n",
      "(1233, 11)\n",
      " ./Experimentos/Clase6_PredJulio2018//['01_sell_in_group.parquet', '01_prod_stats.parquet', '01_prod_data.parquet', '01_stock_data.parquet']\n",
      "------------------------------FINALIZA-----------------------------\n",
      "------------------------------COMIENZA-----------------------------\n",
      "[./Experimentos/Clase6_PredJulio2018//['02_sell_in_norm.parquet']\n",
      " ./Experimentos/Clase6_PredJulio2018//['02_sell_in_norm.parquet']\n",
      "------------------------------FINALIZA-----------------------------\n",
      "------------------------------COMIENZA-----------------------------\n",
      "[./Experimentos/Clase6_PredJulio2018//['03_sell_in_lag.parquet']\n",
      "(927, 20)\n",
      "(927, 166)\n",
      " ./Experimentos/Clase6_PredJulio2018//['03_sell_in_lag.parquet']\n",
      "------------------------------FINALIZA-----------------------------\n",
      "------------------------------COMIENZA-----------------------------\n",
      "[./Experimentos/Clase6_PredJulio2018//['04_sell_in_train.parquet', '04_sell_in_test.parquet', '04_sell_in_futuro.parquet']\n",
      "(31014, 187)\n",
      "df_train: (15611, 179)\n",
      "df_test: (844, 179)\n",
      "df_futuro: (844, 179)\n",
      "Shape Train: (15611, 179) para los periodos desde 201701 hasta 201807\n",
      "Shape Test: (844, 179) para el periodo 201807\n",
      "Shape Futuro: (927, 179) para el periodo 201912\n",
      " ./Experimentos/Clase6_PredJulio2018//['04_sell_in_train.parquet', '04_sell_in_test.parquet', '04_sell_in_futuro.parquet']\n",
      "------------------------------FINALIZA-----------------------------\n",
      "------------------------------COMIENZA-----------------------------\n",
      "[./Experimentos/Clase6_PredJulio2018//['05_sell_in_pred.parquet', '05_sell_in_pred_futuro.parquet']\n",
      "df_train: (15611, 179)\n",
      "df_test: (844, 179)\n",
      "df_futuro: (927, 179)\n",
      "convertida yearquarter\n",
      "convertida cat1\n",
      "convertida cat2\n",
      "convertida cat3\n",
      "convertida brand\n",
      "X_train: (15611, 178)\n",
      "X_test: (844, 178)\n",
      "X_futuro: (927, 178)\n",
      "y_train: (15611,)\n",
      "y_test: (844,)\n",
      "y_futuro: (927,)\n",
      "[LightGBM] [Info] Auto-choosing col-wise multi-threading, the overhead of testing was 0.009962 seconds.\n",
      "You can set `force_col_wise=true` to remove the overhead.\n",
      "[LightGBM] [Info] Total Bins 23483\n",
      "[LightGBM] [Info] Number of data points in the train set: 15611, number of used features: 163\n",
      "[LightGBM] [Info] Start training from score -0.076554\n",
      " ./Experimentos/Clase6_PredJulio2018//['05_sell_in_pred.parquet', '05_sell_in_pred_futuro.parquet']\n",
      "------------------------------FINALIZA-----------------------------\n",
      "------------------------------COMIENZA-----------------------------\n",
      "[./Experimentos/Clase6_PredJulio2018//['06_kaggle_pred.csv']\n",
      " ./Experimentos/Clase6_PredJulio2018//['06_kaggle_pred.csv']\n",
      "------------------------------FINALIZA-----------------------------\n"
     ]
    }
   ],
   "source": [
    "%run 01_LecturaDatos.ipynb\n",
    "%run 02_normaliza.ipynb\n",
    "%run 03_features.ipynb\n",
    "%run 04_crear_train_set.ipynb\n",
    "%run 05_lightgbm.ipynb\n",
    "%run 06_evaluar_prediccion.ipynb"
   ]
  }
 ],
 "metadata": {
  "kernelspec": {
   "display_name": "uni",
   "language": "python",
   "name": "python3"
  },
  "language_info": {
   "codemirror_mode": {
    "name": "ipython",
    "version": 3
   },
   "file_extension": ".py",
   "mimetype": "text/x-python",
   "name": "python",
   "nbconvert_exporter": "python",
   "pygments_lexer": "ipython3",
   "version": "3.10.13"
  }
 },
 "nbformat": 4,
 "nbformat_minor": 2
}
