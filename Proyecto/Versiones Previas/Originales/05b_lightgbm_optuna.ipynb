{
 "cells": [
  {
   "cell_type": "code",
   "execution_count": 74,
   "metadata": {},
   "outputs": [],
   "source": [
    "import numpy as np\n",
    "import pandas as pd\n",
    "import lightgbm as lgb\n",
    "from lightgbm import LGBMRegressor\n",
    "import optuna\n",
    "from sklearn.model_selection import cross_val_score, train_test_split\n",
    "from sklearn.metrics import mean_squared_error\n",
    "import sklearn.metrics\n",
    "from optuna.integration import lightgbm as lgb\n",
    "from matplotlib import pyplot as plt\n",
    "\n",
    "import warnings\n",
    "warnings.filterwarnings(\"ignore\")"
   ]
  },
  {
   "cell_type": "code",
   "execution_count": 59,
   "metadata": {},
   "outputs": [],
   "source": [
    "df_train = pd.read_parquet('sell_in_train.parquet')\n",
    "df_test = pd.read_parquet('sell_in_test.parquet')"
   ]
  },
  {
   "cell_type": "code",
   "execution_count": 60,
   "metadata": {},
   "outputs": [],
   "source": [
    "X_train = df_train.iloc[:,:-1]\n",
    "X_test = df_test.iloc[:,:-1]\n",
    "y_train = df_train.iloc[:,-1]\n",
    "y_test = df_test.iloc[:,-1]"
   ]
  },
  {
   "cell_type": "code",
   "execution_count": 61,
   "metadata": {},
   "outputs": [
    {
     "name": "stdout",
     "output_type": "stream",
     "text": [
      "X_train: (14511, 110)\n",
      "X_test: (780, 110)\n",
      "y_train: (14511,)\n",
      "y_test: (780,)\n"
     ]
    }
   ],
   "source": [
    "print(f\"X_train: {X_train.shape}\")\n",
    "print(f\"X_test: {X_test.shape}\")\n",
    "print(f\"y_train: {y_train.shape}\")\n",
    "print(f\"y_test: {y_test.shape}\")"
   ]
  },
  {
   "cell_type": "code",
   "execution_count": 62,
   "metadata": {},
   "outputs": [],
   "source": [
    "train_data = lgb.Dataset(X_train, label=y_train)\n",
    "test_data = lgb.Dataset(X_test, label=y_test)"
   ]
  },
  {
   "cell_type": "code",
   "execution_count": 63,
   "metadata": {},
   "outputs": [],
   "source": [
    "def objective(trial,data=X_train,target=y_train):\n",
    "    \n",
    "    train_x, test_x, train_y, test_y = train_test_split(data, target, test_size=0.2,random_state=42)\n",
    "    param = {\n",
    "        'metric': 'rmse', \n",
    "        'random_state': 42,\n",
    "        'n_estimators': 20000,\n",
    "        'reg_alpha': trial.suggest_float('reg_alpha', 1e-3, 10.0, log=True),\n",
    "        'reg_lambda': trial.suggest_float('reg_lambda', 1e-3, 10.0, log=True),\n",
    "        'colsample_bytree': trial.suggest_categorical('colsample_bytree', [0.3,0.4,0.5,0.6,0.7,0.8,0.9, 1.0]),\n",
    "        'subsample': trial.suggest_categorical('subsample', [0.4,0.5,0.6,0.7,0.8,1.0]),\n",
    "        'learning_rate': trial.suggest_categorical('learning_rate', [0.006,0.008,0.01,0.014,0.017,0.02]),\n",
    "        'max_depth': trial.suggest_categorical('max_depth', [10,20,100]),\n",
    "        'num_leaves' : trial.suggest_int('num_leaves', 1, 1000),\n",
    "        'min_child_samples': trial.suggest_int('min_child_samples', 1, 300),\n",
    "        'cat_smooth' : trial.suggest_int('min_data_per_groups', 1, 100)\n",
    "    }\n",
    "    model = LGBMRegressor(**param,early_stopping_rounds=100,verbose=-1)  \n",
    "    \n",
    "    model.fit(train_x,train_y,eval_set=[(test_x,test_y)])\n",
    "    \n",
    "    preds = model.predict(test_x)\n",
    "    \n",
    "    rmse = mean_squared_error(test_y, preds,squared=False)\n",
    "    \n",
    "    return rmse"
   ]
  },
  {
   "cell_type": "code",
   "execution_count": 66,
   "metadata": {},
   "outputs": [
    {
     "name": "stderr",
     "output_type": "stream",
     "text": [
      "[I 2024-06-17 02:34:46,620] A new study created in memory with name: no-name-6c329312-6530-4ca7-bc67-8c08f18b6987\n",
      "c:\\Users\\waldo\\miniforge3\\envs\\uni\\lib\\site-packages\\sklearn\\metrics\\_regression.py:483: FutureWarning:\n",
      "\n",
      "'squared' is deprecated in version 1.4 and will be removed in 1.6. To calculate the root mean squared error, use the function'root_mean_squared_error'.\n",
      "\n",
      "[I 2024-06-17 02:34:50,093] Trial 0 finished with value: 0.7800067347362362 and parameters: {'reg_alpha': 0.007842540137231417, 'reg_lambda': 0.026629589953185394, 'colsample_bytree': 0.4, 'subsample': 0.5, 'learning_rate': 0.008, 'max_depth': 10, 'num_leaves': 482, 'min_child_samples': 255, 'min_data_per_groups': 9}. Best is trial 0 with value: 0.7800067347362362.\n",
      "c:\\Users\\waldo\\miniforge3\\envs\\uni\\lib\\site-packages\\sklearn\\metrics\\_regression.py:483: FutureWarning:\n",
      "\n",
      "'squared' is deprecated in version 1.4 and will be removed in 1.6. To calculate the root mean squared error, use the function'root_mean_squared_error'.\n",
      "\n",
      "[I 2024-06-17 02:34:52,168] Trial 1 finished with value: 0.7750502848875352 and parameters: {'reg_alpha': 0.618311662418489, 'reg_lambda': 0.0017358871687974187, 'colsample_bytree': 0.5, 'subsample': 0.4, 'learning_rate': 0.02, 'max_depth': 20, 'num_leaves': 121, 'min_child_samples': 159, 'min_data_per_groups': 82}. Best is trial 1 with value: 0.7750502848875352.\n",
      "c:\\Users\\waldo\\miniforge3\\envs\\uni\\lib\\site-packages\\sklearn\\metrics\\_regression.py:483: FutureWarning:\n",
      "\n",
      "'squared' is deprecated in version 1.4 and will be removed in 1.6. To calculate the root mean squared error, use the function'root_mean_squared_error'.\n",
      "\n",
      "[I 2024-06-17 02:34:55,821] Trial 2 finished with value: 0.7790055501201408 and parameters: {'reg_alpha': 2.514652087966883, 'reg_lambda': 0.12350963000839761, 'colsample_bytree': 0.9, 'subsample': 0.7, 'learning_rate': 0.014, 'max_depth': 100, 'num_leaves': 124, 'min_child_samples': 288, 'min_data_per_groups': 8}. Best is trial 1 with value: 0.7750502848875352.\n",
      "c:\\Users\\waldo\\miniforge3\\envs\\uni\\lib\\site-packages\\sklearn\\metrics\\_regression.py:483: FutureWarning:\n",
      "\n",
      "'squared' is deprecated in version 1.4 and will be removed in 1.6. To calculate the root mean squared error, use the function'root_mean_squared_error'.\n",
      "\n",
      "[I 2024-06-17 02:34:57,872] Trial 3 finished with value: 0.7790490881915226 and parameters: {'reg_alpha': 3.2095875950143813, 'reg_lambda': 3.7253312331323247, 'colsample_bytree': 0.3, 'subsample': 0.8, 'learning_rate': 0.014, 'max_depth': 10, 'num_leaves': 819, 'min_child_samples': 264, 'min_data_per_groups': 91}. Best is trial 1 with value: 0.7750502848875352.\n",
      "c:\\Users\\waldo\\miniforge3\\envs\\uni\\lib\\site-packages\\sklearn\\metrics\\_regression.py:483: FutureWarning:\n",
      "\n",
      "'squared' is deprecated in version 1.4 and will be removed in 1.6. To calculate the root mean squared error, use the function'root_mean_squared_error'.\n",
      "\n",
      "[I 2024-06-17 02:35:01,541] Trial 4 finished with value: 0.7784206185854418 and parameters: {'reg_alpha': 1.0345287069706384, 'reg_lambda': 1.6234083555458785, 'colsample_bytree': 0.5, 'subsample': 0.4, 'learning_rate': 0.01, 'max_depth': 100, 'num_leaves': 630, 'min_child_samples': 231, 'min_data_per_groups': 40}. Best is trial 1 with value: 0.7750502848875352.\n",
      "c:\\Users\\waldo\\miniforge3\\envs\\uni\\lib\\site-packages\\sklearn\\metrics\\_regression.py:483: FutureWarning:\n",
      "\n",
      "'squared' is deprecated in version 1.4 and will be removed in 1.6. To calculate the root mean squared error, use the function'root_mean_squared_error'.\n",
      "\n",
      "[I 2024-06-17 02:35:05,176] Trial 5 finished with value: 0.7736150854043594 and parameters: {'reg_alpha': 2.6745094875103463, 'reg_lambda': 0.0039162009103683405, 'colsample_bytree': 0.3, 'subsample': 0.4, 'learning_rate': 0.014, 'max_depth': 20, 'num_leaves': 617, 'min_child_samples': 164, 'min_data_per_groups': 3}. Best is trial 5 with value: 0.7736150854043594.\n",
      "c:\\Users\\waldo\\miniforge3\\envs\\uni\\lib\\site-packages\\sklearn\\metrics\\_regression.py:483: FutureWarning:\n",
      "\n",
      "'squared' is deprecated in version 1.4 and will be removed in 1.6. To calculate the root mean squared error, use the function'root_mean_squared_error'.\n",
      "\n",
      "[I 2024-06-17 02:35:13,439] Trial 6 finished with value: 0.7749469407131356 and parameters: {'reg_alpha': 0.007974714833945934, 'reg_lambda': 0.19733462104848523, 'colsample_bytree': 0.9, 'subsample': 0.5, 'learning_rate': 0.01, 'max_depth': 100, 'num_leaves': 691, 'min_child_samples': 56, 'min_data_per_groups': 66}. Best is trial 5 with value: 0.7736150854043594.\n",
      "c:\\Users\\waldo\\miniforge3\\envs\\uni\\lib\\site-packages\\sklearn\\metrics\\_regression.py:483: FutureWarning:\n",
      "\n",
      "'squared' is deprecated in version 1.4 and will be removed in 1.6. To calculate the root mean squared error, use the function'root_mean_squared_error'.\n",
      "\n",
      "[I 2024-06-17 02:35:18,398] Trial 7 finished with value: 0.7692563142485178 and parameters: {'reg_alpha': 0.27769078912226813, 'reg_lambda': 4.080287393794512, 'colsample_bytree': 0.5, 'subsample': 0.8, 'learning_rate': 0.02, 'max_depth': 100, 'num_leaves': 581, 'min_child_samples': 66, 'min_data_per_groups': 37}. Best is trial 7 with value: 0.7692563142485178.\n",
      "c:\\Users\\waldo\\miniforge3\\envs\\uni\\lib\\site-packages\\sklearn\\metrics\\_regression.py:483: FutureWarning:\n",
      "\n",
      "'squared' is deprecated in version 1.4 and will be removed in 1.6. To calculate the root mean squared error, use the function'root_mean_squared_error'.\n",
      "\n",
      "[I 2024-06-17 02:35:22,188] Trial 8 finished with value: 0.7763357647348923 and parameters: {'reg_alpha': 0.5213400013605252, 'reg_lambda': 0.019942318326371656, 'colsample_bytree': 0.9, 'subsample': 0.5, 'learning_rate': 0.014, 'max_depth': 100, 'num_leaves': 295, 'min_child_samples': 110, 'min_data_per_groups': 30}. Best is trial 7 with value: 0.7692563142485178.\n",
      "c:\\Users\\waldo\\miniforge3\\envs\\uni\\lib\\site-packages\\sklearn\\metrics\\_regression.py:483: FutureWarning:\n",
      "\n",
      "'squared' is deprecated in version 1.4 and will be removed in 1.6. To calculate the root mean squared error, use the function'root_mean_squared_error'.\n",
      "\n",
      "[I 2024-06-17 02:35:23,341] Trial 9 finished with value: 0.7811095536430753 and parameters: {'reg_alpha': 0.09299153451007654, 'reg_lambda': 2.8237700422879217, 'colsample_bytree': 0.3, 'subsample': 0.7, 'learning_rate': 0.02, 'max_depth': 10, 'num_leaves': 61, 'min_child_samples': 274, 'min_data_per_groups': 6}. Best is trial 7 with value: 0.7692563142485178.\n",
      "c:\\Users\\waldo\\miniforge3\\envs\\uni\\lib\\site-packages\\sklearn\\metrics\\_regression.py:483: FutureWarning:\n",
      "\n",
      "'squared' is deprecated in version 1.4 and will be removed in 1.6. To calculate the root mean squared error, use the function'root_mean_squared_error'.\n",
      "\n",
      "[I 2024-06-17 02:36:49,510] Trial 10 finished with value: 0.7928278807463213 and parameters: {'reg_alpha': 0.08484000811777485, 'reg_lambda': 0.5829963652609648, 'colsample_bytree': 0.8, 'subsample': 0.6, 'learning_rate': 0.017, 'max_depth': 100, 'num_leaves': 999, 'min_child_samples': 5, 'min_data_per_groups': 58}. Best is trial 7 with value: 0.7692563142485178.\n",
      "c:\\Users\\waldo\\miniforge3\\envs\\uni\\lib\\site-packages\\sklearn\\metrics\\_regression.py:483: FutureWarning:\n",
      "\n",
      "'squared' is deprecated in version 1.4 and will be removed in 1.6. To calculate the root mean squared error, use the function'root_mean_squared_error'.\n",
      "\n",
      "[I 2024-06-17 02:37:11,068] Trial 11 finished with value: 0.7756924077485792 and parameters: {'reg_alpha': 0.25208341211157875, 'reg_lambda': 0.0012361292364676572, 'colsample_bytree': 0.6, 'subsample': 1.0, 'learning_rate': 0.006, 'max_depth': 20, 'num_leaves': 475, 'min_child_samples': 163, 'min_data_per_groups': 27}. Best is trial 7 with value: 0.7692563142485178.\n",
      "c:\\Users\\waldo\\miniforge3\\envs\\uni\\lib\\site-packages\\sklearn\\metrics\\_regression.py:483: FutureWarning:\n",
      "\n",
      "'squared' is deprecated in version 1.4 and will be removed in 1.6. To calculate the root mean squared error, use the function'root_mean_squared_error'.\n",
      "\n",
      "[I 2024-06-17 02:37:18,538] Trial 12 finished with value: 0.7762127455141076 and parameters: {'reg_alpha': 9.980236816999152, 'reg_lambda': 0.007928064612368314, 'colsample_bytree': 1.0, 'subsample': 0.8, 'learning_rate': 0.02, 'max_depth': 20, 'num_leaves': 352, 'min_child_samples': 100, 'min_data_per_groups': 24}. Best is trial 7 with value: 0.7692563142485178.\n",
      "c:\\Users\\waldo\\miniforge3\\envs\\uni\\lib\\site-packages\\sklearn\\metrics\\_regression.py:483: FutureWarning:\n",
      "\n",
      "'squared' is deprecated in version 1.4 and will be removed in 1.6. To calculate the root mean squared error, use the function'root_mean_squared_error'.\n",
      "\n",
      "[I 2024-06-17 02:37:29,290] Trial 13 finished with value: 0.7770958365731356 and parameters: {'reg_alpha': 0.03511049044489527, 'reg_lambda': 0.5631930606262125, 'colsample_bytree': 0.7, 'subsample': 0.8, 'learning_rate': 0.006, 'max_depth': 20, 'num_leaves': 677, 'min_child_samples': 206, 'min_data_per_groups': 46}. Best is trial 7 with value: 0.7692563142485178.\n",
      "c:\\Users\\waldo\\miniforge3\\envs\\uni\\lib\\site-packages\\sklearn\\metrics\\_regression.py:483: FutureWarning:\n",
      "\n",
      "'squared' is deprecated in version 1.4 and will be removed in 1.6. To calculate the root mean squared error, use the function'root_mean_squared_error'.\n",
      "\n",
      "[I 2024-06-17 02:37:35,241] Trial 14 finished with value: 0.7732189679486838 and parameters: {'reg_alpha': 0.0015586512538323335, 'reg_lambda': 0.006197412407164898, 'colsample_bytree': 0.3, 'subsample': 0.4, 'learning_rate': 0.008, 'max_depth': 20, 'num_leaves': 847, 'min_child_samples': 102, 'min_data_per_groups': 64}. Best is trial 7 with value: 0.7692563142485178.\n",
      "c:\\Users\\waldo\\miniforge3\\envs\\uni\\lib\\site-packages\\sklearn\\metrics\\_regression.py:483: FutureWarning:\n",
      "\n",
      "'squared' is deprecated in version 1.4 and will be removed in 1.6. To calculate the root mean squared error, use the function'root_mean_squared_error'.\n",
      "\n",
      "[I 2024-06-17 02:37:50,735] Trial 15 finished with value: 0.7712164264010825 and parameters: {'reg_alpha': 0.00146434397777751, 'reg_lambda': 8.90005712757592, 'colsample_bytree': 0.5, 'subsample': 0.6, 'learning_rate': 0.008, 'max_depth': 100, 'num_leaves': 885, 'min_child_samples': 58, 'min_data_per_groups': 76}. Best is trial 7 with value: 0.7692563142485178.\n",
      "c:\\Users\\waldo\\miniforge3\\envs\\uni\\lib\\site-packages\\sklearn\\metrics\\_regression.py:483: FutureWarning:\n",
      "\n",
      "'squared' is deprecated in version 1.4 and will be removed in 1.6. To calculate the root mean squared error, use the function'root_mean_squared_error'.\n",
      "\n",
      "[I 2024-06-17 02:38:13,042] Trial 16 finished with value: 0.7687012057487496 and parameters: {'reg_alpha': 0.0013808000403484877, 'reg_lambda': 9.709272561664251, 'colsample_bytree': 0.5, 'subsample': 0.6, 'learning_rate': 0.008, 'max_depth': 100, 'num_leaves': 973, 'min_child_samples': 27, 'min_data_per_groups': 79}. Best is trial 16 with value: 0.7687012057487496.\n",
      "c:\\Users\\waldo\\miniforge3\\envs\\uni\\lib\\site-packages\\sklearn\\metrics\\_regression.py:483: FutureWarning:\n",
      "\n",
      "'squared' is deprecated in version 1.4 and will be removed in 1.6. To calculate the root mean squared error, use the function'root_mean_squared_error'.\n",
      "\n",
      "[I 2024-06-17 02:39:12,297] Trial 17 finished with value: 0.7734041292162833 and parameters: {'reg_alpha': 0.016282328793092535, 'reg_lambda': 6.332417705528545, 'colsample_bytree': 0.5, 'subsample': 0.6, 'learning_rate': 0.017, 'max_depth': 100, 'num_leaves': 978, 'min_child_samples': 12, 'min_data_per_groups': 99}. Best is trial 16 with value: 0.7687012057487496.\n",
      "c:\\Users\\waldo\\miniforge3\\envs\\uni\\lib\\site-packages\\sklearn\\metrics\\_regression.py:483: FutureWarning:\n",
      "\n",
      "'squared' is deprecated in version 1.4 and will be removed in 1.6. To calculate the root mean squared error, use the function'root_mean_squared_error'.\n",
      "\n",
      "[I 2024-06-17 02:39:16,898] Trial 18 finished with value: 0.7704396265169063 and parameters: {'reg_alpha': 0.1828139684976459, 'reg_lambda': 0.8157963708249258, 'colsample_bytree': 0.5, 'subsample': 1.0, 'learning_rate': 0.02, 'max_depth': 100, 'num_leaves': 272, 'min_child_samples': 53, 'min_data_per_groups': 54}. Best is trial 16 with value: 0.7687012057487496.\n",
      "c:\\Users\\waldo\\miniforge3\\envs\\uni\\lib\\site-packages\\sklearn\\metrics\\_regression.py:483: FutureWarning:\n",
      "\n",
      "'squared' is deprecated in version 1.4 and will be removed in 1.6. To calculate the root mean squared error, use the function'root_mean_squared_error'.\n",
      "\n",
      "[I 2024-06-17 02:39:36,484] Trial 19 finished with value: 0.7780315634494424 and parameters: {'reg_alpha': 0.042600113337784705, 'reg_lambda': 1.3424765056130596, 'colsample_bytree': 1.0, 'subsample': 0.6, 'learning_rate': 0.008, 'max_depth': 100, 'num_leaves': 791, 'min_child_samples': 31, 'min_data_per_groups': 73}. Best is trial 16 with value: 0.7687012057487496.\n",
      "c:\\Users\\waldo\\miniforge3\\envs\\uni\\lib\\site-packages\\sklearn\\metrics\\_regression.py:483: FutureWarning:\n",
      "\n",
      "'squared' is deprecated in version 1.4 and will be removed in 1.6. To calculate the root mean squared error, use the function'root_mean_squared_error'.\n",
      "\n",
      "[I 2024-06-17 02:39:45,093] Trial 20 finished with value: 0.7748932478837119 and parameters: {'reg_alpha': 0.00369624909375568, 'reg_lambda': 9.042792424580412, 'colsample_bytree': 0.6, 'subsample': 0.8, 'learning_rate': 0.008, 'max_depth': 100, 'num_leaves': 561, 'min_child_samples': 81, 'min_data_per_groups': 40}. Best is trial 16 with value: 0.7687012057487496.\n",
      "c:\\Users\\waldo\\miniforge3\\envs\\uni\\lib\\site-packages\\sklearn\\metrics\\_regression.py:483: FutureWarning:\n",
      "\n",
      "'squared' is deprecated in version 1.4 and will be removed in 1.6. To calculate the root mean squared error, use the function'root_mean_squared_error'.\n",
      "\n",
      "[I 2024-06-17 02:39:50,325] Trial 21 finished with value: 0.7701331757598587 and parameters: {'reg_alpha': 0.1773571256989654, 'reg_lambda': 0.5678142619104217, 'colsample_bytree': 0.5, 'subsample': 1.0, 'learning_rate': 0.02, 'max_depth': 100, 'num_leaves': 307, 'min_child_samples': 56, 'min_data_per_groups': 50}. Best is trial 16 with value: 0.7687012057487496.\n",
      "c:\\Users\\waldo\\miniforge3\\envs\\uni\\lib\\site-packages\\sklearn\\metrics\\_regression.py:483: FutureWarning:\n",
      "\n",
      "'squared' is deprecated in version 1.4 and will be removed in 1.6. To calculate the root mean squared error, use the function'root_mean_squared_error'.\n",
      "\n",
      "[I 2024-06-17 02:39:54,483] Trial 22 finished with value: 0.7723779262820942 and parameters: {'reg_alpha': 0.22447632416483868, 'reg_lambda': 0.25389192055523285, 'colsample_bytree': 0.5, 'subsample': 1.0, 'learning_rate': 0.02, 'max_depth': 100, 'num_leaves': 394, 'min_child_samples': 123, 'min_data_per_groups': 48}. Best is trial 16 with value: 0.7687012057487496.\n",
      "c:\\Users\\waldo\\miniforge3\\envs\\uni\\lib\\site-packages\\sklearn\\metrics\\_regression.py:483: FutureWarning:\n",
      "\n",
      "'squared' is deprecated in version 1.4 and will be removed in 1.6. To calculate the root mean squared error, use the function'root_mean_squared_error'.\n",
      "\n",
      "[I 2024-06-17 02:40:21,376] Trial 23 finished with value: 0.7699276703357122 and parameters: {'reg_alpha': 0.03676495079772559, 'reg_lambda': 3.068248373131676, 'colsample_bytree': 0.5, 'subsample': 1.0, 'learning_rate': 0.02, 'max_depth': 100, 'num_leaves': 215, 'min_child_samples': 28, 'min_data_per_groups': 19}. Best is trial 16 with value: 0.7687012057487496.\n",
      "c:\\Users\\waldo\\miniforge3\\envs\\uni\\lib\\site-packages\\sklearn\\metrics\\_regression.py:483: FutureWarning:\n",
      "\n",
      "'squared' is deprecated in version 1.4 and will be removed in 1.6. To calculate the root mean squared error, use the function'root_mean_squared_error'.\n",
      "\n",
      "[I 2024-06-17 02:40:41,181] Trial 24 finished with value: 0.7740931531287272 and parameters: {'reg_alpha': 0.033241692104445865, 'reg_lambda': 3.160825983707198, 'colsample_bytree': 0.7, 'subsample': 0.8, 'learning_rate': 0.02, 'max_depth': 100, 'num_leaves': 175, 'min_child_samples': 37, 'min_data_per_groups': 19}. Best is trial 16 with value: 0.7687012057487496.\n",
      "c:\\Users\\waldo\\miniforge3\\envs\\uni\\lib\\site-packages\\sklearn\\metrics\\_regression.py:483: FutureWarning:\n",
      "\n",
      "'squared' is deprecated in version 1.4 and will be removed in 1.6. To calculate the root mean squared error, use the function'root_mean_squared_error'.\n",
      "\n",
      "[I 2024-06-17 02:40:44,344] Trial 25 finished with value: 0.7812132191949707 and parameters: {'reg_alpha': 0.0037012198965587694, 'reg_lambda': 1.939418409298084, 'colsample_bytree': 0.8, 'subsample': 0.6, 'learning_rate': 0.02, 'max_depth': 10, 'num_leaves': 6, 'min_child_samples': 81, 'min_data_per_groups': 16}. Best is trial 16 with value: 0.7687012057487496.\n",
      "c:\\Users\\waldo\\miniforge3\\envs\\uni\\lib\\site-packages\\sklearn\\metrics\\_regression.py:483: FutureWarning:\n",
      "\n",
      "'squared' is deprecated in version 1.4 and will be removed in 1.6. To calculate the root mean squared error, use the function'root_mean_squared_error'.\n",
      "\n",
      "[I 2024-06-17 02:41:45,540] Trial 26 finished with value: 0.7678034733060729 and parameters: {'reg_alpha': 0.0010166743042009617, 'reg_lambda': 4.767669332847365, 'colsample_bytree': 0.4, 'subsample': 1.0, 'learning_rate': 0.01, 'max_depth': 100, 'num_leaves': 757, 'min_child_samples': 25, 'min_data_per_groups': 36}. Best is trial 26 with value: 0.7678034733060729.\n",
      "c:\\Users\\waldo\\miniforge3\\envs\\uni\\lib\\site-packages\\sklearn\\metrics\\_regression.py:483: FutureWarning:\n",
      "\n",
      "'squared' is deprecated in version 1.4 and will be removed in 1.6. To calculate the root mean squared error, use the function'root_mean_squared_error'.\n",
      "\n",
      "[I 2024-06-17 02:42:05,118] Trial 27 finished with value: 0.7728030794768818 and parameters: {'reg_alpha': 0.0028292447451504234, 'reg_lambda': 4.916690139876682, 'colsample_bytree': 0.4, 'subsample': 0.7, 'learning_rate': 0.01, 'max_depth': 100, 'num_leaves': 926, 'min_child_samples': 136, 'min_data_per_groups': 36}. Best is trial 26 with value: 0.7678034733060729.\n",
      "c:\\Users\\waldo\\miniforge3\\envs\\uni\\lib\\site-packages\\sklearn\\metrics\\_regression.py:483: FutureWarning:\n",
      "\n",
      "'squared' is deprecated in version 1.4 and will be removed in 1.6. To calculate the root mean squared error, use the function'root_mean_squared_error'.\n",
      "\n",
      "[I 2024-06-17 02:43:37,743] Trial 28 finished with value: 0.7840576009941699 and parameters: {'reg_alpha': 0.0010199844501101298, 'reg_lambda': 0.04482290076856839, 'colsample_bytree': 0.6, 'subsample': 0.6, 'learning_rate': 0.01, 'max_depth': 100, 'num_leaves': 700, 'min_child_samples': 6, 'min_data_per_groups': 35}. Best is trial 26 with value: 0.7678034733060729.\n",
      "c:\\Users\\waldo\\miniforge3\\envs\\uni\\lib\\site-packages\\sklearn\\metrics\\_regression.py:483: FutureWarning:\n",
      "\n",
      "'squared' is deprecated in version 1.4 and will be removed in 1.6. To calculate the root mean squared error, use the function'root_mean_squared_error'.\n",
      "\n",
      "[I 2024-06-17 02:43:41,237] Trial 29 finished with value: 0.7719158000219626 and parameters: {'reg_alpha': 0.015144561346823278, 'reg_lambda': 1.195053668319762, 'colsample_bytree': 0.4, 'subsample': 0.5, 'learning_rate': 0.01, 'max_depth': 10, 'num_leaves': 749, 'min_child_samples': 80, 'min_data_per_groups': 61}. Best is trial 26 with value: 0.7678034733060729.\n",
      "c:\\Users\\waldo\\miniforge3\\envs\\uni\\lib\\site-packages\\sklearn\\metrics\\_regression.py:483: FutureWarning:\n",
      "\n",
      "'squared' is deprecated in version 1.4 and will be removed in 1.6. To calculate the root mean squared error, use the function'root_mean_squared_error'.\n",
      "\n",
      "[I 2024-06-17 02:43:46,314] Trial 30 finished with value: 0.7749123434394066 and parameters: {'reg_alpha': 0.009701450241286125, 'reg_lambda': 0.3026362495852865, 'colsample_bytree': 0.4, 'subsample': 0.8, 'learning_rate': 0.008, 'max_depth': 100, 'num_leaves': 491, 'min_child_samples': 195, 'min_data_per_groups': 89}. Best is trial 26 with value: 0.7678034733060729.\n",
      "c:\\Users\\waldo\\miniforge3\\envs\\uni\\lib\\site-packages\\sklearn\\metrics\\_regression.py:483: FutureWarning:\n",
      "\n",
      "'squared' is deprecated in version 1.4 and will be removed in 1.6. To calculate the root mean squared error, use the function'root_mean_squared_error'.\n",
      "\n",
      "[I 2024-06-17 02:43:54,231] Trial 31 finished with value: 0.7690424451914117 and parameters: {'reg_alpha': 0.0027196296970370534, 'reg_lambda': 4.768505448091608, 'colsample_bytree': 0.4, 'subsample': 1.0, 'learning_rate': 0.017, 'max_depth': 100, 'num_leaves': 553, 'min_child_samples': 32, 'min_data_per_groups': 16}. Best is trial 26 with value: 0.7678034733060729.\n",
      "c:\\Users\\waldo\\miniforge3\\envs\\uni\\lib\\site-packages\\sklearn\\metrics\\_regression.py:483: FutureWarning:\n",
      "\n",
      "'squared' is deprecated in version 1.4 and will be removed in 1.6. To calculate the root mean squared error, use the function'root_mean_squared_error'.\n",
      "\n",
      "[I 2024-06-17 02:44:03,936] Trial 32 finished with value: 0.7683297220215164 and parameters: {'reg_alpha': 0.002393362509048063, 'reg_lambda': 6.369309676356441, 'colsample_bytree': 0.4, 'subsample': 1.0, 'learning_rate': 0.017, 'max_depth': 100, 'num_leaves': 535, 'min_child_samples': 32, 'min_data_per_groups': 15}. Best is trial 26 with value: 0.7678034733060729.\n",
      "c:\\Users\\waldo\\miniforge3\\envs\\uni\\lib\\site-packages\\sklearn\\metrics\\_regression.py:483: FutureWarning:\n",
      "\n",
      "'squared' is deprecated in version 1.4 and will be removed in 1.6. To calculate the root mean squared error, use the function'root_mean_squared_error'.\n",
      "\n",
      "[I 2024-06-17 02:44:19,605] Trial 33 finished with value: 0.766204846755063 and parameters: {'reg_alpha': 0.0023541668454702272, 'reg_lambda': 8.932963978723864, 'colsample_bytree': 0.4, 'subsample': 1.0, 'learning_rate': 0.017, 'max_depth': 100, 'num_leaves': 412, 'min_child_samples': 30, 'min_data_per_groups': 13}. Best is trial 33 with value: 0.766204846755063.\n",
      "c:\\Users\\waldo\\miniforge3\\envs\\uni\\lib\\site-packages\\sklearn\\metrics\\_regression.py:483: FutureWarning:\n",
      "\n",
      "'squared' is deprecated in version 1.4 and will be removed in 1.6. To calculate the root mean squared error, use the function'root_mean_squared_error'.\n",
      "\n",
      "[I 2024-06-17 02:44:40,589] Trial 34 finished with value: 0.7702985423282861 and parameters: {'reg_alpha': 0.005382644138322453, 'reg_lambda': 6.63640038631091, 'colsample_bytree': 0.4, 'subsample': 1.0, 'learning_rate': 0.017, 'max_depth': 100, 'num_leaves': 425, 'min_child_samples': 19, 'min_data_per_groups': 11}. Best is trial 33 with value: 0.766204846755063.\n",
      "c:\\Users\\waldo\\miniforge3\\envs\\uni\\lib\\site-packages\\sklearn\\metrics\\_regression.py:483: FutureWarning:\n",
      "\n",
      "'squared' is deprecated in version 1.4 and will be removed in 1.6. To calculate the root mean squared error, use the function'root_mean_squared_error'.\n",
      "\n",
      "[I 2024-06-17 02:44:56,478] Trial 35 finished with value: 0.7691260276919777 and parameters: {'reg_alpha': 0.001746559676043506, 'reg_lambda': 9.981101497291846, 'colsample_bytree': 0.4, 'subsample': 1.0, 'learning_rate': 0.017, 'max_depth': 10, 'num_leaves': 923, 'min_child_samples': 43, 'min_data_per_groups': 9}. Best is trial 33 with value: 0.766204846755063.\n",
      "c:\\Users\\waldo\\miniforge3\\envs\\uni\\lib\\site-packages\\sklearn\\metrics\\_regression.py:483: FutureWarning:\n",
      "\n",
      "'squared' is deprecated in version 1.4 and will be removed in 1.6. To calculate the root mean squared error, use the function'root_mean_squared_error'.\n",
      "\n",
      "[I 2024-06-17 02:47:36,059] Trial 36 finished with value: 0.7765272935669362 and parameters: {'reg_alpha': 0.0010161366029878373, 'reg_lambda': 2.1980133395805836, 'colsample_bytree': 0.4, 'subsample': 1.0, 'learning_rate': 0.017, 'max_depth': 100, 'num_leaves': 767, 'min_child_samples': 2, 'min_data_per_groups': 1}. Best is trial 33 with value: 0.766204846755063.\n",
      "c:\\Users\\waldo\\miniforge3\\envs\\uni\\lib\\site-packages\\sklearn\\metrics\\_regression.py:483: FutureWarning:\n",
      "\n",
      "'squared' is deprecated in version 1.4 and will be removed in 1.6. To calculate the root mean squared error, use the function'root_mean_squared_error'.\n",
      "\n",
      "[I 2024-06-17 02:47:41,430] Trial 37 finished with value: 0.7709279821533515 and parameters: {'reg_alpha': 0.00545147689554497, 'reg_lambda': 1.0898577701104486, 'colsample_bytree': 0.4, 'subsample': 1.0, 'learning_rate': 0.017, 'max_depth': 100, 'num_leaves': 447, 'min_child_samples': 72, 'min_data_per_groups': 31}. Best is trial 33 with value: 0.766204846755063.\n",
      "c:\\Users\\waldo\\miniforge3\\envs\\uni\\lib\\site-packages\\sklearn\\metrics\\_regression.py:483: FutureWarning:\n",
      "\n",
      "'squared' is deprecated in version 1.4 and will be removed in 1.6. To calculate the root mean squared error, use the function'root_mean_squared_error'.\n",
      "\n",
      "[I 2024-06-17 02:48:07,002] Trial 38 finished with value: 0.7680909553912157 and parameters: {'reg_alpha': 0.002052014638797742, 'reg_lambda': 5.585300998715956, 'colsample_bytree': 0.4, 'subsample': 1.0, 'learning_rate': 0.01, 'max_depth': 100, 'num_leaves': 527, 'min_child_samples': 21, 'min_data_per_groups': 44}. Best is trial 33 with value: 0.766204846755063.\n",
      "c:\\Users\\waldo\\miniforge3\\envs\\uni\\lib\\site-packages\\sklearn\\metrics\\_regression.py:483: FutureWarning:\n",
      "\n",
      "'squared' is deprecated in version 1.4 and will be removed in 1.6. To calculate the root mean squared error, use the function'root_mean_squared_error'.\n",
      "\n",
      "[I 2024-06-17 02:48:17,181] Trial 39 finished with value: 0.7691613800569521 and parameters: {'reg_alpha': 0.002381773135476275, 'reg_lambda': 0.10920208034337929, 'colsample_bytree': 0.4, 'subsample': 1.0, 'learning_rate': 0.01, 'max_depth': 100, 'num_leaves': 532, 'min_child_samples': 44, 'min_data_per_groups': 44}. Best is trial 33 with value: 0.766204846755063.\n",
      "c:\\Users\\waldo\\miniforge3\\envs\\uni\\lib\\site-packages\\sklearn\\metrics\\_regression.py:483: FutureWarning:\n",
      "\n",
      "'squared' is deprecated in version 1.4 and will be removed in 1.6. To calculate the root mean squared error, use the function'root_mean_squared_error'.\n",
      "\n",
      "[I 2024-06-17 02:48:20,679] Trial 40 finished with value: 0.7730373500104004 and parameters: {'reg_alpha': 0.011052099489136213, 'reg_lambda': 0.05259566298340496, 'colsample_bytree': 0.4, 'subsample': 1.0, 'learning_rate': 0.01, 'max_depth': 10, 'num_leaves': 607, 'min_child_samples': 91, 'min_data_per_groups': 24}. Best is trial 33 with value: 0.766204846755063.\n",
      "c:\\Users\\waldo\\miniforge3\\envs\\uni\\lib\\site-packages\\sklearn\\metrics\\_regression.py:483: FutureWarning:\n",
      "\n",
      "'squared' is deprecated in version 1.4 and will be removed in 1.6. To calculate the root mean squared error, use the function'root_mean_squared_error'.\n",
      "\n",
      "[I 2024-06-17 02:49:59,596] Trial 41 finished with value: 0.7693723886470434 and parameters: {'reg_alpha': 0.005227295091299751, 'reg_lambda': 5.457201378210023, 'colsample_bytree': 0.4, 'subsample': 1.0, 'learning_rate': 0.01, 'max_depth': 100, 'num_leaves': 642, 'min_child_samples': 16, 'min_data_per_groups': 71}. Best is trial 33 with value: 0.766204846755063.\n",
      "c:\\Users\\waldo\\miniforge3\\envs\\uni\\lib\\site-packages\\sklearn\\metrics\\_regression.py:483: FutureWarning:\n",
      "\n",
      "'squared' is deprecated in version 1.4 and will be removed in 1.6. To calculate the root mean squared error, use the function'root_mean_squared_error'.\n",
      "\n",
      "[I 2024-06-17 02:50:19,404] Trial 42 finished with value: 0.781815760347137 and parameters: {'reg_alpha': 0.0019498350199963338, 'reg_lambda': 2.25202896544332, 'colsample_bytree': 0.9, 'subsample': 0.4, 'learning_rate': 0.014, 'max_depth': 100, 'num_leaves': 383, 'min_child_samples': 25, 'min_data_per_groups': 55}. Best is trial 33 with value: 0.766204846755063.\n",
      "c:\\Users\\waldo\\miniforge3\\envs\\uni\\lib\\site-packages\\sklearn\\metrics\\_regression.py:483: FutureWarning:\n",
      "\n",
      "'squared' is deprecated in version 1.4 and will be removed in 1.6. To calculate the root mean squared error, use the function'root_mean_squared_error'.\n",
      "\n",
      "[I 2024-06-17 02:50:25,827] Trial 43 finished with value: 0.7691960130324437 and parameters: {'reg_alpha': 0.0011186475462864357, 'reg_lambda': 4.065575330940072, 'colsample_bytree': 0.4, 'subsample': 0.7, 'learning_rate': 0.017, 'max_depth': 100, 'num_leaves': 720, 'min_child_samples': 45, 'min_data_per_groups': 13}. Best is trial 33 with value: 0.766204846755063.\n",
      "c:\\Users\\waldo\\miniforge3\\envs\\uni\\lib\\site-packages\\sklearn\\metrics\\_regression.py:483: FutureWarning:\n",
      "\n",
      "'squared' is deprecated in version 1.4 and will be removed in 1.6. To calculate the root mean squared error, use the function'root_mean_squared_error'.\n",
      "\n",
      "[I 2024-06-17 02:50:41,222] Trial 44 finished with value: 0.7722497402191534 and parameters: {'reg_alpha': 0.004146695804020412, 'reg_lambda': 6.877876309365217, 'colsample_bytree': 0.8, 'subsample': 0.5, 'learning_rate': 0.006, 'max_depth': 100, 'num_leaves': 520, 'min_child_samples': 67, 'min_data_per_groups': 41}. Best is trial 33 with value: 0.766204846755063.\n",
      "c:\\Users\\waldo\\miniforge3\\envs\\uni\\lib\\site-packages\\sklearn\\metrics\\_regression.py:483: FutureWarning:\n",
      "\n",
      "'squared' is deprecated in version 1.4 and will be removed in 1.6. To calculate the root mean squared error, use the function'root_mean_squared_error'.\n",
      "\n",
      "[I 2024-06-17 02:51:04,458] Trial 45 finished with value: 0.7891985003942881 and parameters: {'reg_alpha': 0.002581906669832099, 'reg_lambda': 1.745474108836101, 'colsample_bytree': 1.0, 'subsample': 1.0, 'learning_rate': 0.01, 'max_depth': 20, 'num_leaves': 822, 'min_child_samples': 17, 'min_data_per_groups': 5}. Best is trial 33 with value: 0.766204846755063.\n",
      "c:\\Users\\waldo\\miniforge3\\envs\\uni\\lib\\site-packages\\sklearn\\metrics\\_regression.py:483: FutureWarning:\n",
      "\n",
      "'squared' is deprecated in version 1.4 and will be removed in 1.6. To calculate the root mean squared error, use the function'root_mean_squared_error'.\n",
      "\n",
      "[I 2024-06-17 02:51:06,892] Trial 46 finished with value: 0.7769236577046621 and parameters: {'reg_alpha': 0.007438364055351044, 'reg_lambda': 3.3711573777705706, 'colsample_bytree': 0.7, 'subsample': 1.0, 'learning_rate': 0.017, 'max_depth': 100, 'num_leaves': 654, 'min_child_samples': 182, 'min_data_per_groups': 23}. Best is trial 33 with value: 0.766204846755063.\n",
      "c:\\Users\\waldo\\miniforge3\\envs\\uni\\lib\\site-packages\\sklearn\\metrics\\_regression.py:483: FutureWarning:\n",
      "\n",
      "'squared' is deprecated in version 1.4 and will be removed in 1.6. To calculate the root mean squared error, use the function'root_mean_squared_error'.\n",
      "\n",
      "[I 2024-06-17 02:53:00,767] Trial 47 finished with value: 0.7741012905037967 and parameters: {'reg_alpha': 0.001465018419762081, 'reg_lambda': 7.45971826255941, 'colsample_bytree': 0.4, 'subsample': 0.6, 'learning_rate': 0.008, 'max_depth': 100, 'num_leaves': 593, 'min_child_samples': 2, 'min_data_per_groups': 82}. Best is trial 33 with value: 0.766204846755063.\n",
      "c:\\Users\\waldo\\miniforge3\\envs\\uni\\lib\\site-packages\\sklearn\\metrics\\_regression.py:483: FutureWarning:\n",
      "\n",
      "'squared' is deprecated in version 1.4 and will be removed in 1.6. To calculate the root mean squared error, use the function'root_mean_squared_error'.\n",
      "\n",
      "[I 2024-06-17 02:53:05,172] Trial 48 finished with value: 0.7765349314432758 and parameters: {'reg_alpha': 0.001991213550569002, 'reg_lambda': 4.116286531428975, 'colsample_bytree': 0.9, 'subsample': 0.4, 'learning_rate': 0.01, 'max_depth': 20, 'num_leaves': 481, 'min_child_samples': 231, 'min_data_per_groups': 30}. Best is trial 33 with value: 0.766204846755063.\n",
      "c:\\Users\\waldo\\miniforge3\\envs\\uni\\lib\\site-packages\\sklearn\\metrics\\_regression.py:483: FutureWarning:\n",
      "\n",
      "'squared' is deprecated in version 1.4 and will be removed in 1.6. To calculate the root mean squared error, use the function'root_mean_squared_error'.\n",
      "\n",
      "[I 2024-06-17 02:53:11,432] Trial 49 finished with value: 0.7679239731900502 and parameters: {'reg_alpha': 1.0970533165724217, 'reg_lambda': 9.991040103691862, 'colsample_bytree': 0.3, 'subsample': 1.0, 'learning_rate': 0.014, 'max_depth': 100, 'num_leaves': 357, 'min_child_samples': 56, 'min_data_per_groups': 53}. Best is trial 33 with value: 0.766204846755063.\n"
     ]
    },
    {
     "name": "stdout",
     "output_type": "stream",
     "text": [
      "Number of finished trials: 50\n",
      "Best trial: {'reg_alpha': 0.0023541668454702272, 'reg_lambda': 8.932963978723864, 'colsample_bytree': 0.4, 'subsample': 1.0, 'learning_rate': 0.017, 'max_depth': 100, 'num_leaves': 412, 'min_child_samples': 30, 'min_data_per_groups': 13}\n"
     ]
    }
   ],
   "source": [
    "study = optuna.create_study(direction='minimize')\n",
    "study.optimize(objective, n_trials=50)\n",
    "print('Number of finished trials:', len(study.trials))\n",
    "print('Best trial:', study.best_trial.params)"
   ]
  },
  {
   "cell_type": "code",
   "execution_count": 86,
   "metadata": {},
   "outputs": [
    {
     "data": {
      "text/html": [
       "<div>\n",
       "<style scoped>\n",
       "    .dataframe tbody tr th:only-of-type {\n",
       "        vertical-align: middle;\n",
       "    }\n",
       "\n",
       "    .dataframe tbody tr th {\n",
       "        vertical-align: top;\n",
       "    }\n",
       "\n",
       "    .dataframe thead th {\n",
       "        text-align: right;\n",
       "    }\n",
       "</style>\n",
       "<table border=\"1\" class=\"dataframe\">\n",
       "  <thead>\n",
       "    <tr style=\"text-align: right;\">\n",
       "      <th></th>\n",
       "      <th>number</th>\n",
       "      <th>value</th>\n",
       "      <th>datetime_start</th>\n",
       "      <th>datetime_complete</th>\n",
       "      <th>duration</th>\n",
       "      <th>params_colsample_bytree</th>\n",
       "      <th>params_learning_rate</th>\n",
       "      <th>params_max_depth</th>\n",
       "      <th>params_min_child_samples</th>\n",
       "      <th>params_min_data_per_groups</th>\n",
       "      <th>params_num_leaves</th>\n",
       "      <th>params_reg_alpha</th>\n",
       "      <th>params_reg_lambda</th>\n",
       "      <th>params_subsample</th>\n",
       "      <th>state</th>\n",
       "    </tr>\n",
       "  </thead>\n",
       "  <tbody>\n",
       "    <tr>\n",
       "      <th>0</th>\n",
       "      <td>0</td>\n",
       "      <td>0.780007</td>\n",
       "      <td>2024-06-17 02:34:46.621999</td>\n",
       "      <td>2024-06-17 02:34:50.093409</td>\n",
       "      <td>0 days 00:00:03.471410</td>\n",
       "      <td>0.4</td>\n",
       "      <td>0.008</td>\n",
       "      <td>10</td>\n",
       "      <td>255</td>\n",
       "      <td>9</td>\n",
       "      <td>482</td>\n",
       "      <td>0.007843</td>\n",
       "      <td>0.026630</td>\n",
       "      <td>0.5</td>\n",
       "      <td>COMPLETE</td>\n",
       "    </tr>\n",
       "    <tr>\n",
       "      <th>1</th>\n",
       "      <td>1</td>\n",
       "      <td>0.775050</td>\n",
       "      <td>2024-06-17 02:34:50.094410</td>\n",
       "      <td>2024-06-17 02:34:52.168380</td>\n",
       "      <td>0 days 00:00:02.073970</td>\n",
       "      <td>0.5</td>\n",
       "      <td>0.020</td>\n",
       "      <td>20</td>\n",
       "      <td>159</td>\n",
       "      <td>82</td>\n",
       "      <td>121</td>\n",
       "      <td>0.618312</td>\n",
       "      <td>0.001736</td>\n",
       "      <td>0.4</td>\n",
       "      <td>COMPLETE</td>\n",
       "    </tr>\n",
       "    <tr>\n",
       "      <th>2</th>\n",
       "      <td>2</td>\n",
       "      <td>0.779006</td>\n",
       "      <td>2024-06-17 02:34:52.169380</td>\n",
       "      <td>2024-06-17 02:34:55.820796</td>\n",
       "      <td>0 days 00:00:03.651416</td>\n",
       "      <td>0.9</td>\n",
       "      <td>0.014</td>\n",
       "      <td>100</td>\n",
       "      <td>288</td>\n",
       "      <td>8</td>\n",
       "      <td>124</td>\n",
       "      <td>2.514652</td>\n",
       "      <td>0.123510</td>\n",
       "      <td>0.7</td>\n",
       "      <td>COMPLETE</td>\n",
       "    </tr>\n",
       "    <tr>\n",
       "      <th>3</th>\n",
       "      <td>3</td>\n",
       "      <td>0.779049</td>\n",
       "      <td>2024-06-17 02:34:55.821796</td>\n",
       "      <td>2024-06-17 02:34:57.872256</td>\n",
       "      <td>0 days 00:00:02.050460</td>\n",
       "      <td>0.3</td>\n",
       "      <td>0.014</td>\n",
       "      <td>10</td>\n",
       "      <td>264</td>\n",
       "      <td>91</td>\n",
       "      <td>819</td>\n",
       "      <td>3.209588</td>\n",
       "      <td>3.725331</td>\n",
       "      <td>0.8</td>\n",
       "      <td>COMPLETE</td>\n",
       "    </tr>\n",
       "    <tr>\n",
       "      <th>4</th>\n",
       "      <td>4</td>\n",
       "      <td>0.778421</td>\n",
       "      <td>2024-06-17 02:34:57.873256</td>\n",
       "      <td>2024-06-17 02:35:01.540996</td>\n",
       "      <td>0 days 00:00:03.667740</td>\n",
       "      <td>0.5</td>\n",
       "      <td>0.010</td>\n",
       "      <td>100</td>\n",
       "      <td>231</td>\n",
       "      <td>40</td>\n",
       "      <td>630</td>\n",
       "      <td>1.034529</td>\n",
       "      <td>1.623408</td>\n",
       "      <td>0.4</td>\n",
       "      <td>COMPLETE</td>\n",
       "    </tr>\n",
       "    <tr>\n",
       "      <th>5</th>\n",
       "      <td>5</td>\n",
       "      <td>0.773615</td>\n",
       "      <td>2024-06-17 02:35:01.542996</td>\n",
       "      <td>2024-06-17 02:35:05.174809</td>\n",
       "      <td>0 days 00:00:03.631813</td>\n",
       "      <td>0.3</td>\n",
       "      <td>0.014</td>\n",
       "      <td>20</td>\n",
       "      <td>164</td>\n",
       "      <td>3</td>\n",
       "      <td>617</td>\n",
       "      <td>2.674509</td>\n",
       "      <td>0.003916</td>\n",
       "      <td>0.4</td>\n",
       "      <td>COMPLETE</td>\n",
       "    </tr>\n",
       "    <tr>\n",
       "      <th>6</th>\n",
       "      <td>6</td>\n",
       "      <td>0.774947</td>\n",
       "      <td>2024-06-17 02:35:05.176829</td>\n",
       "      <td>2024-06-17 02:35:13.438280</td>\n",
       "      <td>0 days 00:00:08.261451</td>\n",
       "      <td>0.9</td>\n",
       "      <td>0.010</td>\n",
       "      <td>100</td>\n",
       "      <td>56</td>\n",
       "      <td>66</td>\n",
       "      <td>691</td>\n",
       "      <td>0.007975</td>\n",
       "      <td>0.197335</td>\n",
       "      <td>0.5</td>\n",
       "      <td>COMPLETE</td>\n",
       "    </tr>\n",
       "    <tr>\n",
       "      <th>7</th>\n",
       "      <td>7</td>\n",
       "      <td>0.769256</td>\n",
       "      <td>2024-06-17 02:35:13.440280</td>\n",
       "      <td>2024-06-17 02:35:18.398262</td>\n",
       "      <td>0 days 00:00:04.957982</td>\n",
       "      <td>0.5</td>\n",
       "      <td>0.020</td>\n",
       "      <td>100</td>\n",
       "      <td>66</td>\n",
       "      <td>37</td>\n",
       "      <td>581</td>\n",
       "      <td>0.277691</td>\n",
       "      <td>4.080287</td>\n",
       "      <td>0.8</td>\n",
       "      <td>COMPLETE</td>\n",
       "    </tr>\n",
       "    <tr>\n",
       "      <th>8</th>\n",
       "      <td>8</td>\n",
       "      <td>0.776336</td>\n",
       "      <td>2024-06-17 02:35:18.399261</td>\n",
       "      <td>2024-06-17 02:35:22.188067</td>\n",
       "      <td>0 days 00:00:03.788806</td>\n",
       "      <td>0.9</td>\n",
       "      <td>0.014</td>\n",
       "      <td>100</td>\n",
       "      <td>110</td>\n",
       "      <td>30</td>\n",
       "      <td>295</td>\n",
       "      <td>0.521340</td>\n",
       "      <td>0.019942</td>\n",
       "      <td>0.5</td>\n",
       "      <td>COMPLETE</td>\n",
       "    </tr>\n",
       "    <tr>\n",
       "      <th>9</th>\n",
       "      <td>9</td>\n",
       "      <td>0.781110</td>\n",
       "      <td>2024-06-17 02:35:22.189192</td>\n",
       "      <td>2024-06-17 02:35:23.341279</td>\n",
       "      <td>0 days 00:00:01.152087</td>\n",
       "      <td>0.3</td>\n",
       "      <td>0.020</td>\n",
       "      <td>10</td>\n",
       "      <td>274</td>\n",
       "      <td>6</td>\n",
       "      <td>61</td>\n",
       "      <td>0.092992</td>\n",
       "      <td>2.823770</td>\n",
       "      <td>0.7</td>\n",
       "      <td>COMPLETE</td>\n",
       "    </tr>\n",
       "    <tr>\n",
       "      <th>10</th>\n",
       "      <td>10</td>\n",
       "      <td>0.792828</td>\n",
       "      <td>2024-06-17 02:35:23.342279</td>\n",
       "      <td>2024-06-17 02:36:49.509555</td>\n",
       "      <td>0 days 00:01:26.167276</td>\n",
       "      <td>0.8</td>\n",
       "      <td>0.017</td>\n",
       "      <td>100</td>\n",
       "      <td>5</td>\n",
       "      <td>58</td>\n",
       "      <td>999</td>\n",
       "      <td>0.084840</td>\n",
       "      <td>0.582996</td>\n",
       "      <td>0.6</td>\n",
       "      <td>COMPLETE</td>\n",
       "    </tr>\n",
       "    <tr>\n",
       "      <th>11</th>\n",
       "      <td>11</td>\n",
       "      <td>0.775692</td>\n",
       "      <td>2024-06-17 02:36:49.511556</td>\n",
       "      <td>2024-06-17 02:37:11.067796</td>\n",
       "      <td>0 days 00:00:21.556240</td>\n",
       "      <td>0.6</td>\n",
       "      <td>0.006</td>\n",
       "      <td>20</td>\n",
       "      <td>163</td>\n",
       "      <td>27</td>\n",
       "      <td>475</td>\n",
       "      <td>0.252083</td>\n",
       "      <td>0.001236</td>\n",
       "      <td>1.0</td>\n",
       "      <td>COMPLETE</td>\n",
       "    </tr>\n",
       "    <tr>\n",
       "      <th>12</th>\n",
       "      <td>12</td>\n",
       "      <td>0.776213</td>\n",
       "      <td>2024-06-17 02:37:11.069799</td>\n",
       "      <td>2024-06-17 02:37:18.538903</td>\n",
       "      <td>0 days 00:00:07.469104</td>\n",
       "      <td>1.0</td>\n",
       "      <td>0.020</td>\n",
       "      <td>20</td>\n",
       "      <td>100</td>\n",
       "      <td>24</td>\n",
       "      <td>352</td>\n",
       "      <td>9.980237</td>\n",
       "      <td>0.007928</td>\n",
       "      <td>0.8</td>\n",
       "      <td>COMPLETE</td>\n",
       "    </tr>\n",
       "    <tr>\n",
       "      <th>13</th>\n",
       "      <td>13</td>\n",
       "      <td>0.777096</td>\n",
       "      <td>2024-06-17 02:37:18.539903</td>\n",
       "      <td>2024-06-17 02:37:29.290006</td>\n",
       "      <td>0 days 00:00:10.750103</td>\n",
       "      <td>0.7</td>\n",
       "      <td>0.006</td>\n",
       "      <td>20</td>\n",
       "      <td>206</td>\n",
       "      <td>46</td>\n",
       "      <td>677</td>\n",
       "      <td>0.035110</td>\n",
       "      <td>0.563193</td>\n",
       "      <td>0.8</td>\n",
       "      <td>COMPLETE</td>\n",
       "    </tr>\n",
       "    <tr>\n",
       "      <th>14</th>\n",
       "      <td>14</td>\n",
       "      <td>0.773219</td>\n",
       "      <td>2024-06-17 02:37:29.291006</td>\n",
       "      <td>2024-06-17 02:37:35.241406</td>\n",
       "      <td>0 days 00:00:05.950400</td>\n",
       "      <td>0.3</td>\n",
       "      <td>0.008</td>\n",
       "      <td>20</td>\n",
       "      <td>102</td>\n",
       "      <td>64</td>\n",
       "      <td>847</td>\n",
       "      <td>0.001559</td>\n",
       "      <td>0.006197</td>\n",
       "      <td>0.4</td>\n",
       "      <td>COMPLETE</td>\n",
       "    </tr>\n",
       "    <tr>\n",
       "      <th>15</th>\n",
       "      <td>15</td>\n",
       "      <td>0.771216</td>\n",
       "      <td>2024-06-17 02:37:35.242407</td>\n",
       "      <td>2024-06-17 02:37:50.734189</td>\n",
       "      <td>0 days 00:00:15.491782</td>\n",
       "      <td>0.5</td>\n",
       "      <td>0.008</td>\n",
       "      <td>100</td>\n",
       "      <td>58</td>\n",
       "      <td>76</td>\n",
       "      <td>885</td>\n",
       "      <td>0.001464</td>\n",
       "      <td>8.900057</td>\n",
       "      <td>0.6</td>\n",
       "      <td>COMPLETE</td>\n",
       "    </tr>\n",
       "    <tr>\n",
       "      <th>16</th>\n",
       "      <td>16</td>\n",
       "      <td>0.768701</td>\n",
       "      <td>2024-06-17 02:37:50.735226</td>\n",
       "      <td>2024-06-17 02:38:13.042980</td>\n",
       "      <td>0 days 00:00:22.307754</td>\n",
       "      <td>0.5</td>\n",
       "      <td>0.008</td>\n",
       "      <td>100</td>\n",
       "      <td>27</td>\n",
       "      <td>79</td>\n",
       "      <td>973</td>\n",
       "      <td>0.001381</td>\n",
       "      <td>9.709273</td>\n",
       "      <td>0.6</td>\n",
       "      <td>COMPLETE</td>\n",
       "    </tr>\n",
       "    <tr>\n",
       "      <th>17</th>\n",
       "      <td>17</td>\n",
       "      <td>0.773404</td>\n",
       "      <td>2024-06-17 02:38:13.043981</td>\n",
       "      <td>2024-06-17 02:39:12.297268</td>\n",
       "      <td>0 days 00:00:59.253287</td>\n",
       "      <td>0.5</td>\n",
       "      <td>0.017</td>\n",
       "      <td>100</td>\n",
       "      <td>12</td>\n",
       "      <td>99</td>\n",
       "      <td>978</td>\n",
       "      <td>0.016282</td>\n",
       "      <td>6.332418</td>\n",
       "      <td>0.6</td>\n",
       "      <td>COMPLETE</td>\n",
       "    </tr>\n",
       "    <tr>\n",
       "      <th>18</th>\n",
       "      <td>18</td>\n",
       "      <td>0.770440</td>\n",
       "      <td>2024-06-17 02:39:12.298435</td>\n",
       "      <td>2024-06-17 02:39:16.897868</td>\n",
       "      <td>0 days 00:00:04.599433</td>\n",
       "      <td>0.5</td>\n",
       "      <td>0.020</td>\n",
       "      <td>100</td>\n",
       "      <td>53</td>\n",
       "      <td>54</td>\n",
       "      <td>272</td>\n",
       "      <td>0.182814</td>\n",
       "      <td>0.815796</td>\n",
       "      <td>1.0</td>\n",
       "      <td>COMPLETE</td>\n",
       "    </tr>\n",
       "    <tr>\n",
       "      <th>19</th>\n",
       "      <td>19</td>\n",
       "      <td>0.778032</td>\n",
       "      <td>2024-06-17 02:39:16.899872</td>\n",
       "      <td>2024-06-17 02:39:36.484659</td>\n",
       "      <td>0 days 00:00:19.584787</td>\n",
       "      <td>1.0</td>\n",
       "      <td>0.008</td>\n",
       "      <td>100</td>\n",
       "      <td>31</td>\n",
       "      <td>73</td>\n",
       "      <td>791</td>\n",
       "      <td>0.042600</td>\n",
       "      <td>1.342477</td>\n",
       "      <td>0.6</td>\n",
       "      <td>COMPLETE</td>\n",
       "    </tr>\n",
       "    <tr>\n",
       "      <th>20</th>\n",
       "      <td>20</td>\n",
       "      <td>0.774893</td>\n",
       "      <td>2024-06-17 02:39:36.486167</td>\n",
       "      <td>2024-06-17 02:39:45.093136</td>\n",
       "      <td>0 days 00:00:08.606969</td>\n",
       "      <td>0.6</td>\n",
       "      <td>0.008</td>\n",
       "      <td>100</td>\n",
       "      <td>81</td>\n",
       "      <td>40</td>\n",
       "      <td>561</td>\n",
       "      <td>0.003696</td>\n",
       "      <td>9.042792</td>\n",
       "      <td>0.8</td>\n",
       "      <td>COMPLETE</td>\n",
       "    </tr>\n",
       "    <tr>\n",
       "      <th>21</th>\n",
       "      <td>21</td>\n",
       "      <td>0.770133</td>\n",
       "      <td>2024-06-17 02:39:45.094136</td>\n",
       "      <td>2024-06-17 02:39:50.325144</td>\n",
       "      <td>0 days 00:00:05.231008</td>\n",
       "      <td>0.5</td>\n",
       "      <td>0.020</td>\n",
       "      <td>100</td>\n",
       "      <td>56</td>\n",
       "      <td>50</td>\n",
       "      <td>307</td>\n",
       "      <td>0.177357</td>\n",
       "      <td>0.567814</td>\n",
       "      <td>1.0</td>\n",
       "      <td>COMPLETE</td>\n",
       "    </tr>\n",
       "    <tr>\n",
       "      <th>22</th>\n",
       "      <td>22</td>\n",
       "      <td>0.772378</td>\n",
       "      <td>2024-06-17 02:39:50.326795</td>\n",
       "      <td>2024-06-17 02:39:54.482101</td>\n",
       "      <td>0 days 00:00:04.155306</td>\n",
       "      <td>0.5</td>\n",
       "      <td>0.020</td>\n",
       "      <td>100</td>\n",
       "      <td>123</td>\n",
       "      <td>48</td>\n",
       "      <td>394</td>\n",
       "      <td>0.224476</td>\n",
       "      <td>0.253892</td>\n",
       "      <td>1.0</td>\n",
       "      <td>COMPLETE</td>\n",
       "    </tr>\n",
       "    <tr>\n",
       "      <th>23</th>\n",
       "      <td>23</td>\n",
       "      <td>0.769928</td>\n",
       "      <td>2024-06-17 02:39:54.484099</td>\n",
       "      <td>2024-06-17 02:40:21.376382</td>\n",
       "      <td>0 days 00:00:26.892283</td>\n",
       "      <td>0.5</td>\n",
       "      <td>0.020</td>\n",
       "      <td>100</td>\n",
       "      <td>28</td>\n",
       "      <td>19</td>\n",
       "      <td>215</td>\n",
       "      <td>0.036765</td>\n",
       "      <td>3.068248</td>\n",
       "      <td>1.0</td>\n",
       "      <td>COMPLETE</td>\n",
       "    </tr>\n",
       "    <tr>\n",
       "      <th>24</th>\n",
       "      <td>24</td>\n",
       "      <td>0.774093</td>\n",
       "      <td>2024-06-17 02:40:21.377898</td>\n",
       "      <td>2024-06-17 02:40:41.181145</td>\n",
       "      <td>0 days 00:00:19.803247</td>\n",
       "      <td>0.7</td>\n",
       "      <td>0.020</td>\n",
       "      <td>100</td>\n",
       "      <td>37</td>\n",
       "      <td>19</td>\n",
       "      <td>175</td>\n",
       "      <td>0.033242</td>\n",
       "      <td>3.160826</td>\n",
       "      <td>0.8</td>\n",
       "      <td>COMPLETE</td>\n",
       "    </tr>\n",
       "    <tr>\n",
       "      <th>25</th>\n",
       "      <td>25</td>\n",
       "      <td>0.781213</td>\n",
       "      <td>2024-06-17 02:40:41.182146</td>\n",
       "      <td>2024-06-17 02:40:44.344478</td>\n",
       "      <td>0 days 00:00:03.162332</td>\n",
       "      <td>0.8</td>\n",
       "      <td>0.020</td>\n",
       "      <td>10</td>\n",
       "      <td>81</td>\n",
       "      <td>16</td>\n",
       "      <td>6</td>\n",
       "      <td>0.003701</td>\n",
       "      <td>1.939418</td>\n",
       "      <td>0.6</td>\n",
       "      <td>COMPLETE</td>\n",
       "    </tr>\n",
       "    <tr>\n",
       "      <th>26</th>\n",
       "      <td>26</td>\n",
       "      <td>0.767803</td>\n",
       "      <td>2024-06-17 02:40:44.345984</td>\n",
       "      <td>2024-06-17 02:41:45.540564</td>\n",
       "      <td>0 days 00:01:01.194580</td>\n",
       "      <td>0.4</td>\n",
       "      <td>0.010</td>\n",
       "      <td>100</td>\n",
       "      <td>25</td>\n",
       "      <td>36</td>\n",
       "      <td>757</td>\n",
       "      <td>0.001017</td>\n",
       "      <td>4.767669</td>\n",
       "      <td>1.0</td>\n",
       "      <td>COMPLETE</td>\n",
       "    </tr>\n",
       "    <tr>\n",
       "      <th>27</th>\n",
       "      <td>27</td>\n",
       "      <td>0.772803</td>\n",
       "      <td>2024-06-17 02:41:45.541564</td>\n",
       "      <td>2024-06-17 02:42:05.117609</td>\n",
       "      <td>0 days 00:00:19.576045</td>\n",
       "      <td>0.4</td>\n",
       "      <td>0.010</td>\n",
       "      <td>100</td>\n",
       "      <td>136</td>\n",
       "      <td>36</td>\n",
       "      <td>926</td>\n",
       "      <td>0.002829</td>\n",
       "      <td>4.916690</td>\n",
       "      <td>0.7</td>\n",
       "      <td>COMPLETE</td>\n",
       "    </tr>\n",
       "    <tr>\n",
       "      <th>28</th>\n",
       "      <td>28</td>\n",
       "      <td>0.784058</td>\n",
       "      <td>2024-06-17 02:42:05.119611</td>\n",
       "      <td>2024-06-17 02:43:37.743933</td>\n",
       "      <td>0 days 00:01:32.624322</td>\n",
       "      <td>0.6</td>\n",
       "      <td>0.010</td>\n",
       "      <td>100</td>\n",
       "      <td>6</td>\n",
       "      <td>35</td>\n",
       "      <td>700</td>\n",
       "      <td>0.001020</td>\n",
       "      <td>0.044823</td>\n",
       "      <td>0.6</td>\n",
       "      <td>COMPLETE</td>\n",
       "    </tr>\n",
       "    <tr>\n",
       "      <th>29</th>\n",
       "      <td>29</td>\n",
       "      <td>0.771916</td>\n",
       "      <td>2024-06-17 02:43:37.744934</td>\n",
       "      <td>2024-06-17 02:43:41.236662</td>\n",
       "      <td>0 days 00:00:03.491728</td>\n",
       "      <td>0.4</td>\n",
       "      <td>0.010</td>\n",
       "      <td>10</td>\n",
       "      <td>80</td>\n",
       "      <td>61</td>\n",
       "      <td>749</td>\n",
       "      <td>0.015145</td>\n",
       "      <td>1.195054</td>\n",
       "      <td>0.5</td>\n",
       "      <td>COMPLETE</td>\n",
       "    </tr>\n",
       "    <tr>\n",
       "      <th>30</th>\n",
       "      <td>30</td>\n",
       "      <td>0.774912</td>\n",
       "      <td>2024-06-17 02:43:41.238071</td>\n",
       "      <td>2024-06-17 02:43:46.314409</td>\n",
       "      <td>0 days 00:00:05.076338</td>\n",
       "      <td>0.4</td>\n",
       "      <td>0.008</td>\n",
       "      <td>100</td>\n",
       "      <td>195</td>\n",
       "      <td>89</td>\n",
       "      <td>491</td>\n",
       "      <td>0.009701</td>\n",
       "      <td>0.302636</td>\n",
       "      <td>0.8</td>\n",
       "      <td>COMPLETE</td>\n",
       "    </tr>\n",
       "    <tr>\n",
       "      <th>31</th>\n",
       "      <td>31</td>\n",
       "      <td>0.769042</td>\n",
       "      <td>2024-06-17 02:43:46.315916</td>\n",
       "      <td>2024-06-17 02:43:54.231486</td>\n",
       "      <td>0 days 00:00:07.915570</td>\n",
       "      <td>0.4</td>\n",
       "      <td>0.017</td>\n",
       "      <td>100</td>\n",
       "      <td>32</td>\n",
       "      <td>16</td>\n",
       "      <td>553</td>\n",
       "      <td>0.002720</td>\n",
       "      <td>4.768505</td>\n",
       "      <td>1.0</td>\n",
       "      <td>COMPLETE</td>\n",
       "    </tr>\n",
       "    <tr>\n",
       "      <th>32</th>\n",
       "      <td>32</td>\n",
       "      <td>0.768330</td>\n",
       "      <td>2024-06-17 02:43:54.232487</td>\n",
       "      <td>2024-06-17 02:44:03.936140</td>\n",
       "      <td>0 days 00:00:09.703653</td>\n",
       "      <td>0.4</td>\n",
       "      <td>0.017</td>\n",
       "      <td>100</td>\n",
       "      <td>32</td>\n",
       "      <td>15</td>\n",
       "      <td>535</td>\n",
       "      <td>0.002393</td>\n",
       "      <td>6.369310</td>\n",
       "      <td>1.0</td>\n",
       "      <td>COMPLETE</td>\n",
       "    </tr>\n",
       "    <tr>\n",
       "      <th>33</th>\n",
       "      <td>33</td>\n",
       "      <td>0.766205</td>\n",
       "      <td>2024-06-17 02:44:03.937002</td>\n",
       "      <td>2024-06-17 02:44:19.605042</td>\n",
       "      <td>0 days 00:00:15.668040</td>\n",
       "      <td>0.4</td>\n",
       "      <td>0.017</td>\n",
       "      <td>100</td>\n",
       "      <td>30</td>\n",
       "      <td>13</td>\n",
       "      <td>412</td>\n",
       "      <td>0.002354</td>\n",
       "      <td>8.932964</td>\n",
       "      <td>1.0</td>\n",
       "      <td>COMPLETE</td>\n",
       "    </tr>\n",
       "    <tr>\n",
       "      <th>34</th>\n",
       "      <td>34</td>\n",
       "      <td>0.770299</td>\n",
       "      <td>2024-06-17 02:44:19.606042</td>\n",
       "      <td>2024-06-17 02:44:40.589929</td>\n",
       "      <td>0 days 00:00:20.983887</td>\n",
       "      <td>0.4</td>\n",
       "      <td>0.017</td>\n",
       "      <td>100</td>\n",
       "      <td>19</td>\n",
       "      <td>11</td>\n",
       "      <td>425</td>\n",
       "      <td>0.005383</td>\n",
       "      <td>6.636400</td>\n",
       "      <td>1.0</td>\n",
       "      <td>COMPLETE</td>\n",
       "    </tr>\n",
       "    <tr>\n",
       "      <th>35</th>\n",
       "      <td>35</td>\n",
       "      <td>0.769126</td>\n",
       "      <td>2024-06-17 02:44:40.590929</td>\n",
       "      <td>2024-06-17 02:44:56.477838</td>\n",
       "      <td>0 days 00:00:15.886909</td>\n",
       "      <td>0.4</td>\n",
       "      <td>0.017</td>\n",
       "      <td>10</td>\n",
       "      <td>43</td>\n",
       "      <td>9</td>\n",
       "      <td>923</td>\n",
       "      <td>0.001747</td>\n",
       "      <td>9.981101</td>\n",
       "      <td>1.0</td>\n",
       "      <td>COMPLETE</td>\n",
       "    </tr>\n",
       "    <tr>\n",
       "      <th>36</th>\n",
       "      <td>36</td>\n",
       "      <td>0.776527</td>\n",
       "      <td>2024-06-17 02:44:56.479841</td>\n",
       "      <td>2024-06-17 02:47:36.059123</td>\n",
       "      <td>0 days 00:02:39.579282</td>\n",
       "      <td>0.4</td>\n",
       "      <td>0.017</td>\n",
       "      <td>100</td>\n",
       "      <td>2</td>\n",
       "      <td>1</td>\n",
       "      <td>767</td>\n",
       "      <td>0.001016</td>\n",
       "      <td>2.198013</td>\n",
       "      <td>1.0</td>\n",
       "      <td>COMPLETE</td>\n",
       "    </tr>\n",
       "    <tr>\n",
       "      <th>37</th>\n",
       "      <td>37</td>\n",
       "      <td>0.770928</td>\n",
       "      <td>2024-06-17 02:47:36.060123</td>\n",
       "      <td>2024-06-17 02:47:41.429410</td>\n",
       "      <td>0 days 00:00:05.369287</td>\n",
       "      <td>0.4</td>\n",
       "      <td>0.017</td>\n",
       "      <td>100</td>\n",
       "      <td>72</td>\n",
       "      <td>31</td>\n",
       "      <td>447</td>\n",
       "      <td>0.005451</td>\n",
       "      <td>1.089858</td>\n",
       "      <td>1.0</td>\n",
       "      <td>COMPLETE</td>\n",
       "    </tr>\n",
       "    <tr>\n",
       "      <th>38</th>\n",
       "      <td>38</td>\n",
       "      <td>0.768091</td>\n",
       "      <td>2024-06-17 02:47:41.430410</td>\n",
       "      <td>2024-06-17 02:48:07.001746</td>\n",
       "      <td>0 days 00:00:25.571336</td>\n",
       "      <td>0.4</td>\n",
       "      <td>0.010</td>\n",
       "      <td>100</td>\n",
       "      <td>21</td>\n",
       "      <td>44</td>\n",
       "      <td>527</td>\n",
       "      <td>0.002052</td>\n",
       "      <td>5.585301</td>\n",
       "      <td>1.0</td>\n",
       "      <td>COMPLETE</td>\n",
       "    </tr>\n",
       "    <tr>\n",
       "      <th>39</th>\n",
       "      <td>39</td>\n",
       "      <td>0.769161</td>\n",
       "      <td>2024-06-17 02:48:07.003753</td>\n",
       "      <td>2024-06-17 02:48:17.181879</td>\n",
       "      <td>0 days 00:00:10.178126</td>\n",
       "      <td>0.4</td>\n",
       "      <td>0.010</td>\n",
       "      <td>100</td>\n",
       "      <td>44</td>\n",
       "      <td>44</td>\n",
       "      <td>532</td>\n",
       "      <td>0.002382</td>\n",
       "      <td>0.109202</td>\n",
       "      <td>1.0</td>\n",
       "      <td>COMPLETE</td>\n",
       "    </tr>\n",
       "    <tr>\n",
       "      <th>40</th>\n",
       "      <td>40</td>\n",
       "      <td>0.773037</td>\n",
       "      <td>2024-06-17 02:48:17.182879</td>\n",
       "      <td>2024-06-17 02:48:20.678277</td>\n",
       "      <td>0 days 00:00:03.495398</td>\n",
       "      <td>0.4</td>\n",
       "      <td>0.010</td>\n",
       "      <td>10</td>\n",
       "      <td>91</td>\n",
       "      <td>24</td>\n",
       "      <td>607</td>\n",
       "      <td>0.011052</td>\n",
       "      <td>0.052596</td>\n",
       "      <td>1.0</td>\n",
       "      <td>COMPLETE</td>\n",
       "    </tr>\n",
       "    <tr>\n",
       "      <th>41</th>\n",
       "      <td>41</td>\n",
       "      <td>0.769372</td>\n",
       "      <td>2024-06-17 02:48:20.679278</td>\n",
       "      <td>2024-06-17 02:49:59.594567</td>\n",
       "      <td>0 days 00:01:38.915289</td>\n",
       "      <td>0.4</td>\n",
       "      <td>0.010</td>\n",
       "      <td>100</td>\n",
       "      <td>16</td>\n",
       "      <td>71</td>\n",
       "      <td>642</td>\n",
       "      <td>0.005227</td>\n",
       "      <td>5.457201</td>\n",
       "      <td>1.0</td>\n",
       "      <td>COMPLETE</td>\n",
       "    </tr>\n",
       "    <tr>\n",
       "      <th>42</th>\n",
       "      <td>42</td>\n",
       "      <td>0.781816</td>\n",
       "      <td>2024-06-17 02:49:59.597080</td>\n",
       "      <td>2024-06-17 02:50:19.404384</td>\n",
       "      <td>0 days 00:00:19.807304</td>\n",
       "      <td>0.9</td>\n",
       "      <td>0.014</td>\n",
       "      <td>100</td>\n",
       "      <td>25</td>\n",
       "      <td>55</td>\n",
       "      <td>383</td>\n",
       "      <td>0.001950</td>\n",
       "      <td>2.252029</td>\n",
       "      <td>0.4</td>\n",
       "      <td>COMPLETE</td>\n",
       "    </tr>\n",
       "    <tr>\n",
       "      <th>43</th>\n",
       "      <td>43</td>\n",
       "      <td>0.769196</td>\n",
       "      <td>2024-06-17 02:50:19.405891</td>\n",
       "      <td>2024-06-17 02:50:25.827104</td>\n",
       "      <td>0 days 00:00:06.421213</td>\n",
       "      <td>0.4</td>\n",
       "      <td>0.017</td>\n",
       "      <td>100</td>\n",
       "      <td>45</td>\n",
       "      <td>13</td>\n",
       "      <td>720</td>\n",
       "      <td>0.001119</td>\n",
       "      <td>4.065575</td>\n",
       "      <td>0.7</td>\n",
       "      <td>COMPLETE</td>\n",
       "    </tr>\n",
       "    <tr>\n",
       "      <th>44</th>\n",
       "      <td>44</td>\n",
       "      <td>0.772250</td>\n",
       "      <td>2024-06-17 02:50:25.828612</td>\n",
       "      <td>2024-06-17 02:50:41.222315</td>\n",
       "      <td>0 days 00:00:15.393703</td>\n",
       "      <td>0.8</td>\n",
       "      <td>0.006</td>\n",
       "      <td>100</td>\n",
       "      <td>67</td>\n",
       "      <td>41</td>\n",
       "      <td>520</td>\n",
       "      <td>0.004147</td>\n",
       "      <td>6.877876</td>\n",
       "      <td>0.5</td>\n",
       "      <td>COMPLETE</td>\n",
       "    </tr>\n",
       "    <tr>\n",
       "      <th>45</th>\n",
       "      <td>45</td>\n",
       "      <td>0.789199</td>\n",
       "      <td>2024-06-17 02:50:41.223315</td>\n",
       "      <td>2024-06-17 02:51:04.457993</td>\n",
       "      <td>0 days 00:00:23.234678</td>\n",
       "      <td>1.0</td>\n",
       "      <td>0.010</td>\n",
       "      <td>20</td>\n",
       "      <td>17</td>\n",
       "      <td>5</td>\n",
       "      <td>822</td>\n",
       "      <td>0.002582</td>\n",
       "      <td>1.745474</td>\n",
       "      <td>1.0</td>\n",
       "      <td>COMPLETE</td>\n",
       "    </tr>\n",
       "    <tr>\n",
       "      <th>46</th>\n",
       "      <td>46</td>\n",
       "      <td>0.776924</td>\n",
       "      <td>2024-06-17 02:51:04.459994</td>\n",
       "      <td>2024-06-17 02:51:06.892559</td>\n",
       "      <td>0 days 00:00:02.432565</td>\n",
       "      <td>0.7</td>\n",
       "      <td>0.017</td>\n",
       "      <td>100</td>\n",
       "      <td>182</td>\n",
       "      <td>23</td>\n",
       "      <td>654</td>\n",
       "      <td>0.007438</td>\n",
       "      <td>3.371157</td>\n",
       "      <td>1.0</td>\n",
       "      <td>COMPLETE</td>\n",
       "    </tr>\n",
       "    <tr>\n",
       "      <th>47</th>\n",
       "      <td>47</td>\n",
       "      <td>0.774101</td>\n",
       "      <td>2024-06-17 02:51:06.893559</td>\n",
       "      <td>2024-06-17 02:53:00.766638</td>\n",
       "      <td>0 days 00:01:53.873079</td>\n",
       "      <td>0.4</td>\n",
       "      <td>0.008</td>\n",
       "      <td>100</td>\n",
       "      <td>2</td>\n",
       "      <td>82</td>\n",
       "      <td>593</td>\n",
       "      <td>0.001465</td>\n",
       "      <td>7.459718</td>\n",
       "      <td>0.6</td>\n",
       "      <td>COMPLETE</td>\n",
       "    </tr>\n",
       "    <tr>\n",
       "      <th>48</th>\n",
       "      <td>48</td>\n",
       "      <td>0.776535</td>\n",
       "      <td>2024-06-17 02:53:00.768449</td>\n",
       "      <td>2024-06-17 02:53:05.171797</td>\n",
       "      <td>0 days 00:00:04.403348</td>\n",
       "      <td>0.9</td>\n",
       "      <td>0.010</td>\n",
       "      <td>20</td>\n",
       "      <td>231</td>\n",
       "      <td>30</td>\n",
       "      <td>481</td>\n",
       "      <td>0.001991</td>\n",
       "      <td>4.116287</td>\n",
       "      <td>0.4</td>\n",
       "      <td>COMPLETE</td>\n",
       "    </tr>\n",
       "    <tr>\n",
       "      <th>49</th>\n",
       "      <td>49</td>\n",
       "      <td>0.767924</td>\n",
       "      <td>2024-06-17 02:53:05.174798</td>\n",
       "      <td>2024-06-17 02:53:11.432515</td>\n",
       "      <td>0 days 00:00:06.257717</td>\n",
       "      <td>0.3</td>\n",
       "      <td>0.014</td>\n",
       "      <td>100</td>\n",
       "      <td>56</td>\n",
       "      <td>53</td>\n",
       "      <td>357</td>\n",
       "      <td>1.097053</td>\n",
       "      <td>9.991040</td>\n",
       "      <td>1.0</td>\n",
       "      <td>COMPLETE</td>\n",
       "    </tr>\n",
       "  </tbody>\n",
       "</table>\n",
       "</div>"
      ],
      "text/plain": [
       "    number     value             datetime_start          datetime_complete  \\\n",
       "0        0  0.780007 2024-06-17 02:34:46.621999 2024-06-17 02:34:50.093409   \n",
       "1        1  0.775050 2024-06-17 02:34:50.094410 2024-06-17 02:34:52.168380   \n",
       "2        2  0.779006 2024-06-17 02:34:52.169380 2024-06-17 02:34:55.820796   \n",
       "3        3  0.779049 2024-06-17 02:34:55.821796 2024-06-17 02:34:57.872256   \n",
       "4        4  0.778421 2024-06-17 02:34:57.873256 2024-06-17 02:35:01.540996   \n",
       "5        5  0.773615 2024-06-17 02:35:01.542996 2024-06-17 02:35:05.174809   \n",
       "6        6  0.774947 2024-06-17 02:35:05.176829 2024-06-17 02:35:13.438280   \n",
       "7        7  0.769256 2024-06-17 02:35:13.440280 2024-06-17 02:35:18.398262   \n",
       "8        8  0.776336 2024-06-17 02:35:18.399261 2024-06-17 02:35:22.188067   \n",
       "9        9  0.781110 2024-06-17 02:35:22.189192 2024-06-17 02:35:23.341279   \n",
       "10      10  0.792828 2024-06-17 02:35:23.342279 2024-06-17 02:36:49.509555   \n",
       "11      11  0.775692 2024-06-17 02:36:49.511556 2024-06-17 02:37:11.067796   \n",
       "12      12  0.776213 2024-06-17 02:37:11.069799 2024-06-17 02:37:18.538903   \n",
       "13      13  0.777096 2024-06-17 02:37:18.539903 2024-06-17 02:37:29.290006   \n",
       "14      14  0.773219 2024-06-17 02:37:29.291006 2024-06-17 02:37:35.241406   \n",
       "15      15  0.771216 2024-06-17 02:37:35.242407 2024-06-17 02:37:50.734189   \n",
       "16      16  0.768701 2024-06-17 02:37:50.735226 2024-06-17 02:38:13.042980   \n",
       "17      17  0.773404 2024-06-17 02:38:13.043981 2024-06-17 02:39:12.297268   \n",
       "18      18  0.770440 2024-06-17 02:39:12.298435 2024-06-17 02:39:16.897868   \n",
       "19      19  0.778032 2024-06-17 02:39:16.899872 2024-06-17 02:39:36.484659   \n",
       "20      20  0.774893 2024-06-17 02:39:36.486167 2024-06-17 02:39:45.093136   \n",
       "21      21  0.770133 2024-06-17 02:39:45.094136 2024-06-17 02:39:50.325144   \n",
       "22      22  0.772378 2024-06-17 02:39:50.326795 2024-06-17 02:39:54.482101   \n",
       "23      23  0.769928 2024-06-17 02:39:54.484099 2024-06-17 02:40:21.376382   \n",
       "24      24  0.774093 2024-06-17 02:40:21.377898 2024-06-17 02:40:41.181145   \n",
       "25      25  0.781213 2024-06-17 02:40:41.182146 2024-06-17 02:40:44.344478   \n",
       "26      26  0.767803 2024-06-17 02:40:44.345984 2024-06-17 02:41:45.540564   \n",
       "27      27  0.772803 2024-06-17 02:41:45.541564 2024-06-17 02:42:05.117609   \n",
       "28      28  0.784058 2024-06-17 02:42:05.119611 2024-06-17 02:43:37.743933   \n",
       "29      29  0.771916 2024-06-17 02:43:37.744934 2024-06-17 02:43:41.236662   \n",
       "30      30  0.774912 2024-06-17 02:43:41.238071 2024-06-17 02:43:46.314409   \n",
       "31      31  0.769042 2024-06-17 02:43:46.315916 2024-06-17 02:43:54.231486   \n",
       "32      32  0.768330 2024-06-17 02:43:54.232487 2024-06-17 02:44:03.936140   \n",
       "33      33  0.766205 2024-06-17 02:44:03.937002 2024-06-17 02:44:19.605042   \n",
       "34      34  0.770299 2024-06-17 02:44:19.606042 2024-06-17 02:44:40.589929   \n",
       "35      35  0.769126 2024-06-17 02:44:40.590929 2024-06-17 02:44:56.477838   \n",
       "36      36  0.776527 2024-06-17 02:44:56.479841 2024-06-17 02:47:36.059123   \n",
       "37      37  0.770928 2024-06-17 02:47:36.060123 2024-06-17 02:47:41.429410   \n",
       "38      38  0.768091 2024-06-17 02:47:41.430410 2024-06-17 02:48:07.001746   \n",
       "39      39  0.769161 2024-06-17 02:48:07.003753 2024-06-17 02:48:17.181879   \n",
       "40      40  0.773037 2024-06-17 02:48:17.182879 2024-06-17 02:48:20.678277   \n",
       "41      41  0.769372 2024-06-17 02:48:20.679278 2024-06-17 02:49:59.594567   \n",
       "42      42  0.781816 2024-06-17 02:49:59.597080 2024-06-17 02:50:19.404384   \n",
       "43      43  0.769196 2024-06-17 02:50:19.405891 2024-06-17 02:50:25.827104   \n",
       "44      44  0.772250 2024-06-17 02:50:25.828612 2024-06-17 02:50:41.222315   \n",
       "45      45  0.789199 2024-06-17 02:50:41.223315 2024-06-17 02:51:04.457993   \n",
       "46      46  0.776924 2024-06-17 02:51:04.459994 2024-06-17 02:51:06.892559   \n",
       "47      47  0.774101 2024-06-17 02:51:06.893559 2024-06-17 02:53:00.766638   \n",
       "48      48  0.776535 2024-06-17 02:53:00.768449 2024-06-17 02:53:05.171797   \n",
       "49      49  0.767924 2024-06-17 02:53:05.174798 2024-06-17 02:53:11.432515   \n",
       "\n",
       "                 duration  params_colsample_bytree  params_learning_rate  \\\n",
       "0  0 days 00:00:03.471410                      0.4                 0.008   \n",
       "1  0 days 00:00:02.073970                      0.5                 0.020   \n",
       "2  0 days 00:00:03.651416                      0.9                 0.014   \n",
       "3  0 days 00:00:02.050460                      0.3                 0.014   \n",
       "4  0 days 00:00:03.667740                      0.5                 0.010   \n",
       "5  0 days 00:00:03.631813                      0.3                 0.014   \n",
       "6  0 days 00:00:08.261451                      0.9                 0.010   \n",
       "7  0 days 00:00:04.957982                      0.5                 0.020   \n",
       "8  0 days 00:00:03.788806                      0.9                 0.014   \n",
       "9  0 days 00:00:01.152087                      0.3                 0.020   \n",
       "10 0 days 00:01:26.167276                      0.8                 0.017   \n",
       "11 0 days 00:00:21.556240                      0.6                 0.006   \n",
       "12 0 days 00:00:07.469104                      1.0                 0.020   \n",
       "13 0 days 00:00:10.750103                      0.7                 0.006   \n",
       "14 0 days 00:00:05.950400                      0.3                 0.008   \n",
       "15 0 days 00:00:15.491782                      0.5                 0.008   \n",
       "16 0 days 00:00:22.307754                      0.5                 0.008   \n",
       "17 0 days 00:00:59.253287                      0.5                 0.017   \n",
       "18 0 days 00:00:04.599433                      0.5                 0.020   \n",
       "19 0 days 00:00:19.584787                      1.0                 0.008   \n",
       "20 0 days 00:00:08.606969                      0.6                 0.008   \n",
       "21 0 days 00:00:05.231008                      0.5                 0.020   \n",
       "22 0 days 00:00:04.155306                      0.5                 0.020   \n",
       "23 0 days 00:00:26.892283                      0.5                 0.020   \n",
       "24 0 days 00:00:19.803247                      0.7                 0.020   \n",
       "25 0 days 00:00:03.162332                      0.8                 0.020   \n",
       "26 0 days 00:01:01.194580                      0.4                 0.010   \n",
       "27 0 days 00:00:19.576045                      0.4                 0.010   \n",
       "28 0 days 00:01:32.624322                      0.6                 0.010   \n",
       "29 0 days 00:00:03.491728                      0.4                 0.010   \n",
       "30 0 days 00:00:05.076338                      0.4                 0.008   \n",
       "31 0 days 00:00:07.915570                      0.4                 0.017   \n",
       "32 0 days 00:00:09.703653                      0.4                 0.017   \n",
       "33 0 days 00:00:15.668040                      0.4                 0.017   \n",
       "34 0 days 00:00:20.983887                      0.4                 0.017   \n",
       "35 0 days 00:00:15.886909                      0.4                 0.017   \n",
       "36 0 days 00:02:39.579282                      0.4                 0.017   \n",
       "37 0 days 00:00:05.369287                      0.4                 0.017   \n",
       "38 0 days 00:00:25.571336                      0.4                 0.010   \n",
       "39 0 days 00:00:10.178126                      0.4                 0.010   \n",
       "40 0 days 00:00:03.495398                      0.4                 0.010   \n",
       "41 0 days 00:01:38.915289                      0.4                 0.010   \n",
       "42 0 days 00:00:19.807304                      0.9                 0.014   \n",
       "43 0 days 00:00:06.421213                      0.4                 0.017   \n",
       "44 0 days 00:00:15.393703                      0.8                 0.006   \n",
       "45 0 days 00:00:23.234678                      1.0                 0.010   \n",
       "46 0 days 00:00:02.432565                      0.7                 0.017   \n",
       "47 0 days 00:01:53.873079                      0.4                 0.008   \n",
       "48 0 days 00:00:04.403348                      0.9                 0.010   \n",
       "49 0 days 00:00:06.257717                      0.3                 0.014   \n",
       "\n",
       "    params_max_depth  params_min_child_samples  params_min_data_per_groups  \\\n",
       "0                 10                       255                           9   \n",
       "1                 20                       159                          82   \n",
       "2                100                       288                           8   \n",
       "3                 10                       264                          91   \n",
       "4                100                       231                          40   \n",
       "5                 20                       164                           3   \n",
       "6                100                        56                          66   \n",
       "7                100                        66                          37   \n",
       "8                100                       110                          30   \n",
       "9                 10                       274                           6   \n",
       "10               100                         5                          58   \n",
       "11                20                       163                          27   \n",
       "12                20                       100                          24   \n",
       "13                20                       206                          46   \n",
       "14                20                       102                          64   \n",
       "15               100                        58                          76   \n",
       "16               100                        27                          79   \n",
       "17               100                        12                          99   \n",
       "18               100                        53                          54   \n",
       "19               100                        31                          73   \n",
       "20               100                        81                          40   \n",
       "21               100                        56                          50   \n",
       "22               100                       123                          48   \n",
       "23               100                        28                          19   \n",
       "24               100                        37                          19   \n",
       "25                10                        81                          16   \n",
       "26               100                        25                          36   \n",
       "27               100                       136                          36   \n",
       "28               100                         6                          35   \n",
       "29                10                        80                          61   \n",
       "30               100                       195                          89   \n",
       "31               100                        32                          16   \n",
       "32               100                        32                          15   \n",
       "33               100                        30                          13   \n",
       "34               100                        19                          11   \n",
       "35                10                        43                           9   \n",
       "36               100                         2                           1   \n",
       "37               100                        72                          31   \n",
       "38               100                        21                          44   \n",
       "39               100                        44                          44   \n",
       "40                10                        91                          24   \n",
       "41               100                        16                          71   \n",
       "42               100                        25                          55   \n",
       "43               100                        45                          13   \n",
       "44               100                        67                          41   \n",
       "45                20                        17                           5   \n",
       "46               100                       182                          23   \n",
       "47               100                         2                          82   \n",
       "48                20                       231                          30   \n",
       "49               100                        56                          53   \n",
       "\n",
       "    params_num_leaves  params_reg_alpha  params_reg_lambda  params_subsample  \\\n",
       "0                 482          0.007843           0.026630               0.5   \n",
       "1                 121          0.618312           0.001736               0.4   \n",
       "2                 124          2.514652           0.123510               0.7   \n",
       "3                 819          3.209588           3.725331               0.8   \n",
       "4                 630          1.034529           1.623408               0.4   \n",
       "5                 617          2.674509           0.003916               0.4   \n",
       "6                 691          0.007975           0.197335               0.5   \n",
       "7                 581          0.277691           4.080287               0.8   \n",
       "8                 295          0.521340           0.019942               0.5   \n",
       "9                  61          0.092992           2.823770               0.7   \n",
       "10                999          0.084840           0.582996               0.6   \n",
       "11                475          0.252083           0.001236               1.0   \n",
       "12                352          9.980237           0.007928               0.8   \n",
       "13                677          0.035110           0.563193               0.8   \n",
       "14                847          0.001559           0.006197               0.4   \n",
       "15                885          0.001464           8.900057               0.6   \n",
       "16                973          0.001381           9.709273               0.6   \n",
       "17                978          0.016282           6.332418               0.6   \n",
       "18                272          0.182814           0.815796               1.0   \n",
       "19                791          0.042600           1.342477               0.6   \n",
       "20                561          0.003696           9.042792               0.8   \n",
       "21                307          0.177357           0.567814               1.0   \n",
       "22                394          0.224476           0.253892               1.0   \n",
       "23                215          0.036765           3.068248               1.0   \n",
       "24                175          0.033242           3.160826               0.8   \n",
       "25                  6          0.003701           1.939418               0.6   \n",
       "26                757          0.001017           4.767669               1.0   \n",
       "27                926          0.002829           4.916690               0.7   \n",
       "28                700          0.001020           0.044823               0.6   \n",
       "29                749          0.015145           1.195054               0.5   \n",
       "30                491          0.009701           0.302636               0.8   \n",
       "31                553          0.002720           4.768505               1.0   \n",
       "32                535          0.002393           6.369310               1.0   \n",
       "33                412          0.002354           8.932964               1.0   \n",
       "34                425          0.005383           6.636400               1.0   \n",
       "35                923          0.001747           9.981101               1.0   \n",
       "36                767          0.001016           2.198013               1.0   \n",
       "37                447          0.005451           1.089858               1.0   \n",
       "38                527          0.002052           5.585301               1.0   \n",
       "39                532          0.002382           0.109202               1.0   \n",
       "40                607          0.011052           0.052596               1.0   \n",
       "41                642          0.005227           5.457201               1.0   \n",
       "42                383          0.001950           2.252029               0.4   \n",
       "43                720          0.001119           4.065575               0.7   \n",
       "44                520          0.004147           6.877876               0.5   \n",
       "45                822          0.002582           1.745474               1.0   \n",
       "46                654          0.007438           3.371157               1.0   \n",
       "47                593          0.001465           7.459718               0.6   \n",
       "48                481          0.001991           4.116287               0.4   \n",
       "49                357          1.097053           9.991040               1.0   \n",
       "\n",
       "       state  \n",
       "0   COMPLETE  \n",
       "1   COMPLETE  \n",
       "2   COMPLETE  \n",
       "3   COMPLETE  \n",
       "4   COMPLETE  \n",
       "5   COMPLETE  \n",
       "6   COMPLETE  \n",
       "7   COMPLETE  \n",
       "8   COMPLETE  \n",
       "9   COMPLETE  \n",
       "10  COMPLETE  \n",
       "11  COMPLETE  \n",
       "12  COMPLETE  \n",
       "13  COMPLETE  \n",
       "14  COMPLETE  \n",
       "15  COMPLETE  \n",
       "16  COMPLETE  \n",
       "17  COMPLETE  \n",
       "18  COMPLETE  \n",
       "19  COMPLETE  \n",
       "20  COMPLETE  \n",
       "21  COMPLETE  \n",
       "22  COMPLETE  \n",
       "23  COMPLETE  \n",
       "24  COMPLETE  \n",
       "25  COMPLETE  \n",
       "26  COMPLETE  \n",
       "27  COMPLETE  \n",
       "28  COMPLETE  \n",
       "29  COMPLETE  \n",
       "30  COMPLETE  \n",
       "31  COMPLETE  \n",
       "32  COMPLETE  \n",
       "33  COMPLETE  \n",
       "34  COMPLETE  \n",
       "35  COMPLETE  \n",
       "36  COMPLETE  \n",
       "37  COMPLETE  \n",
       "38  COMPLETE  \n",
       "39  COMPLETE  \n",
       "40  COMPLETE  \n",
       "41  COMPLETE  \n",
       "42  COMPLETE  \n",
       "43  COMPLETE  \n",
       "44  COMPLETE  \n",
       "45  COMPLETE  \n",
       "46  COMPLETE  \n",
       "47  COMPLETE  \n",
       "48  COMPLETE  \n",
       "49  COMPLETE  "
      ]
     },
     "execution_count": 86,
     "metadata": {},
     "output_type": "execute_result"
    }
   ],
   "source": [
    "opti = study.trials_dataframe()\n",
    "opti.to_parquet('opti.parquet', index=False)\n",
    "\n",
    "opti"
   ]
  },
  {
   "cell_type": "code",
   "execution_count": 68,
   "metadata": {},
   "outputs": [
    {
     "data": {
      "application/vnd.plotly.v1+json": {
       "config": {
        "plotlyServerURL": "https://plot.ly"
       },
       "data": [
        {
         "mode": "markers",
         "name": "Objective Value",
         "type": "scatter",
         "x": [
          0,
          1,
          2,
          3,
          4,
          5,
          6,
          7,
          8,
          9,
          10,
          11,
          12,
          13,
          14,
          15,
          16,
          17,
          18,
          19,
          20,
          21,
          22,
          23,
          24,
          25,
          26,
          27,
          28,
          29,
          30,
          31,
          32,
          33,
          34,
          35,
          36,
          37,
          38,
          39,
          40,
          41,
          42,
          43,
          44,
          45,
          46,
          47,
          48,
          49
         ],
         "y": [
          0.7800067347362362,
          0.7750502848875352,
          0.7790055501201408,
          0.7790490881915226,
          0.7784206185854418,
          0.7736150854043594,
          0.7749469407131356,
          0.7692563142485178,
          0.7763357647348923,
          0.7811095536430753,
          0.7928278807463213,
          0.7756924077485792,
          0.7762127455141076,
          0.7770958365731356,
          0.7732189679486838,
          0.7712164264010825,
          0.7687012057487496,
          0.7734041292162833,
          0.7704396265169063,
          0.7780315634494424,
          0.7748932478837119,
          0.7701331757598587,
          0.7723779262820942,
          0.7699276703357122,
          0.7740931531287272,
          0.7812132191949707,
          0.7678034733060729,
          0.7728030794768818,
          0.7840576009941699,
          0.7719158000219626,
          0.7749123434394066,
          0.7690424451914117,
          0.7683297220215164,
          0.766204846755063,
          0.7702985423282861,
          0.7691260276919777,
          0.7765272935669362,
          0.7709279821533515,
          0.7680909553912157,
          0.7691613800569521,
          0.7730373500104004,
          0.7693723886470434,
          0.781815760347137,
          0.7691960130324437,
          0.7722497402191534,
          0.7891985003942881,
          0.7769236577046621,
          0.7741012905037967,
          0.7765349314432758,
          0.7679239731900502
         ]
        },
        {
         "mode": "lines",
         "name": "Best Value",
         "type": "scatter",
         "x": [
          0,
          1,
          2,
          3,
          4,
          5,
          6,
          7,
          8,
          9,
          10,
          11,
          12,
          13,
          14,
          15,
          16,
          17,
          18,
          19,
          20,
          21,
          22,
          23,
          24,
          25,
          26,
          27,
          28,
          29,
          30,
          31,
          32,
          33,
          34,
          35,
          36,
          37,
          38,
          39,
          40,
          41,
          42,
          43,
          44,
          45,
          46,
          47,
          48,
          49
         ],
         "y": [
          0.7800067347362362,
          0.7750502848875352,
          0.7750502848875352,
          0.7750502848875352,
          0.7750502848875352,
          0.7736150854043594,
          0.7736150854043594,
          0.7692563142485178,
          0.7692563142485178,
          0.7692563142485178,
          0.7692563142485178,
          0.7692563142485178,
          0.7692563142485178,
          0.7692563142485178,
          0.7692563142485178,
          0.7692563142485178,
          0.7687012057487496,
          0.7687012057487496,
          0.7687012057487496,
          0.7687012057487496,
          0.7687012057487496,
          0.7687012057487496,
          0.7687012057487496,
          0.7687012057487496,
          0.7687012057487496,
          0.7687012057487496,
          0.7678034733060729,
          0.7678034733060729,
          0.7678034733060729,
          0.7678034733060729,
          0.7678034733060729,
          0.7678034733060729,
          0.7678034733060729,
          0.766204846755063,
          0.766204846755063,
          0.766204846755063,
          0.766204846755063,
          0.766204846755063,
          0.766204846755063,
          0.766204846755063,
          0.766204846755063,
          0.766204846755063,
          0.766204846755063,
          0.766204846755063,
          0.766204846755063,
          0.766204846755063,
          0.766204846755063,
          0.766204846755063,
          0.766204846755063,
          0.766204846755063
         ]
        },
        {
         "marker": {
          "color": "#cccccc"
         },
         "mode": "markers",
         "name": "Infeasible Trial",
         "showlegend": false,
         "type": "scatter",
         "x": [],
         "y": []
        }
       ],
       "layout": {
        "template": {
         "data": {
          "bar": [
           {
            "error_x": {
             "color": "#2a3f5f"
            },
            "error_y": {
             "color": "#2a3f5f"
            },
            "marker": {
             "line": {
              "color": "#E5ECF6",
              "width": 0.5
             },
             "pattern": {
              "fillmode": "overlay",
              "size": 10,
              "solidity": 0.2
             }
            },
            "type": "bar"
           }
          ],
          "barpolar": [
           {
            "marker": {
             "line": {
              "color": "#E5ECF6",
              "width": 0.5
             },
             "pattern": {
              "fillmode": "overlay",
              "size": 10,
              "solidity": 0.2
             }
            },
            "type": "barpolar"
           }
          ],
          "carpet": [
           {
            "aaxis": {
             "endlinecolor": "#2a3f5f",
             "gridcolor": "white",
             "linecolor": "white",
             "minorgridcolor": "white",
             "startlinecolor": "#2a3f5f"
            },
            "baxis": {
             "endlinecolor": "#2a3f5f",
             "gridcolor": "white",
             "linecolor": "white",
             "minorgridcolor": "white",
             "startlinecolor": "#2a3f5f"
            },
            "type": "carpet"
           }
          ],
          "choropleth": [
           {
            "colorbar": {
             "outlinewidth": 0,
             "ticks": ""
            },
            "type": "choropleth"
           }
          ],
          "contour": [
           {
            "colorbar": {
             "outlinewidth": 0,
             "ticks": ""
            },
            "colorscale": [
             [
              0,
              "#0d0887"
             ],
             [
              0.1111111111111111,
              "#46039f"
             ],
             [
              0.2222222222222222,
              "#7201a8"
             ],
             [
              0.3333333333333333,
              "#9c179e"
             ],
             [
              0.4444444444444444,
              "#bd3786"
             ],
             [
              0.5555555555555556,
              "#d8576b"
             ],
             [
              0.6666666666666666,
              "#ed7953"
             ],
             [
              0.7777777777777778,
              "#fb9f3a"
             ],
             [
              0.8888888888888888,
              "#fdca26"
             ],
             [
              1,
              "#f0f921"
             ]
            ],
            "type": "contour"
           }
          ],
          "contourcarpet": [
           {
            "colorbar": {
             "outlinewidth": 0,
             "ticks": ""
            },
            "type": "contourcarpet"
           }
          ],
          "heatmap": [
           {
            "colorbar": {
             "outlinewidth": 0,
             "ticks": ""
            },
            "colorscale": [
             [
              0,
              "#0d0887"
             ],
             [
              0.1111111111111111,
              "#46039f"
             ],
             [
              0.2222222222222222,
              "#7201a8"
             ],
             [
              0.3333333333333333,
              "#9c179e"
             ],
             [
              0.4444444444444444,
              "#bd3786"
             ],
             [
              0.5555555555555556,
              "#d8576b"
             ],
             [
              0.6666666666666666,
              "#ed7953"
             ],
             [
              0.7777777777777778,
              "#fb9f3a"
             ],
             [
              0.8888888888888888,
              "#fdca26"
             ],
             [
              1,
              "#f0f921"
             ]
            ],
            "type": "heatmap"
           }
          ],
          "heatmapgl": [
           {
            "colorbar": {
             "outlinewidth": 0,
             "ticks": ""
            },
            "colorscale": [
             [
              0,
              "#0d0887"
             ],
             [
              0.1111111111111111,
              "#46039f"
             ],
             [
              0.2222222222222222,
              "#7201a8"
             ],
             [
              0.3333333333333333,
              "#9c179e"
             ],
             [
              0.4444444444444444,
              "#bd3786"
             ],
             [
              0.5555555555555556,
              "#d8576b"
             ],
             [
              0.6666666666666666,
              "#ed7953"
             ],
             [
              0.7777777777777778,
              "#fb9f3a"
             ],
             [
              0.8888888888888888,
              "#fdca26"
             ],
             [
              1,
              "#f0f921"
             ]
            ],
            "type": "heatmapgl"
           }
          ],
          "histogram": [
           {
            "marker": {
             "pattern": {
              "fillmode": "overlay",
              "size": 10,
              "solidity": 0.2
             }
            },
            "type": "histogram"
           }
          ],
          "histogram2d": [
           {
            "colorbar": {
             "outlinewidth": 0,
             "ticks": ""
            },
            "colorscale": [
             [
              0,
              "#0d0887"
             ],
             [
              0.1111111111111111,
              "#46039f"
             ],
             [
              0.2222222222222222,
              "#7201a8"
             ],
             [
              0.3333333333333333,
              "#9c179e"
             ],
             [
              0.4444444444444444,
              "#bd3786"
             ],
             [
              0.5555555555555556,
              "#d8576b"
             ],
             [
              0.6666666666666666,
              "#ed7953"
             ],
             [
              0.7777777777777778,
              "#fb9f3a"
             ],
             [
              0.8888888888888888,
              "#fdca26"
             ],
             [
              1,
              "#f0f921"
             ]
            ],
            "type": "histogram2d"
           }
          ],
          "histogram2dcontour": [
           {
            "colorbar": {
             "outlinewidth": 0,
             "ticks": ""
            },
            "colorscale": [
             [
              0,
              "#0d0887"
             ],
             [
              0.1111111111111111,
              "#46039f"
             ],
             [
              0.2222222222222222,
              "#7201a8"
             ],
             [
              0.3333333333333333,
              "#9c179e"
             ],
             [
              0.4444444444444444,
              "#bd3786"
             ],
             [
              0.5555555555555556,
              "#d8576b"
             ],
             [
              0.6666666666666666,
              "#ed7953"
             ],
             [
              0.7777777777777778,
              "#fb9f3a"
             ],
             [
              0.8888888888888888,
              "#fdca26"
             ],
             [
              1,
              "#f0f921"
             ]
            ],
            "type": "histogram2dcontour"
           }
          ],
          "mesh3d": [
           {
            "colorbar": {
             "outlinewidth": 0,
             "ticks": ""
            },
            "type": "mesh3d"
           }
          ],
          "parcoords": [
           {
            "line": {
             "colorbar": {
              "outlinewidth": 0,
              "ticks": ""
             }
            },
            "type": "parcoords"
           }
          ],
          "pie": [
           {
            "automargin": true,
            "type": "pie"
           }
          ],
          "scatter": [
           {
            "fillpattern": {
             "fillmode": "overlay",
             "size": 10,
             "solidity": 0.2
            },
            "type": "scatter"
           }
          ],
          "scatter3d": [
           {
            "line": {
             "colorbar": {
              "outlinewidth": 0,
              "ticks": ""
             }
            },
            "marker": {
             "colorbar": {
              "outlinewidth": 0,
              "ticks": ""
             }
            },
            "type": "scatter3d"
           }
          ],
          "scattercarpet": [
           {
            "marker": {
             "colorbar": {
              "outlinewidth": 0,
              "ticks": ""
             }
            },
            "type": "scattercarpet"
           }
          ],
          "scattergeo": [
           {
            "marker": {
             "colorbar": {
              "outlinewidth": 0,
              "ticks": ""
             }
            },
            "type": "scattergeo"
           }
          ],
          "scattergl": [
           {
            "marker": {
             "colorbar": {
              "outlinewidth": 0,
              "ticks": ""
             }
            },
            "type": "scattergl"
           }
          ],
          "scattermapbox": [
           {
            "marker": {
             "colorbar": {
              "outlinewidth": 0,
              "ticks": ""
             }
            },
            "type": "scattermapbox"
           }
          ],
          "scatterpolar": [
           {
            "marker": {
             "colorbar": {
              "outlinewidth": 0,
              "ticks": ""
             }
            },
            "type": "scatterpolar"
           }
          ],
          "scatterpolargl": [
           {
            "marker": {
             "colorbar": {
              "outlinewidth": 0,
              "ticks": ""
             }
            },
            "type": "scatterpolargl"
           }
          ],
          "scatterternary": [
           {
            "marker": {
             "colorbar": {
              "outlinewidth": 0,
              "ticks": ""
             }
            },
            "type": "scatterternary"
           }
          ],
          "surface": [
           {
            "colorbar": {
             "outlinewidth": 0,
             "ticks": ""
            },
            "colorscale": [
             [
              0,
              "#0d0887"
             ],
             [
              0.1111111111111111,
              "#46039f"
             ],
             [
              0.2222222222222222,
              "#7201a8"
             ],
             [
              0.3333333333333333,
              "#9c179e"
             ],
             [
              0.4444444444444444,
              "#bd3786"
             ],
             [
              0.5555555555555556,
              "#d8576b"
             ],
             [
              0.6666666666666666,
              "#ed7953"
             ],
             [
              0.7777777777777778,
              "#fb9f3a"
             ],
             [
              0.8888888888888888,
              "#fdca26"
             ],
             [
              1,
              "#f0f921"
             ]
            ],
            "type": "surface"
           }
          ],
          "table": [
           {
            "cells": {
             "fill": {
              "color": "#EBF0F8"
             },
             "line": {
              "color": "white"
             }
            },
            "header": {
             "fill": {
              "color": "#C8D4E3"
             },
             "line": {
              "color": "white"
             }
            },
            "type": "table"
           }
          ]
         },
         "layout": {
          "annotationdefaults": {
           "arrowcolor": "#2a3f5f",
           "arrowhead": 0,
           "arrowwidth": 1
          },
          "autotypenumbers": "strict",
          "coloraxis": {
           "colorbar": {
            "outlinewidth": 0,
            "ticks": ""
           }
          },
          "colorscale": {
           "diverging": [
            [
             0,
             "#8e0152"
            ],
            [
             0.1,
             "#c51b7d"
            ],
            [
             0.2,
             "#de77ae"
            ],
            [
             0.3,
             "#f1b6da"
            ],
            [
             0.4,
             "#fde0ef"
            ],
            [
             0.5,
             "#f7f7f7"
            ],
            [
             0.6,
             "#e6f5d0"
            ],
            [
             0.7,
             "#b8e186"
            ],
            [
             0.8,
             "#7fbc41"
            ],
            [
             0.9,
             "#4d9221"
            ],
            [
             1,
             "#276419"
            ]
           ],
           "sequential": [
            [
             0,
             "#0d0887"
            ],
            [
             0.1111111111111111,
             "#46039f"
            ],
            [
             0.2222222222222222,
             "#7201a8"
            ],
            [
             0.3333333333333333,
             "#9c179e"
            ],
            [
             0.4444444444444444,
             "#bd3786"
            ],
            [
             0.5555555555555556,
             "#d8576b"
            ],
            [
             0.6666666666666666,
             "#ed7953"
            ],
            [
             0.7777777777777778,
             "#fb9f3a"
            ],
            [
             0.8888888888888888,
             "#fdca26"
            ],
            [
             1,
             "#f0f921"
            ]
           ],
           "sequentialminus": [
            [
             0,
             "#0d0887"
            ],
            [
             0.1111111111111111,
             "#46039f"
            ],
            [
             0.2222222222222222,
             "#7201a8"
            ],
            [
             0.3333333333333333,
             "#9c179e"
            ],
            [
             0.4444444444444444,
             "#bd3786"
            ],
            [
             0.5555555555555556,
             "#d8576b"
            ],
            [
             0.6666666666666666,
             "#ed7953"
            ],
            [
             0.7777777777777778,
             "#fb9f3a"
            ],
            [
             0.8888888888888888,
             "#fdca26"
            ],
            [
             1,
             "#f0f921"
            ]
           ]
          },
          "colorway": [
           "#636efa",
           "#EF553B",
           "#00cc96",
           "#ab63fa",
           "#FFA15A",
           "#19d3f3",
           "#FF6692",
           "#B6E880",
           "#FF97FF",
           "#FECB52"
          ],
          "font": {
           "color": "#2a3f5f"
          },
          "geo": {
           "bgcolor": "white",
           "lakecolor": "white",
           "landcolor": "#E5ECF6",
           "showlakes": true,
           "showland": true,
           "subunitcolor": "white"
          },
          "hoverlabel": {
           "align": "left"
          },
          "hovermode": "closest",
          "mapbox": {
           "style": "light"
          },
          "paper_bgcolor": "white",
          "plot_bgcolor": "#E5ECF6",
          "polar": {
           "angularaxis": {
            "gridcolor": "white",
            "linecolor": "white",
            "ticks": ""
           },
           "bgcolor": "#E5ECF6",
           "radialaxis": {
            "gridcolor": "white",
            "linecolor": "white",
            "ticks": ""
           }
          },
          "scene": {
           "xaxis": {
            "backgroundcolor": "#E5ECF6",
            "gridcolor": "white",
            "gridwidth": 2,
            "linecolor": "white",
            "showbackground": true,
            "ticks": "",
            "zerolinecolor": "white"
           },
           "yaxis": {
            "backgroundcolor": "#E5ECF6",
            "gridcolor": "white",
            "gridwidth": 2,
            "linecolor": "white",
            "showbackground": true,
            "ticks": "",
            "zerolinecolor": "white"
           },
           "zaxis": {
            "backgroundcolor": "#E5ECF6",
            "gridcolor": "white",
            "gridwidth": 2,
            "linecolor": "white",
            "showbackground": true,
            "ticks": "",
            "zerolinecolor": "white"
           }
          },
          "shapedefaults": {
           "line": {
            "color": "#2a3f5f"
           }
          },
          "ternary": {
           "aaxis": {
            "gridcolor": "white",
            "linecolor": "white",
            "ticks": ""
           },
           "baxis": {
            "gridcolor": "white",
            "linecolor": "white",
            "ticks": ""
           },
           "bgcolor": "#E5ECF6",
           "caxis": {
            "gridcolor": "white",
            "linecolor": "white",
            "ticks": ""
           }
          },
          "title": {
           "x": 0.05
          },
          "xaxis": {
           "automargin": true,
           "gridcolor": "white",
           "linecolor": "white",
           "ticks": "",
           "title": {
            "standoff": 15
           },
           "zerolinecolor": "white",
           "zerolinewidth": 2
          },
          "yaxis": {
           "automargin": true,
           "gridcolor": "white",
           "linecolor": "white",
           "ticks": "",
           "title": {
            "standoff": 15
           },
           "zerolinecolor": "white",
           "zerolinewidth": 2
          }
         }
        },
        "title": {
         "text": "Optimization History Plot"
        },
        "xaxis": {
         "title": {
          "text": "Trial"
         }
        },
        "yaxis": {
         "title": {
          "text": "Objective Value"
         }
        }
       }
      }
     },
     "metadata": {},
     "output_type": "display_data"
    }
   ],
   "source": [
    "optuna.visualization.plot_optimization_history(study)"
   ]
  },
  {
   "cell_type": "code",
   "execution_count": 69,
   "metadata": {},
   "outputs": [
    {
     "data": {
      "application/vnd.plotly.v1+json": {
       "config": {
        "plotlyServerURL": "https://plot.ly"
       },
       "data": [
        {
         "dimensions": [
          {
           "label": "Objective Value",
           "range": [
            0.766204846755063,
            0.7928278807463213
           ],
           "values": [
            0.7732189679486838,
            0.7790490881915226,
            0.7736150854043594,
            0.7679239731900502,
            0.7811095536430753,
            0.7800067347362362,
            0.7741012905037967,
            0.7749123434394066,
            0.7719158000219626,
            0.7730373500104004,
            0.7728030794768818,
            0.7678034733060729,
            0.7680909553912157,
            0.7691613800569521,
            0.7693723886470434,
            0.7691260276919777,
            0.7691960130324437,
            0.7690424451914117,
            0.7683297220215164,
            0.766204846755063,
            0.7702985423282861,
            0.7765272935669362,
            0.7709279821533515,
            0.7712164264010825,
            0.7687012057487496,
            0.7784206185854418,
            0.7734041292162833,
            0.7750502848875352,
            0.7692563142485178,
            0.7704396265169063,
            0.7701331757598587,
            0.7723779262820942,
            0.7699276703357122,
            0.7756924077485792,
            0.7748932478837119,
            0.7840576009941699,
            0.7770958365731356,
            0.7769236577046621,
            0.7740931531287272,
            0.7722497402191534,
            0.7928278807463213,
            0.7812132191949707,
            0.7765349314432758,
            0.7749469407131356,
            0.781815760347137,
            0.7763357647348923,
            0.7790055501201408,
            0.7780315634494424,
            0.7891985003942881,
            0.7762127455141076
           ]
          },
          {
           "label": "colsample_bytree",
           "range": [
            0,
            7
           ],
           "ticktext": [
            "0.3",
            "0.4",
            "0.5",
            "0.6",
            "0.7",
            "0.8",
            "0.9",
            "1.0"
           ],
           "tickvals": [
            0,
            1,
            2,
            3,
            4,
            5,
            6,
            7
           ],
           "values": [
            0,
            0,
            0,
            0,
            0,
            1,
            1,
            1,
            1,
            1,
            1,
            1,
            1,
            1,
            1,
            1,
            1,
            1,
            1,
            1,
            1,
            1,
            1,
            2,
            2,
            2,
            2,
            2,
            2,
            2,
            2,
            2,
            2,
            3,
            3,
            3,
            4,
            4,
            4,
            5,
            5,
            5,
            6,
            6,
            6,
            6,
            6,
            7,
            7,
            7
           ]
          },
          {
           "label": "learning_rate",
           "range": [
            0,
            5
           ],
           "ticktext": [
            "0.006",
            "0.008",
            "0.01",
            "0.014",
            "0.017",
            "0.02"
           ],
           "tickvals": [
            0,
            1,
            2,
            3,
            4,
            5
           ],
           "values": [
            1,
            3,
            3,
            3,
            5,
            1,
            1,
            1,
            2,
            2,
            2,
            2,
            2,
            2,
            2,
            4,
            4,
            4,
            4,
            4,
            4,
            4,
            4,
            1,
            1,
            2,
            4,
            5,
            5,
            5,
            5,
            5,
            5,
            0,
            1,
            2,
            0,
            4,
            5,
            0,
            4,
            5,
            2,
            2,
            3,
            3,
            3,
            1,
            2,
            5
           ]
          },
          {
           "label": "max_depth",
           "range": [
            0,
            2
           ],
           "ticktext": [
            "10",
            "20",
            "100"
           ],
           "tickvals": [
            0,
            1,
            2
           ],
           "values": [
            1,
            0,
            1,
            2,
            0,
            0,
            2,
            2,
            0,
            0,
            2,
            2,
            2,
            2,
            2,
            0,
            2,
            2,
            2,
            2,
            2,
            2,
            2,
            2,
            2,
            2,
            2,
            1,
            2,
            2,
            2,
            2,
            2,
            1,
            2,
            2,
            1,
            2,
            2,
            2,
            2,
            0,
            1,
            2,
            2,
            2,
            2,
            2,
            1,
            1
           ]
          },
          {
           "label": "min_child_samples",
           "range": [
            2,
            288
           ],
           "values": [
            102,
            264,
            164,
            56,
            274,
            255,
            2,
            195,
            80,
            91,
            136,
            25,
            21,
            44,
            16,
            43,
            45,
            32,
            32,
            30,
            19,
            2,
            72,
            58,
            27,
            231,
            12,
            159,
            66,
            53,
            56,
            123,
            28,
            163,
            81,
            6,
            206,
            182,
            37,
            67,
            5,
            81,
            231,
            56,
            25,
            110,
            288,
            31,
            17,
            100
           ]
          },
          {
           "label": "min_data_per_groups",
           "range": [
            1,
            99
           ],
           "values": [
            64,
            91,
            3,
            53,
            6,
            9,
            82,
            89,
            61,
            24,
            36,
            36,
            44,
            44,
            71,
            9,
            13,
            16,
            15,
            13,
            11,
            1,
            31,
            76,
            79,
            40,
            99,
            82,
            37,
            54,
            50,
            48,
            19,
            27,
            40,
            35,
            46,
            23,
            19,
            41,
            58,
            16,
            30,
            66,
            55,
            30,
            8,
            73,
            5,
            24
           ]
          },
          {
           "label": "num_leaves",
           "range": [
            6,
            999
           ],
           "values": [
            847,
            819,
            617,
            357,
            61,
            482,
            593,
            491,
            749,
            607,
            926,
            757,
            527,
            532,
            642,
            923,
            720,
            553,
            535,
            412,
            425,
            767,
            447,
            885,
            973,
            630,
            978,
            121,
            581,
            272,
            307,
            394,
            215,
            475,
            561,
            700,
            677,
            654,
            175,
            520,
            999,
            6,
            481,
            691,
            383,
            295,
            124,
            791,
            822,
            352
           ]
          },
          {
           "label": "reg_alpha",
           "range": [
            -2.993047904319866,
            0.9991408466075835
           ],
           "ticktext": [
            "0.00102",
            "0.01",
            "0.1",
            "1",
            "9.98"
           ],
           "tickvals": [
            -2.993047904319866,
            -2,
            -1,
            0,
            0.9991408466075835
           ],
           "values": [
            -2.8072510467606535,
            0.5064492328049262,
            0.4272441428427697,
            0.040227734712834334,
            -1.0315565856708089,
            -2.1055432499546014,
            -2.8341569148656807,
            -2.0131633394750135,
            -1.819743301229311,
            -1.9565552142922262,
            -2.5483294820690707,
            -2.992818152822181,
            -2.687819545350473,
            -2.6230996075480184,
            -2.2817229824150247,
            -2.7578165709002946,
            -2.9513067256380228,
            -2.56549022518696,
            -2.6209915162818125,
            -2.628162760906654,
            -2.269004331659622,
            -2.993047904319866,
            -2.2634858242015774,
            -2.8343568945183755,
            -2.8598692089383055,
            0.014742546336661605,
            -1.788283479688877,
            -0.20879256188503453,
            -0.5564385253621467,
            -0.7379906236477067,
            -0.7511513581389094,
            -0.6488294578980277,
            -1.4345660109050946,
            -0.5984557313383361,
            -2.4322387689458953,
            -2.991406449103614,
            -1.454563104000213,
            -2.128522569811291,
            -1.4783168773993673,
            -2.382297822721577,
            -1.0713992986007297,
            -2.4316551118718994,
            -2.700882160936767,
            -2.0982848378329093,
            -2.7100021337330524,
            -0.282878951260101,
            0.4004779071939059,
            -1.3705892454534077,
            -2.588059460562817,
            0.9991408466075835
           ]
          },
          {
           "label": "reg_lambda",
           "range": [
            -2.9079361216819453,
            0.9996107022180515
           ],
           "ticktext": [
            "0.00124",
            "0.01",
            "0.1",
            "1",
            "9.99"
           ],
           "tickvals": [
            -2.9079361216819453,
            -2,
            -1,
            0,
            0.9996107022180515
           ],
           "values": [
            -2.2077896027374333,
            0.5711648935477105,
            -2.4071350359633548,
            0.9996107022180515,
            0.450829326433655,
            -1.5746355208475762,
            0.872722425418199,
            -0.5190790536691428,
            0.07738740932746604,
            -1.2790500661130113,
            0.6916728390035867,
            0.6783061267867875,
            0.7470465827441882,
            -0.9617690880686058,
            0.7369699801404337,
            0.9991784719284963,
            0.6091220125062979,
            0.6783822831589349,
            0.80409236483216,
            0.9509955827436468,
            0.8219325799321804,
            0.3420303237965977,
            0.03736982483366363,
            0.9493927942978747,
            0.9871866929059843,
            0.21042777691390663,
            0.8015695545198968,
            -2.760478507017347,
            0.6106907535661997,
            -0.08841823102948364,
            -0.24579370340718423,
            -0.5953511191897229,
            0.48689051261544714,
            -2.9079361216819453,
            0.9563025618160953,
            -1.3485000409955739,
            -0.24934270498510347,
            0.5277790274251356,
            0.49980058682470363,
            0.8374543612732619,
            -0.23433415287739576,
            0.2876715136927327,
            0.6145055980358144,
            -0.7047967139810668,
            0.35257397208130725,
            -1.7002243556620247,
            -0.9082991792750946,
            0.127906693945606,
            0.24191341117196402,
            -2.1008328190827363
           ]
          },
          {
           "label": "subsample",
           "range": [
            0,
            5
           ],
           "ticktext": [
            "0.4",
            "0.5",
            "0.6",
            "0.7",
            "0.8",
            "1.0"
           ],
           "tickvals": [
            0,
            1,
            2,
            3,
            4,
            5
           ],
           "values": [
            0,
            4,
            0,
            5,
            3,
            1,
            2,
            4,
            1,
            5,
            3,
            5,
            5,
            5,
            5,
            5,
            3,
            5,
            5,
            5,
            5,
            5,
            5,
            2,
            2,
            0,
            2,
            0,
            4,
            5,
            5,
            5,
            5,
            5,
            4,
            2,
            4,
            5,
            4,
            1,
            2,
            2,
            0,
            1,
            0,
            1,
            3,
            2,
            5,
            4
           ]
          }
         ],
         "labelangle": 30,
         "labelside": "bottom",
         "line": {
          "color": [
           0.7732189679486838,
           0.7790490881915226,
           0.7736150854043594,
           0.7679239731900502,
           0.7811095536430753,
           0.7800067347362362,
           0.7741012905037967,
           0.7749123434394066,
           0.7719158000219626,
           0.7730373500104004,
           0.7728030794768818,
           0.7678034733060729,
           0.7680909553912157,
           0.7691613800569521,
           0.7693723886470434,
           0.7691260276919777,
           0.7691960130324437,
           0.7690424451914117,
           0.7683297220215164,
           0.766204846755063,
           0.7702985423282861,
           0.7765272935669362,
           0.7709279821533515,
           0.7712164264010825,
           0.7687012057487496,
           0.7784206185854418,
           0.7734041292162833,
           0.7750502848875352,
           0.7692563142485178,
           0.7704396265169063,
           0.7701331757598587,
           0.7723779262820942,
           0.7699276703357122,
           0.7756924077485792,
           0.7748932478837119,
           0.7840576009941699,
           0.7770958365731356,
           0.7769236577046621,
           0.7740931531287272,
           0.7722497402191534,
           0.7928278807463213,
           0.7812132191949707,
           0.7765349314432758,
           0.7749469407131356,
           0.781815760347137,
           0.7763357647348923,
           0.7790055501201408,
           0.7780315634494424,
           0.7891985003942881,
           0.7762127455141076
          ],
          "colorbar": {
           "title": {
            "text": "Objective Value"
           }
          },
          "colorscale": [
           [
            0,
            "rgb(247,251,255)"
           ],
           [
            0.125,
            "rgb(222,235,247)"
           ],
           [
            0.25,
            "rgb(198,219,239)"
           ],
           [
            0.375,
            "rgb(158,202,225)"
           ],
           [
            0.5,
            "rgb(107,174,214)"
           ],
           [
            0.625,
            "rgb(66,146,198)"
           ],
           [
            0.75,
            "rgb(33,113,181)"
           ],
           [
            0.875,
            "rgb(8,81,156)"
           ],
           [
            1,
            "rgb(8,48,107)"
           ]
          ],
          "reversescale": true,
          "showscale": true
         },
         "type": "parcoords"
        }
       ],
       "layout": {
        "template": {
         "data": {
          "bar": [
           {
            "error_x": {
             "color": "#2a3f5f"
            },
            "error_y": {
             "color": "#2a3f5f"
            },
            "marker": {
             "line": {
              "color": "#E5ECF6",
              "width": 0.5
             },
             "pattern": {
              "fillmode": "overlay",
              "size": 10,
              "solidity": 0.2
             }
            },
            "type": "bar"
           }
          ],
          "barpolar": [
           {
            "marker": {
             "line": {
              "color": "#E5ECF6",
              "width": 0.5
             },
             "pattern": {
              "fillmode": "overlay",
              "size": 10,
              "solidity": 0.2
             }
            },
            "type": "barpolar"
           }
          ],
          "carpet": [
           {
            "aaxis": {
             "endlinecolor": "#2a3f5f",
             "gridcolor": "white",
             "linecolor": "white",
             "minorgridcolor": "white",
             "startlinecolor": "#2a3f5f"
            },
            "baxis": {
             "endlinecolor": "#2a3f5f",
             "gridcolor": "white",
             "linecolor": "white",
             "minorgridcolor": "white",
             "startlinecolor": "#2a3f5f"
            },
            "type": "carpet"
           }
          ],
          "choropleth": [
           {
            "colorbar": {
             "outlinewidth": 0,
             "ticks": ""
            },
            "type": "choropleth"
           }
          ],
          "contour": [
           {
            "colorbar": {
             "outlinewidth": 0,
             "ticks": ""
            },
            "colorscale": [
             [
              0,
              "#0d0887"
             ],
             [
              0.1111111111111111,
              "#46039f"
             ],
             [
              0.2222222222222222,
              "#7201a8"
             ],
             [
              0.3333333333333333,
              "#9c179e"
             ],
             [
              0.4444444444444444,
              "#bd3786"
             ],
             [
              0.5555555555555556,
              "#d8576b"
             ],
             [
              0.6666666666666666,
              "#ed7953"
             ],
             [
              0.7777777777777778,
              "#fb9f3a"
             ],
             [
              0.8888888888888888,
              "#fdca26"
             ],
             [
              1,
              "#f0f921"
             ]
            ],
            "type": "contour"
           }
          ],
          "contourcarpet": [
           {
            "colorbar": {
             "outlinewidth": 0,
             "ticks": ""
            },
            "type": "contourcarpet"
           }
          ],
          "heatmap": [
           {
            "colorbar": {
             "outlinewidth": 0,
             "ticks": ""
            },
            "colorscale": [
             [
              0,
              "#0d0887"
             ],
             [
              0.1111111111111111,
              "#46039f"
             ],
             [
              0.2222222222222222,
              "#7201a8"
             ],
             [
              0.3333333333333333,
              "#9c179e"
             ],
             [
              0.4444444444444444,
              "#bd3786"
             ],
             [
              0.5555555555555556,
              "#d8576b"
             ],
             [
              0.6666666666666666,
              "#ed7953"
             ],
             [
              0.7777777777777778,
              "#fb9f3a"
             ],
             [
              0.8888888888888888,
              "#fdca26"
             ],
             [
              1,
              "#f0f921"
             ]
            ],
            "type": "heatmap"
           }
          ],
          "heatmapgl": [
           {
            "colorbar": {
             "outlinewidth": 0,
             "ticks": ""
            },
            "colorscale": [
             [
              0,
              "#0d0887"
             ],
             [
              0.1111111111111111,
              "#46039f"
             ],
             [
              0.2222222222222222,
              "#7201a8"
             ],
             [
              0.3333333333333333,
              "#9c179e"
             ],
             [
              0.4444444444444444,
              "#bd3786"
             ],
             [
              0.5555555555555556,
              "#d8576b"
             ],
             [
              0.6666666666666666,
              "#ed7953"
             ],
             [
              0.7777777777777778,
              "#fb9f3a"
             ],
             [
              0.8888888888888888,
              "#fdca26"
             ],
             [
              1,
              "#f0f921"
             ]
            ],
            "type": "heatmapgl"
           }
          ],
          "histogram": [
           {
            "marker": {
             "pattern": {
              "fillmode": "overlay",
              "size": 10,
              "solidity": 0.2
             }
            },
            "type": "histogram"
           }
          ],
          "histogram2d": [
           {
            "colorbar": {
             "outlinewidth": 0,
             "ticks": ""
            },
            "colorscale": [
             [
              0,
              "#0d0887"
             ],
             [
              0.1111111111111111,
              "#46039f"
             ],
             [
              0.2222222222222222,
              "#7201a8"
             ],
             [
              0.3333333333333333,
              "#9c179e"
             ],
             [
              0.4444444444444444,
              "#bd3786"
             ],
             [
              0.5555555555555556,
              "#d8576b"
             ],
             [
              0.6666666666666666,
              "#ed7953"
             ],
             [
              0.7777777777777778,
              "#fb9f3a"
             ],
             [
              0.8888888888888888,
              "#fdca26"
             ],
             [
              1,
              "#f0f921"
             ]
            ],
            "type": "histogram2d"
           }
          ],
          "histogram2dcontour": [
           {
            "colorbar": {
             "outlinewidth": 0,
             "ticks": ""
            },
            "colorscale": [
             [
              0,
              "#0d0887"
             ],
             [
              0.1111111111111111,
              "#46039f"
             ],
             [
              0.2222222222222222,
              "#7201a8"
             ],
             [
              0.3333333333333333,
              "#9c179e"
             ],
             [
              0.4444444444444444,
              "#bd3786"
             ],
             [
              0.5555555555555556,
              "#d8576b"
             ],
             [
              0.6666666666666666,
              "#ed7953"
             ],
             [
              0.7777777777777778,
              "#fb9f3a"
             ],
             [
              0.8888888888888888,
              "#fdca26"
             ],
             [
              1,
              "#f0f921"
             ]
            ],
            "type": "histogram2dcontour"
           }
          ],
          "mesh3d": [
           {
            "colorbar": {
             "outlinewidth": 0,
             "ticks": ""
            },
            "type": "mesh3d"
           }
          ],
          "parcoords": [
           {
            "line": {
             "colorbar": {
              "outlinewidth": 0,
              "ticks": ""
             }
            },
            "type": "parcoords"
           }
          ],
          "pie": [
           {
            "automargin": true,
            "type": "pie"
           }
          ],
          "scatter": [
           {
            "fillpattern": {
             "fillmode": "overlay",
             "size": 10,
             "solidity": 0.2
            },
            "type": "scatter"
           }
          ],
          "scatter3d": [
           {
            "line": {
             "colorbar": {
              "outlinewidth": 0,
              "ticks": ""
             }
            },
            "marker": {
             "colorbar": {
              "outlinewidth": 0,
              "ticks": ""
             }
            },
            "type": "scatter3d"
           }
          ],
          "scattercarpet": [
           {
            "marker": {
             "colorbar": {
              "outlinewidth": 0,
              "ticks": ""
             }
            },
            "type": "scattercarpet"
           }
          ],
          "scattergeo": [
           {
            "marker": {
             "colorbar": {
              "outlinewidth": 0,
              "ticks": ""
             }
            },
            "type": "scattergeo"
           }
          ],
          "scattergl": [
           {
            "marker": {
             "colorbar": {
              "outlinewidth": 0,
              "ticks": ""
             }
            },
            "type": "scattergl"
           }
          ],
          "scattermapbox": [
           {
            "marker": {
             "colorbar": {
              "outlinewidth": 0,
              "ticks": ""
             }
            },
            "type": "scattermapbox"
           }
          ],
          "scatterpolar": [
           {
            "marker": {
             "colorbar": {
              "outlinewidth": 0,
              "ticks": ""
             }
            },
            "type": "scatterpolar"
           }
          ],
          "scatterpolargl": [
           {
            "marker": {
             "colorbar": {
              "outlinewidth": 0,
              "ticks": ""
             }
            },
            "type": "scatterpolargl"
           }
          ],
          "scatterternary": [
           {
            "marker": {
             "colorbar": {
              "outlinewidth": 0,
              "ticks": ""
             }
            },
            "type": "scatterternary"
           }
          ],
          "surface": [
           {
            "colorbar": {
             "outlinewidth": 0,
             "ticks": ""
            },
            "colorscale": [
             [
              0,
              "#0d0887"
             ],
             [
              0.1111111111111111,
              "#46039f"
             ],
             [
              0.2222222222222222,
              "#7201a8"
             ],
             [
              0.3333333333333333,
              "#9c179e"
             ],
             [
              0.4444444444444444,
              "#bd3786"
             ],
             [
              0.5555555555555556,
              "#d8576b"
             ],
             [
              0.6666666666666666,
              "#ed7953"
             ],
             [
              0.7777777777777778,
              "#fb9f3a"
             ],
             [
              0.8888888888888888,
              "#fdca26"
             ],
             [
              1,
              "#f0f921"
             ]
            ],
            "type": "surface"
           }
          ],
          "table": [
           {
            "cells": {
             "fill": {
              "color": "#EBF0F8"
             },
             "line": {
              "color": "white"
             }
            },
            "header": {
             "fill": {
              "color": "#C8D4E3"
             },
             "line": {
              "color": "white"
             }
            },
            "type": "table"
           }
          ]
         },
         "layout": {
          "annotationdefaults": {
           "arrowcolor": "#2a3f5f",
           "arrowhead": 0,
           "arrowwidth": 1
          },
          "autotypenumbers": "strict",
          "coloraxis": {
           "colorbar": {
            "outlinewidth": 0,
            "ticks": ""
           }
          },
          "colorscale": {
           "diverging": [
            [
             0,
             "#8e0152"
            ],
            [
             0.1,
             "#c51b7d"
            ],
            [
             0.2,
             "#de77ae"
            ],
            [
             0.3,
             "#f1b6da"
            ],
            [
             0.4,
             "#fde0ef"
            ],
            [
             0.5,
             "#f7f7f7"
            ],
            [
             0.6,
             "#e6f5d0"
            ],
            [
             0.7,
             "#b8e186"
            ],
            [
             0.8,
             "#7fbc41"
            ],
            [
             0.9,
             "#4d9221"
            ],
            [
             1,
             "#276419"
            ]
           ],
           "sequential": [
            [
             0,
             "#0d0887"
            ],
            [
             0.1111111111111111,
             "#46039f"
            ],
            [
             0.2222222222222222,
             "#7201a8"
            ],
            [
             0.3333333333333333,
             "#9c179e"
            ],
            [
             0.4444444444444444,
             "#bd3786"
            ],
            [
             0.5555555555555556,
             "#d8576b"
            ],
            [
             0.6666666666666666,
             "#ed7953"
            ],
            [
             0.7777777777777778,
             "#fb9f3a"
            ],
            [
             0.8888888888888888,
             "#fdca26"
            ],
            [
             1,
             "#f0f921"
            ]
           ],
           "sequentialminus": [
            [
             0,
             "#0d0887"
            ],
            [
             0.1111111111111111,
             "#46039f"
            ],
            [
             0.2222222222222222,
             "#7201a8"
            ],
            [
             0.3333333333333333,
             "#9c179e"
            ],
            [
             0.4444444444444444,
             "#bd3786"
            ],
            [
             0.5555555555555556,
             "#d8576b"
            ],
            [
             0.6666666666666666,
             "#ed7953"
            ],
            [
             0.7777777777777778,
             "#fb9f3a"
            ],
            [
             0.8888888888888888,
             "#fdca26"
            ],
            [
             1,
             "#f0f921"
            ]
           ]
          },
          "colorway": [
           "#636efa",
           "#EF553B",
           "#00cc96",
           "#ab63fa",
           "#FFA15A",
           "#19d3f3",
           "#FF6692",
           "#B6E880",
           "#FF97FF",
           "#FECB52"
          ],
          "font": {
           "color": "#2a3f5f"
          },
          "geo": {
           "bgcolor": "white",
           "lakecolor": "white",
           "landcolor": "#E5ECF6",
           "showlakes": true,
           "showland": true,
           "subunitcolor": "white"
          },
          "hoverlabel": {
           "align": "left"
          },
          "hovermode": "closest",
          "mapbox": {
           "style": "light"
          },
          "paper_bgcolor": "white",
          "plot_bgcolor": "#E5ECF6",
          "polar": {
           "angularaxis": {
            "gridcolor": "white",
            "linecolor": "white",
            "ticks": ""
           },
           "bgcolor": "#E5ECF6",
           "radialaxis": {
            "gridcolor": "white",
            "linecolor": "white",
            "ticks": ""
           }
          },
          "scene": {
           "xaxis": {
            "backgroundcolor": "#E5ECF6",
            "gridcolor": "white",
            "gridwidth": 2,
            "linecolor": "white",
            "showbackground": true,
            "ticks": "",
            "zerolinecolor": "white"
           },
           "yaxis": {
            "backgroundcolor": "#E5ECF6",
            "gridcolor": "white",
            "gridwidth": 2,
            "linecolor": "white",
            "showbackground": true,
            "ticks": "",
            "zerolinecolor": "white"
           },
           "zaxis": {
            "backgroundcolor": "#E5ECF6",
            "gridcolor": "white",
            "gridwidth": 2,
            "linecolor": "white",
            "showbackground": true,
            "ticks": "",
            "zerolinecolor": "white"
           }
          },
          "shapedefaults": {
           "line": {
            "color": "#2a3f5f"
           }
          },
          "ternary": {
           "aaxis": {
            "gridcolor": "white",
            "linecolor": "white",
            "ticks": ""
           },
           "baxis": {
            "gridcolor": "white",
            "linecolor": "white",
            "ticks": ""
           },
           "bgcolor": "#E5ECF6",
           "caxis": {
            "gridcolor": "white",
            "linecolor": "white",
            "ticks": ""
           }
          },
          "title": {
           "x": 0.05
          },
          "xaxis": {
           "automargin": true,
           "gridcolor": "white",
           "linecolor": "white",
           "ticks": "",
           "title": {
            "standoff": 15
           },
           "zerolinecolor": "white",
           "zerolinewidth": 2
          },
          "yaxis": {
           "automargin": true,
           "gridcolor": "white",
           "linecolor": "white",
           "ticks": "",
           "title": {
            "standoff": 15
           },
           "zerolinecolor": "white",
           "zerolinewidth": 2
          }
         }
        },
        "title": {
         "text": "Parallel Coordinate Plot"
        }
       }
      }
     },
     "metadata": {},
     "output_type": "display_data"
    }
   ],
   "source": [
    "optuna.visualization.plot_parallel_coordinate(study)"
   ]
  },
  {
   "cell_type": "code",
   "execution_count": 70,
   "metadata": {},
   "outputs": [
    {
     "data": {
      "application/vnd.plotly.v1+json": {
       "config": {
        "plotlyServerURL": "https://plot.ly"
       },
       "data": [
        {
         "marker": {
          "color": [
           0,
           1,
           2,
           3,
           4,
           5,
           6,
           7,
           8,
           9,
           10,
           11,
           12,
           13,
           14,
           15,
           16,
           17,
           18,
           19,
           20,
           21,
           22,
           23,
           24,
           25,
           26,
           27,
           28,
           29,
           30,
           31,
           32,
           33,
           34,
           35,
           36,
           37,
           38,
           39,
           40,
           41,
           42,
           43,
           44,
           45,
           46,
           47,
           48,
           49
          ],
          "colorbar": {
           "title": {
            "text": "Trial"
           },
           "x": 1,
           "xpad": 40
          },
          "colorscale": [
           [
            0,
            "rgb(247,251,255)"
           ],
           [
            0.125,
            "rgb(222,235,247)"
           ],
           [
            0.25,
            "rgb(198,219,239)"
           ],
           [
            0.375,
            "rgb(158,202,225)"
           ],
           [
            0.5,
            "rgb(107,174,214)"
           ],
           [
            0.625,
            "rgb(66,146,198)"
           ],
           [
            0.75,
            "rgb(33,113,181)"
           ],
           [
            0.875,
            "rgb(8,81,156)"
           ],
           [
            1,
            "rgb(8,48,107)"
           ]
          ],
          "line": {
           "color": "Grey",
           "width": 0.5
          },
          "showscale": true
         },
         "mode": "markers",
         "name": "Feasible Trial",
         "showlegend": false,
         "type": "scatter",
         "x": [
          0.4,
          0.5,
          0.9,
          0.3,
          0.5,
          0.3,
          0.9,
          0.5,
          0.9,
          0.3,
          0.8,
          0.6,
          1,
          0.7,
          0.3,
          0.5,
          0.5,
          0.5,
          0.5,
          1,
          0.6,
          0.5,
          0.5,
          0.5,
          0.7,
          0.8,
          0.4,
          0.4,
          0.6,
          0.4,
          0.4,
          0.4,
          0.4,
          0.4,
          0.4,
          0.4,
          0.4,
          0.4,
          0.4,
          0.4,
          0.4,
          0.4,
          0.9,
          0.4,
          0.8,
          1,
          0.7,
          0.4,
          0.9,
          0.3
         ],
         "xaxis": "x",
         "y": [
          0.7800067347362362,
          0.7750502848875352,
          0.7790055501201408,
          0.7790490881915226,
          0.7784206185854418,
          0.7736150854043594,
          0.7749469407131356,
          0.7692563142485178,
          0.7763357647348923,
          0.7811095536430753,
          0.7928278807463213,
          0.7756924077485792,
          0.7762127455141076,
          0.7770958365731356,
          0.7732189679486838,
          0.7712164264010825,
          0.7687012057487496,
          0.7734041292162833,
          0.7704396265169063,
          0.7780315634494424,
          0.7748932478837119,
          0.7701331757598587,
          0.7723779262820942,
          0.7699276703357122,
          0.7740931531287272,
          0.7812132191949707,
          0.7678034733060729,
          0.7728030794768818,
          0.7840576009941699,
          0.7719158000219626,
          0.7749123434394066,
          0.7690424451914117,
          0.7683297220215164,
          0.766204846755063,
          0.7702985423282861,
          0.7691260276919777,
          0.7765272935669362,
          0.7709279821533515,
          0.7680909553912157,
          0.7691613800569521,
          0.7730373500104004,
          0.7693723886470434,
          0.781815760347137,
          0.7691960130324437,
          0.7722497402191534,
          0.7891985003942881,
          0.7769236577046621,
          0.7741012905037967,
          0.7765349314432758,
          0.7679239731900502
         ],
         "yaxis": "y"
        },
        {
         "marker": {
          "color": [
           0,
           1,
           2,
           3,
           4,
           5,
           6,
           7,
           8,
           9,
           10,
           11,
           12,
           13,
           14,
           15,
           16,
           17,
           18,
           19,
           20,
           21,
           22,
           23,
           24,
           25,
           26,
           27,
           28,
           29,
           30,
           31,
           32,
           33,
           34,
           35,
           36,
           37,
           38,
           39,
           40,
           41,
           42,
           43,
           44,
           45,
           46,
           47,
           48,
           49
          ],
          "colorbar": {
           "title": {
            "text": "Trial"
           },
           "x": 1,
           "xpad": 40
          },
          "colorscale": [
           [
            0,
            "rgb(247,251,255)"
           ],
           [
            0.125,
            "rgb(222,235,247)"
           ],
           [
            0.25,
            "rgb(198,219,239)"
           ],
           [
            0.375,
            "rgb(158,202,225)"
           ],
           [
            0.5,
            "rgb(107,174,214)"
           ],
           [
            0.625,
            "rgb(66,146,198)"
           ],
           [
            0.75,
            "rgb(33,113,181)"
           ],
           [
            0.875,
            "rgb(8,81,156)"
           ],
           [
            1,
            "rgb(8,48,107)"
           ]
          ],
          "line": {
           "color": "Grey",
           "width": 0.5
          },
          "showscale": false
         },
         "mode": "markers",
         "name": "Feasible Trial",
         "showlegend": false,
         "type": "scatter",
         "x": [
          0.008,
          0.02,
          0.014,
          0.014,
          0.01,
          0.014,
          0.01,
          0.02,
          0.014,
          0.02,
          0.017,
          0.006,
          0.02,
          0.006,
          0.008,
          0.008,
          0.008,
          0.017,
          0.02,
          0.008,
          0.008,
          0.02,
          0.02,
          0.02,
          0.02,
          0.02,
          0.01,
          0.01,
          0.01,
          0.01,
          0.008,
          0.017,
          0.017,
          0.017,
          0.017,
          0.017,
          0.017,
          0.017,
          0.01,
          0.01,
          0.01,
          0.01,
          0.014,
          0.017,
          0.006,
          0.01,
          0.017,
          0.008,
          0.01,
          0.014
         ],
         "xaxis": "x2",
         "y": [
          0.7800067347362362,
          0.7750502848875352,
          0.7790055501201408,
          0.7790490881915226,
          0.7784206185854418,
          0.7736150854043594,
          0.7749469407131356,
          0.7692563142485178,
          0.7763357647348923,
          0.7811095536430753,
          0.7928278807463213,
          0.7756924077485792,
          0.7762127455141076,
          0.7770958365731356,
          0.7732189679486838,
          0.7712164264010825,
          0.7687012057487496,
          0.7734041292162833,
          0.7704396265169063,
          0.7780315634494424,
          0.7748932478837119,
          0.7701331757598587,
          0.7723779262820942,
          0.7699276703357122,
          0.7740931531287272,
          0.7812132191949707,
          0.7678034733060729,
          0.7728030794768818,
          0.7840576009941699,
          0.7719158000219626,
          0.7749123434394066,
          0.7690424451914117,
          0.7683297220215164,
          0.766204846755063,
          0.7702985423282861,
          0.7691260276919777,
          0.7765272935669362,
          0.7709279821533515,
          0.7680909553912157,
          0.7691613800569521,
          0.7730373500104004,
          0.7693723886470434,
          0.781815760347137,
          0.7691960130324437,
          0.7722497402191534,
          0.7891985003942881,
          0.7769236577046621,
          0.7741012905037967,
          0.7765349314432758,
          0.7679239731900502
         ],
         "yaxis": "y2"
        },
        {
         "marker": {
          "color": [
           0,
           1,
           2,
           3,
           4,
           5,
           6,
           7,
           8,
           9,
           10,
           11,
           12,
           13,
           14,
           15,
           16,
           17,
           18,
           19,
           20,
           21,
           22,
           23,
           24,
           25,
           26,
           27,
           28,
           29,
           30,
           31,
           32,
           33,
           34,
           35,
           36,
           37,
           38,
           39,
           40,
           41,
           42,
           43,
           44,
           45,
           46,
           47,
           48,
           49
          ],
          "colorbar": {
           "title": {
            "text": "Trial"
           },
           "x": 1,
           "xpad": 40
          },
          "colorscale": [
           [
            0,
            "rgb(247,251,255)"
           ],
           [
            0.125,
            "rgb(222,235,247)"
           ],
           [
            0.25,
            "rgb(198,219,239)"
           ],
           [
            0.375,
            "rgb(158,202,225)"
           ],
           [
            0.5,
            "rgb(107,174,214)"
           ],
           [
            0.625,
            "rgb(66,146,198)"
           ],
           [
            0.75,
            "rgb(33,113,181)"
           ],
           [
            0.875,
            "rgb(8,81,156)"
           ],
           [
            1,
            "rgb(8,48,107)"
           ]
          ],
          "line": {
           "color": "Grey",
           "width": 0.5
          },
          "showscale": false
         },
         "mode": "markers",
         "name": "Feasible Trial",
         "showlegend": false,
         "type": "scatter",
         "x": [
          10,
          20,
          100,
          10,
          100,
          20,
          100,
          100,
          100,
          10,
          100,
          20,
          20,
          20,
          20,
          100,
          100,
          100,
          100,
          100,
          100,
          100,
          100,
          100,
          100,
          10,
          100,
          100,
          100,
          10,
          100,
          100,
          100,
          100,
          100,
          10,
          100,
          100,
          100,
          100,
          10,
          100,
          100,
          100,
          100,
          20,
          100,
          100,
          20,
          100
         ],
         "xaxis": "x3",
         "y": [
          0.7800067347362362,
          0.7750502848875352,
          0.7790055501201408,
          0.7790490881915226,
          0.7784206185854418,
          0.7736150854043594,
          0.7749469407131356,
          0.7692563142485178,
          0.7763357647348923,
          0.7811095536430753,
          0.7928278807463213,
          0.7756924077485792,
          0.7762127455141076,
          0.7770958365731356,
          0.7732189679486838,
          0.7712164264010825,
          0.7687012057487496,
          0.7734041292162833,
          0.7704396265169063,
          0.7780315634494424,
          0.7748932478837119,
          0.7701331757598587,
          0.7723779262820942,
          0.7699276703357122,
          0.7740931531287272,
          0.7812132191949707,
          0.7678034733060729,
          0.7728030794768818,
          0.7840576009941699,
          0.7719158000219626,
          0.7749123434394066,
          0.7690424451914117,
          0.7683297220215164,
          0.766204846755063,
          0.7702985423282861,
          0.7691260276919777,
          0.7765272935669362,
          0.7709279821533515,
          0.7680909553912157,
          0.7691613800569521,
          0.7730373500104004,
          0.7693723886470434,
          0.781815760347137,
          0.7691960130324437,
          0.7722497402191534,
          0.7891985003942881,
          0.7769236577046621,
          0.7741012905037967,
          0.7765349314432758,
          0.7679239731900502
         ],
         "yaxis": "y3"
        },
        {
         "marker": {
          "color": [
           0,
           1,
           2,
           3,
           4,
           5,
           6,
           7,
           8,
           9,
           10,
           11,
           12,
           13,
           14,
           15,
           16,
           17,
           18,
           19,
           20,
           21,
           22,
           23,
           24,
           25,
           26,
           27,
           28,
           29,
           30,
           31,
           32,
           33,
           34,
           35,
           36,
           37,
           38,
           39,
           40,
           41,
           42,
           43,
           44,
           45,
           46,
           47,
           48,
           49
          ],
          "colorbar": {
           "title": {
            "text": "Trial"
           },
           "x": 1,
           "xpad": 40
          },
          "colorscale": [
           [
            0,
            "rgb(247,251,255)"
           ],
           [
            0.125,
            "rgb(222,235,247)"
           ],
           [
            0.25,
            "rgb(198,219,239)"
           ],
           [
            0.375,
            "rgb(158,202,225)"
           ],
           [
            0.5,
            "rgb(107,174,214)"
           ],
           [
            0.625,
            "rgb(66,146,198)"
           ],
           [
            0.75,
            "rgb(33,113,181)"
           ],
           [
            0.875,
            "rgb(8,81,156)"
           ],
           [
            1,
            "rgb(8,48,107)"
           ]
          ],
          "line": {
           "color": "Grey",
           "width": 0.5
          },
          "showscale": false
         },
         "mode": "markers",
         "name": "Feasible Trial",
         "showlegend": false,
         "type": "scatter",
         "x": [
          255,
          159,
          288,
          264,
          231,
          164,
          56,
          66,
          110,
          274,
          5,
          163,
          100,
          206,
          102,
          58,
          27,
          12,
          53,
          31,
          81,
          56,
          123,
          28,
          37,
          81,
          25,
          136,
          6,
          80,
          195,
          32,
          32,
          30,
          19,
          43,
          2,
          72,
          21,
          44,
          91,
          16,
          25,
          45,
          67,
          17,
          182,
          2,
          231,
          56
         ],
         "xaxis": "x4",
         "y": [
          0.7800067347362362,
          0.7750502848875352,
          0.7790055501201408,
          0.7790490881915226,
          0.7784206185854418,
          0.7736150854043594,
          0.7749469407131356,
          0.7692563142485178,
          0.7763357647348923,
          0.7811095536430753,
          0.7928278807463213,
          0.7756924077485792,
          0.7762127455141076,
          0.7770958365731356,
          0.7732189679486838,
          0.7712164264010825,
          0.7687012057487496,
          0.7734041292162833,
          0.7704396265169063,
          0.7780315634494424,
          0.7748932478837119,
          0.7701331757598587,
          0.7723779262820942,
          0.7699276703357122,
          0.7740931531287272,
          0.7812132191949707,
          0.7678034733060729,
          0.7728030794768818,
          0.7840576009941699,
          0.7719158000219626,
          0.7749123434394066,
          0.7690424451914117,
          0.7683297220215164,
          0.766204846755063,
          0.7702985423282861,
          0.7691260276919777,
          0.7765272935669362,
          0.7709279821533515,
          0.7680909553912157,
          0.7691613800569521,
          0.7730373500104004,
          0.7693723886470434,
          0.781815760347137,
          0.7691960130324437,
          0.7722497402191534,
          0.7891985003942881,
          0.7769236577046621,
          0.7741012905037967,
          0.7765349314432758,
          0.7679239731900502
         ],
         "yaxis": "y4"
        },
        {
         "marker": {
          "color": [
           0,
           1,
           2,
           3,
           4,
           5,
           6,
           7,
           8,
           9,
           10,
           11,
           12,
           13,
           14,
           15,
           16,
           17,
           18,
           19,
           20,
           21,
           22,
           23,
           24,
           25,
           26,
           27,
           28,
           29,
           30,
           31,
           32,
           33,
           34,
           35,
           36,
           37,
           38,
           39,
           40,
           41,
           42,
           43,
           44,
           45,
           46,
           47,
           48,
           49
          ],
          "colorbar": {
           "title": {
            "text": "Trial"
           },
           "x": 1,
           "xpad": 40
          },
          "colorscale": [
           [
            0,
            "rgb(247,251,255)"
           ],
           [
            0.125,
            "rgb(222,235,247)"
           ],
           [
            0.25,
            "rgb(198,219,239)"
           ],
           [
            0.375,
            "rgb(158,202,225)"
           ],
           [
            0.5,
            "rgb(107,174,214)"
           ],
           [
            0.625,
            "rgb(66,146,198)"
           ],
           [
            0.75,
            "rgb(33,113,181)"
           ],
           [
            0.875,
            "rgb(8,81,156)"
           ],
           [
            1,
            "rgb(8,48,107)"
           ]
          ],
          "line": {
           "color": "Grey",
           "width": 0.5
          },
          "showscale": false
         },
         "mode": "markers",
         "name": "Feasible Trial",
         "showlegend": false,
         "type": "scatter",
         "x": [
          9,
          82,
          8,
          91,
          40,
          3,
          66,
          37,
          30,
          6,
          58,
          27,
          24,
          46,
          64,
          76,
          79,
          99,
          54,
          73,
          40,
          50,
          48,
          19,
          19,
          16,
          36,
          36,
          35,
          61,
          89,
          16,
          15,
          13,
          11,
          9,
          1,
          31,
          44,
          44,
          24,
          71,
          55,
          13,
          41,
          5,
          23,
          82,
          30,
          53
         ],
         "xaxis": "x5",
         "y": [
          0.7800067347362362,
          0.7750502848875352,
          0.7790055501201408,
          0.7790490881915226,
          0.7784206185854418,
          0.7736150854043594,
          0.7749469407131356,
          0.7692563142485178,
          0.7763357647348923,
          0.7811095536430753,
          0.7928278807463213,
          0.7756924077485792,
          0.7762127455141076,
          0.7770958365731356,
          0.7732189679486838,
          0.7712164264010825,
          0.7687012057487496,
          0.7734041292162833,
          0.7704396265169063,
          0.7780315634494424,
          0.7748932478837119,
          0.7701331757598587,
          0.7723779262820942,
          0.7699276703357122,
          0.7740931531287272,
          0.7812132191949707,
          0.7678034733060729,
          0.7728030794768818,
          0.7840576009941699,
          0.7719158000219626,
          0.7749123434394066,
          0.7690424451914117,
          0.7683297220215164,
          0.766204846755063,
          0.7702985423282861,
          0.7691260276919777,
          0.7765272935669362,
          0.7709279821533515,
          0.7680909553912157,
          0.7691613800569521,
          0.7730373500104004,
          0.7693723886470434,
          0.781815760347137,
          0.7691960130324437,
          0.7722497402191534,
          0.7891985003942881,
          0.7769236577046621,
          0.7741012905037967,
          0.7765349314432758,
          0.7679239731900502
         ],
         "yaxis": "y5"
        },
        {
         "marker": {
          "color": [
           0,
           1,
           2,
           3,
           4,
           5,
           6,
           7,
           8,
           9,
           10,
           11,
           12,
           13,
           14,
           15,
           16,
           17,
           18,
           19,
           20,
           21,
           22,
           23,
           24,
           25,
           26,
           27,
           28,
           29,
           30,
           31,
           32,
           33,
           34,
           35,
           36,
           37,
           38,
           39,
           40,
           41,
           42,
           43,
           44,
           45,
           46,
           47,
           48,
           49
          ],
          "colorbar": {
           "title": {
            "text": "Trial"
           },
           "x": 1,
           "xpad": 40
          },
          "colorscale": [
           [
            0,
            "rgb(247,251,255)"
           ],
           [
            0.125,
            "rgb(222,235,247)"
           ],
           [
            0.25,
            "rgb(198,219,239)"
           ],
           [
            0.375,
            "rgb(158,202,225)"
           ],
           [
            0.5,
            "rgb(107,174,214)"
           ],
           [
            0.625,
            "rgb(66,146,198)"
           ],
           [
            0.75,
            "rgb(33,113,181)"
           ],
           [
            0.875,
            "rgb(8,81,156)"
           ],
           [
            1,
            "rgb(8,48,107)"
           ]
          ],
          "line": {
           "color": "Grey",
           "width": 0.5
          },
          "showscale": false
         },
         "mode": "markers",
         "name": "Feasible Trial",
         "showlegend": false,
         "type": "scatter",
         "x": [
          482,
          121,
          124,
          819,
          630,
          617,
          691,
          581,
          295,
          61,
          999,
          475,
          352,
          677,
          847,
          885,
          973,
          978,
          272,
          791,
          561,
          307,
          394,
          215,
          175,
          6,
          757,
          926,
          700,
          749,
          491,
          553,
          535,
          412,
          425,
          923,
          767,
          447,
          527,
          532,
          607,
          642,
          383,
          720,
          520,
          822,
          654,
          593,
          481,
          357
         ],
         "xaxis": "x6",
         "y": [
          0.7800067347362362,
          0.7750502848875352,
          0.7790055501201408,
          0.7790490881915226,
          0.7784206185854418,
          0.7736150854043594,
          0.7749469407131356,
          0.7692563142485178,
          0.7763357647348923,
          0.7811095536430753,
          0.7928278807463213,
          0.7756924077485792,
          0.7762127455141076,
          0.7770958365731356,
          0.7732189679486838,
          0.7712164264010825,
          0.7687012057487496,
          0.7734041292162833,
          0.7704396265169063,
          0.7780315634494424,
          0.7748932478837119,
          0.7701331757598587,
          0.7723779262820942,
          0.7699276703357122,
          0.7740931531287272,
          0.7812132191949707,
          0.7678034733060729,
          0.7728030794768818,
          0.7840576009941699,
          0.7719158000219626,
          0.7749123434394066,
          0.7690424451914117,
          0.7683297220215164,
          0.766204846755063,
          0.7702985423282861,
          0.7691260276919777,
          0.7765272935669362,
          0.7709279821533515,
          0.7680909553912157,
          0.7691613800569521,
          0.7730373500104004,
          0.7693723886470434,
          0.781815760347137,
          0.7691960130324437,
          0.7722497402191534,
          0.7891985003942881,
          0.7769236577046621,
          0.7741012905037967,
          0.7765349314432758,
          0.7679239731900502
         ],
         "yaxis": "y6"
        },
        {
         "marker": {
          "color": [
           0,
           1,
           2,
           3,
           4,
           5,
           6,
           7,
           8,
           9,
           10,
           11,
           12,
           13,
           14,
           15,
           16,
           17,
           18,
           19,
           20,
           21,
           22,
           23,
           24,
           25,
           26,
           27,
           28,
           29,
           30,
           31,
           32,
           33,
           34,
           35,
           36,
           37,
           38,
           39,
           40,
           41,
           42,
           43,
           44,
           45,
           46,
           47,
           48,
           49
          ],
          "colorbar": {
           "title": {
            "text": "Trial"
           },
           "x": 1,
           "xpad": 40
          },
          "colorscale": [
           [
            0,
            "rgb(247,251,255)"
           ],
           [
            0.125,
            "rgb(222,235,247)"
           ],
           [
            0.25,
            "rgb(198,219,239)"
           ],
           [
            0.375,
            "rgb(158,202,225)"
           ],
           [
            0.5,
            "rgb(107,174,214)"
           ],
           [
            0.625,
            "rgb(66,146,198)"
           ],
           [
            0.75,
            "rgb(33,113,181)"
           ],
           [
            0.875,
            "rgb(8,81,156)"
           ],
           [
            1,
            "rgb(8,48,107)"
           ]
          ],
          "line": {
           "color": "Grey",
           "width": 0.5
          },
          "showscale": false
         },
         "mode": "markers",
         "name": "Feasible Trial",
         "showlegend": false,
         "type": "scatter",
         "x": [
          0.007842540137231417,
          0.618311662418489,
          2.514652087966883,
          3.2095875950143813,
          1.0345287069706384,
          2.6745094875103463,
          0.007974714833945934,
          0.27769078912226813,
          0.5213400013605252,
          0.09299153451007654,
          0.08484000811777485,
          0.25208341211157875,
          9.980236816999152,
          0.03511049044489527,
          0.0015586512538323335,
          0.00146434397777751,
          0.0013808000403484877,
          0.016282328793092535,
          0.1828139684976459,
          0.042600113337784705,
          0.00369624909375568,
          0.1773571256989654,
          0.22447632416483868,
          0.03676495079772559,
          0.033241692104445865,
          0.0037012198965587694,
          0.0010166743042009617,
          0.0028292447451504234,
          0.0010199844501101298,
          0.015144561346823278,
          0.009701450241286125,
          0.0027196296970370534,
          0.002393362509048063,
          0.0023541668454702272,
          0.005382644138322453,
          0.001746559676043506,
          0.0010161366029878373,
          0.00545147689554497,
          0.002052014638797742,
          0.002381773135476275,
          0.011052099489136213,
          0.005227295091299751,
          0.0019498350199963338,
          0.0011186475462864357,
          0.004146695804020412,
          0.002581906669832099,
          0.007438364055351044,
          0.001465018419762081,
          0.001991213550569002,
          1.0970533165724217
         ],
         "xaxis": "x7",
         "y": [
          0.7800067347362362,
          0.7750502848875352,
          0.7790055501201408,
          0.7790490881915226,
          0.7784206185854418,
          0.7736150854043594,
          0.7749469407131356,
          0.7692563142485178,
          0.7763357647348923,
          0.7811095536430753,
          0.7928278807463213,
          0.7756924077485792,
          0.7762127455141076,
          0.7770958365731356,
          0.7732189679486838,
          0.7712164264010825,
          0.7687012057487496,
          0.7734041292162833,
          0.7704396265169063,
          0.7780315634494424,
          0.7748932478837119,
          0.7701331757598587,
          0.7723779262820942,
          0.7699276703357122,
          0.7740931531287272,
          0.7812132191949707,
          0.7678034733060729,
          0.7728030794768818,
          0.7840576009941699,
          0.7719158000219626,
          0.7749123434394066,
          0.7690424451914117,
          0.7683297220215164,
          0.766204846755063,
          0.7702985423282861,
          0.7691260276919777,
          0.7765272935669362,
          0.7709279821533515,
          0.7680909553912157,
          0.7691613800569521,
          0.7730373500104004,
          0.7693723886470434,
          0.781815760347137,
          0.7691960130324437,
          0.7722497402191534,
          0.7891985003942881,
          0.7769236577046621,
          0.7741012905037967,
          0.7765349314432758,
          0.7679239731900502
         ],
         "yaxis": "y7"
        },
        {
         "marker": {
          "color": [
           0,
           1,
           2,
           3,
           4,
           5,
           6,
           7,
           8,
           9,
           10,
           11,
           12,
           13,
           14,
           15,
           16,
           17,
           18,
           19,
           20,
           21,
           22,
           23,
           24,
           25,
           26,
           27,
           28,
           29,
           30,
           31,
           32,
           33,
           34,
           35,
           36,
           37,
           38,
           39,
           40,
           41,
           42,
           43,
           44,
           45,
           46,
           47,
           48,
           49
          ],
          "colorbar": {
           "title": {
            "text": "Trial"
           },
           "x": 1,
           "xpad": 40
          },
          "colorscale": [
           [
            0,
            "rgb(247,251,255)"
           ],
           [
            0.125,
            "rgb(222,235,247)"
           ],
           [
            0.25,
            "rgb(198,219,239)"
           ],
           [
            0.375,
            "rgb(158,202,225)"
           ],
           [
            0.5,
            "rgb(107,174,214)"
           ],
           [
            0.625,
            "rgb(66,146,198)"
           ],
           [
            0.75,
            "rgb(33,113,181)"
           ],
           [
            0.875,
            "rgb(8,81,156)"
           ],
           [
            1,
            "rgb(8,48,107)"
           ]
          ],
          "line": {
           "color": "Grey",
           "width": 0.5
          },
          "showscale": false
         },
         "mode": "markers",
         "name": "Feasible Trial",
         "showlegend": false,
         "type": "scatter",
         "x": [
          0.026629589953185394,
          0.0017358871687974187,
          0.12350963000839761,
          3.7253312331323247,
          1.6234083555458785,
          0.0039162009103683405,
          0.19733462104848523,
          4.080287393794512,
          0.019942318326371656,
          2.8237700422879217,
          0.5829963652609648,
          0.0012361292364676572,
          0.007928064612368314,
          0.5631930606262125,
          0.006197412407164898,
          8.90005712757592,
          9.709272561664251,
          6.332417705528545,
          0.8157963708249258,
          1.3424765056130596,
          9.042792424580412,
          0.5678142619104217,
          0.25389192055523285,
          3.068248373131676,
          3.160825983707198,
          1.939418409298084,
          4.767669332847365,
          4.916690139876682,
          0.04482290076856839,
          1.195053668319762,
          0.3026362495852865,
          4.768505448091608,
          6.369309676356441,
          8.932963978723864,
          6.63640038631091,
          9.981101497291846,
          2.1980133395805836,
          1.0898577701104486,
          5.585300998715956,
          0.10920208034337929,
          0.05259566298340496,
          5.457201378210023,
          2.25202896544332,
          4.065575330940072,
          6.877876309365217,
          1.745474108836101,
          3.3711573777705706,
          7.45971826255941,
          4.116286531428975,
          9.991040103691862
         ],
         "xaxis": "x8",
         "y": [
          0.7800067347362362,
          0.7750502848875352,
          0.7790055501201408,
          0.7790490881915226,
          0.7784206185854418,
          0.7736150854043594,
          0.7749469407131356,
          0.7692563142485178,
          0.7763357647348923,
          0.7811095536430753,
          0.7928278807463213,
          0.7756924077485792,
          0.7762127455141076,
          0.7770958365731356,
          0.7732189679486838,
          0.7712164264010825,
          0.7687012057487496,
          0.7734041292162833,
          0.7704396265169063,
          0.7780315634494424,
          0.7748932478837119,
          0.7701331757598587,
          0.7723779262820942,
          0.7699276703357122,
          0.7740931531287272,
          0.7812132191949707,
          0.7678034733060729,
          0.7728030794768818,
          0.7840576009941699,
          0.7719158000219626,
          0.7749123434394066,
          0.7690424451914117,
          0.7683297220215164,
          0.766204846755063,
          0.7702985423282861,
          0.7691260276919777,
          0.7765272935669362,
          0.7709279821533515,
          0.7680909553912157,
          0.7691613800569521,
          0.7730373500104004,
          0.7693723886470434,
          0.781815760347137,
          0.7691960130324437,
          0.7722497402191534,
          0.7891985003942881,
          0.7769236577046621,
          0.7741012905037967,
          0.7765349314432758,
          0.7679239731900502
         ],
         "yaxis": "y8"
        },
        {
         "marker": {
          "color": [
           0,
           1,
           2,
           3,
           4,
           5,
           6,
           7,
           8,
           9,
           10,
           11,
           12,
           13,
           14,
           15,
           16,
           17,
           18,
           19,
           20,
           21,
           22,
           23,
           24,
           25,
           26,
           27,
           28,
           29,
           30,
           31,
           32,
           33,
           34,
           35,
           36,
           37,
           38,
           39,
           40,
           41,
           42,
           43,
           44,
           45,
           46,
           47,
           48,
           49
          ],
          "colorbar": {
           "title": {
            "text": "Trial"
           },
           "x": 1,
           "xpad": 40
          },
          "colorscale": [
           [
            0,
            "rgb(247,251,255)"
           ],
           [
            0.125,
            "rgb(222,235,247)"
           ],
           [
            0.25,
            "rgb(198,219,239)"
           ],
           [
            0.375,
            "rgb(158,202,225)"
           ],
           [
            0.5,
            "rgb(107,174,214)"
           ],
           [
            0.625,
            "rgb(66,146,198)"
           ],
           [
            0.75,
            "rgb(33,113,181)"
           ],
           [
            0.875,
            "rgb(8,81,156)"
           ],
           [
            1,
            "rgb(8,48,107)"
           ]
          ],
          "line": {
           "color": "Grey",
           "width": 0.5
          },
          "showscale": false
         },
         "mode": "markers",
         "name": "Feasible Trial",
         "showlegend": false,
         "type": "scatter",
         "x": [
          0.5,
          0.4,
          0.7,
          0.8,
          0.4,
          0.4,
          0.5,
          0.8,
          0.5,
          0.7,
          0.6,
          1,
          0.8,
          0.8,
          0.4,
          0.6,
          0.6,
          0.6,
          1,
          0.6,
          0.8,
          1,
          1,
          1,
          0.8,
          0.6,
          1,
          0.7,
          0.6,
          0.5,
          0.8,
          1,
          1,
          1,
          1,
          1,
          1,
          1,
          1,
          1,
          1,
          1,
          0.4,
          0.7,
          0.5,
          1,
          1,
          0.6,
          0.4,
          1
         ],
         "xaxis": "x9",
         "y": [
          0.7800067347362362,
          0.7750502848875352,
          0.7790055501201408,
          0.7790490881915226,
          0.7784206185854418,
          0.7736150854043594,
          0.7749469407131356,
          0.7692563142485178,
          0.7763357647348923,
          0.7811095536430753,
          0.7928278807463213,
          0.7756924077485792,
          0.7762127455141076,
          0.7770958365731356,
          0.7732189679486838,
          0.7712164264010825,
          0.7687012057487496,
          0.7734041292162833,
          0.7704396265169063,
          0.7780315634494424,
          0.7748932478837119,
          0.7701331757598587,
          0.7723779262820942,
          0.7699276703357122,
          0.7740931531287272,
          0.7812132191949707,
          0.7678034733060729,
          0.7728030794768818,
          0.7840576009941699,
          0.7719158000219626,
          0.7749123434394066,
          0.7690424451914117,
          0.7683297220215164,
          0.766204846755063,
          0.7702985423282861,
          0.7691260276919777,
          0.7765272935669362,
          0.7709279821533515,
          0.7680909553912157,
          0.7691613800569521,
          0.7730373500104004,
          0.7693723886470434,
          0.781815760347137,
          0.7691960130324437,
          0.7722497402191534,
          0.7891985003942881,
          0.7769236577046621,
          0.7741012905037967,
          0.7765349314432758,
          0.7679239731900502
         ],
         "yaxis": "y9"
        }
       ],
       "layout": {
        "template": {
         "data": {
          "bar": [
           {
            "error_x": {
             "color": "#2a3f5f"
            },
            "error_y": {
             "color": "#2a3f5f"
            },
            "marker": {
             "line": {
              "color": "#E5ECF6",
              "width": 0.5
             },
             "pattern": {
              "fillmode": "overlay",
              "size": 10,
              "solidity": 0.2
             }
            },
            "type": "bar"
           }
          ],
          "barpolar": [
           {
            "marker": {
             "line": {
              "color": "#E5ECF6",
              "width": 0.5
             },
             "pattern": {
              "fillmode": "overlay",
              "size": 10,
              "solidity": 0.2
             }
            },
            "type": "barpolar"
           }
          ],
          "carpet": [
           {
            "aaxis": {
             "endlinecolor": "#2a3f5f",
             "gridcolor": "white",
             "linecolor": "white",
             "minorgridcolor": "white",
             "startlinecolor": "#2a3f5f"
            },
            "baxis": {
             "endlinecolor": "#2a3f5f",
             "gridcolor": "white",
             "linecolor": "white",
             "minorgridcolor": "white",
             "startlinecolor": "#2a3f5f"
            },
            "type": "carpet"
           }
          ],
          "choropleth": [
           {
            "colorbar": {
             "outlinewidth": 0,
             "ticks": ""
            },
            "type": "choropleth"
           }
          ],
          "contour": [
           {
            "colorbar": {
             "outlinewidth": 0,
             "ticks": ""
            },
            "colorscale": [
             [
              0,
              "#0d0887"
             ],
             [
              0.1111111111111111,
              "#46039f"
             ],
             [
              0.2222222222222222,
              "#7201a8"
             ],
             [
              0.3333333333333333,
              "#9c179e"
             ],
             [
              0.4444444444444444,
              "#bd3786"
             ],
             [
              0.5555555555555556,
              "#d8576b"
             ],
             [
              0.6666666666666666,
              "#ed7953"
             ],
             [
              0.7777777777777778,
              "#fb9f3a"
             ],
             [
              0.8888888888888888,
              "#fdca26"
             ],
             [
              1,
              "#f0f921"
             ]
            ],
            "type": "contour"
           }
          ],
          "contourcarpet": [
           {
            "colorbar": {
             "outlinewidth": 0,
             "ticks": ""
            },
            "type": "contourcarpet"
           }
          ],
          "heatmap": [
           {
            "colorbar": {
             "outlinewidth": 0,
             "ticks": ""
            },
            "colorscale": [
             [
              0,
              "#0d0887"
             ],
             [
              0.1111111111111111,
              "#46039f"
             ],
             [
              0.2222222222222222,
              "#7201a8"
             ],
             [
              0.3333333333333333,
              "#9c179e"
             ],
             [
              0.4444444444444444,
              "#bd3786"
             ],
             [
              0.5555555555555556,
              "#d8576b"
             ],
             [
              0.6666666666666666,
              "#ed7953"
             ],
             [
              0.7777777777777778,
              "#fb9f3a"
             ],
             [
              0.8888888888888888,
              "#fdca26"
             ],
             [
              1,
              "#f0f921"
             ]
            ],
            "type": "heatmap"
           }
          ],
          "heatmapgl": [
           {
            "colorbar": {
             "outlinewidth": 0,
             "ticks": ""
            },
            "colorscale": [
             [
              0,
              "#0d0887"
             ],
             [
              0.1111111111111111,
              "#46039f"
             ],
             [
              0.2222222222222222,
              "#7201a8"
             ],
             [
              0.3333333333333333,
              "#9c179e"
             ],
             [
              0.4444444444444444,
              "#bd3786"
             ],
             [
              0.5555555555555556,
              "#d8576b"
             ],
             [
              0.6666666666666666,
              "#ed7953"
             ],
             [
              0.7777777777777778,
              "#fb9f3a"
             ],
             [
              0.8888888888888888,
              "#fdca26"
             ],
             [
              1,
              "#f0f921"
             ]
            ],
            "type": "heatmapgl"
           }
          ],
          "histogram": [
           {
            "marker": {
             "pattern": {
              "fillmode": "overlay",
              "size": 10,
              "solidity": 0.2
             }
            },
            "type": "histogram"
           }
          ],
          "histogram2d": [
           {
            "colorbar": {
             "outlinewidth": 0,
             "ticks": ""
            },
            "colorscale": [
             [
              0,
              "#0d0887"
             ],
             [
              0.1111111111111111,
              "#46039f"
             ],
             [
              0.2222222222222222,
              "#7201a8"
             ],
             [
              0.3333333333333333,
              "#9c179e"
             ],
             [
              0.4444444444444444,
              "#bd3786"
             ],
             [
              0.5555555555555556,
              "#d8576b"
             ],
             [
              0.6666666666666666,
              "#ed7953"
             ],
             [
              0.7777777777777778,
              "#fb9f3a"
             ],
             [
              0.8888888888888888,
              "#fdca26"
             ],
             [
              1,
              "#f0f921"
             ]
            ],
            "type": "histogram2d"
           }
          ],
          "histogram2dcontour": [
           {
            "colorbar": {
             "outlinewidth": 0,
             "ticks": ""
            },
            "colorscale": [
             [
              0,
              "#0d0887"
             ],
             [
              0.1111111111111111,
              "#46039f"
             ],
             [
              0.2222222222222222,
              "#7201a8"
             ],
             [
              0.3333333333333333,
              "#9c179e"
             ],
             [
              0.4444444444444444,
              "#bd3786"
             ],
             [
              0.5555555555555556,
              "#d8576b"
             ],
             [
              0.6666666666666666,
              "#ed7953"
             ],
             [
              0.7777777777777778,
              "#fb9f3a"
             ],
             [
              0.8888888888888888,
              "#fdca26"
             ],
             [
              1,
              "#f0f921"
             ]
            ],
            "type": "histogram2dcontour"
           }
          ],
          "mesh3d": [
           {
            "colorbar": {
             "outlinewidth": 0,
             "ticks": ""
            },
            "type": "mesh3d"
           }
          ],
          "parcoords": [
           {
            "line": {
             "colorbar": {
              "outlinewidth": 0,
              "ticks": ""
             }
            },
            "type": "parcoords"
           }
          ],
          "pie": [
           {
            "automargin": true,
            "type": "pie"
           }
          ],
          "scatter": [
           {
            "fillpattern": {
             "fillmode": "overlay",
             "size": 10,
             "solidity": 0.2
            },
            "type": "scatter"
           }
          ],
          "scatter3d": [
           {
            "line": {
             "colorbar": {
              "outlinewidth": 0,
              "ticks": ""
             }
            },
            "marker": {
             "colorbar": {
              "outlinewidth": 0,
              "ticks": ""
             }
            },
            "type": "scatter3d"
           }
          ],
          "scattercarpet": [
           {
            "marker": {
             "colorbar": {
              "outlinewidth": 0,
              "ticks": ""
             }
            },
            "type": "scattercarpet"
           }
          ],
          "scattergeo": [
           {
            "marker": {
             "colorbar": {
              "outlinewidth": 0,
              "ticks": ""
             }
            },
            "type": "scattergeo"
           }
          ],
          "scattergl": [
           {
            "marker": {
             "colorbar": {
              "outlinewidth": 0,
              "ticks": ""
             }
            },
            "type": "scattergl"
           }
          ],
          "scattermapbox": [
           {
            "marker": {
             "colorbar": {
              "outlinewidth": 0,
              "ticks": ""
             }
            },
            "type": "scattermapbox"
           }
          ],
          "scatterpolar": [
           {
            "marker": {
             "colorbar": {
              "outlinewidth": 0,
              "ticks": ""
             }
            },
            "type": "scatterpolar"
           }
          ],
          "scatterpolargl": [
           {
            "marker": {
             "colorbar": {
              "outlinewidth": 0,
              "ticks": ""
             }
            },
            "type": "scatterpolargl"
           }
          ],
          "scatterternary": [
           {
            "marker": {
             "colorbar": {
              "outlinewidth": 0,
              "ticks": ""
             }
            },
            "type": "scatterternary"
           }
          ],
          "surface": [
           {
            "colorbar": {
             "outlinewidth": 0,
             "ticks": ""
            },
            "colorscale": [
             [
              0,
              "#0d0887"
             ],
             [
              0.1111111111111111,
              "#46039f"
             ],
             [
              0.2222222222222222,
              "#7201a8"
             ],
             [
              0.3333333333333333,
              "#9c179e"
             ],
             [
              0.4444444444444444,
              "#bd3786"
             ],
             [
              0.5555555555555556,
              "#d8576b"
             ],
             [
              0.6666666666666666,
              "#ed7953"
             ],
             [
              0.7777777777777778,
              "#fb9f3a"
             ],
             [
              0.8888888888888888,
              "#fdca26"
             ],
             [
              1,
              "#f0f921"
             ]
            ],
            "type": "surface"
           }
          ],
          "table": [
           {
            "cells": {
             "fill": {
              "color": "#EBF0F8"
             },
             "line": {
              "color": "white"
             }
            },
            "header": {
             "fill": {
              "color": "#C8D4E3"
             },
             "line": {
              "color": "white"
             }
            },
            "type": "table"
           }
          ]
         },
         "layout": {
          "annotationdefaults": {
           "arrowcolor": "#2a3f5f",
           "arrowhead": 0,
           "arrowwidth": 1
          },
          "autotypenumbers": "strict",
          "coloraxis": {
           "colorbar": {
            "outlinewidth": 0,
            "ticks": ""
           }
          },
          "colorscale": {
           "diverging": [
            [
             0,
             "#8e0152"
            ],
            [
             0.1,
             "#c51b7d"
            ],
            [
             0.2,
             "#de77ae"
            ],
            [
             0.3,
             "#f1b6da"
            ],
            [
             0.4,
             "#fde0ef"
            ],
            [
             0.5,
             "#f7f7f7"
            ],
            [
             0.6,
             "#e6f5d0"
            ],
            [
             0.7,
             "#b8e186"
            ],
            [
             0.8,
             "#7fbc41"
            ],
            [
             0.9,
             "#4d9221"
            ],
            [
             1,
             "#276419"
            ]
           ],
           "sequential": [
            [
             0,
             "#0d0887"
            ],
            [
             0.1111111111111111,
             "#46039f"
            ],
            [
             0.2222222222222222,
             "#7201a8"
            ],
            [
             0.3333333333333333,
             "#9c179e"
            ],
            [
             0.4444444444444444,
             "#bd3786"
            ],
            [
             0.5555555555555556,
             "#d8576b"
            ],
            [
             0.6666666666666666,
             "#ed7953"
            ],
            [
             0.7777777777777778,
             "#fb9f3a"
            ],
            [
             0.8888888888888888,
             "#fdca26"
            ],
            [
             1,
             "#f0f921"
            ]
           ],
           "sequentialminus": [
            [
             0,
             "#0d0887"
            ],
            [
             0.1111111111111111,
             "#46039f"
            ],
            [
             0.2222222222222222,
             "#7201a8"
            ],
            [
             0.3333333333333333,
             "#9c179e"
            ],
            [
             0.4444444444444444,
             "#bd3786"
            ],
            [
             0.5555555555555556,
             "#d8576b"
            ],
            [
             0.6666666666666666,
             "#ed7953"
            ],
            [
             0.7777777777777778,
             "#fb9f3a"
            ],
            [
             0.8888888888888888,
             "#fdca26"
            ],
            [
             1,
             "#f0f921"
            ]
           ]
          },
          "colorway": [
           "#636efa",
           "#EF553B",
           "#00cc96",
           "#ab63fa",
           "#FFA15A",
           "#19d3f3",
           "#FF6692",
           "#B6E880",
           "#FF97FF",
           "#FECB52"
          ],
          "font": {
           "color": "#2a3f5f"
          },
          "geo": {
           "bgcolor": "white",
           "lakecolor": "white",
           "landcolor": "#E5ECF6",
           "showlakes": true,
           "showland": true,
           "subunitcolor": "white"
          },
          "hoverlabel": {
           "align": "left"
          },
          "hovermode": "closest",
          "mapbox": {
           "style": "light"
          },
          "paper_bgcolor": "white",
          "plot_bgcolor": "#E5ECF6",
          "polar": {
           "angularaxis": {
            "gridcolor": "white",
            "linecolor": "white",
            "ticks": ""
           },
           "bgcolor": "#E5ECF6",
           "radialaxis": {
            "gridcolor": "white",
            "linecolor": "white",
            "ticks": ""
           }
          },
          "scene": {
           "xaxis": {
            "backgroundcolor": "#E5ECF6",
            "gridcolor": "white",
            "gridwidth": 2,
            "linecolor": "white",
            "showbackground": true,
            "ticks": "",
            "zerolinecolor": "white"
           },
           "yaxis": {
            "backgroundcolor": "#E5ECF6",
            "gridcolor": "white",
            "gridwidth": 2,
            "linecolor": "white",
            "showbackground": true,
            "ticks": "",
            "zerolinecolor": "white"
           },
           "zaxis": {
            "backgroundcolor": "#E5ECF6",
            "gridcolor": "white",
            "gridwidth": 2,
            "linecolor": "white",
            "showbackground": true,
            "ticks": "",
            "zerolinecolor": "white"
           }
          },
          "shapedefaults": {
           "line": {
            "color": "#2a3f5f"
           }
          },
          "ternary": {
           "aaxis": {
            "gridcolor": "white",
            "linecolor": "white",
            "ticks": ""
           },
           "baxis": {
            "gridcolor": "white",
            "linecolor": "white",
            "ticks": ""
           },
           "bgcolor": "#E5ECF6",
           "caxis": {
            "gridcolor": "white",
            "linecolor": "white",
            "ticks": ""
           }
          },
          "title": {
           "x": 0.05
          },
          "xaxis": {
           "automargin": true,
           "gridcolor": "white",
           "linecolor": "white",
           "ticks": "",
           "title": {
            "standoff": 15
           },
           "zerolinecolor": "white",
           "zerolinewidth": 2
          },
          "yaxis": {
           "automargin": true,
           "gridcolor": "white",
           "linecolor": "white",
           "ticks": "",
           "title": {
            "standoff": 15
           },
           "zerolinecolor": "white",
           "zerolinewidth": 2
          }
         }
        },
        "title": {
         "text": "Slice Plot"
        },
        "width": 2700,
        "xaxis": {
         "anchor": "y",
         "categoryarray": [
          0.3,
          0.4,
          0.5,
          0.6,
          0.7,
          0.8,
          0.9,
          1
         ],
         "categoryorder": "array",
         "domain": [
          0,
          0.09135802469135802
         ],
         "title": {
          "text": "colsample_bytree"
         },
         "type": "category"
        },
        "xaxis2": {
         "anchor": "y2",
         "categoryarray": [
          0.006,
          0.008,
          0.01,
          0.014,
          0.017,
          0.02
         ],
         "categoryorder": "array",
         "domain": [
          0.11358024691358025,
          0.20493827160493827
         ],
         "title": {
          "text": "learning_rate"
         },
         "type": "category"
        },
        "xaxis3": {
         "anchor": "y3",
         "categoryarray": [
          10,
          20,
          100
         ],
         "categoryorder": "array",
         "domain": [
          0.2271604938271605,
          0.31851851851851853
         ],
         "title": {
          "text": "max_depth"
         },
         "type": "category"
        },
        "xaxis4": {
         "anchor": "y4",
         "domain": [
          0.34074074074074073,
          0.43209876543209874
         ],
         "title": {
          "text": "min_child_samples"
         }
        },
        "xaxis5": {
         "anchor": "y5",
         "domain": [
          0.454320987654321,
          0.5456790123456791
         ],
         "title": {
          "text": "min_data_per_groups"
         }
        },
        "xaxis6": {
         "anchor": "y6",
         "domain": [
          0.5679012345679012,
          0.6592592592592592
         ],
         "title": {
          "text": "num_leaves"
         }
        },
        "xaxis7": {
         "anchor": "y7",
         "domain": [
          0.6814814814814815,
          0.7728395061728395
         ],
         "title": {
          "text": "reg_alpha"
         },
         "type": "log"
        },
        "xaxis8": {
         "anchor": "y8",
         "domain": [
          0.7950617283950617,
          0.8864197530864197
         ],
         "title": {
          "text": "reg_lambda"
         },
         "type": "log"
        },
        "xaxis9": {
         "anchor": "y9",
         "categoryarray": [
          0.4,
          0.5,
          0.6,
          0.7,
          0.8,
          1
         ],
         "categoryorder": "array",
         "domain": [
          0.908641975308642,
          1
         ],
         "title": {
          "text": "subsample"
         },
         "type": "category"
        },
        "yaxis": {
         "anchor": "x",
         "domain": [
          0,
          1
         ],
         "title": {
          "text": "Objective Value"
         }
        },
        "yaxis2": {
         "anchor": "x2",
         "domain": [
          0,
          1
         ],
         "matches": "y",
         "showticklabels": false
        },
        "yaxis3": {
         "anchor": "x3",
         "domain": [
          0,
          1
         ],
         "matches": "y",
         "showticklabels": false
        },
        "yaxis4": {
         "anchor": "x4",
         "domain": [
          0,
          1
         ],
         "matches": "y",
         "showticklabels": false
        },
        "yaxis5": {
         "anchor": "x5",
         "domain": [
          0,
          1
         ],
         "matches": "y",
         "showticklabels": false
        },
        "yaxis6": {
         "anchor": "x6",
         "domain": [
          0,
          1
         ],
         "matches": "y",
         "showticklabels": false
        },
        "yaxis7": {
         "anchor": "x7",
         "domain": [
          0,
          1
         ],
         "matches": "y",
         "showticklabels": false
        },
        "yaxis8": {
         "anchor": "x8",
         "domain": [
          0,
          1
         ],
         "matches": "y",
         "showticklabels": false
        },
        "yaxis9": {
         "anchor": "x9",
         "domain": [
          0,
          1
         ],
         "matches": "y",
         "showticklabels": false
        }
       }
      }
     },
     "metadata": {},
     "output_type": "display_data"
    }
   ],
   "source": [
    "optuna.visualization.plot_slice(study)"
   ]
  },
  {
   "cell_type": "code",
   "execution_count": 71,
   "metadata": {},
   "outputs": [
    {
     "data": {
      "application/vnd.plotly.v1+json": {
       "config": {
        "plotlyServerURL": "https://plot.ly"
       },
       "data": [
        {
         "type": "scatter",
         "xaxis": "x",
         "yaxis": "y"
        },
        {
         "colorbar": {
          "title": {
           "text": "Objective Value"
          }
         },
         "colorscale": [
          [
           0,
           "rgb(247,251,255)"
          ],
          [
           0.125,
           "rgb(222,235,247)"
          ],
          [
           0.25,
           "rgb(198,219,239)"
          ],
          [
           0.375,
           "rgb(158,202,225)"
          ],
          [
           0.5,
           "rgb(107,174,214)"
          ],
          [
           0.625,
           "rgb(66,146,198)"
          ],
          [
           0.75,
           "rgb(33,113,181)"
          ],
          [
           0.875,
           "rgb(8,81,156)"
          ],
          [
           1,
           "rgb(8,48,107)"
          ]
         ],
         "connectgaps": true,
         "contours": {
          "coloring": "heatmap"
         },
         "hoverinfo": "none",
         "line": {
          "smoothing": 1.3
         },
         "reversescale": true,
         "showscale": true,
         "type": "contour",
         "x": [
          0.0053,
          0.006,
          0.008,
          0.01,
          0.014,
          0.017,
          0.02,
          0.0207
         ],
         "xaxis": "x5",
         "y": [
          5.5,
          10,
          20,
          100,
          104.5
         ],
         "yaxis": "y5",
         "z": [
          [
           null,
           null,
           null,
           null,
           null,
           null,
           null,
           null
          ],
          [
           null,
           null,
           0.7800067347362362,
           0.7719158000219626,
           0.7790490881915226,
           0.7691260276919777,
           0.7811095536430753,
           null
          ],
          [
           null,
           0.7756924077485792,
           0.7732189679486838,
           0.7765349314432758,
           0.7736150854043594,
           null,
           0.7750502848875352,
           null
          ],
          [
           null,
           0.7722497402191534,
           0.7687012057487496,
           0.7678034733060729,
           0.7679239731900502,
           0.766204846755063,
           0.7692563142485178,
           null
          ],
          [
           null,
           null,
           null,
           null,
           null,
           null,
           null,
           null
          ]
         ]
        },
        {
         "marker": {
          "color": "black",
          "line": {
           "color": "Gray",
           "width": 2
          }
         },
         "mode": "markers",
         "name": "Feasible Trial",
         "showlegend": false,
         "type": "scatter",
         "x": [
          0.008,
          0.02,
          0.014,
          0.014,
          0.01,
          0.014,
          0.01,
          0.02,
          0.014,
          0.02,
          0.017,
          0.006,
          0.02,
          0.006,
          0.008,
          0.008,
          0.008,
          0.017,
          0.02,
          0.008,
          0.008,
          0.02,
          0.02,
          0.02,
          0.02,
          0.02,
          0.01,
          0.01,
          0.01,
          0.01,
          0.008,
          0.017,
          0.017,
          0.017,
          0.017,
          0.017,
          0.017,
          0.017,
          0.01,
          0.01,
          0.01,
          0.01,
          0.014,
          0.017,
          0.006,
          0.01,
          0.017,
          0.008,
          0.01,
          0.014
         ],
         "xaxis": "x5",
         "y": [
          10,
          20,
          100,
          10,
          100,
          20,
          100,
          100,
          100,
          10,
          100,
          20,
          20,
          20,
          20,
          100,
          100,
          100,
          100,
          100,
          100,
          100,
          100,
          100,
          100,
          10,
          100,
          100,
          100,
          10,
          100,
          100,
          100,
          100,
          100,
          10,
          100,
          100,
          100,
          100,
          10,
          100,
          100,
          100,
          100,
          20,
          100,
          100,
          20,
          100
         ],
         "yaxis": "y5"
        },
        {
         "colorbar": {
          "title": {
           "text": "Objective Value"
          }
         },
         "colorscale": [
          [
           0,
           "rgb(247,251,255)"
          ],
          [
           0.125,
           "rgb(222,235,247)"
          ],
          [
           0.25,
           "rgb(198,219,239)"
          ],
          [
           0.375,
           "rgb(158,202,225)"
          ],
          [
           0.5,
           "rgb(107,174,214)"
          ],
          [
           0.625,
           "rgb(66,146,198)"
          ],
          [
           0.75,
           "rgb(33,113,181)"
          ],
          [
           0.875,
           "rgb(8,81,156)"
          ],
          [
           1,
           "rgb(8,48,107)"
          ]
         ],
         "connectgaps": true,
         "contours": {
          "coloring": "heatmap"
         },
         "hoverinfo": "none",
         "line": {
          "smoothing": 1.3
         },
         "reversescale": true,
         "showscale": false,
         "type": "contour",
         "x": [
          0.0053,
          0.006,
          0.008,
          0.01,
          0.014,
          0.017,
          0.02,
          0.0207
         ],
         "xaxis": "x9",
         "y": [
          -43.650000000000006,
          6,
          61,
          121,
          124,
          175,
          215,
          272,
          295,
          307,
          352,
          357,
          383,
          394,
          412,
          425,
          447,
          475,
          481,
          482,
          491,
          520,
          527,
          532,
          535,
          553,
          561,
          581,
          593,
          607,
          617,
          630,
          642,
          654,
          677,
          691,
          700,
          720,
          749,
          757,
          767,
          791,
          819,
          822,
          847,
          885,
          923,
          926,
          973,
          978,
          999,
          1048.65
         ],
         "yaxis": "y9",
         "z": [
          [
           null,
           null,
           null,
           null,
           null,
           null,
           null,
           null
          ],
          [
           null,
           null,
           null,
           null,
           null,
           null,
           0.7812132191949707,
           null
          ],
          [
           null,
           null,
           null,
           null,
           null,
           null,
           0.7811095536430753,
           null
          ],
          [
           null,
           null,
           null,
           null,
           null,
           null,
           0.7750502848875352,
           null
          ],
          [
           null,
           null,
           null,
           null,
           0.7790055501201408,
           null,
           null,
           null
          ],
          [
           null,
           null,
           null,
           null,
           null,
           null,
           0.7740931531287272,
           null
          ],
          [
           null,
           null,
           null,
           null,
           null,
           null,
           0.7699276703357122,
           null
          ],
          [
           null,
           null,
           null,
           null,
           null,
           null,
           0.7704396265169063,
           null
          ],
          [
           null,
           null,
           null,
           null,
           0.7763357647348923,
           null,
           null,
           null
          ],
          [
           null,
           null,
           null,
           null,
           null,
           null,
           0.7701331757598587,
           null
          ],
          [
           null,
           null,
           null,
           null,
           null,
           null,
           0.7762127455141076,
           null
          ],
          [
           null,
           null,
           null,
           null,
           0.7679239731900502,
           null,
           null,
           null
          ],
          [
           null,
           null,
           null,
           null,
           0.781815760347137,
           null,
           null,
           null
          ],
          [
           null,
           null,
           null,
           null,
           null,
           null,
           0.7723779262820942,
           null
          ],
          [
           null,
           null,
           null,
           null,
           null,
           0.766204846755063,
           null,
           null
          ],
          [
           null,
           null,
           null,
           null,
           null,
           0.7702985423282861,
           null,
           null
          ],
          [
           null,
           null,
           null,
           null,
           null,
           0.7709279821533515,
           null,
           null
          ],
          [
           null,
           0.7756924077485792,
           null,
           null,
           null,
           null,
           null,
           null
          ],
          [
           null,
           null,
           null,
           0.7765349314432758,
           null,
           null,
           null,
           null
          ],
          [
           null,
           null,
           0.7800067347362362,
           null,
           null,
           null,
           null,
           null
          ],
          [
           null,
           null,
           0.7749123434394066,
           null,
           null,
           null,
           null,
           null
          ],
          [
           null,
           0.7722497402191534,
           null,
           null,
           null,
           null,
           null,
           null
          ],
          [
           null,
           null,
           null,
           0.7680909553912157,
           null,
           null,
           null,
           null
          ],
          [
           null,
           null,
           null,
           0.7691613800569521,
           null,
           null,
           null,
           null
          ],
          [
           null,
           null,
           null,
           null,
           null,
           0.7683297220215164,
           null,
           null
          ],
          [
           null,
           null,
           null,
           null,
           null,
           0.7690424451914117,
           null,
           null
          ],
          [
           null,
           null,
           0.7748932478837119,
           null,
           null,
           null,
           null,
           null
          ],
          [
           null,
           null,
           null,
           null,
           null,
           null,
           0.7692563142485178,
           null
          ],
          [
           null,
           null,
           0.7741012905037967,
           null,
           null,
           null,
           null,
           null
          ],
          [
           null,
           null,
           null,
           0.7730373500104004,
           null,
           null,
           null,
           null
          ],
          [
           null,
           null,
           null,
           null,
           0.7736150854043594,
           null,
           null,
           null
          ],
          [
           null,
           null,
           null,
           0.7784206185854418,
           null,
           null,
           null,
           null
          ],
          [
           null,
           null,
           null,
           0.7693723886470434,
           null,
           null,
           null,
           null
          ],
          [
           null,
           null,
           null,
           null,
           null,
           0.7769236577046621,
           null,
           null
          ],
          [
           null,
           0.7770958365731356,
           null,
           null,
           null,
           null,
           null,
           null
          ],
          [
           null,
           null,
           null,
           0.7749469407131356,
           null,
           null,
           null,
           null
          ],
          [
           null,
           null,
           null,
           0.7840576009941699,
           null,
           null,
           null,
           null
          ],
          [
           null,
           null,
           null,
           null,
           null,
           0.7691960130324437,
           null,
           null
          ],
          [
           null,
           null,
           null,
           0.7719158000219626,
           null,
           null,
           null,
           null
          ],
          [
           null,
           null,
           null,
           0.7678034733060729,
           null,
           null,
           null,
           null
          ],
          [
           null,
           null,
           null,
           null,
           null,
           0.7765272935669362,
           null,
           null
          ],
          [
           null,
           null,
           0.7780315634494424,
           null,
           null,
           null,
           null,
           null
          ],
          [
           null,
           null,
           null,
           null,
           0.7790490881915226,
           null,
           null,
           null
          ],
          [
           null,
           null,
           null,
           0.7891985003942881,
           null,
           null,
           null,
           null
          ],
          [
           null,
           null,
           0.7732189679486838,
           null,
           null,
           null,
           null,
           null
          ],
          [
           null,
           null,
           0.7712164264010825,
           null,
           null,
           null,
           null,
           null
          ],
          [
           null,
           null,
           null,
           null,
           null,
           0.7691260276919777,
           null,
           null
          ],
          [
           null,
           null,
           null,
           0.7728030794768818,
           null,
           null,
           null,
           null
          ],
          [
           null,
           null,
           0.7687012057487496,
           null,
           null,
           null,
           null,
           null
          ],
          [
           null,
           null,
           null,
           null,
           null,
           0.7734041292162833,
           null,
           null
          ],
          [
           null,
           null,
           null,
           null,
           null,
           0.7928278807463213,
           null,
           null
          ],
          [
           null,
           null,
           null,
           null,
           null,
           null,
           null,
           null
          ]
         ]
        },
        {
         "marker": {
          "color": "black",
          "line": {
           "color": "Gray",
           "width": 2
          }
         },
         "mode": "markers",
         "name": "Feasible Trial",
         "showlegend": false,
         "type": "scatter",
         "x": [
          0.008,
          0.02,
          0.014,
          0.014,
          0.01,
          0.014,
          0.01,
          0.02,
          0.014,
          0.02,
          0.017,
          0.006,
          0.02,
          0.006,
          0.008,
          0.008,
          0.008,
          0.017,
          0.02,
          0.008,
          0.008,
          0.02,
          0.02,
          0.02,
          0.02,
          0.02,
          0.01,
          0.01,
          0.01,
          0.01,
          0.008,
          0.017,
          0.017,
          0.017,
          0.017,
          0.017,
          0.017,
          0.017,
          0.01,
          0.01,
          0.01,
          0.01,
          0.014,
          0.017,
          0.006,
          0.01,
          0.017,
          0.008,
          0.01,
          0.014
         ],
         "xaxis": "x9",
         "y": [
          482,
          121,
          124,
          819,
          630,
          617,
          691,
          581,
          295,
          61,
          999,
          475,
          352,
          677,
          847,
          885,
          973,
          978,
          272,
          791,
          561,
          307,
          394,
          215,
          175,
          6,
          757,
          926,
          700,
          749,
          491,
          553,
          535,
          412,
          425,
          923,
          767,
          447,
          527,
          532,
          607,
          642,
          383,
          720,
          520,
          822,
          654,
          593,
          481,
          357
         ],
         "yaxis": "y9"
        },
        {
         "colorbar": {
          "title": {
           "text": "Objective Value"
          }
         },
         "colorscale": [
          [
           0,
           "rgb(247,251,255)"
          ],
          [
           0.125,
           "rgb(222,235,247)"
          ],
          [
           0.25,
           "rgb(198,219,239)"
          ],
          [
           0.375,
           "rgb(158,202,225)"
          ],
          [
           0.5,
           "rgb(107,174,214)"
          ],
          [
           0.625,
           "rgb(66,146,198)"
          ],
          [
           0.75,
           "rgb(33,113,181)"
          ],
          [
           0.875,
           "rgb(8,81,156)"
          ],
          [
           1,
           "rgb(8,48,107)"
          ]
         ],
         "connectgaps": true,
         "contours": {
          "coloring": "heatmap"
         },
         "hoverinfo": "none",
         "line": {
          "smoothing": 1.3
         },
         "reversescale": true,
         "showscale": false,
         "type": "contour",
         "x": [
          0.0053,
          0.006,
          0.008,
          0.01,
          0.014,
          0.017,
          0.02,
          0.0207
         ],
         "xaxis": "x13",
         "y": [
          0.37,
          0.4,
          0.5,
          0.6,
          0.7,
          0.8,
          1,
          1.03
         ],
         "yaxis": "y13",
         "z": [
          [
           null,
           null,
           null,
           null,
           null,
           null,
           null,
           null
          ],
          [
           null,
           null,
           0.7732189679486838,
           0.7765349314432758,
           0.7736150854043594,
           null,
           0.7750502848875352,
           null
          ],
          [
           null,
           0.7722497402191534,
           0.7800067347362362,
           0.7719158000219626,
           0.7763357647348923,
           null,
           null,
           null
          ],
          [
           null,
           null,
           0.7687012057487496,
           0.7840576009941699,
           null,
           0.7734041292162833,
           0.7812132191949707,
           null
          ],
          [
           null,
           null,
           null,
           0.7728030794768818,
           0.7790055501201408,
           0.7691960130324437,
           0.7811095536430753,
           null
          ],
          [
           null,
           0.7770958365731356,
           0.7748932478837119,
           null,
           0.7790490881915226,
           null,
           0.7692563142485178,
           null
          ],
          [
           null,
           0.7756924077485792,
           null,
           0.7678034733060729,
           0.7679239731900502,
           0.766204846755063,
           0.7699276703357122,
           null
          ],
          [
           null,
           null,
           null,
           null,
           null,
           null,
           null,
           null
          ]
         ]
        },
        {
         "marker": {
          "color": "black",
          "line": {
           "color": "Gray",
           "width": 2
          }
         },
         "mode": "markers",
         "name": "Feasible Trial",
         "showlegend": false,
         "type": "scatter",
         "x": [
          0.008,
          0.02,
          0.014,
          0.014,
          0.01,
          0.014,
          0.01,
          0.02,
          0.014,
          0.02,
          0.017,
          0.006,
          0.02,
          0.006,
          0.008,
          0.008,
          0.008,
          0.017,
          0.02,
          0.008,
          0.008,
          0.02,
          0.02,
          0.02,
          0.02,
          0.02,
          0.01,
          0.01,
          0.01,
          0.01,
          0.008,
          0.017,
          0.017,
          0.017,
          0.017,
          0.017,
          0.017,
          0.017,
          0.01,
          0.01,
          0.01,
          0.01,
          0.014,
          0.017,
          0.006,
          0.01,
          0.017,
          0.008,
          0.01,
          0.014
         ],
         "xaxis": "x13",
         "y": [
          0.5,
          0.4,
          0.7,
          0.8,
          0.4,
          0.4,
          0.5,
          0.8,
          0.5,
          0.7,
          0.6,
          1,
          0.8,
          0.8,
          0.4,
          0.6,
          0.6,
          0.6,
          1,
          0.6,
          0.8,
          1,
          1,
          1,
          0.8,
          0.6,
          1,
          0.7,
          0.6,
          0.5,
          0.8,
          1,
          1,
          1,
          1,
          1,
          1,
          1,
          1,
          1,
          1,
          1,
          0.4,
          0.7,
          0.5,
          1,
          1,
          0.6,
          0.4,
          1
         ],
         "yaxis": "y13"
        },
        {
         "colorbar": {
          "title": {
           "text": "Objective Value"
          }
         },
         "colorscale": [
          [
           0,
           "rgb(247,251,255)"
          ],
          [
           0.125,
           "rgb(222,235,247)"
          ],
          [
           0.25,
           "rgb(198,219,239)"
          ],
          [
           0.375,
           "rgb(158,202,225)"
          ],
          [
           0.5,
           "rgb(107,174,214)"
          ],
          [
           0.625,
           "rgb(66,146,198)"
          ],
          [
           0.75,
           "rgb(33,113,181)"
          ],
          [
           0.875,
           "rgb(8,81,156)"
          ],
          [
           1,
           "rgb(8,48,107)"
          ]
         ],
         "connectgaps": true,
         "contours": {
          "coloring": "heatmap"
         },
         "hoverinfo": "none",
         "line": {
          "smoothing": 1.3
         },
         "reversescale": true,
         "showscale": false,
         "type": "contour",
         "x": [
          5.5,
          10,
          20,
          100,
          104.5
         ],
         "xaxis": "x2",
         "y": [
          0.0053,
          0.006,
          0.008,
          0.01,
          0.014,
          0.017,
          0.02,
          0.0207
         ],
         "yaxis": "y2",
         "z": [
          [
           null,
           null,
           null,
           null,
           null
          ],
          [
           null,
           null,
           0.7756924077485792,
           0.7722497402191534,
           null
          ],
          [
           null,
           0.7800067347362362,
           0.7732189679486838,
           0.7687012057487496,
           null
          ],
          [
           null,
           0.7719158000219626,
           0.7765349314432758,
           0.7678034733060729,
           null
          ],
          [
           null,
           0.7790490881915226,
           0.7736150854043594,
           0.7679239731900502,
           null
          ],
          [
           null,
           0.7691260276919777,
           null,
           0.766204846755063,
           null
          ],
          [
           null,
           0.7811095536430753,
           0.7750502848875352,
           0.7692563142485178,
           null
          ],
          [
           null,
           null,
           null,
           null,
           null
          ]
         ]
        },
        {
         "marker": {
          "color": "black",
          "line": {
           "color": "Gray",
           "width": 2
          }
         },
         "mode": "markers",
         "name": "Feasible Trial",
         "showlegend": false,
         "type": "scatter",
         "x": [
          10,
          20,
          100,
          10,
          100,
          20,
          100,
          100,
          100,
          10,
          100,
          20,
          20,
          20,
          20,
          100,
          100,
          100,
          100,
          100,
          100,
          100,
          100,
          100,
          100,
          10,
          100,
          100,
          100,
          10,
          100,
          100,
          100,
          100,
          100,
          10,
          100,
          100,
          100,
          100,
          10,
          100,
          100,
          100,
          100,
          20,
          100,
          100,
          20,
          100
         ],
         "xaxis": "x2",
         "y": [
          0.008,
          0.02,
          0.014,
          0.014,
          0.01,
          0.014,
          0.01,
          0.02,
          0.014,
          0.02,
          0.017,
          0.006,
          0.02,
          0.006,
          0.008,
          0.008,
          0.008,
          0.017,
          0.02,
          0.008,
          0.008,
          0.02,
          0.02,
          0.02,
          0.02,
          0.02,
          0.01,
          0.01,
          0.01,
          0.01,
          0.008,
          0.017,
          0.017,
          0.017,
          0.017,
          0.017,
          0.017,
          0.017,
          0.01,
          0.01,
          0.01,
          0.01,
          0.014,
          0.017,
          0.006,
          0.01,
          0.017,
          0.008,
          0.01,
          0.014
         ],
         "yaxis": "y2"
        },
        {
         "type": "scatter",
         "xaxis": "x6",
         "yaxis": "y6"
        },
        {
         "colorbar": {
          "title": {
           "text": "Objective Value"
          }
         },
         "colorscale": [
          [
           0,
           "rgb(247,251,255)"
          ],
          [
           0.125,
           "rgb(222,235,247)"
          ],
          [
           0.25,
           "rgb(198,219,239)"
          ],
          [
           0.375,
           "rgb(158,202,225)"
          ],
          [
           0.5,
           "rgb(107,174,214)"
          ],
          [
           0.625,
           "rgb(66,146,198)"
          ],
          [
           0.75,
           "rgb(33,113,181)"
          ],
          [
           0.875,
           "rgb(8,81,156)"
          ],
          [
           1,
           "rgb(8,48,107)"
          ]
         ],
         "connectgaps": true,
         "contours": {
          "coloring": "heatmap"
         },
         "hoverinfo": "none",
         "line": {
          "smoothing": 1.3
         },
         "reversescale": true,
         "showscale": false,
         "type": "contour",
         "x": [
          5.5,
          10,
          20,
          100,
          104.5
         ],
         "xaxis": "x10",
         "y": [
          -43.650000000000006,
          6,
          61,
          121,
          124,
          175,
          215,
          272,
          295,
          307,
          352,
          357,
          383,
          394,
          412,
          425,
          447,
          475,
          481,
          482,
          491,
          520,
          527,
          532,
          535,
          553,
          561,
          581,
          593,
          607,
          617,
          630,
          642,
          654,
          677,
          691,
          700,
          720,
          749,
          757,
          767,
          791,
          819,
          822,
          847,
          885,
          923,
          926,
          973,
          978,
          999,
          1048.65
         ],
         "yaxis": "y10",
         "z": [
          [
           null,
           null,
           null,
           null,
           null
          ],
          [
           null,
           0.7812132191949707,
           null,
           null,
           null
          ],
          [
           null,
           0.7811095536430753,
           null,
           null,
           null
          ],
          [
           null,
           null,
           0.7750502848875352,
           null,
           null
          ],
          [
           null,
           null,
           null,
           0.7790055501201408,
           null
          ],
          [
           null,
           null,
           null,
           0.7740931531287272,
           null
          ],
          [
           null,
           null,
           null,
           0.7699276703357122,
           null
          ],
          [
           null,
           null,
           null,
           0.7704396265169063,
           null
          ],
          [
           null,
           null,
           null,
           0.7763357647348923,
           null
          ],
          [
           null,
           null,
           null,
           0.7701331757598587,
           null
          ],
          [
           null,
           null,
           0.7762127455141076,
           null,
           null
          ],
          [
           null,
           null,
           null,
           0.7679239731900502,
           null
          ],
          [
           null,
           null,
           null,
           0.781815760347137,
           null
          ],
          [
           null,
           null,
           null,
           0.7723779262820942,
           null
          ],
          [
           null,
           null,
           null,
           0.766204846755063,
           null
          ],
          [
           null,
           null,
           null,
           0.7702985423282861,
           null
          ],
          [
           null,
           null,
           null,
           0.7709279821533515,
           null
          ],
          [
           null,
           null,
           0.7756924077485792,
           null,
           null
          ],
          [
           null,
           null,
           0.7765349314432758,
           null,
           null
          ],
          [
           null,
           0.7800067347362362,
           null,
           null,
           null
          ],
          [
           null,
           null,
           null,
           0.7749123434394066,
           null
          ],
          [
           null,
           null,
           null,
           0.7722497402191534,
           null
          ],
          [
           null,
           null,
           null,
           0.7680909553912157,
           null
          ],
          [
           null,
           null,
           null,
           0.7691613800569521,
           null
          ],
          [
           null,
           null,
           null,
           0.7683297220215164,
           null
          ],
          [
           null,
           null,
           null,
           0.7690424451914117,
           null
          ],
          [
           null,
           null,
           null,
           0.7748932478837119,
           null
          ],
          [
           null,
           null,
           null,
           0.7692563142485178,
           null
          ],
          [
           null,
           null,
           null,
           0.7741012905037967,
           null
          ],
          [
           null,
           0.7730373500104004,
           null,
           null,
           null
          ],
          [
           null,
           null,
           0.7736150854043594,
           null,
           null
          ],
          [
           null,
           null,
           null,
           0.7784206185854418,
           null
          ],
          [
           null,
           null,
           null,
           0.7693723886470434,
           null
          ],
          [
           null,
           null,
           null,
           0.7769236577046621,
           null
          ],
          [
           null,
           null,
           0.7770958365731356,
           null,
           null
          ],
          [
           null,
           null,
           null,
           0.7749469407131356,
           null
          ],
          [
           null,
           null,
           null,
           0.7840576009941699,
           null
          ],
          [
           null,
           null,
           null,
           0.7691960130324437,
           null
          ],
          [
           null,
           0.7719158000219626,
           null,
           null,
           null
          ],
          [
           null,
           null,
           null,
           0.7678034733060729,
           null
          ],
          [
           null,
           null,
           null,
           0.7765272935669362,
           null
          ],
          [
           null,
           null,
           null,
           0.7780315634494424,
           null
          ],
          [
           null,
           0.7790490881915226,
           null,
           null,
           null
          ],
          [
           null,
           null,
           0.7891985003942881,
           null,
           null
          ],
          [
           null,
           null,
           0.7732189679486838,
           null,
           null
          ],
          [
           null,
           null,
           null,
           0.7712164264010825,
           null
          ],
          [
           null,
           0.7691260276919777,
           null,
           null,
           null
          ],
          [
           null,
           null,
           null,
           0.7728030794768818,
           null
          ],
          [
           null,
           null,
           null,
           0.7687012057487496,
           null
          ],
          [
           null,
           null,
           null,
           0.7734041292162833,
           null
          ],
          [
           null,
           null,
           null,
           0.7928278807463213,
           null
          ],
          [
           null,
           null,
           null,
           null,
           null
          ]
         ]
        },
        {
         "marker": {
          "color": "black",
          "line": {
           "color": "Gray",
           "width": 2
          }
         },
         "mode": "markers",
         "name": "Feasible Trial",
         "showlegend": false,
         "type": "scatter",
         "x": [
          10,
          20,
          100,
          10,
          100,
          20,
          100,
          100,
          100,
          10,
          100,
          20,
          20,
          20,
          20,
          100,
          100,
          100,
          100,
          100,
          100,
          100,
          100,
          100,
          100,
          10,
          100,
          100,
          100,
          10,
          100,
          100,
          100,
          100,
          100,
          10,
          100,
          100,
          100,
          100,
          10,
          100,
          100,
          100,
          100,
          20,
          100,
          100,
          20,
          100
         ],
         "xaxis": "x10",
         "y": [
          482,
          121,
          124,
          819,
          630,
          617,
          691,
          581,
          295,
          61,
          999,
          475,
          352,
          677,
          847,
          885,
          973,
          978,
          272,
          791,
          561,
          307,
          394,
          215,
          175,
          6,
          757,
          926,
          700,
          749,
          491,
          553,
          535,
          412,
          425,
          923,
          767,
          447,
          527,
          532,
          607,
          642,
          383,
          720,
          520,
          822,
          654,
          593,
          481,
          357
         ],
         "yaxis": "y10"
        },
        {
         "colorbar": {
          "title": {
           "text": "Objective Value"
          }
         },
         "colorscale": [
          [
           0,
           "rgb(247,251,255)"
          ],
          [
           0.125,
           "rgb(222,235,247)"
          ],
          [
           0.25,
           "rgb(198,219,239)"
          ],
          [
           0.375,
           "rgb(158,202,225)"
          ],
          [
           0.5,
           "rgb(107,174,214)"
          ],
          [
           0.625,
           "rgb(66,146,198)"
          ],
          [
           0.75,
           "rgb(33,113,181)"
          ],
          [
           0.875,
           "rgb(8,81,156)"
          ],
          [
           1,
           "rgb(8,48,107)"
          ]
         ],
         "connectgaps": true,
         "contours": {
          "coloring": "heatmap"
         },
         "hoverinfo": "none",
         "line": {
          "smoothing": 1.3
         },
         "reversescale": true,
         "showscale": false,
         "type": "contour",
         "x": [
          5.5,
          10,
          20,
          100,
          104.5
         ],
         "xaxis": "x14",
         "y": [
          0.37,
          0.4,
          0.5,
          0.6,
          0.7,
          0.8,
          1,
          1.03
         ],
         "yaxis": "y14",
         "z": [
          [
           null,
           null,
           null,
           null,
           null
          ],
          [
           null,
           null,
           0.7732189679486838,
           0.7784206185854418,
           null
          ],
          [
           null,
           0.7719158000219626,
           null,
           0.7722497402191534,
           null
          ],
          [
           null,
           0.7812132191949707,
           null,
           0.7687012057487496,
           null
          ],
          [
           null,
           0.7811095536430753,
           null,
           0.7691960130324437,
           null
          ],
          [
           null,
           0.7790490881915226,
           0.7762127455141076,
           0.7692563142485178,
           null
          ],
          [
           null,
           0.7691260276919777,
           0.7756924077485792,
           0.766204846755063,
           null
          ],
          [
           null,
           null,
           null,
           null,
           null
          ]
         ]
        },
        {
         "marker": {
          "color": "black",
          "line": {
           "color": "Gray",
           "width": 2
          }
         },
         "mode": "markers",
         "name": "Feasible Trial",
         "showlegend": false,
         "type": "scatter",
         "x": [
          10,
          20,
          100,
          10,
          100,
          20,
          100,
          100,
          100,
          10,
          100,
          20,
          20,
          20,
          20,
          100,
          100,
          100,
          100,
          100,
          100,
          100,
          100,
          100,
          100,
          10,
          100,
          100,
          100,
          10,
          100,
          100,
          100,
          100,
          100,
          10,
          100,
          100,
          100,
          100,
          10,
          100,
          100,
          100,
          100,
          20,
          100,
          100,
          20,
          100
         ],
         "xaxis": "x14",
         "y": [
          0.5,
          0.4,
          0.7,
          0.8,
          0.4,
          0.4,
          0.5,
          0.8,
          0.5,
          0.7,
          0.6,
          1,
          0.8,
          0.8,
          0.4,
          0.6,
          0.6,
          0.6,
          1,
          0.6,
          0.8,
          1,
          1,
          1,
          0.8,
          0.6,
          1,
          0.7,
          0.6,
          0.5,
          0.8,
          1,
          1,
          1,
          1,
          1,
          1,
          1,
          1,
          1,
          1,
          1,
          0.4,
          0.7,
          0.5,
          1,
          1,
          0.6,
          0.4,
          1
         ],
         "yaxis": "y14"
        },
        {
         "colorbar": {
          "title": {
           "text": "Objective Value"
          }
         },
         "colorscale": [
          [
           0,
           "rgb(247,251,255)"
          ],
          [
           0.125,
           "rgb(222,235,247)"
          ],
          [
           0.25,
           "rgb(198,219,239)"
          ],
          [
           0.375,
           "rgb(158,202,225)"
          ],
          [
           0.5,
           "rgb(107,174,214)"
          ],
          [
           0.625,
           "rgb(66,146,198)"
          ],
          [
           0.75,
           "rgb(33,113,181)"
          ],
          [
           0.875,
           "rgb(8,81,156)"
          ],
          [
           1,
           "rgb(8,48,107)"
          ]
         ],
         "connectgaps": true,
         "contours": {
          "coloring": "heatmap"
         },
         "hoverinfo": "none",
         "line": {
          "smoothing": 1.3
         },
         "reversescale": true,
         "showscale": false,
         "type": "contour",
         "x": [
          -43.650000000000006,
          6,
          61,
          121,
          124,
          175,
          215,
          272,
          295,
          307,
          352,
          357,
          383,
          394,
          412,
          425,
          447,
          475,
          481,
          482,
          491,
          520,
          527,
          532,
          535,
          553,
          561,
          581,
          593,
          607,
          617,
          630,
          642,
          654,
          677,
          691,
          700,
          720,
          749,
          757,
          767,
          791,
          819,
          822,
          847,
          885,
          923,
          926,
          973,
          978,
          999,
          1048.65
         ],
         "xaxis": "x3",
         "y": [
          0.0053,
          0.006,
          0.008,
          0.01,
          0.014,
          0.017,
          0.02,
          0.0207
         ],
         "yaxis": "y3",
         "z": [
          [
           null,
           null,
           null,
           null,
           null,
           null,
           null,
           null,
           null,
           null,
           null,
           null,
           null,
           null,
           null,
           null,
           null,
           null,
           null,
           null,
           null,
           null,
           null,
           null,
           null,
           null,
           null,
           null,
           null,
           null,
           null,
           null,
           null,
           null,
           null,
           null,
           null,
           null,
           null,
           null,
           null,
           null,
           null,
           null,
           null,
           null,
           null,
           null,
           null,
           null,
           null,
           null
          ],
          [
           null,
           null,
           null,
           null,
           null,
           null,
           null,
           null,
           null,
           null,
           null,
           null,
           null,
           null,
           null,
           null,
           null,
           0.7756924077485792,
           null,
           null,
           null,
           0.7722497402191534,
           null,
           null,
           null,
           null,
           null,
           null,
           null,
           null,
           null,
           null,
           null,
           null,
           0.7770958365731356,
           null,
           null,
           null,
           null,
           null,
           null,
           null,
           null,
           null,
           null,
           null,
           null,
           null,
           null,
           null,
           null,
           null
          ],
          [
           null,
           null,
           null,
           null,
           null,
           null,
           null,
           null,
           null,
           null,
           null,
           null,
           null,
           null,
           null,
           null,
           null,
           null,
           null,
           0.7800067347362362,
           0.7749123434394066,
           null,
           null,
           null,
           null,
           null,
           0.7748932478837119,
           null,
           0.7741012905037967,
           null,
           null,
           null,
           null,
           null,
           null,
           null,
           null,
           null,
           null,
           null,
           null,
           0.7780315634494424,
           null,
           null,
           0.7732189679486838,
           0.7712164264010825,
           null,
           null,
           0.7687012057487496,
           null,
           null,
           null
          ],
          [
           null,
           null,
           null,
           null,
           null,
           null,
           null,
           null,
           null,
           null,
           null,
           null,
           null,
           null,
           null,
           null,
           null,
           null,
           0.7765349314432758,
           null,
           null,
           null,
           0.7680909553912157,
           0.7691613800569521,
           null,
           null,
           null,
           null,
           null,
           0.7730373500104004,
           null,
           0.7784206185854418,
           0.7693723886470434,
           null,
           null,
           0.7749469407131356,
           0.7840576009941699,
           null,
           0.7719158000219626,
           0.7678034733060729,
           null,
           null,
           null,
           0.7891985003942881,
           null,
           null,
           null,
           0.7728030794768818,
           null,
           null,
           null,
           null
          ],
          [
           null,
           null,
           null,
           null,
           0.7790055501201408,
           null,
           null,
           null,
           0.7763357647348923,
           null,
           null,
           0.7679239731900502,
           0.781815760347137,
           null,
           null,
           null,
           null,
           null,
           null,
           null,
           null,
           null,
           null,
           null,
           null,
           null,
           null,
           null,
           null,
           null,
           0.7736150854043594,
           null,
           null,
           null,
           null,
           null,
           null,
           null,
           null,
           null,
           null,
           null,
           0.7790490881915226,
           null,
           null,
           null,
           null,
           null,
           null,
           null,
           null,
           null
          ],
          [
           null,
           null,
           null,
           null,
           null,
           null,
           null,
           null,
           null,
           null,
           null,
           null,
           null,
           null,
           0.766204846755063,
           0.7702985423282861,
           0.7709279821533515,
           null,
           null,
           null,
           null,
           null,
           null,
           null,
           0.7683297220215164,
           0.7690424451914117,
           null,
           null,
           null,
           null,
           null,
           null,
           null,
           0.7769236577046621,
           null,
           null,
           null,
           0.7691960130324437,
           null,
           null,
           0.7765272935669362,
           null,
           null,
           null,
           null,
           null,
           0.7691260276919777,
           null,
           null,
           0.7734041292162833,
           0.7928278807463213,
           null
          ],
          [
           null,
           0.7812132191949707,
           0.7811095536430753,
           0.7750502848875352,
           null,
           0.7740931531287272,
           0.7699276703357122,
           0.7704396265169063,
           null,
           0.7701331757598587,
           0.7762127455141076,
           null,
           null,
           0.7723779262820942,
           null,
           null,
           null,
           null,
           null,
           null,
           null,
           null,
           null,
           null,
           null,
           null,
           null,
           0.7692563142485178,
           null,
           null,
           null,
           null,
           null,
           null,
           null,
           null,
           null,
           null,
           null,
           null,
           null,
           null,
           null,
           null,
           null,
           null,
           null,
           null,
           null,
           null,
           null,
           null
          ],
          [
           null,
           null,
           null,
           null,
           null,
           null,
           null,
           null,
           null,
           null,
           null,
           null,
           null,
           null,
           null,
           null,
           null,
           null,
           null,
           null,
           null,
           null,
           null,
           null,
           null,
           null,
           null,
           null,
           null,
           null,
           null,
           null,
           null,
           null,
           null,
           null,
           null,
           null,
           null,
           null,
           null,
           null,
           null,
           null,
           null,
           null,
           null,
           null,
           null,
           null,
           null,
           null
          ]
         ]
        },
        {
         "marker": {
          "color": "black",
          "line": {
           "color": "Gray",
           "width": 2
          }
         },
         "mode": "markers",
         "name": "Feasible Trial",
         "showlegend": false,
         "type": "scatter",
         "x": [
          482,
          121,
          124,
          819,
          630,
          617,
          691,
          581,
          295,
          61,
          999,
          475,
          352,
          677,
          847,
          885,
          973,
          978,
          272,
          791,
          561,
          307,
          394,
          215,
          175,
          6,
          757,
          926,
          700,
          749,
          491,
          553,
          535,
          412,
          425,
          923,
          767,
          447,
          527,
          532,
          607,
          642,
          383,
          720,
          520,
          822,
          654,
          593,
          481,
          357
         ],
         "xaxis": "x3",
         "y": [
          0.008,
          0.02,
          0.014,
          0.014,
          0.01,
          0.014,
          0.01,
          0.02,
          0.014,
          0.02,
          0.017,
          0.006,
          0.02,
          0.006,
          0.008,
          0.008,
          0.008,
          0.017,
          0.02,
          0.008,
          0.008,
          0.02,
          0.02,
          0.02,
          0.02,
          0.02,
          0.01,
          0.01,
          0.01,
          0.01,
          0.008,
          0.017,
          0.017,
          0.017,
          0.017,
          0.017,
          0.017,
          0.017,
          0.01,
          0.01,
          0.01,
          0.01,
          0.014,
          0.017,
          0.006,
          0.01,
          0.017,
          0.008,
          0.01,
          0.014
         ],
         "yaxis": "y3"
        },
        {
         "colorbar": {
          "title": {
           "text": "Objective Value"
          }
         },
         "colorscale": [
          [
           0,
           "rgb(247,251,255)"
          ],
          [
           0.125,
           "rgb(222,235,247)"
          ],
          [
           0.25,
           "rgb(198,219,239)"
          ],
          [
           0.375,
           "rgb(158,202,225)"
          ],
          [
           0.5,
           "rgb(107,174,214)"
          ],
          [
           0.625,
           "rgb(66,146,198)"
          ],
          [
           0.75,
           "rgb(33,113,181)"
          ],
          [
           0.875,
           "rgb(8,81,156)"
          ],
          [
           1,
           "rgb(8,48,107)"
          ]
         ],
         "connectgaps": true,
         "contours": {
          "coloring": "heatmap"
         },
         "hoverinfo": "none",
         "line": {
          "smoothing": 1.3
         },
         "reversescale": true,
         "showscale": false,
         "type": "contour",
         "x": [
          -43.650000000000006,
          6,
          61,
          121,
          124,
          175,
          215,
          272,
          295,
          307,
          352,
          357,
          383,
          394,
          412,
          425,
          447,
          475,
          481,
          482,
          491,
          520,
          527,
          532,
          535,
          553,
          561,
          581,
          593,
          607,
          617,
          630,
          642,
          654,
          677,
          691,
          700,
          720,
          749,
          757,
          767,
          791,
          819,
          822,
          847,
          885,
          923,
          926,
          973,
          978,
          999,
          1048.65
         ],
         "xaxis": "x7",
         "y": [
          5.5,
          10,
          20,
          100,
          104.5
         ],
         "yaxis": "y7",
         "z": [
          [
           null,
           null,
           null,
           null,
           null,
           null,
           null,
           null,
           null,
           null,
           null,
           null,
           null,
           null,
           null,
           null,
           null,
           null,
           null,
           null,
           null,
           null,
           null,
           null,
           null,
           null,
           null,
           null,
           null,
           null,
           null,
           null,
           null,
           null,
           null,
           null,
           null,
           null,
           null,
           null,
           null,
           null,
           null,
           null,
           null,
           null,
           null,
           null,
           null,
           null,
           null,
           null
          ],
          [
           null,
           0.7812132191949707,
           0.7811095536430753,
           null,
           null,
           null,
           null,
           null,
           null,
           null,
           null,
           null,
           null,
           null,
           null,
           null,
           null,
           null,
           null,
           0.7800067347362362,
           null,
           null,
           null,
           null,
           null,
           null,
           null,
           null,
           null,
           0.7730373500104004,
           null,
           null,
           null,
           null,
           null,
           null,
           null,
           null,
           0.7719158000219626,
           null,
           null,
           null,
           0.7790490881915226,
           null,
           null,
           null,
           0.7691260276919777,
           null,
           null,
           null,
           null,
           null
          ],
          [
           null,
           null,
           null,
           0.7750502848875352,
           null,
           null,
           null,
           null,
           null,
           null,
           0.7762127455141076,
           null,
           null,
           null,
           null,
           null,
           null,
           0.7756924077485792,
           0.7765349314432758,
           null,
           null,
           null,
           null,
           null,
           null,
           null,
           null,
           null,
           null,
           null,
           0.7736150854043594,
           null,
           null,
           null,
           0.7770958365731356,
           null,
           null,
           null,
           null,
           null,
           null,
           null,
           null,
           0.7891985003942881,
           0.7732189679486838,
           null,
           null,
           null,
           null,
           null,
           null,
           null
          ],
          [
           null,
           null,
           null,
           null,
           0.7790055501201408,
           0.7740931531287272,
           0.7699276703357122,
           0.7704396265169063,
           0.7763357647348923,
           0.7701331757598587,
           null,
           0.7679239731900502,
           0.781815760347137,
           0.7723779262820942,
           0.766204846755063,
           0.7702985423282861,
           0.7709279821533515,
           null,
           null,
           null,
           0.7749123434394066,
           0.7722497402191534,
           0.7680909553912157,
           0.7691613800569521,
           0.7683297220215164,
           0.7690424451914117,
           0.7748932478837119,
           0.7692563142485178,
           0.7741012905037967,
           null,
           null,
           0.7784206185854418,
           0.7693723886470434,
           0.7769236577046621,
           null,
           0.7749469407131356,
           0.7840576009941699,
           0.7691960130324437,
           null,
           0.7678034733060729,
           0.7765272935669362,
           0.7780315634494424,
           null,
           null,
           null,
           0.7712164264010825,
           null,
           0.7728030794768818,
           0.7687012057487496,
           0.7734041292162833,
           0.7928278807463213,
           null
          ],
          [
           null,
           null,
           null,
           null,
           null,
           null,
           null,
           null,
           null,
           null,
           null,
           null,
           null,
           null,
           null,
           null,
           null,
           null,
           null,
           null,
           null,
           null,
           null,
           null,
           null,
           null,
           null,
           null,
           null,
           null,
           null,
           null,
           null,
           null,
           null,
           null,
           null,
           null,
           null,
           null,
           null,
           null,
           null,
           null,
           null,
           null,
           null,
           null,
           null,
           null,
           null,
           null
          ]
         ]
        },
        {
         "marker": {
          "color": "black",
          "line": {
           "color": "Gray",
           "width": 2
          }
         },
         "mode": "markers",
         "name": "Feasible Trial",
         "showlegend": false,
         "type": "scatter",
         "x": [
          482,
          121,
          124,
          819,
          630,
          617,
          691,
          581,
          295,
          61,
          999,
          475,
          352,
          677,
          847,
          885,
          973,
          978,
          272,
          791,
          561,
          307,
          394,
          215,
          175,
          6,
          757,
          926,
          700,
          749,
          491,
          553,
          535,
          412,
          425,
          923,
          767,
          447,
          527,
          532,
          607,
          642,
          383,
          720,
          520,
          822,
          654,
          593,
          481,
          357
         ],
         "xaxis": "x7",
         "y": [
          10,
          20,
          100,
          10,
          100,
          20,
          100,
          100,
          100,
          10,
          100,
          20,
          20,
          20,
          20,
          100,
          100,
          100,
          100,
          100,
          100,
          100,
          100,
          100,
          100,
          10,
          100,
          100,
          100,
          10,
          100,
          100,
          100,
          100,
          100,
          10,
          100,
          100,
          100,
          100,
          10,
          100,
          100,
          100,
          100,
          20,
          100,
          100,
          20,
          100
         ],
         "yaxis": "y7"
        },
        {
         "type": "scatter",
         "xaxis": "x11",
         "yaxis": "y11"
        },
        {
         "colorbar": {
          "title": {
           "text": "Objective Value"
          }
         },
         "colorscale": [
          [
           0,
           "rgb(247,251,255)"
          ],
          [
           0.125,
           "rgb(222,235,247)"
          ],
          [
           0.25,
           "rgb(198,219,239)"
          ],
          [
           0.375,
           "rgb(158,202,225)"
          ],
          [
           0.5,
           "rgb(107,174,214)"
          ],
          [
           0.625,
           "rgb(66,146,198)"
          ],
          [
           0.75,
           "rgb(33,113,181)"
          ],
          [
           0.875,
           "rgb(8,81,156)"
          ],
          [
           1,
           "rgb(8,48,107)"
          ]
         ],
         "connectgaps": true,
         "contours": {
          "coloring": "heatmap"
         },
         "hoverinfo": "none",
         "line": {
          "smoothing": 1.3
         },
         "reversescale": true,
         "showscale": false,
         "type": "contour",
         "x": [
          -43.650000000000006,
          6,
          61,
          121,
          124,
          175,
          215,
          272,
          295,
          307,
          352,
          357,
          383,
          394,
          412,
          425,
          447,
          475,
          481,
          482,
          491,
          520,
          527,
          532,
          535,
          553,
          561,
          581,
          593,
          607,
          617,
          630,
          642,
          654,
          677,
          691,
          700,
          720,
          749,
          757,
          767,
          791,
          819,
          822,
          847,
          885,
          923,
          926,
          973,
          978,
          999,
          1048.65
         ],
         "xaxis": "x15",
         "y": [
          0.37,
          0.4,
          0.5,
          0.6,
          0.7,
          0.8,
          1,
          1.03
         ],
         "yaxis": "y15",
         "z": [
          [
           null,
           null,
           null,
           null,
           null,
           null,
           null,
           null,
           null,
           null,
           null,
           null,
           null,
           null,
           null,
           null,
           null,
           null,
           null,
           null,
           null,
           null,
           null,
           null,
           null,
           null,
           null,
           null,
           null,
           null,
           null,
           null,
           null,
           null,
           null,
           null,
           null,
           null,
           null,
           null,
           null,
           null,
           null,
           null,
           null,
           null,
           null,
           null,
           null,
           null,
           null,
           null
          ],
          [
           null,
           null,
           null,
           0.7750502848875352,
           null,
           null,
           null,
           null,
           null,
           null,
           null,
           null,
           0.781815760347137,
           null,
           null,
           null,
           null,
           null,
           0.7765349314432758,
           null,
           null,
           null,
           null,
           null,
           null,
           null,
           null,
           null,
           null,
           null,
           0.7736150854043594,
           0.7784206185854418,
           null,
           null,
           null,
           null,
           null,
           null,
           null,
           null,
           null,
           null,
           null,
           null,
           0.7732189679486838,
           null,
           null,
           null,
           null,
           null,
           null,
           null
          ],
          [
           null,
           null,
           null,
           null,
           null,
           null,
           null,
           null,
           0.7763357647348923,
           null,
           null,
           null,
           null,
           null,
           null,
           null,
           null,
           null,
           null,
           0.7800067347362362,
           null,
           0.7722497402191534,
           null,
           null,
           null,
           null,
           null,
           null,
           null,
           null,
           null,
           null,
           null,
           null,
           null,
           0.7749469407131356,
           null,
           null,
           0.7719158000219626,
           null,
           null,
           null,
           null,
           null,
           null,
           null,
           null,
           null,
           null,
           null,
           null,
           null
          ],
          [
           null,
           0.7812132191949707,
           null,
           null,
           null,
           null,
           null,
           null,
           null,
           null,
           null,
           null,
           null,
           null,
           null,
           null,
           null,
           null,
           null,
           null,
           null,
           null,
           null,
           null,
           null,
           null,
           null,
           null,
           0.7741012905037967,
           null,
           null,
           null,
           null,
           null,
           null,
           null,
           0.7840576009941699,
           null,
           null,
           null,
           null,
           0.7780315634494424,
           null,
           null,
           null,
           0.7712164264010825,
           null,
           null,
           0.7687012057487496,
           0.7734041292162833,
           0.7928278807463213,
           null
          ],
          [
           null,
           null,
           0.7811095536430753,
           null,
           0.7790055501201408,
           null,
           null,
           null,
           null,
           null,
           null,
           null,
           null,
           null,
           null,
           null,
           null,
           null,
           null,
           null,
           null,
           null,
           null,
           null,
           null,
           null,
           null,
           null,
           null,
           null,
           null,
           null,
           null,
           null,
           null,
           null,
           null,
           0.7691960130324437,
           null,
           null,
           null,
           null,
           null,
           null,
           null,
           null,
           null,
           0.7728030794768818,
           null,
           null,
           null,
           null
          ],
          [
           null,
           null,
           null,
           null,
           null,
           0.7740931531287272,
           null,
           null,
           null,
           null,
           0.7762127455141076,
           null,
           null,
           null,
           null,
           null,
           null,
           null,
           null,
           null,
           0.7749123434394066,
           null,
           null,
           null,
           null,
           null,
           0.7748932478837119,
           0.7692563142485178,
           null,
           null,
           null,
           null,
           null,
           null,
           0.7770958365731356,
           null,
           null,
           null,
           null,
           null,
           null,
           null,
           0.7790490881915226,
           null,
           null,
           null,
           null,
           null,
           null,
           null,
           null,
           null
          ],
          [
           null,
           null,
           null,
           null,
           null,
           null,
           0.7699276703357122,
           0.7704396265169063,
           null,
           0.7701331757598587,
           null,
           0.7679239731900502,
           null,
           0.7723779262820942,
           0.766204846755063,
           0.7702985423282861,
           0.7709279821533515,
           0.7756924077485792,
           null,
           null,
           null,
           null,
           0.7680909553912157,
           0.7691613800569521,
           0.7683297220215164,
           0.7690424451914117,
           null,
           null,
           null,
           0.7730373500104004,
           null,
           null,
           0.7693723886470434,
           0.7769236577046621,
           null,
           null,
           null,
           null,
           null,
           0.7678034733060729,
           0.7765272935669362,
           null,
           null,
           0.7891985003942881,
           null,
           null,
           0.7691260276919777,
           null,
           null,
           null,
           null,
           null
          ],
          [
           null,
           null,
           null,
           null,
           null,
           null,
           null,
           null,
           null,
           null,
           null,
           null,
           null,
           null,
           null,
           null,
           null,
           null,
           null,
           null,
           null,
           null,
           null,
           null,
           null,
           null,
           null,
           null,
           null,
           null,
           null,
           null,
           null,
           null,
           null,
           null,
           null,
           null,
           null,
           null,
           null,
           null,
           null,
           null,
           null,
           null,
           null,
           null,
           null,
           null,
           null,
           null
          ]
         ]
        },
        {
         "marker": {
          "color": "black",
          "line": {
           "color": "Gray",
           "width": 2
          }
         },
         "mode": "markers",
         "name": "Feasible Trial",
         "showlegend": false,
         "type": "scatter",
         "x": [
          482,
          121,
          124,
          819,
          630,
          617,
          691,
          581,
          295,
          61,
          999,
          475,
          352,
          677,
          847,
          885,
          973,
          978,
          272,
          791,
          561,
          307,
          394,
          215,
          175,
          6,
          757,
          926,
          700,
          749,
          491,
          553,
          535,
          412,
          425,
          923,
          767,
          447,
          527,
          532,
          607,
          642,
          383,
          720,
          520,
          822,
          654,
          593,
          481,
          357
         ],
         "xaxis": "x15",
         "y": [
          0.5,
          0.4,
          0.7,
          0.8,
          0.4,
          0.4,
          0.5,
          0.8,
          0.5,
          0.7,
          0.6,
          1,
          0.8,
          0.8,
          0.4,
          0.6,
          0.6,
          0.6,
          1,
          0.6,
          0.8,
          1,
          1,
          1,
          0.8,
          0.6,
          1,
          0.7,
          0.6,
          0.5,
          0.8,
          1,
          1,
          1,
          1,
          1,
          1,
          1,
          1,
          1,
          1,
          1,
          0.4,
          0.7,
          0.5,
          1,
          1,
          0.6,
          0.4,
          1
         ],
         "yaxis": "y15"
        },
        {
         "colorbar": {
          "title": {
           "text": "Objective Value"
          }
         },
         "colorscale": [
          [
           0,
           "rgb(247,251,255)"
          ],
          [
           0.125,
           "rgb(222,235,247)"
          ],
          [
           0.25,
           "rgb(198,219,239)"
          ],
          [
           0.375,
           "rgb(158,202,225)"
          ],
          [
           0.5,
           "rgb(107,174,214)"
          ],
          [
           0.625,
           "rgb(66,146,198)"
          ],
          [
           0.75,
           "rgb(33,113,181)"
          ],
          [
           0.875,
           "rgb(8,81,156)"
          ],
          [
           1,
           "rgb(8,48,107)"
          ]
         ],
         "connectgaps": true,
         "contours": {
          "coloring": "heatmap"
         },
         "hoverinfo": "none",
         "line": {
          "smoothing": 1.3
         },
         "reversescale": true,
         "showscale": false,
         "type": "contour",
         "x": [
          0.37,
          0.4,
          0.5,
          0.6,
          0.7,
          0.8,
          1,
          1.03
         ],
         "xaxis": "x4",
         "y": [
          0.0053,
          0.006,
          0.008,
          0.01,
          0.014,
          0.017,
          0.02,
          0.0207
         ],
         "yaxis": "y4",
         "z": [
          [
           null,
           null,
           null,
           null,
           null,
           null,
           null,
           null
          ],
          [
           null,
           null,
           0.7722497402191534,
           null,
           null,
           0.7770958365731356,
           0.7756924077485792,
           null
          ],
          [
           null,
           0.7732189679486838,
           0.7800067347362362,
           0.7687012057487496,
           null,
           0.7748932478837119,
           null,
           null
          ],
          [
           null,
           0.7765349314432758,
           0.7719158000219626,
           0.7840576009941699,
           0.7728030794768818,
           null,
           0.7678034733060729,
           null
          ],
          [
           null,
           0.7736150854043594,
           0.7763357647348923,
           null,
           0.7790055501201408,
           0.7790490881915226,
           0.7679239731900502,
           null
          ],
          [
           null,
           null,
           null,
           0.7734041292162833,
           0.7691960130324437,
           null,
           0.766204846755063,
           null
          ],
          [
           null,
           0.7750502848875352,
           null,
           0.7812132191949707,
           0.7811095536430753,
           0.7692563142485178,
           0.7699276703357122,
           null
          ],
          [
           null,
           null,
           null,
           null,
           null,
           null,
           null,
           null
          ]
         ]
        },
        {
         "marker": {
          "color": "black",
          "line": {
           "color": "Gray",
           "width": 2
          }
         },
         "mode": "markers",
         "name": "Feasible Trial",
         "showlegend": false,
         "type": "scatter",
         "x": [
          0.5,
          0.4,
          0.7,
          0.8,
          0.4,
          0.4,
          0.5,
          0.8,
          0.5,
          0.7,
          0.6,
          1,
          0.8,
          0.8,
          0.4,
          0.6,
          0.6,
          0.6,
          1,
          0.6,
          0.8,
          1,
          1,
          1,
          0.8,
          0.6,
          1,
          0.7,
          0.6,
          0.5,
          0.8,
          1,
          1,
          1,
          1,
          1,
          1,
          1,
          1,
          1,
          1,
          1,
          0.4,
          0.7,
          0.5,
          1,
          1,
          0.6,
          0.4,
          1
         ],
         "xaxis": "x4",
         "y": [
          0.008,
          0.02,
          0.014,
          0.014,
          0.01,
          0.014,
          0.01,
          0.02,
          0.014,
          0.02,
          0.017,
          0.006,
          0.02,
          0.006,
          0.008,
          0.008,
          0.008,
          0.017,
          0.02,
          0.008,
          0.008,
          0.02,
          0.02,
          0.02,
          0.02,
          0.02,
          0.01,
          0.01,
          0.01,
          0.01,
          0.008,
          0.017,
          0.017,
          0.017,
          0.017,
          0.017,
          0.017,
          0.017,
          0.01,
          0.01,
          0.01,
          0.01,
          0.014,
          0.017,
          0.006,
          0.01,
          0.017,
          0.008,
          0.01,
          0.014
         ],
         "yaxis": "y4"
        },
        {
         "colorbar": {
          "title": {
           "text": "Objective Value"
          }
         },
         "colorscale": [
          [
           0,
           "rgb(247,251,255)"
          ],
          [
           0.125,
           "rgb(222,235,247)"
          ],
          [
           0.25,
           "rgb(198,219,239)"
          ],
          [
           0.375,
           "rgb(158,202,225)"
          ],
          [
           0.5,
           "rgb(107,174,214)"
          ],
          [
           0.625,
           "rgb(66,146,198)"
          ],
          [
           0.75,
           "rgb(33,113,181)"
          ],
          [
           0.875,
           "rgb(8,81,156)"
          ],
          [
           1,
           "rgb(8,48,107)"
          ]
         ],
         "connectgaps": true,
         "contours": {
          "coloring": "heatmap"
         },
         "hoverinfo": "none",
         "line": {
          "smoothing": 1.3
         },
         "reversescale": true,
         "showscale": false,
         "type": "contour",
         "x": [
          0.37,
          0.4,
          0.5,
          0.6,
          0.7,
          0.8,
          1,
          1.03
         ],
         "xaxis": "x8",
         "y": [
          5.5,
          10,
          20,
          100,
          104.5
         ],
         "yaxis": "y8",
         "z": [
          [
           null,
           null,
           null,
           null,
           null,
           null,
           null,
           null
          ],
          [
           null,
           null,
           0.7719158000219626,
           0.7812132191949707,
           0.7811095536430753,
           0.7790490881915226,
           0.7691260276919777,
           null
          ],
          [
           null,
           0.7732189679486838,
           null,
           null,
           null,
           0.7762127455141076,
           0.7756924077485792,
           null
          ],
          [
           null,
           0.7784206185854418,
           0.7722497402191534,
           0.7687012057487496,
           0.7691960130324437,
           0.7692563142485178,
           0.766204846755063,
           null
          ],
          [
           null,
           null,
           null,
           null,
           null,
           null,
           null,
           null
          ]
         ]
        },
        {
         "marker": {
          "color": "black",
          "line": {
           "color": "Gray",
           "width": 2
          }
         },
         "mode": "markers",
         "name": "Feasible Trial",
         "showlegend": false,
         "type": "scatter",
         "x": [
          0.5,
          0.4,
          0.7,
          0.8,
          0.4,
          0.4,
          0.5,
          0.8,
          0.5,
          0.7,
          0.6,
          1,
          0.8,
          0.8,
          0.4,
          0.6,
          0.6,
          0.6,
          1,
          0.6,
          0.8,
          1,
          1,
          1,
          0.8,
          0.6,
          1,
          0.7,
          0.6,
          0.5,
          0.8,
          1,
          1,
          1,
          1,
          1,
          1,
          1,
          1,
          1,
          1,
          1,
          0.4,
          0.7,
          0.5,
          1,
          1,
          0.6,
          0.4,
          1
         ],
         "xaxis": "x8",
         "y": [
          10,
          20,
          100,
          10,
          100,
          20,
          100,
          100,
          100,
          10,
          100,
          20,
          20,
          20,
          20,
          100,
          100,
          100,
          100,
          100,
          100,
          100,
          100,
          100,
          100,
          10,
          100,
          100,
          100,
          10,
          100,
          100,
          100,
          100,
          100,
          10,
          100,
          100,
          100,
          100,
          10,
          100,
          100,
          100,
          100,
          20,
          100,
          100,
          20,
          100
         ],
         "yaxis": "y8"
        },
        {
         "colorbar": {
          "title": {
           "text": "Objective Value"
          }
         },
         "colorscale": [
          [
           0,
           "rgb(247,251,255)"
          ],
          [
           0.125,
           "rgb(222,235,247)"
          ],
          [
           0.25,
           "rgb(198,219,239)"
          ],
          [
           0.375,
           "rgb(158,202,225)"
          ],
          [
           0.5,
           "rgb(107,174,214)"
          ],
          [
           0.625,
           "rgb(66,146,198)"
          ],
          [
           0.75,
           "rgb(33,113,181)"
          ],
          [
           0.875,
           "rgb(8,81,156)"
          ],
          [
           1,
           "rgb(8,48,107)"
          ]
         ],
         "connectgaps": true,
         "contours": {
          "coloring": "heatmap"
         },
         "hoverinfo": "none",
         "line": {
          "smoothing": 1.3
         },
         "reversescale": true,
         "showscale": false,
         "type": "contour",
         "x": [
          0.37,
          0.4,
          0.5,
          0.6,
          0.7,
          0.8,
          1,
          1.03
         ],
         "xaxis": "x12",
         "y": [
          -43.650000000000006,
          6,
          61,
          121,
          124,
          175,
          215,
          272,
          295,
          307,
          352,
          357,
          383,
          394,
          412,
          425,
          447,
          475,
          481,
          482,
          491,
          520,
          527,
          532,
          535,
          553,
          561,
          581,
          593,
          607,
          617,
          630,
          642,
          654,
          677,
          691,
          700,
          720,
          749,
          757,
          767,
          791,
          819,
          822,
          847,
          885,
          923,
          926,
          973,
          978,
          999,
          1048.65
         ],
         "yaxis": "y12",
         "z": [
          [
           null,
           null,
           null,
           null,
           null,
           null,
           null,
           null
          ],
          [
           null,
           null,
           null,
           0.7812132191949707,
           null,
           null,
           null,
           null
          ],
          [
           null,
           null,
           null,
           null,
           0.7811095536430753,
           null,
           null,
           null
          ],
          [
           null,
           0.7750502848875352,
           null,
           null,
           null,
           null,
           null,
           null
          ],
          [
           null,
           null,
           null,
           null,
           0.7790055501201408,
           null,
           null,
           null
          ],
          [
           null,
           null,
           null,
           null,
           null,
           0.7740931531287272,
           null,
           null
          ],
          [
           null,
           null,
           null,
           null,
           null,
           null,
           0.7699276703357122,
           null
          ],
          [
           null,
           null,
           null,
           null,
           null,
           null,
           0.7704396265169063,
           null
          ],
          [
           null,
           null,
           0.7763357647348923,
           null,
           null,
           null,
           null,
           null
          ],
          [
           null,
           null,
           null,
           null,
           null,
           null,
           0.7701331757598587,
           null
          ],
          [
           null,
           null,
           null,
           null,
           null,
           0.7762127455141076,
           null,
           null
          ],
          [
           null,
           null,
           null,
           null,
           null,
           null,
           0.7679239731900502,
           null
          ],
          [
           null,
           0.781815760347137,
           null,
           null,
           null,
           null,
           null,
           null
          ],
          [
           null,
           null,
           null,
           null,
           null,
           null,
           0.7723779262820942,
           null
          ],
          [
           null,
           null,
           null,
           null,
           null,
           null,
           0.766204846755063,
           null
          ],
          [
           null,
           null,
           null,
           null,
           null,
           null,
           0.7702985423282861,
           null
          ],
          [
           null,
           null,
           null,
           null,
           null,
           null,
           0.7709279821533515,
           null
          ],
          [
           null,
           null,
           null,
           null,
           null,
           null,
           0.7756924077485792,
           null
          ],
          [
           null,
           0.7765349314432758,
           null,
           null,
           null,
           null,
           null,
           null
          ],
          [
           null,
           null,
           0.7800067347362362,
           null,
           null,
           null,
           null,
           null
          ],
          [
           null,
           null,
           null,
           null,
           null,
           0.7749123434394066,
           null,
           null
          ],
          [
           null,
           null,
           0.7722497402191534,
           null,
           null,
           null,
           null,
           null
          ],
          [
           null,
           null,
           null,
           null,
           null,
           null,
           0.7680909553912157,
           null
          ],
          [
           null,
           null,
           null,
           null,
           null,
           null,
           0.7691613800569521,
           null
          ],
          [
           null,
           null,
           null,
           null,
           null,
           null,
           0.7683297220215164,
           null
          ],
          [
           null,
           null,
           null,
           null,
           null,
           null,
           0.7690424451914117,
           null
          ],
          [
           null,
           null,
           null,
           null,
           null,
           0.7748932478837119,
           null,
           null
          ],
          [
           null,
           null,
           null,
           null,
           null,
           0.7692563142485178,
           null,
           null
          ],
          [
           null,
           null,
           null,
           0.7741012905037967,
           null,
           null,
           null,
           null
          ],
          [
           null,
           null,
           null,
           null,
           null,
           null,
           0.7730373500104004,
           null
          ],
          [
           null,
           0.7736150854043594,
           null,
           null,
           null,
           null,
           null,
           null
          ],
          [
           null,
           0.7784206185854418,
           null,
           null,
           null,
           null,
           null,
           null
          ],
          [
           null,
           null,
           null,
           null,
           null,
           null,
           0.7693723886470434,
           null
          ],
          [
           null,
           null,
           null,
           null,
           null,
           null,
           0.7769236577046621,
           null
          ],
          [
           null,
           null,
           null,
           null,
           null,
           0.7770958365731356,
           null,
           null
          ],
          [
           null,
           null,
           0.7749469407131356,
           null,
           null,
           null,
           null,
           null
          ],
          [
           null,
           null,
           null,
           0.7840576009941699,
           null,
           null,
           null,
           null
          ],
          [
           null,
           null,
           null,
           null,
           0.7691960130324437,
           null,
           null,
           null
          ],
          [
           null,
           null,
           0.7719158000219626,
           null,
           null,
           null,
           null,
           null
          ],
          [
           null,
           null,
           null,
           null,
           null,
           null,
           0.7678034733060729,
           null
          ],
          [
           null,
           null,
           null,
           null,
           null,
           null,
           0.7765272935669362,
           null
          ],
          [
           null,
           null,
           null,
           0.7780315634494424,
           null,
           null,
           null,
           null
          ],
          [
           null,
           null,
           null,
           null,
           null,
           0.7790490881915226,
           null,
           null
          ],
          [
           null,
           null,
           null,
           null,
           null,
           null,
           0.7891985003942881,
           null
          ],
          [
           null,
           0.7732189679486838,
           null,
           null,
           null,
           null,
           null,
           null
          ],
          [
           null,
           null,
           null,
           0.7712164264010825,
           null,
           null,
           null,
           null
          ],
          [
           null,
           null,
           null,
           null,
           null,
           null,
           0.7691260276919777,
           null
          ],
          [
           null,
           null,
           null,
           null,
           0.7728030794768818,
           null,
           null,
           null
          ],
          [
           null,
           null,
           null,
           0.7687012057487496,
           null,
           null,
           null,
           null
          ],
          [
           null,
           null,
           null,
           0.7734041292162833,
           null,
           null,
           null,
           null
          ],
          [
           null,
           null,
           null,
           0.7928278807463213,
           null,
           null,
           null,
           null
          ],
          [
           null,
           null,
           null,
           null,
           null,
           null,
           null,
           null
          ]
         ]
        },
        {
         "marker": {
          "color": "black",
          "line": {
           "color": "Gray",
           "width": 2
          }
         },
         "mode": "markers",
         "name": "Feasible Trial",
         "showlegend": false,
         "type": "scatter",
         "x": [
          0.5,
          0.4,
          0.7,
          0.8,
          0.4,
          0.4,
          0.5,
          0.8,
          0.5,
          0.7,
          0.6,
          1,
          0.8,
          0.8,
          0.4,
          0.6,
          0.6,
          0.6,
          1,
          0.6,
          0.8,
          1,
          1,
          1,
          0.8,
          0.6,
          1,
          0.7,
          0.6,
          0.5,
          0.8,
          1,
          1,
          1,
          1,
          1,
          1,
          1,
          1,
          1,
          1,
          1,
          0.4,
          0.7,
          0.5,
          1,
          1,
          0.6,
          0.4,
          1
         ],
         "xaxis": "x12",
         "y": [
          482,
          121,
          124,
          819,
          630,
          617,
          691,
          581,
          295,
          61,
          999,
          475,
          352,
          677,
          847,
          885,
          973,
          978,
          272,
          791,
          561,
          307,
          394,
          215,
          175,
          6,
          757,
          926,
          700,
          749,
          491,
          553,
          535,
          412,
          425,
          923,
          767,
          447,
          527,
          532,
          607,
          642,
          383,
          720,
          520,
          822,
          654,
          593,
          481,
          357
         ],
         "yaxis": "y12"
        },
        {
         "type": "scatter",
         "xaxis": "x16",
         "yaxis": "y16"
        }
       ],
       "layout": {
        "template": {
         "data": {
          "bar": [
           {
            "error_x": {
             "color": "#2a3f5f"
            },
            "error_y": {
             "color": "#2a3f5f"
            },
            "marker": {
             "line": {
              "color": "#E5ECF6",
              "width": 0.5
             },
             "pattern": {
              "fillmode": "overlay",
              "size": 10,
              "solidity": 0.2
             }
            },
            "type": "bar"
           }
          ],
          "barpolar": [
           {
            "marker": {
             "line": {
              "color": "#E5ECF6",
              "width": 0.5
             },
             "pattern": {
              "fillmode": "overlay",
              "size": 10,
              "solidity": 0.2
             }
            },
            "type": "barpolar"
           }
          ],
          "carpet": [
           {
            "aaxis": {
             "endlinecolor": "#2a3f5f",
             "gridcolor": "white",
             "linecolor": "white",
             "minorgridcolor": "white",
             "startlinecolor": "#2a3f5f"
            },
            "baxis": {
             "endlinecolor": "#2a3f5f",
             "gridcolor": "white",
             "linecolor": "white",
             "minorgridcolor": "white",
             "startlinecolor": "#2a3f5f"
            },
            "type": "carpet"
           }
          ],
          "choropleth": [
           {
            "colorbar": {
             "outlinewidth": 0,
             "ticks": ""
            },
            "type": "choropleth"
           }
          ],
          "contour": [
           {
            "colorbar": {
             "outlinewidth": 0,
             "ticks": ""
            },
            "colorscale": [
             [
              0,
              "#0d0887"
             ],
             [
              0.1111111111111111,
              "#46039f"
             ],
             [
              0.2222222222222222,
              "#7201a8"
             ],
             [
              0.3333333333333333,
              "#9c179e"
             ],
             [
              0.4444444444444444,
              "#bd3786"
             ],
             [
              0.5555555555555556,
              "#d8576b"
             ],
             [
              0.6666666666666666,
              "#ed7953"
             ],
             [
              0.7777777777777778,
              "#fb9f3a"
             ],
             [
              0.8888888888888888,
              "#fdca26"
             ],
             [
              1,
              "#f0f921"
             ]
            ],
            "type": "contour"
           }
          ],
          "contourcarpet": [
           {
            "colorbar": {
             "outlinewidth": 0,
             "ticks": ""
            },
            "type": "contourcarpet"
           }
          ],
          "heatmap": [
           {
            "colorbar": {
             "outlinewidth": 0,
             "ticks": ""
            },
            "colorscale": [
             [
              0,
              "#0d0887"
             ],
             [
              0.1111111111111111,
              "#46039f"
             ],
             [
              0.2222222222222222,
              "#7201a8"
             ],
             [
              0.3333333333333333,
              "#9c179e"
             ],
             [
              0.4444444444444444,
              "#bd3786"
             ],
             [
              0.5555555555555556,
              "#d8576b"
             ],
             [
              0.6666666666666666,
              "#ed7953"
             ],
             [
              0.7777777777777778,
              "#fb9f3a"
             ],
             [
              0.8888888888888888,
              "#fdca26"
             ],
             [
              1,
              "#f0f921"
             ]
            ],
            "type": "heatmap"
           }
          ],
          "heatmapgl": [
           {
            "colorbar": {
             "outlinewidth": 0,
             "ticks": ""
            },
            "colorscale": [
             [
              0,
              "#0d0887"
             ],
             [
              0.1111111111111111,
              "#46039f"
             ],
             [
              0.2222222222222222,
              "#7201a8"
             ],
             [
              0.3333333333333333,
              "#9c179e"
             ],
             [
              0.4444444444444444,
              "#bd3786"
             ],
             [
              0.5555555555555556,
              "#d8576b"
             ],
             [
              0.6666666666666666,
              "#ed7953"
             ],
             [
              0.7777777777777778,
              "#fb9f3a"
             ],
             [
              0.8888888888888888,
              "#fdca26"
             ],
             [
              1,
              "#f0f921"
             ]
            ],
            "type": "heatmapgl"
           }
          ],
          "histogram": [
           {
            "marker": {
             "pattern": {
              "fillmode": "overlay",
              "size": 10,
              "solidity": 0.2
             }
            },
            "type": "histogram"
           }
          ],
          "histogram2d": [
           {
            "colorbar": {
             "outlinewidth": 0,
             "ticks": ""
            },
            "colorscale": [
             [
              0,
              "#0d0887"
             ],
             [
              0.1111111111111111,
              "#46039f"
             ],
             [
              0.2222222222222222,
              "#7201a8"
             ],
             [
              0.3333333333333333,
              "#9c179e"
             ],
             [
              0.4444444444444444,
              "#bd3786"
             ],
             [
              0.5555555555555556,
              "#d8576b"
             ],
             [
              0.6666666666666666,
              "#ed7953"
             ],
             [
              0.7777777777777778,
              "#fb9f3a"
             ],
             [
              0.8888888888888888,
              "#fdca26"
             ],
             [
              1,
              "#f0f921"
             ]
            ],
            "type": "histogram2d"
           }
          ],
          "histogram2dcontour": [
           {
            "colorbar": {
             "outlinewidth": 0,
             "ticks": ""
            },
            "colorscale": [
             [
              0,
              "#0d0887"
             ],
             [
              0.1111111111111111,
              "#46039f"
             ],
             [
              0.2222222222222222,
              "#7201a8"
             ],
             [
              0.3333333333333333,
              "#9c179e"
             ],
             [
              0.4444444444444444,
              "#bd3786"
             ],
             [
              0.5555555555555556,
              "#d8576b"
             ],
             [
              0.6666666666666666,
              "#ed7953"
             ],
             [
              0.7777777777777778,
              "#fb9f3a"
             ],
             [
              0.8888888888888888,
              "#fdca26"
             ],
             [
              1,
              "#f0f921"
             ]
            ],
            "type": "histogram2dcontour"
           }
          ],
          "mesh3d": [
           {
            "colorbar": {
             "outlinewidth": 0,
             "ticks": ""
            },
            "type": "mesh3d"
           }
          ],
          "parcoords": [
           {
            "line": {
             "colorbar": {
              "outlinewidth": 0,
              "ticks": ""
             }
            },
            "type": "parcoords"
           }
          ],
          "pie": [
           {
            "automargin": true,
            "type": "pie"
           }
          ],
          "scatter": [
           {
            "fillpattern": {
             "fillmode": "overlay",
             "size": 10,
             "solidity": 0.2
            },
            "type": "scatter"
           }
          ],
          "scatter3d": [
           {
            "line": {
             "colorbar": {
              "outlinewidth": 0,
              "ticks": ""
             }
            },
            "marker": {
             "colorbar": {
              "outlinewidth": 0,
              "ticks": ""
             }
            },
            "type": "scatter3d"
           }
          ],
          "scattercarpet": [
           {
            "marker": {
             "colorbar": {
              "outlinewidth": 0,
              "ticks": ""
             }
            },
            "type": "scattercarpet"
           }
          ],
          "scattergeo": [
           {
            "marker": {
             "colorbar": {
              "outlinewidth": 0,
              "ticks": ""
             }
            },
            "type": "scattergeo"
           }
          ],
          "scattergl": [
           {
            "marker": {
             "colorbar": {
              "outlinewidth": 0,
              "ticks": ""
             }
            },
            "type": "scattergl"
           }
          ],
          "scattermapbox": [
           {
            "marker": {
             "colorbar": {
              "outlinewidth": 0,
              "ticks": ""
             }
            },
            "type": "scattermapbox"
           }
          ],
          "scatterpolar": [
           {
            "marker": {
             "colorbar": {
              "outlinewidth": 0,
              "ticks": ""
             }
            },
            "type": "scatterpolar"
           }
          ],
          "scatterpolargl": [
           {
            "marker": {
             "colorbar": {
              "outlinewidth": 0,
              "ticks": ""
             }
            },
            "type": "scatterpolargl"
           }
          ],
          "scatterternary": [
           {
            "marker": {
             "colorbar": {
              "outlinewidth": 0,
              "ticks": ""
             }
            },
            "type": "scatterternary"
           }
          ],
          "surface": [
           {
            "colorbar": {
             "outlinewidth": 0,
             "ticks": ""
            },
            "colorscale": [
             [
              0,
              "#0d0887"
             ],
             [
              0.1111111111111111,
              "#46039f"
             ],
             [
              0.2222222222222222,
              "#7201a8"
             ],
             [
              0.3333333333333333,
              "#9c179e"
             ],
             [
              0.4444444444444444,
              "#bd3786"
             ],
             [
              0.5555555555555556,
              "#d8576b"
             ],
             [
              0.6666666666666666,
              "#ed7953"
             ],
             [
              0.7777777777777778,
              "#fb9f3a"
             ],
             [
              0.8888888888888888,
              "#fdca26"
             ],
             [
              1,
              "#f0f921"
             ]
            ],
            "type": "surface"
           }
          ],
          "table": [
           {
            "cells": {
             "fill": {
              "color": "#EBF0F8"
             },
             "line": {
              "color": "white"
             }
            },
            "header": {
             "fill": {
              "color": "#C8D4E3"
             },
             "line": {
              "color": "white"
             }
            },
            "type": "table"
           }
          ]
         },
         "layout": {
          "annotationdefaults": {
           "arrowcolor": "#2a3f5f",
           "arrowhead": 0,
           "arrowwidth": 1
          },
          "autotypenumbers": "strict",
          "coloraxis": {
           "colorbar": {
            "outlinewidth": 0,
            "ticks": ""
           }
          },
          "colorscale": {
           "diverging": [
            [
             0,
             "#8e0152"
            ],
            [
             0.1,
             "#c51b7d"
            ],
            [
             0.2,
             "#de77ae"
            ],
            [
             0.3,
             "#f1b6da"
            ],
            [
             0.4,
             "#fde0ef"
            ],
            [
             0.5,
             "#f7f7f7"
            ],
            [
             0.6,
             "#e6f5d0"
            ],
            [
             0.7,
             "#b8e186"
            ],
            [
             0.8,
             "#7fbc41"
            ],
            [
             0.9,
             "#4d9221"
            ],
            [
             1,
             "#276419"
            ]
           ],
           "sequential": [
            [
             0,
             "#0d0887"
            ],
            [
             0.1111111111111111,
             "#46039f"
            ],
            [
             0.2222222222222222,
             "#7201a8"
            ],
            [
             0.3333333333333333,
             "#9c179e"
            ],
            [
             0.4444444444444444,
             "#bd3786"
            ],
            [
             0.5555555555555556,
             "#d8576b"
            ],
            [
             0.6666666666666666,
             "#ed7953"
            ],
            [
             0.7777777777777778,
             "#fb9f3a"
            ],
            [
             0.8888888888888888,
             "#fdca26"
            ],
            [
             1,
             "#f0f921"
            ]
           ],
           "sequentialminus": [
            [
             0,
             "#0d0887"
            ],
            [
             0.1111111111111111,
             "#46039f"
            ],
            [
             0.2222222222222222,
             "#7201a8"
            ],
            [
             0.3333333333333333,
             "#9c179e"
            ],
            [
             0.4444444444444444,
             "#bd3786"
            ],
            [
             0.5555555555555556,
             "#d8576b"
            ],
            [
             0.6666666666666666,
             "#ed7953"
            ],
            [
             0.7777777777777778,
             "#fb9f3a"
            ],
            [
             0.8888888888888888,
             "#fdca26"
            ],
            [
             1,
             "#f0f921"
            ]
           ]
          },
          "colorway": [
           "#636efa",
           "#EF553B",
           "#00cc96",
           "#ab63fa",
           "#FFA15A",
           "#19d3f3",
           "#FF6692",
           "#B6E880",
           "#FF97FF",
           "#FECB52"
          ],
          "font": {
           "color": "#2a3f5f"
          },
          "geo": {
           "bgcolor": "white",
           "lakecolor": "white",
           "landcolor": "#E5ECF6",
           "showlakes": true,
           "showland": true,
           "subunitcolor": "white"
          },
          "hoverlabel": {
           "align": "left"
          },
          "hovermode": "closest",
          "mapbox": {
           "style": "light"
          },
          "paper_bgcolor": "white",
          "plot_bgcolor": "#E5ECF6",
          "polar": {
           "angularaxis": {
            "gridcolor": "white",
            "linecolor": "white",
            "ticks": ""
           },
           "bgcolor": "#E5ECF6",
           "radialaxis": {
            "gridcolor": "white",
            "linecolor": "white",
            "ticks": ""
           }
          },
          "scene": {
           "xaxis": {
            "backgroundcolor": "#E5ECF6",
            "gridcolor": "white",
            "gridwidth": 2,
            "linecolor": "white",
            "showbackground": true,
            "ticks": "",
            "zerolinecolor": "white"
           },
           "yaxis": {
            "backgroundcolor": "#E5ECF6",
            "gridcolor": "white",
            "gridwidth": 2,
            "linecolor": "white",
            "showbackground": true,
            "ticks": "",
            "zerolinecolor": "white"
           },
           "zaxis": {
            "backgroundcolor": "#E5ECF6",
            "gridcolor": "white",
            "gridwidth": 2,
            "linecolor": "white",
            "showbackground": true,
            "ticks": "",
            "zerolinecolor": "white"
           }
          },
          "shapedefaults": {
           "line": {
            "color": "#2a3f5f"
           }
          },
          "ternary": {
           "aaxis": {
            "gridcolor": "white",
            "linecolor": "white",
            "ticks": ""
           },
           "baxis": {
            "gridcolor": "white",
            "linecolor": "white",
            "ticks": ""
           },
           "bgcolor": "#E5ECF6",
           "caxis": {
            "gridcolor": "white",
            "linecolor": "white",
            "ticks": ""
           }
          },
          "title": {
           "x": 0.05
          },
          "xaxis": {
           "automargin": true,
           "gridcolor": "white",
           "linecolor": "white",
           "ticks": "",
           "title": {
            "standoff": 15
           },
           "zerolinecolor": "white",
           "zerolinewidth": 2
          },
          "yaxis": {
           "automargin": true,
           "gridcolor": "white",
           "linecolor": "white",
           "ticks": "",
           "title": {
            "standoff": 15
           },
           "zerolinecolor": "white",
           "zerolinewidth": 2
          }
         }
        },
        "title": {
         "text": "Contour Plot"
        },
        "xaxis": {
         "anchor": "y",
         "domain": [
          0,
          0.2125
         ],
         "matches": "x13",
         "range": [
          0.0053,
          0.0207
         ],
         "showticklabels": false
        },
        "xaxis10": {
         "anchor": "y10",
         "domain": [
          0.2625,
          0.475
         ],
         "matches": "x14",
         "range": [
          5.5,
          104.5
         ],
         "showticklabels": false
        },
        "xaxis11": {
         "anchor": "y11",
         "domain": [
          0.525,
          0.7375
         ],
         "matches": "x15",
         "range": [
          -43.650000000000006,
          1048.65
         ],
         "showticklabels": false
        },
        "xaxis12": {
         "anchor": "y12",
         "domain": [
          0.7875,
          1
         ],
         "matches": "x16",
         "range": [
          0.37,
          1.03
         ],
         "showticklabels": false
        },
        "xaxis13": {
         "anchor": "y13",
         "domain": [
          0,
          0.2125
         ],
         "range": [
          0.0053,
          0.0207
         ],
         "title": {
          "text": "learning_rate"
         }
        },
        "xaxis14": {
         "anchor": "y14",
         "domain": [
          0.2625,
          0.475
         ],
         "range": [
          5.5,
          104.5
         ],
         "title": {
          "text": "max_depth"
         }
        },
        "xaxis15": {
         "anchor": "y15",
         "domain": [
          0.525,
          0.7375
         ],
         "range": [
          -43.650000000000006,
          1048.65
         ],
         "title": {
          "text": "num_leaves"
         }
        },
        "xaxis16": {
         "anchor": "y16",
         "domain": [
          0.7875,
          1
         ],
         "range": [
          0.37,
          1.03
         ],
         "title": {
          "text": "subsample"
         }
        },
        "xaxis2": {
         "anchor": "y2",
         "domain": [
          0.2625,
          0.475
         ],
         "matches": "x14",
         "range": [
          5.5,
          104.5
         ],
         "showticklabels": false
        },
        "xaxis3": {
         "anchor": "y3",
         "domain": [
          0.525,
          0.7375
         ],
         "matches": "x15",
         "range": [
          -43.650000000000006,
          1048.65
         ],
         "showticklabels": false
        },
        "xaxis4": {
         "anchor": "y4",
         "domain": [
          0.7875,
          1
         ],
         "matches": "x16",
         "range": [
          0.37,
          1.03
         ],
         "showticklabels": false
        },
        "xaxis5": {
         "anchor": "y5",
         "domain": [
          0,
          0.2125
         ],
         "matches": "x13",
         "range": [
          0.0053,
          0.0207
         ],
         "showticklabels": false
        },
        "xaxis6": {
         "anchor": "y6",
         "domain": [
          0.2625,
          0.475
         ],
         "matches": "x14",
         "range": [
          5.5,
          104.5
         ],
         "showticklabels": false
        },
        "xaxis7": {
         "anchor": "y7",
         "domain": [
          0.525,
          0.7375
         ],
         "matches": "x15",
         "range": [
          -43.650000000000006,
          1048.65
         ],
         "showticklabels": false
        },
        "xaxis8": {
         "anchor": "y8",
         "domain": [
          0.7875,
          1
         ],
         "matches": "x16",
         "range": [
          0.37,
          1.03
         ],
         "showticklabels": false
        },
        "xaxis9": {
         "anchor": "y9",
         "domain": [
          0,
          0.2125
         ],
         "matches": "x13",
         "range": [
          0.0053,
          0.0207
         ],
         "showticklabels": false
        },
        "yaxis": {
         "anchor": "x",
         "domain": [
          0.80625,
          1
         ],
         "range": [
          0.0053,
          0.0207
         ],
         "title": {
          "text": "learning_rate"
         }
        },
        "yaxis10": {
         "anchor": "x10",
         "domain": [
          0.26875,
          0.4625
         ],
         "matches": "y9",
         "range": [
          -43.650000000000006,
          1048.65
         ],
         "showticklabels": false
        },
        "yaxis11": {
         "anchor": "x11",
         "domain": [
          0.26875,
          0.4625
         ],
         "matches": "y9",
         "range": [
          -43.650000000000006,
          1048.65
         ],
         "showticklabels": false
        },
        "yaxis12": {
         "anchor": "x12",
         "domain": [
          0.26875,
          0.4625
         ],
         "matches": "y9",
         "range": [
          -43.650000000000006,
          1048.65
         ],
         "showticklabels": false
        },
        "yaxis13": {
         "anchor": "x13",
         "domain": [
          0,
          0.19375
         ],
         "range": [
          0.37,
          1.03
         ],
         "title": {
          "text": "subsample"
         }
        },
        "yaxis14": {
         "anchor": "x14",
         "domain": [
          0,
          0.19375
         ],
         "matches": "y13",
         "range": [
          0.37,
          1.03
         ],
         "showticklabels": false
        },
        "yaxis15": {
         "anchor": "x15",
         "domain": [
          0,
          0.19375
         ],
         "matches": "y13",
         "range": [
          0.37,
          1.03
         ],
         "showticklabels": false
        },
        "yaxis16": {
         "anchor": "x16",
         "domain": [
          0,
          0.19375
         ],
         "matches": "y13",
         "range": [
          0.37,
          1.03
         ],
         "showticklabels": false
        },
        "yaxis2": {
         "anchor": "x2",
         "domain": [
          0.80625,
          1
         ],
         "matches": "y",
         "range": [
          0.0053,
          0.0207
         ],
         "showticklabels": false
        },
        "yaxis3": {
         "anchor": "x3",
         "domain": [
          0.80625,
          1
         ],
         "matches": "y",
         "range": [
          0.0053,
          0.0207
         ],
         "showticklabels": false
        },
        "yaxis4": {
         "anchor": "x4",
         "domain": [
          0.80625,
          1
         ],
         "matches": "y",
         "range": [
          0.0053,
          0.0207
         ],
         "showticklabels": false
        },
        "yaxis5": {
         "anchor": "x5",
         "domain": [
          0.5375,
          0.73125
         ],
         "range": [
          5.5,
          104.5
         ],
         "title": {
          "text": "max_depth"
         }
        },
        "yaxis6": {
         "anchor": "x6",
         "domain": [
          0.5375,
          0.73125
         ],
         "matches": "y5",
         "range": [
          5.5,
          104.5
         ],
         "showticklabels": false
        },
        "yaxis7": {
         "anchor": "x7",
         "domain": [
          0.5375,
          0.73125
         ],
         "matches": "y5",
         "range": [
          5.5,
          104.5
         ],
         "showticklabels": false
        },
        "yaxis8": {
         "anchor": "x8",
         "domain": [
          0.5375,
          0.73125
         ],
         "matches": "y5",
         "range": [
          5.5,
          104.5
         ],
         "showticklabels": false
        },
        "yaxis9": {
         "anchor": "x9",
         "domain": [
          0.26875,
          0.4625
         ],
         "range": [
          -43.650000000000006,
          1048.65
         ],
         "title": {
          "text": "num_leaves"
         }
        }
       }
      }
     },
     "metadata": {},
     "output_type": "display_data"
    }
   ],
   "source": [
    "optuna.visualization.plot_contour(study, params=['num_leaves',\n",
    "                            'max_depth',\n",
    "                            'subsample',\n",
    "                            'learning_rate',\n",
    "                            'subsample'])"
   ]
  },
  {
   "cell_type": "code",
   "execution_count": 72,
   "metadata": {},
   "outputs": [
    {
     "data": {
      "application/vnd.plotly.v1+json": {
       "config": {
        "plotlyServerURL": "https://plot.ly"
       },
       "data": [
        {
         "cliponaxis": false,
         "hovertemplate": [
          "reg_alpha (FloatDistribution): 0.0006174637190875475<extra></extra>",
          "learning_rate (CategoricalDistribution): 0.019860222382612907<extra></extra>",
          "max_depth (CategoricalDistribution): 0.028029210339563987<extra></extra>",
          "min_data_per_groups (IntDistribution): 0.07306501312797409<extra></extra>",
          "num_leaves (IntDistribution): 0.08971715809118147<extra></extra>",
          "subsample (CategoricalDistribution): 0.10612246433854346<extra></extra>",
          "colsample_bytree (CategoricalDistribution): 0.11778573799391487<extra></extra>",
          "min_child_samples (IntDistribution): 0.2600421442878033<extra></extra>",
          "reg_lambda (FloatDistribution): 0.30476058571931847<extra></extra>"
         ],
         "name": "Objective Value",
         "orientation": "h",
         "text": [
          "<0.01",
          "0.02",
          "0.03",
          "0.07",
          "0.09",
          "0.11",
          "0.12",
          "0.26",
          "0.30"
         ],
         "textposition": "outside",
         "type": "bar",
         "x": [
          0.0006174637190875475,
          0.019860222382612907,
          0.028029210339563987,
          0.07306501312797409,
          0.08971715809118147,
          0.10612246433854346,
          0.11778573799391487,
          0.2600421442878033,
          0.30476058571931847
         ],
         "y": [
          "reg_alpha",
          "learning_rate",
          "max_depth",
          "min_data_per_groups",
          "num_leaves",
          "subsample",
          "colsample_bytree",
          "min_child_samples",
          "reg_lambda"
         ]
        }
       ],
       "layout": {
        "template": {
         "data": {
          "bar": [
           {
            "error_x": {
             "color": "#2a3f5f"
            },
            "error_y": {
             "color": "#2a3f5f"
            },
            "marker": {
             "line": {
              "color": "#E5ECF6",
              "width": 0.5
             },
             "pattern": {
              "fillmode": "overlay",
              "size": 10,
              "solidity": 0.2
             }
            },
            "type": "bar"
           }
          ],
          "barpolar": [
           {
            "marker": {
             "line": {
              "color": "#E5ECF6",
              "width": 0.5
             },
             "pattern": {
              "fillmode": "overlay",
              "size": 10,
              "solidity": 0.2
             }
            },
            "type": "barpolar"
           }
          ],
          "carpet": [
           {
            "aaxis": {
             "endlinecolor": "#2a3f5f",
             "gridcolor": "white",
             "linecolor": "white",
             "minorgridcolor": "white",
             "startlinecolor": "#2a3f5f"
            },
            "baxis": {
             "endlinecolor": "#2a3f5f",
             "gridcolor": "white",
             "linecolor": "white",
             "minorgridcolor": "white",
             "startlinecolor": "#2a3f5f"
            },
            "type": "carpet"
           }
          ],
          "choropleth": [
           {
            "colorbar": {
             "outlinewidth": 0,
             "ticks": ""
            },
            "type": "choropleth"
           }
          ],
          "contour": [
           {
            "colorbar": {
             "outlinewidth": 0,
             "ticks": ""
            },
            "colorscale": [
             [
              0,
              "#0d0887"
             ],
             [
              0.1111111111111111,
              "#46039f"
             ],
             [
              0.2222222222222222,
              "#7201a8"
             ],
             [
              0.3333333333333333,
              "#9c179e"
             ],
             [
              0.4444444444444444,
              "#bd3786"
             ],
             [
              0.5555555555555556,
              "#d8576b"
             ],
             [
              0.6666666666666666,
              "#ed7953"
             ],
             [
              0.7777777777777778,
              "#fb9f3a"
             ],
             [
              0.8888888888888888,
              "#fdca26"
             ],
             [
              1,
              "#f0f921"
             ]
            ],
            "type": "contour"
           }
          ],
          "contourcarpet": [
           {
            "colorbar": {
             "outlinewidth": 0,
             "ticks": ""
            },
            "type": "contourcarpet"
           }
          ],
          "heatmap": [
           {
            "colorbar": {
             "outlinewidth": 0,
             "ticks": ""
            },
            "colorscale": [
             [
              0,
              "#0d0887"
             ],
             [
              0.1111111111111111,
              "#46039f"
             ],
             [
              0.2222222222222222,
              "#7201a8"
             ],
             [
              0.3333333333333333,
              "#9c179e"
             ],
             [
              0.4444444444444444,
              "#bd3786"
             ],
             [
              0.5555555555555556,
              "#d8576b"
             ],
             [
              0.6666666666666666,
              "#ed7953"
             ],
             [
              0.7777777777777778,
              "#fb9f3a"
             ],
             [
              0.8888888888888888,
              "#fdca26"
             ],
             [
              1,
              "#f0f921"
             ]
            ],
            "type": "heatmap"
           }
          ],
          "heatmapgl": [
           {
            "colorbar": {
             "outlinewidth": 0,
             "ticks": ""
            },
            "colorscale": [
             [
              0,
              "#0d0887"
             ],
             [
              0.1111111111111111,
              "#46039f"
             ],
             [
              0.2222222222222222,
              "#7201a8"
             ],
             [
              0.3333333333333333,
              "#9c179e"
             ],
             [
              0.4444444444444444,
              "#bd3786"
             ],
             [
              0.5555555555555556,
              "#d8576b"
             ],
             [
              0.6666666666666666,
              "#ed7953"
             ],
             [
              0.7777777777777778,
              "#fb9f3a"
             ],
             [
              0.8888888888888888,
              "#fdca26"
             ],
             [
              1,
              "#f0f921"
             ]
            ],
            "type": "heatmapgl"
           }
          ],
          "histogram": [
           {
            "marker": {
             "pattern": {
              "fillmode": "overlay",
              "size": 10,
              "solidity": 0.2
             }
            },
            "type": "histogram"
           }
          ],
          "histogram2d": [
           {
            "colorbar": {
             "outlinewidth": 0,
             "ticks": ""
            },
            "colorscale": [
             [
              0,
              "#0d0887"
             ],
             [
              0.1111111111111111,
              "#46039f"
             ],
             [
              0.2222222222222222,
              "#7201a8"
             ],
             [
              0.3333333333333333,
              "#9c179e"
             ],
             [
              0.4444444444444444,
              "#bd3786"
             ],
             [
              0.5555555555555556,
              "#d8576b"
             ],
             [
              0.6666666666666666,
              "#ed7953"
             ],
             [
              0.7777777777777778,
              "#fb9f3a"
             ],
             [
              0.8888888888888888,
              "#fdca26"
             ],
             [
              1,
              "#f0f921"
             ]
            ],
            "type": "histogram2d"
           }
          ],
          "histogram2dcontour": [
           {
            "colorbar": {
             "outlinewidth": 0,
             "ticks": ""
            },
            "colorscale": [
             [
              0,
              "#0d0887"
             ],
             [
              0.1111111111111111,
              "#46039f"
             ],
             [
              0.2222222222222222,
              "#7201a8"
             ],
             [
              0.3333333333333333,
              "#9c179e"
             ],
             [
              0.4444444444444444,
              "#bd3786"
             ],
             [
              0.5555555555555556,
              "#d8576b"
             ],
             [
              0.6666666666666666,
              "#ed7953"
             ],
             [
              0.7777777777777778,
              "#fb9f3a"
             ],
             [
              0.8888888888888888,
              "#fdca26"
             ],
             [
              1,
              "#f0f921"
             ]
            ],
            "type": "histogram2dcontour"
           }
          ],
          "mesh3d": [
           {
            "colorbar": {
             "outlinewidth": 0,
             "ticks": ""
            },
            "type": "mesh3d"
           }
          ],
          "parcoords": [
           {
            "line": {
             "colorbar": {
              "outlinewidth": 0,
              "ticks": ""
             }
            },
            "type": "parcoords"
           }
          ],
          "pie": [
           {
            "automargin": true,
            "type": "pie"
           }
          ],
          "scatter": [
           {
            "fillpattern": {
             "fillmode": "overlay",
             "size": 10,
             "solidity": 0.2
            },
            "type": "scatter"
           }
          ],
          "scatter3d": [
           {
            "line": {
             "colorbar": {
              "outlinewidth": 0,
              "ticks": ""
             }
            },
            "marker": {
             "colorbar": {
              "outlinewidth": 0,
              "ticks": ""
             }
            },
            "type": "scatter3d"
           }
          ],
          "scattercarpet": [
           {
            "marker": {
             "colorbar": {
              "outlinewidth": 0,
              "ticks": ""
             }
            },
            "type": "scattercarpet"
           }
          ],
          "scattergeo": [
           {
            "marker": {
             "colorbar": {
              "outlinewidth": 0,
              "ticks": ""
             }
            },
            "type": "scattergeo"
           }
          ],
          "scattergl": [
           {
            "marker": {
             "colorbar": {
              "outlinewidth": 0,
              "ticks": ""
             }
            },
            "type": "scattergl"
           }
          ],
          "scattermapbox": [
           {
            "marker": {
             "colorbar": {
              "outlinewidth": 0,
              "ticks": ""
             }
            },
            "type": "scattermapbox"
           }
          ],
          "scatterpolar": [
           {
            "marker": {
             "colorbar": {
              "outlinewidth": 0,
              "ticks": ""
             }
            },
            "type": "scatterpolar"
           }
          ],
          "scatterpolargl": [
           {
            "marker": {
             "colorbar": {
              "outlinewidth": 0,
              "ticks": ""
             }
            },
            "type": "scatterpolargl"
           }
          ],
          "scatterternary": [
           {
            "marker": {
             "colorbar": {
              "outlinewidth": 0,
              "ticks": ""
             }
            },
            "type": "scatterternary"
           }
          ],
          "surface": [
           {
            "colorbar": {
             "outlinewidth": 0,
             "ticks": ""
            },
            "colorscale": [
             [
              0,
              "#0d0887"
             ],
             [
              0.1111111111111111,
              "#46039f"
             ],
             [
              0.2222222222222222,
              "#7201a8"
             ],
             [
              0.3333333333333333,
              "#9c179e"
             ],
             [
              0.4444444444444444,
              "#bd3786"
             ],
             [
              0.5555555555555556,
              "#d8576b"
             ],
             [
              0.6666666666666666,
              "#ed7953"
             ],
             [
              0.7777777777777778,
              "#fb9f3a"
             ],
             [
              0.8888888888888888,
              "#fdca26"
             ],
             [
              1,
              "#f0f921"
             ]
            ],
            "type": "surface"
           }
          ],
          "table": [
           {
            "cells": {
             "fill": {
              "color": "#EBF0F8"
             },
             "line": {
              "color": "white"
             }
            },
            "header": {
             "fill": {
              "color": "#C8D4E3"
             },
             "line": {
              "color": "white"
             }
            },
            "type": "table"
           }
          ]
         },
         "layout": {
          "annotationdefaults": {
           "arrowcolor": "#2a3f5f",
           "arrowhead": 0,
           "arrowwidth": 1
          },
          "autotypenumbers": "strict",
          "coloraxis": {
           "colorbar": {
            "outlinewidth": 0,
            "ticks": ""
           }
          },
          "colorscale": {
           "diverging": [
            [
             0,
             "#8e0152"
            ],
            [
             0.1,
             "#c51b7d"
            ],
            [
             0.2,
             "#de77ae"
            ],
            [
             0.3,
             "#f1b6da"
            ],
            [
             0.4,
             "#fde0ef"
            ],
            [
             0.5,
             "#f7f7f7"
            ],
            [
             0.6,
             "#e6f5d0"
            ],
            [
             0.7,
             "#b8e186"
            ],
            [
             0.8,
             "#7fbc41"
            ],
            [
             0.9,
             "#4d9221"
            ],
            [
             1,
             "#276419"
            ]
           ],
           "sequential": [
            [
             0,
             "#0d0887"
            ],
            [
             0.1111111111111111,
             "#46039f"
            ],
            [
             0.2222222222222222,
             "#7201a8"
            ],
            [
             0.3333333333333333,
             "#9c179e"
            ],
            [
             0.4444444444444444,
             "#bd3786"
            ],
            [
             0.5555555555555556,
             "#d8576b"
            ],
            [
             0.6666666666666666,
             "#ed7953"
            ],
            [
             0.7777777777777778,
             "#fb9f3a"
            ],
            [
             0.8888888888888888,
             "#fdca26"
            ],
            [
             1,
             "#f0f921"
            ]
           ],
           "sequentialminus": [
            [
             0,
             "#0d0887"
            ],
            [
             0.1111111111111111,
             "#46039f"
            ],
            [
             0.2222222222222222,
             "#7201a8"
            ],
            [
             0.3333333333333333,
             "#9c179e"
            ],
            [
             0.4444444444444444,
             "#bd3786"
            ],
            [
             0.5555555555555556,
             "#d8576b"
            ],
            [
             0.6666666666666666,
             "#ed7953"
            ],
            [
             0.7777777777777778,
             "#fb9f3a"
            ],
            [
             0.8888888888888888,
             "#fdca26"
            ],
            [
             1,
             "#f0f921"
            ]
           ]
          },
          "colorway": [
           "#636efa",
           "#EF553B",
           "#00cc96",
           "#ab63fa",
           "#FFA15A",
           "#19d3f3",
           "#FF6692",
           "#B6E880",
           "#FF97FF",
           "#FECB52"
          ],
          "font": {
           "color": "#2a3f5f"
          },
          "geo": {
           "bgcolor": "white",
           "lakecolor": "white",
           "landcolor": "#E5ECF6",
           "showlakes": true,
           "showland": true,
           "subunitcolor": "white"
          },
          "hoverlabel": {
           "align": "left"
          },
          "hovermode": "closest",
          "mapbox": {
           "style": "light"
          },
          "paper_bgcolor": "white",
          "plot_bgcolor": "#E5ECF6",
          "polar": {
           "angularaxis": {
            "gridcolor": "white",
            "linecolor": "white",
            "ticks": ""
           },
           "bgcolor": "#E5ECF6",
           "radialaxis": {
            "gridcolor": "white",
            "linecolor": "white",
            "ticks": ""
           }
          },
          "scene": {
           "xaxis": {
            "backgroundcolor": "#E5ECF6",
            "gridcolor": "white",
            "gridwidth": 2,
            "linecolor": "white",
            "showbackground": true,
            "ticks": "",
            "zerolinecolor": "white"
           },
           "yaxis": {
            "backgroundcolor": "#E5ECF6",
            "gridcolor": "white",
            "gridwidth": 2,
            "linecolor": "white",
            "showbackground": true,
            "ticks": "",
            "zerolinecolor": "white"
           },
           "zaxis": {
            "backgroundcolor": "#E5ECF6",
            "gridcolor": "white",
            "gridwidth": 2,
            "linecolor": "white",
            "showbackground": true,
            "ticks": "",
            "zerolinecolor": "white"
           }
          },
          "shapedefaults": {
           "line": {
            "color": "#2a3f5f"
           }
          },
          "ternary": {
           "aaxis": {
            "gridcolor": "white",
            "linecolor": "white",
            "ticks": ""
           },
           "baxis": {
            "gridcolor": "white",
            "linecolor": "white",
            "ticks": ""
           },
           "bgcolor": "#E5ECF6",
           "caxis": {
            "gridcolor": "white",
            "linecolor": "white",
            "ticks": ""
           }
          },
          "title": {
           "x": 0.05
          },
          "xaxis": {
           "automargin": true,
           "gridcolor": "white",
           "linecolor": "white",
           "ticks": "",
           "title": {
            "standoff": 15
           },
           "zerolinecolor": "white",
           "zerolinewidth": 2
          },
          "yaxis": {
           "automargin": true,
           "gridcolor": "white",
           "linecolor": "white",
           "ticks": "",
           "title": {
            "standoff": 15
           },
           "zerolinecolor": "white",
           "zerolinewidth": 2
          }
         }
        },
        "title": {
         "text": "Hyperparameter Importances"
        },
        "xaxis": {
         "title": {
          "text": "Hyperparameter Importance"
         }
        },
        "yaxis": {
         "title": {
          "text": "Hyperparameter"
         }
        }
       }
      }
     },
     "metadata": {},
     "output_type": "display_data"
    }
   ],
   "source": [
    "optuna.visualization.plot_param_importances(study)"
   ]
  },
  {
   "cell_type": "code",
   "execution_count": 73,
   "metadata": {},
   "outputs": [
    {
     "data": {
      "application/vnd.plotly.v1+json": {
       "config": {
        "plotlyServerURL": "https://plot.ly"
       },
       "data": [
        {
         "mode": "lines",
         "name": "no-name-6c329312-6530-4ca7-bc67-8c08f18b6987",
         "type": "scatter",
         "x": [
          0.766204846755063,
          0.7664737662903282,
          0.7667426858255935,
          0.7670116053608587,
          0.7672805248961239,
          0.7675494444313892,
          0.7678183639666544,
          0.7680872835019196,
          0.7683562030371849,
          0.7686251225724501,
          0.7688940421077153,
          0.7691629616429806,
          0.7694318811782458,
          0.769700800713511,
          0.7699697202487763,
          0.7702386397840415,
          0.7705075593193067,
          0.7707764788545719,
          0.7710453983898372,
          0.7713143179251024,
          0.7715832374603676,
          0.7718521569956329,
          0.7721210765308981,
          0.7723899960661633,
          0.7726589156014286,
          0.7729278351366938,
          0.773196754671959,
          0.7734656742072243,
          0.7737345937424895,
          0.7740035132777547,
          0.77427243281302,
          0.7745413523482853,
          0.7748102718835504,
          0.7750791914188158,
          0.775348110954081,
          0.7756170304893462,
          0.7758859500246115,
          0.7761548695598767,
          0.7764237890951419,
          0.7766927086304072,
          0.7769616281656724,
          0.7772305477009376,
          0.7774994672362029,
          0.7777683867714681,
          0.7780373063067333,
          0.7783062258419986,
          0.7785751453772638,
          0.778844064912529,
          0.7791129844477943,
          0.7793819039830595,
          0.7796508235183247,
          0.7799197430535899,
          0.7801886625888552,
          0.7804575821241204,
          0.7807265016593856,
          0.7809954211946509,
          0.7812643407299161,
          0.7815332602651813,
          0.7818021798004466,
          0.7820710993357118,
          0.782340018870977,
          0.7826089384062423,
          0.7828778579415075,
          0.7831467774767727,
          0.7834156970120381,
          0.7836846165473033,
          0.7839535360825685,
          0.7842224556178338,
          0.784491375153099,
          0.7847602946883642,
          0.7850292142236295,
          0.7852981337588947,
          0.7855670532941599,
          0.7858359728294252,
          0.7861048923646904,
          0.7863738118999556,
          0.7866427314352209,
          0.7869116509704861,
          0.7871805705057513,
          0.7874494900410166,
          0.7877184095762818,
          0.787987329111547,
          0.7882562486468123,
          0.7885251681820775,
          0.7887940877173427,
          0.7890630072526079,
          0.7893319267878732,
          0.7896008463231384,
          0.7898697658584036,
          0.7901386853936689,
          0.7904076049289341,
          0.7906765244641993,
          0.7909454439994646,
          0.7912143635347298,
          0.791483283069995,
          0.7917522026052604,
          0.7920211221405256,
          0.7922900416757908,
          0.7925589612110561,
          0.7928278807463213
         ],
         "y": [
          0.02,
          0.02,
          0.02,
          0.02,
          0.02,
          0.02,
          0.04,
          0.06,
          0.1,
          0.1,
          0.12,
          0.18,
          0.24,
          0.24,
          0.26,
          0.28,
          0.32,
          0.32,
          0.34,
          0.36,
          0.36,
          0.36,
          0.38,
          0.42,
          0.42,
          0.44,
          0.46,
          0.5,
          0.52,
          0.52,
          0.56,
          0.56,
          0.56,
          0.64,
          0.64,
          0.64,
          0.66,
          0.66,
          0.7,
          0.74,
          0.76,
          0.78,
          0.78,
          0.78,
          0.8,
          0.8,
          0.82,
          0.82,
          0.86,
          0.86,
          0.86,
          0.86,
          0.88,
          0.88,
          0.88,
          0.88,
          0.92,
          0.92,
          0.92,
          0.94,
          0.94,
          0.94,
          0.94,
          0.94,
          0.94,
          0.94,
          0.94,
          0.96,
          0.96,
          0.96,
          0.96,
          0.96,
          0.96,
          0.96,
          0.96,
          0.96,
          0.96,
          0.96,
          0.96,
          0.96,
          0.96,
          0.96,
          0.96,
          0.96,
          0.96,
          0.96,
          0.98,
          0.98,
          0.98,
          0.98,
          0.98,
          0.98,
          0.98,
          0.98,
          0.98,
          0.98,
          0.98,
          0.98,
          0.98,
          1
         ]
        }
       ],
       "layout": {
        "template": {
         "data": {
          "bar": [
           {
            "error_x": {
             "color": "#2a3f5f"
            },
            "error_y": {
             "color": "#2a3f5f"
            },
            "marker": {
             "line": {
              "color": "#E5ECF6",
              "width": 0.5
             },
             "pattern": {
              "fillmode": "overlay",
              "size": 10,
              "solidity": 0.2
             }
            },
            "type": "bar"
           }
          ],
          "barpolar": [
           {
            "marker": {
             "line": {
              "color": "#E5ECF6",
              "width": 0.5
             },
             "pattern": {
              "fillmode": "overlay",
              "size": 10,
              "solidity": 0.2
             }
            },
            "type": "barpolar"
           }
          ],
          "carpet": [
           {
            "aaxis": {
             "endlinecolor": "#2a3f5f",
             "gridcolor": "white",
             "linecolor": "white",
             "minorgridcolor": "white",
             "startlinecolor": "#2a3f5f"
            },
            "baxis": {
             "endlinecolor": "#2a3f5f",
             "gridcolor": "white",
             "linecolor": "white",
             "minorgridcolor": "white",
             "startlinecolor": "#2a3f5f"
            },
            "type": "carpet"
           }
          ],
          "choropleth": [
           {
            "colorbar": {
             "outlinewidth": 0,
             "ticks": ""
            },
            "type": "choropleth"
           }
          ],
          "contour": [
           {
            "colorbar": {
             "outlinewidth": 0,
             "ticks": ""
            },
            "colorscale": [
             [
              0,
              "#0d0887"
             ],
             [
              0.1111111111111111,
              "#46039f"
             ],
             [
              0.2222222222222222,
              "#7201a8"
             ],
             [
              0.3333333333333333,
              "#9c179e"
             ],
             [
              0.4444444444444444,
              "#bd3786"
             ],
             [
              0.5555555555555556,
              "#d8576b"
             ],
             [
              0.6666666666666666,
              "#ed7953"
             ],
             [
              0.7777777777777778,
              "#fb9f3a"
             ],
             [
              0.8888888888888888,
              "#fdca26"
             ],
             [
              1,
              "#f0f921"
             ]
            ],
            "type": "contour"
           }
          ],
          "contourcarpet": [
           {
            "colorbar": {
             "outlinewidth": 0,
             "ticks": ""
            },
            "type": "contourcarpet"
           }
          ],
          "heatmap": [
           {
            "colorbar": {
             "outlinewidth": 0,
             "ticks": ""
            },
            "colorscale": [
             [
              0,
              "#0d0887"
             ],
             [
              0.1111111111111111,
              "#46039f"
             ],
             [
              0.2222222222222222,
              "#7201a8"
             ],
             [
              0.3333333333333333,
              "#9c179e"
             ],
             [
              0.4444444444444444,
              "#bd3786"
             ],
             [
              0.5555555555555556,
              "#d8576b"
             ],
             [
              0.6666666666666666,
              "#ed7953"
             ],
             [
              0.7777777777777778,
              "#fb9f3a"
             ],
             [
              0.8888888888888888,
              "#fdca26"
             ],
             [
              1,
              "#f0f921"
             ]
            ],
            "type": "heatmap"
           }
          ],
          "heatmapgl": [
           {
            "colorbar": {
             "outlinewidth": 0,
             "ticks": ""
            },
            "colorscale": [
             [
              0,
              "#0d0887"
             ],
             [
              0.1111111111111111,
              "#46039f"
             ],
             [
              0.2222222222222222,
              "#7201a8"
             ],
             [
              0.3333333333333333,
              "#9c179e"
             ],
             [
              0.4444444444444444,
              "#bd3786"
             ],
             [
              0.5555555555555556,
              "#d8576b"
             ],
             [
              0.6666666666666666,
              "#ed7953"
             ],
             [
              0.7777777777777778,
              "#fb9f3a"
             ],
             [
              0.8888888888888888,
              "#fdca26"
             ],
             [
              1,
              "#f0f921"
             ]
            ],
            "type": "heatmapgl"
           }
          ],
          "histogram": [
           {
            "marker": {
             "pattern": {
              "fillmode": "overlay",
              "size": 10,
              "solidity": 0.2
             }
            },
            "type": "histogram"
           }
          ],
          "histogram2d": [
           {
            "colorbar": {
             "outlinewidth": 0,
             "ticks": ""
            },
            "colorscale": [
             [
              0,
              "#0d0887"
             ],
             [
              0.1111111111111111,
              "#46039f"
             ],
             [
              0.2222222222222222,
              "#7201a8"
             ],
             [
              0.3333333333333333,
              "#9c179e"
             ],
             [
              0.4444444444444444,
              "#bd3786"
             ],
             [
              0.5555555555555556,
              "#d8576b"
             ],
             [
              0.6666666666666666,
              "#ed7953"
             ],
             [
              0.7777777777777778,
              "#fb9f3a"
             ],
             [
              0.8888888888888888,
              "#fdca26"
             ],
             [
              1,
              "#f0f921"
             ]
            ],
            "type": "histogram2d"
           }
          ],
          "histogram2dcontour": [
           {
            "colorbar": {
             "outlinewidth": 0,
             "ticks": ""
            },
            "colorscale": [
             [
              0,
              "#0d0887"
             ],
             [
              0.1111111111111111,
              "#46039f"
             ],
             [
              0.2222222222222222,
              "#7201a8"
             ],
             [
              0.3333333333333333,
              "#9c179e"
             ],
             [
              0.4444444444444444,
              "#bd3786"
             ],
             [
              0.5555555555555556,
              "#d8576b"
             ],
             [
              0.6666666666666666,
              "#ed7953"
             ],
             [
              0.7777777777777778,
              "#fb9f3a"
             ],
             [
              0.8888888888888888,
              "#fdca26"
             ],
             [
              1,
              "#f0f921"
             ]
            ],
            "type": "histogram2dcontour"
           }
          ],
          "mesh3d": [
           {
            "colorbar": {
             "outlinewidth": 0,
             "ticks": ""
            },
            "type": "mesh3d"
           }
          ],
          "parcoords": [
           {
            "line": {
             "colorbar": {
              "outlinewidth": 0,
              "ticks": ""
             }
            },
            "type": "parcoords"
           }
          ],
          "pie": [
           {
            "automargin": true,
            "type": "pie"
           }
          ],
          "scatter": [
           {
            "fillpattern": {
             "fillmode": "overlay",
             "size": 10,
             "solidity": 0.2
            },
            "type": "scatter"
           }
          ],
          "scatter3d": [
           {
            "line": {
             "colorbar": {
              "outlinewidth": 0,
              "ticks": ""
             }
            },
            "marker": {
             "colorbar": {
              "outlinewidth": 0,
              "ticks": ""
             }
            },
            "type": "scatter3d"
           }
          ],
          "scattercarpet": [
           {
            "marker": {
             "colorbar": {
              "outlinewidth": 0,
              "ticks": ""
             }
            },
            "type": "scattercarpet"
           }
          ],
          "scattergeo": [
           {
            "marker": {
             "colorbar": {
              "outlinewidth": 0,
              "ticks": ""
             }
            },
            "type": "scattergeo"
           }
          ],
          "scattergl": [
           {
            "marker": {
             "colorbar": {
              "outlinewidth": 0,
              "ticks": ""
             }
            },
            "type": "scattergl"
           }
          ],
          "scattermapbox": [
           {
            "marker": {
             "colorbar": {
              "outlinewidth": 0,
              "ticks": ""
             }
            },
            "type": "scattermapbox"
           }
          ],
          "scatterpolar": [
           {
            "marker": {
             "colorbar": {
              "outlinewidth": 0,
              "ticks": ""
             }
            },
            "type": "scatterpolar"
           }
          ],
          "scatterpolargl": [
           {
            "marker": {
             "colorbar": {
              "outlinewidth": 0,
              "ticks": ""
             }
            },
            "type": "scatterpolargl"
           }
          ],
          "scatterternary": [
           {
            "marker": {
             "colorbar": {
              "outlinewidth": 0,
              "ticks": ""
             }
            },
            "type": "scatterternary"
           }
          ],
          "surface": [
           {
            "colorbar": {
             "outlinewidth": 0,
             "ticks": ""
            },
            "colorscale": [
             [
              0,
              "#0d0887"
             ],
             [
              0.1111111111111111,
              "#46039f"
             ],
             [
              0.2222222222222222,
              "#7201a8"
             ],
             [
              0.3333333333333333,
              "#9c179e"
             ],
             [
              0.4444444444444444,
              "#bd3786"
             ],
             [
              0.5555555555555556,
              "#d8576b"
             ],
             [
              0.6666666666666666,
              "#ed7953"
             ],
             [
              0.7777777777777778,
              "#fb9f3a"
             ],
             [
              0.8888888888888888,
              "#fdca26"
             ],
             [
              1,
              "#f0f921"
             ]
            ],
            "type": "surface"
           }
          ],
          "table": [
           {
            "cells": {
             "fill": {
              "color": "#EBF0F8"
             },
             "line": {
              "color": "white"
             }
            },
            "header": {
             "fill": {
              "color": "#C8D4E3"
             },
             "line": {
              "color": "white"
             }
            },
            "type": "table"
           }
          ]
         },
         "layout": {
          "annotationdefaults": {
           "arrowcolor": "#2a3f5f",
           "arrowhead": 0,
           "arrowwidth": 1
          },
          "autotypenumbers": "strict",
          "coloraxis": {
           "colorbar": {
            "outlinewidth": 0,
            "ticks": ""
           }
          },
          "colorscale": {
           "diverging": [
            [
             0,
             "#8e0152"
            ],
            [
             0.1,
             "#c51b7d"
            ],
            [
             0.2,
             "#de77ae"
            ],
            [
             0.3,
             "#f1b6da"
            ],
            [
             0.4,
             "#fde0ef"
            ],
            [
             0.5,
             "#f7f7f7"
            ],
            [
             0.6,
             "#e6f5d0"
            ],
            [
             0.7,
             "#b8e186"
            ],
            [
             0.8,
             "#7fbc41"
            ],
            [
             0.9,
             "#4d9221"
            ],
            [
             1,
             "#276419"
            ]
           ],
           "sequential": [
            [
             0,
             "#0d0887"
            ],
            [
             0.1111111111111111,
             "#46039f"
            ],
            [
             0.2222222222222222,
             "#7201a8"
            ],
            [
             0.3333333333333333,
             "#9c179e"
            ],
            [
             0.4444444444444444,
             "#bd3786"
            ],
            [
             0.5555555555555556,
             "#d8576b"
            ],
            [
             0.6666666666666666,
             "#ed7953"
            ],
            [
             0.7777777777777778,
             "#fb9f3a"
            ],
            [
             0.8888888888888888,
             "#fdca26"
            ],
            [
             1,
             "#f0f921"
            ]
           ],
           "sequentialminus": [
            [
             0,
             "#0d0887"
            ],
            [
             0.1111111111111111,
             "#46039f"
            ],
            [
             0.2222222222222222,
             "#7201a8"
            ],
            [
             0.3333333333333333,
             "#9c179e"
            ],
            [
             0.4444444444444444,
             "#bd3786"
            ],
            [
             0.5555555555555556,
             "#d8576b"
            ],
            [
             0.6666666666666666,
             "#ed7953"
            ],
            [
             0.7777777777777778,
             "#fb9f3a"
            ],
            [
             0.8888888888888888,
             "#fdca26"
            ],
            [
             1,
             "#f0f921"
            ]
           ]
          },
          "colorway": [
           "#636efa",
           "#EF553B",
           "#00cc96",
           "#ab63fa",
           "#FFA15A",
           "#19d3f3",
           "#FF6692",
           "#B6E880",
           "#FF97FF",
           "#FECB52"
          ],
          "font": {
           "color": "#2a3f5f"
          },
          "geo": {
           "bgcolor": "white",
           "lakecolor": "white",
           "landcolor": "#E5ECF6",
           "showlakes": true,
           "showland": true,
           "subunitcolor": "white"
          },
          "hoverlabel": {
           "align": "left"
          },
          "hovermode": "closest",
          "mapbox": {
           "style": "light"
          },
          "paper_bgcolor": "white",
          "plot_bgcolor": "#E5ECF6",
          "polar": {
           "angularaxis": {
            "gridcolor": "white",
            "linecolor": "white",
            "ticks": ""
           },
           "bgcolor": "#E5ECF6",
           "radialaxis": {
            "gridcolor": "white",
            "linecolor": "white",
            "ticks": ""
           }
          },
          "scene": {
           "xaxis": {
            "backgroundcolor": "#E5ECF6",
            "gridcolor": "white",
            "gridwidth": 2,
            "linecolor": "white",
            "showbackground": true,
            "ticks": "",
            "zerolinecolor": "white"
           },
           "yaxis": {
            "backgroundcolor": "#E5ECF6",
            "gridcolor": "white",
            "gridwidth": 2,
            "linecolor": "white",
            "showbackground": true,
            "ticks": "",
            "zerolinecolor": "white"
           },
           "zaxis": {
            "backgroundcolor": "#E5ECF6",
            "gridcolor": "white",
            "gridwidth": 2,
            "linecolor": "white",
            "showbackground": true,
            "ticks": "",
            "zerolinecolor": "white"
           }
          },
          "shapedefaults": {
           "line": {
            "color": "#2a3f5f"
           }
          },
          "ternary": {
           "aaxis": {
            "gridcolor": "white",
            "linecolor": "white",
            "ticks": ""
           },
           "baxis": {
            "gridcolor": "white",
            "linecolor": "white",
            "ticks": ""
           },
           "bgcolor": "#E5ECF6",
           "caxis": {
            "gridcolor": "white",
            "linecolor": "white",
            "ticks": ""
           }
          },
          "title": {
           "x": 0.05
          },
          "xaxis": {
           "automargin": true,
           "gridcolor": "white",
           "linecolor": "white",
           "ticks": "",
           "title": {
            "standoff": 15
           },
           "zerolinecolor": "white",
           "zerolinewidth": 2
          },
          "yaxis": {
           "automargin": true,
           "gridcolor": "white",
           "linecolor": "white",
           "ticks": "",
           "title": {
            "standoff": 15
           },
           "zerolinecolor": "white",
           "zerolinewidth": 2
          }
         }
        },
        "title": {
         "text": "Empirical Distribution Function Plot"
        },
        "xaxis": {
         "title": {
          "text": "Objective Value"
         }
        },
        "yaxis": {
         "range": [
          0,
          1
         ],
         "title": {
          "text": "Cumulative Probability"
         }
        }
       }
      }
     },
     "metadata": {},
     "output_type": "display_data"
    }
   ],
   "source": [
    "optuna.visualization.plot_edf(study)"
   ]
  },
  {
   "cell_type": "code",
   "execution_count": 75,
   "metadata": {},
   "outputs": [],
   "source": [
    "params=study.best_params   \n",
    "params['random_state'] = 42\n",
    "params['n_estimators'] = 20000 \n",
    "params['metric'] = 'rmse'"
   ]
  },
  {
   "cell_type": "code",
   "execution_count": 76,
   "metadata": {},
   "outputs": [],
   "source": [
    "params['cat_smooth'] = params.pop('min_data_per_groups')"
   ]
  },
  {
   "cell_type": "code",
   "execution_count": 77,
   "metadata": {},
   "outputs": [
    {
     "data": {
      "text/plain": [
       "{'reg_alpha': 0.0023541668454702272,\n",
       " 'reg_lambda': 8.932963978723864,\n",
       " 'colsample_bytree': 0.4,\n",
       " 'subsample': 1.0,\n",
       " 'learning_rate': 0.017,\n",
       " 'max_depth': 100,\n",
       " 'num_leaves': 412,\n",
       " 'min_child_samples': 30,\n",
       " 'random_state': 42,\n",
       " 'n_estimators': 20000,\n",
       " 'metric': 'rmse',\n",
       " 'cat_smooth': 13}"
      ]
     },
     "execution_count": 77,
     "metadata": {},
     "output_type": "execute_result"
    }
   ],
   "source": [
    "params"
   ]
  },
  {
   "cell_type": "code",
   "execution_count": 79,
   "metadata": {},
   "outputs": [],
   "source": [
    "model = LGBMRegressor(**params,verbose=-1)\n",
    "model.fit(X_train,y_train)#,eval_set=[(X_test,y_test)])\n",
    "y_pred = model.predict(X_test)"
   ]
  },
  {
   "cell_type": "code",
   "execution_count": 80,
   "metadata": {},
   "outputs": [
    {
     "data": {
      "image/png": "[encoded data removed]",
      "text/plain": [
       "<Figure size 1000x1000 with 1 Axes>"
      ]
     },
     "metadata": {},
     "output_type": "display_data"
    }
   ],
   "source": [
    "lgb.plot_importance(model, max_num_features=20, figsize=(10,10))\n",
    "plt.show()"
   ]
  },
  {
   "cell_type": "code",
   "execution_count": 81,
   "metadata": {},
   "outputs": [],
   "source": [
    "final = X_test\n",
    "final['tn_futuro'] = y_test\n",
    "final['tn_prediccion'] = y_pred"
   ]
  },
  {
   "cell_type": "code",
   "execution_count": 82,
   "metadata": {},
   "outputs": [
    {
     "data": {
      "text/plain": [
       "Index(['product_id', 'periodo', 'primer_periodo', 'ultimo_periodo', 'tn_norm',\n",
       "       'periodo_dt', 'mes', 'quarter', 'month_in_quarter', 'year',\n",
       "       ...\n",
       "       'crece_10', 'crece_11', 'crece_12', 'crece_13', 'crece_sum',\n",
       "       'decrece_sum', 'tn_futuro', 'tn_prediccion', 'average_tn',\n",
       "       'std_dev_tn'],\n",
       "      dtype='object', length=114)"
      ]
     },
     "execution_count": 82,
     "metadata": {},
     "output_type": "execute_result"
    }
   ],
   "source": [
    "prod_stats = pd.read_parquet('prod_stats.parquet')\n",
    "prod_stats = prod_stats[['product_id', 'average_tn','std_dev_tn']]\n",
    "final = final.merge(prod_stats, how='left', on='product_id')\n",
    "final.columns"
   ]
  },
  {
   "cell_type": "code",
   "execution_count": 83,
   "metadata": {},
   "outputs": [],
   "source": [
    "final['tn_futuro_real'] = (final['tn_norm'] + final['tn_futuro']) * final['std_dev_tn'] + final['average_tn']\n",
    "final['tn_prediccion_real'] = (final['tn_norm'] + final['tn_prediccion']) * final['std_dev_tn'] + final['average_tn']"
   ]
  },
  {
   "cell_type": "code",
   "execution_count": 84,
   "metadata": {},
   "outputs": [
    {
     "data": {
      "text/html": [
       "<div>\n",
       "<style scoped>\n",
       "    .dataframe tbody tr th:only-of-type {\n",
       "        vertical-align: middle;\n",
       "    }\n",
       "\n",
       "    .dataframe tbody tr th {\n",
       "        vertical-align: top;\n",
       "    }\n",
       "\n",
       "    .dataframe thead th {\n",
       "        text-align: right;\n",
       "    }\n",
       "</style>\n",
       "<table border=\"1\" class=\"dataframe\">\n",
       "  <thead>\n",
       "    <tr style=\"text-align: right;\">\n",
       "      <th></th>\n",
       "      <th>product_id</th>\n",
       "      <th>periodo</th>\n",
       "      <th>primer_periodo</th>\n",
       "      <th>ultimo_periodo</th>\n",
       "      <th>tn_norm</th>\n",
       "      <th>periodo_dt</th>\n",
       "      <th>mes</th>\n",
       "      <th>quarter</th>\n",
       "      <th>month_in_quarter</th>\n",
       "      <th>year</th>\n",
       "      <th>...</th>\n",
       "      <th>crece_12</th>\n",
       "      <th>crece_13</th>\n",
       "      <th>crece_sum</th>\n",
       "      <th>decrece_sum</th>\n",
       "      <th>tn_futuro</th>\n",
       "      <th>tn_prediccion</th>\n",
       "      <th>average_tn</th>\n",
       "      <th>std_dev_tn</th>\n",
       "      <th>tn_futuro_real</th>\n",
       "      <th>tn_prediccion_real</th>\n",
       "    </tr>\n",
       "  </thead>\n",
       "  <tbody>\n",
       "    <tr>\n",
       "      <th>0</th>\n",
       "      <td>20001</td>\n",
       "      <td>201912</td>\n",
       "      <td>201701</td>\n",
       "      <td>201912</td>\n",
       "      <td>0.356686</td>\n",
       "      <td>201912</td>\n",
       "      <td>12</td>\n",
       "      <td>4</td>\n",
       "      <td>3</td>\n",
       "      <td>2019</td>\n",
       "      <td>...</td>\n",
       "      <td>False</td>\n",
       "      <td>False</td>\n",
       "      <td>5</td>\n",
       "      <td>7</td>\n",
       "      <td>NaN</td>\n",
       "      <td>-0.728222</td>\n",
       "      <td>1398.344322</td>\n",
       "      <td>298.145460</td>\n",
       "      <td>NaN</td>\n",
       "      <td>1287.572609</td>\n",
       "    </tr>\n",
       "    <tr>\n",
       "      <th>1</th>\n",
       "      <td>20002</td>\n",
       "      <td>201912</td>\n",
       "      <td>201701</td>\n",
       "      <td>201912</td>\n",
       "      <td>0.256522</td>\n",
       "      <td>201912</td>\n",
       "      <td>12</td>\n",
       "      <td>4</td>\n",
       "      <td>3</td>\n",
       "      <td>2019</td>\n",
       "      <td>...</td>\n",
       "      <td>True</td>\n",
       "      <td>False</td>\n",
       "      <td>6</td>\n",
       "      <td>6</td>\n",
       "      <td>NaN</td>\n",
       "      <td>-0.350038</td>\n",
       "      <td>1009.368178</td>\n",
       "      <td>303.834835</td>\n",
       "      <td>NaN</td>\n",
       "      <td>980.954824</td>\n",
       "    </tr>\n",
       "    <tr>\n",
       "      <th>2</th>\n",
       "      <td>20003</td>\n",
       "      <td>201912</td>\n",
       "      <td>201701</td>\n",
       "      <td>201912</td>\n",
       "      <td>0.011975</td>\n",
       "      <td>201912</td>\n",
       "      <td>12</td>\n",
       "      <td>4</td>\n",
       "      <td>3</td>\n",
       "      <td>2019</td>\n",
       "      <td>...</td>\n",
       "      <td>True</td>\n",
       "      <td>False</td>\n",
       "      <td>6</td>\n",
       "      <td>6</td>\n",
       "      <td>NaN</td>\n",
       "      <td>-0.607327</td>\n",
       "      <td>889.004243</td>\n",
       "      <td>292.036581</td>\n",
       "      <td>NaN</td>\n",
       "      <td>715.139474</td>\n",
       "    </tr>\n",
       "    <tr>\n",
       "      <th>3</th>\n",
       "      <td>20004</td>\n",
       "      <td>201912</td>\n",
       "      <td>201701</td>\n",
       "      <td>201912</td>\n",
       "      <td>-0.150213</td>\n",
       "      <td>201912</td>\n",
       "      <td>12</td>\n",
       "      <td>4</td>\n",
       "      <td>3</td>\n",
       "      <td>2019</td>\n",
       "      <td>...</td>\n",
       "      <td>False</td>\n",
       "      <td>False</td>\n",
       "      <td>5</td>\n",
       "      <td>7</td>\n",
       "      <td>NaN</td>\n",
       "      <td>-0.381328</td>\n",
       "      <td>671.615383</td>\n",
       "      <td>224.450085</td>\n",
       "      <td>NaN</td>\n",
       "      <td>552.310930</td>\n",
       "    </tr>\n",
       "    <tr>\n",
       "      <th>4</th>\n",
       "      <td>20005</td>\n",
       "      <td>201912</td>\n",
       "      <td>201701</td>\n",
       "      <td>201912</td>\n",
       "      <td>-0.233451</td>\n",
       "      <td>201912</td>\n",
       "      <td>12</td>\n",
       "      <td>4</td>\n",
       "      <td>3</td>\n",
       "      <td>2019</td>\n",
       "      <td>...</td>\n",
       "      <td>False</td>\n",
       "      <td>False</td>\n",
       "      <td>6</td>\n",
       "      <td>6</td>\n",
       "      <td>NaN</td>\n",
       "      <td>-0.248184</td>\n",
       "      <td>644.200514</td>\n",
       "      <td>218.273222</td>\n",
       "      <td>NaN</td>\n",
       "      <td>539.072602</td>\n",
       "    </tr>\n",
       "  </tbody>\n",
       "</table>\n",
       "<p>5 rows × 116 columns</p>\n",
       "</div>"
      ],
      "text/plain": [
       "   product_id  periodo  primer_periodo  ultimo_periodo   tn_norm  periodo_dt  \\\n",
       "0       20001   201912          201701          201912  0.356686      201912   \n",
       "1       20002   201912          201701          201912  0.256522      201912   \n",
       "2       20003   201912          201701          201912  0.011975      201912   \n",
       "3       20004   201912          201701          201912 -0.150213      201912   \n",
       "4       20005   201912          201701          201912 -0.233451      201912   \n",
       "\n",
       "   mes  quarter  month_in_quarter  year  ...  crece_12  crece_13  crece_sum  \\\n",
       "0   12        4                 3  2019  ...     False     False          5   \n",
       "1   12        4                 3  2019  ...      True     False          6   \n",
       "2   12        4                 3  2019  ...      True     False          6   \n",
       "3   12        4                 3  2019  ...     False     False          5   \n",
       "4   12        4                 3  2019  ...     False     False          6   \n",
       "\n",
       "   decrece_sum  tn_futuro  tn_prediccion   average_tn  std_dev_tn  \\\n",
       "0            7        NaN      -0.728222  1398.344322  298.145460   \n",
       "1            6        NaN      -0.350038  1009.368178  303.834835   \n",
       "2            6        NaN      -0.607327   889.004243  292.036581   \n",
       "3            7        NaN      -0.381328   671.615383  224.450085   \n",
       "4            6        NaN      -0.248184   644.200514  218.273222   \n",
       "\n",
       "   tn_futuro_real  tn_prediccion_real  \n",
       "0             NaN         1287.572609  \n",
       "1             NaN          980.954824  \n",
       "2             NaN          715.139474  \n",
       "3             NaN          552.310930  \n",
       "4             NaN          539.072602  \n",
       "\n",
       "[5 rows x 116 columns]"
      ]
     },
     "execution_count": 84,
     "metadata": {},
     "output_type": "execute_result"
    }
   ],
   "source": [
    "final.head()"
   ]
  },
  {
   "cell_type": "code",
   "execution_count": 85,
   "metadata": {},
   "outputs": [],
   "source": [
    "final.to_parquet('sell_in_pred.parquet', index=False)"
   ]
  },
  {
   "cell_type": "code",
   "execution_count": null,
   "metadata": {},
   "outputs": [],
   "source": []
  }
 ],
 "metadata": {
  "kernelspec": {
   "display_name": "uni",
   "language": "python",
   "name": "python3"
  },
  "language_info": {
   "codemirror_mode": {
    "name": "ipython",
    "version": 3
   },
   "file_extension": ".py",
   "mimetype": "text/x-python",
   "name": "python",
   "nbconvert_exporter": "python",
   "pygments_lexer": "ipython3",
   "version": "3.10.13"
  }
 },
 "nbformat": 4,
 "nbformat_minor": 2
}
