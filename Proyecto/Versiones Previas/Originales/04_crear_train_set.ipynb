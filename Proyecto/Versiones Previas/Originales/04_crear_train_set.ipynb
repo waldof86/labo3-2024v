{
 "cells": [
  {
   "cell_type": "code",
   "execution_count": 17,
   "metadata": {},
   "outputs": [],
   "source": [
    "import pandas as pd\n",
    "from datetime import datetime\n",
    "\n",
    "import warnings\n",
    "\n",
    "warnings.filterwarnings('ignore')"
   ]
  },
  {
   "cell_type": "code",
   "execution_count": null,
   "metadata": {},
   "outputs": [
    {
     "name": "stdout",
     "output_type": "stream",
     "text": [
      "------------------------------COMIENZA-----------------------------\n",
      "[DefaultFolder/['01_sell_in_group.parquet', '01_prod_stats.parquet', '01_prod_data.parquet', '01_stock_data.parquet']\n"
     ]
    }
   ],
   "source": [
    "try:\n",
    "    FILES\n",
    "    FILE = FILES[3]\n",
    "    FOLDER\n",
    "except NameError:\n",
    "    FILE = ['04_sell_in_train.parquet',\n",
    "            '04_sell_in_test.parquet',\n",
    "            '04_sell_in_futuro.parquet']\n",
    "    FOLDER = 'DefaultFolder'\n",
    "\n",
    "    \n",
    "print(f\"------------------------------COMIENZA-----------------------------\\n[{FOLDER}/{FILE}\")"
   ]
  },
  {
   "cell_type": "code",
   "execution_count": 19,
   "metadata": {},
   "outputs": [],
   "source": [
    "periodo_train_start = 201701\n",
    "periodo_train_end = 201807\n",
    "periodo_test = 201807\n",
    "periodo_futuro = 201912"
   ]
  },
  {
   "cell_type": "code",
   "execution_count": 20,
   "metadata": {},
   "outputs": [
    {
     "name": "stdout",
     "output_type": "stream",
     "text": [
      "(22349, 187)\n"
     ]
    }
   ],
   "source": [
    "#df = pd.read_parquet(\"sell_in_lag.parquet\")\n",
    "df = pd.read_parquet(f\"{FOLDER}/{FILES[2][0]}\")\n",
    "print(df.shape)"
   ]
  },
  {
   "cell_type": "code",
   "execution_count": 21,
   "metadata": {},
   "outputs": [],
   "source": [
    "df.drop(columns=['tn','values','total_tn','average_tn','median_tn','std_dev_tn','iqr_tn','max_tn','min_tn'], inplace=True)"
   ]
  },
  {
   "cell_type": "code",
   "execution_count": 22,
   "metadata": {},
   "outputs": [],
   "source": [
    "df['primer_periodo'] = pd.to_datetime(df['primer_periodo']).dt.strftime('%Y%m').astype(int)\n",
    "df['ultimo_periodo'] = pd.to_datetime(df['ultimo_periodo']).dt.strftime('%Y%m').astype(int)\n",
    "df['periodo_dt'] = pd.to_datetime(df['periodo_dt']).dt.strftime('%Y%m').astype(int)\n",
    "df['tn_futuro'] = -df.groupby('product_id')['tn_norm'].diff(-2)"
   ]
  },
  {
   "cell_type": "code",
   "execution_count": 23,
   "metadata": {},
   "outputs": [
    {
     "name": "stdout",
     "output_type": "stream",
     "text": [
      "df_train: (14511, 179)\n",
      "df_test: (780, 179)\n",
      "df_futuro: (780, 179)\n"
     ]
    }
   ],
   "source": [
    "df_train = df[(df['periodo']>=periodo_train_start) & (df['periodo']<=periodo_train_end)]\n",
    "df_test  = df[df['periodo']==periodo_test]\n",
    "df_futuro  = df[df['periodo']==periodo_futuro]\n",
    "\n",
    "print(f\"df_train: {df_train.shape}\")\n",
    "print(f\"df_test: {df_test.shape}\")\n",
    "print(f\"df_futuro: {df_test.shape}\")"
   ]
  },
  {
   "cell_type": "code",
   "execution_count": 24,
   "metadata": {},
   "outputs": [
    {
     "name": "stdout",
     "output_type": "stream",
     "text": [
      "Shape Train: (14511, 179) para los periodos desde 201801 hasta 201910\n",
      "Shape Test: (780, 179) para el periodo 201912\n",
      "Shape Futuro: (780, 179) para el periodo 201912\n"
     ]
    }
   ],
   "source": [
    "print(f\"Shape Train: {df_train.shape} para los periodos desde {periodo_train_start} hasta {periodo_train_end}\")\n",
    "print(f\"Shape Test: {df_test.shape} para el periodo {periodo_test}\")\n",
    "print(f\"Shape Futuro: {df_futuro.shape} para el periodo {periodo_futuro}\")"
   ]
  },
  {
   "cell_type": "code",
   "execution_count": 25,
   "metadata": {},
   "outputs": [],
   "source": [
    "# df_train.to_parquet('sell_in_train.parquet', index=False)\n",
    "# df_test.to_parquet('sell_in_test.parquet', index=False)\n",
    "# df_futuro.to_parquet('sell_in_futuro.parquet', index=False)\n",
    "\n",
    "df_train.to_parquet(f'{FOLDER}/{FILE[0]}', index=False)\n",
    "df_test.to_parquet(f'{FOLDER}/{FILE[1]}', index=False)\n",
    "df_futuro.to_parquet(f'{FOLDER}/{FILE[2]}', index=False)"
   ]
  },
  {
   "cell_type": "code",
   "execution_count": 26,
   "metadata": {},
   "outputs": [],
   "source": [
    "#estado_control = f\"04_crear_train_set Terminado - {nombrefile} - {datetime.now()}\""
   ]
  },
  {
   "cell_type": "code",
   "execution_count": null,
   "metadata": {},
   "outputs": [
    {
     "name": "stdout",
     "output_type": "stream",
     "text": [
      " DefaultFolder/['01_sell_in_group.parquet', '01_prod_stats.parquet', '01_prod_data.parquet', '01_stock_data.parquet']\n",
      "------------------------------FINALIZA-----------------------------\n"
     ]
    }
   ],
   "source": [
    "print(f\" {FOLDER}/{FILE}\\n------------------------------FINALIZA-----------------------------\")"
   ]
  }
 ],
 "metadata": {
  "kernelspec": {
   "display_name": "uni",
   "language": "python",
   "name": "python3"
  },
  "language_info": {
   "codemirror_mode": {
    "name": "ipython",
    "version": 3
   },
   "file_extension": ".py",
   "mimetype": "text/x-python",
   "name": "python",
   "nbconvert_exporter": "python",
   "pygments_lexer": "ipython3",
   "version": "3.10.13"
  }
 },
 "nbformat": 4,
 "nbformat_minor": 2
}
