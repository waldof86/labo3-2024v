{
 "cells": [
  {
   "cell_type": "code",
   "execution_count": 6,
   "metadata": {},
   "outputs": [],
   "source": [
    "import pandas as pd\n",
    "from datetime import datetime\n",
    "import json\n",
    "import os\n",
    "\n",
    "fase = '02_normaliza'"
   ]
  },
  {
   "cell_type": "code",
   "execution_count": 7,
   "metadata": {},
   "outputs": [],
   "source": [
    "with open('gen_config.json', 'r') as file:\n",
    "    gen_config =json.load(file)"
   ]
  },
  {
   "cell_type": "code",
   "execution_count": 8,
   "metadata": {},
   "outputs": [
    {
     "name": "stdout",
     "output_type": "stream",
     "text": [
      "----------------------------------------------COMIENZA----------------------------------------------\n",
      "--------------------------------------------02_normaliza--------------------------------------------\n"
     ]
    }
   ],
   "source": [
    "folder = gen_config['folder']\n",
    "\n",
    "path_group = gen_config['path_group']\n",
    "path_prod_stats = gen_config['path_prod_stats']\n",
    "path_norm = gen_config['path_norm']\n",
    "\n",
    "print(f\"{'COMIENZA':-^100}\")\n",
    "print(f\"{fase:-^100}\")"
   ]
  },
  {
   "cell_type": "code",
   "execution_count": 10,
   "metadata": {},
   "outputs": [],
   "source": [
    "df = pd.read_parquet(f\"{folder}/{path_group}\")\n",
    "prod_stats = pd.read_parquet(f'{folder}/{path_prod_stats}')"
   ]
  },
  {
   "cell_type": "code",
   "execution_count": 11,
   "metadata": {},
   "outputs": [
    {
     "data": {
      "text/html": [
       "<div>\n",
       "<style scoped>\n",
       "    .dataframe tbody tr th:only-of-type {\n",
       "        vertical-align: middle;\n",
       "    }\n",
       "\n",
       "    .dataframe tbody tr th {\n",
       "        vertical-align: top;\n",
       "    }\n",
       "\n",
       "    .dataframe thead th {\n",
       "        text-align: right;\n",
       "    }\n",
       "</style>\n",
       "<table border=\"1\" class=\"dataframe\">\n",
       "  <thead>\n",
       "    <tr style=\"text-align: right;\">\n",
       "      <th></th>\n",
       "      <th>periodo</th>\n",
       "      <th>product_id</th>\n",
       "      <th>customer_id</th>\n",
       "      <th>plan_precios_cuidados</th>\n",
       "      <th>cust_request_qty</th>\n",
       "      <th>cust_request_tn</th>\n",
       "      <th>tn</th>\n",
       "      <th>primer_periodo</th>\n",
       "      <th>ultimo_periodo</th>\n",
       "      <th>values</th>\n",
       "      <th>total_tn</th>\n",
       "      <th>min_tn</th>\n",
       "      <th>average_tn</th>\n",
       "      <th>median_tn</th>\n",
       "      <th>std_dev_tn</th>\n",
       "      <th>iqr_tn</th>\n",
       "      <th>max_tn</th>\n",
       "    </tr>\n",
       "  </thead>\n",
       "  <tbody>\n",
       "    <tr>\n",
       "      <th>0</th>\n",
       "      <td>201701</td>\n",
       "      <td>20001</td>\n",
       "      <td>1893102</td>\n",
       "      <td>0</td>\n",
       "      <td>479</td>\n",
       "      <td>937.72717</td>\n",
       "      <td>934.77222</td>\n",
       "      <td>2017-01-01</td>\n",
       "      <td>2019-12-01</td>\n",
       "      <td>36.0</td>\n",
       "      <td>50340.39558</td>\n",
       "      <td>798.01620</td>\n",
       "      <td>1398.344322</td>\n",
       "      <td>1418.023430</td>\n",
       "      <td>298.145460</td>\n",
       "      <td>335.515348</td>\n",
       "      <td>2295.19832</td>\n",
       "    </tr>\n",
       "    <tr>\n",
       "      <th>1</th>\n",
       "      <td>201701</td>\n",
       "      <td>20002</td>\n",
       "      <td>1548590</td>\n",
       "      <td>0</td>\n",
       "      <td>391</td>\n",
       "      <td>555.18654</td>\n",
       "      <td>550.15707</td>\n",
       "      <td>2017-01-01</td>\n",
       "      <td>2019-12-01</td>\n",
       "      <td>36.0</td>\n",
       "      <td>36337.25439</td>\n",
       "      <td>505.88633</td>\n",
       "      <td>1009.368178</td>\n",
       "      <td>992.005505</td>\n",
       "      <td>303.834835</td>\n",
       "      <td>246.766150</td>\n",
       "      <td>1979.53635</td>\n",
       "    </tr>\n",
       "    <tr>\n",
       "      <th>2</th>\n",
       "      <td>201701</td>\n",
       "      <td>20003</td>\n",
       "      <td>2050123</td>\n",
       "      <td>0</td>\n",
       "      <td>438</td>\n",
       "      <td>1067.81543</td>\n",
       "      <td>1063.45835</td>\n",
       "      <td>2017-01-01</td>\n",
       "      <td>2019-12-01</td>\n",
       "      <td>36.0</td>\n",
       "      <td>32004.15274</td>\n",
       "      <td>525.82591</td>\n",
       "      <td>889.004243</td>\n",
       "      <td>786.715735</td>\n",
       "      <td>292.036581</td>\n",
       "      <td>260.440887</td>\n",
       "      <td>1958.59845</td>\n",
       "    </tr>\n",
       "    <tr>\n",
       "      <th>3</th>\n",
       "      <td>201701</td>\n",
       "      <td>20004</td>\n",
       "      <td>1787364</td>\n",
       "      <td>0</td>\n",
       "      <td>339</td>\n",
       "      <td>569.37394</td>\n",
       "      <td>555.91614</td>\n",
       "      <td>2017-01-01</td>\n",
       "      <td>2019-12-01</td>\n",
       "      <td>36.0</td>\n",
       "      <td>24178.15379</td>\n",
       "      <td>415.52538</td>\n",
       "      <td>671.615383</td>\n",
       "      <td>596.909300</td>\n",
       "      <td>224.450085</td>\n",
       "      <td>279.662265</td>\n",
       "      <td>1268.21209</td>\n",
       "    </tr>\n",
       "    <tr>\n",
       "      <th>4</th>\n",
       "      <td>201701</td>\n",
       "      <td>20005</td>\n",
       "      <td>1419231</td>\n",
       "      <td>0</td>\n",
       "      <td>249</td>\n",
       "      <td>494.60084</td>\n",
       "      <td>494.27011</td>\n",
       "      <td>2017-01-01</td>\n",
       "      <td>2019-12-01</td>\n",
       "      <td>36.0</td>\n",
       "      <td>23191.21852</td>\n",
       "      <td>329.42894</td>\n",
       "      <td>644.200514</td>\n",
       "      <td>578.571990</td>\n",
       "      <td>218.273222</td>\n",
       "      <td>305.415543</td>\n",
       "      <td>1247.88880</td>\n",
       "    </tr>\n",
       "  </tbody>\n",
       "</table>\n",
       "</div>"
      ],
      "text/plain": [
       "   periodo  product_id  customer_id  plan_precios_cuidados  cust_request_qty  \\\n",
       "0   201701       20001      1893102                      0               479   \n",
       "1   201701       20002      1548590                      0               391   \n",
       "2   201701       20003      2050123                      0               438   \n",
       "3   201701       20004      1787364                      0               339   \n",
       "4   201701       20005      1419231                      0               249   \n",
       "\n",
       "   cust_request_tn          tn primer_periodo ultimo_periodo  values  \\\n",
       "0        937.72717   934.77222     2017-01-01     2019-12-01    36.0   \n",
       "1        555.18654   550.15707     2017-01-01     2019-12-01    36.0   \n",
       "2       1067.81543  1063.45835     2017-01-01     2019-12-01    36.0   \n",
       "3        569.37394   555.91614     2017-01-01     2019-12-01    36.0   \n",
       "4        494.60084   494.27011     2017-01-01     2019-12-01    36.0   \n",
       "\n",
       "      total_tn     min_tn   average_tn    median_tn  std_dev_tn      iqr_tn  \\\n",
       "0  50340.39558  798.01620  1398.344322  1418.023430  298.145460  335.515348   \n",
       "1  36337.25439  505.88633  1009.368178   992.005505  303.834835  246.766150   \n",
       "2  32004.15274  525.82591   889.004243   786.715735  292.036581  260.440887   \n",
       "3  24178.15379  415.52538   671.615383   596.909300  224.450085  279.662265   \n",
       "4  23191.21852  329.42894   644.200514   578.571990  218.273222  305.415543   \n",
       "\n",
       "       max_tn  \n",
       "0  2295.19832  \n",
       "1  1979.53635  \n",
       "2  1958.59845  \n",
       "3  1268.21209  \n",
       "4  1247.88880  "
      ]
     },
     "execution_count": 11,
     "metadata": {},
     "output_type": "execute_result"
    }
   ],
   "source": [
    "df_norm = df.merge(prod_stats, how='left', on='product_id')\n",
    "df_norm.head()"
   ]
  },
  {
   "cell_type": "code",
   "execution_count": 12,
   "metadata": {},
   "outputs": [],
   "source": [
    "df_norm['tn_norm'] = (df_norm['tn'] - df_norm['average_tn']) / df_norm['std_dev_tn']"
   ]
  },
  {
   "cell_type": "code",
   "execution_count": 13,
   "metadata": {},
   "outputs": [
    {
     "data": {
      "text/html": [
       "<div>\n",
       "<style scoped>\n",
       "    .dataframe tbody tr th:only-of-type {\n",
       "        vertical-align: middle;\n",
       "    }\n",
       "\n",
       "    .dataframe tbody tr th {\n",
       "        vertical-align: top;\n",
       "    }\n",
       "\n",
       "    .dataframe thead th {\n",
       "        text-align: right;\n",
       "    }\n",
       "</style>\n",
       "<table border=\"1\" class=\"dataframe\">\n",
       "  <thead>\n",
       "    <tr style=\"text-align: right;\">\n",
       "      <th></th>\n",
       "      <th>product_id</th>\n",
       "      <th>periodo</th>\n",
       "      <th>tn_norm</th>\n",
       "    </tr>\n",
       "  </thead>\n",
       "  <tbody>\n",
       "    <tr>\n",
       "      <th>0</th>\n",
       "      <td>20001</td>\n",
       "      <td>201701</td>\n",
       "      <td>-1.554852</td>\n",
       "    </tr>\n",
       "    <tr>\n",
       "      <th>1</th>\n",
       "      <td>20002</td>\n",
       "      <td>201701</td>\n",
       "      <td>-1.511384</td>\n",
       "    </tr>\n",
       "    <tr>\n",
       "      <th>2</th>\n",
       "      <td>20003</td>\n",
       "      <td>201701</td>\n",
       "      <td>0.597371</td>\n",
       "    </tr>\n",
       "    <tr>\n",
       "      <th>3</th>\n",
       "      <td>20004</td>\n",
       "      <td>201701</td>\n",
       "      <td>-0.515479</td>\n",
       "    </tr>\n",
       "    <tr>\n",
       "      <th>4</th>\n",
       "      <td>20005</td>\n",
       "      <td>201701</td>\n",
       "      <td>-0.686893</td>\n",
       "    </tr>\n",
       "    <tr>\n",
       "      <th>...</th>\n",
       "      <td>...</td>\n",
       "      <td>...</td>\n",
       "      <td>...</td>\n",
       "    </tr>\n",
       "    <tr>\n",
       "      <th>22344</th>\n",
       "      <td>21263</td>\n",
       "      <td>201912</td>\n",
       "      <td>-0.498974</td>\n",
       "    </tr>\n",
       "    <tr>\n",
       "      <th>22345</th>\n",
       "      <td>21265</td>\n",
       "      <td>201912</td>\n",
       "      <td>-0.362775</td>\n",
       "    </tr>\n",
       "    <tr>\n",
       "      <th>22346</th>\n",
       "      <td>21266</td>\n",
       "      <td>201912</td>\n",
       "      <td>-0.410020</td>\n",
       "    </tr>\n",
       "    <tr>\n",
       "      <th>22347</th>\n",
       "      <td>21267</td>\n",
       "      <td>201912</td>\n",
       "      <td>-0.965053</td>\n",
       "    </tr>\n",
       "    <tr>\n",
       "      <th>22348</th>\n",
       "      <td>21276</td>\n",
       "      <td>201912</td>\n",
       "      <td>-0.837426</td>\n",
       "    </tr>\n",
       "  </tbody>\n",
       "</table>\n",
       "<p>22349 rows × 3 columns</p>\n",
       "</div>"
      ],
      "text/plain": [
       "       product_id  periodo   tn_norm\n",
       "0           20001   201701 -1.554852\n",
       "1           20002   201701 -1.511384\n",
       "2           20003   201701  0.597371\n",
       "3           20004   201701 -0.515479\n",
       "4           20005   201701 -0.686893\n",
       "...           ...      ...       ...\n",
       "22344       21263   201912 -0.498974\n",
       "22345       21265   201912 -0.362775\n",
       "22346       21266   201912 -0.410020\n",
       "22347       21267   201912 -0.965053\n",
       "22348       21276   201912 -0.837426\n",
       "\n",
       "[22349 rows x 3 columns]"
      ]
     },
     "execution_count": 13,
     "metadata": {},
     "output_type": "execute_result"
    }
   ],
   "source": [
    "df_norm[['product_id', 'periodo','tn_norm']]"
   ]
  },
  {
   "cell_type": "code",
   "execution_count": 14,
   "metadata": {},
   "outputs": [],
   "source": [
    "df_norm.to_parquet(f'{folder}/{path_norm}', index=False)"
   ]
  },
  {
   "cell_type": "code",
   "execution_count": 15,
   "metadata": {},
   "outputs": [
    {
     "data": {
      "text/plain": [
       "(780, 18)"
      ]
     },
     "execution_count": 15,
     "metadata": {},
     "output_type": "execute_result"
    }
   ],
   "source": [
    "df_norm[df_norm['periodo'] == 201912].shape"
   ]
  },
  {
   "cell_type": "code",
   "execution_count": 16,
   "metadata": {},
   "outputs": [],
   "source": [
    "#estado_control = f\"02_normaliza Terminado - {nombrefile} - {datetime.now()}\""
   ]
  },
  {
   "cell_type": "code",
   "execution_count": 17,
   "metadata": {},
   "outputs": [
    {
     "name": "stdout",
     "output_type": "stream",
     "text": [
      "--------------------------------------------02_normaliza--------------------------------------------\n",
      "----------------------------------------------FINALIZA----------------------------------------------\n",
      "\n"
     ]
    }
   ],
   "source": [
    "print(f\"{fase:-^100}\")\n",
    "print(f\"{'FINALIZA':-^100}\\n\\n\\n\")"
   ]
  }
 ],
 "metadata": {
  "kernelspec": {
   "display_name": "uni",
   "language": "python",
   "name": "python3"
  },
  "language_info": {
   "codemirror_mode": {
    "name": "ipython",
    "version": 3
   },
   "file_extension": ".py",
   "mimetype": "text/x-python",
   "name": "python",
   "nbconvert_exporter": "python",
   "pygments_lexer": "ipython3",
   "version": "3.10.13"
  }
 },
 "nbformat": 4,
 "nbformat_minor": 2
}
