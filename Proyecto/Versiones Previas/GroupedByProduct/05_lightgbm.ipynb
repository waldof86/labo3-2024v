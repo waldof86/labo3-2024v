{
 "cells": [
  {
   "cell_type": "code",
   "execution_count": 18,
   "metadata": {},
   "outputs": [],
   "source": [
    "import pandas as pd\n",
    "import lightgbm as lgb\n",
    "from datetime import datetime\n",
    "import matplotlib.pyplot as plt\n",
    "import json\n",
    "import numpy as np\n",
    "\n",
    "import warnings\n",
    "warnings.filterwarnings('ignore')\n",
    "\n",
    "fase = '05_lightgbm (un intento)'"
   ]
  },
  {
   "cell_type": "code",
   "execution_count": 19,
   "metadata": {},
   "outputs": [],
   "source": [
    "with open('gen_config.json', 'r') as file:\n",
    "    gen_config =json.load(file)"
   ]
  },
  {
   "cell_type": "code",
   "execution_count": 20,
   "metadata": {},
   "outputs": [
    {
     "name": "stdout",
     "output_type": "stream",
     "text": [
      "----------------------------------------------COMIENZA----------------------------------------------\n",
      "--------------------------------------05_lightgbm (un intento)--------------------------------------\n"
     ]
    }
   ],
   "source": [
    "folder = gen_config['folder']\n",
    "\n",
    "path_pred_test = gen_config['path_pred_test']\n",
    "path_pred_futuro = gen_config['path_pred_futuro']\n",
    "path_prod_stats = gen_config['path_prod_stats']\n",
    "\n",
    "path_train = gen_config['path_train']\n",
    "path_test = gen_config['path_test']\n",
    "path_futuro = gen_config['path_futuro']\n",
    "\n",
    "lgbm_params = gen_config['var_lgbm_params']\n",
    "exclusiones = gen_config['var_exclusiones']\n",
    "dibujar_pesos = gen_config['var_dibujar_pesos']\n",
    "var_num_boost_round = gen_config['var_num_boost_round']\n",
    "\n",
    "print(f\"{'COMIENZA':-^100}\")\n",
    "print(f\"{fase:-^100}\")"
   ]
  },
  {
   "cell_type": "code",
   "execution_count": 21,
   "metadata": {},
   "outputs": [
    {
     "name": "stdout",
     "output_type": "stream",
     "text": [
      "Shape df_train...........: (14511, 198)\n",
      "Shape df_test............: (780, 198)\n",
      "Shape df_futuro..........: (780, 198)\n"
     ]
    }
   ],
   "source": [
    "df_train = pd.read_parquet(f\"{folder}/{path_train}\")\n",
    "df_test = pd.read_parquet(f\"{folder}/{path_test}\")\n",
    "df_futuro = pd.read_parquet(f\"{folder}/{path_futuro}\")\n",
    "\n",
    "print(f\"{'Shape df_train':.<25}: {df_train.shape}\")\n",
    "print(f\"{'Shape df_test':.<25}: {df_test.shape}\")\n",
    "print(f\"{'Shape df_futuro':.<25}: {df_futuro.shape}\")"
   ]
  },
  {
   "cell_type": "code",
   "execution_count": 22,
   "metadata": {},
   "outputs": [
    {
     "name": "stdout",
     "output_type": "stream",
     "text": [
      "Convertida ['yearquarter', 'cat1', 'cat2', 'cat3', 'brand', 'descripcion', 'cluster_dtw_05', 'cluster_dtw_10', 'cluster_dtw_15', 'cluster_dtw_20', 'cluster_softdtw_05', 'cluster_softdtw_10', 'cluster_softdtw_15', 'cluster_softdtw_20'] a Categorical\n"
     ]
    }
   ],
   "source": [
    "categorical_features = df_train.select_dtypes(['category']).columns.tolist()\n",
    "for col in categorical_features:\n",
    "    df_train[col] = df_train[col].cat.codes\n",
    "    df_test[col] = df_test[col].cat.codes\n",
    "    df_futuro[col] = df_futuro[col].cat.codes\n",
    "print(f\"Convertidas a categorical: {categorical_features}\")"
   ]
  },
  {
   "cell_type": "code",
   "execution_count": 6,
   "metadata": {},
   "outputs": [
    {
     "name": "stdout",
     "output_type": "stream",
     "text": [
      "Shape X_train............: (14511, 197)\n",
      "Shape X_test.............: (780, 197)\n",
      "Shape X_futuro...........: (780, 197)\n",
      "Shape y_train............: (14511,)\n",
      "Shape y_test.............: (780,)\n",
      "Shape y_futuro...........: (780,)\n"
     ]
    }
   ],
   "source": [
    "X_train = df_train.iloc[:,:-1]\n",
    "X_test = df_test.iloc[:,:-1]\n",
    "X_futuro = df_futuro.iloc[:,:-1]\n",
    "\n",
    "y_train = df_train.iloc[:,-1]\n",
    "y_test = df_test.iloc[:,-1]\n",
    "y_futuro = df_futuro.iloc[:,-1]\n",
    "\n",
    "print(f\"{'Shape X_train':.<25}: {X_train.shape}\")\n",
    "print(f\"{'Shape X_test':.<25}: {X_test.shape}\")\n",
    "print(f\"{'Shape X_futuro':.<25}: {X_futuro.shape}\")\n",
    "\n",
    "print(f\"{'Shape y_train':.<25}: {y_train.shape}\")\n",
    "print(f\"{'Shape y_test':.<25}: {y_test.shape}\")\n",
    "print(f\"{'Shape y_futuro':.<25}: {y_futuro.shape}\")"
   ]
  },
  {
   "cell_type": "code",
   "execution_count": 7,
   "metadata": {},
   "outputs": [],
   "source": [
    "train_data = lgb.Dataset(X_train.drop(columns=exclusiones), label=y_train)\n",
    "test_data = lgb.Dataset(X_test.drop(columns=exclusiones), label=y_test)\n",
    "futuro_data = lgb.Dataset(X_futuro.drop(columns=exclusiones), label=y_futuro)\n",
    "\n",
    "params = lgbm_params\n",
    "\n",
    "model = lgb.train(params,\n",
    "                train_data,\n",
    "                num_boost_round=var_num_boost_round,\n",
    "                valid_sets=[train_data, test_data],\n",
    "                )\n",
    "\n",
    "#y_pred = model.predict(X_test, num_iteration=model.best_iteration)\n",
    "y_pred = model.predict(X_test.drop(columns=exclusiones), num_iteration=model.best_iteration)\n",
    "y_pred_futuro = model.predict(X_futuro.drop(columns=exclusiones), num_iteration=model.best_iteration)\n",
    "\n",
    "#example_row = X_test.iloc[0]\n",
    "#example_pred = model.predict(example_row.values.reshape(1, -1), num_iteration=model.best_iteration)\n",
    "#print(f'Prediction for example row: {example_pred[0]}')"
   ]
  },
  {
   "cell_type": "code",
   "execution_count": 8,
   "metadata": {},
   "outputs": [],
   "source": [
    "final = X_test\n",
    "final['tn_futuro'] = y_test\n",
    "final['tn_prediccion'] = y_pred"
   ]
  },
  {
   "cell_type": "code",
   "execution_count": 9,
   "metadata": {},
   "outputs": [
    {
     "data": {
      "text/plain": [
       "Index(['periodo', 'product_id', 'customer_id', 'plan_precios_cuidados',\n",
       "       'cust_request_qty', 'cust_request_tn', 'primer_periodo',\n",
       "       'ultimo_periodo', 'tn_norm', 'periodo_dt',\n",
       "       ...\n",
       "       'cluster_dtw_15', 'cluster_dtw_20', 'cluster_softdtw_05',\n",
       "       'cluster_softdtw_10', 'cluster_softdtw_15', 'cluster_softdtw_20',\n",
       "       'tn_futuro', 'tn_prediccion', 'average_tn', 'std_dev_tn'],\n",
       "      dtype='object', length=201)"
      ]
     },
     "execution_count": 9,
     "metadata": {},
     "output_type": "execute_result"
    }
   ],
   "source": [
    "#prod_stats = pd.read_parquet('prod_stats.parquet')\n",
    "prod_stats = pd.read_parquet(f\"{folder}/{path_prod_stats}\")\n",
    "#prod_stats = pd.read_parquet('./Experimentos/2024-06-23_NuevoScript/01_prod_stats.parquet')\n",
    "\n",
    "prod_stats = prod_stats[['product_id', 'average_tn', 'std_dev_tn']]\n",
    "final = final.merge(prod_stats, how='left', on='product_id')\n",
    "final.columns"
   ]
  },
  {
   "cell_type": "code",
   "execution_count": 10,
   "metadata": {},
   "outputs": [],
   "source": [
    "final['tn_futuro_real'] = (final['tn_norm'] + final['tn_futuro']) * final['std_dev_tn'] + final['average_tn'] # por dos porque esta normalizado y al hacer sumas y restas se acumulan medias\n",
    "final['tn_prediccion_real'] = (final['tn_norm'] + final['tn_prediccion']) * final['std_dev_tn'] + final['average_tn']"
   ]
  },
  {
   "cell_type": "code",
   "execution_count": 11,
   "metadata": {},
   "outputs": [
    {
     "data": {
      "text/html": [
       "<div>\n",
       "<style scoped>\n",
       "    .dataframe tbody tr th:only-of-type {\n",
       "        vertical-align: middle;\n",
       "    }\n",
       "\n",
       "    .dataframe tbody tr th {\n",
       "        vertical-align: top;\n",
       "    }\n",
       "\n",
       "    .dataframe thead th {\n",
       "        text-align: right;\n",
       "    }\n",
       "</style>\n",
       "<table border=\"1\" class=\"dataframe\">\n",
       "  <thead>\n",
       "    <tr style=\"text-align: right;\">\n",
       "      <th></th>\n",
       "      <th>periodo</th>\n",
       "      <th>product_id</th>\n",
       "      <th>customer_id</th>\n",
       "      <th>plan_precios_cuidados</th>\n",
       "      <th>cust_request_qty</th>\n",
       "      <th>cust_request_tn</th>\n",
       "      <th>primer_periodo</th>\n",
       "      <th>ultimo_periodo</th>\n",
       "      <th>tn_norm</th>\n",
       "      <th>periodo_dt</th>\n",
       "      <th>...</th>\n",
       "      <th>cluster_softdtw_05</th>\n",
       "      <th>cluster_softdtw_10</th>\n",
       "      <th>cluster_softdtw_15</th>\n",
       "      <th>cluster_softdtw_20</th>\n",
       "      <th>tn_futuro</th>\n",
       "      <th>tn_prediccion</th>\n",
       "      <th>average_tn</th>\n",
       "      <th>std_dev_tn</th>\n",
       "      <th>tn_futuro_real</th>\n",
       "      <th>tn_prediccion_real</th>\n",
       "    </tr>\n",
       "  </thead>\n",
       "  <tbody>\n",
       "    <tr>\n",
       "      <th>0</th>\n",
       "      <td>201910</td>\n",
       "      <td>20001</td>\n",
       "      <td>1298289</td>\n",
       "      <td>0</td>\n",
       "      <td>367</td>\n",
       "      <td>1587.87525</td>\n",
       "      <td>201701</td>\n",
       "      <td>201912</td>\n",
       "      <td>0.547254</td>\n",
       "      <td>201910</td>\n",
       "      <td>...</td>\n",
       "      <td>2.0</td>\n",
       "      <td>4.0</td>\n",
       "      <td>4.0</td>\n",
       "      <td>4.0</td>\n",
       "      <td>-0.190568</td>\n",
       "      <td>-0.483845</td>\n",
       "      <td>1398.344322</td>\n",
       "      <td>298.145460</td>\n",
       "      <td>1504.68856</td>\n",
       "      <td>1417.249473</td>\n",
       "    </tr>\n",
       "    <tr>\n",
       "      <th>1</th>\n",
       "      <td>201910</td>\n",
       "      <td>20002</td>\n",
       "      <td>903212</td>\n",
       "      <td>0</td>\n",
       "      <td>312</td>\n",
       "      <td>2013.36305</td>\n",
       "      <td>201701</td>\n",
       "      <td>201912</td>\n",
       "      <td>3.193077</td>\n",
       "      <td>201910</td>\n",
       "      <td>...</td>\n",
       "      <td>2.0</td>\n",
       "      <td>4.0</td>\n",
       "      <td>4.0</td>\n",
       "      <td>19.0</td>\n",
       "      <td>-2.936555</td>\n",
       "      <td>-3.033054</td>\n",
       "      <td>1009.368178</td>\n",
       "      <td>303.834835</td>\n",
       "      <td>1087.30855</td>\n",
       "      <td>1057.989034</td>\n",
       "    </tr>\n",
       "    <tr>\n",
       "      <th>2</th>\n",
       "      <td>201910</td>\n",
       "      <td>20003</td>\n",
       "      <td>1943704</td>\n",
       "      <td>0</td>\n",
       "      <td>404</td>\n",
       "      <td>1091.94793</td>\n",
       "      <td>201701</td>\n",
       "      <td>201912</td>\n",
       "      <td>0.658692</td>\n",
       "      <td>201910</td>\n",
       "      <td>...</td>\n",
       "      <td>0.0</td>\n",
       "      <td>9.0</td>\n",
       "      <td>9.0</td>\n",
       "      <td>9.0</td>\n",
       "      <td>-0.646717</td>\n",
       "      <td>-0.990098</td>\n",
       "      <td>889.004243</td>\n",
       "      <td>292.036581</td>\n",
       "      <td>892.50129</td>\n",
       "      <td>792.221637</td>\n",
       "    </tr>\n",
       "    <tr>\n",
       "      <th>3</th>\n",
       "      <td>201910</td>\n",
       "      <td>20004</td>\n",
       "      <td>2168443</td>\n",
       "      <td>0</td>\n",
       "      <td>508</td>\n",
       "      <td>1078.32756</td>\n",
       "      <td>201701</td>\n",
       "      <td>201912</td>\n",
       "      <td>1.751307</td>\n",
       "      <td>201910</td>\n",
       "      <td>...</td>\n",
       "      <td>4.0</td>\n",
       "      <td>9.0</td>\n",
       "      <td>9.0</td>\n",
       "      <td>9.0</td>\n",
       "      <td>-1.901520</td>\n",
       "      <td>-2.077466</td>\n",
       "      <td>671.615383</td>\n",
       "      <td>224.450085</td>\n",
       "      <td>637.90002</td>\n",
       "      <td>598.408806</td>\n",
       "    </tr>\n",
       "    <tr>\n",
       "      <th>4</th>\n",
       "      <td>201910</td>\n",
       "      <td>20005</td>\n",
       "      <td>1728921</td>\n",
       "      <td>0</td>\n",
       "      <td>418</td>\n",
       "      <td>1040.72694</td>\n",
       "      <td>201701</td>\n",
       "      <td>201912</td>\n",
       "      <td>1.615325</td>\n",
       "      <td>201910</td>\n",
       "      <td>...</td>\n",
       "      <td>4.0</td>\n",
       "      <td>9.0</td>\n",
       "      <td>9.0</td>\n",
       "      <td>9.0</td>\n",
       "      <td>-1.848776</td>\n",
       "      <td>-2.084693</td>\n",
       "      <td>644.200514</td>\n",
       "      <td>218.273222</td>\n",
       "      <td>593.24443</td>\n",
       "      <td>541.750141</td>\n",
       "    </tr>\n",
       "  </tbody>\n",
       "</table>\n",
       "<p>5 rows × 203 columns</p>\n",
       "</div>"
      ],
      "text/plain": [
       "   periodo  product_id  customer_id  plan_precios_cuidados  cust_request_qty  \\\n",
       "0   201910       20001      1298289                      0               367   \n",
       "1   201910       20002       903212                      0               312   \n",
       "2   201910       20003      1943704                      0               404   \n",
       "3   201910       20004      2168443                      0               508   \n",
       "4   201910       20005      1728921                      0               418   \n",
       "\n",
       "   cust_request_tn  primer_periodo  ultimo_periodo   tn_norm  periodo_dt  ...  \\\n",
       "0       1587.87525          201701          201912  0.547254      201910  ...   \n",
       "1       2013.36305          201701          201912  3.193077      201910  ...   \n",
       "2       1091.94793          201701          201912  0.658692      201910  ...   \n",
       "3       1078.32756          201701          201912  1.751307      201910  ...   \n",
       "4       1040.72694          201701          201912  1.615325      201910  ...   \n",
       "\n",
       "   cluster_softdtw_05  cluster_softdtw_10  cluster_softdtw_15  \\\n",
       "0                 2.0                 4.0                 4.0   \n",
       "1                 2.0                 4.0                 4.0   \n",
       "2                 0.0                 9.0                 9.0   \n",
       "3                 4.0                 9.0                 9.0   \n",
       "4                 4.0                 9.0                 9.0   \n",
       "\n",
       "   cluster_softdtw_20  tn_futuro  tn_prediccion   average_tn  std_dev_tn  \\\n",
       "0                 4.0  -0.190568      -0.483845  1398.344322  298.145460   \n",
       "1                19.0  -2.936555      -3.033054  1009.368178  303.834835   \n",
       "2                 9.0  -0.646717      -0.990098   889.004243  292.036581   \n",
       "3                 9.0  -1.901520      -2.077466   671.615383  224.450085   \n",
       "4                 9.0  -1.848776      -2.084693   644.200514  218.273222   \n",
       "\n",
       "   tn_futuro_real  tn_prediccion_real  \n",
       "0      1504.68856         1417.249473  \n",
       "1      1087.30855         1057.989034  \n",
       "2       892.50129          792.221637  \n",
       "3       637.90002          598.408806  \n",
       "4       593.24443          541.750141  \n",
       "\n",
       "[5 rows x 203 columns]"
      ]
     },
     "execution_count": 11,
     "metadata": {},
     "output_type": "execute_result"
    }
   ],
   "source": [
    "final.head()"
   ]
  },
  {
   "cell_type": "code",
   "execution_count": 12,
   "metadata": {},
   "outputs": [],
   "source": [
    "#final.to_parquet('sell_in_pred.parquet', index=False)\n",
    "final.to_parquet(f'{folder}/{path_pred_test}', index=False)"
   ]
  },
  {
   "cell_type": "code",
   "execution_count": 13,
   "metadata": {},
   "outputs": [],
   "source": [
    "final_futuro = X_futuro\n",
    "final_futuro['tn_futuro'] = y_futuro\n",
    "final_futuro['tn_prediccion'] = y_pred_futuro\n",
    "\n",
    "final_futuro = final_futuro.merge(prod_stats, how='left', on='product_id')\n",
    "final_futuro.columns\n",
    "\n",
    "# por dos porque esta normalizado y al hacer sumas y restas se acumulan medias\n",
    "final_futuro['tn_futuro_real'] = (final_futuro['tn_norm'] + final_futuro['tn_futuro']) * final_futuro['std_dev_tn'] + final_futuro['average_tn'] \n",
    "final_futuro['tn_prediccion_real'] = (final_futuro['tn_norm'] + final_futuro['tn_prediccion']) * final_futuro['std_dev_tn'] + final_futuro['average_tn']\n",
    "\n",
    "#final_futuro.to_parquet('sell_in_pred_futuro.parquet', index=False)\n",
    "final_futuro.to_parquet(f'{folder}/{path_pred_futuro}', index=False)"
   ]
  },
  {
   "cell_type": "code",
   "execution_count": 14,
   "metadata": {},
   "outputs": [],
   "source": [
    "#estado_control = f\"05_lightgbm Terminado - {nombrefile} - {datetime.now()}\""
   ]
  },
  {
   "cell_type": "code",
   "execution_count": 15,
   "metadata": {},
   "outputs": [
    {
     "data": {
      "image/png": "[encoded data removed]",
      "text/plain": [
       "<Figure size 1000x1000 with 1 Axes>"
      ]
     },
     "metadata": {},
     "output_type": "display_data"
    }
   ],
   "source": [
    "lgb.plot_importance(model, max_num_features=20, figsize=(10,10))\n",
    "plt.show()"
   ]
  },
  {
   "cell_type": "code",
   "execution_count": 16,
   "metadata": {},
   "outputs": [],
   "source": [
    "importance_df = (\n",
    "    pd.DataFrame({\n",
    "        'feature_name': model.feature_name(),\n",
    "        'importance_gain': model.feature_importance(importance_type='gain'),\n",
    "        'importance_split': model.feature_importance(importance_type='split'),\n",
    "    })\n",
    "    .sort_values('importance_gain', ascending=False)\n",
    "    .reset_index(drop=True)\n",
    ")\n",
    "importance_df.sort_values('importance_split', ascending=False, inplace=True)\n",
    "feat_dibujar = importance_df[0:20]['feature_name'].reset_index(drop=True)"
   ]
  },
  {
   "cell_type": "code",
   "execution_count": 17,
   "metadata": {},
   "outputs": [
    {
     "data": {
      "text/html": [
       "<div>\n",
       "<style scoped>\n",
       "    .dataframe tbody tr th:only-of-type {\n",
       "        vertical-align: middle;\n",
       "    }\n",
       "\n",
       "    .dataframe tbody tr th {\n",
       "        vertical-align: top;\n",
       "    }\n",
       "\n",
       "    .dataframe thead th {\n",
       "        text-align: right;\n",
       "    }\n",
       "</style>\n",
       "<table border=\"1\" class=\"dataframe\">\n",
       "  <thead>\n",
       "    <tr style=\"text-align: right;\">\n",
       "      <th></th>\n",
       "      <th>feature_name</th>\n",
       "      <th>importance_gain</th>\n",
       "      <th>importance_split</th>\n",
       "    </tr>\n",
       "  </thead>\n",
       "  <tbody>\n",
       "    <tr>\n",
       "      <th>1</th>\n",
       "      <td>periodo</td>\n",
       "      <td>48093.609810</td>\n",
       "      <td>2512</td>\n",
       "    </tr>\n",
       "    <tr>\n",
       "      <th>3</th>\n",
       "      <td>avg_30</td>\n",
       "      <td>24337.778613</td>\n",
       "      <td>2184</td>\n",
       "    </tr>\n",
       "    <tr>\n",
       "      <th>0</th>\n",
       "      <td>tn_norm</td>\n",
       "      <td>393496.891453</td>\n",
       "      <td>1941</td>\n",
       "    </tr>\n",
       "    <tr>\n",
       "      <th>4</th>\n",
       "      <td>prop_product_yearquarter_descripcion</td>\n",
       "      <td>14647.060029</td>\n",
       "      <td>1832</td>\n",
       "    </tr>\n",
       "    <tr>\n",
       "      <th>2</th>\n",
       "      <td>mes</td>\n",
       "      <td>35414.162082</td>\n",
       "      <td>1723</td>\n",
       "    </tr>\n",
       "    <tr>\n",
       "      <th>...</th>\n",
       "      <td>...</td>\n",
       "      <td>...</td>\n",
       "      <td>...</td>\n",
       "    </tr>\n",
       "    <tr>\n",
       "      <th>183</th>\n",
       "      <td>ultimo_periodo</td>\n",
       "      <td>0.000000</td>\n",
       "      <td>0</td>\n",
       "    </tr>\n",
       "    <tr>\n",
       "      <th>182</th>\n",
       "      <td>cat1_median</td>\n",
       "      <td>0.000000</td>\n",
       "      <td>0</td>\n",
       "    </tr>\n",
       "    <tr>\n",
       "      <th>181</th>\n",
       "      <td>cat1_max</td>\n",
       "      <td>0.000000</td>\n",
       "      <td>0</td>\n",
       "    </tr>\n",
       "    <tr>\n",
       "      <th>180</th>\n",
       "      <td>max_2</td>\n",
       "      <td>0.000000</td>\n",
       "      <td>0</td>\n",
       "    </tr>\n",
       "    <tr>\n",
       "      <th>196</th>\n",
       "      <td>periodo_dt</td>\n",
       "      <td>0.000000</td>\n",
       "      <td>0</td>\n",
       "    </tr>\n",
       "  </tbody>\n",
       "</table>\n",
       "<p>197 rows × 3 columns</p>\n",
       "</div>"
      ],
      "text/plain": [
       "                             feature_name  importance_gain  importance_split\n",
       "1                                 periodo     48093.609810              2512\n",
       "3                                  avg_30     24337.778613              2184\n",
       "0                                 tn_norm    393496.891453              1941\n",
       "4    prop_product_yearquarter_descripcion     14647.060029              1832\n",
       "2                                     mes     35414.162082              1723\n",
       "..                                    ...              ...               ...\n",
       "183                        ultimo_periodo         0.000000                 0\n",
       "182                           cat1_median         0.000000                 0\n",
       "181                              cat1_max         0.000000                 0\n",
       "180                                 max_2         0.000000                 0\n",
       "196                            periodo_dt         0.000000                 0\n",
       "\n",
       "[197 rows x 3 columns]"
      ]
     },
     "execution_count": 17,
     "metadata": {},
     "output_type": "execute_result"
    }
   ],
   "source": [
    "importance_df"
   ]
  },
  {
   "cell_type": "code",
   "execution_count": 21,
   "metadata": {},
   "outputs": [],
   "source": [
    "if dibujar_pesos==True:\n",
    "    fig, axs = plt.subplots(5, 4, figsize=(20, 25))\n",
    "    d = -1\n",
    "    for i in range(4):\n",
    "        for j in range(5):\n",
    "            d+=1\n",
    "            lgb.plot_split_value_histogram(model,\n",
    "                            feature=feat_dibujar[d],\n",
    "                            bins=\"auto\",\n",
    "                            ax=axs[j, i]\n",
    "                            ,title=f\"Feat: {feat_dibujar[d]}\")\n",
    "    plt.show()"
   ]
  },
  {
   "cell_type": "code",
   "execution_count": 22,
   "metadata": {},
   "outputs": [
    {
     "name": "stdout",
     "output_type": "stream",
     "text": [
      "--------------------------------------05_lightgbm (un intento)--------------------------------------\n",
      "----------------------------------------------FINALIZA----------------------------------------------\n",
      "\n"
     ]
    }
   ],
   "source": [
    "print(f\"{fase:-^100}\")\n",
    "print(f\"{'FINALIZA':-^100}\\n\\n\\n\")"
   ]
  }
 ],
 "metadata": {
  "kernelspec": {
   "display_name": "uni",
   "language": "python",
   "name": "python3"
  },
  "language_info": {
   "codemirror_mode": {
    "name": "ipython",
    "version": 3
   },
   "file_extension": ".py",
   "mimetype": "text/x-python",
   "name": "python",
   "nbconvert_exporter": "python",
   "pygments_lexer": "ipython3",
   "version": "3.10.13"
  }
 },
 "nbformat": 4,
 "nbformat_minor": 2
}
