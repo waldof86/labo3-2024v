{
 "cells": [
  {
   "cell_type": "code",
   "execution_count": 59,
   "metadata": {},
   "outputs": [],
   "source": [
    "import pandas as pd\n",
    "from datetime import datetime\n",
    "import json\n",
    "\n",
    "import warnings\n",
    "warnings.filterwarnings(\"ignore\")\n",
    "\n",
    "fase = '06_evaluar_prediccion'"
   ]
  },
  {
   "cell_type": "code",
   "execution_count": 60,
   "metadata": {},
   "outputs": [],
   "source": [
    "with open('gen_config.json', 'r') as file:\n",
    "    gen_config =json.load(file)"
   ]
  },
  {
   "cell_type": "code",
   "execution_count": 61,
   "metadata": {},
   "outputs": [
    {
     "name": "stdout",
     "output_type": "stream",
     "text": [
      "----------------------------------------------COMIENZA----------------------------------------------\n",
      "---------------------------------------06_evaluar_prediccion----------------------------------------\n"
     ]
    }
   ],
   "source": [
    "folder = gen_config['folder']\n",
    "\n",
    "path_prod_data = gen_config['path_prod_data']\n",
    "path_pred_test = gen_config['path_pred_test']\n",
    "path_pred_futuro = gen_config['path_pred_futuro']\n",
    "\n",
    "path_kaggle = gen_config['path_kaggle']\n",
    "\n",
    "print(f\"{'COMIENZA':-^100}\")\n",
    "print(f\"{fase:-^100}\")"
   ]
  },
  {
   "cell_type": "code",
   "execution_count": 62,
   "metadata": {},
   "outputs": [],
   "source": [
    "def perdida(real, prediccion):\n",
    "    total = real.sum()\n",
    "    perdida =  abs(real - prediccion).sum()\n",
    "    resultado = perdida / total\n",
    "    return resultado"
   ]
  },
  {
   "cell_type": "code",
   "execution_count": 63,
   "metadata": {},
   "outputs": [],
   "source": [
    "prod_data = pd.read_parquet(f\"{folder}/{path_prod_data}\")\n",
    "prod_a_predecir = pd.read_csv('../productos_a_predecir.txt', sep='\\t')\n",
    "df_test = pd.read_parquet(f\"{folder}/{path_pred_test}\")\n",
    "df_fut = pd.read_parquet(f\"{folder}/{path_pred_futuro}\")"
   ]
  },
  {
   "cell_type": "code",
   "execution_count": 64,
   "metadata": {},
   "outputs": [
    {
     "name": "stdout",
     "output_type": "stream",
     "text": [
      "Perdida en test (sin desagrupar): 0.09545155043846522\n",
      "Primeras filas de test:\n",
      "    product_id  tn_futuro_real  tn_prediccion_real      error\n",
      "0        20001      1504.68856         1423.915240  -5.368109\n",
      "1        20002      1087.30855         1044.707786  -3.918001\n",
      "2        20003       892.50129          778.299081 -12.795747\n",
      "3        20004       637.90002          608.696496  -4.578072\n",
      "4        20005       593.24443          541.165184  -8.778716\n",
      "31       20032       527.79811          538.313041   1.992226\n"
     ]
    }
   ],
   "source": [
    "df_pred_test = df_test[['product_id', 'tn_futuro_real', 'tn_prediccion_real']]\n",
    "df_pred_test['error'] = -(df_pred_test['tn_futuro_real'] - df_pred_test['tn_prediccion_real'])/df_pred_test['tn_futuro_real']*100\n",
    "df_pred_test['error_abs'] = -(df_pred_test['tn_futuro_real'] - df_pred_test['tn_prediccion_real'])\n",
    "df_pred_test['weight'] = df_pred_test['tn_futuro_real']/df_pred_test['tn_futuro_real'].sum()\n",
    "df_pred_test.sort_values('weight', ascending=False, inplace=True)\n",
    "\n",
    "perdida = perdida(df_pred_test['tn_futuro_real'], df_pred_test['tn_prediccion_real'])\n",
    "print(f\"Perdida en test (sin desagrupar): {perdida}\")\n",
    "print(f\"Primeras filas de test:\\n{df_pred_test.iloc[:6,:4]}\")"
   ]
  },
  {
   "cell_type": "code",
   "execution_count": 65,
   "metadata": {},
   "outputs": [],
   "source": [
    "# df_pred_ungroup = df_pred_test[['group_index', 'tn_prediccion_real']]\n",
    "# df_pred_ungroup = df_pred_ungroup.merge(prod_data_ungroup, on='group_index', how='left')\n",
    "# df_pred_ungroup = df_pred_ungroup[['group_index', 'product_id', 'tn_prediccion_real', 'proporcion']]\n",
    "\n",
    "# df_pred_ungroup = df_pred_ungroup[df_pred_ungroup['product_id'].isin(prod_a_predecir['product_id'])]\n",
    "# df_pred_ungroup['prediccion_final'] = df_pred_ungroup['tn_prediccion_real'] * df_pred_ungroup['proporcion']\n",
    "# df_pred_ungroup.sort_values('product_id', ascending=True, inplace=True)\n",
    "\n",
    "# df_pred_ungroup[df_pred_ungroup['group_index'] == 281]"
   ]
  },
  {
   "cell_type": "code",
   "execution_count": 66,
   "metadata": {},
   "outputs": [
    {
     "name": "stdout",
     "output_type": "stream",
     "text": [
      "Primeras filas de futuro:\n",
      "   product_id  tn_futuro_real  tn_prediccion_real\n",
      "0       20001             NaN         1280.780584\n",
      "1       20002             NaN          918.199222\n",
      "2       20003             NaN          681.608779\n",
      "3       20004             NaN          482.581765\n",
      "4       20005             NaN          548.094356\n",
      "5       20006             NaN          508.729179\n"
     ]
    }
   ],
   "source": [
    "df_pred_fut = df_fut[['product_id', 'tn_futuro_real', 'tn_prediccion_real']]\n",
    "#df_pred_fut['error'] = -(df_pred_fut['tn_futuro_real'] - df_pred_fut['tn_prediccion_real'])/df_pred_fut['tn_futuro_real']*100\n",
    "#df_pred_fut['error_abs'] = -(df_pred_fut['tn_futuro_real'] - df_pred_fut['tn_prediccion_real'])\n",
    "#df_pred_fut['weight'] = df_pred_fut['tn_futuro_real']/df_pred_fut['tn_futuro_real'].sum()\n",
    "#df_pred_fut.sort_values('weight', ascending=False, inplace=True)\n",
    "\n",
    "print(f\"Primeras filas de futuro:\\n{df_pred_fut.iloc[:6,:4]}\")"
   ]
  },
  {
   "cell_type": "code",
   "execution_count": 27,
   "metadata": {},
   "outputs": [],
   "source": [
    "# df_fut_ungroup = df_fut[['group_index', 'tn_prediccion_real']]\n",
    "# df_fut_ungroup = df_fut_ungroup.merge(prod_data_ungroup, on='group_index', how='left')\n",
    "# df_fut_ungroup = df_fut_ungroup[['group_index', 'product_id', 'tn_prediccion_real', 'proporcion']]\n",
    "\n",
    "# df_fut_ungroup = df_fut_ungroup[df_fut_ungroup['product_id'].isin(prod_a_predecir['product_id'])]\n",
    "# df_fut_ungroup['prediccion_final'] = df_fut_ungroup['tn_prediccion_real'] * df_fut_ungroup['proporcion']\n",
    "# df_fut_ungroup.sort_values('product_id', ascending=True, inplace=True)"
   ]
  },
  {
   "cell_type": "code",
   "execution_count": 67,
   "metadata": {},
   "outputs": [],
   "source": [
    "kaggle =  df_pred_fut[['product_id','tn_prediccion_real']]\n",
    "kaggle['tn_prediccion_real'] = kaggle['tn_prediccion_real'].clip(lower=0)\n",
    "kaggle.columns = ['product_id', 'tn']\n",
    "#kaggle.to_csv('kaggle-new.csv', index=False)\n",
    "kaggle.to_csv(f\"{folder}/{datetime.now().strftime('%Y%m%d_%H%M%S')}_{path_kaggle}\", index=False)\n"
   ]
  },
  {
   "cell_type": "code",
   "execution_count": 68,
   "metadata": {},
   "outputs": [],
   "source": [
    "#estado_control = f\"06_evaluar_prediccion Terminado - {nombrefile} - {datetime.now()}\""
   ]
  },
  {
   "cell_type": "code",
   "execution_count": 69,
   "metadata": {},
   "outputs": [
    {
     "name": "stdout",
     "output_type": "stream",
     "text": [
      "---------------------------------------06_evaluar_prediccion----------------------------------------\n",
      "----------------------------------------------FINALIZA----------------------------------------------\n",
      "\n"
     ]
    }
   ],
   "source": [
    "print(f\"{fase:-^100}\")\n",
    "print(f\"{'FINALIZA':-^100}\\n\\n\\n\")"
   ]
  }
 ],
 "metadata": {
  "kernelspec": {
   "display_name": "uni",
   "language": "python",
   "name": "python3"
  },
  "language_info": {
   "codemirror_mode": {
    "name": "ipython",
    "version": 3
   },
   "file_extension": ".py",
   "mimetype": "text/x-python",
   "name": "python",
   "nbconvert_exporter": "python",
   "pygments_lexer": "ipython3",
   "version": "3.10.13"
  }
 },
 "nbformat": 4,
 "nbformat_minor": 2
}
