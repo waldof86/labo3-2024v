{
 "cells": [
  {
   "cell_type": "code",
   "execution_count": 11,
   "metadata": {},
   "outputs": [],
   "source": [
    "import pandas as pd\n",
    "from datetime import datetime\n",
    "import json\n",
    "\n",
    "import warnings\n",
    "warnings.filterwarnings('ignore')\n",
    "\n",
    "fase = '04_crear_train_test'"
   ]
  },
  {
   "cell_type": "code",
   "execution_count": 12,
   "metadata": {},
   "outputs": [],
   "source": [
    "with open('gen_config.json', 'r') as file:\n",
    "    gen_config =json.load(file)"
   ]
  },
  {
   "cell_type": "code",
   "execution_count": 13,
   "metadata": {},
   "outputs": [
    {
     "name": "stdout",
     "output_type": "stream",
     "text": [
      "----------------------------------------------COMIENZA----------------------------------------------\n",
      "----------------------------------------04_crear_train_test-----------------------------------------\n"
     ]
    }
   ],
   "source": [
    "folder = gen_config['folder']\n",
    "\n",
    "path_lag = gen_config['path_lag']\n",
    "\n",
    "path_train = gen_config['path_train']\n",
    "path_test = gen_config['path_test']\n",
    "path_futuro = gen_config['path_futuro']\n",
    "\n",
    "periodo_train_start = gen_config['var_periodo_train_start']\n",
    "periodo_train_end = gen_config['var_periodo_train_end']\n",
    "periodo_test = gen_config['var_periodo_test']\n",
    "periodo_futuro = gen_config['var_periodo_futuro']\n",
    "\n",
    "print(f\"{'COMIENZA':-^100}\")\n",
    "print(f\"{fase:-^100}\")"
   ]
  },
  {
   "cell_type": "code",
   "execution_count": 14,
   "metadata": {},
   "outputs": [
    {
     "name": "stdout",
     "output_type": "stream",
     "text": [
      "Tamaño datos con features: (22349, 198)\n"
     ]
    }
   ],
   "source": [
    "df = pd.read_parquet(f\"{folder}/{path_lag}\")\n",
    "print(f\"Tamaño datos con features: {df.shape}\")"
   ]
  },
  {
   "cell_type": "code",
   "execution_count": 15,
   "metadata": {},
   "outputs": [],
   "source": [
    "df.drop(columns=['tn','values','total_tn','average_tn','median_tn','std_dev_tn','iqr_tn','max_tn','min_tn'], inplace=True)"
   ]
  },
  {
   "cell_type": "code",
   "execution_count": 16,
   "metadata": {},
   "outputs": [],
   "source": [
    "df['primer_periodo'] = pd.to_datetime(df['primer_periodo']).dt.strftime('%Y%m').astype(int)\n",
    "df['ultimo_periodo'] = pd.to_datetime(df['ultimo_periodo']).dt.strftime('%Y%m').astype(int)\n",
    "df['periodo_dt'] = pd.to_datetime(df['periodo_dt']).dt.strftime('%Y%m').astype(int)\n",
    "df['tn_futuro'] = -df.groupby('product_id')['tn_norm'].diff(-2)"
   ]
  },
  {
   "cell_type": "code",
   "execution_count": 17,
   "metadata": {},
   "outputs": [],
   "source": [
    "df_train = df[(df['periodo']>=periodo_train_start) & (df['periodo']<=periodo_train_end)]\n",
    "df_test  = df[df['periodo']==periodo_test]\n",
    "df_futuro  = df[df['periodo']==periodo_futuro]"
   ]
  },
  {
   "cell_type": "code",
   "execution_count": 18,
   "metadata": {},
   "outputs": [
    {
     "name": "stdout",
     "output_type": "stream",
     "text": [
      "Shape Train..............: (14511, 190) para los periodos desde 201801 hasta 201910\n",
      "Shape Test...............: (780, 190) para el periodo 201910\n",
      "Shape Futuro.............: (780, 190) para el periodo 201912\n"
     ]
    }
   ],
   "source": [
    "print(f\"{'Shape Train':.<25}: {df_train.shape} para los periodos desde {periodo_train_start} hasta {periodo_train_end}\")\n",
    "print(f\"{'Shape Test':.<25}: {df_test.shape} para el periodo {periodo_test}\")\n",
    "print(f\"{'Shape Futuro':.<25}: {df_futuro.shape} para el periodo {periodo_futuro}\")"
   ]
  },
  {
   "cell_type": "code",
   "execution_count": 19,
   "metadata": {},
   "outputs": [],
   "source": [
    "# df_train.to_parquet('sell_in_train.parquet', index=False)\n",
    "# df_test.to_parquet('sell_in_test.parquet', index=False)\n",
    "# df_futuro.to_parquet('sell_in_futuro.parquet', index=False)\n",
    "\n",
    "df_train.to_parquet(f'{folder}/{path_train}', index=False)\n",
    "df_test.to_parquet(f'{folder}/{path_test}', index=False)\n",
    "df_futuro.to_parquet(f'{folder}/{path_futuro}', index=False)"
   ]
  },
  {
   "cell_type": "code",
   "execution_count": 20,
   "metadata": {},
   "outputs": [],
   "source": [
    "#estado_control = f\"04_crear_train_set Terminado - {nombrefile} - {datetime.now()}\""
   ]
  },
  {
   "cell_type": "code",
   "execution_count": 21,
   "metadata": {},
   "outputs": [
    {
     "name": "stdout",
     "output_type": "stream",
     "text": [
      "----------------------------------------04_crear_train_test-----------------------------------------\n",
      "----------------------------------------------FINALIZA----------------------------------------------\n",
      "\n"
     ]
    }
   ],
   "source": [
    "print(f\"{fase:-^100}\")\n",
    "print(f\"{'FINALIZA':-^100}\\n\\n\\n\")"
   ]
  }
 ],
 "metadata": {
  "kernelspec": {
   "display_name": "uni",
   "language": "python",
   "name": "python3"
  },
  "language_info": {
   "codemirror_mode": {
    "name": "ipython",
    "version": 3
   },
   "file_extension": ".py",
   "mimetype": "text/x-python",
   "name": "python",
   "nbconvert_exporter": "python",
   "pygments_lexer": "ipython3",
   "version": "3.10.13"
  }
 },
 "nbformat": 4,
 "nbformat_minor": 2
}
