{
 "cells": [
  {
   "cell_type": "code",
   "execution_count": 21,
   "metadata": {},
   "outputs": [],
   "source": [
    "import pandas as pd\n",
    "from datetime import datetime\n",
    "import json\n",
    "import os\n",
    "\n",
    "fase = '02_normaliza'"
   ]
  },
  {
   "cell_type": "code",
   "execution_count": 22,
   "metadata": {},
   "outputs": [],
   "source": [
    "with open('gen_config.json', 'r') as file:\n",
    "    gen_config =json.load(file)"
   ]
  },
  {
   "cell_type": "code",
   "execution_count": 23,
   "metadata": {},
   "outputs": [
    {
     "name": "stdout",
     "output_type": "stream",
     "text": [
      "----------------------------------------------COMIENZA----------------------------------------------\n",
      "--------------------------------------------02_normaliza--------------------------------------------\n"
     ]
    }
   ],
   "source": [
    "folder = gen_config['folder']\n",
    "\n",
    "path_group = gen_config['path_group']\n",
    "path_prod_stats = gen_config['path_prod_stats']\n",
    "path_norm = gen_config['path_norm']\n",
    "\n",
    "print(f\"{'COMIENZA':-^100}\")\n",
    "print(f\"{fase:-^100}\")"
   ]
  },
  {
   "cell_type": "code",
   "execution_count": 24,
   "metadata": {},
   "outputs": [],
   "source": [
    "df = pd.read_parquet(f\"{folder}/{path_group}\")\n",
    "prod_stats = pd.read_parquet(f'{folder}/{path_prod_stats}')"
   ]
  },
  {
   "cell_type": "code",
   "execution_count": 16,
   "metadata": {},
   "outputs": [
    {
     "data": {
      "text/html": [
       "<div>\n",
       "<style scoped>\n",
       "    .dataframe tbody tr th:only-of-type {\n",
       "        vertical-align: middle;\n",
       "    }\n",
       "\n",
       "    .dataframe tbody tr th {\n",
       "        vertical-align: top;\n",
       "    }\n",
       "\n",
       "    .dataframe thead th {\n",
       "        text-align: right;\n",
       "    }\n",
       "</style>\n",
       "<table border=\"1\" class=\"dataframe\">\n",
       "  <thead>\n",
       "    <tr style=\"text-align: right;\">\n",
       "      <th></th>\n",
       "      <th>periodo</th>\n",
       "      <th>product_id</th>\n",
       "      <th>customer_id</th>\n",
       "      <th>tn</th>\n",
       "      <th>primer_periodo</th>\n",
       "      <th>ultimo_periodo</th>\n",
       "      <th>values</th>\n",
       "      <th>total_tn</th>\n",
       "      <th>min_tn</th>\n",
       "      <th>average_tn</th>\n",
       "      <th>median_tn</th>\n",
       "      <th>std_dev_tn</th>\n",
       "      <th>iqr_tn</th>\n",
       "      <th>max_tn</th>\n",
       "    </tr>\n",
       "  </thead>\n",
       "  <tbody>\n",
       "    <tr>\n",
       "      <th>0</th>\n",
       "      <td>201701</td>\n",
       "      <td>20001</td>\n",
       "      <td>10001</td>\n",
       "      <td>99.43861</td>\n",
       "      <td>2017-01-01</td>\n",
       "      <td>2019-12-01</td>\n",
       "      <td>36.0</td>\n",
       "      <td>6347.96490</td>\n",
       "      <td>13.29728</td>\n",
       "      <td>176.332358</td>\n",
       "      <td>142.014620</td>\n",
       "      <td>106.032781</td>\n",
       "      <td>141.457902</td>\n",
       "      <td>439.90647</td>\n",
       "    </tr>\n",
       "    <tr>\n",
       "      <th>1</th>\n",
       "      <td>201701</td>\n",
       "      <td>20001</td>\n",
       "      <td>10002</td>\n",
       "      <td>35.72806</td>\n",
       "      <td>2017-01-01</td>\n",
       "      <td>2019-12-01</td>\n",
       "      <td>35.0</td>\n",
       "      <td>1395.55990</td>\n",
       "      <td>0.76174</td>\n",
       "      <td>39.873140</td>\n",
       "      <td>32.967780</td>\n",
       "      <td>32.921912</td>\n",
       "      <td>29.005305</td>\n",
       "      <td>144.07021</td>\n",
       "    </tr>\n",
       "    <tr>\n",
       "      <th>2</th>\n",
       "      <td>201701</td>\n",
       "      <td>20001</td>\n",
       "      <td>10003</td>\n",
       "      <td>143.49426</td>\n",
       "      <td>2017-01-01</td>\n",
       "      <td>2019-12-01</td>\n",
       "      <td>35.0</td>\n",
       "      <td>4162.77308</td>\n",
       "      <td>1.84835</td>\n",
       "      <td>118.936374</td>\n",
       "      <td>125.764550</td>\n",
       "      <td>67.491501</td>\n",
       "      <td>99.945835</td>\n",
       "      <td>275.57166</td>\n",
       "    </tr>\n",
       "    <tr>\n",
       "      <th>3</th>\n",
       "      <td>201701</td>\n",
       "      <td>20001</td>\n",
       "      <td>10004</td>\n",
       "      <td>184.72927</td>\n",
       "      <td>2017-01-01</td>\n",
       "      <td>2019-12-01</td>\n",
       "      <td>36.0</td>\n",
       "      <td>7740.34113</td>\n",
       "      <td>34.64810</td>\n",
       "      <td>215.009476</td>\n",
       "      <td>193.050525</td>\n",
       "      <td>114.272811</td>\n",
       "      <td>157.934347</td>\n",
       "      <td>469.45761</td>\n",
       "    </tr>\n",
       "    <tr>\n",
       "      <th>4</th>\n",
       "      <td>201701</td>\n",
       "      <td>20001</td>\n",
       "      <td>10005</td>\n",
       "      <td>19.08407</td>\n",
       "      <td>2017-01-01</td>\n",
       "      <td>2019-12-01</td>\n",
       "      <td>34.0</td>\n",
       "      <td>643.57850</td>\n",
       "      <td>0.86186</td>\n",
       "      <td>18.928779</td>\n",
       "      <td>15.772555</td>\n",
       "      <td>14.330075</td>\n",
       "      <td>21.564042</td>\n",
       "      <td>67.53856</td>\n",
       "    </tr>\n",
       "  </tbody>\n",
       "</table>\n",
       "</div>"
      ],
      "text/plain": [
       "   periodo  product_id  customer_id         tn primer_periodo ultimo_periodo  \\\n",
       "0   201701       20001        10001   99.43861     2017-01-01     2019-12-01   \n",
       "1   201701       20001        10002   35.72806     2017-01-01     2019-12-01   \n",
       "2   201701       20001        10003  143.49426     2017-01-01     2019-12-01   \n",
       "3   201701       20001        10004  184.72927     2017-01-01     2019-12-01   \n",
       "4   201701       20001        10005   19.08407     2017-01-01     2019-12-01   \n",
       "\n",
       "   values    total_tn    min_tn  average_tn   median_tn  std_dev_tn  \\\n",
       "0    36.0  6347.96490  13.29728  176.332358  142.014620  106.032781   \n",
       "1    35.0  1395.55990   0.76174   39.873140   32.967780   32.921912   \n",
       "2    35.0  4162.77308   1.84835  118.936374  125.764550   67.491501   \n",
       "3    36.0  7740.34113  34.64810  215.009476  193.050525  114.272811   \n",
       "4    34.0   643.57850   0.86186   18.928779   15.772555   14.330075   \n",
       "\n",
       "       iqr_tn     max_tn  \n",
       "0  141.457902  439.90647  \n",
       "1   29.005305  144.07021  \n",
       "2   99.945835  275.57166  \n",
       "3  157.934347  469.45761  \n",
       "4   21.564042   67.53856  "
      ]
     },
     "execution_count": 16,
     "metadata": {},
     "output_type": "execute_result"
    }
   ],
   "source": [
    "df_norm = df.merge(prod_stats, how='left', on=['product_id', 'customer_id'])\n",
    "df_norm.head()"
   ]
  },
  {
   "cell_type": "code",
   "execution_count": 17,
   "metadata": {},
   "outputs": [],
   "source": [
    "df_norm['tn_norm'] = (df_norm['tn'] - df_norm['average_tn']) / df_norm['std_dev_tn']"
   ]
  },
  {
   "cell_type": "code",
   "execution_count": 18,
   "metadata": {},
   "outputs": [],
   "source": [
    "#df_norm = df_norm[['product_id','customer_id', 'periodo','tn_norm']].sort_values(by=['product_id', 'customer_id', 'periodo'])\n",
    "df_norm = df_norm.sort_values(by=['product_id', 'customer_id', 'periodo'])"
   ]
  },
  {
   "cell_type": "code",
   "execution_count": 19,
   "metadata": {},
   "outputs": [],
   "source": [
    "df_norm.to_parquet(f'{folder}/{path_norm}', index=False)"
   ]
  },
  {
   "cell_type": "code",
   "execution_count": 49,
   "metadata": {},
   "outputs": [
    {
     "name": "stdout",
     "output_type": "stream",
     "text": [
      "df_norm completo: (2293481, 15)\n",
      "df_norm completo: (53008, 15)\n"
     ]
    }
   ],
   "source": [
    "print(f\"df_norm completo: {df_norm.shape}\")\n",
    "print(f\"df_norm completo: {df_norm[df_norm['periodo'] == 201912].shape}\")"
   ]
  },
  {
   "cell_type": "code",
   "execution_count": 31,
   "metadata": {},
   "outputs": [],
   "source": [
    "#estado_control = f\"02_normaliza Terminado - {nombrefile} - {datetime.now()}\""
   ]
  },
  {
   "cell_type": "code",
   "execution_count": 17,
   "metadata": {},
   "outputs": [
    {
     "name": "stdout",
     "output_type": "stream",
     "text": [
      "--------------------------------------------02_normaliza--------------------------------------------\n",
      "----------------------------------------------FINALIZA----------------------------------------------\n",
      "\n"
     ]
    }
   ],
   "source": [
    "print(f\"{fase:-^100}\")\n",
    "print(f\"{'FINALIZA':-^100}\\n\\n\\n\")"
   ]
  }
 ],
 "metadata": {
  "kernelspec": {
   "display_name": "uni",
   "language": "python",
   "name": "python3"
  },
  "language_info": {
   "codemirror_mode": {
    "name": "ipython",
    "version": 3
   },
   "file_extension": ".py",
   "mimetype": "text/x-python",
   "name": "python",
   "nbconvert_exporter": "python",
   "pygments_lexer": "ipython3",
   "version": "3.10.13"
  }
 },
 "nbformat": 4,
 "nbformat_minor": 2
}
