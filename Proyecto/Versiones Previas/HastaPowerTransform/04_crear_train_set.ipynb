{
 "cells": [
  {
   "cell_type": "code",
   "execution_count": 1,
   "metadata": {},
   "outputs": [],
   "source": [
    "#import pandas as pd\n",
    "import polars as pl\n",
    "from datetime import datetime\n",
    "import json\n",
    "\n",
    "import warnings\n",
    "warnings.filterwarnings('ignore')\n",
    "\n",
    "fase = '04_crear_train_test'"
   ]
  },
  {
   "cell_type": "code",
   "execution_count": 2,
   "metadata": {},
   "outputs": [],
   "source": [
    "with open('gen_config.json', 'r') as file:\n",
    "    gen_config =json.load(file)"
   ]
  },
  {
   "cell_type": "code",
   "execution_count": 3,
   "metadata": {},
   "outputs": [
    {
     "name": "stdout",
     "output_type": "stream",
     "text": [
      "----------------------------------------------COMIENZA----------------------------------------------\n",
      "----------------------------------------04_crear_train_test-----------------------------------------\n"
     ]
    }
   ],
   "source": [
    "folder = gen_config['folder']\n",
    "\n",
    "#entradas\n",
    "path_lag = gen_config['path_lag']\n",
    "path_overall_prod_stats = gen_config['path_overall_prod_stats']\n",
    "#salidas\n",
    "path_train = gen_config['path_train']\n",
    "path_test = gen_config['path_test']\n",
    "path_futuro = gen_config['path_futuro']\n",
    "\n",
    "#variables config\n",
    "periodo_train_start = gen_config['var_periodo_train_start']\n",
    "periodo_train_end = gen_config['var_periodo_train_end']\n",
    "periodo_test = gen_config['var_periodo_test']\n",
    "periodo_futuro = gen_config['var_periodo_futuro']\n",
    "\n",
    "print(f\"{'COMIENZA':-^100}\")\n",
    "print(f\"{fase:-^100}\")"
   ]
  },
  {
   "cell_type": "code",
   "execution_count": 4,
   "metadata": {},
   "outputs": [
    {
     "name": "stdout",
     "output_type": "stream",
     "text": [
      "Tamaño datos con features: (5303555, 170)\n"
     ]
    }
   ],
   "source": [
    "overall_prod_stats = pl.read_parquet(f\"{folder}/{path_overall_prod_stats}\")\n",
    "overall_prod_stats = overall_prod_stats[['product_id','tot_weight', 'avg_weight', 'med_weight']]\n",
    "df = pl.read_parquet(f\"{folder}/{path_lag}\")\n",
    "df = df.join(overall_prod_stats, on=['product_id'], how='left')\n",
    "\n",
    "print(f\"Tamaño datos con features: {df.shape}\")"
   ]
  },
  {
   "cell_type": "code",
   "execution_count": 5,
   "metadata": {},
   "outputs": [],
   "source": [
    "df = df.with_columns([\n",
    "    pl.col('primer_periodo').cast(pl.Int32),\n",
    "    pl.col('ultimo_periodo').cast(pl.Int32),\n",
    "    pl.col('periodo_dt').cast(pl.Int32),\n",
    "    (-pl.col(\"tn_norm\").diff(-2).over([\"product_id\", \"customer_id\"])).alias(f'tn_futuro')\n",
    "])\n"
   ]
  },
  {
   "cell_type": "code",
   "execution_count": 6,
   "metadata": {},
   "outputs": [],
   "source": [
    "df_train = df.filter((pl.col('periodo') >= periodo_train_start) & (pl.col('periodo') <= periodo_train_end))\n",
    "df_test = df.filter(pl.col('periodo') == periodo_test)\n",
    "df_futuro = df.filter(pl.col('periodo') == periodo_futuro)"
   ]
  },
  {
   "cell_type": "code",
   "execution_count": 7,
   "metadata": {},
   "outputs": [
    {
     "name": "stdout",
     "output_type": "stream",
     "text": [
      "Shape Train..............: (4767503, 171) para los periodos desde 201701 hasta 201909\n",
      "Shape Test...............: (178684, 171) para el periodo 201910\n",
      "Shape Futuro.............: (178684, 171) para el periodo 201912\n"
     ]
    }
   ],
   "source": [
    "print(f\"{'Shape Train':.<25}: {df_train.shape} para los periodos desde {periodo_train_start} hasta {periodo_train_end}\")\n",
    "print(f\"{'Shape Test':.<25}: {df_test.shape} para el periodo {periodo_test}\")\n",
    "print(f\"{'Shape Futuro':.<25}: {df_futuro.shape} para el periodo {periodo_futuro}\")"
   ]
  },
  {
   "cell_type": "code",
   "execution_count": 8,
   "metadata": {},
   "outputs": [],
   "source": [
    "df_train.write_parquet(f'{folder}/{path_train}')\n",
    "df_test.write_parquet(f'{folder}/{path_test}')\n",
    "df_futuro.write_parquet(f'{folder}/{path_futuro}')"
   ]
  },
  {
   "cell_type": "code",
   "execution_count": 9,
   "metadata": {},
   "outputs": [
    {
     "name": "stdout",
     "output_type": "stream",
     "text": [
      "Rows: 4767503\n",
      "Columns: 171\n",
      "$ product_id                            <i64> 20001, 20001, 20001, 20001, 20001, 20001, 20001, 20001, 20001, 20001\n",
      "$ customer_id                           <i64> 10001, 10001, 10001, 10001, 10001, 10001, 10001, 10001, 10001, 10001\n",
      "$ periodo                               <i64> 201701, 201702, 201703, 201704, 201705, 201706, 201707, 201708, 201709, 201710\n",
      "$ tn                                    <f64> 99.43861, 198.84365, 92.46537, 13.29728, 101.00563, 128.04792, 101.20711, 43.3393, 289.35024, 222.11389\n",
      "$ primer_periodo                        <i32> 17167, 17167, 17167, 17167, 17167, 17167, 17167, 17167, 17167, 17167\n",
      "$ ultimo_periodo                        <i32> 18231, 18231, 18231, 18231, 18231, 18231, 18231, 18231, 18231, 18231\n",
      "$ values                                <u32> 36, 36, 36, 36, 36, 36, 36, 36, 36, 36\n",
      "$ total_tn                              <f64> 6347.964900000001, 6347.964900000001, 6347.964900000001, 6347.964900000001, 6347.964900000001, 6347.964900000001, 6347.964900000001, 6347.964900000001, 6347.964900000001, 6347.964900000001\n",
      "$ min_tn                                <f64> 13.29728, 13.29728, 13.29728, 13.29728, 13.29728, 13.29728, 13.29728, 13.29728, 13.29728, 13.29728\n",
      "$ average_tn                            <f64> 176.33235833333336, 176.33235833333336, 176.33235833333336, 176.33235833333336, 176.33235833333336, 176.33235833333336, 176.33235833333336, 176.33235833333336, 176.33235833333336, 176.33235833333336\n",
      "$ median_tn                             <f64> 142.01461999999998, 142.01461999999998, 142.01461999999998, 142.01461999999998, 142.01461999999998, 142.01461999999998, 142.01461999999998, 142.01461999999998, 142.01461999999998, 142.01461999999998\n",
      "$ std_dev_tn                            <f64> 104.54973237362553, 104.54973237362553, 104.54973237362553, 104.54973237362553, 104.54973237362553, 104.54973237362553, 104.54973237362553, 104.54973237362553, 104.54973237362553, 104.54973237362553\n",
      "$ iqr_tn                                <f64> 140.01875, 140.01875, 140.01875, 140.01875, 140.01875, 140.01875, 140.01875, 140.01875, 140.01875, 140.01875\n",
      "$ max_tn                                <f64> 439.90647, 439.90647, 439.90647, 439.90647, 439.90647, 439.90647, 439.90647, 439.90647, 439.90647, 439.90647\n",
      "$ periodo_dt                            <i32> 17167, 17198, 17226, 17257, 17287, 17318, 17348, 17379, 17410, 17440\n",
      "$ mes_indice                            <i32> 0, 1, 2, 3, 4, 5, 6, 7, 8, 9\n",
      "$ tn_trans                              <f64> -0.6531348310352966, 0.3729127826347732, -0.7434275737552394, -2.3158574833735153, -0.6333280182509298, -0.31509644819199917, -0.6307936518011241, -1.5272759588612068, 1.0762685297895827, 0.568312950475184\n",
      "$ tn_standard                           <f64> -0.7354753243991194, 0.2153165881498277, -0.8021731517553866, -1.5594021584933464, -0.7204870507381215, -0.4618322518586756, -0.7185599295927514, -1.2720554640738913, 1.0809963746514317, 0.43789238506186573\n",
      "$ tn_robust                             <f64> -0.3040736329955808, 0.40586728563138874, -0.3538758202026513, -0.9192864527072265, -0.2928821318573404, -0.09974878364504734, -0.29144318171673417, -0.7047293308931837, 1.052256358523412, 0.5720610275409544\n",
      "$ tn_norm                               <f64> -0.3040736329955808, 0.40586728563138874, -0.3538758202026513, -0.9192864527072265, -0.2928821318573404, -0.09974878364504734, -0.29144318171673417, -0.7047293308931837, 1.052256358523412, 0.5720610275409544\n",
      "$ mes                                    <i8> 1, 2, 3, 4, 5, 6, 7, 8, 9, 10\n",
      "$ year                                  <i32> 2017, 2017, 2017, 2017, 2017, 2017, 2017, 2017, 2017, 2017\n",
      "$ quarter                                <i8> 1, 1, 1, 2, 2, 2, 3, 3, 3, 4\n",
      "$ month_in_quarter                       <i8> 1, 2, 3, 1, 2, 3, 1, 2, 3, 1\n",
      "$ yearquarter                           <cat> 2017-Q1, 2017-Q1, 2017-Q1, 2017-Q2, 2017-Q2, 2017-Q2, 2017-Q3, 2017-Q3, 2017-Q3, 2017-Q4\n",
      "$ primer_periodo_overall               <date> 2017-01-01, 2017-01-01, 2017-01-01, 2017-01-01, 2017-01-01, 2017-01-01, 2017-01-01, 2017-01-01, 2017-01-01, 2017-01-01\n",
      "$ ultimo_periodo_overall               <date> 2019-12-01, 2019-12-01, 2019-12-01, 2019-12-01, 2019-12-01, 2019-12-01, 2019-12-01, 2019-12-01, 2019-12-01, 2019-12-01\n",
      "$ edad_dias                             <i64> 0, 31, 59, 90, 120, 151, 181, 212, 243, 273\n",
      "$ edad                                  <cat> Adulto, Adulto, Adulto, Adulto, Adulto, Adulto, Adulto, Adulto, Adulto, Adulto\n",
      "$ tn_cero                              <bool> False, False, False, True, False, False, False, False, False, False\n",
      "$ tn_lag_1                              <f64> None, -0.3040736329955808, 0.40586728563138874, -0.3538758202026513, -0.9192864527072265, -0.2928821318573404, -0.09974878364504734, -0.29144318171673417, -0.7047293308931837, 1.052256358523412\n",
      "$ tn_lag_2                              <f64> None, None, -0.3040736329955808, 0.40586728563138874, -0.3538758202026513, -0.9192864527072265, -0.2928821318573404, -0.09974878364504734, -0.29144318171673417, -0.7047293308931837\n",
      "$ tn_lag_3                              <f64> None, None, None, -0.3040736329955808, 0.40586728563138874, -0.3538758202026513, -0.9192864527072265, -0.2928821318573404, -0.09974878364504734, -0.29144318171673417\n",
      "$ tn_lag_4                              <f64> None, None, None, None, -0.3040736329955808, 0.40586728563138874, -0.3538758202026513, -0.9192864527072265, -0.2928821318573404, -0.09974878364504734\n",
      "$ tn_lag_5                              <f64> None, None, None, None, None, -0.3040736329955808, 0.40586728563138874, -0.3538758202026513, -0.9192864527072265, -0.2928821318573404\n",
      "$ tn_lag_6                              <f64> None, None, None, None, None, None, -0.3040736329955808, 0.40586728563138874, -0.3538758202026513, -0.9192864527072265\n",
      "$ tn_lag_7                              <f64> None, None, None, None, None, None, None, -0.3040736329955808, 0.40586728563138874, -0.3538758202026513\n",
      "$ tn_lag_8                              <f64> None, None, None, None, None, None, None, None, -0.3040736329955808, 0.40586728563138874\n",
      "$ tn_lag_9                              <f64> None, None, None, None, None, None, None, None, None, -0.3040736329955808\n",
      "$ tn_lag_10                             <f64> None, None, None, None, None, None, None, None, None, None\n",
      "$ tn_lag_11                             <f64> None, None, None, None, None, None, None, None, None, None\n",
      "$ tn_lag_12                             <f64> None, None, None, None, None, None, None, None, None, None\n",
      "$ tn_lag_13                             <f64> None, None, None, None, None, None, None, None, None, None\n",
      "$ tn_lag_15                             <f64> None, None, None, None, None, None, None, None, None, None\n",
      "$ tn_lag_18                             <f64> None, None, None, None, None, None, None, None, None, None\n",
      "$ tn_diff_1                             <f64> None, 0.7099409186269696, -0.75974310583404, -0.5654106325045752, 0.6264043208498862, 0.19313334821229305, -0.1916943980716868, -0.4132861491764495, 1.7569856894165956, -0.4801953309824575\n",
      "$ tn_diff_2                             <f64> None, None, -0.04980218720707047, -1.3251537383386154, 0.06099368834531088, 0.8195376690621792, 0.0014389501406062433, -0.6049805472481363, 1.3436995402401462, 1.276790358434138\n",
      "$ tn_diff_3                             <f64> None, None, None, -0.6152128197116458, -0.6987494174887292, 0.25412703655760394, 0.6278432709904924, -0.41184719903584327, 1.1520051421684592, 0.8635042092576886\n",
      "$ tn_diff_4                             <f64> None, None, None, None, 0.011191501138240412, -0.5056160692764361, 0.062432638485917125, 0.21455712181404285, 1.3451384903807524, 0.6718098111860018\n",
      "$ tn_diff_5                             <f64> None, None, None, None, None, 0.20432484935053347, -0.697310467348123, -0.3508535106905324, 1.9715428112306386, 0.8649431593982948\n",
      "$ tn_diff_6                             <f64> None, None, None, None, None, None, 0.012630451278846655, -1.1105966165245724, 1.4061321787260632, 1.491347480248181\n",
      "$ tn_diff_7                             <f64> None, None, None, None, None, None, None, -0.40065569789760286, 0.6463890728920232, 0.9259368477436057\n",
      "$ tn_diff_8                             <f64> None, None, None, None, None, None, None, None, 1.3563299915189928, 0.1661937419095657\n",
      "$ tn_diff_9                             <f64> None, None, None, None, None, None, None, None, None, 0.8761346605365352\n",
      "$ tn_diff_10                            <f64> None, None, None, None, None, None, None, None, None, None\n",
      "$ tn_diff_11                            <f64> None, None, None, None, None, None, None, None, None, None\n",
      "$ tn_diff_12                            <f64> None, None, None, None, None, None, None, None, None, None\n",
      "$ tn_diff_13                            <f64> None, None, None, None, None, None, None, None, None, None\n",
      "$ tn_diff_15                            <f64> None, None, None, None, None, None, None, None, None, None\n",
      "$ tn_diff_18                            <f64> None, None, None, None, None, None, None, None, None, None\n",
      "$ tn_diff_2_1                           <f64> None, None, -1.4696840244610097, 0.1943324733294648, 1.1918149533544615, -0.4332709726375931, -0.38482774628397987, -0.2215917511047627, 2.1702718385930453, -2.237181020399053\n",
      "$ tn_diff_2_2                           <f64> None, None, None, None, 0.11079587555238135, 2.144691407400795, -0.05955473820470464, -1.4245182163103154, 1.34226059009954, 1.8817709056822745\n",
      "$ tn_diff_2_3                           <f64> None, None, None, None, None, None, 1.2430560907021382, 0.28690221845288594, 0.8978781056108552, 0.23566093826719614\n",
      "$ ratio_1                               <f64> None, 2.334766456509195, 1.8719003298138288, -1.5977656574014747, 0.6814027542831449, 0.6594234581246702, -1.9217717857475316, -1.418067654703755, 2.4931354669029706, 0.45634823405229485\n",
      "$ ratio_2                               <f64> None, None, -0.16378331365480234, 3.264992733467384, 0.17235901653405453, 0.8914932518027487, 0.004913069061198788, -6.065041849542136, 4.610502576609063, 1.811745733380951\n",
      "$ ratio_3                               <f64> None, None, None, -2.0232363248693344, 1.7216204464513996, 0.7181248959368713, 0.6829680445540596, -1.4061875213215445, 11.549064560705125, 2.9628561017322563\n",
      "$ ratio_4                               <f64> None, None, None, None, 0.036805233745482495, 1.2457669961989493, 0.1764252738437012, 0.2333952830286892, 4.592763928104546, 6.735017577523694\n",
      "$ ratio_5                               <f64> None, None, None, None, None, 0.6719584573566199, 1.7180750753620109, -0.9914594065500487, 2.1446446920049778, 2.95321245414725\n",
      "$ ratio_6                               <f64> None, None, None, None, None, None, 0.04153747615147617, 2.736354113381839, 3.9735186708174197, 1.6222881081911733\n",
      "$ ratio_7                               <f64> None, None, None, None, None, None, None, -1.3176272271638418, -1.592611909793286, 2.616558676468363\n",
      "$ ratio_8                               <f64> None, None, None, None, None, None, None, None, 4.46053141193832, -0.4094780431761724\n",
      "$ ratio_9                               <f64> None, None, None, None, None, None, None, None, None, 2.8813240132177733\n",
      "$ ratio_10                              <f64> None, None, None, None, None, None, None, None, None, None\n",
      "$ ratio_11                              <f64> None, None, None, None, None, None, None, None, None, None\n",
      "$ ratio_12                              <f64> None, None, None, None, None, None, None, None, None, None\n",
      "$ ratio_13                              <f64> None, None, None, None, None, None, None, None, None, None\n",
      "$ ratio_15                              <f64> None, None, None, None, None, None, None, None, None, None\n",
      "$ ratio_18                              <f64> None, None, None, None, None, None, None, None, None, None\n",
      "$ avg_1                                 <f64> -0.3040736329955808, 0.40586728563138874, -0.3538758202026513, -0.9192864527072265, -0.2928821318573404, -0.09974878364504734, -0.29144318171673417, -0.7047293308931837, 1.052256358523412, 0.5720610275409544\n",
      "$ avg_2                                 <f64> None, 0.05089682631790396, 0.025995732714368724, -0.636581136454939, -0.6060842922822836, -0.19631545775119397, -0.19559598268089085, -0.498086256304959, 0.173763513815114, 0.8121586930321831\n",
      "$ avg_3                                 <f64> None, None, -0.0840273891889478, -0.2890983290928297, -0.5220148015890728, -0.4373057894032048, -0.22802469907304065, -0.36530709875165507, 0.018694615304498046, 0.3065293517237276\n",
      "$ avg_4                                 <f64> None, None, None, -0.29284215506851746, -0.29004427978395736, -0.41644829710306636, -0.4008401374815871, -0.34720085702807635, -0.01091623443288825, 0.1570362183636122\n",
      "$ avg_5                                 <f64> None, None, None, None, -0.29285015042628204, -0.25198518055617536, -0.39144727402579993, -0.4616179761639064, -0.0673094139177787, 0.10567921796188026\n",
      "$ avg_6                                 <f64> None, None, None, None, None, -0.2606665892960763, -0.25856151408293515, -0.4436609501703639, -0.20930558704935331, 0.03925232632534351\n",
      "$ avg_7                                 <f64> None, None, None, None, None, None, -0.26506324535617026, -0.3222997736272563, -0.22995847749982443, -0.0976817849650236\n",
      "$ avg_8                                 <f64> None, None, None, None, None, None, None, -0.32002150604829693, -0.15048025710842286, -0.12970603936972713\n",
      "$ avg_9                                 <f64> None, None, None, None, None, None, None, None, -0.1675461877625515, -0.07019789214738091\n",
      "$ avg_10                                <f64> None, None, None, None, None, None, None, None, None, -0.0935854662322009\n",
      "$ avg_11                                <f64> None, None, None, None, None, None, None, None, None, None\n",
      "$ avg_12                                <f64> None, None, None, None, None, None, None, None, None, None\n",
      "$ avg_13                                <f64> None, None, None, None, None, None, None, None, None, None\n",
      "$ avg_15                                <f64> None, None, None, None, None, None, None, None, None, None\n",
      "$ avg_18                                <f64> None, None, None, None, None, None, None, None, None, None\n",
      "$ max_1                                <bool> True, True, True, True, True, True, True, True, True, True\n",
      "$ max_2                                <bool> None, False, True, True, False, False, True, True, False, True\n",
      "$ max_3                                <bool> None, None, True, True, False, False, False, True, False, False\n",
      "$ max_4                                <bool> None, None, None, True, False, False, False, True, False, False\n",
      "$ max_5                                <bool> None, None, None, None, False, False, False, False, False, False\n",
      "$ max_6                                <bool> None, None, None, None, None, False, False, False, False, False\n",
      "$ max_7                                <bool> None, None, None, None, None, None, False, False, False, False\n",
      "$ max_8                                <bool> None, None, None, None, None, None, None, False, False, False\n",
      "$ max_9                                <bool> None, None, None, None, None, None, None, None, False, False\n",
      "$ max_10                               <bool> None, None, None, None, None, None, None, None, None, False\n",
      "$ max_11                               <bool> None, None, None, None, None, None, None, None, None, None\n",
      "$ max_12                               <bool> None, None, None, None, None, None, None, None, None, None\n",
      "$ max_13                               <bool> None, None, None, None, None, None, None, None, None, None\n",
      "$ max_15                               <bool> None, None, None, None, None, None, None, None, None, None\n",
      "$ max_18                               <bool> None, None, None, None, None, None, None, None, None, None\n",
      "$ crece_2                              <bool> None, None, True, False, False, True, True, False, False, True\n",
      "$ crece_3                              <bool> None, None, None, True, False, False, True, True, False, False\n",
      "$ crece_4                              <bool> None, None, None, None, True, False, False, True, True, False\n",
      "$ crece_5                              <bool> None, None, None, None, None, True, False, False, True, True\n",
      "$ crece_6                              <bool> None, None, None, None, None, None, True, False, False, True\n",
      "$ crece_7                              <bool> None, None, None, None, None, None, None, True, False, False\n",
      "$ crece_8                              <bool> None, None, None, None, None, None, None, None, True, False\n",
      "$ crece_9                              <bool> None, None, None, None, None, None, None, None, None, True\n",
      "$ crece_10                             <bool> None, None, None, None, None, None, None, None, None, None\n",
      "$ crece_11                             <bool> None, None, None, None, None, None, None, None, None, None\n",
      "$ crece_12                             <bool> None, None, None, None, None, None, None, None, None, None\n",
      "$ decrece_2                            <bool> None, None, True, False, False, True, True, False, False, True\n",
      "$ decrece_3                            <bool> None, None, None, True, False, False, True, True, False, False\n",
      "$ decrece_4                            <bool> None, None, None, None, True, False, False, True, True, False\n",
      "$ decrece_5                            <bool> None, None, None, None, None, True, False, False, True, True\n",
      "$ decrece_6                            <bool> None, None, None, None, None, None, True, False, False, True\n",
      "$ decrece_7                            <bool> None, None, None, None, None, None, None, True, False, False\n",
      "$ decrece_8                            <bool> None, None, None, None, None, None, None, None, True, False\n",
      "$ decrece_9                            <bool> None, None, None, None, None, None, None, None, None, True\n",
      "$ decrece_10                           <bool> None, None, None, None, None, None, None, None, None, None\n",
      "$ decrece_11                           <bool> None, None, None, None, None, None, None, None, None, None\n",
      "$ decrece_12                           <bool> None, None, None, None, None, None, None, None, None, None\n",
      "$ cat1                                  <cat> HC, HC, HC, HC, HC, HC, HC, HC, HC, HC\n",
      "$ cat2                                  <cat> ROPA LAVADO, ROPA LAVADO, ROPA LAVADO, ROPA LAVADO, ROPA LAVADO, ROPA LAVADO, ROPA LAVADO, ROPA LAVADO, ROPA LAVADO, ROPA LAVADO\n",
      "$ cat3                                  <cat> Liquido, Liquido, Liquido, Liquido, Liquido, Liquido, Liquido, Liquido, Liquido, Liquido\n",
      "$ brand                                 <cat> ARIEL, ARIEL, ARIEL, ARIEL, ARIEL, ARIEL, ARIEL, ARIEL, ARIEL, ARIEL\n",
      "$ sku_size                              <i64> 3000, 3000, 3000, 3000, 3000, 3000, 3000, 3000, 3000, 3000\n",
      "$ descripcion                           <cat> genoma, genoma, genoma, genoma, genoma, genoma, genoma, genoma, genoma, genoma\n",
      "$ max_skusize                           <i64> 3000, 3000, 3000, 3000, 3000, 3000, 3000, 3000, 3000, 3000\n",
      "$ min_skusize                           <i64> 400, 400, 400, 400, 400, 400, 400, 400, 400, 400\n",
      "$ presentacion                          <cat> Grande, Grande, Grande, Grande, Grande, Grande, Grande, Grande, Grande, Grande\n",
      "$ cat1_total                            <f64> 50254.45641999843, 50254.45641999843, 50254.45641999843, 50254.45641999843, 50254.45641999843, 50254.45641999843, 50254.45641999843, 50254.45641999843, 50254.45641999843, 50254.45641999843\n",
      "$ cat1_median                           <f64> 0.0, 0.0, 0.0, 0.0, 0.0, 0.0, 0.0, 0.0, 0.0, 0.0\n",
      "$ cat1_max                              <f64> 469.45761, 469.45761, 469.45761, 469.45761, 469.45761, 469.45761, 469.45761, 469.45761, 469.45761, 469.45761\n",
      "$ cat2_total                            <f64> 50254.45641999843, 50254.45641999843, 50254.45641999843, 50254.45641999843, 50254.45641999843, 50254.45641999843, 50254.45641999843, 50254.45641999843, 50254.45641999843, 50254.45641999843\n",
      "$ cat2_median                           <f64> 0.0, 0.0, 0.0, 0.0, 0.0, 0.0, 0.0, 0.0, 0.0, 0.0\n",
      "$ cat2_max                              <f64> 469.45761, 469.45761, 469.45761, 469.45761, 469.45761, 469.45761, 469.45761, 469.45761, 469.45761, 469.45761\n",
      "$ brand_total                           <f64> 50254.45641999843, 50254.45641999843, 50254.45641999843, 50254.45641999843, 50254.45641999843, 50254.45641999843, 50254.45641999843, 50254.45641999843, 50254.45641999843, 50254.45641999843\n",
      "$ brand_median                          <f64> 0.0, 0.0, 0.0, 0.0, 0.0, 0.0, 0.0, 0.0, 0.0, 0.0\n",
      "$ brand_max                             <f64> 469.45761, 469.45761, 469.45761, 469.45761, 469.45761, 469.45761, 469.45761, 469.45761, 469.45761, 469.45761\n",
      "$ descripcion_total                     <f64> 50254.45641999843, 50254.45641999843, 50254.45641999843, 50254.45641999843, 50254.45641999843, 50254.45641999843, 50254.45641999843, 50254.45641999843, 50254.45641999843, 50254.45641999843\n",
      "$ descripcion_median                    <f64> 0.0, 0.0, 0.0, 0.0, 0.0, 0.0, 0.0, 0.0, 0.0, 0.0\n",
      "$ descripcion_max                       <f64> 469.45761, 469.45761, 469.45761, 469.45761, 469.45761, 469.45761, 469.45761, 469.45761, 469.45761, 469.45761\n",
      "$ prop_product_periodo                  <f64> 0.1075935501612438, 0.24958903416992403, 0.07111374640714165, 0.012463931097142904, 0.067351826389366, 0.08454659447091163, 0.09827833025621742, 0.034634824617571607, 0.22021090425957793, 0.1543823542370534\n",
      "$ prop_product_yearquarter              <f64> 0.03291430700958378, 0.06581750230625935, 0.030606155656588096, 0.0032582927820785446, 0.024749867279495963, 0.03137616215467907, 0.028151473225405513, 0.012055132722965978, 0.08048481508981592, 0.05470554572849339\n",
      "$ prop_product_year                     <f64> 0.006738194468127376, 0.013474114153971541, 0.006265671298375459, 0.0009010550181377313, 0.006844379434866602, 0.008676828710691116, 0.006858032194307209, 0.0029367730654371858, 0.019607053905111187, 0.01505096043571257\n",
      "$ prop_product_periodo_cat1             <f64> 0.1075935501612438, 0.24958903416992403, 0.07111374640714165, 0.012463931097142904, 0.067351826389366, 0.08454659447091163, 0.09827833025621742, 0.034634824617571607, 0.22021090425957793, 0.1543823542370534\n",
      "$ prop_product_periodo_cat2             <f64> 0.1075935501612438, 0.24958903416992403, 0.07111374640714165, 0.012463931097142904, 0.067351826389366, 0.08454659447091163, 0.09827833025621742, 0.034634824617571607, 0.22021090425957793, 0.1543823542370534\n",
      "$ prop_product_periodo_brand            <f64> 0.1075935501612438, 0.24958903416992403, 0.07111374640714165, 0.012463931097142904, 0.067351826389366, 0.08454659447091163, 0.09827833025621742, 0.034634824617571607, 0.22021090425957793, 0.1543823542370534\n",
      "$ prop_product_periodo_descripcion      <f64> 0.1075935501612438, 0.24958903416992403, 0.07111374640714165, 0.012463931097142904, 0.067351826389366, 0.08454659447091163, 0.09827833025621742, 0.034634824617571607, 0.22021090425957793, 0.1543823542370534\n",
      "$ prop_product_yearquarter_cat1         <f64> 0.03291430700958378, 0.06581750230625935, 0.030606155656588096, 0.0032582927820785446, 0.024749867279495963, 0.03137616215467907, 0.028151473225405513, 0.012055132722965978, 0.08048481508981592, 0.05470554572849339\n",
      "$ prop_product_yearquarter_cat2         <f64> 0.03291430700958378, 0.06581750230625935, 0.030606155656588096, 0.0032582927820785446, 0.024749867279495963, 0.03137616215467907, 0.028151473225405513, 0.012055132722965978, 0.08048481508981592, 0.05470554572849339\n",
      "$ prop_product_yearquarter_brand        <f64> 0.03291430700958378, 0.06581750230625935, 0.030606155656588096, 0.0032582927820785446, 0.024749867279495963, 0.03137616215467907, 0.028151473225405513, 0.012055132722965978, 0.08048481508981592, 0.05470554572849339\n",
      "$ prop_product_yearquarter_descripcion  <f64> 0.03291430700958378, 0.06581750230625935, 0.030606155656588096, 0.0032582927820785446, 0.024749867279495963, 0.03137616215467907, 0.028151473225405513, 0.012055132722965978, 0.08048481508981592, 0.05470554572849339\n",
      "$ prop_product_year_cat1                <f64> 0.006738194468127376, 0.013474114153971541, 0.006265671298375459, 0.0009010550181377313, 0.006844379434866602, 0.008676828710691116, 0.006858032194307209, 0.0029367730654371858, 0.019607053905111187, 0.01505096043571257\n",
      "$ prop_product_year_cat2                <f64> 0.006738194468127376, 0.013474114153971541, 0.006265671298375459, 0.0009010550181377313, 0.006844379434866602, 0.008676828710691116, 0.006858032194307209, 0.0029367730654371858, 0.019607053905111187, 0.01505096043571257\n",
      "$ prop_product_year_brand               <f64> 0.006738194468127376, 0.013474114153971541, 0.006265671298375459, 0.0009010550181377313, 0.006844379434866602, 0.008676828710691116, 0.006858032194307209, 0.0029367730654371858, 0.019607053905111187, 0.01505096043571257\n",
      "$ prop_product_year_descripcion         <f64> 0.006738194468127376, 0.013474114153971541, 0.006265671298375459, 0.0009010550181377313, 0.006844379434866602, 0.008676828710691116, 0.006858032194307209, 0.0029367730654371858, 0.019607053905111187, 0.01505096043571257\n",
      "$ cluster_dtw_15                        <i64> 6, 6, 6, 6, 6, 6, 6, 6, 6, 6\n",
      "$ tot_weight                            <f64> 17456.79264, 17456.79264, 17456.79264, 17456.79264, 17456.79264, 17456.79264, 17456.79264, 17456.79264, 17456.79264, 17456.79264\n",
      "$ avg_weight                            <f64> 1454.73272, 1454.73272, 1454.73272, 1454.73272, 1454.73272, 1454.73272, 1454.73272, 1454.73272, 1454.73272, 1454.73272\n",
      "$ med_weight                            <f64> 1487.6725450000004, 1487.6725450000004, 1487.6725450000004, 1487.6725450000004, 1487.6725450000004, 1487.6725450000004, 1487.6725450000004, 1487.6725450000004, 1487.6725450000004, 1487.6725450000004\n",
      "$ tn_futuro                             <f64> -0.04980218720707047, -1.3251537383386154, 0.06099368834531088, 0.8195376690621792, 0.0014389501406062433, -0.6049805472481363, 1.3436995402401462, 1.276790358434138, -1.2698356470115606, -0.648787323126367\n",
      "\n"
     ]
    }
   ],
   "source": [
    "df_train.glimpse()"
   ]
  },
  {
   "cell_type": "code",
   "execution_count": 10,
   "metadata": {},
   "outputs": [
    {
     "name": "stdout",
     "output_type": "stream",
     "text": [
      "----------------------------------------04_crear_train_test-----------------------------------------\n",
      "----------------------------------------------FINALIZA----------------------------------------------\n",
      "\n",
      "\n",
      "\n"
     ]
    }
   ],
   "source": [
    "print(f\"{fase:-^100}\")\n",
    "print(f\"{'FINALIZA':-^100}\\n\\n\\n\")"
   ]
  }
 ],
 "metadata": {
  "kernelspec": {
   "display_name": "uni",
   "language": "python",
   "name": "python3"
  },
  "language_info": {
   "codemirror_mode": {
    "name": "ipython",
    "version": 3
   },
   "file_extension": ".py",
   "mimetype": "text/x-python",
   "name": "python",
   "nbconvert_exporter": "python",
   "pygments_lexer": "ipython3",
   "version": "3.10.14"
  }
 },
 "nbformat": 4,
 "nbformat_minor": 2
}
