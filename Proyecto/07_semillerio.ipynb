{
 "cells": [
  {
   "cell_type": "code",
   "execution_count": 1,
   "metadata": {},
   "outputs": [],
   "source": [
    "import pandas as pd\n",
    "import os\n",
    "import json\n",
    "from datetime import datetime\n",
    "fase = '07_semillerio'"
   ]
  },
  {
   "cell_type": "code",
   "execution_count": 2,
   "metadata": {},
   "outputs": [],
   "source": [
    "with open('gen_config.json', 'r') as file:\n",
    "    gen_config =json.load(file)"
   ]
  },
  {
   "cell_type": "code",
   "execution_count": 3,
   "metadata": {},
   "outputs": [
    {
     "name": "stdout",
     "output_type": "stream",
     "text": [
      "----------------------------------------------COMIENZA----------------------------------------------\n",
      "-------------------------------------------07_semillerio--------------------------------------------\n"
     ]
    }
   ],
   "source": [
    "folder = gen_config['folder']\n",
    "\n",
    "path_semillerio = gen_config['path_semillerio']\n",
    "\n",
    "print(f\"{'COMIENZA':-^100}\")\n",
    "print(f\"{fase:-^100}\")"
   ]
  },
  {
   "cell_type": "code",
   "execution_count": 4,
   "metadata": {},
   "outputs": [
    {
     "name": "stdout",
     "output_type": "stream",
     "text": [
      "./Experimentos/2024-07-09_Candidato\\20240710_012652_kaggle_2024-07-09_Candidato.csv\n",
      "./Experimentos/2024-07-09_Candidato\\20240710_013020_kaggle_2024-07-09_Candidato.csv\n",
      "./Experimentos/2024-07-09_Candidato\\20240710_013344_kaggle_2024-07-09_Candidato.csv\n",
      "./Experimentos/2024-07-09_Candidato\\20240710_014800_kaggle_2024-07-09_Candidato.csv\n",
      "./Experimentos/2024-07-09_Candidato\\20240710_014850_kaggle_2024-07-09_Candidato.csv\n",
      "./Experimentos/2024-07-09_Candidato\\20240710_014958_kaggle_2024-07-09_Candidato.csv\n",
      "./Experimentos/2024-07-09_Candidato\\20240712_013852_kaggle_2024-07-09_Candidato.csv\n",
      "./Experimentos/2024-07-09_Candidato\\20240712_022943_kaggle_2024-07-09_Candidato.csv\n",
      "./Experimentos/2024-07-09_Candidato\\20240712_115859_semillerio_2024-07-09_Candidato.csv\n",
      "./Experimentos/2024-07-09_Candidato\\20240712_120055_semillerio_2024-07-09_Candidato.csv\n",
      "./Experimentos/2024-07-09_Candidato\\20240712_193251_kaggle_2024-07-09_Candidato.csv\n",
      "./Experimentos/2024-07-09_Candidato\\20240712_205443_kaggle_2024-07-09_Candidato.csv\n",
      "./Experimentos/2024-07-09_Candidato\\20240712_205548_kaggle_2024-07-09_Candidato.csv\n",
      "./Experimentos/2024-07-09_Candidato\\20240712_205633_kaggle_2024-07-09_Candidato.csv\n",
      "./Experimentos/2024-07-09_Candidato\\20240712_211216_kaggle_2024-07-09_Candidato.csv\n",
      "./Experimentos/2024-07-09_Candidato\\20240712_212630_kaggle_2024-07-09_Candidato.csv\n",
      "./Experimentos/2024-07-09_Candidato\\20240712_223546_kaggle_2024-07-09_Candidato.csv\n",
      "./Experimentos/2024-07-09_Candidato\\20240713_001544_kaggle_2024-07-09_Candidato.csv\n"
     ]
    }
   ],
   "source": [
    "import glob\n",
    "\n",
    "# Ruta a la carpeta actual\n",
    "folder = gen_config['folder']\n",
    "\n",
    "# Obtener una lista de todos los archivos CSV en la carpeta actual\n",
    "archivos_csv = glob.glob(os.path.join(folder, '*.csv'))\n",
    "\n",
    "for archivo in archivos_csv:\n",
    "    print(archivo)"
   ]
  },
  {
   "cell_type": "code",
   "execution_count": 5,
   "metadata": {},
   "outputs": [
    {
     "name": "stdout",
     "output_type": "stream",
     "text": [
      "   product_id           tn         tn_2         tn_3         tn_4  \\\n",
      "0       20001  1311.789933  1279.397827  1350.382129  1314.410880   \n",
      "1       20002  1038.139637  1067.178970  1126.388821  1096.384267   \n",
      "2       20003   839.104643   775.520706   818.548601   796.744243   \n",
      "3       20004   655.157595   644.325526   680.074373   661.958668   \n",
      "4       20005   666.452396   643.095476   678.776077   660.694956   \n",
      "\n",
      "          tn_5         tn_6         tn_7         tn_8  \n",
      "0  1404.625248  1429.077525  1429.077525  1265.382363  \n",
      "1  1184.114223  1164.720439  1164.720439  1050.836895  \n",
      "2   860.240697   889.614617   889.614617   828.640062  \n",
      "3   677.545097   668.296829   668.296829   648.268366  \n",
      "4   676.403789   678.260928   678.260928   601.896289  \n"
     ]
    }
   ],
   "source": [
    "df_sem = pd.DataFrame(columns=['product_id'])\n",
    "for i, archivo in enumerate(archivos_csv[-8:]):\n",
    "    df_arch = pd.read_csv(archivo)\n",
    "    # Crear sufijos únicos para cada merge\n",
    "    suffix = f'_{i+1}'\n",
    "    df_sem = df_sem.merge(df_arch, on='product_id', how='outer', suffixes=('', suffix))\n",
    "\n",
    "print(df_sem.head())"
   ]
  },
  {
   "cell_type": "code",
   "execution_count": 6,
   "metadata": {},
   "outputs": [],
   "source": [
    "#promedios=df_sem.iloc[:,1:].mean(axis=1)"
   ]
  },
  {
   "cell_type": "code",
   "execution_count": 8,
   "metadata": {},
   "outputs": [
    {
     "name": "stdout",
     "output_type": "stream",
     "text": [
      "     product_id      tn_prom\n",
      "0         20001  1272.390095\n",
      "1         20002  1059.007933\n",
      "2         20003   802.080384\n",
      "3         20004   646.296946\n",
      "4         20005   622.495882\n",
      "..          ...          ...\n",
      "775       21263     0.027004\n",
      "776       21265     0.089548\n",
      "777       21266     0.081119\n",
      "778       21267     0.084775\n",
      "779       21276     0.072785\n",
      "\n",
      "[780 rows x 2 columns]\n"
     ]
    }
   ],
   "source": [
    "df_sem_final = pd.DataFrame({\n",
    "    'product_id': df_sem['product_id'],\n",
    "    'tn_prom': df_sem[['tn_2','tn_8']].mean(axis=1)\n",
    "})\n",
    "\n",
    "print(df_sem_final)"
   ]
  },
  {
   "cell_type": "code",
   "execution_count": 12,
   "metadata": {},
   "outputs": [
    {
     "name": "stdout",
     "output_type": "stream",
     "text": [
      "     product_id      tn_prom\n",
      "0         20001  1348.017929\n",
      "1         20002  1111.560461\n",
      "2         20003   837.253523\n",
      "3         20004   662.990410\n",
      "4         20005   660.480105\n",
      "..          ...          ...\n",
      "775       21263     0.046387\n",
      "776       21265     0.073243\n",
      "777       21266     0.076487\n",
      "778       21267     0.090348\n",
      "779       21276     0.057554\n",
      "\n",
      "[780 rows x 2 columns]\n"
     ]
    }
   ],
   "source": [
    "df_sem_final = pd.DataFrame({\n",
    "    'product_id': df_sem['product_id'],\n",
    "    'tn_prom': df_sem.iloc[:,1:].mean(axis=1)\n",
    "})\n",
    "\n",
    "print(df_sem_final)"
   ]
  },
  {
   "cell_type": "code",
   "execution_count": 13,
   "metadata": {},
   "outputs": [],
   "source": [
    "df_sem_final.to_csv(f\"{folder}/{datetime.now().strftime('%Y%m%d_%H%M%S')}_{path_semillerio}\", index=False) "
   ]
  },
  {
   "cell_type": "code",
   "execution_count": 10,
   "metadata": {},
   "outputs": [
    {
     "name": "stdout",
     "output_type": "stream",
     "text": [
      "-------------------------------------------07_semillerio--------------------------------------------\n",
      "----------------------------------------------FINALIZA----------------------------------------------\n",
      "\n",
      "\n",
      "\n"
     ]
    }
   ],
   "source": [
    "print(f\"{fase:-^100}\")\n",
    "print(f\"{'FINALIZA':-^100}\\n\\n\\n\")"
   ]
  }
 ],
 "metadata": {
  "kernelspec": {
   "display_name": "faa",
   "language": "python",
   "name": "python3"
  },
  "language_info": {
   "codemirror_mode": {
    "name": "ipython",
    "version": 3
   },
   "file_extension": ".py",
   "mimetype": "text/x-python",
   "name": "python",
   "nbconvert_exporter": "python",
   "pygments_lexer": "ipython3",
   "version": "3.10.14"
  }
 },
 "nbformat": 4,
 "nbformat_minor": 2
}
