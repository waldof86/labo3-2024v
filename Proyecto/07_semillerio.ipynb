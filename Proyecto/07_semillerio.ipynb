{
 "cells": [
  {
   "cell_type": "code",
   "execution_count": 91,
   "metadata": {},
   "outputs": [],
   "source": [
    "import pandas as pd\n",
    "import os\n",
    "import json\n",
    "\n",
    "fase = '07_semillerio'"
   ]
  },
  {
   "cell_type": "code",
   "execution_count": 92,
   "metadata": {},
   "outputs": [],
   "source": [
    "with open('gen_config.json', 'r') as file:\n",
    "    gen_config =json.load(file)"
   ]
  },
  {
   "cell_type": "code",
   "execution_count": 93,
   "metadata": {},
   "outputs": [
    {
     "name": "stdout",
     "output_type": "stream",
     "text": [
      "----------------------------------------------COMIENZA----------------------------------------------\n",
      "-------------------------------------------07_semillerio--------------------------------------------\n"
     ]
    }
   ],
   "source": [
    "folder = gen_config['folder']\n",
    "\n",
    "path_kaggle = gen_config['path_kaggle']\n",
    "\n",
    "print(f\"{'COMIENZA':-^100}\")\n",
    "print(f\"{fase:-^100}\")"
   ]
  },
  {
   "cell_type": "code",
   "execution_count": 94,
   "metadata": {},
   "outputs": [],
   "source": [
    "# csv1 = pd.read_csv('./Current Best/kaggle.csv')"
   ]
  },
  {
   "cell_type": "code",
   "execution_count": 95,
   "metadata": {},
   "outputs": [],
   "source": [
    "# csv2 = pd.read_csv('./Current Best/kaggle-new.csv')"
   ]
  },
  {
   "cell_type": "code",
   "execution_count": 96,
   "metadata": {},
   "outputs": [
    {
     "name": "stdout",
     "output_type": "stream",
     "text": [
      "DataFrame combinado:\n",
      "   product_id         tn_x         tn_y\n",
      "0       20001  1225.256596  1352.259835\n",
      "1       20002   943.856354   908.069786\n",
      "2       20003   745.610447   673.462601\n",
      "3       20004   514.593195   508.676223\n",
      "4       20005   502.090965   490.859439\n"
     ]
    }
   ],
   "source": [
    "# combined_df = pd.merge(csv1, csv2, on='product_id')\n",
    "\n",
    "# # Mostrar el DataFrame combinado para verificar\n",
    "# print(\"DataFrame combinado:\")\n",
    "# print(combined_df.head())"
   ]
  },
  {
   "cell_type": "code",
   "execution_count": 97,
   "metadata": {},
   "outputs": [],
   "source": [
    "\n",
    "# import polars as pl \n",
    "\n",
    "# # Convertir el DataFrame de Pandas a Polars\n",
    "# df = pl.DataFrame(combined_df)\n",
    " \n",
    "# # Definir las columnas a promediar\n",
    "# columnas_a_promediar = ['tn_x', 'tn_y']\n",
    " \n",
    "# # Calcular el promedio sumando las columnas y dividiendo por la cantidad de columnas\n",
    "# df = df.with_columns(\n",
    "#     (sum(pl.col(col) for col in columnas_a_promediar) / len(columnas_a_promediar)).alias('promedio_tn')\n",
    "# )\n",
    " \n",
    "# df= df.select(['product_id', 'promedio_tn'])"
   ]
  },
  {
   "cell_type": "code",
   "execution_count": 98,
   "metadata": {},
   "outputs": [
    {
     "data": {
      "text/html": [
       "<div><style>\n",
       ".dataframe > thead > tr,\n",
       ".dataframe > tbody > tr {\n",
       "  text-align: right;\n",
       "  white-space: pre-wrap;\n",
       "}\n",
       "</style>\n",
       "<small>shape: (780, 2)</small><table border=\"1\" class=\"dataframe\"><thead><tr><th>product_id</th><th>promedio_tn</th></tr><tr><td>i64</td><td>f64</td></tr></thead><tbody><tr><td>20001</td><td>1288.758215</td></tr><tr><td>20002</td><td>925.96307</td></tr><tr><td>20003</td><td>709.536524</td></tr><tr><td>20004</td><td>511.634709</td></tr><tr><td>20005</td><td>496.475202</td></tr><tr><td>&hellip;</td><td>&hellip;</td></tr><tr><td>21263</td><td>0.021226</td></tr><tr><td>21265</td><td>0.040578</td></tr><tr><td>21266</td><td>0.044856</td></tr><tr><td>21267</td><td>0.056338</td></tr><tr><td>21276</td><td>0.025463</td></tr></tbody></table></div>"
      ],
      "text/plain": [
       "shape: (780, 2)\n",
       "┌────────────┬─────────────┐\n",
       "│ product_id ┆ promedio_tn │\n",
       "│ ---        ┆ ---         │\n",
       "│ i64        ┆ f64         │\n",
       "╞════════════╪═════════════╡\n",
       "│ 20001      ┆ 1288.758215 │\n",
       "│ 20002      ┆ 925.96307   │\n",
       "│ 20003      ┆ 709.536524  │\n",
       "│ 20004      ┆ 511.634709  │\n",
       "│ 20005      ┆ 496.475202  │\n",
       "│ …          ┆ …           │\n",
       "│ 21263      ┆ 0.021226    │\n",
       "│ 21265      ┆ 0.040578    │\n",
       "│ 21266      ┆ 0.044856    │\n",
       "│ 21267      ┆ 0.056338    │\n",
       "│ 21276      ┆ 0.025463    │\n",
       "└────────────┴─────────────┘"
      ]
     },
     "execution_count": 98,
     "metadata": {},
     "output_type": "execute_result"
    }
   ],
   "source": [
    "# df"
   ]
  },
  {
   "cell_type": "code",
   "execution_count": 136,
   "metadata": {},
   "outputs": [
    {
     "name": "stdout",
     "output_type": "stream",
     "text": [
      "['./Current Best\\\\kaggle-all lags 40 leaves 02 lr.csv', './Current Best\\\\kaggle-new.csv', './Current Best\\\\kaggle.csv']\n"
     ]
    }
   ],
   "source": [
    "import glob\n",
    "\n",
    "# Ruta a la carpeta actual\n",
    "carpeta = './Current Best/'\n",
    "\n",
    "# Obtener una lista de todos los archivos CSV en la carpeta actual\n",
    "archivos_csv = glob.glob(os.path.join(carpeta, '*.csv'))\n",
    "\n",
    "print(archivos_csv)"
   ]
  },
  {
   "cell_type": "code",
   "execution_count": 137,
   "metadata": {},
   "outputs": [],
   "source": [
    "dfs = []\n",
    "# Iterar sobre cada archivo en la lista y leerlo en un DataFrame\n",
    "for archivo in archivos_csv:\n",
    "    df = pd.read_csv(archivo)\n",
    "    dfs.append(df)"
   ]
  },
  {
   "cell_type": "code",
   "execution_count": 138,
   "metadata": {},
   "outputs": [],
   "source": [
    "dfs2 = pd.concat(dfs, ignore_index=True)\n",
    "dfs_agrupados = dfs2.groupby('product_id')['tn'].mean()"
   ]
  },
  {
   "cell_type": "code",
   "execution_count": 144,
   "metadata": {},
   "outputs": [
    {
     "data": {
      "text/plain": [
       "[     product_id           tn\n",
       " 0         20001  1245.109567\n",
       " 1         20002   865.341151\n",
       " 2         20003   701.389923\n",
       " 3         20004   514.862842\n",
       " 4         20005   546.558944\n",
       " ..          ...          ...\n",
       " 775       21263     0.003653\n",
       " 776       21265     0.053939\n",
       " 777       21266     0.044763\n",
       " 778       21267     0.062873\n",
       " 779       21276     0.026751\n",
       " \n",
       " [780 rows x 2 columns],\n",
       "      product_id           tn\n",
       " 0         20001  1352.259835\n",
       " 1         20002   908.069786\n",
       " 2         20003   673.462601\n",
       " 3         20004   508.676223\n",
       " 4         20005   490.859439\n",
       " ..          ...          ...\n",
       " 775       21263     0.035513\n",
       " 776       21265     0.054332\n",
       " 777       21266     0.047952\n",
       " 778       21267     0.054064\n",
       " 779       21276     0.020150\n",
       " \n",
       " [780 rows x 2 columns],\n",
       "      product_id           tn\n",
       " 0         20001  1225.256596\n",
       " 1         20002   943.856354\n",
       " 2         20003   745.610447\n",
       " 3         20004   514.593195\n",
       " 4         20005   502.090965\n",
       " ..          ...          ...\n",
       " 775       21263     0.006940\n",
       " 776       21265     0.026824\n",
       " 777       21266     0.041761\n",
       " 778       21267     0.058612\n",
       " 779       21276     0.030775\n",
       " \n",
       " [780 rows x 2 columns]]"
      ]
     },
     "execution_count": 144,
     "metadata": {},
     "output_type": "execute_result"
    }
   ],
   "source": [
    "dfs"
   ]
  },
  {
   "cell_type": "code",
   "execution_count": 139,
   "metadata": {},
   "outputs": [
    {
     "data": {
      "text/plain": [
       "pandas.core.series.Series"
      ]
     },
     "execution_count": 139,
     "metadata": {},
     "output_type": "execute_result"
    }
   ],
   "source": [
    "type(dfs_agrupados)"
   ]
  },
  {
   "cell_type": "code",
   "execution_count": 140,
   "metadata": {},
   "outputs": [],
   "source": [
    "dfs_agrupados=pd.DataFrame(dfs_agrupados, columns=['tn'])"
   ]
  },
  {
   "cell_type": "code",
   "execution_count": 141,
   "metadata": {},
   "outputs": [
    {
     "data": {
      "text/html": [
       "<div>\n",
       "<style scoped>\n",
       "    .dataframe tbody tr th:only-of-type {\n",
       "        vertical-align: middle;\n",
       "    }\n",
       "\n",
       "    .dataframe tbody tr th {\n",
       "        vertical-align: top;\n",
       "    }\n",
       "\n",
       "    .dataframe thead th {\n",
       "        text-align: right;\n",
       "    }\n",
       "</style>\n",
       "<table border=\"1\" class=\"dataframe\">\n",
       "  <thead>\n",
       "    <tr style=\"text-align: right;\">\n",
       "      <th></th>\n",
       "      <th>tn</th>\n",
       "    </tr>\n",
       "    <tr>\n",
       "      <th>product_id</th>\n",
       "      <th></th>\n",
       "    </tr>\n",
       "  </thead>\n",
       "  <tbody>\n",
       "    <tr>\n",
       "      <th>20001</th>\n",
       "      <td>1274.208666</td>\n",
       "    </tr>\n",
       "    <tr>\n",
       "      <th>20002</th>\n",
       "      <td>905.755764</td>\n",
       "    </tr>\n",
       "    <tr>\n",
       "      <th>20003</th>\n",
       "      <td>706.820990</td>\n",
       "    </tr>\n",
       "    <tr>\n",
       "      <th>20004</th>\n",
       "      <td>512.710753</td>\n",
       "    </tr>\n",
       "    <tr>\n",
       "      <th>20005</th>\n",
       "      <td>513.169783</td>\n",
       "    </tr>\n",
       "    <tr>\n",
       "      <th>...</th>\n",
       "      <td>...</td>\n",
       "    </tr>\n",
       "    <tr>\n",
       "      <th>21263</th>\n",
       "      <td>0.015369</td>\n",
       "    </tr>\n",
       "    <tr>\n",
       "      <th>21265</th>\n",
       "      <td>0.045031</td>\n",
       "    </tr>\n",
       "    <tr>\n",
       "      <th>21266</th>\n",
       "      <td>0.044825</td>\n",
       "    </tr>\n",
       "    <tr>\n",
       "      <th>21267</th>\n",
       "      <td>0.058516</td>\n",
       "    </tr>\n",
       "    <tr>\n",
       "      <th>21276</th>\n",
       "      <td>0.025892</td>\n",
       "    </tr>\n",
       "  </tbody>\n",
       "</table>\n",
       "<p>780 rows × 1 columns</p>\n",
       "</div>"
      ],
      "text/plain": [
       "                     tn\n",
       "product_id             \n",
       "20001       1274.208666\n",
       "20002        905.755764\n",
       "20003        706.820990\n",
       "20004        512.710753\n",
       "20005        513.169783\n",
       "...                 ...\n",
       "21263          0.015369\n",
       "21265          0.045031\n",
       "21266          0.044825\n",
       "21267          0.058516\n",
       "21276          0.025892\n",
       "\n",
       "[780 rows x 1 columns]"
      ]
     },
     "execution_count": 141,
     "metadata": {},
     "output_type": "execute_result"
    }
   ],
   "source": [
    "dfs_agrupados"
   ]
  },
  {
   "cell_type": "code",
   "execution_count": 142,
   "metadata": {},
   "outputs": [],
   "source": [
    "dfs_agrupados=dfs_agrupados.reset_index()"
   ]
  },
  {
   "cell_type": "code",
   "execution_count": 143,
   "metadata": {},
   "outputs": [
    {
     "data": {
      "text/html": [
       "<div>\n",
       "<style scoped>\n",
       "    .dataframe tbody tr th:only-of-type {\n",
       "        vertical-align: middle;\n",
       "    }\n",
       "\n",
       "    .dataframe tbody tr th {\n",
       "        vertical-align: top;\n",
       "    }\n",
       "\n",
       "    .dataframe thead th {\n",
       "        text-align: right;\n",
       "    }\n",
       "</style>\n",
       "<table border=\"1\" class=\"dataframe\">\n",
       "  <thead>\n",
       "    <tr style=\"text-align: right;\">\n",
       "      <th></th>\n",
       "      <th>product_id</th>\n",
       "      <th>tn</th>\n",
       "    </tr>\n",
       "  </thead>\n",
       "  <tbody>\n",
       "    <tr>\n",
       "      <th>0</th>\n",
       "      <td>20001</td>\n",
       "      <td>1274.208666</td>\n",
       "    </tr>\n",
       "    <tr>\n",
       "      <th>1</th>\n",
       "      <td>20002</td>\n",
       "      <td>905.755764</td>\n",
       "    </tr>\n",
       "    <tr>\n",
       "      <th>2</th>\n",
       "      <td>20003</td>\n",
       "      <td>706.820990</td>\n",
       "    </tr>\n",
       "    <tr>\n",
       "      <th>3</th>\n",
       "      <td>20004</td>\n",
       "      <td>512.710753</td>\n",
       "    </tr>\n",
       "    <tr>\n",
       "      <th>4</th>\n",
       "      <td>20005</td>\n",
       "      <td>513.169783</td>\n",
       "    </tr>\n",
       "    <tr>\n",
       "      <th>...</th>\n",
       "      <td>...</td>\n",
       "      <td>...</td>\n",
       "    </tr>\n",
       "    <tr>\n",
       "      <th>775</th>\n",
       "      <td>21263</td>\n",
       "      <td>0.015369</td>\n",
       "    </tr>\n",
       "    <tr>\n",
       "      <th>776</th>\n",
       "      <td>21265</td>\n",
       "      <td>0.045031</td>\n",
       "    </tr>\n",
       "    <tr>\n",
       "      <th>777</th>\n",
       "      <td>21266</td>\n",
       "      <td>0.044825</td>\n",
       "    </tr>\n",
       "    <tr>\n",
       "      <th>778</th>\n",
       "      <td>21267</td>\n",
       "      <td>0.058516</td>\n",
       "    </tr>\n",
       "    <tr>\n",
       "      <th>779</th>\n",
       "      <td>21276</td>\n",
       "      <td>0.025892</td>\n",
       "    </tr>\n",
       "  </tbody>\n",
       "</table>\n",
       "<p>780 rows × 2 columns</p>\n",
       "</div>"
      ],
      "text/plain": [
       "     product_id           tn\n",
       "0         20001  1274.208666\n",
       "1         20002   905.755764\n",
       "2         20003   706.820990\n",
       "3         20004   512.710753\n",
       "4         20005   513.169783\n",
       "..          ...          ...\n",
       "775       21263     0.015369\n",
       "776       21265     0.045031\n",
       "777       21266     0.044825\n",
       "778       21267     0.058516\n",
       "779       21276     0.025892\n",
       "\n",
       "[780 rows x 2 columns]"
      ]
     },
     "execution_count": 143,
     "metadata": {},
     "output_type": "execute_result"
    }
   ],
   "source": [
    "dfs_agrupados"
   ]
  },
  {
   "cell_type": "code",
   "execution_count": 135,
   "metadata": {},
   "outputs": [],
   "source": [
    "dfs_agrupados.to_csv('semillerio.csv', index=False)"
   ]
  },
  {
   "cell_type": "code",
   "execution_count": null,
   "metadata": {},
   "outputs": [],
   "source": [
    "#dfs_agrupados.to_csv(f\"{folder}/{datetime.now().strftime('%Y%m%d_%H%M%S')}_{path_kaggle}\", index=False)"
   ]
  },
  {
   "cell_type": "code",
   "execution_count": null,
   "metadata": {},
   "outputs": [],
   "source": [
    "print(f\"{fase:-^100}\")\n",
    "print(f\"{'FINALIZA':-^100}\\n\\n\\n\")"
   ]
  }
 ],
 "metadata": {
  "kernelspec": {
   "display_name": "faa",
   "language": "python",
   "name": "python3"
  },
  "language_info": {
   "codemirror_mode": {
    "name": "ipython",
    "version": 3
   },
   "file_extension": ".py",
   "mimetype": "text/x-python",
   "name": "python",
   "nbconvert_exporter": "python",
   "pygments_lexer": "ipython3",
   "version": "3.10.14"
  }
 },
 "nbformat": 4,
 "nbformat_minor": 2
}
