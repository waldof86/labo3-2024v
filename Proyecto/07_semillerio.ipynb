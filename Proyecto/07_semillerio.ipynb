{
 "cells": [
  {
   "cell_type": "code",
   "execution_count": 218,
   "metadata": {},
   "outputs": [],
   "source": [
    "import pandas as pd\n",
    "import os\n",
    "import json\n",
    "from datetime import datetime\n",
    "fase = '07_semillerio'"
   ]
  },
  {
   "cell_type": "code",
   "execution_count": 219,
   "metadata": {},
   "outputs": [],
   "source": [
    "with open('gen_config.json', 'r') as file:\n",
    "    gen_config =json.load(file)"
   ]
  },
  {
   "cell_type": "code",
   "execution_count": 220,
   "metadata": {},
   "outputs": [
    {
     "name": "stdout",
     "output_type": "stream",
     "text": [
      "----------------------------------------------COMIENZA----------------------------------------------\n",
      "-------------------------------------------07_semillerio--------------------------------------------\n"
     ]
    }
   ],
   "source": [
    "folder = gen_config['folder']\n",
    "\n",
    "path_semillerio = gen_config['path_semillerio']\n",
    "\n",
    "print(f\"{'COMIENZA':-^100}\")\n",
    "print(f\"{fase:-^100}\")"
   ]
  },
  {
   "cell_type": "code",
   "execution_count": 221,
   "metadata": {},
   "outputs": [
    {
     "name": "stdout",
     "output_type": "stream",
     "text": [
      "['./Current Best\\\\kaggle-all lags 40 leaves 02 lr.csv', './Current Best\\\\kaggle-new.csv', './Current Best\\\\kaggle.csv']\n"
     ]
    }
   ],
   "source": [
    "import glob\n",
    "\n",
    "# Ruta a la carpeta actual\n",
    "carpeta = './Current Best/'\n",
    "\n",
    "# Obtener una lista de todos los archivos CSV en la carpeta actual\n",
    "archivos_csv = glob.glob(os.path.join(carpeta, '*.csv'))\n",
    "\n",
    "print(archivos_csv)"
   ]
  },
  {
   "cell_type": "code",
   "execution_count": 222,
   "metadata": {},
   "outputs": [
    {
     "name": "stdout",
     "output_type": "stream",
     "text": [
      "     product_id           tn         tn_2         tn_3\n",
      "0         20001  1245.109567  1352.259835  1225.256596\n",
      "1         20002   865.341151   908.069786   943.856354\n",
      "2         20003   701.389923   673.462601   745.610447\n",
      "3         20004   514.862842   508.676223   514.593195\n",
      "4         20005   546.558944   490.859439   502.090965\n",
      "..          ...          ...          ...          ...\n",
      "775       21263     0.003653     0.035513     0.006940\n",
      "776       21265     0.053939     0.054332     0.026824\n",
      "777       21266     0.044763     0.047952     0.041761\n",
      "778       21267     0.062873     0.054064     0.058612\n",
      "779       21276     0.026751     0.020150     0.030775\n",
      "\n",
      "[780 rows x 4 columns]\n"
     ]
    }
   ],
   "source": [
    "df_sem = pd.DataFrame(columns=['product_id'])\n",
    "for i, archivo in enumerate(archivos_csv):\n",
    "    df_arch = pd.read_csv(archivo)\n",
    "    # Crear sufijos únicos para cada merge\n",
    "    suffix = f'_{i+1}'\n",
    "    df_sem = df_sem.merge(df_arch, on='product_id', how='outer', suffixes=('', suffix))\n",
    "\n",
    "print(df_sem)"
   ]
  },
  {
   "cell_type": "code",
   "execution_count": 202,
   "metadata": {},
   "outputs": [],
   "source": [
    "#promedios=df_sem.iloc[:,1:].mean(axis=1)"
   ]
  },
  {
   "cell_type": "code",
   "execution_count": 223,
   "metadata": {},
   "outputs": [
    {
     "name": "stdout",
     "output_type": "stream",
     "text": [
      "     product_id      tn_prom\n",
      "0         20001  1274.208666\n",
      "1         20002   905.755764\n",
      "2         20003   706.820990\n",
      "3         20004   512.710753\n",
      "4         20005   513.169783\n",
      "..          ...          ...\n",
      "775       21263     0.015369\n",
      "776       21265     0.045031\n",
      "777       21266     0.044825\n",
      "778       21267     0.058516\n",
      "779       21276     0.025892\n",
      "\n",
      "[780 rows x 2 columns]\n"
     ]
    }
   ],
   "source": [
    "df_sem_final = pd.DataFrame({\n",
    "    'product_id': df_sem['product_id'],\n",
    "    'tn_prom': df_sem.iloc[:,1:].mean(axis=1)\n",
    "})\n",
    "\n",
    "print(df_sem_final)"
   ]
  },
  {
   "cell_type": "code",
   "execution_count": 183,
   "metadata": {},
   "outputs": [
    {
     "data": {
      "text/plain": [
       "[     product_id           tn\n",
       " 0         20001  1245.109567\n",
       " 1         20002   865.341151\n",
       " 2         20003   701.389923\n",
       " 3         20004   514.862842\n",
       " 4         20005   546.558944\n",
       " ..          ...          ...\n",
       " 775       21263     0.003653\n",
       " 776       21265     0.053939\n",
       " 777       21266     0.044763\n",
       " 778       21267     0.062873\n",
       " 779       21276     0.026751\n",
       " \n",
       " [780 rows x 2 columns],\n",
       "      product_id           tn\n",
       " 0         20001  1352.259835\n",
       " 1         20002   908.069786\n",
       " 2         20003   673.462601\n",
       " 3         20004   508.676223\n",
       " 4         20005   490.859439\n",
       " ..          ...          ...\n",
       " 775       21263     0.035513\n",
       " 776       21265     0.054332\n",
       " 777       21266     0.047952\n",
       " 778       21267     0.054064\n",
       " 779       21276     0.020150\n",
       " \n",
       " [780 rows x 2 columns],\n",
       "      product_id           tn\n",
       " 0         20001  1225.256596\n",
       " 1         20002   943.856354\n",
       " 2         20003   745.610447\n",
       " 3         20004   514.593195\n",
       " 4         20005   502.090965\n",
       " ..          ...          ...\n",
       " 775       21263     0.006940\n",
       " 776       21265     0.026824\n",
       " 777       21266     0.041761\n",
       " 778       21267     0.058612\n",
       " 779       21276     0.030775\n",
       " \n",
       " [780 rows x 2 columns]]"
      ]
     },
     "execution_count": 183,
     "metadata": {},
     "output_type": "execute_result"
    }
   ],
   "source": [
    "dfs"
   ]
  },
  {
   "cell_type": "code",
   "execution_count": 224,
   "metadata": {},
   "outputs": [],
   "source": [
    "df_sem_final.to_csv(f\"{folder}/{datetime.now().strftime('%Y%m%d_%H%M%S')}_{path_semillerio}\", index=False) "
   ]
  },
  {
   "cell_type": "code",
   "execution_count": 225,
   "metadata": {},
   "outputs": [
    {
     "name": "stdout",
     "output_type": "stream",
     "text": [
      "-------------------------------------------07_semillerio--------------------------------------------\n",
      "----------------------------------------------FINALIZA----------------------------------------------\n",
      "\n",
      "\n",
      "\n"
     ]
    }
   ],
   "source": [
    "print(f\"{fase:-^100}\")\n",
    "print(f\"{'FINALIZA':-^100}\\n\\n\\n\")"
   ]
  },
  {
   "cell_type": "code",
   "execution_count": null,
   "metadata": {},
   "outputs": [],
   "source": []
  }
 ],
 "metadata": {
  "kernelspec": {
   "display_name": "faa",
   "language": "python",
   "name": "python3"
  },
  "language_info": {
   "codemirror_mode": {
    "name": "ipython",
    "version": 3
   },
   "file_extension": ".py",
   "mimetype": "text/x-python",
   "name": "python",
   "nbconvert_exporter": "python",
   "pygments_lexer": "ipython3",
   "version": "3.10.14"
  }
 },
 "nbformat": 4,
 "nbformat_minor": 2
}
