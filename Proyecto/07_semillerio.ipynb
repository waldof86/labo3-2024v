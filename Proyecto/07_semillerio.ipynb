{
 "cells": [
  {
   "cell_type": "code",
   "execution_count": 45,
   "metadata": {},
   "outputs": [],
   "source": [
    "import pandas as pd\n",
    "import os\n",
    "import json\n",
    "\n",
    "fase = '07_semillerio'"
   ]
  },
  {
   "cell_type": "code",
   "execution_count": 46,
   "metadata": {},
   "outputs": [],
   "source": [
    "with open('gen_config.json', 'r') as file:\n",
    "    gen_config =json.load(file)"
   ]
  },
  {
   "cell_type": "code",
   "execution_count": 47,
   "metadata": {},
   "outputs": [
    {
     "name": "stdout",
     "output_type": "stream",
     "text": [
      "----------------------------------------------COMIENZA----------------------------------------------\n",
      "-------------------------------------------07_semillerio--------------------------------------------\n"
     ]
    }
   ],
   "source": [
    "folder = gen_config['folder']\n",
    "\n",
    "path_kaggle = gen_config['path_kaggle']\n",
    "\n",
    "print(f\"{'COMIENZA':-^100}\")\n",
    "print(f\"{fase:-^100}\")"
   ]
  },
  {
   "cell_type": "code",
   "execution_count": 48,
   "metadata": {},
   "outputs": [],
   "source": [
    "csv1 = pd.read_csv('./Current Best/kaggle.csv')"
   ]
  },
  {
   "cell_type": "code",
   "execution_count": 49,
   "metadata": {},
   "outputs": [],
   "source": [
    "csv2 = pd.read_csv('./Current Best/kaggle-new.csv')"
   ]
  },
  {
   "cell_type": "code",
   "execution_count": 50,
   "metadata": {},
   "outputs": [
    {
     "name": "stdout",
     "output_type": "stream",
     "text": [
      "DataFrame combinado:\n",
      "   product_id         tn_x         tn_y\n",
      "0       20001  1225.256596  1352.259835\n",
      "1       20002   943.856354   908.069786\n",
      "2       20003   745.610447   673.462601\n",
      "3       20004   514.593195   508.676223\n",
      "4       20005   502.090965   490.859439\n"
     ]
    }
   ],
   "source": [
    "combined_df = pd.merge(csv1, csv2, on='product_id')\n",
    "\n",
    "# Mostrar el DataFrame combinado para verificar\n",
    "print(\"DataFrame combinado:\")\n",
    "print(combined_df.head())"
   ]
  },
  {
   "cell_type": "code",
   "execution_count": 51,
   "metadata": {},
   "outputs": [],
   "source": [
    "\n",
    "import polars as pl \n",
    "\n",
    "# Convertir el DataFrame de Pandas a Polars\n",
    "df = pl.DataFrame(combined_df)\n",
    " \n",
    "# Definir las columnas a promediar\n",
    "columnas_a_promediar = ['tn_x', 'tn_y']\n",
    " \n",
    "# Calcular el promedio sumando las columnas y dividiendo por la cantidad de columnas\n",
    "df = df.with_columns(\n",
    "    (sum(pl.col(col) for col in columnas_a_promediar) / len(columnas_a_promediar)).alias('promedio_tn')\n",
    ")\n",
    " \n",
    "df= df.select(['product_id', 'promedio_tn'])"
   ]
  },
  {
   "cell_type": "code",
   "execution_count": 52,
   "metadata": {},
   "outputs": [
    {
     "ename": "TypeError",
     "evalue": "'LazyFrame' object is not subscriptable (aside from slicing)\n\nUse `select()` or `filter()` instead.",
     "output_type": "error",
     "traceback": [
      "\u001b[1;31m---------------------------------------------------------------------------\u001b[0m",
      "\u001b[1;31mTypeError\u001b[0m                                 Traceback (most recent call last)",
      "Cell \u001b[1;32mIn[52], line 9\u001b[0m\n\u001b[0;32m      6\u001b[0m dfs \u001b[38;5;241m=\u001b[39m []\n\u001b[0;32m      8\u001b[0m \u001b[38;5;66;03m# Escanear la carpeta actual y leer cada archivo CSV\u001b[39;00m\n\u001b[1;32m----> 9\u001b[0m \u001b[38;5;28;01mfor\u001b[39;00m archivo \u001b[38;5;129;01min\u001b[39;00m pl\u001b[38;5;241m.\u001b[39mscan_csv(carpeta):\n\u001b[0;32m     10\u001b[0m     dfs\u001b[38;5;241m.\u001b[39mappend(archivo)\n\u001b[0;32m     12\u001b[0m \u001b[38;5;66;03m# Concatenar todos los LazyFrame en uno solo\u001b[39;00m\n",
      "File \u001b[1;32mc:\\Users\\karin\\miniforge3\\envs\\faa\\lib\\site-packages\\polars\\lazyframe\\frame.py:617\u001b[0m, in \u001b[0;36mLazyFrame.__getitem__\u001b[1;34m(self, item)\u001b[0m\n\u001b[0;32m    612\u001b[0m \u001b[38;5;28;01mif\u001b[39;00m \u001b[38;5;129;01mnot\u001b[39;00m \u001b[38;5;28misinstance\u001b[39m(item, \u001b[38;5;28mslice\u001b[39m):\n\u001b[0;32m    613\u001b[0m     msg \u001b[38;5;241m=\u001b[39m (\n\u001b[0;32m    614\u001b[0m         \u001b[38;5;124m\"\u001b[39m\u001b[38;5;124m'\u001b[39m\u001b[38;5;124mLazyFrame\u001b[39m\u001b[38;5;124m'\u001b[39m\u001b[38;5;124m object is not subscriptable (aside from slicing)\u001b[39m\u001b[38;5;124m\"\u001b[39m\n\u001b[0;32m    615\u001b[0m         \u001b[38;5;124m\"\u001b[39m\u001b[38;5;130;01m\\n\u001b[39;00m\u001b[38;5;130;01m\\n\u001b[39;00m\u001b[38;5;124mUse `select()` or `filter()` instead.\u001b[39m\u001b[38;5;124m\"\u001b[39m\n\u001b[0;32m    616\u001b[0m     )\n\u001b[1;32m--> 617\u001b[0m     \u001b[38;5;28;01mraise\u001b[39;00m \u001b[38;5;167;01mTypeError\u001b[39;00m(msg)\n\u001b[0;32m    618\u001b[0m \u001b[38;5;28;01mreturn\u001b[39;00m LazyPolarsSlice(\u001b[38;5;28mself\u001b[39m)\u001b[38;5;241m.\u001b[39mapply(item)\n",
      "\u001b[1;31mTypeError\u001b[0m: 'LazyFrame' object is not subscriptable (aside from slicing)\n\nUse `select()` or `filter()` instead."
     ]
    }
   ],
   "source": [
    "#GENERALIZARLO\n",
    "import polars as pl\n",
    "\n",
    "carpeta = './Current Best/'\n",
    "# Lista para almacenar los DataFrames de Polars\n",
    "dfs = []\n",
    "\n",
    "# Escanear la carpeta actual y leer cada archivo CSV\n",
    "for archivo in pl.scan_csv(carpeta):\n",
    "    dfs.append(archivo)\n",
    "\n",
    "# Concatenar todos los LazyFrame en uno solo\n",
    "df_final = pl.concat(dfs)"
   ]
  }
 ],
 "metadata": {
  "kernelspec": {
   "display_name": "faa",
   "language": "python",
   "name": "python3"
  },
  "language_info": {
   "codemirror_mode": {
    "name": "ipython",
    "version": 3
   },
   "file_extension": ".py",
   "mimetype": "text/x-python",
   "name": "python",
   "nbconvert_exporter": "python",
   "pygments_lexer": "ipython3",
   "version": "3.10.14"
  }
 },
 "nbformat": 4,
 "nbformat_minor": 2
}
