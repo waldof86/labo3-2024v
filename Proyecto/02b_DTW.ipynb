{
 "cells": [
  {
   "cell_type": "code",
   "execution_count": 15,
   "metadata": {},
   "outputs": [],
   "source": [
    "#import pandas as pd\n",
    "import polars as pl\n",
    "import pandas as pd\n",
    "import numpy as np\n",
    "from datetime import datetime\n",
    "import json\n",
    "import os\n",
    "import matplotlib.pyplot as plt\n",
    "import pickle\n",
    "\n",
    "from tslearn.utils import to_time_series_dataset\n",
    "from tslearn.clustering import TimeSeriesKMeans\n",
    "\n",
    "fase = '02b_DTW'"
   ]
  },
  {
   "cell_type": "code",
   "execution_count": 16,
   "metadata": {},
   "outputs": [],
   "source": [
    "with open('gen_config.json', 'r') as file:\n",
    "    gen_config =json.load(file)"
   ]
  },
  {
   "cell_type": "code",
   "execution_count": 17,
   "metadata": {},
   "outputs": [
    {
     "name": "stdout",
     "output_type": "stream",
     "text": [
      "----------------------------------------------COMIENZA----------------------------------------------\n",
      "----------------------------------------------02b_DTW-----------------------------------------------\n"
     ]
    }
   ],
   "source": [
    "folder = gen_config['folder']\n",
    "\n",
    "#entradas\n",
    "path_norm = gen_config['path_norm']\n",
    "path_prod_stats = gen_config['path_prod_stats']\n",
    "path_overall_prod_stats = gen_config['path_overall_prod_stats']\n",
    "#salidas\n",
    "path_dtw = gen_config['path_dtw']\n",
    "path_traindtw = gen_config['path_traindtw']\n",
    "path_fitdtw = gen_config['path_fitdtw']\n",
    "#variables\n",
    "clusters = gen_config['var_clusters']\n",
    "path_dtwmodel = gen_config['path_dtw_model']\n",
    "leer_pickle_dtw = gen_config['var_leer_pickle_dtw']\n",
    "ejecutar_dtw = gen_config['var_ejecutar_dtw']\n",
    "\n",
    "\n",
    "print(f\"{'COMIENZA':-^100}\")\n",
    "print(f\"{fase:-^100}\")"
   ]
  },
  {
   "cell_type": "code",
   "execution_count": 18,
   "metadata": {},
   "outputs": [
    {
     "name": "stdout",
     "output_type": "stream",
     "text": [
      "df_norm shape:   (8_042_749,19)\n"
     ]
    }
   ],
   "source": [
    "df_norm = pl.read_parquet(f\"{folder}/{path_norm}\")\n",
    "prod_stats = pl.read_parquet(f'{folder}/{path_prod_stats}')\n",
    "overall_prod_stats = pl.read_parquet(f'{folder}/{path_overall_prod_stats}')\n",
    "\n",
    "print(f\"df_norm shape:   ({df_norm.shape[0]:>9_d},{df_norm.shape[1]:_d})\")"
   ]
  },
  {
   "cell_type": "code",
   "execution_count": 19,
   "metadata": {},
   "outputs": [],
   "source": [
    "df_norm = df_norm.with_columns([\n",
    "    ((pl.col(\"periodo\").cast(pl.Utf8) + \"01\").str.to_date(\"%Y%m%d\")).alias(\"periodo_dt\"),  \n",
    "])"
   ]
  },
  {
   "cell_type": "code",
   "execution_count": 20,
   "metadata": {},
   "outputs": [],
   "source": [
    "primer_periodo = df_norm['periodo_dt'].min()\n",
    "df_norm['periodo','periodo_dt']\n",
    "\n",
    "df_norm = df_norm.with_columns(\n",
    "    ((pl.col('periodo_dt').dt.year() - primer_periodo.year) * 12 +\n",
    "    (pl.col('periodo_dt').dt.month() - primer_periodo.month)).alias('mes_indice')\n",
    ")"
   ]
  },
  {
   "cell_type": "code",
   "execution_count": 21,
   "metadata": {},
   "outputs": [],
   "source": [
    "productos_fijos = overall_prod_stats.select(['product_id', 'total_tn']).sort('total_tn',descending = True)[:150][:,0]\n",
    "productos_sample = overall_prod_stats.select(['product_id', 'total_tn']).sort('total_tn',descending = True)[150:][:,0].sample(150, seed=42)\n",
    "productos_otros = overall_prod_stats['product_id'].filter(~overall_prod_stats['product_id'].is_in(pl.concat([productos_fijos, productos_sample])))"
   ]
  },
  {
   "cell_type": "code",
   "execution_count": 22,
   "metadata": {},
   "outputs": [
    {
     "name": "stdout",
     "output_type": "stream",
     "text": [
      "df_norm shape:   (8_042_749,19)\n",
      "df_train shape:  (3_589_457,19)\n",
      "df_fit shape:    (4_453_292,19)\n"
     ]
    }
   ],
   "source": [
    "df_norm = df_norm.sort(by=['product_id', 'customer_id', 'periodo'])\n",
    "\n",
    "df_train = df_norm.filter(df_norm['product_id'].is_in(pl.concat([productos_fijos, productos_sample])))\n",
    "df_fit = df_norm.filter(df_norm['product_id'].is_in(productos_otros))\n",
    "\n",
    "print(f\"df_norm shape:   ({df_norm.shape[0]:>9_d},{df_norm.shape[1]:_d})\")\n",
    "print(f\"df_train shape:  ({df_train.shape[0]:>9_d},{df_train.shape[1]:_d})\")\n",
    "print(f\"df_fit shape:    ({df_fit.shape[0]:>9_d},{df_fit.shape[1]:_d})\")"
   ]
  },
  {
   "cell_type": "code",
   "execution_count": 23,
   "metadata": {},
   "outputs": [],
   "source": [
    "prod_stats = prod_stats.to_pandas()"
   ]
  },
  {
   "cell_type": "code",
   "execution_count": 24,
   "metadata": {},
   "outputs": [],
   "source": [
    "df_train = df_train.to_pandas()\n",
    "df_fit = df_fit.to_pandas()"
   ]
  },
  {
   "cell_type": "code",
   "execution_count": 25,
   "metadata": {},
   "outputs": [
    {
     "name": "stdout",
     "output_type": "stream",
     "text": [
      "prodcust_train series:  (  110_136,19, productos unicos: 300)\n",
      "prodcust_fit series:    (  152_669,19, productos unicos: 480)\n"
     ]
    }
   ],
   "source": [
    "prodcust_train = df_train[['product_id', 'customer_id']].drop_duplicates().reset_index(drop=True)\n",
    "prodcust_fit = df_fit[['product_id', 'customer_id']].drop_duplicates().reset_index(drop=True)\n",
    "\n",
    "print(f\"prodcust_train series:  ({prodcust_train.shape[0]:>9_d},{df_train.shape[1]:_d}, productos unicos: {df_train['product_id'].nunique()})\")\n",
    "print(f\"prodcust_fit series:    ({prodcust_fit.shape[0]:>9_d},{df_fit.shape[1]:_d}, productos unicos: {df_fit['product_id'].nunique()})\")"
   ]
  },
  {
   "cell_type": "code",
   "execution_count": 26,
   "metadata": {},
   "outputs": [
    {
     "name": "stdout",
     "output_type": "stream",
     "text": [
      "X_train timeseries:  (  110_136,36,1)\n"
     ]
    }
   ],
   "source": [
    "series_train = df_train.pivot(index = ['product_id', 'customer_id'], columns='mes_indice', values='tn').reset_index()\n",
    "series_train = series_train.drop(columns=['product_id', 'customer_id'], axis=1)\n",
    "X_train = to_time_series_dataset(series_train)\n",
    "print(f\"X_train timeseries:  ({X_train.shape[0]:>9_d},{X_train.shape[1]:_d},{X_train.shape[2]:_d})\")"
   ]
  },
  {
   "cell_type": "code",
   "execution_count": 27,
   "metadata": {},
   "outputs": [
    {
     "name": "stdout",
     "output_type": "stream",
     "text": [
      "X_fit timeseries:  (  152_669,36,1)\n"
     ]
    }
   ],
   "source": [
    "series_fit = df_fit.pivot(index = ['product_id', 'customer_id'], columns='mes_indice', values='tn').reset_index()\n",
    "series_fit = series_fit.drop(columns=['product_id', 'customer_id'], axis=1)\n",
    "X_fit = to_time_series_dataset(series_fit)\n",
    "print(f\"X_fit timeseries:  ({X_fit.shape[0]:>9_d},{X_fit.shape[1]:_d},{X_fit.shape[2]:_d})\")"
   ]
  },
  {
   "cell_type": "code",
   "execution_count": 28,
   "metadata": {},
   "outputs": [
    {
     "name": "stderr",
     "output_type": "stream",
     "text": [
      "[Parallel(n_jobs=-1)]: Using backend ThreadingBackend with 28 concurrent workers.\n",
      "[Parallel(n_jobs=-1)]: Done 144 tasks      | elapsed:    0.8s\n",
      "[Parallel(n_jobs=-1)]: Done 394 tasks      | elapsed:    0.9s\n",
      "[Parallel(n_jobs=-1)]: Done 744 tasks      | elapsed:    0.9s\n",
      "[Parallel(n_jobs=-1)]: Done 1194 tasks      | elapsed:    1.0s\n",
      "[Parallel(n_jobs=-1)]: Done 1744 tasks      | elapsed:    1.1s\n",
      "[Parallel(n_jobs=-1)]: Done 2394 tasks      | elapsed:    1.3s\n",
      "[Parallel(n_jobs=-1)]: Done 3144 tasks      | elapsed:    1.4s\n",
      "[Parallel(n_jobs=-1)]: Done 3994 tasks      | elapsed:    1.6s\n",
      "[Parallel(n_jobs=-1)]: Done 4944 tasks      | elapsed:    1.8s\n",
      "[Parallel(n_jobs=-1)]: Done 5994 tasks      | elapsed:    2.0s\n",
      "[Parallel(n_jobs=-1)]: Done 7144 tasks      | elapsed:    2.2s\n",
      "[Parallel(n_jobs=-1)]: Done 8394 tasks      | elapsed:    2.5s\n",
      "[Parallel(n_jobs=-1)]: Done 9744 tasks      | elapsed:    2.8s\n",
      "[Parallel(n_jobs=-1)]: Done 11194 tasks      | elapsed:    3.1s\n",
      "[Parallel(n_jobs=-1)]: Done 12744 tasks      | elapsed:    3.4s\n",
      "[Parallel(n_jobs=-1)]: Done 14394 tasks      | elapsed:    3.8s\n",
      "[Parallel(n_jobs=-1)]: Done 16144 tasks      | elapsed:    4.2s\n",
      "[Parallel(n_jobs=-1)]: Done 17994 tasks      | elapsed:    4.6s\n",
      "[Parallel(n_jobs=-1)]: Done 19944 tasks      | elapsed:    5.0s\n",
      "[Parallel(n_jobs=-1)]: Done 21994 tasks      | elapsed:    5.4s\n",
      "[Parallel(n_jobs=-1)]: Done 24144 tasks      | elapsed:    5.8s\n",
      "[Parallel(n_jobs=-1)]: Done 26394 tasks      | elapsed:    6.3s\n",
      "[Parallel(n_jobs=-1)]: Done 28744 tasks      | elapsed:    6.8s\n",
      "[Parallel(n_jobs=-1)]: Done 31194 tasks      | elapsed:    7.3s\n",
      "[Parallel(n_jobs=-1)]: Done 33744 tasks      | elapsed:    7.8s\n",
      "[Parallel(n_jobs=-1)]: Done 36394 tasks      | elapsed:    8.3s\n",
      "[Parallel(n_jobs=-1)]: Done 39144 tasks      | elapsed:    8.9s\n",
      "[Parallel(n_jobs=-1)]: Done 41994 tasks      | elapsed:    9.5s\n",
      "[Parallel(n_jobs=-1)]: Done 44944 tasks      | elapsed:   10.1s\n",
      "[Parallel(n_jobs=-1)]: Done 47994 tasks      | elapsed:   10.7s\n",
      "[Parallel(n_jobs=-1)]: Done 51144 tasks      | elapsed:   11.4s\n",
      "[Parallel(n_jobs=-1)]: Done 54394 tasks      | elapsed:   12.0s\n",
      "[Parallel(n_jobs=-1)]: Done 57744 tasks      | elapsed:   12.7s\n",
      "[Parallel(n_jobs=-1)]: Done 61194 tasks      | elapsed:   13.4s\n",
      "[Parallel(n_jobs=-1)]: Done 64744 tasks      | elapsed:   14.2s\n",
      "[Parallel(n_jobs=-1)]: Done 68394 tasks      | elapsed:   14.9s\n",
      "[Parallel(n_jobs=-1)]: Done 72144 tasks      | elapsed:   15.6s\n",
      "[Parallel(n_jobs=-1)]: Done 75994 tasks      | elapsed:   16.4s\n",
      "[Parallel(n_jobs=-1)]: Done 79944 tasks      | elapsed:   17.2s\n",
      "[Parallel(n_jobs=-1)]: Done 83994 tasks      | elapsed:   18.0s\n",
      "[Parallel(n_jobs=-1)]: Done 88144 tasks      | elapsed:   18.9s\n",
      "[Parallel(n_jobs=-1)]: Done 92394 tasks      | elapsed:   19.7s\n",
      "[Parallel(n_jobs=-1)]: Done 96744 tasks      | elapsed:   20.6s\n",
      "[Parallel(n_jobs=-1)]: Done 101194 tasks      | elapsed:   21.5s\n",
      "[Parallel(n_jobs=-1)]: Done 105744 tasks      | elapsed:   22.5s\n",
      "[Parallel(n_jobs=-1)]: Done 110136 out of 110136 | elapsed:   23.4s finished\n",
      "[Parallel(n_jobs=-1)]: Using backend ThreadingBackend with 28 concurrent workers.\n",
      "[Parallel(n_jobs=-1)]: Done 144 tasks      | elapsed:    0.0s\n",
      "[Parallel(n_jobs=-1)]: Done 394 tasks      | elapsed:    0.0s\n",
      "[Parallel(n_jobs=-1)]: Done 744 tasks      | elapsed:    0.1s\n",
      "[Parallel(n_jobs=-1)]: Done 1194 tasks      | elapsed:    0.2s\n",
      "[Parallel(n_jobs=-1)]: Done 1744 tasks      | elapsed:    0.3s\n",
      "[Parallel(n_jobs=-1)]: Done 2394 tasks      | elapsed:    0.4s\n",
      "[Parallel(n_jobs=-1)]: Done 3144 tasks      | elapsed:    0.5s\n",
      "[Parallel(n_jobs=-1)]: Done 3994 tasks      | elapsed:    0.7s\n",
      "[Parallel(n_jobs=-1)]: Done 4944 tasks      | elapsed:    0.9s\n",
      "[Parallel(n_jobs=-1)]: Done 5994 tasks      | elapsed:    1.1s\n",
      "[Parallel(n_jobs=-1)]: Done 7144 tasks      | elapsed:    1.3s\n",
      "[Parallel(n_jobs=-1)]: Done 8394 tasks      | elapsed:    1.6s\n",
      "[Parallel(n_jobs=-1)]: Done 9744 tasks      | elapsed:    1.9s\n",
      "[Parallel(n_jobs=-1)]: Done 11194 tasks      | elapsed:    2.2s\n",
      "[Parallel(n_jobs=-1)]: Done 12744 tasks      | elapsed:    2.5s\n",
      "[Parallel(n_jobs=-1)]: Done 14394 tasks      | elapsed:    2.8s\n",
      "[Parallel(n_jobs=-1)]: Done 16144 tasks      | elapsed:    3.1s\n",
      "[Parallel(n_jobs=-1)]: Done 17994 tasks      | elapsed:    3.5s\n",
      "[Parallel(n_jobs=-1)]: Done 19944 tasks      | elapsed:    3.9s\n",
      "[Parallel(n_jobs=-1)]: Done 21994 tasks      | elapsed:    4.3s\n",
      "[Parallel(n_jobs=-1)]: Done 24144 tasks      | elapsed:    4.7s\n",
      "[Parallel(n_jobs=-1)]: Done 26394 tasks      | elapsed:    5.2s\n",
      "[Parallel(n_jobs=-1)]: Done 28744 tasks      | elapsed:    5.6s\n",
      "[Parallel(n_jobs=-1)]: Done 31194 tasks      | elapsed:    6.1s\n",
      "[Parallel(n_jobs=-1)]: Done 33744 tasks      | elapsed:    6.6s\n",
      "[Parallel(n_jobs=-1)]: Done 36394 tasks      | elapsed:    7.2s\n",
      "[Parallel(n_jobs=-1)]: Done 39144 tasks      | elapsed:    7.7s\n",
      "[Parallel(n_jobs=-1)]: Done 41994 tasks      | elapsed:    8.3s\n",
      "[Parallel(n_jobs=-1)]: Done 44944 tasks      | elapsed:    8.8s\n",
      "[Parallel(n_jobs=-1)]: Done 47994 tasks      | elapsed:    9.4s\n",
      "[Parallel(n_jobs=-1)]: Done 51144 tasks      | elapsed:   10.1s\n",
      "[Parallel(n_jobs=-1)]: Done 54394 tasks      | elapsed:   10.7s\n",
      "[Parallel(n_jobs=-1)]: Done 57744 tasks      | elapsed:   11.4s\n",
      "[Parallel(n_jobs=-1)]: Done 61194 tasks      | elapsed:   12.0s\n",
      "[Parallel(n_jobs=-1)]: Done 64744 tasks      | elapsed:   12.7s\n",
      "[Parallel(n_jobs=-1)]: Done 68394 tasks      | elapsed:   13.4s\n",
      "[Parallel(n_jobs=-1)]: Done 72144 tasks      | elapsed:   14.2s\n",
      "[Parallel(n_jobs=-1)]: Done 75994 tasks      | elapsed:   14.9s\n",
      "[Parallel(n_jobs=-1)]: Done 79944 tasks      | elapsed:   15.7s\n",
      "[Parallel(n_jobs=-1)]: Done 83994 tasks      | elapsed:   16.6s\n",
      "[Parallel(n_jobs=-1)]: Done 88144 tasks      | elapsed:   17.6s\n",
      "[Parallel(n_jobs=-1)]: Done 92394 tasks      | elapsed:   18.5s\n",
      "[Parallel(n_jobs=-1)]: Done 96744 tasks      | elapsed:   19.4s\n",
      "[Parallel(n_jobs=-1)]: Done 101194 tasks      | elapsed:   20.3s\n",
      "[Parallel(n_jobs=-1)]: Done 105744 tasks      | elapsed:   21.3s\n",
      "[Parallel(n_jobs=-1)]: Done 110394 tasks      | elapsed:   22.2s\n",
      "[Parallel(n_jobs=-1)]: Done 115144 tasks      | elapsed:   23.1s\n",
      "[Parallel(n_jobs=-1)]: Done 119994 tasks      | elapsed:   24.1s\n",
      "[Parallel(n_jobs=-1)]: Done 124944 tasks      | elapsed:   25.1s\n",
      "[Parallel(n_jobs=-1)]: Done 129994 tasks      | elapsed:   26.1s\n",
      "[Parallel(n_jobs=-1)]: Done 135144 tasks      | elapsed:   27.1s\n",
      "[Parallel(n_jobs=-1)]: Done 140394 tasks      | elapsed:   28.1s\n",
      "[Parallel(n_jobs=-1)]: Done 145744 tasks      | elapsed:   29.1s\n",
      "[Parallel(n_jobs=-1)]: Done 151194 tasks      | elapsed:   30.2s\n",
      "[Parallel(n_jobs=-1)]: Done 156744 tasks      | elapsed:   31.3s\n",
      "[Parallel(n_jobs=-1)]: Done 162394 tasks      | elapsed:   32.4s\n",
      "[Parallel(n_jobs=-1)]: Done 168144 tasks      | elapsed:   33.6s\n",
      "[Parallel(n_jobs=-1)]: Done 173994 tasks      | elapsed:   34.7s\n",
      "[Parallel(n_jobs=-1)]: Done 179944 tasks      | elapsed:   35.9s\n",
      "[Parallel(n_jobs=-1)]: Done 185994 tasks      | elapsed:   37.1s\n",
      "[Parallel(n_jobs=-1)]: Done 192144 tasks      | elapsed:   38.3s\n",
      "[Parallel(n_jobs=-1)]: Done 198394 tasks      | elapsed:   39.5s\n",
      "[Parallel(n_jobs=-1)]: Done 204744 tasks      | elapsed:   40.8s\n",
      "[Parallel(n_jobs=-1)]: Done 211194 tasks      | elapsed:   42.1s\n",
      "[Parallel(n_jobs=-1)]: Done 217744 tasks      | elapsed:   43.4s\n",
      "[Parallel(n_jobs=-1)]: Done 224394 tasks      | elapsed:   44.7s\n",
      "[Parallel(n_jobs=-1)]: Done 231144 tasks      | elapsed:   46.0s\n",
      "[Parallel(n_jobs=-1)]: Done 237994 tasks      | elapsed:   47.3s\n",
      "[Parallel(n_jobs=-1)]: Done 244944 tasks      | elapsed:   48.7s\n",
      "[Parallel(n_jobs=-1)]: Done 251994 tasks      | elapsed:   50.1s\n",
      "[Parallel(n_jobs=-1)]: Done 259144 tasks      | elapsed:   51.5s\n",
      "[Parallel(n_jobs=-1)]: Done 266394 tasks      | elapsed:   52.9s\n",
      "[Parallel(n_jobs=-1)]: Done 273744 tasks      | elapsed:   54.4s\n",
      "[Parallel(n_jobs=-1)]: Done 281194 tasks      | elapsed:   55.9s\n",
      "[Parallel(n_jobs=-1)]: Done 288744 tasks      | elapsed:   57.4s\n",
      "[Parallel(n_jobs=-1)]: Done 296394 tasks      | elapsed:   58.9s\n",
      "[Parallel(n_jobs=-1)]: Done 304144 tasks      | elapsed:  1.0min\n",
      "[Parallel(n_jobs=-1)]: Done 311994 tasks      | elapsed:  1.0min\n",
      "[Parallel(n_jobs=-1)]: Done 319944 tasks      | elapsed:  1.1min\n",
      "[Parallel(n_jobs=-1)]: Done 327994 tasks      | elapsed:  1.1min\n",
      "[Parallel(n_jobs=-1)]: Done 336144 tasks      | elapsed:  1.1min\n",
      "[Parallel(n_jobs=-1)]: Done 344394 tasks      | elapsed:  1.1min\n",
      "[Parallel(n_jobs=-1)]: Done 352744 tasks      | elapsed:  1.2min\n",
      "[Parallel(n_jobs=-1)]: Done 361194 tasks      | elapsed:  1.2min\n",
      "[Parallel(n_jobs=-1)]: Done 369744 tasks      | elapsed:  1.2min\n",
      "[Parallel(n_jobs=-1)]: Done 378394 tasks      | elapsed:  1.3min\n",
      "[Parallel(n_jobs=-1)]: Done 387144 tasks      | elapsed:  1.3min\n",
      "[Parallel(n_jobs=-1)]: Done 395994 tasks      | elapsed:  1.3min\n",
      "[Parallel(n_jobs=-1)]: Done 404944 tasks      | elapsed:  1.3min\n",
      "[Parallel(n_jobs=-1)]: Done 413994 tasks      | elapsed:  1.4min\n",
      "[Parallel(n_jobs=-1)]: Done 423144 tasks      | elapsed:  1.4min\n",
      "[Parallel(n_jobs=-1)]: Done 432394 tasks      | elapsed:  1.4min\n",
      "[Parallel(n_jobs=-1)]: Done 441744 tasks      | elapsed:  1.5min\n",
      "[Parallel(n_jobs=-1)]: Done 451194 tasks      | elapsed:  1.5min\n",
      "[Parallel(n_jobs=-1)]: Done 460744 tasks      | elapsed:  1.5min\n",
      "[Parallel(n_jobs=-1)]: Done 470394 tasks      | elapsed:  1.6min\n",
      "[Parallel(n_jobs=-1)]: Done 480144 tasks      | elapsed:  1.6min\n",
      "[Parallel(n_jobs=-1)]: Done 489994 tasks      | elapsed:  1.6min\n",
      "[Parallel(n_jobs=-1)]: Done 499944 tasks      | elapsed:  1.7min\n"
     ]
    }
   ],
   "source": [
    "if ejecutar_dtw:\n",
    "    if leer_pickle_dtw:\n",
    "        x_clusters_dtw = np.full((X_train.shape[0], len(clusters)), np.nan)\n",
    "        model_dtw = []\n",
    "        model_dtw.append(TimeSeriesKMeans.from_pickle(f\"{folder}/{path_dtwmodel}\"))\n",
    "    else:\n",
    "        x_clusters_dtw = np.full((X_train.shape[0], len(clusters)), np.nan)\n",
    "        model_dtw = []\n",
    "\n",
    "        for i in range(len(clusters)):\n",
    "            start_time = datetime.now()\n",
    "            model = TimeSeriesKMeans(n_clusters=clusters[i], metric=\"dtw\",\n",
    "                                    max_iter=50, random_state=42, max_iter_barycenter=50,\n",
    "                                    n_jobs = -1, verbose = True)\n",
    "            x_clusters_dtw[:,i] = model.fit_predict(X_train)\n",
    "            print(f\"DTW Corrida {i}, clusters: {model.n_clusters}, inertia: {model.inertia_:.2f}, time: {(datetime.now()-start_time).total_seconds():.2f}\")\n",
    "            model_dtw.append(model)"
   ]
  },
  {
   "cell_type": "code",
   "execution_count": null,
   "metadata": {},
   "outputs": [],
   "source": [
    "path_dtw_model = f\"02b_dtw_model.pkl\"\n",
    "model_dtw[0].to_pickle(f\"{folder}/{path_dtw_model}\")"
   ]
  },
  {
   "cell_type": "code",
   "execution_count": null,
   "metadata": {},
   "outputs": [],
   "source": [
    "if ejecutar_dtw:\n",
    "    df_clusters = pd.concat([prodcust_train.reset_index(drop=True), pd.DataFrame(x_clusters_dtw)], axis=1)\n",
    "    cols = ['product_id', 'customer_id']\n",
    "    for method in ['cluster_dtw']:\n",
    "        for cluster in clusters:\n",
    "            cols.append(f\"{method}_{cluster:0>2}\")\n",
    "\n",
    "    df_clusters.columns = cols"
   ]
  },
  {
   "cell_type": "code",
   "execution_count": null,
   "metadata": {},
   "outputs": [],
   "source": [
    "#np.nan_to_num(X_fit, nan=0, copy=False)\n",
    "print(f\"X_fit timeseries:    ({X_fit.shape[0]:>9_d},{X_fit.shape[1]:_d},{X_fit.shape[2]:_d})\")"
   ]
  },
  {
   "cell_type": "code",
   "execution_count": null,
   "metadata": {},
   "outputs": [],
   "source": [
    "if ejecutar_dtw:\n",
    "    x_clusters_dtw_fit = np.full((X_fit.shape[0], len(clusters)), np.nan)\n",
    "    x_clusters_dtw_fit[:,0] = model_dtw[0].predict(X_fit)"
   ]
  },
  {
   "cell_type": "code",
   "execution_count": null,
   "metadata": {},
   "outputs": [],
   "source": [
    "if ejecutar_dtw:\n",
    "    df_clusters_fit = pd.concat([prodcust_fit.reset_index(drop=True), pd.DataFrame(x_clusters_dtw_fit)], axis=1)\n",
    "    cols = ['product_id', 'customer_id']\n",
    "    for method in ['cluster_dtw']:\n",
    "        for cluster in clusters:\n",
    "            cols.append(f\"{method}_{cluster:0>2}\")\n",
    "\n",
    "    df_clusters_fit.columns = cols"
   ]
  },
  {
   "cell_type": "code",
   "execution_count": null,
   "metadata": {},
   "outputs": [],
   "source": [
    "if ejecutar_dtw:\n",
    "    df_clusters_full = pd.concat([df_clusters, df_clusters_fit], axis=0)\n",
    "    df_clusters_full.to_parquet(f\"{folder}/{path_dtw}\", index=False)"
   ]
  },
  {
   "cell_type": "code",
   "execution_count": null,
   "metadata": {},
   "outputs": [],
   "source": [
    "if dibujar_dtw:\n",
    "    fig, axs = plt.subplots(max(clusters), len(clusters), figsize=(24, 40))\n",
    "\n",
    "    for i in range(len(clusters)):\n",
    "        y_pred = x_clusters_dtw[:,i]\n",
    "\n",
    "        for j in range(clusters[i]):\n",
    "            for xx in X_train[y_pred == j]:\n",
    "                axs[j, i].plot(xx.ravel(), \"k-\", alpha=.1)\n",
    "            axs[j, i].plot(model_dtw[i].cluster_centers_[j].ravel(), color='green')\n",
    "            axs[j, i].set_title(f\"Cluster {j} de {clusters[i]} DTW\")\n",
    "            \n",
    "            # for xx in X_train[y_pred == j]:\n",
    "            #     axs[j, (i+4)].plot(xx.ravel(), \"k-\", alpha=.1)\n",
    "            # axs[j, (i+4)].plot(model_softdtw[i].cluster_centers_[j].ravel(), color='blue')\n",
    "            # axs[j, (i+4)].set_title(f\"Cluster {j} de {clusters[i]} Soft_DTW\")\n",
    "\n",
    "    plt.tight_layout()\n",
    "\n",
    "    plt.show()"
   ]
  },
  {
   "cell_type": "code",
   "execution_count": null,
   "metadata": {},
   "outputs": [],
   "source": [
    "print(f\"{fase:-^100}\")\n",
    "print(f\"{'FINALIZA':-^100}\\n\\n\\n\")"
   ]
  }
 ],
 "metadata": {
  "kernelspec": {
   "display_name": "uni",
   "language": "python",
   "name": "python3"
  },
  "language_info": {
   "codemirror_mode": {
    "name": "ipython",
    "version": 3
   },
   "file_extension": ".py",
   "mimetype": "text/x-python",
   "name": "python",
   "nbconvert_exporter": "python",
   "pygments_lexer": "ipython3",
   "version": "3.10.14"
  }
 },
 "nbformat": 4,
 "nbformat_minor": 2
}
