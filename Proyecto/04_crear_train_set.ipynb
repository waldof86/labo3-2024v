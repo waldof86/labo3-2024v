{
 "cells": [
  {
   "cell_type": "code",
   "execution_count": 1,
   "metadata": {},
   "outputs": [],
   "source": [
    "#import pandas as pd\n",
    "import polars as pl\n",
    "from datetime import datetime\n",
    "import json\n",
    "\n",
    "import warnings\n",
    "warnings.filterwarnings('ignore')\n",
    "\n",
    "fase = '04_crear_train_test'"
   ]
  },
  {
   "cell_type": "code",
   "execution_count": 2,
   "metadata": {},
   "outputs": [],
   "source": [
    "with open('gen_config.json', 'r') as file:\n",
    "    gen_config =json.load(file)"
   ]
  },
  {
   "cell_type": "code",
   "execution_count": 3,
   "metadata": {},
   "outputs": [
    {
     "name": "stdout",
     "output_type": "stream",
     "text": [
      "----------------------------------------------COMIENZA----------------------------------------------\n",
      "----------------------------------------04_crear_train_test-----------------------------------------\n"
     ]
    }
   ],
   "source": [
    "folder = gen_config['folder']\n",
    "\n",
    "#entradas\n",
    "path_lag = gen_config['path_lag']\n",
    "path_overall_prod_stats = gen_config['path_overall_prod_stats']\n",
    "#salidas\n",
    "path_train = gen_config['path_train']\n",
    "path_test = gen_config['path_test']\n",
    "path_futuro = gen_config['path_futuro']\n",
    "\n",
    "#variables config\n",
    "periodo_train_start = gen_config['var_periodo_train_start']\n",
    "periodo_train_end = gen_config['var_periodo_train_end']\n",
    "periodo_test = gen_config['var_periodo_test']\n",
    "periodo_futuro = gen_config['var_periodo_futuro']\n",
    "\n",
    "print(f\"{'COMIENZA':-^100}\")\n",
    "print(f\"{fase:-^100}\")"
   ]
  },
  {
   "cell_type": "code",
   "execution_count": 4,
   "metadata": {},
   "outputs": [
    {
     "name": "stdout",
     "output_type": "stream",
     "text": [
      "Tamaño datos con features: (2293481, 189)\n"
     ]
    }
   ],
   "source": [
    "overall_prod_stats = pl.read_parquet(f\"{folder}/{path_overall_prod_stats}\")\n",
    "overall_prod_stats = overall_prod_stats[['product_id','tot_weight', 'avg_weight', 'med_weight']]\n",
    "df = pl.read_parquet(f\"{folder}/{path_lag}\")\n",
    "df = df.join(overall_prod_stats, on=['product_id'], how='left')\n",
    "\n",
    "print(f\"Tamaño datos con features: {df.shape}\")"
   ]
  },
  {
   "cell_type": "code",
   "execution_count": 5,
   "metadata": {},
   "outputs": [],
   "source": [
    "df = df.with_columns([\n",
    "    pl.col('primer_periodo').cast(pl.Int32),\n",
    "    pl.col('ultimo_periodo').cast(pl.Int32),\n",
    "    pl.col('periodo_dt').cast(pl.Int32),\n",
    "    (-pl.col(\"tn_norm\").diff(-2).over([\"product_id\", \"customer_id\"])).alias(f'tn_futuro')\n",
    "])\n"
   ]
  },
  {
   "cell_type": "code",
   "execution_count": 6,
   "metadata": {},
   "outputs": [],
   "source": [
    "df_train = df.filter((pl.col('periodo') >= periodo_train_start) & (pl.col('periodo') <= periodo_train_end))\n",
    "df_test = df.filter(pl.col('periodo') == periodo_test)\n",
    "df_futuro = df.filter(pl.col('periodo') == periodo_futuro)"
   ]
  },
  {
   "cell_type": "code",
   "execution_count": 7,
   "metadata": {},
   "outputs": [
    {
     "name": "stdout",
     "output_type": "stream",
     "text": [
      "Shape Train..............: (2031615, 190) para los periodos desde 201701 hasta 201908\n",
      "Shape Test...............: (68823, 190) para el periodo 201910\n",
      "Shape Futuro.............: (53008, 190) para el periodo 201912\n"
     ]
    }
   ],
   "source": [
    "print(f\"{'Shape Train':.<25}: {df_train.shape} para los periodos desde {periodo_train_start} hasta {periodo_train_end}\")\n",
    "print(f\"{'Shape Test':.<25}: {df_test.shape} para el periodo {periodo_test}\")\n",
    "print(f\"{'Shape Futuro':.<25}: {df_futuro.shape} para el periodo {periodo_futuro}\")"
   ]
  },
  {
   "cell_type": "code",
   "execution_count": 8,
   "metadata": {},
   "outputs": [],
   "source": [
    "df_train.write_parquet(f'{folder}/{path_train}')\n",
    "df_test.write_parquet(f'{folder}/{path_test}')\n",
    "df_futuro.write_parquet(f'{folder}/{path_futuro}')"
   ]
  },
  {
   "cell_type": "code",
   "execution_count": 13,
   "metadata": {},
   "outputs": [
    {
     "name": "stdout",
     "output_type": "stream",
     "text": [
      "Rows: 2031615\n",
      "Columns: 190\n",
      "$ periodo                               <i64> 201701, 201702, 201703, 201704, 201705, 201706, 201707, 201708, 201709, 201710\n",
      "$ product_id                            <i64> 20001, 20001, 20001, 20001, 20001, 20001, 20001, 20001, 20001, 20001\n",
      "$ customer_id                           <i64> 10001, 10001, 10001, 10001, 10001, 10001, 10001, 10001, 10001, 10001\n",
      "$ tn                                    <f64> 99.43861, 198.84365, 92.46537, 13.29728, 101.00563, 128.04792, 101.20711, 43.3393, 289.35024, 222.11389\n",
      "$ primer_periodo                        <i32> 17167, 17167, 17167, 17167, 17167, 17167, 17167, 17167, 17167, 17167\n",
      "$ ultimo_periodo                        <i32> 18231, 18231, 18231, 18231, 18231, 18231, 18231, 18231, 18231, 18231\n",
      "$ values                                <u32> 36, 36, 36, 36, 36, 36, 36, 36, 36, 36\n",
      "$ total_tn                              <f64> 6347.964899999999, 6347.964899999999, 6347.964899999999, 6347.964899999999, 6347.964899999999, 6347.964899999999, 6347.964899999999, 6347.964899999999, 6347.964899999999, 6347.964899999999\n",
      "$ min_tn                                <f64> 13.29728, 13.29728, 13.29728, 13.29728, 13.29728, 13.29728, 13.29728, 13.29728, 13.29728, 13.29728\n",
      "$ average_tn                            <f64> 176.3323583333333, 176.3323583333333, 176.3323583333333, 176.3323583333333, 176.3323583333333, 176.3323583333333, 176.3323583333333, 176.3323583333333, 176.3323583333333, 176.3323583333333\n",
      "$ median_tn                             <f64> 142.01461999999998, 142.01461999999998, 142.01461999999998, 142.01461999999998, 142.01461999999998, 142.01461999999998, 142.01461999999998, 142.01461999999998, 142.01461999999998, 142.01461999999998\n",
      "$ std_dev_tn                            <f64> 106.03278137555681, 106.03278137555681, 106.03278137555681, 106.03278137555681, 106.03278137555681, 106.03278137555681, 106.03278137555681, 106.03278137555681, 106.03278137555681, 106.03278137555681\n",
      "$ iqr_tn                                <f64> 140.01875, 140.01875, 140.01875, 140.01875, 140.01875, 140.01875, 140.01875, 140.01875, 140.01875, 140.01875\n",
      "$ max_tn                                <f64> 439.90647, 439.90647, 439.90647, 439.90647, 439.90647, 439.90647, 439.90647, 439.90647, 439.90647, 439.90647\n",
      "$ tn_norm                               <f64> -0.72518844960771, 0.21230501901986423, -0.7909533942742234, -1.5375912639307314, -0.7104098124761442, -0.4553727414007463, -0.7085096454015262, -1.2542636023314908, 1.0658767996132195, 0.4317677144062966\n",
      "$ periodo_dt                            <i32> 17167, 17198, 17226, 17257, 17287, 17318, 17348, 17379, 17410, 17440\n",
      "$ mes                                    <i8> 1, 2, 3, 4, 5, 6, 7, 8, 9, 10\n",
      "$ year                                  <i32> 2017, 2017, 2017, 2017, 2017, 2017, 2017, 2017, 2017, 2017\n",
      "$ quarter                                <i8> 1, 1, 1, 2, 2, 2, 3, 3, 3, 4\n",
      "$ month_in_quarter                       <i8> 1, 2, 3, 1, 2, 3, 1, 2, 3, 1\n",
      "$ yearquarter                           <cat> 2017-Q1, 2017-Q1, 2017-Q1, 2017-Q2, 2017-Q2, 2017-Q2, 2017-Q3, 2017-Q3, 2017-Q3, 2017-Q4\n",
      "$ tn_cero                              <bool> False, False, False, True, False, False, False, False, False, False\n",
      "$ tn_lag_1                              <f64> None, -0.72518844960771, 0.21230501901986423, -0.7909533942742234, -1.5375912639307314, -0.7104098124761442, -0.4553727414007463, -0.7085096454015262, -1.2542636023314908, 1.0658767996132195\n",
      "$ tn_lag_2                              <f64> None, None, -0.72518844960771, 0.21230501901986423, -0.7909533942742234, -1.5375912639307314, -0.7104098124761442, -0.4553727414007463, -0.7085096454015262, -1.2542636023314908\n",
      "$ tn_lag_3                              <f64> None, None, None, -0.72518844960771, 0.21230501901986423, -0.7909533942742234, -1.5375912639307314, -0.7104098124761442, -0.4553727414007463, -0.7085096454015262\n",
      "$ tn_lag_4                              <f64> None, None, None, None, -0.72518844960771, 0.21230501901986423, -0.7909533942742234, -1.5375912639307314, -0.7104098124761442, -0.4553727414007463\n",
      "$ tn_lag_5                              <f64> None, None, None, None, None, -0.72518844960771, 0.21230501901986423, -0.7909533942742234, -1.5375912639307314, -0.7104098124761442\n",
      "$ tn_lag_6                              <f64> None, None, None, None, None, None, -0.72518844960771, 0.21230501901986423, -0.7909533942742234, -1.5375912639307314\n",
      "$ tn_lag_7                              <f64> None, None, None, None, None, None, None, -0.72518844960771, 0.21230501901986423, -0.7909533942742234\n",
      "$ tn_lag_8                              <f64> None, None, None, None, None, None, None, None, -0.72518844960771, 0.21230501901986423\n",
      "$ tn_lag_9                              <f64> None, None, None, None, None, None, None, None, None, -0.72518844960771\n",
      "$ tn_lag_10                             <f64> None, None, None, None, None, None, None, None, None, None\n",
      "$ tn_lag_11                             <f64> None, None, None, None, None, None, None, None, None, None\n",
      "$ tn_lag_12                             <f64> None, None, None, None, None, None, None, None, None, None\n",
      "$ tn_lag_15                             <f64> None, None, None, None, None, None, None, None, None, None\n",
      "$ tn_lag_18                             <f64> None, None, None, None, None, None, None, None, None, None\n",
      "$ tn_lag_21                             <f64> None, None, None, None, None, None, None, None, None, None\n",
      "$ tn_lag_24                             <f64> None, None, None, None, None, None, None, None, None, None\n",
      "$ tn_lag_30                             <f64> None, None, None, None, None, None, None, None, None, None\n",
      "$ tn_lag_36                             <f64> None, None, None, None, None, None, None, None, None, None\n",
      "$ tn_diff_1                             <f64> None, 0.9374934686275742, -1.0032584132940876, -0.746637869656508, 0.8271814514545872, 0.2550370710753979, -0.25313690400077987, -0.5457539569299646, 2.3201404019447103, -0.6341090852069229\n",
      "$ tn_diff_2                             <f64> None, None, -0.06576494466651339, -1.7498962829505957, 0.08054358179807919, 1.0822185225299852, 0.0019001670746180421, -0.7988908609307446, 1.7743864450147457, 1.6860313167377874\n",
      "$ tn_diff_3                             <f64> None, None, None, -0.8124028143230214, -0.9227148314960084, 0.3355806528734771, 0.8290816185292053, -0.5438537898553466, 1.5212495410139657, 1.1402773598078229\n",
      "$ tn_diff_4                             <f64> None, None, None, None, 0.014778637131565797, -0.6676777604206106, 0.08244374887269723, 0.2833276615992406, 1.7762866120893637, 0.8871404558070428\n",
      "$ tn_diff_5                             <f64> None, None, None, None, None, 0.2698157082069637, -0.9208146644213904, -0.4633102080572674, 2.603468063543951, 1.1421775268824408\n",
      "$ tn_diff_6                             <f64> None, None, None, None, None, None, 0.01667880420618384, -1.4665686213513551, 1.856830193887443, 1.969358978337028\n",
      "$ tn_diff_7                             <f64> None, None, None, None, None, None, None, -0.5290751527237808, 0.8535717805933553, 1.22272110868052\n",
      "$ tn_diff_8                             <f64> None, None, None, None, None, None, None, None, 1.7910652492209294, 0.21946269538643234\n",
      "$ tn_diff_9                             <f64> None, None, None, None, None, None, None, None, None, 1.1569561640140065\n",
      "$ tn_diff_10                            <f64> None, None, None, None, None, None, None, None, None, None\n",
      "$ tn_diff_11                            <f64> None, None, None, None, None, None, None, None, None, None\n",
      "$ tn_diff_12                            <f64> None, None, None, None, None, None, None, None, None, None\n",
      "$ tn_diff_15                            <f64> None, None, None, None, None, None, None, None, None, None\n",
      "$ tn_diff_18                            <f64> None, None, None, None, None, None, None, None, None, None\n",
      "$ tn_diff_21                            <f64> None, None, None, None, None, None, None, None, None, None\n",
      "$ tn_diff_24                            <f64> None, None, None, None, None, None, None, None, None, None\n",
      "$ tn_diff_30                            <f64> None, None, None, None, None, None, None, None, None, None\n",
      "$ tn_diff_36                            <f64> None, None, None, None, None, None, None, None, None, None\n",
      "$ tn_diff_2_1                           <f64> None, None, -1.9407518819216618, 0.2566205436375796, 1.5738193211110953, -0.5721443803791892, -0.5081739750761778, -0.2926170529291848, 2.865894358874675, -2.954249487151633\n",
      "$ tn_diff_2_2                           <f64> None, None, None, None, 0.14630852646459258, 2.8321148054805807, -0.07864341472346115, -1.8811093834607298, 1.7724862779401276, 2.484922177668532\n",
      "$ tn_diff_2_3                           <f64> None, None, None, None, None, None, 1.6414844328522267, 0.3788610416406618, 1.1856688881404887, 0.3111957412786176\n",
      "$ tn_diff_2_4                           <f64> None, None, None, None, None, None, None, None, 1.761507974957798, 1.5548182162276534\n",
      "$ tn_diff_2_5                           <f64> None, None, None, None, None, None, None, None, None, None\n",
      "$ tn_diff_2_6                           <f64> None, None, None, None, None, None, None, None, None, None\n",
      "$ tn_diff_2_7                           <f64> None, None, None, None, None, None, None, None, None, None\n",
      "$ tn_diff_2_8                           <f64> None, None, None, None, None, None, None, None, None, None\n",
      "$ tn_diff_2_9                           <f64> None, None, None, None, None, None, None, None, None, None\n",
      "$ tn_diff_2_10                          <f64> None, None, None, None, None, None, None, None, None, None\n",
      "$ tn_diff_2_11                          <f64> None, None, None, None, None, None, None, None, None, None\n",
      "$ tn_diff_2_12                          <f64> None, None, None, None, None, None, None, None, None, None\n",
      "$ tn_diff_2_15                          <f64> None, None, None, None, None, None, None, None, None, None\n",
      "$ tn_diff_2_18                          <f64> None, None, None, None, None, None, None, None, None, None\n",
      "$ tn_diff_2_21                          <f64> None, None, None, None, None, None, None, None, None, None\n",
      "$ tn_diff_2_24                          <f64> None, None, None, None, None, None, None, None, None, None\n",
      "$ tn_diff_2_30                          <f64> None, None, None, None, None, None, None, None, None, None\n",
      "$ tn_diff_2_36                          <f64> None, None, None, None, None, None, None, None, None, None\n",
      "$ ratio_1                               <f64> None, 1.2927584121543998, 4.725552028519015, -0.943972015369655, 0.5379722627585453, 0.3589999273608881, -0.5558894527198088, -0.7702844420991266, 1.8498028625178247, 0.5949178042312446\n",
      "$ ratio_2                               <f64> None, None, -0.09068669626783063, 8.242368885244618, 0.10183100847804788, 0.703840186866943, 0.00267474778817452, -1.7543668917760022, 2.5043927863666084, 1.3442400095192941\n",
      "$ ratio_3                               <f64> None, None, None, -1.1202644150806456, 4.346175308317487, 0.42427361119223084, 0.5392080704268072, -0.7655493777031822, 3.34066886905557, 1.6094027332000618\n",
      "$ ratio_4                               <f64> None, None, None, None, 0.020379029946712868, 3.144898615694712, 0.10423338400152816, 0.18426721603174023, 2.5003689150887283, 1.9481632850445996\n",
      "$ ratio_5                               <f64> None, None, None, None, None, 0.3720628870370457, 4.337225133312721, -0.5857617040538774, 1.6932120548658616, 1.6077727345873274\n",
      "$ ratio_6                               <f64> None, None, None, None, None, None, 0.022999268969612276, 6.907837733285694, 2.3475848353761286, 1.2808078613184342\n",
      "$ ratio_7                               <f64> None, None, None, None, None, None, None, -0.7295691940625688, -4.020497417036999, 1.545882624098839\n",
      "$ ratio_8                               <f64> None, None, None, None, None, None, None, None, 2.469792852037018, -1.0337141175447124\n",
      "$ ratio_9                               <f64> None, None, None, None, None, None, None, None, None, 1.5953869158283764\n",
      "$ ratio_10                              <f64> None, None, None, None, None, None, None, None, None, None\n",
      "$ ratio_11                              <f64> None, None, None, None, None, None, None, None, None, None\n",
      "$ ratio_12                              <f64> None, None, None, None, None, None, None, None, None, None\n",
      "$ ratio_15                              <f64> None, None, None, None, None, None, None, None, None, None\n",
      "$ ratio_18                              <f64> None, None, None, None, None, None, None, None, None, None\n",
      "$ ratio_21                              <f64> None, None, None, None, None, None, None, None, None, None\n",
      "$ ratio_24                              <f64> None, None, None, None, None, None, None, None, None, None\n",
      "$ ratio_30                              <f64> None, None, None, None, None, None, None, None, None, None\n",
      "$ ratio_36                              <f64> None, None, None, None, None, None, None, None, None, None\n",
      "$ avg_1                                 <f64> -0.72518844960771, 0.21230501901986423, -0.7909533942742234, -1.5375912639307314, -0.7104098124761442, -0.4553727414007463, -0.7085096454015262, -1.2542636023314908, 1.0658767996132195, 0.4317677144062966\n",
      "$ avg_2                                 <f64> None, -0.2564417152939229, -0.2893241876271796, -1.1642723291024775, -1.124000538203438, -0.5828912769384453, -0.5819411934011363, -0.9813866238665085, -0.09419340135913568, 0.748822257009758\n",
      "$ avg_3                                 <f64> None, None, -0.4346122749540231, -0.7054132130616969, -1.0129848235603662, -0.9011246059358738, -0.6247640664261388, -0.8060486630445878, -0.29896548270659923, 0.08112697056267504\n",
      "$ avg_4                                 <f64> None, None, None, -0.7103570221982002, -0.7066623629153088, -0.8735818030204614, -0.8529708658022871, -0.7821389504024769, -0.33806729738013597, -0.11628218342837526\n",
      "$ avg_5                                 <f64> None, None, None, None, -0.710367580253789, -0.6564044386123962, -0.8405673714966742, -0.9332294131081277, -0.41253580039933746, -0.18410029502284933\n",
      "$ avg_6                                 <f64> None, None, None, None, None, -0.6678684404449485, -0.665088639743918, -0.909516743302477, -0.6000450443212366, -0.27181854793173194\n",
      "$ avg_7                                 <f64> None, None, None, None, None, None, -0.6736743268673168, -0.7492564915421427, -0.627317665743092, -0.4526432216458748\n",
      "$ avg_8                                 <f64> None, None, None, None, None, None, None, -0.7462479863003386, -0.5223648301477224, -0.4949319932244184\n",
      "$ avg_9                                 <f64> None, None, None, None, None, None, None, None, -0.5449007878654988, -0.4163501029750536\n",
      "$ avg_10                                <f64> None, None, None, None, None, None, None, None, None, -0.4472339376383193\n",
      "$ avg_11                                <f64> None, None, None, None, None, None, None, None, None, None\n",
      "$ avg_12                                <f64> None, None, None, None, None, None, None, None, None, None\n",
      "$ avg_15                                <f64> None, None, None, None, None, None, None, None, None, None\n",
      "$ avg_18                                <f64> None, None, None, None, None, None, None, None, None, None\n",
      "$ avg_21                                <f64> None, None, None, None, None, None, None, None, None, None\n",
      "$ avg_24                                <f64> None, None, None, None, None, None, None, None, None, None\n",
      "$ avg_30                                <f64> None, None, None, None, None, None, None, None, None, None\n",
      "$ avg_36                                <f64> None, None, None, None, None, None, None, None, None, None\n",
      "$ max_1                                <bool> True, True, True, True, True, True, True, True, True, True\n",
      "$ max_2                                <bool> None, False, True, True, False, False, True, True, False, True\n",
      "$ max_3                                <bool> None, None, True, True, False, False, False, True, False, False\n",
      "$ max_4                                <bool> None, None, None, True, False, False, False, True, False, False\n",
      "$ max_5                                <bool> None, None, None, None, False, False, False, False, False, False\n",
      "$ max_6                                <bool> None, None, None, None, None, False, False, False, False, False\n",
      "$ max_7                                <bool> None, None, None, None, None, None, False, False, False, False\n",
      "$ max_8                                <bool> None, None, None, None, None, None, None, False, False, False\n",
      "$ max_9                                <bool> None, None, None, None, None, None, None, None, False, False\n",
      "$ max_10                               <bool> None, None, None, None, None, None, None, None, None, False\n",
      "$ max_11                               <bool> None, None, None, None, None, None, None, None, None, None\n",
      "$ max_12                               <bool> None, None, None, None, None, None, None, None, None, None\n",
      "$ max_15                               <bool> None, None, None, None, None, None, None, None, None, None\n",
      "$ max_18                               <bool> None, None, None, None, None, None, None, None, None, None\n",
      "$ max_21                               <bool> None, None, None, None, None, None, None, None, None, None\n",
      "$ max_24                               <bool> None, None, None, None, None, None, None, None, None, None\n",
      "$ max_30                               <bool> None, None, None, None, None, None, None, None, None, None\n",
      "$ max_36                               <bool> None, None, None, None, None, None, None, None, None, None\n",
      "$ crece_2                              <bool> None, None, True, False, False, True, True, False, False, True\n",
      "$ crece_3                              <bool> None, None, None, True, False, False, True, True, False, False\n",
      "$ crece_4                              <bool> None, None, None, None, True, False, False, True, True, False\n",
      "$ crece_5                              <bool> None, None, None, None, None, True, False, False, True, True\n",
      "$ crece_6                              <bool> None, None, None, None, None, None, True, False, False, True\n",
      "$ crece_7                              <bool> None, None, None, None, None, None, None, True, False, False\n",
      "$ crece_8                              <bool> None, None, None, None, None, None, None, None, True, False\n",
      "$ crece_9                              <bool> None, None, None, None, None, None, None, None, None, True\n",
      "$ crece_10                             <bool> None, None, None, None, None, None, None, None, None, None\n",
      "$ crece_11                             <bool> None, None, None, None, None, None, None, None, None, None\n",
      "$ crece_12                             <bool> None, None, None, None, None, None, None, None, None, None\n",
      "$ decrece_2                            <bool> None, None, True, False, False, True, True, False, False, True\n",
      "$ decrece_3                            <bool> None, None, None, True, False, False, True, True, False, False\n",
      "$ decrece_4                            <bool> None, None, None, None, True, False, False, True, True, False\n",
      "$ decrece_5                            <bool> None, None, None, None, None, True, False, False, True, True\n",
      "$ decrece_6                            <bool> None, None, None, None, None, None, True, False, False, True\n",
      "$ decrece_7                            <bool> None, None, None, None, None, None, None, True, False, False\n",
      "$ decrece_8                            <bool> None, None, None, None, None, None, None, None, True, False\n",
      "$ decrece_9                            <bool> None, None, None, None, None, None, None, None, None, True\n",
      "$ decrece_10                           <bool> None, None, None, None, None, None, None, None, None, None\n",
      "$ decrece_11                           <bool> None, None, None, None, None, None, None, None, None, None\n",
      "$ decrece_12                           <bool> None, None, None, None, None, None, None, None, None, None\n",
      "$ cat1                                  <cat> HC, HC, HC, HC, HC, HC, HC, HC, HC, HC\n",
      "$ cat2                                  <cat> ROPA LAVADO, ROPA LAVADO, ROPA LAVADO, ROPA LAVADO, ROPA LAVADO, ROPA LAVADO, ROPA LAVADO, ROPA LAVADO, ROPA LAVADO, ROPA LAVADO\n",
      "$ cat3                                  <cat> Liquido, Liquido, Liquido, Liquido, Liquido, Liquido, Liquido, Liquido, Liquido, Liquido\n",
      "$ brand                                 <cat> ARIEL, ARIEL, ARIEL, ARIEL, ARIEL, ARIEL, ARIEL, ARIEL, ARIEL, ARIEL\n",
      "$ sku_size                              <i64> 3000, 3000, 3000, 3000, 3000, 3000, 3000, 3000, 3000, 3000\n",
      "$ descripcion                           <cat> genoma, genoma, genoma, genoma, genoma, genoma, genoma, genoma, genoma, genoma\n",
      "$ cat1_total                            <f64> 50340.39558, 50340.39558, 50340.39558, 50340.39558, 50340.39558, 50340.39558, 50340.39558, 50340.39558, 50340.39558, 50340.39558\n",
      "$ cat1_median                           <f64> 0.3134, 0.3134, 0.3134, 0.3134, 0.3134, 0.3134, 0.3134, 0.3134, 0.3134, 0.3134\n",
      "$ cat1_max                              <f64> 469.45761, 469.45761, 469.45761, 469.45761, 469.45761, 469.45761, 469.45761, 469.45761, 469.45761, 469.45761\n",
      "$ cat2_total                            <f64> 50340.39558, 50340.39558, 50340.39558, 50340.39558, 50340.39558, 50340.39558, 50340.39558, 50340.39558, 50340.39558, 50340.39558\n",
      "$ cat2_median                           <f64> 0.3134, 0.3134, 0.3134, 0.3134, 0.3134, 0.3134, 0.3134, 0.3134, 0.3134, 0.3134\n",
      "$ cat2_max                              <f64> 469.45761, 469.45761, 469.45761, 469.45761, 469.45761, 469.45761, 469.45761, 469.45761, 469.45761, 469.45761\n",
      "$ brand_total                           <f64> 50340.39558, 50340.39558, 50340.39558, 50340.39558, 50340.39558, 50340.39558, 50340.39558, 50340.39558, 50340.39558, 50340.39558\n",
      "$ brand_median                          <f64> 0.3134, 0.3134, 0.3134, 0.3134, 0.3134, 0.3134, 0.3134, 0.3134, 0.3134, 0.3134\n",
      "$ brand_max                             <f64> 469.45761, 469.45761, 469.45761, 469.45761, 469.45761, 469.45761, 469.45761, 469.45761, 469.45761, 469.45761\n",
      "$ descripcion_total                     <f64> 50340.39558, 50340.39558, 50340.39558, 50340.39558, 50340.39558, 50340.39558, 50340.39558, 50340.39558, 50340.39558, 50340.39558\n",
      "$ descripcion_median                    <f64> 0.3134, 0.3134, 0.3134, 0.3134, 0.3134, 0.3134, 0.3134, 0.3134, 0.3134, 0.3134\n",
      "$ descripcion_max                       <f64> 469.45761, 469.45761, 469.45761, 469.45761, 469.45761, 469.45761, 469.45761, 469.45761, 469.45761, 469.45761\n",
      "$ prop_product_periodo                  <f64> 0.10637736966552128, 0.2491724478776245, 0.07094396978708174, 0.012427813977944811, 0.06723841116049625, 0.08423842871654369, 0.09819508286573399, 0.03419558463961299, 0.21971305673237784, 0.15427193710643797\n",
      "$ prop_product_yearquarter              <f64> 0.03275158893620163, 0.06549212109233978, 0.030454848363968383, 0.0032493986081679575, 0.02468230747484656, 0.031290514528294656, 0.027996321464341806, 0.011988693035889958, 0.08004123756546801, 0.05457855673459905\n",
      "$ prop_product_year                     <f64> 0.006712925359155384, 0.013423584466758108, 0.006242174212981109, 0.0008976759441809345, 0.006818712118406179, 0.0086442894702078, 0.0068323136782164244, 0.002925759783026361, 0.019533524893134535, 0.014994517369074744\n",
      "$ prop_product_periodo_cat1             <f64> 0.10637736966552128, 0.2491724478776245, 0.07094396978708174, 0.012427813977944811, 0.06723841116049625, 0.08423842871654369, 0.09819508286573399, 0.03419558463961299, 0.21971305673237784, 0.15427193710643797\n",
      "$ prop_product_periodo_cat2             <f64> 0.10637736966552128, 0.2491724478776245, 0.07094396978708174, 0.012427813977944811, 0.06723841116049625, 0.08423842871654369, 0.09819508286573399, 0.03419558463961299, 0.21971305673237784, 0.15427193710643797\n",
      "$ prop_product_periodo_brand            <f64> 0.10637736966552128, 0.2491724478776245, 0.07094396978708174, 0.012427813977944811, 0.06723841116049625, 0.08423842871654369, 0.09819508286573399, 0.03419558463961299, 0.21971305673237784, 0.15427193710643797\n",
      "$ prop_product_periodo_descripcion      <f64> 0.10637736966552128, 0.2491724478776245, 0.07094396978708174, 0.012427813977944811, 0.06723841116049625, 0.08423842871654369, 0.09819508286573399, 0.03419558463961299, 0.21971305673237784, 0.15427193710643797\n",
      "$ prop_product_yearquarter_cat1         <f64> 0.03275158893620163, 0.06549212109233978, 0.030454848363968383, 0.0032493986081679575, 0.02468230747484656, 0.031290514528294656, 0.027996321464341806, 0.011988693035889958, 0.08004123756546801, 0.05457855673459905\n",
      "$ prop_product_yearquarter_cat2         <f64> 0.03275158893620163, 0.06549212109233978, 0.030454848363968383, 0.0032493986081679575, 0.02468230747484656, 0.031290514528294656, 0.027996321464341806, 0.011988693035889958, 0.08004123756546801, 0.05457855673459905\n",
      "$ prop_product_yearquarter_brand        <f64> 0.03275158893620163, 0.06549212109233978, 0.030454848363968383, 0.0032493986081679575, 0.02468230747484656, 0.031290514528294656, 0.027996321464341806, 0.011988693035889958, 0.08004123756546801, 0.05457855673459905\n",
      "$ prop_product_yearquarter_descripcion  <f64> 0.03275158893620163, 0.06549212109233978, 0.030454848363968383, 0.0032493986081679575, 0.02468230747484656, 0.031290514528294656, 0.027996321464341806, 0.011988693035889958, 0.08004123756546801, 0.05457855673459905\n",
      "$ prop_product_year_cat1                <f64> 0.006712925359155384, 0.013423584466758108, 0.006242174212981109, 0.0008976759441809345, 0.006818712118406179, 0.0086442894702078, 0.0068323136782164244, 0.002925759783026361, 0.019533524893134535, 0.014994517369074744\n",
      "$ prop_product_year_cat2                <f64> 0.006712925359155384, 0.013423584466758108, 0.006242174212981109, 0.0008976759441809345, 0.006818712118406179, 0.0086442894702078, 0.0068323136782164244, 0.002925759783026361, 0.019533524893134535, 0.014994517369074744\n",
      "$ prop_product_year_brand               <f64> 0.006712925359155384, 0.013423584466758108, 0.006242174212981109, 0.0008976759441809345, 0.006818712118406179, 0.0086442894702078, 0.0068323136782164244, 0.002925759783026361, 0.019533524893134535, 0.014994517369074744\n",
      "$ prop_product_year_descripcion         <f64> 0.006712925359155384, 0.013423584466758108, 0.006242174212981109, 0.0008976759441809345, 0.006818712118406179, 0.0086442894702078, 0.0068323136782164244, 0.002925759783026361, 0.019533524893134535, 0.014994517369074744\n",
      "$ cluster_dtw_30                        <f64> 28.0, 28.0, 28.0, 28.0, 28.0, 28.0, 28.0, 28.0, 28.0, 28.0\n",
      "$ tot_weight                            <f64> 17456.79264, 17456.79264, 17456.79264, 17456.79264, 17456.79264, 17456.79264, 17456.79264, 17456.79264, 17456.79264, 17456.79264\n",
      "$ avg_weight                            <f64> 1454.73272, 1454.73272, 1454.73272, 1454.73272, 1454.73272, 1454.73272, 1454.73272, 1454.73272, 1454.73272, 1454.73272\n",
      "$ med_weight                            <f64> 1487.6725450000004, 1487.6725450000004, 1487.6725450000004, 1487.6725450000004, 1487.6725450000004, 1487.6725450000004, 1487.6725450000004, 1487.6725450000004, 1487.6725450000004, 1487.6725450000004\n",
      "$ tn_futuro                             <f64> -0.06576494466651339, -1.7498962829505957, 0.08054358179807919, 1.0822185225299852, 0.0019001670746180421, -0.7988908609307446, 1.7743864450147457, 1.6860313167377874, -1.6768474588085027, -0.8567387257177187\n",
      "\n"
     ]
    }
   ],
   "source": [
    "df_train.glimpse()"
   ]
  },
  {
   "cell_type": "code",
   "execution_count": 10,
   "metadata": {},
   "outputs": [
    {
     "data": {
      "text/html": [
       "<div><style>\n",
       ".dataframe > thead > tr,\n",
       ".dataframe > tbody > tr {\n",
       "  text-align: right;\n",
       "  white-space: pre-wrap;\n",
       "}\n",
       "</style>\n",
       "<small>shape: (2_031_615,)</small><table border=\"1\" class=\"dataframe\"><thead><tr><th>max_1</th></tr><tr><td>bool</td></tr></thead><tbody><tr><td>true</td></tr><tr><td>true</td></tr><tr><td>true</td></tr><tr><td>true</td></tr><tr><td>true</td></tr><tr><td>&hellip;</td></tr><tr><td>true</td></tr><tr><td>true</td></tr><tr><td>true</td></tr><tr><td>true</td></tr><tr><td>null</td></tr></tbody></table></div>"
      ],
      "text/plain": [
       "shape: (2_031_615,)\n",
       "Series: 'max_1' [bool]\n",
       "[\n",
       "\ttrue\n",
       "\ttrue\n",
       "\ttrue\n",
       "\ttrue\n",
       "\ttrue\n",
       "\t…\n",
       "\ttrue\n",
       "\ttrue\n",
       "\ttrue\n",
       "\ttrue\n",
       "\tnull\n",
       "]"
      ]
     },
     "execution_count": 10,
     "metadata": {},
     "output_type": "execute_result"
    }
   ],
   "source": [
    "df_train['max_1']"
   ]
  },
  {
   "cell_type": "code",
   "execution_count": 21,
   "metadata": {},
   "outputs": [
    {
     "name": "stdout",
     "output_type": "stream",
     "text": [
      "----------------------------------------04_crear_train_test-----------------------------------------\n",
      "----------------------------------------------FINALIZA----------------------------------------------\n",
      "\n",
      "\n",
      "\n"
     ]
    }
   ],
   "source": [
    "print(f\"{fase:-^100}\")\n",
    "print(f\"{'FINALIZA':-^100}\\n\\n\\n\")"
   ]
  }
 ],
 "metadata": {
  "kernelspec": {
   "display_name": "uni",
   "language": "python",
   "name": "python3"
  },
  "language_info": {
   "codemirror_mode": {
    "name": "ipython",
    "version": 3
   },
   "file_extension": ".py",
   "mimetype": "text/x-python",
   "name": "python",
   "nbconvert_exporter": "python",
   "pygments_lexer": "ipython3",
   "version": "3.10.14"
  }
 },
 "nbformat": 4,
 "nbformat_minor": 2
}
