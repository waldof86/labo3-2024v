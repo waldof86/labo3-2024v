{
 "cells": [
  {
   "cell_type": "code",
   "execution_count": 9,
   "metadata": {},
   "outputs": [],
   "source": [
    "import pandas as pd"
   ]
  },
  {
   "cell_type": "code",
   "execution_count": 10,
   "metadata": {},
   "outputs": [],
   "source": [
    "periodo_train_start = 201801\n",
    "periodo_train_end = 201910\n",
    "periodo_test = 201912"
   ]
  },
  {
   "cell_type": "code",
   "execution_count": 11,
   "metadata": {},
   "outputs": [],
   "source": [
    "df = pd.read_parquet(\"sell_in_lag.parquet\")"
   ]
  },
  {
   "cell_type": "code",
   "execution_count": 12,
   "metadata": {},
   "outputs": [],
   "source": [
    "df.drop(columns=['tn','values','total_tn','average_tn','median_tn','std_dev_tn','iqr_tn','max_tn','min_tn'], inplace=True)"
   ]
  },
  {
   "cell_type": "code",
   "execution_count": 13,
   "metadata": {},
   "outputs": [],
   "source": [
    "df['primer_periodo'] = pd.to_datetime(df['primer_periodo']).dt.strftime('%Y%m').astype(int)\n",
    "df['ultimo_periodo'] = pd.to_datetime(df['ultimo_periodo']).dt.strftime('%Y%m').astype(int)\n",
    "df['periodo_dt'] = pd.to_datetime(df['periodo_dt']).dt.strftime('%Y%m').astype(int)\n",
    "df['tn_futuro'] = -df.groupby('product_id')['tn_norm'].diff(-2)"
   ]
  },
  {
   "cell_type": "code",
   "execution_count": 14,
   "metadata": {},
   "outputs": [],
   "source": [
    "df_train = df[(df['periodo']>=periodo_train_start) & (df['periodo']<=periodo_train_end)]\n",
    "df_test  = df[df['periodo']==periodo_test]"
   ]
  },
  {
   "cell_type": "code",
   "execution_count": 15,
   "metadata": {},
   "outputs": [
    {
     "name": "stdout",
     "output_type": "stream",
     "text": [
      "Shape Train: (14511, 111) para los periodos desde 201801 hasta 201910\n",
      "Shape Test: (780, 111) para el periodo 201912\n"
     ]
    }
   ],
   "source": [
    "print(f\"Shape Train: {df_train.shape} para los periodos desde {periodo_train_start} hasta {periodo_train_end}\")\n",
    "print(f\"Shape Test: {df_test.shape} para el periodo {periodo_test}\")"
   ]
  },
  {
   "cell_type": "code",
   "execution_count": 16,
   "metadata": {},
   "outputs": [],
   "source": [
    "df_train.to_parquet('sell_in_train.parquet', index=False)\n",
    "df_test.to_parquet('sell_in_test.parquet', index=False)"
   ]
  },
  {
   "cell_type": "code",
   "execution_count": null,
   "metadata": {},
   "outputs": [],
   "source": []
  }
 ],
 "metadata": {
  "kernelspec": {
   "display_name": "uni",
   "language": "python",
   "name": "python3"
  },
  "language_info": {
   "codemirror_mode": {
    "name": "ipython",
    "version": 3
   },
   "file_extension": ".py",
   "mimetype": "text/x-python",
   "name": "python",
   "nbconvert_exporter": "python",
   "pygments_lexer": "ipython3",
   "version": "3.10.13"
  }
 },
 "nbformat": 4,
 "nbformat_minor": 2
}
