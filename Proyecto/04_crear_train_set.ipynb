{
 "cells": [
  {
   "cell_type": "code",
   "execution_count": 1,
   "metadata": {},
   "outputs": [],
   "source": [
    "#import pandas as pd\n",
    "import polars as pl\n",
    "from datetime import datetime\n",
    "import json\n",
    "\n",
    "import warnings\n",
    "warnings.filterwarnings('ignore')\n",
    "\n",
    "fase = '04_crear_train_test'"
   ]
  },
  {
   "cell_type": "code",
   "execution_count": 2,
   "metadata": {},
   "outputs": [],
   "source": [
    "with open('gen_config.json', 'r') as file:\n",
    "    gen_config =json.load(file)"
   ]
  },
  {
   "cell_type": "code",
   "execution_count": 3,
   "metadata": {},
   "outputs": [
    {
     "name": "stdout",
     "output_type": "stream",
     "text": [
      "----------------------------------------------COMIENZA----------------------------------------------\n",
      "----------------------------------------04_crear_train_test-----------------------------------------\n"
     ]
    }
   ],
   "source": [
    "folder = gen_config['folder']\n",
    "\n",
    "#entradas\n",
    "path_lag = gen_config['path_lag']\n",
    "path_overall_prod_stats = gen_config['path_overall_prod_stats']\n",
    "#salidas\n",
    "path_train = gen_config['path_train']\n",
    "path_test = gen_config['path_test']\n",
    "path_futuro = gen_config['path_futuro']\n",
    "\n",
    "#variables config\n",
    "periodo_train_start = gen_config['var_periodo_train_start']\n",
    "periodo_train_end = gen_config['var_periodo_train_end']\n",
    "periodo_test = gen_config['var_periodo_test']\n",
    "periodo_futuro = gen_config['var_periodo_futuro']\n",
    "\n",
    "print(f\"{'COMIENZA':-^100}\")\n",
    "print(f\"{fase:-^100}\")"
   ]
  },
  {
   "cell_type": "code",
   "execution_count": 4,
   "metadata": {},
   "outputs": [
    {
     "name": "stdout",
     "output_type": "stream",
     "text": [
      "Tamaño datos con features: (8042749, 169)\n"
     ]
    }
   ],
   "source": [
    "overall_prod_stats = pl.read_parquet(f\"{folder}/{path_overall_prod_stats}\")\n",
    "overall_prod_stats = overall_prod_stats[['product_id','tot_weight', 'avg_weight', 'med_weight']]\n",
    "df = pl.read_parquet(f\"{folder}/{path_lag}\")\n",
    "df = df.join(overall_prod_stats, on=['product_id'], how='left')\n",
    "\n",
    "print(f\"Tamaño datos con features: {df.shape}\")"
   ]
  },
  {
   "cell_type": "code",
   "execution_count": 5,
   "metadata": {},
   "outputs": [],
   "source": [
    "df = df.with_columns([\n",
    "    pl.col('primer_periodo').cast(pl.Int32),\n",
    "    pl.col('ultimo_periodo').cast(pl.Int32),\n",
    "    pl.col('periodo_dt').cast(pl.Int32),\n",
    "    (-pl.col(\"tn_norm\").diff(-2).over([\"product_id\", \"customer_id\"])).alias(f'tn_futuro')\n",
    "])\n"
   ]
  },
  {
   "cell_type": "code",
   "execution_count": 6,
   "metadata": {},
   "outputs": [],
   "source": [
    "df_train = df.filter((pl.col('periodo') >= periodo_train_start) & (pl.col('periodo') <= periodo_train_end))\n",
    "df_test = df.filter(pl.col('periodo') == periodo_test)\n",
    "df_futuro = df.filter(pl.col('periodo') == periodo_futuro)"
   ]
  },
  {
   "cell_type": "code",
   "execution_count": 7,
   "metadata": {},
   "outputs": [
    {
     "name": "stdout",
     "output_type": "stream",
     "text": [
      "Shape Train..............: (7254334, 170) para los periodos desde 201701 hasta 201909\n",
      "Shape Test...............: (262805, 170) para el periodo 201910\n",
      "Shape Futuro.............: (262805, 170) para el periodo 201912\n"
     ]
    }
   ],
   "source": [
    "print(f\"{'Shape Train':.<25}: {df_train.shape} para los periodos desde {periodo_train_start} hasta {periodo_train_end}\")\n",
    "print(f\"{'Shape Test':.<25}: {df_test.shape} para el periodo {periodo_test}\")\n",
    "print(f\"{'Shape Futuro':.<25}: {df_futuro.shape} para el periodo {periodo_futuro}\")"
   ]
  },
  {
   "cell_type": "code",
   "execution_count": 8,
   "metadata": {},
   "outputs": [],
   "source": [
    "df_train.write_parquet(f'{folder}/{path_train}')\n",
    "df_test.write_parquet(f'{folder}/{path_test}')\n",
    "df_futuro.write_parquet(f'{folder}/{path_futuro}')"
   ]
  },
  {
   "cell_type": "code",
   "execution_count": 9,
   "metadata": {},
   "outputs": [
    {
     "name": "stdout",
     "output_type": "stream",
     "text": [
      "Rows: 7254334\n",
      "Columns: 170\n",
      "$ product_id                            <i64> 20001, 20001, 20001, 20001, 20001, 20001, 20001, 20001, 20001, 20001\n",
      "$ customer_id                           <i64> 10001, 10001, 10001, 10001, 10001, 10001, 10001, 10001, 10001, 10001\n",
      "$ periodo                               <i64> 201701, 201702, 201703, 201704, 201705, 201706, 201707, 201708, 201709, 201710\n",
      "$ tn                                    <f64> 99.43861, 198.84365, 92.46537, 13.29728, 101.00563, 128.04792, 101.20711, 43.3393, 289.35024, 222.11389\n",
      "$ primer_periodo                        <i32> 17167, 17167, 17167, 17167, 17167, 17167, 17167, 17167, 17167, 17167\n",
      "$ ultimo_periodo                        <i32> 18231, 18231, 18231, 18231, 18231, 18231, 18231, 18231, 18231, 18231\n",
      "$ values                                <u32> 36, 36, 36, 36, 36, 36, 36, 36, 36, 36\n",
      "$ total_tn                              <f64> 6347.964900000001, 6347.964900000001, 6347.964900000001, 6347.964900000001, 6347.964900000001, 6347.964900000001, 6347.964900000001, 6347.964900000001, 6347.964900000001, 6347.964900000001\n",
      "$ min_tn                                <f64> 13.29728, 13.29728, 13.29728, 13.29728, 13.29728, 13.29728, 13.29728, 13.29728, 13.29728, 13.29728\n",
      "$ average_tn                            <f64> 176.33235833333336, 176.33235833333336, 176.33235833333336, 176.33235833333336, 176.33235833333336, 176.33235833333336, 176.33235833333336, 176.33235833333336, 176.33235833333336, 176.33235833333336\n",
      "$ median_tn                             <f64> 142.01461999999998, 142.01461999999998, 142.01461999999998, 142.01461999999998, 142.01461999999998, 142.01461999999998, 142.01461999999998, 142.01461999999998, 142.01461999999998, 142.01461999999998\n",
      "$ std_dev_tn                            <f64> 106.0327813755568, 106.0327813755568, 106.0327813755568, 106.0327813755568, 106.0327813755568, 106.0327813755568, 106.0327813755568, 106.0327813755568, 106.0327813755568, 106.0327813755568\n",
      "$ iqr_tn                                <f64> 140.01875, 140.01875, 140.01875, 140.01875, 140.01875, 140.01875, 140.01875, 140.01875, 140.01875, 140.01875\n",
      "$ max_tn                                <f64> 439.90647, 439.90647, 439.90647, 439.90647, 439.90647, 439.90647, 439.90647, 439.90647, 439.90647, 439.90647\n",
      "$ periodo_dt                            <i32> 17167, 17198, 17226, 17257, 17287, 17318, 17348, 17379, 17410, 17440\n",
      "$ mes_indice                            <i32> 0, 1, 2, 3, 4, 5, 6, 7, 8, 9\n",
      "$ tn_trans                              <f64> -0.6531348310352966, 0.3729127826347732, -0.7434275737552394, -2.3158574833735153, -0.6333280182509298, -0.31509644819199917, -0.6307936518011241, -1.5272759588612068, 1.0762685297895827, 0.568312950475184\n",
      "$ tn_norm                               <f64> -0.6531348310352966, 0.3729127826347732, -0.7434275737552394, -2.3158574833735153, -0.6333280182509298, -0.31509644819199917, -0.6307936518011241, -1.5272759588612068, 1.0762685297895827, 0.568312950475184\n",
      "$ tn_standard                           <f64> -0.7251884496077106, 0.2123050190198637, -0.790953394274224, -1.537591263930732, -0.7104098124761449, -0.4553727414007469, -0.7085096454015268, -1.2542636023314915, 1.0658767996132192, 0.4317677144062961\n",
      "$ mes                                    <i8> 1, 2, 3, 4, 5, 6, 7, 8, 9, 10\n",
      "$ year                                  <i32> 2017, 2017, 2017, 2017, 2017, 2017, 2017, 2017, 2017, 2017\n",
      "$ quarter                                <i8> 1, 1, 1, 2, 2, 2, 3, 3, 3, 4\n",
      "$ month_in_quarter                       <i8> 1, 2, 3, 1, 2, 3, 1, 2, 3, 1\n",
      "$ yearquarter                           <cat> 2017-Q1, 2017-Q1, 2017-Q1, 2017-Q2, 2017-Q2, 2017-Q2, 2017-Q3, 2017-Q3, 2017-Q3, 2017-Q4\n",
      "$ primer_periodo_overall               <date> 2017-01-01, 2017-01-01, 2017-01-01, 2017-01-01, 2017-01-01, 2017-01-01, 2017-01-01, 2017-01-01, 2017-01-01, 2017-01-01\n",
      "$ ultimo_periodo_overall               <date> 2019-12-01, 2019-12-01, 2019-12-01, 2019-12-01, 2019-12-01, 2019-12-01, 2019-12-01, 2019-12-01, 2019-12-01, 2019-12-01\n",
      "$ edad_dias                             <i64> 0, 31, 59, 90, 120, 151, 181, 212, 243, 273\n",
      "$ edad                                  <cat> Adulto, Adulto, Adulto, Adulto, Adulto, Adulto, Adulto, Adulto, Adulto, Adulto\n",
      "$ tn_cero                              <bool> False, False, False, True, False, False, False, False, False, False\n",
      "$ tn_lag_1                              <f64> None, -0.6531348310352966, 0.3729127826347732, -0.7434275737552394, -2.3158574833735153, -0.6333280182509298, -0.31509644819199917, -0.6307936518011241, -1.5272759588612068, 1.0762685297895827\n",
      "$ tn_lag_2                              <f64> None, None, -0.6531348310352966, 0.3729127826347732, -0.7434275737552394, -2.3158574833735153, -0.6333280182509298, -0.31509644819199917, -0.6307936518011241, -1.5272759588612068\n",
      "$ tn_lag_3                              <f64> None, None, None, -0.6531348310352966, 0.3729127826347732, -0.7434275737552394, -2.3158574833735153, -0.6333280182509298, -0.31509644819199917, -0.6307936518011241\n",
      "$ tn_lag_4                              <f64> None, None, None, None, -0.6531348310352966, 0.3729127826347732, -0.7434275737552394, -2.3158574833735153, -0.6333280182509298, -0.31509644819199917\n",
      "$ tn_lag_5                              <f64> None, None, None, None, None, -0.6531348310352966, 0.3729127826347732, -0.7434275737552394, -2.3158574833735153, -0.6333280182509298\n",
      "$ tn_lag_6                              <f64> None, None, None, None, None, None, -0.6531348310352966, 0.3729127826347732, -0.7434275737552394, -2.3158574833735153\n",
      "$ tn_lag_7                              <f64> None, None, None, None, None, None, None, -0.6531348310352966, 0.3729127826347732, -0.7434275737552394\n",
      "$ tn_lag_8                              <f64> None, None, None, None, None, None, None, None, -0.6531348310352966, 0.3729127826347732\n",
      "$ tn_lag_9                              <f64> None, None, None, None, None, None, None, None, None, -0.6531348310352966\n",
      "$ tn_lag_10                             <f64> None, None, None, None, None, None, None, None, None, None\n",
      "$ tn_lag_11                             <f64> None, None, None, None, None, None, None, None, None, None\n",
      "$ tn_lag_12                             <f64> None, None, None, None, None, None, None, None, None, None\n",
      "$ tn_lag_13                             <f64> None, None, None, None, None, None, None, None, None, None\n",
      "$ tn_lag_15                             <f64> None, None, None, None, None, None, None, None, None, None\n",
      "$ tn_lag_18                             <f64> None, None, None, None, None, None, None, None, None, None\n",
      "$ tn_diff_1                             <f64> None, 1.0260476136700698, -1.1163403563900125, -1.572429909618276, 1.6825294651225855, 0.3182315700589306, -0.31569720360912495, -0.8964823070600827, 2.6035444886507895, -0.5079555793143986\n",
      "$ tn_diff_2                             <f64> None, None, -0.09029274271994281, -2.6887702660082886, 0.11009955550430961, 2.000761035181516, 0.0025343664498056473, -1.2121795106692077, 1.7070621815907068, 2.095588909336391\n",
      "$ tn_diff_3                             <f64> None, None, None, -1.6627226523382186, -1.006240800885703, 0.4283311255632402, 1.6850638315723911, -0.893947940610277, 1.3913649779815818, 1.1991066022763082\n",
      "$ tn_diff_4                             <f64> None, None, None, None, 0.0198068127843668, -0.6880092308267723, 0.11263392195411526, 0.7885815245123085, 1.7095965480405124, 0.8834093986671832\n",
      "$ tn_diff_5                             <f64> None, None, None, None, None, 0.3380383828432974, -1.0037064344358972, -0.7838483851059674, 3.392126013163098, 1.2016409687261138\n",
      "$ tn_diff_6                             <f64> None, None, None, None, None, None, 0.022341179234172448, -1.90018874149598, 1.819696103544822, 2.8841704338486993\n",
      "$ tn_diff_7                             <f64> None, None, None, None, None, None, None, -0.8741411278259102, 0.7033557471548095, 1.3117405242304234\n",
      "$ tn_diff_8                             <f64> None, None, None, None, None, None, None, None, 1.7294033608248793, 0.19540016784041087\n",
      "$ tn_diff_9                             <f64> None, None, None, None, None, None, None, None, None, 1.2214477815104807\n",
      "$ tn_diff_10                            <f64> None, None, None, None, None, None, None, None, None, None\n",
      "$ tn_diff_11                            <f64> None, None, None, None, None, None, None, None, None, None\n",
      "$ tn_diff_12                            <f64> None, None, None, None, None, None, None, None, None, None\n",
      "$ tn_diff_13                            <f64> None, None, None, None, None, None, None, None, None, None\n",
      "$ tn_diff_15                            <f64> None, None, None, None, None, None, None, None, None, None\n",
      "$ tn_diff_18                            <f64> None, None, None, None, None, None, None, None, None, None\n",
      "$ tn_diff_2_1                           <f64> None, None, -2.1423879700600823, -0.4560895532282634, 3.2549593747408614, -1.3642978950636548, -0.6339287736680556, -0.5807851034509577, 3.5000267957108724, -3.111500067965188\n",
      "$ tn_diff_2_2                           <f64> None, None, None, None, 0.20039229822425242, 4.689531301189804, -0.10756518905450396, -3.212940545850724, 1.7045278151409011, 3.3077684200055986\n",
      "$ tn_diff_2_3                           <f64> None, None, None, None, None, None, 3.3477864839106095, 0.11229286027542584, 0.9630338524183415, -0.485957229296083\n",
      "$ ratio_1                               <f64> None, 1.570958345681338, 2.9935695647186877, -2.11510840481143, 0.7265254780150119, 0.5024751169824997, -1.0019065762898087, -1.4211974145591506, 1.7046981415147058, 0.47195989221547446\n",
      "$ ratio_2                               <f64> None, None, -0.13824518067244715, 7.210185306631448, 0.14809721806277523, 0.8639396204411519, 0.0040016648194482855, -3.847011026701846, 2.706213318280044, 1.37210888260098\n",
      "$ ratio_3                               <f64> None, None, None, -2.545757129048844, 2.6983274581692323, 0.5761571680743991, 0.7276198313886546, -1.4115085940443701, 4.415679662418077, 1.9009490644879874\n",
      "$ ratio_4                               <f64> None, None, None, None, 0.030325764058503266, 1.844960169951056, 0.15150624745484356, 0.340513839981025, 2.6993856244698087, 2.803615857100653\n",
      "$ ratio_5                               <f64> None, None, None, None, None, 0.5175629391981228, 2.6915313209279734, -1.0543708799319245, 1.4647386713200414, 1.897343768312511\n",
      "$ ratio_6                               <f64> None, None, None, None, None, None, 0.03420607533479575, 5.095531260876634, 2.447711341069958, 1.245400658095472\n",
      "$ ratio_7                               <f64> None, None, None, None, None, None, None, -1.3383777533963277, -1.8861132680551438, 1.7644496525794606\n",
      "$ ratio_8                               <f64> None, None, None, None, None, None, None, None, 2.647850456977725, -0.5239835611421872\n",
      "$ ratio_9                               <f64> None, None, None, None, None, None, None, None, None, 1.8701311329152976\n",
      "$ ratio_10                              <f64> None, None, None, None, None, None, None, None, None, None\n",
      "$ ratio_11                              <f64> None, None, None, None, None, None, None, None, None, None\n",
      "$ ratio_12                              <f64> None, None, None, None, None, None, None, None, None, None\n",
      "$ ratio_13                              <f64> None, None, None, None, None, None, None, None, None, None\n",
      "$ ratio_15                              <f64> None, None, None, None, None, None, None, None, None, None\n",
      "$ ratio_18                              <f64> None, None, None, None, None, None, None, None, None, None\n",
      "$ avg_1                                 <f64> -0.6531348310352966, 0.3729127826347732, -0.7434275737552394, -2.3158574833735153, -0.6333280182509298, -0.31509644819199917, -0.6307936518011241, -1.5272759588612068, 1.0762685297895827, 0.568312950475184\n",
      "$ avg_2                                 <f64> None, -0.1401110242002617, -0.1852573955602331, -1.5296425285643773, -1.4745927508122225, -0.47421223322146444, -0.4729450499965616, -1.0790348053311654, -0.22550371453581197, 0.8222907401323835\n",
      "$ avg_3                                 <f64> None, None, -0.3412165407185876, -0.8954574248313271, -1.2308710251265615, -1.0880939832721481, -0.5264060394146843, -0.8243886862847768, -0.3606003602909162, 0.03910184046785322\n",
      "$ avg_4                                 <f64> None, None, None, -0.8348767763823195, -0.8299250731862278, -1.001927380892921, -0.9737689004043921, -0.776623519276315, -0.3492243822661869, -0.12837203259939112\n",
      "$ avg_5                                 <f64> None, None, None, None, -0.7945670247560416, -0.7269593481873821, -0.9277006350745614, -1.0844703120957548, -0.4060451094631353, -0.16571691571791253\n",
      "$ avg_6                                 <f64> None, None, None, None, None, -0.7146552619953678, -0.7109317321230058, -1.0276298557056691, -0.7243471717815321, -0.24365209947341557\n",
      "$ avg_7                                 <f64> None, None, None, None, None, None, -0.7026750319676187, -0.8275523359427488, -0.7270729434920618, -0.5396814400305726\n",
      "$ avg_8                                 <f64> None, None, None, None, None, None, None, -0.8057501478293172, -0.5895747277262073, -0.5651497067461559\n",
      "$ avg_9                                 <f64> None, None, None, None, None, None, None, None, -0.5966369614272172, -0.46092054125938614\n",
      "$ avg_10                                <f64> None, None, None, None, None, None, None, None, None, -0.480141970236977\n",
      "$ avg_11                                <f64> None, None, None, None, None, None, None, None, None, None\n",
      "$ avg_12                                <f64> None, None, None, None, None, None, None, None, None, None\n",
      "$ avg_13                                <f64> None, None, None, None, None, None, None, None, None, None\n",
      "$ avg_15                                <f64> None, None, None, None, None, None, None, None, None, None\n",
      "$ avg_18                                <f64> None, None, None, None, None, None, None, None, None, None\n",
      "$ max_1                                <bool> True, True, True, True, True, True, True, True, True, True\n",
      "$ max_2                                <bool> None, False, True, True, False, False, True, True, False, True\n",
      "$ max_3                                <bool> None, None, True, True, False, False, False, True, False, False\n",
      "$ max_4                                <bool> None, None, None, True, False, False, False, True, False, False\n",
      "$ max_5                                <bool> None, None, None, None, False, False, False, False, False, False\n",
      "$ max_6                                <bool> None, None, None, None, None, False, False, False, False, False\n",
      "$ max_7                                <bool> None, None, None, None, None, None, False, False, False, False\n",
      "$ max_8                                <bool> None, None, None, None, None, None, None, False, False, False\n",
      "$ max_9                                <bool> None, None, None, None, None, None, None, None, False, False\n",
      "$ max_10                               <bool> None, None, None, None, None, None, None, None, None, False\n",
      "$ max_11                               <bool> None, None, None, None, None, None, None, None, None, None\n",
      "$ max_12                               <bool> None, None, None, None, None, None, None, None, None, None\n",
      "$ max_13                               <bool> None, None, None, None, None, None, None, None, None, None\n",
      "$ max_15                               <bool> None, None, None, None, None, None, None, None, None, None\n",
      "$ max_18                               <bool> None, None, None, None, None, None, None, None, None, None\n",
      "$ crece_2                              <bool> None, None, True, False, False, True, True, False, False, True\n",
      "$ crece_3                              <bool> None, None, None, True, False, False, True, True, False, False\n",
      "$ crece_4                              <bool> None, None, None, None, True, False, False, True, True, False\n",
      "$ crece_5                              <bool> None, None, None, None, None, True, False, False, True, True\n",
      "$ crece_6                              <bool> None, None, None, None, None, None, True, False, False, True\n",
      "$ crece_7                              <bool> None, None, None, None, None, None, None, True, False, False\n",
      "$ crece_8                              <bool> None, None, None, None, None, None, None, None, True, False\n",
      "$ crece_9                              <bool> None, None, None, None, None, None, None, None, None, True\n",
      "$ crece_10                             <bool> None, None, None, None, None, None, None, None, None, None\n",
      "$ crece_11                             <bool> None, None, None, None, None, None, None, None, None, None\n",
      "$ crece_12                             <bool> None, None, None, None, None, None, None, None, None, None\n",
      "$ decrece_2                            <bool> None, None, True, False, False, True, True, False, False, True\n",
      "$ decrece_3                            <bool> None, None, None, True, False, False, True, True, False, False\n",
      "$ decrece_4                            <bool> None, None, None, None, True, False, False, True, True, False\n",
      "$ decrece_5                            <bool> None, None, None, None, None, True, False, False, True, True\n",
      "$ decrece_6                            <bool> None, None, None, None, None, None, True, False, False, True\n",
      "$ decrece_7                            <bool> None, None, None, None, None, None, None, True, False, False\n",
      "$ decrece_8                            <bool> None, None, None, None, None, None, None, None, True, False\n",
      "$ decrece_9                            <bool> None, None, None, None, None, None, None, None, None, True\n",
      "$ decrece_10                           <bool> None, None, None, None, None, None, None, None, None, None\n",
      "$ decrece_11                           <bool> None, None, None, None, None, None, None, None, None, None\n",
      "$ decrece_12                           <bool> None, None, None, None, None, None, None, None, None, None\n",
      "$ cat1                                  <cat> HC, HC, HC, HC, HC, HC, HC, HC, HC, HC\n",
      "$ cat2                                  <cat> ROPA LAVADO, ROPA LAVADO, ROPA LAVADO, ROPA LAVADO, ROPA LAVADO, ROPA LAVADO, ROPA LAVADO, ROPA LAVADO, ROPA LAVADO, ROPA LAVADO\n",
      "$ cat3                                  <cat> Liquido, Liquido, Liquido, Liquido, Liquido, Liquido, Liquido, Liquido, Liquido, Liquido\n",
      "$ brand                                 <cat> ARIEL, ARIEL, ARIEL, ARIEL, ARIEL, ARIEL, ARIEL, ARIEL, ARIEL, ARIEL\n",
      "$ sku_size                              <i64> 3000, 3000, 3000, 3000, 3000, 3000, 3000, 3000, 3000, 3000\n",
      "$ descripcion                           <cat> genoma, genoma, genoma, genoma, genoma, genoma, genoma, genoma, genoma, genoma\n",
      "$ max_skusize                           <i64> 3000, 3000, 3000, 3000, 3000, 3000, 3000, 3000, 3000, 3000\n",
      "$ min_skusize                           <i64> 400, 400, 400, 400, 400, 400, 400, 400, 400, 400\n",
      "$ presentacion                          <cat> Grande, Grande, Grande, Grande, Grande, Grande, Grande, Grande, Grande, Grande\n",
      "$ cat1_total                            <f64> 50340.3955799982, 50340.3955799982, 50340.3955799982, 50340.3955799982, 50340.3955799982, 50340.3955799982, 50340.3955799982, 50340.3955799982, 50340.3955799982, 50340.3955799982\n",
      "$ cat1_median                           <f64> 0.0, 0.0, 0.0, 0.0, 0.0, 0.0, 0.0, 0.0, 0.0, 0.0\n",
      "$ cat1_max                              <f64> 469.45761, 469.45761, 469.45761, 469.45761, 469.45761, 469.45761, 469.45761, 469.45761, 469.45761, 469.45761\n",
      "$ cat2_total                            <f64> 50340.3955799982, 50340.3955799982, 50340.3955799982, 50340.3955799982, 50340.3955799982, 50340.3955799982, 50340.3955799982, 50340.3955799982, 50340.3955799982, 50340.3955799982\n",
      "$ cat2_median                           <f64> 0.0, 0.0, 0.0, 0.0, 0.0, 0.0, 0.0, 0.0, 0.0, 0.0\n",
      "$ cat2_max                              <f64> 469.45761, 469.45761, 469.45761, 469.45761, 469.45761, 469.45761, 469.45761, 469.45761, 469.45761, 469.45761\n",
      "$ brand_total                           <f64> 50340.3955799982, 50340.3955799982, 50340.3955799982, 50340.3955799982, 50340.3955799982, 50340.3955799982, 50340.3955799982, 50340.3955799982, 50340.3955799982, 50340.3955799982\n",
      "$ brand_median                          <f64> 0.0, 0.0, 0.0, 0.0, 0.0, 0.0, 0.0, 0.0, 0.0, 0.0\n",
      "$ brand_max                             <f64> 469.45761, 469.45761, 469.45761, 469.45761, 469.45761, 469.45761, 469.45761, 469.45761, 469.45761, 469.45761\n",
      "$ descripcion_total                     <f64> 50340.3955799982, 50340.3955799982, 50340.3955799982, 50340.3955799982, 50340.3955799982, 50340.3955799982, 50340.3955799982, 50340.3955799982, 50340.3955799982, 50340.3955799982\n",
      "$ descripcion_median                    <f64> 0.0, 0.0, 0.0, 0.0, 0.0, 0.0, 0.0, 0.0, 0.0, 0.0\n",
      "$ descripcion_max                       <f64> 469.45761, 469.45761, 469.45761, 469.45761, 469.45761, 469.45761, 469.45761, 469.45761, 469.45761, 469.45761\n",
      "$ prop_product_periodo                  <f64> 0.10637736966552128, 0.2491724478776245, 0.07094396978708174, 0.012427813977944811, 0.06723841116049625, 0.08423842871654369, 0.09819508286573399, 0.03419558463961299, 0.21971305673237784, 0.15427193710643797\n",
      "$ prop_product_yearquarter              <f64> 0.03275158893620163, 0.06549212109233978, 0.030454848363968383, 0.0032493986081679575, 0.02468230747484656, 0.031290514528294656, 0.027996321464341806, 0.011988693035889958, 0.08004123756546801, 0.05457855673459905\n",
      "$ prop_product_year                     <f64> 0.006712925359155384, 0.013423584466758108, 0.006242174212981109, 0.0008976759441809345, 0.006818712118406179, 0.0086442894702078, 0.0068323136782164244, 0.002925759783026361, 0.019533524893134535, 0.014994517369074744\n",
      "$ prop_product_periodo_cat1             <f64> 0.10637736966552128, 0.2491724478776245, 0.07094396978708174, 0.012427813977944811, 0.06723841116049625, 0.08423842871654369, 0.09819508286573399, 0.03419558463961299, 0.21971305673237784, 0.15427193710643797\n",
      "$ prop_product_periodo_cat2             <f64> 0.10637736966552128, 0.2491724478776245, 0.07094396978708174, 0.012427813977944811, 0.06723841116049625, 0.08423842871654369, 0.09819508286573399, 0.03419558463961299, 0.21971305673237784, 0.15427193710643797\n",
      "$ prop_product_periodo_brand            <f64> 0.10637736966552128, 0.2491724478776245, 0.07094396978708174, 0.012427813977944811, 0.06723841116049625, 0.08423842871654369, 0.09819508286573399, 0.03419558463961299, 0.21971305673237784, 0.15427193710643797\n",
      "$ prop_product_periodo_descripcion      <f64> 0.10637736966552128, 0.2491724478776245, 0.07094396978708174, 0.012427813977944811, 0.06723841116049625, 0.08423842871654369, 0.09819508286573399, 0.03419558463961299, 0.21971305673237784, 0.15427193710643797\n",
      "$ prop_product_yearquarter_cat1         <f64> 0.03275158893620163, 0.06549212109233978, 0.030454848363968383, 0.0032493986081679575, 0.02468230747484656, 0.031290514528294656, 0.027996321464341806, 0.011988693035889958, 0.08004123756546801, 0.05457855673459905\n",
      "$ prop_product_yearquarter_cat2         <f64> 0.03275158893620163, 0.06549212109233978, 0.030454848363968383, 0.0032493986081679575, 0.02468230747484656, 0.031290514528294656, 0.027996321464341806, 0.011988693035889958, 0.08004123756546801, 0.05457855673459905\n",
      "$ prop_product_yearquarter_brand        <f64> 0.03275158893620163, 0.06549212109233978, 0.030454848363968383, 0.0032493986081679575, 0.02468230747484656, 0.031290514528294656, 0.027996321464341806, 0.011988693035889958, 0.08004123756546801, 0.05457855673459905\n",
      "$ prop_product_yearquarter_descripcion  <f64> 0.03275158893620163, 0.06549212109233978, 0.030454848363968383, 0.0032493986081679575, 0.02468230747484656, 0.031290514528294656, 0.027996321464341806, 0.011988693035889958, 0.08004123756546801, 0.05457855673459905\n",
      "$ prop_product_year_cat1                <f64> 0.006712925359155384, 0.013423584466758108, 0.006242174212981109, 0.0008976759441809345, 0.006818712118406179, 0.0086442894702078, 0.0068323136782164244, 0.002925759783026361, 0.019533524893134535, 0.014994517369074744\n",
      "$ prop_product_year_cat2                <f64> 0.006712925359155384, 0.013423584466758108, 0.006242174212981109, 0.0008976759441809345, 0.006818712118406179, 0.0086442894702078, 0.0068323136782164244, 0.002925759783026361, 0.019533524893134535, 0.014994517369074744\n",
      "$ prop_product_year_brand               <f64> 0.006712925359155384, 0.013423584466758108, 0.006242174212981109, 0.0008976759441809345, 0.006818712118406179, 0.0086442894702078, 0.0068323136782164244, 0.002925759783026361, 0.019533524893134535, 0.014994517369074744\n",
      "$ prop_product_year_descripcion         <f64> 0.006712925359155384, 0.013423584466758108, 0.006242174212981109, 0.0008976759441809345, 0.006818712118406179, 0.0086442894702078, 0.0068323136782164244, 0.002925759783026361, 0.019533524893134535, 0.014994517369074744\n",
      "$ cluster_dtw_20                        <i64> 5, 5, 5, 5, 5, 5, 5, 5, 5, 5\n",
      "$ tot_weight                            <f64> 17456.792639999996, 17456.792639999996, 17456.792639999996, 17456.792639999996, 17456.792639999996, 17456.792639999996, 17456.792639999996, 17456.792639999996, 17456.792639999996, 17456.792639999996\n",
      "$ avg_weight                            <f64> 1454.7327199999997, 1454.7327199999997, 1454.7327199999997, 1454.7327199999997, 1454.7327199999997, 1454.7327199999997, 1454.7327199999997, 1454.7327199999997, 1454.7327199999997, 1454.7327199999997\n",
      "$ med_weight                            <f64> 1487.6725450000004, 1487.6725450000004, 1487.6725450000004, 1487.6725450000004, 1487.6725450000004, 1487.6725450000004, 1487.6725450000004, 1487.6725450000004, 1487.6725450000004, 1487.6725450000004\n",
      "$ tn_futuro                             <f64> -0.09029274271994281, -2.6887702660082886, 0.11009955550430961, 2.000761035181516, 0.0025343664498056473, -1.2121795106692077, 1.7070621815907068, 2.095588909336391, -1.5805149572115278, -0.8480518692658037\n",
      "\n"
     ]
    }
   ],
   "source": [
    "df_train.glimpse()"
   ]
  },
  {
   "cell_type": "code",
   "execution_count": 10,
   "metadata": {},
   "outputs": [
    {
     "name": "stdout",
     "output_type": "stream",
     "text": [
      "----------------------------------------04_crear_train_test-----------------------------------------\n",
      "----------------------------------------------FINALIZA----------------------------------------------\n",
      "\n",
      "\n",
      "\n"
     ]
    }
   ],
   "source": [
    "print(f\"{fase:-^100}\")\n",
    "print(f\"{'FINALIZA':-^100}\\n\\n\\n\")"
   ]
  }
 ],
 "metadata": {
  "kernelspec": {
   "display_name": "uni",
   "language": "python",
   "name": "python3"
  },
  "language_info": {
   "codemirror_mode": {
    "name": "ipython",
    "version": 3
   },
   "file_extension": ".py",
   "mimetype": "text/x-python",
   "name": "python",
   "nbconvert_exporter": "python",
   "pygments_lexer": "ipython3",
   "version": "3.10.14"
  }
 },
 "nbformat": 4,
 "nbformat_minor": 2
}
