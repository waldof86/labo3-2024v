{
 "cells": [
  {
   "cell_type": "code",
   "execution_count": 1,
   "metadata": {},
   "outputs": [],
   "source": [
    "#import pandas as pd\n",
    "import polars as pl\n",
    "from datetime import datetime\n",
    "import json\n",
    "\n",
    "import warnings\n",
    "warnings.filterwarnings('ignore')\n",
    "\n",
    "fase = '04_crear_train_test'"
   ]
  },
  {
   "cell_type": "code",
   "execution_count": 2,
   "metadata": {},
   "outputs": [],
   "source": [
    "with open('gen_config.json', 'r') as file:\n",
    "    gen_config =json.load(file)"
   ]
  },
  {
   "cell_type": "code",
   "execution_count": 3,
   "metadata": {},
   "outputs": [
    {
     "name": "stdout",
     "output_type": "stream",
     "text": [
      "----------------------------------------------COMIENZA----------------------------------------------\n",
      "----------------------------------------04_crear_train_test-----------------------------------------\n"
     ]
    }
   ],
   "source": [
    "folder = gen_config['folder']\n",
    "\n",
    "#entradas\n",
    "path_lag = gen_config['path_lag']\n",
    "path_overall_prod_stats = gen_config['path_overall_prod_stats']\n",
    "#salidas\n",
    "path_train = gen_config['path_train']\n",
    "path_test = gen_config['path_test']\n",
    "path_futuro = gen_config['path_futuro']\n",
    "\n",
    "#variables config\n",
    "periodo_train_start = gen_config['var_periodo_train_start']\n",
    "periodo_train_end = gen_config['var_periodo_train_end']\n",
    "periodo_test = gen_config['var_periodo_test']\n",
    "periodo_futuro = gen_config['var_periodo_futuro']\n",
    "\n",
    "print(f\"{'COMIENZA':-^100}\")\n",
    "print(f\"{fase:-^100}\")"
   ]
  },
  {
   "cell_type": "code",
   "execution_count": 4,
   "metadata": {},
   "outputs": [
    {
     "name": "stdout",
     "output_type": "stream",
     "text": [
      "Tamaño datos con features: (5303555, 176)\n"
     ]
    }
   ],
   "source": [
    "overall_prod_stats = pl.read_parquet(f\"{folder}/{path_overall_prod_stats}\")\n",
    "overall_prod_stats = overall_prod_stats[['product_id','tot_weight', 'avg_weight', 'med_weight']]\n",
    "df = pl.read_parquet(f\"{folder}/{path_lag}\")\n",
    "df = df.join(overall_prod_stats, on=['product_id'], how='left')\n",
    "\n",
    "print(f\"Tamaño datos con features: {df.shape}\")"
   ]
  },
  {
   "cell_type": "code",
   "execution_count": 5,
   "metadata": {},
   "outputs": [],
   "source": [
    "df = df.with_columns([\n",
    "    pl.col('primer_periodo').cast(pl.Int32),\n",
    "    pl.col('ultimo_periodo').cast(pl.Int32),\n",
    "    pl.col('periodo_dt').cast(pl.Int32),\n",
    "    (-pl.col(\"tn_norm\").diff(-2).over([\"product_id\", \"customer_id\"])).alias(f'tn_futuro')\n",
    "])\n"
   ]
  },
  {
   "cell_type": "code",
   "execution_count": 6,
   "metadata": {},
   "outputs": [],
   "source": [
    "df_train = df.filter((pl.col('periodo') >= periodo_train_start) & (pl.col('periodo') <= periodo_train_end))\n",
    "df_test = df.filter(pl.col('periodo') == periodo_test)\n",
    "df_futuro = df.filter(pl.col('periodo') == periodo_futuro)"
   ]
  },
  {
   "cell_type": "code",
   "execution_count": 7,
   "metadata": {},
   "outputs": [
    {
     "name": "stdout",
     "output_type": "stream",
     "text": [
      "Shape Train..............: (4767503, 177) para los periodos desde 201701 hasta 201909\n",
      "Shape Test...............: (178684, 177) para el periodo 201910\n",
      "Shape Futuro.............: (178684, 177) para el periodo 201912\n"
     ]
    }
   ],
   "source": [
    "print(f\"{'Shape Train':.<25}: {df_train.shape} para los periodos desde {periodo_train_start} hasta {periodo_train_end}\")\n",
    "print(f\"{'Shape Test':.<25}: {df_test.shape} para el periodo {periodo_test}\")\n",
    "print(f\"{'Shape Futuro':.<25}: {df_futuro.shape} para el periodo {periodo_futuro}\")"
   ]
  },
  {
   "cell_type": "code",
   "execution_count": 8,
   "metadata": {},
   "outputs": [],
   "source": [
    "df_train.write_parquet(f'{folder}/{path_train}')\n",
    "df_test.write_parquet(f'{folder}/{path_test}')\n",
    "df_futuro.write_parquet(f'{folder}/{path_futuro}')"
   ]
  },
  {
   "cell_type": "code",
   "execution_count": 9,
   "metadata": {},
   "outputs": [
    {
     "name": "stdout",
     "output_type": "stream",
     "text": [
      "Rows: 4767503\n",
      "Columns: 177\n",
      "$ product_id                                    <i64> 20001, 20001, 20001, 20001, 20001, 20001, 20001, 20001, 20001, 20001\n",
      "$ customer_id                                   <i64> 10001, 10001, 10001, 10001, 10001, 10001, 10001, 10001, 10001, 10001\n",
      "$ periodo                                       <i64> 201701, 201702, 201703, 201704, 201705, 201706, 201707, 201708, 201709, 201710\n",
      "$ tn                                            <f64> 99.43861, 198.84365, 92.46537, 13.29728, 101.00563, 128.04792, 101.20711, 43.3393, 289.35024, 222.11389\n",
      "$ tn_standard                                   <f64> 0.9511130037582488, 1.9019049163071962, 0.8844151764019818, 0.12718616966402174, 0.9661012774192468, 1.2247560762986929, 0.968028398564617, 0.414532864083477, 2.7675847028088003, 2.124480713219234\n",
      "$ tn_robust                                     <f64> 0.7029554958939109, 1.4056736773684313, 0.6536599819865136, 0.09400167657653485, 0.7140331378800134, 0.9052016022929509, 0.7154574485508154, 0.3063759552068857, 2.0454865715261117, 1.5701766113773674\n",
      "$ tn_norm                                       <f64> 0.9511130037582488, 1.9019049163071962, 0.8844151764019818, 0.12718616966402174, 0.9661012774192468, 1.2247560762986929, 0.968028398564617, 0.414532864083477, 2.7675847028088003, 2.124480713219234\n",
      "$ new_tn_column                                 <f64> 0.7029554958939109, 1.4056736773684313, 0.6536599819865136, 0.09400167657653485, 0.7140331378800134, 0.9052016022929509, 0.7154574485508154, 0.3063759552068857, 2.0454865715261117, 1.5701766113773674\n",
      "$ metodo_escalado                               <cat> tn_robust, tn_robust, tn_robust, tn_robust, tn_robust, tn_robust, tn_robust, tn_robust, tn_robust, tn_robust\n",
      "$ periodo_dt                                    <i32> 17167, 17198, 17226, 17257, 17287, 17318, 17348, 17379, 17410, 17440\n",
      "$ mes                                            <i8> 1, 2, 3, 4, 5, 6, 7, 8, 9, 10\n",
      "$ year                                          <i32> 2017, 2017, 2017, 2017, 2017, 2017, 2017, 2017, 2017, 2017\n",
      "$ quarter                                        <i8> 1, 1, 1, 2, 2, 2, 3, 3, 3, 4\n",
      "$ month_in_quarter                               <i8> 1, 2, 3, 1, 2, 3, 1, 2, 3, 1\n",
      "$ yearquarter                                   <cat> 2017-Q1, 2017-Q1, 2017-Q1, 2017-Q2, 2017-Q2, 2017-Q2, 2017-Q3, 2017-Q3, 2017-Q3, 2017-Q4\n",
      "$ product_id_overall                            <i64> 20001, 20001, 20001, 20001, 20001, 20001, 20001, 20001, 20001, 20001\n",
      "$ primer_periodo                                <i32> 17167, 17167, 17167, 17167, 17167, 17167, 17167, 17167, 17167, 17167\n",
      "$ ultimo_periodo                                <i32> 18231, 18231, 18231, 18231, 18231, 18231, 18231, 18231, 18231, 18231\n",
      "$ edad_dias                                     <i64> 0, 31, 59, 90, 120, 151, 181, 212, 243, 273\n",
      "$ edad                                          <cat> Adulto, Adulto, Adulto, Adulto, Adulto, Adulto, Adulto, Adulto, Adulto, Adulto\n",
      "$ primer_periodo_prodcust              <datetime[ms]> 2017-01-01 00:00:00, 2017-01-01 00:00:00, 2017-01-01 00:00:00, 2017-01-01 00:00:00, 2017-01-01 00:00:00, 2017-01-01 00:00:00, 2017-01-01 00:00:00, 2017-01-01 00:00:00, 2017-01-01 00:00:00, 2017-01-01 00:00:00\n",
      "$ ultimo_periodo_prodcust              <datetime[ms]> 2019-12-01 00:00:00, 2019-12-01 00:00:00, 2019-12-01 00:00:00, 2019-12-01 00:00:00, 2019-12-01 00:00:00, 2019-12-01 00:00:00, 2019-12-01 00:00:00, 2019-12-01 00:00:00, 2019-12-01 00:00:00, 2019-12-01 00:00:00\n",
      "$ values                                        <u32> 36, 36, 36, 36, 36, 36, 36, 36, 36, 36\n",
      "$ total_tn                                      <f64> 6347.964899999999, 6347.964899999999, 6347.964899999999, 6347.964899999999, 6347.964899999999, 6347.964899999999, 6347.964899999999, 6347.964899999999, 6347.964899999999, 6347.964899999999\n",
      "$ min_tn                                        <f64> 13.29728, 13.29728, 13.29728, 13.29728, 13.29728, 13.29728, 13.29728, 13.29728, 13.29728, 13.29728\n",
      "$ average_tn                                    <f64> 176.33235833333336, 176.33235833333336, 176.33235833333336, 176.33235833333336, 176.33235833333336, 176.33235833333336, 176.33235833333336, 176.33235833333336, 176.33235833333336, 176.33235833333336\n",
      "$ median_tn                                     <f64> 142.01461999999998, 142.01461999999998, 142.01461999999998, 142.01461999999998, 142.01461999999998, 142.01461999999998, 142.01461999999998, 142.01461999999998, 142.01461999999998, 142.01461999999998\n",
      "$ std_dev_tn                                    <f64> 104.54973237362553, 104.54973237362553, 104.54973237362553, 104.54973237362553, 104.54973237362553, 104.54973237362553, 104.54973237362553, 104.54973237362553, 104.54973237362553, 104.54973237362553\n",
      "$ Q3_tn                                         <f64> 241.02438, 241.02438, 241.02438, 241.02438, 241.02438, 241.02438, 241.02438, 241.02438, 241.02438, 241.02438\n",
      "$ Q1_tn                                         <f64> 101.00563, 101.00563, 101.00563, 101.00563, 101.00563, 101.00563, 101.00563, 101.00563, 101.00563, 101.00563\n",
      "$ max_tn                                        <f64> 439.90647, 439.90647, 439.90647, 439.90647, 439.90647, 439.90647, 439.90647, 439.90647, 439.90647, 439.90647\n",
      "$ iqr_tn                                        <f64> 140.01875, 140.01875, 140.01875, 140.01875, 140.01875, 140.01875, 140.01875, 140.01875, 140.01875, 140.01875\n",
      "$ standard_scaler_mean                          <f64> 176.33235833333336, 176.33235833333336, 176.33235833333336, 176.33235833333336, 176.33235833333336, 176.33235833333336, 176.33235833333336, 176.33235833333336, 176.33235833333336, 176.33235833333336\n",
      "$ standard_scaler_scale                         <f64> 104.54973237362552, 104.54973237362552, 104.54973237362552, 104.54973237362552, 104.54973237362552, 104.54973237362552, 104.54973237362552, 104.54973237362552, 104.54973237362552, 104.54973237362552\n",
      "$ robust_scaler_scale                           <f64> 141.4579025, 141.4579025, 141.4579025, 141.4579025, 141.4579025, 141.4579025, 141.4579025, 141.4579025, 141.4579025, 141.4579025\n",
      "$ tn_cero                                      <bool> False, False, False, True, False, False, False, False, False, False\n",
      "$ tn_lag_1                                      <f64> None, 0.9511130037582488, 1.9019049163071962, 0.8844151764019818, 0.12718616966402174, 0.9661012774192468, 1.2247560762986929, 0.968028398564617, 0.414532864083477, 2.7675847028088003\n",
      "$ tn_lag_2                                      <f64> None, None, 0.9511130037582488, 1.9019049163071962, 0.8844151764019818, 0.12718616966402174, 0.9661012774192468, 1.2247560762986929, 0.968028398564617, 0.414532864083477\n",
      "$ tn_lag_3                                      <f64> None, None, None, 0.9511130037582488, 1.9019049163071962, 0.8844151764019818, 0.12718616966402174, 0.9661012774192468, 1.2247560762986929, 0.968028398564617\n",
      "$ tn_lag_4                                      <f64> None, None, None, None, 0.9511130037582488, 1.9019049163071962, 0.8844151764019818, 0.12718616966402174, 0.9661012774192468, 1.2247560762986929\n",
      "$ tn_lag_5                                      <f64> None, None, None, None, None, 0.9511130037582488, 1.9019049163071962, 0.8844151764019818, 0.12718616966402174, 0.9661012774192468\n",
      "$ tn_lag_6                                      <f64> None, None, None, None, None, None, 0.9511130037582488, 1.9019049163071962, 0.8844151764019818, 0.12718616966402174\n",
      "$ tn_lag_7                                      <f64> None, None, None, None, None, None, None, 0.9511130037582488, 1.9019049163071962, 0.8844151764019818\n",
      "$ tn_lag_8                                      <f64> None, None, None, None, None, None, None, None, 0.9511130037582488, 1.9019049163071962\n",
      "$ tn_lag_9                                      <f64> None, None, None, None, None, None, None, None, None, 0.9511130037582488\n",
      "$ tn_lag_10                                     <f64> None, None, None, None, None, None, None, None, None, None\n",
      "$ tn_lag_11                                     <f64> None, None, None, None, None, None, None, None, None, None\n",
      "$ tn_lag_12                                     <f64> None, None, None, None, None, None, None, None, None, None\n",
      "$ tn_lag_13                                     <f64> None, None, None, None, None, None, None, None, None, None\n",
      "$ tn_lag_15                                     <f64> None, None, None, None, None, None, None, None, None, None\n",
      "$ tn_lag_18                                     <f64> None, None, None, None, None, None, None, None, None, None\n",
      "$ tn_diff_1                                     <f64> None, 0.9507919125489473, -1.0174897399052143, -0.75722900673796, 0.838915107755225, 0.2586547988794461, -0.2567276777340759, -0.55349553448114, 2.353051838725323, -0.6431039895895663\n",
      "$ tn_diff_2                                     <f64> None, None, -0.06669782735626706, -1.7747187466431744, 0.08168610101726503, 1.0975699066346711, 0.001927121145370192, -0.8102232122152159, 1.7995563042441833, 1.709947849135757\n",
      "$ tn_diff_3                                     <f64> None, None, None, -0.8239268340942271, -0.9358036388879494, 0.3403408998967111, 0.8408422289005952, -0.5515684133357698, 1.5428286265101074, 1.156452314654617\n",
      "$ tn_diff_4                                     <f64> None, None, None, None, 0.014988273660997975, -0.6771488400085033, 0.08361322216263523, 0.28734669441945526, 1.8014834253895535, 0.8997246369205412\n",
      "$ tn_diff_5                                     <f64> None, None, None, None, None, 0.27364307254044407, -0.9338765177425792, -0.46988231231850475, 2.6403985331447783, 1.1583794357999873\n",
      "$ tn_diff_6                                     <f64> None, None, None, None, None, None, 0.016915394806368167, -1.4873720522237193, 1.8831695264068187, 1.9972945435552123\n",
      "$ tn_diff_7                                     <f64> None, None, None, None, None, None, None, -0.5365801396747718, 0.8656797865016042, 1.2400655368172524\n",
      "$ tn_diff_8                                     <f64> None, None, None, None, None, None, None, None, 1.8164716990505516, 0.22257579691203788\n",
      "$ tn_diff_9                                     <f64> None, None, None, None, None, None, None, None, None, 1.1733677094609853\n",
      "$ tn_diff_10                                    <f64> None, None, None, None, None, None, None, None, None, None\n",
      "$ tn_diff_11                                    <f64> None, None, None, None, None, None, None, None, None, None\n",
      "$ tn_diff_12                                    <f64> None, None, None, None, None, None, None, None, None, None\n",
      "$ tn_diff_13                                    <f64> None, None, None, None, None, None, None, None, None, None\n",
      "$ tn_diff_15                                    <f64> None, None, None, None, None, None, None, None, None, None\n",
      "$ tn_diff_18                                    <f64> None, None, None, None, None, None, None, None, None, None\n",
      "$ tn_diff_2_1                                   <f64> None, None, -1.9682816524541615, 0.2602607331672543, 1.596144114493185, -0.580260308875779, -0.515382476613522, -0.2967678567470641, 2.9065473732064633, -2.9961558283148895\n",
      "$ tn_diff_2_2                                   <f64> None, None, None, None, 0.1483839283735321, 2.8722886532778453, -0.07975897987189484, -1.9077931188498871, 1.7976291830988131, 2.5201710613509727\n",
      "$ tn_diff_2_3                                   <f64> None, None, None, None, None, None, 1.6647690629948224, 0.3842352255521796, 1.2024877266133962, 0.31561008575402183\n",
      "$ ratio_1                                       <f64> None, -0.9996624047741618, 0.5349845469040625, 0.8561917829345191, -6.595961730519322, -0.26773052155607585, 0.20961535337707954, 0.5717761331195012, -5.6763939426802, 0.23237012003169588\n",
      "$ ratio_2                                       <f64> None, None, 0.07012608080503137, 0.9331269567823764, -0.09236171336360843, -8.629632526351253, -0.001994740293189679, 0.6615384303001564, -1.8589912309520544, -4.124999480840714\n",
      "$ ratio_3                                       <f64> None, None, None, 0.8662764895848806, 0.4920349229155671, -0.38482028461033596, -6.6111137014487165, 0.5709219377177291, -1.259702773774068, -1.1946470954461597\n",
      "$ ratio_4                                       <f64> None, None, None, None, -0.01575866758394952, 0.3560371678954796, -0.09454069128799254, -2.259260540501516, -1.8646941759583104, -0.7346153689962317\n",
      "$ ratio_5                                       <f64> None, None, None, None, None, -0.287708265431305, 0.4910216645087736, 0.5312915527186015, -20.76010733022091, -1.1990248464367779\n",
      "$ ratio_6                                       <f64> None, None, None, None, None, None, -0.017784842326335887, 0.7820433290175473, -2.1292822383125705, -15.703708577994895\n",
      "$ ratio_7                                       <f64> None, None, None, None, None, None, None, 0.5641602391666577, -0.45516459791398917, -1.4021305489828246\n",
      "$ ratio_8                                       <f64> None, None, None, None, None, None, None, None, -1.9098379392069138, -0.11702782563084105\n",
      "$ ratio_9                                       <f64> None, None, None, None, None, None, None, None, None, -1.2336785480006207\n",
      "$ ratio_10                                      <f64> None, None, None, None, None, None, None, None, None, None\n",
      "$ ratio_11                                      <f64> None, None, None, None, None, None, None, None, None, None\n",
      "$ ratio_12                                      <f64> None, None, None, None, None, None, None, None, None, None\n",
      "$ ratio_13                                      <f64> None, None, None, None, None, None, None, None, None, None\n",
      "$ ratio_15                                      <f64> None, None, None, None, None, None, None, None, None, None\n",
      "$ ratio_18                                      <f64> None, None, None, None, None, None, None, None, None, None\n",
      "$ avg_1                                         <f64> 0.9511130037582488, 1.9019049163071962, 0.8844151764019818, 0.12718616966402174, 0.9661012774192468, 1.2247560762986929, 0.968028398564617, 0.414532864083477, 2.7675847028088003, 2.124480713219234\n",
      "$ avg_2                                         <f64> None, 1.4265089600327225, 1.393160046354589, 0.5058006730330018, 0.5466437235416344, 1.0954286768589698, 1.096392237431655, 0.6912806313240472, 1.591058783446139, 2.4460327080140174\n",
      "$ avg_3                                         <f64> None, None, 1.245811032155809, 0.9711687541243998, 0.6592342078284167, 0.7726811744606538, 1.0529619174275189, 0.8691057796489291, 1.3833819884856318, 1.768866093370504\n",
      "$ avg_4                                         <f64> None, None, None, 0.9661548165328622, 0.9699018849481117, 0.8006146749459859, 0.8215179804866448, 0.8933546540915087, 1.343725510438897, 1.5686566696690323\n",
      "$ avg_5                                         <f64> None, None, None, None, 0.9661441087101391, 1.020872723218228, 0.8340974196697122, 0.7401209572060112, 1.268200663834967, 1.4998765509949643\n",
      "$ avg_6                                         <f64> None, None, None, None, None, 1.0092461033082314, 1.0120653357759595, 0.7641699937386729, 1.0780315814731427, 1.4109140053990117\n",
      "$ avg_7                                         <f64> None, None, None, None, None, None, 1.0033578597734294, 0.9267035541056048, 1.0503720950344053, 1.2275243145797272\n",
      "$ avg_8                                         <f64> None, None, None, None, None, None, None, 0.9297547353121853, 1.1568136976935042, 1.1846356723075089\n",
      "$ avg_9                                         <f64> None, None, None, None, None, None, None, None, 1.1339580650340315, 1.2643322549741411\n",
      "$ avg_10                                        <f64> None, None, None, None, None, None, None, None, None, 1.2330103298525519\n",
      "$ avg_11                                        <f64> None, None, None, None, None, None, None, None, None, None\n",
      "$ avg_12                                        <f64> None, None, None, None, None, None, None, None, None, None\n",
      "$ avg_13                                        <f64> None, None, None, None, None, None, None, None, None, None\n",
      "$ avg_15                                        <f64> None, None, None, None, None, None, None, None, None, None\n",
      "$ avg_18                                        <f64> None, None, None, None, None, None, None, None, None, None\n",
      "$ max_1                                        <bool> True, True, True, True, True, True, True, True, True, True\n",
      "$ max_2                                        <bool> None, False, True, True, False, False, True, True, False, True\n",
      "$ max_3                                        <bool> None, None, True, True, False, False, False, True, False, False\n",
      "$ max_4                                        <bool> None, None, None, True, False, False, False, True, False, False\n",
      "$ max_5                                        <bool> None, None, None, None, False, False, False, False, False, False\n",
      "$ max_6                                        <bool> None, None, None, None, None, False, False, False, False, False\n",
      "$ max_7                                        <bool> None, None, None, None, None, None, False, False, False, False\n",
      "$ max_8                                        <bool> None, None, None, None, None, None, None, False, False, False\n",
      "$ max_9                                        <bool> None, None, None, None, None, None, None, None, False, False\n",
      "$ max_10                                       <bool> None, None, None, None, None, None, None, None, None, False\n",
      "$ max_11                                       <bool> None, None, None, None, None, None, None, None, None, None\n",
      "$ max_12                                       <bool> None, None, None, None, None, None, None, None, None, None\n",
      "$ max_13                                       <bool> None, None, None, None, None, None, None, None, None, None\n",
      "$ max_15                                       <bool> None, None, None, None, None, None, None, None, None, None\n",
      "$ max_18                                       <bool> None, None, None, None, None, None, None, None, None, None\n",
      "$ crece_2                                      <bool> None, None, True, False, False, True, True, False, False, True\n",
      "$ crece_3                                      <bool> None, None, None, True, False, False, True, True, False, False\n",
      "$ crece_4                                      <bool> None, None, None, None, True, False, False, True, True, False\n",
      "$ crece_5                                      <bool> None, None, None, None, None, True, False, False, True, True\n",
      "$ crece_6                                      <bool> None, None, None, None, None, None, True, False, False, True\n",
      "$ crece_7                                      <bool> None, None, None, None, None, None, None, True, False, False\n",
      "$ crece_8                                      <bool> None, None, None, None, None, None, None, None, True, False\n",
      "$ crece_9                                      <bool> None, None, None, None, None, None, None, None, None, True\n",
      "$ crece_10                                     <bool> None, None, None, None, None, None, None, None, None, None\n",
      "$ crece_11                                     <bool> None, None, None, None, None, None, None, None, None, None\n",
      "$ crece_12                                     <bool> None, None, None, None, None, None, None, None, None, None\n",
      "$ decrece_2                                    <bool> None, None, True, False, False, True, True, False, False, True\n",
      "$ decrece_3                                    <bool> None, None, None, True, False, False, True, True, False, False\n",
      "$ decrece_4                                    <bool> None, None, None, None, True, False, False, True, True, False\n",
      "$ decrece_5                                    <bool> None, None, None, None, None, True, False, False, True, True\n",
      "$ decrece_6                                    <bool> None, None, None, None, None, None, True, False, False, True\n",
      "$ decrece_7                                    <bool> None, None, None, None, None, None, None, True, False, False\n",
      "$ decrece_8                                    <bool> None, None, None, None, None, None, None, None, True, False\n",
      "$ decrece_9                                    <bool> None, None, None, None, None, None, None, None, None, True\n",
      "$ decrece_10                                   <bool> None, None, None, None, None, None, None, None, None, None\n",
      "$ decrece_11                                   <bool> None, None, None, None, None, None, None, None, None, None\n",
      "$ decrece_12                                   <bool> None, None, None, None, None, None, None, None, None, None\n",
      "$ cat1                                          <cat> HC, HC, HC, HC, HC, HC, HC, HC, HC, HC\n",
      "$ cat2                                          <cat> ROPA LAVADO, ROPA LAVADO, ROPA LAVADO, ROPA LAVADO, ROPA LAVADO, ROPA LAVADO, ROPA LAVADO, ROPA LAVADO, ROPA LAVADO, ROPA LAVADO\n",
      "$ cat3                                          <cat> Liquido, Liquido, Liquido, Liquido, Liquido, Liquido, Liquido, Liquido, Liquido, Liquido\n",
      "$ brand                                         <cat> ARIEL, ARIEL, ARIEL, ARIEL, ARIEL, ARIEL, ARIEL, ARIEL, ARIEL, ARIEL\n",
      "$ sku_size                                      <i64> 3000, 3000, 3000, 3000, 3000, 3000, 3000, 3000, 3000, 3000\n",
      "$ descripcion                                   <cat> genoma, genoma, genoma, genoma, genoma, genoma, genoma, genoma, genoma, genoma\n",
      "$ max_skusize                                   <i64> 3000, 3000, 3000, 3000, 3000, 3000, 3000, 3000, 3000, 3000\n",
      "$ min_skusize                                   <i64> 400, 400, 400, 400, 400, 400, 400, 400, 400, 400\n",
      "$ presentacion                                  <cat> Grande, Grande, Grande, Grande, Grande, Grande, Grande, Grande, Grande, Grande\n",
      "$ cat1_total                                    <f64> 50254.45641999843, 50254.45641999843, 50254.45641999843, 50254.45641999843, 50254.45641999843, 50254.45641999843, 50254.45641999843, 50254.45641999843, 50254.45641999843, 50254.45641999843\n",
      "$ cat1_median                                   <f64> 0.0, 0.0, 0.0, 0.0, 0.0, 0.0, 0.0, 0.0, 0.0, 0.0\n",
      "$ cat1_max                                      <f64> 469.45761, 469.45761, 469.45761, 469.45761, 469.45761, 469.45761, 469.45761, 469.45761, 469.45761, 469.45761\n",
      "$ cat2_total                                    <f64> 50254.45641999843, 50254.45641999843, 50254.45641999843, 50254.45641999843, 50254.45641999843, 50254.45641999843, 50254.45641999843, 50254.45641999843, 50254.45641999843, 50254.45641999843\n",
      "$ cat2_median                                   <f64> 0.0, 0.0, 0.0, 0.0, 0.0, 0.0, 0.0, 0.0, 0.0, 0.0\n",
      "$ cat2_max                                      <f64> 469.45761, 469.45761, 469.45761, 469.45761, 469.45761, 469.45761, 469.45761, 469.45761, 469.45761, 469.45761\n",
      "$ brand_total                                   <f64> 50254.45641999843, 50254.45641999843, 50254.45641999843, 50254.45641999843, 50254.45641999843, 50254.45641999843, 50254.45641999843, 50254.45641999843, 50254.45641999843, 50254.45641999843\n",
      "$ brand_median                                  <f64> 0.0, 0.0, 0.0, 0.0, 0.0, 0.0, 0.0, 0.0, 0.0, 0.0\n",
      "$ brand_max                                     <f64> 469.45761, 469.45761, 469.45761, 469.45761, 469.45761, 469.45761, 469.45761, 469.45761, 469.45761, 469.45761\n",
      "$ descripcion_total                             <f64> 50254.45641999843, 50254.45641999843, 50254.45641999843, 50254.45641999843, 50254.45641999843, 50254.45641999843, 50254.45641999843, 50254.45641999843, 50254.45641999843, 50254.45641999843\n",
      "$ descripcion_median                            <f64> 0.0, 0.0, 0.0, 0.0, 0.0, 0.0, 0.0, 0.0, 0.0, 0.0\n",
      "$ descripcion_max                               <f64> 469.45761, 469.45761, 469.45761, 469.45761, 469.45761, 469.45761, 469.45761, 469.45761, 469.45761, 469.45761\n",
      "$ prop_product_periodo                          <f64> 0.1075935501612438, 0.24958903416992403, 0.07111374640714165, 0.012463931097142904, 0.067351826389366, 0.08454659447091163, 0.09827833025621742, 0.034634824617571607, 0.22021090425957793, 0.1543823542370534\n",
      "$ prop_product_yearquarter                      <f64> 0.03291430700958378, 0.06581750230625935, 0.030606155656588096, 0.0032582927820785446, 0.024749867279495963, 0.03137616215467907, 0.028151473225405513, 0.012055132722965978, 0.08048481508981592, 0.05470554572849339\n",
      "$ prop_product_year                             <f64> 0.006738194468127376, 0.013474114153971541, 0.006265671298375459, 0.0009010550181377313, 0.006844379434866602, 0.008676828710691116, 0.006858032194307209, 0.0029367730654371858, 0.019607053905111187, 0.01505096043571257\n",
      "$ prop_product_periodo_cat1                     <f64> 0.1075935501612438, 0.24958903416992403, 0.07111374640714165, 0.012463931097142904, 0.067351826389366, 0.08454659447091163, 0.09827833025621742, 0.034634824617571607, 0.22021090425957793, 0.1543823542370534\n",
      "$ prop_product_periodo_cat2                     <f64> 0.1075935501612438, 0.24958903416992403, 0.07111374640714165, 0.012463931097142904, 0.067351826389366, 0.08454659447091163, 0.09827833025621742, 0.034634824617571607, 0.22021090425957793, 0.1543823542370534\n",
      "$ prop_product_periodo_brand                    <f64> 0.1075935501612438, 0.24958903416992403, 0.07111374640714165, 0.012463931097142904, 0.067351826389366, 0.08454659447091163, 0.09827833025621742, 0.034634824617571607, 0.22021090425957793, 0.1543823542370534\n",
      "$ prop_product_periodo_descripcion              <f64> 0.1075935501612438, 0.24958903416992403, 0.07111374640714165, 0.012463931097142904, 0.067351826389366, 0.08454659447091163, 0.09827833025621742, 0.034634824617571607, 0.22021090425957793, 0.1543823542370534\n",
      "$ prop_product_yearquarter_cat1                 <f64> 0.03291430700958378, 0.06581750230625935, 0.030606155656588096, 0.0032582927820785446, 0.024749867279495963, 0.03137616215467907, 0.028151473225405513, 0.012055132722965978, 0.08048481508981592, 0.05470554572849339\n",
      "$ prop_product_yearquarter_cat2                 <f64> 0.03291430700958378, 0.06581750230625935, 0.030606155656588096, 0.0032582927820785446, 0.024749867279495963, 0.03137616215467907, 0.028151473225405513, 0.012055132722965978, 0.08048481508981592, 0.05470554572849339\n",
      "$ prop_product_yearquarter_brand                <f64> 0.03291430700958378, 0.06581750230625935, 0.030606155656588096, 0.0032582927820785446, 0.024749867279495963, 0.03137616215467907, 0.028151473225405513, 0.012055132722965978, 0.08048481508981592, 0.05470554572849339\n",
      "$ prop_product_yearquarter_descripcion          <f64> 0.03291430700958378, 0.06581750230625935, 0.030606155656588096, 0.0032582927820785446, 0.024749867279495963, 0.03137616215467907, 0.028151473225405513, 0.012055132722965978, 0.08048481508981592, 0.05470554572849339\n",
      "$ prop_product_year_cat1                        <f64> 0.006738194468127376, 0.013474114153971541, 0.006265671298375459, 0.0009010550181377313, 0.006844379434866602, 0.008676828710691116, 0.006858032194307209, 0.0029367730654371858, 0.019607053905111187, 0.01505096043571257\n",
      "$ prop_product_year_cat2                        <f64> 0.006738194468127376, 0.013474114153971541, 0.006265671298375459, 0.0009010550181377313, 0.006844379434866602, 0.008676828710691116, 0.006858032194307209, 0.0029367730654371858, 0.019607053905111187, 0.01505096043571257\n",
      "$ prop_product_year_brand                       <f64> 0.006738194468127376, 0.013474114153971541, 0.006265671298375459, 0.0009010550181377313, 0.006844379434866602, 0.008676828710691116, 0.006858032194307209, 0.0029367730654371858, 0.019607053905111187, 0.01505096043571257\n",
      "$ prop_product_year_descripcion                 <f64> 0.006738194468127376, 0.013474114153971541, 0.006265671298375459, 0.0009010550181377313, 0.006844379434866602, 0.008676828710691116, 0.006858032194307209, 0.0029367730654371858, 0.019607053905111187, 0.01505096043571257\n",
      "$ cluster_dtw_15                                <i64> 5, 5, 5, 5, 5, 5, 5, 5, 5, 5\n",
      "$ tot_weight                                    <f64> 17456.79264, 17456.79264, 17456.79264, 17456.79264, 17456.79264, 17456.79264, 17456.79264, 17456.79264, 17456.79264, 17456.79264\n",
      "$ avg_weight                                    <f64> 1454.73272, 1454.73272, 1454.73272, 1454.73272, 1454.73272, 1454.73272, 1454.73272, 1454.73272, 1454.73272, 1454.73272\n",
      "$ med_weight                                    <f64> 1487.6725450000004, 1487.6725450000004, 1487.6725450000004, 1487.6725450000004, 1487.6725450000004, 1487.6725450000004, 1487.6725450000004, 1487.6725450000004, 1487.6725450000004, 1487.6725450000004\n",
      "$ tn_futuro                                     <f64> -0.06669782735626706, -1.7747187466431744, 0.08168610101726503, 1.0975699066346711, 0.001927121145370192, -0.8102232122152159, 1.7995563042441833, 1.709947849135757, -1.7006337172112487, -0.868891655077221\n",
      "\n"
     ]
    }
   ],
   "source": [
    "df_train.glimpse()"
   ]
  },
  {
   "cell_type": "code",
   "execution_count": 10,
   "metadata": {},
   "outputs": [
    {
     "name": "stdout",
     "output_type": "stream",
     "text": [
      "----------------------------------------04_crear_train_test-----------------------------------------\n",
      "----------------------------------------------FINALIZA----------------------------------------------\n",
      "\n",
      "\n",
      "\n"
     ]
    }
   ],
   "source": [
    "print(f\"{fase:-^100}\")\n",
    "print(f\"{'FINALIZA':-^100}\\n\\n\\n\")"
   ]
  }
 ],
 "metadata": {
  "kernelspec": {
   "display_name": "uni",
   "language": "python",
   "name": "python3"
  },
  "language_info": {
   "codemirror_mode": {
    "name": "ipython",
    "version": 3
   },
   "file_extension": ".py",
   "mimetype": "text/x-python",
   "name": "python",
   "nbconvert_exporter": "python",
   "pygments_lexer": "ipython3",
   "version": "3.10.14"
  }
 },
 "nbformat": 4,
 "nbformat_minor": 2
}
