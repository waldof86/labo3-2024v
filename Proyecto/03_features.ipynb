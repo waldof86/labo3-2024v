{
 "cells": [
  {
   "cell_type": "code",
   "execution_count": 2,
   "metadata": {},
   "outputs": [],
   "source": [
    "import pandas as pd\n",
    "from datetime import datetime\n",
    "import warnings\n",
    "\n",
    "import json\n",
    "\n",
    "warnings.filterwarnings('ignore')\n",
    "\n",
    "fase = '03_features'"
   ]
  },
  {
   "cell_type": "code",
   "execution_count": 3,
   "metadata": {},
   "outputs": [],
   "source": [
    "with open('gen_config.json', 'r') as file:\n",
    "    gen_config =json.load(file)"
   ]
  },
  {
   "cell_type": "code",
   "execution_count": 4,
   "metadata": {},
   "outputs": [
    {
     "name": "stdout",
     "output_type": "stream",
     "text": [
      "----------------------------------------------COMIENZA----------------------------------------------\n",
      "--------------------------------------------03_features---------------------------------------------\n"
     ]
    }
   ],
   "source": [
    "folder = gen_config['folder']\n",
    "\n",
    "path_norm = gen_config['path_norm']\n",
    "path_prod_data = gen_config['path_prod_data']\n",
    "path_lag = gen_config['path_lag']\n",
    "path_dtw = gen_config['path_dtw']\n",
    "\n",
    "var_lags = gen_config['var_lags']\n",
    "var_cates_feat = gen_config['var_cates_feat']\n",
    "\n",
    "print(f\"{'COMIENZA':-^100}\")\n",
    "print(f\"{fase:-^100}\")"
   ]
  },
  {
   "cell_type": "code",
   "execution_count": 5,
   "metadata": {},
   "outputs": [],
   "source": [
    "df = pd.read_parquet(f\"{folder}/{path_norm}\")\n",
    "prod_data = pd.read_parquet(f\"{folder}/{path_prod_data}\")\n",
    "prod_a_predecir = pd.read_csv('..\\productos_a_predecir.txt', sep='\\t')\n",
    "df_dtw = pd.read_parquet(f\"{folder}/{path_dtw}\")"
   ]
  },
  {
   "cell_type": "markdown",
   "metadata": {},
   "source": [
    "## Pendientes\n",
    "---\n",
    "### operaciones sobre tn\n",
    "* HECHO - razones con lags\n",
    "* HECHO - marcar cero real\n",
    "* HECHO - date features:\n",
    "    - HECHO - mes\n",
    "    - HECHO - quarter\n",
    "    - HECHO - mes en el quarter\n",
    "* HECHO - tiempos de monotonia de la funcion\n",
    "* maximo salto\n",
    "* expanding mean\n",
    "\n",
    "### basadas en producto\n",
    "* HECHO - info del producto\n",
    "* HECHO porcentual de venta\n",
    "    - HECHO del mes\n",
    "    - HECHO del quarter\n",
    "    - HECHO del año\n",
    "* porcentual de categoria\n",
    "* HECHO - stats de categoria1 y 2\n",
    "* HECHO - stats de brand"
   ]
  },
  {
   "cell_type": "markdown",
   "metadata": {},
   "source": [
    "## Generales"
   ]
  },
  {
   "cell_type": "code",
   "execution_count": 6,
   "metadata": {},
   "outputs": [],
   "source": [
    "# date features\n",
    "df['periodo_dt'] = pd.to_datetime(df['periodo'], format='%Y%m')\n",
    "df = df.sort_values(by=['product_id', 'customer_id', 'periodo_dt'])\n",
    "df['mes'] = df['periodo_dt'].dt.month\n",
    "df['quarter'] = df['periodo_dt'].dt.quarter\n",
    "df['month_in_quarter'] = (df['periodo_dt'].dt.month - 1) % 3 + 1\n",
    "df['year'] = df['periodo_dt'].dt.year\n",
    "df['yearquarter'] = df['periodo_dt'].dt.to_period('Q').astype('str').astype('category')"
   ]
  },
  {
   "cell_type": "markdown",
   "metadata": {},
   "source": [
    "## Operaciones sobre tn"
   ]
  },
  {
   "cell_type": "code",
   "execution_count": 7,
   "metadata": {},
   "outputs": [],
   "source": [
    "# marcar ceros\n",
    "df['tn_cero'] = df['tn'] < df['median_tn'] / 10"
   ]
  },
  {
   "cell_type": "code",
   "execution_count": 8,
   "metadata": {},
   "outputs": [],
   "source": [
    "lags = var_lags\n",
    "#print(f\"Lags/Variables: {lags}\")"
   ]
  },
  {
   "cell_type": "code",
   "execution_count": 68,
   "metadata": {},
   "outputs": [
    {
     "name": "stdout",
     "output_type": "stream",
     "text": [
      "Creado max_36 en 3.72 a las 20:56:51\n",
      "Creado min_36 en 3.64 a las 20:57:56\n",
      "Creado avg_36 en 3.67 a las 20:59:02\n",
      "Creado tn_lag_36 en 0.16 a las 20:59:04\n",
      "Creado tn_diff_36 en 0.17 a las 20:59:07\n",
      "Creado ratio_36 en 0.03 a las 20:59:08\n",
      "Creado tn_diff2_36 en 0.02 a las 20:59:08\n"
     ]
    }
   ],
   "source": [
    "# lag features\n",
    "\n",
    "for lag in lags:\n",
    "    # rolling max\n",
    "    start_time = datetime.now()\n",
    "    df[f'max_{lag}'] = df.groupby(['product_id','customer_id'],as_index=False)['tn_norm'].rolling(lag).max()['tn_norm'] == df['tn_norm']\n",
    "    print(f\"Creado max_{lag} en {(datetime.now() - start_time).total_seconds():.2f} a las {datetime.now().strftime('%H:%M:%S')}\", end='\\r')\n",
    "print('')\n",
    "\n",
    "for lag in lags:\n",
    "    # rolling min\n",
    "    start_time = datetime.now()\n",
    "    df[f'min_{lag}'] = df.groupby(['product_id','customer_id'],as_index=False)['tn_norm'].rolling(lag).min()['tn_norm'] == df['tn_norm']\n",
    "    print(f\"Creado min_{lag} en {(datetime.now() - start_time).total_seconds():.2f} a las {datetime.now().strftime('%H:%M:%S')}\", end='\\r')\n",
    "print('')\n",
    "\n",
    "for lag in lags:\n",
    "    # rolling avg\n",
    "    start_time = datetime.now()\n",
    "    df[f'avg_{lag}'] = df.groupby(['product_id','customer_id'],as_index=False)['tn_norm'].rolling(lag).mean()['tn_norm']\n",
    "    print(f\"Creado avg_{lag} en {(datetime.now() - start_time).total_seconds():.2f} a las {datetime.now().strftime('%H:%M:%S')}\", end='\\r')\n",
    "print('')\n",
    "\n",
    "for lag in lags:\n",
    "    # lags\n",
    "    start_time = datetime.now()\n",
    "    df[f'tn_lag_{lag}'] = df.groupby(['product_id','customer_id'])['tn_norm'].shift(lag)\n",
    "    print(f\"Creado tn_lag_{lag} en {(datetime.now() - start_time).total_seconds():.2f} a las {datetime.now().strftime('%H:%M:%S')}\", end='\\r')\n",
    "print('')\n",
    "\n",
    "for lag in lags:\n",
    "    # primer derivada / delta\n",
    "    start_time = datetime.now()\n",
    "    df[f'tn_diff_{lag}'] = df.groupby(['product_id','customer_id'])['tn_norm'].diff(lag)\n",
    "    print(f\"Creado tn_diff_{lag} en {(datetime.now() - start_time).total_seconds():.2f} a las {datetime.now().strftime('%H:%M:%S')}\", end='\\r')\n",
    "print('')\n",
    "\n",
    "for lag in lags:\n",
    "    # ratios con lags\n",
    "    start_time = datetime.now()\n",
    "    df[f'ratio_{lag}'] = (-df[f'tn_diff_{lag}'])/df[f'tn_lag_{lag}']\n",
    "    print(f\"Creado ratio_{lag} en {(datetime.now() - start_time).total_seconds():.2f} a las {datetime.now().strftime('%H:%M:%S')}\", end='\\r')\n",
    "print('')\n",
    "\n",
    "for deriv in range(1, 13):\n",
    "    # segunda derivada\n",
    "    start_time = datetime.now()\n",
    "    df[f'tn_diff2_{deriv}'] = df[f'tn_diff_{deriv}'].diff()\n",
    "    print(f\"Creado tn_diff2_{lag} en {(datetime.now() - start_time).total_seconds():.2f} a las {datetime.now().strftime('%H:%M:%S')}\", end='\\r')\n",
    "print('')\n"
   ]
  },
  {
   "cell_type": "code",
   "execution_count": 69,
   "metadata": {},
   "outputs": [],
   "source": [
    "# monotonia\n",
    "\n",
    "for i in lags:\n",
    "    df[f'crece_{i+1}'] = (df.groupby(['product_id','customer_id'])['tn_norm'].shift(i) - df.groupby('product_id')['tn_norm'].shift(i+1)) > 0\n",
    "\n",
    "crece_columns = df.filter(like='crece_')\n",
    "\n",
    "df['crece_sum'] = crece_columns.sum(axis=1)\n",
    "df['decrece_sum'] = 12 - crece_columns.sum(axis=1) #corregir para los primeros"
   ]
  },
  {
   "cell_type": "markdown",
   "metadata": {},
   "source": [
    "## nivel producto"
   ]
  },
  {
   "cell_type": "code",
   "execution_count": 9,
   "metadata": {},
   "outputs": [],
   "source": [
    "df = pd.merge(df, prod_data, on=['product_id'], how='left', suffixes=('', ''))"
   ]
  },
  {
   "cell_type": "code",
   "execution_count": 10,
   "metadata": {},
   "outputs": [],
   "source": [
    "for col in df.select_dtypes(include=['object']).columns:\n",
    "    df[col] = df[col].astype('category')"
   ]
  },
  {
   "cell_type": "code",
   "execution_count": 11,
   "metadata": {},
   "outputs": [],
   "source": [
    "var_stats = []\n",
    "\n",
    "for variable in var_cates_feat:\n",
    "    var_stat = df.groupby(variable).apply(lambda group: pd.Series({\n",
    "        f'{variable}_total': group['tn'].sum(),\n",
    "        #f'{variable}_min': group['tn'].min(),\n",
    "        #f'{variable}_average': group['tn'].mean(),\n",
    "        f'{variable}_median': group['tn'].median(),\n",
    "        #f'{variable}_std_dev': group['tn'].std(),\n",
    "        #f'{variable}_iqr': (group['tn'].quantile(0.75) - group['tn'].quantile(0.25)),\n",
    "        f'{variable}_max': group['tn'].max()\n",
    "    }))\n",
    "    var_stat.reset_index(inplace=True)\n",
    "    var_stats.append(var_stat)\n",
    "\n",
    "# Merge yearly sales with the products dataframe\n",
    "#df_prod = df_prod.merge(df_temp, on='product_id', how='left')"
   ]
  },
  {
   "cell_type": "code",
   "execution_count": 12,
   "metadata": {},
   "outputs": [],
   "source": [
    "for i in range(len(var_cates_feat)):\n",
    "    var_stat = var_stats[i]\n",
    "    df = pd.merge(df, var_stat, on=var_cates_feat[i], how='left')"
   ]
  },
  {
   "cell_type": "code",
   "execution_count": 13,
   "metadata": {},
   "outputs": [],
   "source": [
    "tiempos = ['periodo','yearquarter','year']\n",
    "\n",
    "for tiempo in tiempos:\n",
    "    tiempo_sums = df.groupby([tiempo,'customer_id'])['tn'].sum().reset_index()\n",
    "    tiempo_sums.rename(columns={'tn': f'tn_total_{tiempo}'}, inplace=True)\n",
    "    df = df.merge(tiempo_sums, on=[tiempo,'customer_id'])\n",
    "    df[f'prop_product_{tiempo}'] = (df['tn'] / df[f'tn_total_{tiempo}']) * 100\n",
    "    df.drop(columns=f'tn_total_{tiempo}', inplace=True)"
   ]
  },
  {
   "cell_type": "code",
   "execution_count": 14,
   "metadata": {},
   "outputs": [],
   "source": [
    "for tiempo in tiempos:\n",
    "    for variable in var_cates_feat:\n",
    "        combi_sums = df.groupby([tiempo,'customer_id', variable])['tn'].sum().reset_index()\n",
    "        combi_sums = df.groupby([tiempo,'customer_id', variable])['tn'].sum().reset_index()\n",
    "        combi_sums.rename(columns={'tn': f'tn_total_{tiempo}_{variable}'}, inplace=True)\n",
    "        df = df.merge(combi_sums, on=[tiempo,'customer_id', variable])\n",
    "        df[f'prop_product_{tiempo}_{variable}'] = (df['tn'] / df[f'tn_total_{tiempo}_{variable}']) * 100\n",
    "        df.drop(columns=f'tn_total_{tiempo}_{variable}', inplace=True)"
   ]
  },
  {
   "cell_type": "markdown",
   "metadata": {},
   "source": [
    "# DTW"
   ]
  },
  {
   "cell_type": "code",
   "execution_count": 15,
   "metadata": {},
   "outputs": [],
   "source": [
    "for col in df_dtw.iloc[:,1:].columns:\n",
    "    df_dtw[col] = df_dtw[col].astype('category')"
   ]
  },
  {
   "cell_type": "code",
   "execution_count": 16,
   "metadata": {},
   "outputs": [],
   "source": [
    "df = df.merge(df_dtw, on=['product_id','customer_id'], how='left')"
   ]
  },
  {
   "cell_type": "markdown",
   "metadata": {},
   "source": [
    "## ajustes finales pre export"
   ]
  },
  {
   "cell_type": "code",
   "execution_count": 17,
   "metadata": {},
   "outputs": [],
   "source": [
    "df = df.sort_values(by=['product_id','customer_id', 'periodo'])"
   ]
  },
  {
   "cell_type": "code",
   "execution_count": 18,
   "metadata": {},
   "outputs": [],
   "source": [
    "#df.to_parquet('sell_in_lag.parquet', index=False)\n",
    "df.to_parquet(f'{folder}/{path_lag}', index=False)"
   ]
  },
  {
   "cell_type": "code",
   "execution_count": 19,
   "metadata": {},
   "outputs": [
    {
     "name": "stdout",
     "output_type": "stream",
     "text": [
      "--------------------------------------------03_features---------------------------------------------\n",
      "----------------------------------------------FINALIZA----------------------------------------------\n",
      "\n",
      "\n",
      "\n"
     ]
    }
   ],
   "source": [
    "print(f\"{fase:-^100}\")\n",
    "print(f\"{'FINALIZA':-^100}\\n\\n\\n\")"
   ]
  }
 ],
 "metadata": {
  "kernelspec": {
   "display_name": "uni",
   "language": "python",
   "name": "python3"
  },
  "language_info": {
   "codemirror_mode": {
    "name": "ipython",
    "version": 3
   },
   "file_extension": ".py",
   "mimetype": "text/x-python",
   "name": "python",
   "nbconvert_exporter": "python",
   "pygments_lexer": "ipython3",
   "version": "3.10.13"
  }
 },
 "nbformat": 4,
 "nbformat_minor": 2
}
