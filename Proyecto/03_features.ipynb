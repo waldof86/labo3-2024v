{
 "cells": [
  {
   "cell_type": "code",
   "execution_count": 1,
   "metadata": {},
   "outputs": [],
   "source": [
    "#import pandas as pd\n",
    "import polars as pl\n",
    "from datetime import datetime\n",
    "import warnings\n",
    "\n",
    "import json\n",
    "\n",
    "warnings.filterwarnings('ignore')\n",
    "\n",
    "fase = '03_features'"
   ]
  },
  {
   "cell_type": "code",
   "execution_count": 2,
   "metadata": {},
   "outputs": [],
   "source": [
    "with open('gen_config.json', 'r') as file:\n",
    "    gen_config =json.load(file)"
   ]
  },
  {
   "cell_type": "code",
   "execution_count": 3,
   "metadata": {},
   "outputs": [
    {
     "name": "stdout",
     "output_type": "stream",
     "text": [
      "----------------------------------------------COMIENZA----------------------------------------------\n",
      "--------------------------------------------03_features---------------------------------------------\n"
     ]
    }
   ],
   "source": [
    "folder = gen_config['folder']\n",
    "\n",
    "#entradas\n",
    "path_norm = gen_config['path_norm']\n",
    "path_prod_data = gen_config['path_prod_data']\n",
    "path_dtw = gen_config['path_dtw']\n",
    "path_prod_stats = gen_config['path_prod_stats']\n",
    "path_overall_prod_stats = gen_config['path_overall_prod_stats']\n",
    "#salidas\n",
    "path_lag = gen_config['path_lag']\n",
    "\n",
    "#variables config\n",
    "var_lags = gen_config['var_lags']\n",
    "var_cates_feat = gen_config['var_cates_feat']\n",
    "\n",
    "print(f\"{'COMIENZA':-^100}\")\n",
    "print(f\"{fase:-^100}\")"
   ]
  },
  {
   "cell_type": "code",
   "execution_count": 4,
   "metadata": {},
   "outputs": [],
   "source": [
    "df = pl.read_parquet(f\"{folder}/{path_norm}\")\n",
    "prod_data = pl.read_parquet(f\"{folder}/{path_prod_data}\")\n",
    "prod_stats = pl.read_parquet(f\"{folder}/{path_prod_stats}\")\n",
    "overall_prod_stats = pl.read_parquet(f\"{folder}/{path_overall_prod_stats}\")\n",
    "prod_a_predecir = pl.read_csv('..\\productos_a_predecir.txt', separator='\\t')\n",
    "df_dtw = pl.read_parquet(f\"{folder}/{path_dtw}\")"
   ]
  },
  {
   "cell_type": "markdown",
   "metadata": {},
   "source": [
    "## Pendientes\n",
    "---\n",
    "### operaciones sobre tn\n",
    "* HECHO - razones con lags\n",
    "* HECHO - marcar cero real\n",
    "* HECHO - date features:\n",
    "    - HECHO - mes\n",
    "    - HECHO - quarter\n",
    "    - HECHO - mes en el quarter\n",
    "* HECHO - tiempos de monotonia de la funcion\n",
    "* maximo salto\n",
    "* expanding mean\n",
    "\n",
    "* HECHO - basadas en producto\n",
    "* HECHO - info del producto\n",
    "* HECHO porcentual de venta\n",
    "    - HECHO del mes\n",
    "    - HECHO del quarter\n",
    "    - HECHO del año\n",
    "* porcentual de categoria\n",
    "* HECHO - stats de categoria1 y 2\n",
    "* HECHO - stats de brand"
   ]
  },
  {
   "cell_type": "markdown",
   "metadata": {},
   "source": [
    "## Generales"
   ]
  },
  {
   "cell_type": "code",
   "execution_count": 5,
   "metadata": {},
   "outputs": [],
   "source": [
    "df = df.with_columns([\n",
    "    ((pl.col(\"periodo\").cast(pl.Utf8) + \"01\").str.to_date(\"%Y%m%d\")).alias(\"periodo_dt\"),  \n",
    "])\n",
    "\n",
    "df = df.with_columns([\n",
    "    pl.col('periodo_dt').dt.month().alias('mes'),\n",
    "    pl.col('periodo_dt').dt.year().alias('year'),\n",
    "    pl.col('periodo_dt').dt.quarter().alias('quarter'),\n",
    "    ((pl.col('periodo_dt').dt.month() -1)% 3+1).alias('month_in_quarter'),\n",
    "])\n",
    "df = df.with_columns([\n",
    "    (pl.col(\"year\").cast(pl.Utf8) + \"-Q\" + pl.col(\"quarter\").cast(pl.Utf8)).alias(\"yearquarter\"),\n",
    "])\n",
    "df = df.sort(by=['product_id', 'customer_id', 'periodo_dt'])"
   ]
  },
  {
   "cell_type": "code",
   "execution_count": 6,
   "metadata": {},
   "outputs": [],
   "source": [
    "periodos = overall_prod_stats.select(['product_id', 'primer_periodo', 'ultimo_periodo'])\n",
    "df = df.join(periodos, on=['product_id'], how='left', coalesce=False, suffix='_overall')"
   ]
  },
  {
   "cell_type": "code",
   "execution_count": 7,
   "metadata": {},
   "outputs": [
    {
     "data": {
      "text/html": [
       "<div><style>\n",
       ".dataframe > thead > tr,\n",
       ".dataframe > tbody > tr {\n",
       "  text-align: right;\n",
       "  white-space: pre-wrap;\n",
       "}\n",
       "</style>\n",
       "<small>shape: (5_303_555, 4)</small><table border=\"1\" class=\"dataframe\"><thead><tr><th>periodo_dt</th><th>primer_periodo</th><th>edad_dias</th><th>edad</th></tr><tr><td>date</td><td>date</td><td>i64</td><td>cat</td></tr></thead><tbody><tr><td>2017-01-01</td><td>2017-01-01</td><td>0</td><td>&quot;Adulto&quot;</td></tr><tr><td>2017-02-01</td><td>2017-01-01</td><td>31</td><td>&quot;Adulto&quot;</td></tr><tr><td>2017-03-01</td><td>2017-01-01</td><td>59</td><td>&quot;Adulto&quot;</td></tr><tr><td>2017-04-01</td><td>2017-01-01</td><td>90</td><td>&quot;Adulto&quot;</td></tr><tr><td>2017-05-01</td><td>2017-01-01</td><td>120</td><td>&quot;Adulto&quot;</td></tr><tr><td>&hellip;</td><td>&hellip;</td><td>&hellip;</td><td>&hellip;</td></tr><tr><td>2019-08-01</td><td>2019-03-01</td><td>153</td><td>&quot;Joven&quot;</td></tr><tr><td>2019-09-01</td><td>2019-03-01</td><td>184</td><td>&quot;Joven&quot;</td></tr><tr><td>2019-10-01</td><td>2019-03-01</td><td>214</td><td>&quot;Adulto&quot;</td></tr><tr><td>2019-11-01</td><td>2019-03-01</td><td>245</td><td>&quot;Adulto&quot;</td></tr><tr><td>2019-12-01</td><td>2019-03-01</td><td>275</td><td>&quot;Adulto&quot;</td></tr></tbody></table></div>"
      ],
      "text/plain": [
       "shape: (5_303_555, 4)\n",
       "┌────────────┬────────────────┬───────────┬────────┐\n",
       "│ periodo_dt ┆ primer_periodo ┆ edad_dias ┆ edad   │\n",
       "│ ---        ┆ ---            ┆ ---       ┆ ---    │\n",
       "│ date       ┆ date           ┆ i64       ┆ cat    │\n",
       "╞════════════╪════════════════╪═══════════╪════════╡\n",
       "│ 2017-01-01 ┆ 2017-01-01     ┆ 0         ┆ Adulto │\n",
       "│ 2017-02-01 ┆ 2017-01-01     ┆ 31        ┆ Adulto │\n",
       "│ 2017-03-01 ┆ 2017-01-01     ┆ 59        ┆ Adulto │\n",
       "│ 2017-04-01 ┆ 2017-01-01     ┆ 90        ┆ Adulto │\n",
       "│ 2017-05-01 ┆ 2017-01-01     ┆ 120       ┆ Adulto │\n",
       "│ …          ┆ …              ┆ …         ┆ …      │\n",
       "│ 2019-08-01 ┆ 2019-03-01     ┆ 153       ┆ Joven  │\n",
       "│ 2019-09-01 ┆ 2019-03-01     ┆ 184       ┆ Joven  │\n",
       "│ 2019-10-01 ┆ 2019-03-01     ┆ 214       ┆ Adulto │\n",
       "│ 2019-11-01 ┆ 2019-03-01     ┆ 245       ┆ Adulto │\n",
       "│ 2019-12-01 ┆ 2019-03-01     ┆ 275       ┆ Adulto │\n",
       "└────────────┴────────────────┴───────────┴────────┘"
      ]
     },
     "execution_count": 7,
     "metadata": {},
     "output_type": "execute_result"
    }
   ],
   "source": [
    "# df = df.with_columns([\n",
    "#     (pl.col('periodo_dt') - pl.col('primer_periodo_overall')).dt.days().alias('edad_dias'),\n",
    "# ])\n",
    "df = df.with_columns([\n",
    "    (pl.col('periodo_dt') - pl.col('primer_periodo')).dt.days().alias('edad_dias'),\n",
    "])\n",
    "\n",
    "conditional_expr = (\n",
    "    pl.when((pl.col('primer_periodo') == pl.datetime(2017, 1, 1)))\n",
    "    .then(pl.lit(\"Adulto\"))\n",
    "    .when((pl.col('edad_dias') < 35))\n",
    "    .then(pl.lit(\"Infante\"))\n",
    "    .when((pl.col('edad_dias') < 190))\n",
    "    .then(pl.lit(\"Joven\"))\n",
    "    .when((pl.col('edad_dias') >= 190))\n",
    "    .then(pl.lit(\"Adulto\"))\n",
    "    .otherwise(pl.lit(\"Otro\"))\n",
    ")\n",
    "\n",
    "df = df.with_columns(conditional_expr.cast(pl.Categorical).alias('edad'))\n",
    "\n",
    "check = df.select(['periodo_dt', 'primer_periodo', 'edad_dias', 'edad'])\n",
    "check"
   ]
  },
  {
   "cell_type": "code",
   "execution_count": 8,
   "metadata": {},
   "outputs": [],
   "source": [
    "# df.filter((pl.col('product_id')==20001) & (pl.col('customer_id')==10001))['tn'].sum()"
   ]
  },
  {
   "cell_type": "code",
   "execution_count": 9,
   "metadata": {},
   "outputs": [],
   "source": [
    "# df.filter(pl.col('product_id')==20001)['tn'].sum()"
   ]
  },
  {
   "cell_type": "markdown",
   "metadata": {},
   "source": [
    "## Operaciones sobre tn"
   ]
  },
  {
   "cell_type": "code",
   "execution_count": 10,
   "metadata": {},
   "outputs": [],
   "source": [
    "df = df.join(prod_stats, on=['product_id', 'customer_id'], how='left', coalesce=True, suffix='_prodcust')"
   ]
  },
  {
   "cell_type": "code",
   "execution_count": 11,
   "metadata": {},
   "outputs": [],
   "source": [
    "# marcar ceros\n",
    "df = df.with_columns([\n",
    "    (pl.col('tn') < pl.col('median_tn') / 10 ).alias('tn_cero')\n",
    "])"
   ]
  },
  {
   "cell_type": "code",
   "execution_count": 12,
   "metadata": {},
   "outputs": [],
   "source": [
    "lags = var_lags"
   ]
  },
  {
   "cell_type": "code",
   "execution_count": 13,
   "metadata": {},
   "outputs": [],
   "source": [
    "df = df.sort(by=[\"product_id\", \"customer_id\", \"periodo\"])\n",
    "df = df.set_sorted([\"product_id\", \"customer_id\", \"periodo\"])"
   ]
  },
  {
   "cell_type": "code",
   "execution_count": 14,
   "metadata": {},
   "outputs": [
    {
     "name": "stdout",
     "output_type": "stream",
     "text": [
      "Lags creados en: 4.13 a las 20:45:00\n",
      "Diff creados en: 6.03 a las 20:45:06\n",
      "Diff2 creados en: 1.65 a las 20:45:07\n",
      "Ratios creados en: 0.58 a las 20:45:08\n",
      "Promedios creados en: 4.78 a las 20:45:13\n",
      "Maximos creados en: 4.66 a las 20:45:17\n",
      "Minimos creados en: 4.33 a las 20:45:22\n",
      "Monotonia_creciente creados en: 0.23 a las 20:45:22\n",
      "Monotonia_decreciente creados en: 0.17 a las 20:45:22\n",
      "\n",
      "Fin de creacion de metricas 26.57 a las 20:45:22\n"
     ]
    }
   ],
   "source": [
    "start_time = datetime.now()\n",
    "\n",
    "# lags normales\n",
    "start_time2 = datetime.now()\n",
    "for lag in lags:\n",
    "    df = df.with_columns([\n",
    "        pl.col(\"tn_norm\").shift(lag).over([\"product_id\", \"customer_id\"]).alias(f'tn_lag_{lag}'),\n",
    "    ])\n",
    "print(f\"Lags creados en: {(datetime.now() - start_time2).total_seconds():.2f} a las {datetime.now().strftime('%H:%M:%S')}\", end='\\n')\n",
    "\n",
    "# primer derivada / delta\n",
    "start_time2 = datetime.now()\n",
    "for lag in lags:\n",
    "    df = df.with_columns([\n",
    "        pl.col(\"tn_norm\").diff(lag).over([\"product_id\", \"customer_id\"]).alias(f'tn_diff_{lag}')\n",
    "    ])\n",
    "print(f\"Diff creados en: {(datetime.now() - start_time2).total_seconds():.2f} a las {datetime.now().strftime('%H:%M:%S')}\", end='\\n')\n",
    "\n",
    "# segunda derivada\n",
    "start_time2 = datetime.now()\n",
    "for lag in [1,2,3]:\n",
    "    df = df.with_columns([\n",
    "        pl.col(f'tn_diff_{lag}').diff(lag).over([\"product_id\", \"customer_id\"]).alias(f'tn_diff_2_{lag}')\n",
    "    ])\n",
    "print(f\"Diff2 creados en: {(datetime.now() - start_time2).total_seconds():.2f} a las {datetime.now().strftime('%H:%M:%S')}\", end='\\n')\n",
    "\n",
    "# ratios\n",
    "start_time2 = datetime.now()\n",
    "for lag in lags:\n",
    "    df = df.with_columns([\n",
    "        ((-pl.col(f'tn_diff_{lag}'))/pl.col(f'tn_lag_{lag}')).alias(f'ratio_{lag}')\n",
    "    ])\n",
    "print(f\"Ratios creados en: {(datetime.now() - start_time2).total_seconds():.2f} a las {datetime.now().strftime('%H:%M:%S')}\", end='\\n')\n",
    "\n",
    "# Promedios\n",
    "start_time2 = datetime.now()\n",
    "for lag in lags:\n",
    "    df = df.with_columns([\n",
    "        (pl.col('tn_norm').rolling_mean(lag).over([\"product_id\", \"customer_id\"])).alias(f'avg_{lag}')\n",
    "    ])\n",
    "print(f\"Promedios creados en: {(datetime.now() - start_time2).total_seconds():.2f} a las {datetime.now().strftime('%H:%M:%S')}\", end='\\n')\n",
    "\n",
    "# Maximos\n",
    "start_time2 = datetime.now()\n",
    "for lag in lags:\n",
    "    df = df.with_columns([\n",
    "        (pl.col('tn_norm').rolling_max(lag).over([\"product_id\", \"customer_id\"]) == pl.col('tn_norm')).alias(f'max_{lag}')\n",
    "    ])\n",
    "print(f\"Maximos creados en: {(datetime.now() - start_time2).total_seconds():.2f} a las {datetime.now().strftime('%H:%M:%S')}\", end='\\n')\n",
    "\n",
    "# Minimos\n",
    "start_time2 = datetime.now()\n",
    "for lag in lags:\n",
    "    df = df.with_columns([\n",
    "        (pl.col('tn_norm').rolling_min(lag).over([\"product_id\", \"customer_id\"]) == pl.col('tn_norm')).alias(f'max_{lag}')\n",
    "    ])\n",
    "print(f\"Minimos creados en: {(datetime.now() - start_time2).total_seconds():.2f} a las {datetime.now().strftime('%H:%M:%S')}\", end='\\n')\n",
    "\n",
    "# Monotonia_creciente\n",
    "start_time2 = datetime.now()\n",
    "for lag in range(1,12):\n",
    "    df = df.with_columns([\n",
    "        (((pl.col(f'tn_lag_{lag}'))-pl.col(f'tn_lag_{lag+1}')) > 0).alias(f'crece_{lag+1}')\n",
    "    ])\n",
    "print(f\"Monotonia_creciente creados en: {(datetime.now() - start_time2).total_seconds():.2f} a las {datetime.now().strftime('%H:%M:%S')}\", end='\\n')\n",
    "\n",
    "# Monotonia_decreciente\n",
    "start_time2 = datetime.now()\n",
    "for lag in range(1,12):\n",
    "    df = df.with_columns([\n",
    "        (((pl.col(f'tn_lag_{lag}'))-pl.col(f'tn_lag_{lag+1}')) > 0).alias(f'decrece_{lag+1}')\n",
    "    ])\n",
    "print(f\"Monotonia_decreciente creados en: {(datetime.now() - start_time2).total_seconds():.2f} a las {datetime.now().strftime('%H:%M:%S')}\", end='\\n')\n",
    "\n",
    "print(f\"\\nFin de creacion de metricas {(datetime.now() - start_time).total_seconds():.2f} a las {datetime.now().strftime('%H:%M:%S')}\", end='\\n')"
   ]
  },
  {
   "cell_type": "markdown",
   "metadata": {},
   "source": [
    "## nivel producto"
   ]
  },
  {
   "cell_type": "code",
   "execution_count": 15,
   "metadata": {},
   "outputs": [],
   "source": [
    "df = df.join(prod_data, on=['product_id'], how='left', coalesce=True, suffix='')"
   ]
  },
  {
   "cell_type": "code",
   "execution_count": 16,
   "metadata": {},
   "outputs": [
    {
     "name": "stdout",
     "output_type": "stream",
     "text": [
      "Columnas cambiadas a categorical: ['yearquarter', 'cat1', 'cat2', 'cat3', 'brand', 'descripcion']\n"
     ]
    }
   ],
   "source": [
    "catcols = [col for col in df.columns if df[col].dtype == pl.Utf8]\n",
    "\n",
    "df = df.with_columns([\n",
    "    pl.col(col).cast(pl.Categorical) for col in catcols\n",
    "])\n",
    "\n",
    "print(f\"Columnas cambiadas a categorical: {catcols}\")"
   ]
  },
  {
   "cell_type": "code",
   "execution_count": 17,
   "metadata": {},
   "outputs": [],
   "source": [
    "var_stats = []\n",
    "\n",
    "for variable in var_cates_feat:\n",
    "    var_stats = df.groupby('product_id',variable).agg([\n",
    "        pl.sum('tn').alias(f'{variable}_total'),\n",
    "        pl.median('tn').alias(f'{variable}_median'),\n",
    "        pl.max('tn').alias(f'{variable}_max'),\n",
    "    ])\n",
    "    df = df.join(var_stats, on=['product_id', variable], how='left', coalesce=True, suffix='')"
   ]
  },
  {
   "cell_type": "code",
   "execution_count": 18,
   "metadata": {},
   "outputs": [],
   "source": [
    "tiempos = ['periodo','yearquarter','year']\n",
    "\n",
    "for tiempo in tiempos:\n",
    "    tiempo_sums = df.group_by([tiempo,'product_id']).agg([pl.sum('tn').alias(f'tn_total_{tiempo}')])\n",
    "    df = df.join(tiempo_sums, on=[tiempo,'product_id'], how='left', coalesce=True, suffix='')\n",
    "    df = df.with_columns([\n",
    "        (pl.col(f'tn') / pl.col(f'tn_total_{tiempo}')).alias(f'prop_product_{tiempo}')\n",
    "    ])\n",
    "    df = df.drop(columns=f'tn_total_{tiempo}')"
   ]
  },
  {
   "cell_type": "code",
   "execution_count": 19,
   "metadata": {},
   "outputs": [],
   "source": [
    "for tiempo in tiempos:\n",
    "    for variable in var_cates_feat:\n",
    "        combi_sums = df.group_by([tiempo,'product_id', variable]).agg([pl.sum('tn').alias(f'tn_total_{tiempo}_{variable}')])\n",
    "        df = df.join(combi_sums, on=[tiempo,'product_id', variable], how='left', coalesce=True, suffix='')\n",
    "        df = df.with_columns([\n",
    "            (pl.col(f'tn') / pl.col(f'tn_total_{tiempo}_{variable}')).alias(f'prop_product_{tiempo}_{variable}')\n",
    "        ])\n",
    "        df = df.drop(columns=f'tn_total_{tiempo}_{variable}')"
   ]
  },
  {
   "cell_type": "code",
   "execution_count": 20,
   "metadata": {},
   "outputs": [],
   "source": [
    "# props = df.columns\n",
    "# props = [prop for prop in props if prop.startswith(\"prop_\")]\n",
    "\n",
    "# start_time = datetime.now()\n",
    "\n",
    "# # lags normales\n",
    "# start_time2 = datetime.now()\n",
    "\n",
    "\n",
    "\n",
    "# print(f\"Lags creados en: {(datetime.now() - start_time2).total_seconds():.2f} a las {datetime.now().strftime('%H:%M:%S')}\", end='\\n')\n",
    "\n",
    "# print(f\"\\nFin de creacion de metricas {(datetime.now() - start_time).total_seconds():.2f} a las {datetime.now().strftime('%H:%M:%S')}\", end='\\n')"
   ]
  },
  {
   "cell_type": "markdown",
   "metadata": {},
   "source": [
    "# DTW"
   ]
  },
  {
   "cell_type": "code",
   "execution_count": 21,
   "metadata": {},
   "outputs": [],
   "source": [
    "df = df.join(df_dtw, on=['product_id', 'customer_id'], how='left', coalesce=True, suffix='')"
   ]
  },
  {
   "cell_type": "markdown",
   "metadata": {},
   "source": [
    "## ajustes finales pre export"
   ]
  },
  {
   "cell_type": "code",
   "execution_count": 22,
   "metadata": {},
   "outputs": [],
   "source": [
    "df = df.sort(by=[\"product_id\", \"customer_id\", \"periodo\"])\n",
    "df = df.set_sorted([\"product_id\", \"customer_id\", \"periodo\"])"
   ]
  },
  {
   "cell_type": "code",
   "execution_count": 23,
   "metadata": {},
   "outputs": [],
   "source": [
    "#df.to_parquet('sell_in_lag.parquet', index=False)\n",
    "df.write_parquet(f'{folder}/{path_lag}')"
   ]
  },
  {
   "cell_type": "code",
   "execution_count": 24,
   "metadata": {},
   "outputs": [
    {
     "name": "stdout",
     "output_type": "stream",
     "text": [
      "--------------------------------------------03_features---------------------------------------------\n",
      "----------------------------------------------FINALIZA----------------------------------------------\n",
      "\n",
      "\n",
      "\n"
     ]
    }
   ],
   "source": [
    "print(f\"{fase:-^100}\")\n",
    "print(f\"{'FINALIZA':-^100}\\n\\n\\n\")"
   ]
  }
 ],
 "metadata": {
  "kernelspec": {
   "display_name": "uni",
   "language": "python",
   "name": "python3"
  },
  "language_info": {
   "codemirror_mode": {
    "name": "ipython",
    "version": 3
   },
   "file_extension": ".py",
   "mimetype": "text/x-python",
   "name": "python",
   "nbconvert_exporter": "python",
   "pygments_lexer": "ipython3",
   "version": "3.10.14"
  }
 },
 "nbformat": 4,
 "nbformat_minor": 2
}
