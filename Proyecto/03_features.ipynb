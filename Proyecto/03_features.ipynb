{
 "cells": [
  {
   "cell_type": "code",
   "execution_count": 5,
   "metadata": {},
   "outputs": [],
   "source": [
    "#import pandas as pd\n",
    "import polars as pl\n",
    "from datetime import datetime\n",
    "import warnings\n",
    "\n",
    "import json\n",
    "\n",
    "warnings.filterwarnings('ignore')\n",
    "\n",
    "fase = '03_features'"
   ]
  },
  {
   "cell_type": "code",
   "execution_count": 6,
   "metadata": {},
   "outputs": [],
   "source": [
    "with open('gen_config.json', 'r') as file:\n",
    "    gen_config =json.load(file)"
   ]
  },
  {
   "cell_type": "code",
   "execution_count": 7,
   "metadata": {},
   "outputs": [
    {
     "name": "stdout",
     "output_type": "stream",
     "text": [
      "----------------------------------------------COMIENZA----------------------------------------------\n",
      "--------------------------------------------03_features---------------------------------------------\n"
     ]
    }
   ],
   "source": [
    "folder = gen_config['folder']\n",
    "\n",
    "#entradas\n",
    "path_norm = gen_config['path_norm']\n",
    "path_prod_data = gen_config['path_prod_data']\n",
    "path_dtw = gen_config['path_dtw']\n",
    "#salidas\n",
    "path_lag = gen_config['path_lag']\n",
    "\n",
    "#variables config\n",
    "var_lags = gen_config['var_lags']\n",
    "var_cates_feat = gen_config['var_cates_feat']\n",
    "\n",
    "print(f\"{'COMIENZA':-^100}\")\n",
    "print(f\"{fase:-^100}\")"
   ]
  },
  {
   "cell_type": "code",
   "execution_count": 8,
   "metadata": {},
   "outputs": [],
   "source": [
    "df = pl.read_parquet(f\"{folder}/{path_norm}\")\n",
    "prod_data = pl.read_parquet(f\"{folder}/{path_prod_data}\")\n",
    "prod_a_predecir = pl.read_csv('..\\productos_a_predecir.txt', separator='\\t')\n",
    "df_dtw = pl.read_parquet(f\"{folder}/{path_dtw}\")"
   ]
  },
  {
   "cell_type": "markdown",
   "metadata": {},
   "source": [
    "## Pendientes\n",
    "---\n",
    "### operaciones sobre tn\n",
    "* HECHO - razones con lags\n",
    "* HECHO - marcar cero real\n",
    "* HECHO - date features:\n",
    "    - HECHO - mes\n",
    "    - HECHO - quarter\n",
    "    - HECHO - mes en el quarter\n",
    "* HECHO - tiempos de monotonia de la funcion\n",
    "* maximo salto\n",
    "* expanding mean\n",
    "\n",
    "### basadas en producto\n",
    "* HECHO - info del producto\n",
    "* HECHO porcentual de venta\n",
    "    - HECHO del mes\n",
    "    - HECHO del quarter\n",
    "    - HECHO del año\n",
    "* porcentual de categoria\n",
    "* HECHO - stats de categoria1 y 2\n",
    "* HECHO - stats de brand"
   ]
  },
  {
   "cell_type": "markdown",
   "metadata": {},
   "source": [
    "## Generales"
   ]
  },
  {
   "cell_type": "code",
   "execution_count": 9,
   "metadata": {},
   "outputs": [],
   "source": [
    "df = df.with_columns([\n",
    "    ((pl.col(\"periodo\").cast(pl.Utf8) + \"01\").str.to_date(\"%Y%m%d\")).alias(\"periodo_dt\"),  \n",
    "])\n",
    "\n",
    "df = df.with_columns([\n",
    "    pl.col('periodo_dt').dt.month().alias('mes'),\n",
    "    pl.col('periodo_dt').dt.year().alias('year'),\n",
    "    pl.col('periodo_dt').dt.quarter().alias('quarter'),\n",
    "    ((pl.col('periodo_dt').dt.month() -1)% 3+1).alias('month_in_quarter'),\n",
    "])\n",
    "df = df.with_columns([\n",
    "    (pl.col(\"year\").cast(pl.Utf8) + \"-Q\" + pl.col(\"quarter\").cast(pl.Utf8)).alias(\"yearquarter\"),\n",
    "])\n",
    "df = df.sort(by=['product_id', 'customer_id', 'periodo_dt'])"
   ]
  },
  {
   "cell_type": "markdown",
   "metadata": {},
   "source": [
    "## Operaciones sobre tn"
   ]
  },
  {
   "cell_type": "code",
   "execution_count": 10,
   "metadata": {},
   "outputs": [],
   "source": [
    "# marcar ceros\n",
    "df = df.with_columns([\n",
    "    (pl.col('tn') < pl.col('median_tn') / 10 ).alias('tn_cero')\n",
    "])"
   ]
  },
  {
   "cell_type": "code",
   "execution_count": 11,
   "metadata": {},
   "outputs": [],
   "source": [
    "lags = var_lags"
   ]
  },
  {
   "cell_type": "code",
   "execution_count": 12,
   "metadata": {},
   "outputs": [],
   "source": [
    "df = df.sort(by=[\"product_id\", \"customer_id\", \"periodo\"])\n",
    "df = df.set_sorted([\"product_id\", \"customer_id\", \"periodo\"])"
   ]
  },
  {
   "cell_type": "code",
   "execution_count": 13,
   "metadata": {},
   "outputs": [
    {
     "name": "stdout",
     "output_type": "stream",
     "text": [
      "Lags creados en: 8.19 a las 15:01:22\n",
      "Diff creados en: 11.17 a las 15:01:33\n",
      "Diff2 creados en: 14.03 a las 15:01:47\n",
      "Ratios creados en: 1.08 a las 15:01:48\n",
      "Promedios creados en: 8.81 a las 15:01:57\n",
      "Maximos creados en: 8.85 a las 15:02:06\n",
      "Minimos creados en: 8.30 a las 15:02:14\n",
      "Monotonia_creciente creados en: 0.32 a las 15:02:14\n",
      "Monotonia_decreciente creados en: 0.26 a las 15:02:15\n",
      "\n",
      "Fin de creacion de metricas 61.02 a las 15:02:15\n"
     ]
    }
   ],
   "source": [
    "start_time = datetime.now()\n",
    "\n",
    "# lags normales\n",
    "start_time2 = datetime.now()\n",
    "for lag in lags:\n",
    "    df = df.with_columns([\n",
    "        pl.col(\"tn_norm\").shift(lag).over([\"product_id\", \"customer_id\"]).alias(f'tn_lag_{lag}'),\n",
    "    ])\n",
    "print(f\"Lags creados en: {(datetime.now() - start_time2).total_seconds():.2f} a las {datetime.now().strftime('%H:%M:%S')}\", end='\\n')\n",
    "\n",
    "# primer derivada / delta\n",
    "start_time2 = datetime.now()\n",
    "for lag in lags:\n",
    "    df = df.with_columns([\n",
    "        pl.col(\"tn_norm\").diff(lag).over([\"product_id\", \"customer_id\"]).alias(f'tn_diff_{lag}')\n",
    "    ])\n",
    "print(f\"Diff creados en: {(datetime.now() - start_time2).total_seconds():.2f} a las {datetime.now().strftime('%H:%M:%S')}\", end='\\n')\n",
    "\n",
    "# segunda derivada\n",
    "start_time2 = datetime.now()\n",
    "for lag in lags:\n",
    "    df = df.with_columns([\n",
    "        pl.col(f'tn_diff_{lag}').diff(lag).over([\"product_id\", \"customer_id\"]).alias(f'tn_diff_2_{lag}')\n",
    "    ])\n",
    "print(f\"Diff2 creados en: {(datetime.now() - start_time2).total_seconds():.2f} a las {datetime.now().strftime('%H:%M:%S')}\", end='\\n')\n",
    "\n",
    "# ratios\n",
    "start_time2 = datetime.now()\n",
    "for lag in lags:\n",
    "    df = df.with_columns([\n",
    "        ((-pl.col(f'tn_diff_{lag}'))/pl.col(f'tn_lag_{lag}')).alias(f'ratio_{lag}')\n",
    "    ])\n",
    "print(f\"Ratios creados en: {(datetime.now() - start_time2).total_seconds():.2f} a las {datetime.now().strftime('%H:%M:%S')}\", end='\\n')\n",
    "\n",
    "# Promedios\n",
    "start_time2 = datetime.now()\n",
    "for lag in lags:\n",
    "    df = df.with_columns([\n",
    "        (pl.col('tn_norm').rolling_mean(lag).over([\"product_id\", \"customer_id\"])).alias(f'avg_{lag}')\n",
    "    ])\n",
    "print(f\"Promedios creados en: {(datetime.now() - start_time2).total_seconds():.2f} a las {datetime.now().strftime('%H:%M:%S')}\", end='\\n')\n",
    "\n",
    "# Maximos\n",
    "start_time2 = datetime.now()\n",
    "for lag in lags:\n",
    "    df = df.with_columns([\n",
    "        (pl.col('tn_norm').rolling_max(lag).over([\"product_id\", \"customer_id\"]) == pl.col('tn_norm')).alias(f'max_{lag}')\n",
    "    ])\n",
    "print(f\"Maximos creados en: {(datetime.now() - start_time2).total_seconds():.2f} a las {datetime.now().strftime('%H:%M:%S')}\", end='\\n')\n",
    "\n",
    "# Minimos\n",
    "start_time2 = datetime.now()\n",
    "for lag in lags:\n",
    "    df = df.with_columns([\n",
    "        (pl.col('tn_norm').rolling_min(lag).over([\"product_id\", \"customer_id\"]) == pl.col('tn_norm')).alias(f'max_{lag}')\n",
    "    ])\n",
    "print(f\"Minimos creados en: {(datetime.now() - start_time2).total_seconds():.2f} a las {datetime.now().strftime('%H:%M:%S')}\", end='\\n')\n",
    "\n",
    "# Monotonia_creciente\n",
    "start_time2 = datetime.now()\n",
    "for lag in range(1,12):\n",
    "    df = df.with_columns([\n",
    "        (((pl.col(f'tn_lag_{lag}'))-pl.col(f'tn_lag_{lag+1}')) > 0).alias(f'crece_{lag+1}')\n",
    "    ])\n",
    "print(f\"Monotonia_creciente creados en: {(datetime.now() - start_time2).total_seconds():.2f} a las {datetime.now().strftime('%H:%M:%S')}\", end='\\n')\n",
    "\n",
    "# Monotonia_decreciente\n",
    "start_time2 = datetime.now()\n",
    "for lag in range(1,12):\n",
    "    df = df.with_columns([\n",
    "        (((pl.col(f'tn_lag_{lag}'))-pl.col(f'tn_lag_{lag+1}')) > 0).alias(f'decrece_{lag+1}')\n",
    "    ])\n",
    "print(f\"Monotonia_decreciente creados en: {(datetime.now() - start_time2).total_seconds():.2f} a las {datetime.now().strftime('%H:%M:%S')}\", end='\\n')\n",
    "\n",
    "print(f\"\\nFin de creacion de metricas {(datetime.now() - start_time).total_seconds():.2f} a las {datetime.now().strftime('%H:%M:%S')}\", end='\\n')"
   ]
  },
  {
   "cell_type": "markdown",
   "metadata": {},
   "source": [
    "## nivel producto"
   ]
  },
  {
   "cell_type": "code",
   "execution_count": 14,
   "metadata": {},
   "outputs": [],
   "source": [
    "df = df.join(prod_data, on=['product_id'], how='left', coalesce=True, suffix='')"
   ]
  },
  {
   "cell_type": "code",
   "execution_count": 15,
   "metadata": {},
   "outputs": [
    {
     "name": "stdout",
     "output_type": "stream",
     "text": [
      "Columnas cambiadas a categorical: ['yearquarter', 'cat1', 'cat2', 'cat3', 'brand', 'descripcion']\n"
     ]
    }
   ],
   "source": [
    "catcols = [col for col in df.columns if df[col].dtype == pl.Utf8]\n",
    "\n",
    "df = df.with_columns([\n",
    "    pl.col(col).cast(pl.Categorical) for col in catcols\n",
    "])\n",
    "\n",
    "print(f\"Columnas cambiadas a categorical: {catcols}\")"
   ]
  },
  {
   "cell_type": "code",
   "execution_count": 16,
   "metadata": {},
   "outputs": [],
   "source": [
    "var_stats = []\n",
    "\n",
    "for variable in var_cates_feat:\n",
    "    var_stats = df.groupby('product_id').agg([\n",
    "        pl.sum('tn').alias(f'{variable}_total'),\n",
    "        pl.median('tn').alias(f'{variable}_median'),\n",
    "        pl.max('tn').alias(f'{variable}_max'),\n",
    "    ])\n",
    "    df = df.join(var_stats, on='product_id', how='left', coalesce=True, suffix='')"
   ]
  },
  {
   "cell_type": "code",
   "execution_count": 17,
   "metadata": {},
   "outputs": [],
   "source": [
    "tiempos = ['periodo','yearquarter','year']\n",
    "\n",
    "for tiempo in tiempos:\n",
    "    tiempo_sums = df.group_by([tiempo,'product_id']).agg([pl.sum('tn').alias(f'tn_total_{tiempo}')])\n",
    "    df = df.join(tiempo_sums, on=[tiempo,'product_id'], how='left', coalesce=True, suffix='')\n",
    "    df = df.with_columns([\n",
    "        (pl.col(f'tn') / pl.col(f'tn_total_{tiempo}')).alias(f'prop_product_{tiempo}')\n",
    "    ])\n",
    "    df = df.drop(columns=f'tn_total_{tiempo}')"
   ]
  },
  {
   "cell_type": "code",
   "execution_count": 18,
   "metadata": {},
   "outputs": [],
   "source": [
    "for tiempo in tiempos:\n",
    "    for variable in var_cates_feat:\n",
    "        combi_sums = df.group_by([tiempo,'product_id', variable]).agg([pl.sum('tn').alias(f'tn_total_{tiempo}_{variable}')])\n",
    "        df = df.join(combi_sums, on=[tiempo,'product_id', variable], how='left', coalesce=True, suffix='')\n",
    "        df = df.with_columns([\n",
    "            (pl.col(f'tn') / pl.col(f'tn_total_{tiempo}_{variable}')).alias(f'prop_product_{tiempo}_{variable}')\n",
    "        ])\n",
    "        df = df.drop(columns=f'tn_total_{tiempo}_{variable}')"
   ]
  },
  {
   "cell_type": "markdown",
   "metadata": {},
   "source": [
    "# DTW"
   ]
  },
  {
   "cell_type": "code",
   "execution_count": 19,
   "metadata": {},
   "outputs": [],
   "source": [
    "df = df.join(df_dtw, on=['product_id', 'customer_id'], how='left', coalesce=True, suffix='')"
   ]
  },
  {
   "cell_type": "markdown",
   "metadata": {},
   "source": [
    "## ajustes finales pre export"
   ]
  },
  {
   "cell_type": "code",
   "execution_count": 20,
   "metadata": {},
   "outputs": [],
   "source": [
    "df = df.sort(by=[\"product_id\", \"customer_id\", \"periodo\"])\n",
    "df = df.set_sorted([\"product_id\", \"customer_id\", \"periodo\"])"
   ]
  },
  {
   "cell_type": "code",
   "execution_count": 21,
   "metadata": {},
   "outputs": [],
   "source": [
    "#df.to_parquet('sell_in_lag.parquet', index=False)\n",
    "df.write_parquet(f'{folder}/{path_lag}')"
   ]
  },
  {
   "cell_type": "code",
   "execution_count": 22,
   "metadata": {},
   "outputs": [
    {
     "name": "stdout",
     "output_type": "stream",
     "text": [
      "--------------------------------------------03_features---------------------------------------------\n",
      "----------------------------------------------FINALIZA----------------------------------------------\n",
      "\n",
      "\n",
      "\n"
     ]
    }
   ],
   "source": [
    "print(f\"{fase:-^100}\")\n",
    "print(f\"{'FINALIZA':-^100}\\n\\n\\n\")"
   ]
  }
 ],
 "metadata": {
  "kernelspec": {
   "display_name": "uni",
   "language": "python",
   "name": "python3"
  },
  "language_info": {
   "codemirror_mode": {
    "name": "ipython",
    "version": 3
   },
   "file_extension": ".py",
   "mimetype": "text/x-python",
   "name": "python",
   "nbconvert_exporter": "python",
   "pygments_lexer": "ipython3",
   "version": "3.10.14"
  }
 },
 "nbformat": 4,
 "nbformat_minor": 2
}
