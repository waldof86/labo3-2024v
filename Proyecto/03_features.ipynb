{
 "cells": [
  {
   "cell_type": "code",
   "execution_count": 3,
   "metadata": {},
   "outputs": [],
   "source": [
    "import pandas as pd"
   ]
  },
  {
   "cell_type": "code",
   "execution_count": 4,
   "metadata": {},
   "outputs": [],
   "source": [
    "df_lag = pd.read_parquet(\"sell_in_norm.parquet\")"
   ]
  },
  {
   "cell_type": "code",
   "execution_count": 5,
   "metadata": {},
   "outputs": [],
   "source": [
    "df_lag['periodo_dt'] = pd.to_datetime(df_lag['periodo'], format='%Y%m')\n",
    "df_lag = df_lag.sort_values(by=['product_id', 'periodo_dt'])\n",
    "\n",
    "for lag in range(1, 13):\n",
    "    df_lag[f'tn_lag_{lag}'] = df_lag.groupby('product_id')['tn_norm'].shift(lag)\n",
    "\n",
    "df_lag = df_lag.sort_values(by=['product_id', 'periodo'])"
   ]
  },
  {
   "cell_type": "code",
   "execution_count": 6,
   "metadata": {},
   "outputs": [],
   "source": [
    "df_lag.to_parquet('sell_in_lag.parquet', index=False)"
   ]
  }
 ],
 "metadata": {
  "kernelspec": {
   "display_name": "uni",
   "language": "python",
   "name": "python3"
  },
  "language_info": {
   "codemirror_mode": {
    "name": "ipython",
    "version": 3
   },
   "file_extension": ".py",
   "mimetype": "text/x-python",
   "name": "python",
   "nbconvert_exporter": "python",
   "pygments_lexer": "ipython3",
   "version": "3.10.13"
  }
 },
 "nbformat": 4,
 "nbformat_minor": 2
}
