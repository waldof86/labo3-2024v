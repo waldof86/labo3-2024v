{
 "cells": [
  {
   "cell_type": "code",
   "execution_count": 1,
   "metadata": {},
   "outputs": [],
   "source": [
    "#import pandas as pd\n",
    "import polars as pl\n",
    "import numpy as np\n",
    "import json\n",
    "from datetime import datetime\n",
    "import matplotlib.pyplot as plt\n",
    "import os\n",
    "\n",
    "fase = '01_LecturaDatos'"
   ]
  },
  {
   "cell_type": "code",
   "execution_count": 2,
   "metadata": {},
   "outputs": [],
   "source": [
    "with open('gen_config.json', 'r') as file:\n",
    "    gen_config =json.load(file)"
   ]
  },
  {
   "cell_type": "code",
   "execution_count": 3,
   "metadata": {},
   "outputs": [
    {
     "name": "stdout",
     "output_type": "stream",
     "text": [
      "----------------------------------------------COMIENZA----------------------------------------------\n",
      "------------------------------------------01_LecturaDatos-------------------------------------------\n"
     ]
    }
   ],
   "source": [
    "folder = gen_config['folder']\n",
    "\n",
    "#salidas\n",
    "path_group = gen_config['path_group']\n",
    "path_prod_stats = gen_config['path_prod_stats']\n",
    "path_prod_data = gen_config['path_prod_data']\n",
    "path_stock_data = gen_config['path_stock_data']\n",
    "path_overall_prod_stats = gen_config['path_overall_prod_stats']\n",
    "\n",
    "print(f\"{'COMIENZA':-^100}\")\n",
    "print(f\"{fase:-^100}\")"
   ]
  },
  {
   "cell_type": "code",
   "execution_count": 4,
   "metadata": {},
   "outputs": [],
   "source": [
    "df = pl.read_csv('../sell-in.txt', separator='\\t')\n",
    "prod_a_predecir = pl.read_csv('../productos_a_predecir.txt', separator='\\t')\n",
    "prod_data = pl.read_csv('../tb_productos_descripcion.txt', separator='\\t')\n",
    "stock_data = pl.read_csv('../tb_stocks.txt', separator='\\t')"
   ]
  },
  {
   "cell_type": "code",
   "execution_count": 5,
   "metadata": {},
   "outputs": [],
   "source": [
    "df = df.filter(pl.col('product_id').is_in(prod_a_predecir['product_id']))"
   ]
  },
  {
   "cell_type": "code",
   "execution_count": 6,
   "metadata": {},
   "outputs": [],
   "source": [
    "df_grouped_prodcust = (\n",
    "    df.group_by(['periodo', 'product_id', 'customer_id'])\n",
    "    .agg(pl.col('tn').sum())\n",
    ")"
   ]
  },
  {
   "cell_type": "code",
   "execution_count": 7,
   "metadata": {},
   "outputs": [],
   "source": [
    "prod_stats = df_grouped_prodcust.group_by(['product_id','customer_id']).agg(\n",
    "    [\n",
    "        pl.min('periodo').alias('primer_periodo'),\n",
    "        pl.max('periodo').alias('ultimo_periodo'),\n",
    "        pl.len().alias('values'),\n",
    "        pl.sum('tn').alias('total_tn'),\n",
    "        pl.min('tn').alias('min_tn'),\n",
    "        pl.mean('tn').alias('average_tn'),\n",
    "        pl.median('tn').alias('median_tn'),\n",
    "        pl.std('tn').alias('std_dev_tn'),\n",
    "        (pl.col('tn').quantile(0.75) - pl.col('tn').quantile(0.25)).alias('iqr_tn'),\n",
    "        pl.max('tn').alias('max_tn')\n",
    "    ]\n",
    ").sort(['product_id', 'customer_id'])\n",
    "\n",
    "prod_stats = prod_stats.with_columns(\n",
    "    (pl.col(\"primer_periodo\").cast(pl.Utf8) + \"01\").str.to_date(\"%Y%m%d\"),\n",
    "    (pl.col(\"ultimo_periodo\").cast(pl.Utf8) + \"01\").str.to_date(\"%Y%m%d\")\n",
    ")"
   ]
  },
  {
   "cell_type": "code",
   "execution_count": 8,
   "metadata": {},
   "outputs": [],
   "source": [
    "df_grouped_prod = (\n",
    "    df.group_by(['periodo', 'product_id'])\n",
    "    .agg(pl.col('tn').sum())\n",
    ")"
   ]
  },
  {
   "cell_type": "code",
   "execution_count": 9,
   "metadata": {},
   "outputs": [],
   "source": [
    "weight_stats = df_grouped_prod.filter(pl.col('periodo') >= 201901).group_by(['product_id']).agg(\n",
    "    [\n",
    "        pl.sum('tn').alias('tot_weight'),\n",
    "        pl.mean('tn').alias('avg_weight'),\n",
    "        pl.median('tn').alias('med_weight'),\n",
    "    ]\n",
    ").sort(['product_id'])"
   ]
  },
  {
   "cell_type": "code",
   "execution_count": 10,
   "metadata": {},
   "outputs": [],
   "source": [
    "overall_prod_stats = df_grouped_prod.group_by(['product_id']).agg(\n",
    "    [\n",
    "        pl.min('periodo').alias('primer_periodo'),\n",
    "        pl.max('periodo').alias('ultimo_periodo'),\n",
    "        pl.len().alias('values'),\n",
    "        pl.sum('tn').alias('total_tn'),\n",
    "        pl.min('tn').alias('min_tn'),\n",
    "        pl.mean('tn').alias('average_tn'),\n",
    "        pl.median('tn').alias('median_tn'),\n",
    "        pl.std('tn').alias('std_dev_tn'),\n",
    "        (pl.col('tn').quantile(0.75) - pl.col('tn').quantile(0.25)).alias('iqr_tn'),\n",
    "        pl.max('tn').alias('max_tn'),\n",
    "    ]\n",
    ").sort(['product_id'])\n",
    "\n",
    "overall_prod_stats = overall_prod_stats.with_columns(\n",
    "    (pl.col(\"primer_periodo\").cast(pl.Utf8) + \"01\").str.to_date(\"%Y%m%d\"),\n",
    "    (pl.col(\"ultimo_periodo\").cast(pl.Utf8) + \"01\").str.to_date(\"%Y%m%d\")\n",
    ")\n",
    "\n",
    "overall_prod_stats = overall_prod_stats.join(weight_stats, on='product_id', how='left', coalesce=True)"
   ]
  },
  {
   "cell_type": "code",
   "execution_count": 11,
   "metadata": {},
   "outputs": [],
   "source": [
    "combinaciones = df_grouped_prodcust.select([\"product_id\", \"customer_id\"]).unique().sort([\"product_id\",'customer_id'])\n",
    "todos_periodos = df_grouped_prodcust.select([\"periodo\"]).unique().sort(\"periodo\")"
   ]
  },
  {
   "cell_type": "code",
   "execution_count": 12,
   "metadata": {},
   "outputs": [],
   "source": [
    "df_completo = combinaciones.join(todos_periodos, how=\"cross\")\n",
    "df_completo = df_completo.join(overall_prod_stats, on=[\"product_id\"], how=\"left\", coalesce=True).select([\"product_id\", \"customer_id\", \"periodo\", \"primer_periodo\", \"ultimo_periodo\"])\n",
    "df_completo = df_completo.with_columns([\n",
    "    ((pl.col(\"periodo\").cast(pl.Utf8) + \"01\").str.to_date(\"%Y%m%d\")).alias(\"periodo_dt\"),  \n",
    "])\n",
    "\n",
    "df_completo = df_completo.filter((pl.col('periodo_dt') >= pl.col('primer_periodo')) & (pl.col('periodo_dt') <= pl.col('ultimo_periodo')))\n",
    "\n",
    "df_completo = df_completo.join(df_grouped_prodcust, on=['product_id', 'customer_id','periodo'], how='left', coalesce=True)\n",
    "df_completo = df_completo.with_columns(\n",
    "    pl.col(\"tn\").fill_null(0)\n",
    ")\n",
    "df_completo = df_completo.drop(['primer_periodo','ultimo_periodo','periodo_dt'])"
   ]
  },
  {
   "cell_type": "code",
   "execution_count": 13,
   "metadata": {},
   "outputs": [],
   "source": [
    "df_completo.write_parquet(f'{folder}/{path_group}')\n",
    "prod_stats.write_parquet(f'{folder}/{path_prod_stats}')\n",
    "overall_prod_stats.write_parquet(f'{folder}/{path_overall_prod_stats}')\n",
    "prod_data.write_parquet(f'{folder}/{path_prod_data}')\n",
    "stock_data.write_parquet(f'{folder}/{path_stock_data}')"
   ]
  },
  {
   "cell_type": "code",
   "execution_count": 14,
   "metadata": {},
   "outputs": [
    {
     "name": "stdout",
     "output_type": "stream",
     "text": [
      "------------------------------------------01_LecturaDatos-------------------------------------------\n",
      "----------------------------------------------FINALIZA----------------------------------------------\n"
     ]
    }
   ],
   "source": [
    "print(f\"{fase:-^100}\")\n",
    "print(f\"{'FINALIZA':-^100}\")"
   ]
  }
 ],
 "metadata": {
  "kernelspec": {
   "display_name": "uni",
   "language": "python",
   "name": "python3"
  },
  "language_info": {
   "codemirror_mode": {
    "name": "ipython",
    "version": 3
   },
   "file_extension": ".py",
   "mimetype": "text/x-python",
   "name": "python",
   "nbconvert_exporter": "python",
   "pygments_lexer": "ipython3",
   "version": "3.10.14"
  }
 },
 "nbformat": 4,
 "nbformat_minor": 2
}
