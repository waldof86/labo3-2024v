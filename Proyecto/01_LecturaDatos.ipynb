{
 "cells": [
  {
   "cell_type": "code",
   "execution_count": 41,
   "metadata": {},
   "outputs": [],
   "source": [
    "#import pandas as pd\n",
    "import polars as pl\n",
    "import numpy as np\n",
    "import json\n",
    "from datetime import datetime\n",
    "import matplotlib.pyplot as plt\n",
    "import os\n",
    "\n",
    "fase = '01_LecturaDatos'"
   ]
  },
  {
   "cell_type": "code",
   "execution_count": 42,
   "metadata": {},
   "outputs": [],
   "source": [
    "with open('gen_config.json', 'r') as file:\n",
    "    gen_config =json.load(file)"
   ]
  },
  {
   "cell_type": "code",
   "execution_count": 43,
   "metadata": {},
   "outputs": [
    {
     "name": "stdout",
     "output_type": "stream",
     "text": [
      "----------------------------------------------COMIENZA----------------------------------------------\n",
      "------------------------------------------01_LecturaDatos-------------------------------------------\n"
     ]
    }
   ],
   "source": [
    "folder = gen_config['folder']\n",
    "\n",
    "#salidas\n",
    "path_group = gen_config['path_group']\n",
    "path_prod_stats = gen_config['path_prod_stats']\n",
    "path_prod_data = gen_config['path_prod_data']\n",
    "path_stock_data = gen_config['path_stock_data']\n",
    "path_overall_prod_stats = gen_config['path_overall_prod_stats']\n",
    "\n",
    "print(f\"{'COMIENZA':-^100}\")\n",
    "print(f\"{fase:-^100}\")"
   ]
  },
  {
   "cell_type": "code",
   "execution_count": 44,
   "metadata": {},
   "outputs": [],
   "source": [
    "df = pl.read_csv('../sell-in.txt', separator='\\t')\n",
    "prod_a_predecir = pl.read_csv('../productos_a_predecir.txt', separator='\\t')\n",
    "prod_data = pl.read_csv('../tb_productos_descripcion.txt', separator='\\t')\n",
    "stock_data = pl.read_csv('../tb_stocks.txt', separator='\\t')"
   ]
  },
  {
   "cell_type": "code",
   "execution_count": 45,
   "metadata": {},
   "outputs": [],
   "source": [
    "df = df.filter(pl.col('product_id').is_in(prod_a_predecir['product_id']))"
   ]
  },
  {
   "cell_type": "code",
   "execution_count": 46,
   "metadata": {},
   "outputs": [],
   "source": [
    "df_grouped_prodcust = (\n",
    "    df.group_by(['periodo', 'product_id', 'customer_id'])\n",
    "    .agg(pl.col('tn').sum())\n",
    ")"
   ]
  },
  {
   "cell_type": "code",
   "execution_count": 47,
   "metadata": {},
   "outputs": [],
   "source": [
    "prod_stats = df_grouped_prodcust.group_by(['product_id','customer_id']).agg(\n",
    "    [\n",
    "        pl.min('periodo').alias('primer_periodo'),\n",
    "        pl.max('periodo').alias('ultimo_periodo'),\n",
    "        pl.len().alias('values'),\n",
    "        pl.sum('tn').alias('total_tn'),\n",
    "        pl.min('tn').alias('min_tn'),\n",
    "        pl.mean('tn').alias('average_tn'),\n",
    "        pl.median('tn').alias('median_tn'),\n",
    "        pl.std('tn').alias('std_dev_tn'),\n",
    "        (pl.col('tn').quantile(0.75) - pl.col('tn').quantile(0.25)).alias('iqr_tn'),\n",
    "        pl.max('tn').alias('max_tn')\n",
    "    ]\n",
    ").sort(['product_id', 'customer_id'])\n",
    "\n",
    "prod_stats = prod_stats.with_columns(\n",
    "    (pl.col(\"primer_periodo\").cast(pl.Utf8) + \"01\").str.to_date(\"%Y%m%d\"),\n",
    "    (pl.col(\"ultimo_periodo\").cast(pl.Utf8) + \"01\").str.to_date(\"%Y%m%d\")\n",
    ")"
   ]
  },
  {
   "cell_type": "code",
   "execution_count": 48,
   "metadata": {},
   "outputs": [],
   "source": [
    "df_grouped_prod = (\n",
    "    df.group_by(['periodo', 'product_id'])\n",
    "    .agg(pl.col('tn').sum())\n",
    ")"
   ]
  },
  {
   "cell_type": "code",
   "execution_count": 49,
   "metadata": {},
   "outputs": [],
   "source": [
    "weight_stats = df_grouped_prod.filter(pl.col('periodo') >= 201901).group_by(['product_id']).agg(\n",
    "    [\n",
    "        pl.sum('tn').alias('tot_weight'),\n",
    "        pl.mean('tn').alias('avg_weight'),\n",
    "        pl.median('tn').alias('med_weight'),\n",
    "    ]\n",
    ").sort(['product_id'])"
   ]
  },
  {
   "cell_type": "code",
   "execution_count": 50,
   "metadata": {},
   "outputs": [],
   "source": [
    "overall_prod_stats = df_grouped_prod.group_by(['product_id']).agg(\n",
    "    [\n",
    "        pl.min('periodo').alias('primer_periodo'),\n",
    "        pl.max('periodo').alias('ultimo_periodo'),\n",
    "        pl.len().alias('values'),\n",
    "        pl.sum('tn').alias('total_tn'),\n",
    "        pl.min('tn').alias('min_tn'),\n",
    "        pl.mean('tn').alias('average_tn'),\n",
    "        pl.median('tn').alias('median_tn'),\n",
    "        pl.std('tn').alias('std_dev_tn'),\n",
    "        (pl.col('tn').quantile(0.75) - pl.col('tn').quantile(0.25)).alias('iqr_tn'),\n",
    "        pl.max('tn').alias('max_tn'),\n",
    "    ]\n",
    ").sort(['product_id'])\n",
    "\n",
    "overall_prod_stats = overall_prod_stats.with_columns(\n",
    "    (pl.col(\"primer_periodo\").cast(pl.Utf8) + \"01\").str.to_date(\"%Y%m%d\"),\n",
    "    (pl.col(\"ultimo_periodo\").cast(pl.Utf8) + \"01\").str.to_date(\"%Y%m%d\")\n",
    ")\n",
    "\n",
    "overall_prod_stats = overall_prod_stats.join(weight_stats, on='product_id', how='left', coalesce=True)"
   ]
  },
  {
   "cell_type": "code",
   "execution_count": 51,
   "metadata": {},
   "outputs": [],
   "source": [
    "combinaciones = df_grouped_prodcust.select([\"product_id\", \"customer_id\"]).unique().sort([\"product_id\",'customer_id'])\n",
    "todos_periodos = df_grouped_prodcust.select([\"periodo\"]).unique().sort(\"periodo\")"
   ]
  },
  {
   "cell_type": "code",
   "execution_count": 52,
   "metadata": {},
   "outputs": [],
   "source": [
    "df_completo = combinaciones.join(todos_periodos, how=\"cross\")\n",
    "df_completo = df_completo.join(overall_prod_stats, on=[\"product_id\"], how=\"left\", coalesce=True).select([\"product_id\", \"customer_id\", \"periodo\", \"primer_periodo\", \"ultimo_periodo\"])\n",
    "df_completo = df_completo.with_columns([\n",
    "    ((pl.col(\"periodo\").cast(pl.Utf8) + \"01\").str.to_date(\"%Y%m%d\")).alias(\"periodo_dt\"),  \n",
    "])\n",
    "\n",
    "df_completo = df_completo.filter((pl.col('periodo_dt') >= pl.col('primer_periodo')) & (pl.col('periodo_dt') <= pl.col('ultimo_periodo')))\n",
    "\n",
    "df_completo = df_completo.join(df_grouped_prodcust, on=['product_id', 'customer_id','periodo'], how='left', coalesce=True)\n",
    "df_completo = df_completo.with_columns(\n",
    "    pl.col(\"tn\").fill_null(0)\n",
    ")\n",
    "df_completo = df_completo.drop(['primer_periodo','ultimo_periodo','periodo_dt'])"
   ]
  },
  {
   "cell_type": "code",
   "execution_count": 53,
   "metadata": {},
   "outputs": [
    {
     "data": {
      "text/html": [
       "<div><style>\n",
       ".dataframe > thead > tr,\n",
       ".dataframe > tbody > tr {\n",
       "  text-align: right;\n",
       "  white-space: pre-wrap;\n",
       "}\n",
       "</style>\n",
       "<small>shape: (1_251, 9)</small><table border=\"1\" class=\"dataframe\"><thead><tr><th>cat1</th><th>cat2</th><th>cat3</th><th>brand</th><th>sku_size</th><th>product_id</th><th>descripcion</th><th>max_skusize</th><th>min_skusize</th></tr><tr><td>str</td><td>str</td><td>str</td><td>str</td><td>i64</td><td>i64</td><td>str</td><td>i64</td><td>i64</td></tr></thead><tbody><tr><td>&quot;FOODS&quot;</td><td>&quot;ADEREZOS&quot;</td><td>&quot;Aji Picante&quot;</td><td>&quot;NATURA&quot;</td><td>240</td><td>20609</td><td>&quot;Salsa Aji Picante&quot;</td><td>240</td><td>240</td></tr><tr><td>&quot;FOODS&quot;</td><td>&quot;ADEREZOS&quot;</td><td>&quot;Barbacoa&quot;</td><td>&quot;NATURA&quot;</td><td>250</td><td>20266</td><td>&quot;Salsa Barbacoa&quot;</td><td>500</td><td>250</td></tr><tr><td>&quot;FOODS&quot;</td><td>&quot;ADEREZOS&quot;</td><td>&quot;Barbacoa&quot;</td><td>&quot;NATURA&quot;</td><td>400</td><td>20325</td><td>&quot;Salsa Barbacoa&quot;</td><td>500</td><td>250</td></tr><tr><td>&quot;FOODS&quot;</td><td>&quot;ADEREZOS&quot;</td><td>&quot;Barbacoa&quot;</td><td>&quot;NATURA&quot;</td><td>500</td><td>20503</td><td>&quot;Salsa Barbacoa&quot;</td><td>500</td><td>250</td></tr><tr><td>&quot;FOODS&quot;</td><td>&quot;ADEREZOS&quot;</td><td>&quot;Chimichurri&quot;</td><td>&quot;NATURA&quot;</td><td>350</td><td>20797</td><td>&quot;Chimichurri&quot;</td><td>350</td><td>350</td></tr><tr><td>&hellip;</td><td>&hellip;</td><td>&hellip;</td><td>&hellip;</td><td>&hellip;</td><td>&hellip;</td><td>&hellip;</td><td>&hellip;</td><td>&hellip;</td></tr><tr><td>&quot;REF&quot;</td><td>&quot;TE&quot;</td><td>&quot;Frutas&quot;</td><td>&quot;TWININGS&quot;</td><td>20</td><td>21271</td><td>&quot;Frutas&quot;</td><td>20</td><td>20</td></tr><tr><td>&quot;REF&quot;</td><td>&quot;TE&quot;</td><td>&quot;Hierbas&quot;</td><td>&quot;TWININGS&quot;</td><td>20</td><td>21202</td><td>&quot;Manzanilla&quot;</td><td>20</td><td>20</td></tr><tr><td>&quot;REF&quot;</td><td>&quot;TE&quot;</td><td>&quot;Hierbas&quot;</td><td>&quot;TWININGS&quot;</td><td>20</td><td>21218</td><td>&quot;Menta&quot;</td><td>20</td><td>20</td></tr><tr><td>&quot;REF&quot;</td><td>&quot;TE&quot;</td><td>&quot;Verde&quot;</td><td>&quot;TWININGS&quot;</td><td>20</td><td>21192</td><td>&quot;Verde&quot;</td><td>20</td><td>20</td></tr><tr><td>&quot;REF&quot;</td><td>&quot;TE&quot;</td><td>&quot;Verde&quot;</td><td>&quot;TWININGS&quot;</td><td>20</td><td>21222</td><td>&quot;Verde con Menta&quot;</td><td>20</td><td>20</td></tr></tbody></table></div>"
      ],
      "text/plain": [
       "shape: (1_251, 9)\n",
       "┌───────┬──────────┬────────────┬──────────┬───┬────────────┬────────────┬────────────┬────────────┐\n",
       "│ cat1  ┆ cat2     ┆ cat3       ┆ brand    ┆ … ┆ product_id ┆ descripcio ┆ max_skusiz ┆ min_skusiz │\n",
       "│ ---   ┆ ---      ┆ ---        ┆ ---      ┆   ┆ ---        ┆ n          ┆ e          ┆ e          │\n",
       "│ str   ┆ str      ┆ str        ┆ str      ┆   ┆ i64        ┆ ---        ┆ ---        ┆ ---        │\n",
       "│       ┆          ┆            ┆          ┆   ┆            ┆ str        ┆ i64        ┆ i64        │\n",
       "╞═══════╪══════════╪════════════╪══════════╪═══╪════════════╪════════════╪════════════╪════════════╡\n",
       "│ FOODS ┆ ADEREZOS ┆ Aji        ┆ NATURA   ┆ … ┆ 20609      ┆ Salsa Aji  ┆ 240        ┆ 240        │\n",
       "│       ┆          ┆ Picante    ┆          ┆   ┆            ┆ Picante    ┆            ┆            │\n",
       "│ FOODS ┆ ADEREZOS ┆ Barbacoa   ┆ NATURA   ┆ … ┆ 20266      ┆ Salsa      ┆ 500        ┆ 250        │\n",
       "│       ┆          ┆            ┆          ┆   ┆            ┆ Barbacoa   ┆            ┆            │\n",
       "│ FOODS ┆ ADEREZOS ┆ Barbacoa   ┆ NATURA   ┆ … ┆ 20325      ┆ Salsa      ┆ 500        ┆ 250        │\n",
       "│       ┆          ┆            ┆          ┆   ┆            ┆ Barbacoa   ┆            ┆            │\n",
       "│ FOODS ┆ ADEREZOS ┆ Barbacoa   ┆ NATURA   ┆ … ┆ 20503      ┆ Salsa      ┆ 500        ┆ 250        │\n",
       "│       ┆          ┆            ┆          ┆   ┆            ┆ Barbacoa   ┆            ┆            │\n",
       "│ FOODS ┆ ADEREZOS ┆ Chimichurr ┆ NATURA   ┆ … ┆ 20797      ┆ Chimichurr ┆ 350        ┆ 350        │\n",
       "│       ┆          ┆ i          ┆          ┆   ┆            ┆ i          ┆            ┆            │\n",
       "│ …     ┆ …        ┆ …          ┆ …        ┆ … ┆ …          ┆ …          ┆ …          ┆ …          │\n",
       "│ REF   ┆ TE       ┆ Frutas     ┆ TWININGS ┆ … ┆ 21271      ┆ Frutas     ┆ 20         ┆ 20         │\n",
       "│ REF   ┆ TE       ┆ Hierbas    ┆ TWININGS ┆ … ┆ 21202      ┆ Manzanilla ┆ 20         ┆ 20         │\n",
       "│ REF   ┆ TE       ┆ Hierbas    ┆ TWININGS ┆ … ┆ 21218      ┆ Menta      ┆ 20         ┆ 20         │\n",
       "│ REF   ┆ TE       ┆ Verde      ┆ TWININGS ┆ … ┆ 21192      ┆ Verde      ┆ 20         ┆ 20         │\n",
       "│ REF   ┆ TE       ┆ Verde      ┆ TWININGS ┆ … ┆ 21222      ┆ Verde con  ┆ 20         ┆ 20         │\n",
       "│       ┆          ┆            ┆          ┆   ┆            ┆ Menta      ┆            ┆            │\n",
       "└───────┴──────────┴────────────┴──────────┴───┴────────────┴────────────┴────────────┴────────────┘"
      ]
     },
     "execution_count": 53,
     "metadata": {},
     "output_type": "execute_result"
    }
   ],
   "source": [
    "prod_data_skuinfo = prod_data.select(['cat1', 'cat2', 'cat3', 'brand','descripcion','sku_size'])\n",
    "prod_data_skuinfo = prod_data_skuinfo.set_sorted(\"cat1\", \"cat2\", \"cat3\", \"brand\", \"descripcion\")\n",
    "prod_data_skuinfo = prod_data_skuinfo.group_by(['cat1', 'cat2', 'cat3', 'brand', 'descripcion']).agg([\n",
    "    pl.col(\"sku_size\").max().alias(\"max_skusize\"),\n",
    "    pl.col(\"sku_size\").min().alias(\"min_skusize\"),\n",
    "    ])\n",
    "prod_data = prod_data.join(prod_data_skuinfo, on=['cat1', 'cat2', 'cat3', 'brand', 'descripcion'], how='left', coalesce=True)\n"
   ]
  },
  {
   "cell_type": "code",
   "execution_count": 56,
   "metadata": {},
   "outputs": [
    {
     "data": {
      "text/html": [
       "<div><style>\n",
       ".dataframe > thead > tr,\n",
       ".dataframe > tbody > tr {\n",
       "  text-align: right;\n",
       "  white-space: pre-wrap;\n",
       "}\n",
       "</style>\n",
       "<small>shape: (1_251, 9)</small><table border=\"1\" class=\"dataframe\"><thead><tr><th>cat1</th><th>cat2</th><th>cat3</th><th>brand</th><th>sku_size</th><th>product_id</th><th>descripcion</th><th>max_skusize</th><th>min_skusize</th></tr><tr><td>str</td><td>str</td><td>str</td><td>str</td><td>i64</td><td>i64</td><td>str</td><td>i64</td><td>i64</td></tr></thead><tbody><tr><td>&quot;FOODS&quot;</td><td>&quot;ADEREZOS&quot;</td><td>&quot;Aji Picante&quot;</td><td>&quot;NATURA&quot;</td><td>240</td><td>20609</td><td>&quot;Salsa Aji Picante&quot;</td><td>240</td><td>240</td></tr><tr><td>&quot;FOODS&quot;</td><td>&quot;ADEREZOS&quot;</td><td>&quot;Barbacoa&quot;</td><td>&quot;NATURA&quot;</td><td>250</td><td>20266</td><td>&quot;Salsa Barbacoa&quot;</td><td>500</td><td>250</td></tr><tr><td>&quot;FOODS&quot;</td><td>&quot;ADEREZOS&quot;</td><td>&quot;Barbacoa&quot;</td><td>&quot;NATURA&quot;</td><td>400</td><td>20325</td><td>&quot;Salsa Barbacoa&quot;</td><td>500</td><td>250</td></tr><tr><td>&quot;FOODS&quot;</td><td>&quot;ADEREZOS&quot;</td><td>&quot;Barbacoa&quot;</td><td>&quot;NATURA&quot;</td><td>500</td><td>20503</td><td>&quot;Salsa Barbacoa&quot;</td><td>500</td><td>250</td></tr><tr><td>&quot;FOODS&quot;</td><td>&quot;ADEREZOS&quot;</td><td>&quot;Chimichurri&quot;</td><td>&quot;NATURA&quot;</td><td>350</td><td>20797</td><td>&quot;Chimichurri&quot;</td><td>350</td><td>350</td></tr><tr><td>&hellip;</td><td>&hellip;</td><td>&hellip;</td><td>&hellip;</td><td>&hellip;</td><td>&hellip;</td><td>&hellip;</td><td>&hellip;</td><td>&hellip;</td></tr><tr><td>&quot;REF&quot;</td><td>&quot;TE&quot;</td><td>&quot;Frutas&quot;</td><td>&quot;TWININGS&quot;</td><td>20</td><td>21271</td><td>&quot;Frutas&quot;</td><td>20</td><td>20</td></tr><tr><td>&quot;REF&quot;</td><td>&quot;TE&quot;</td><td>&quot;Hierbas&quot;</td><td>&quot;TWININGS&quot;</td><td>20</td><td>21202</td><td>&quot;Manzanilla&quot;</td><td>20</td><td>20</td></tr><tr><td>&quot;REF&quot;</td><td>&quot;TE&quot;</td><td>&quot;Hierbas&quot;</td><td>&quot;TWININGS&quot;</td><td>20</td><td>21218</td><td>&quot;Menta&quot;</td><td>20</td><td>20</td></tr><tr><td>&quot;REF&quot;</td><td>&quot;TE&quot;</td><td>&quot;Verde&quot;</td><td>&quot;TWININGS&quot;</td><td>20</td><td>21192</td><td>&quot;Verde&quot;</td><td>20</td><td>20</td></tr><tr><td>&quot;REF&quot;</td><td>&quot;TE&quot;</td><td>&quot;Verde&quot;</td><td>&quot;TWININGS&quot;</td><td>20</td><td>21222</td><td>&quot;Verde con Menta&quot;</td><td>20</td><td>20</td></tr></tbody></table></div>"
      ],
      "text/plain": [
       "shape: (1_251, 9)\n",
       "┌───────┬──────────┬────────────┬──────────┬───┬────────────┬────────────┬────────────┬────────────┐\n",
       "│ cat1  ┆ cat2     ┆ cat3       ┆ brand    ┆ … ┆ product_id ┆ descripcio ┆ max_skusiz ┆ min_skusiz │\n",
       "│ ---   ┆ ---      ┆ ---        ┆ ---      ┆   ┆ ---        ┆ n          ┆ e          ┆ e          │\n",
       "│ str   ┆ str      ┆ str        ┆ str      ┆   ┆ i64        ┆ ---        ┆ ---        ┆ ---        │\n",
       "│       ┆          ┆            ┆          ┆   ┆            ┆ str        ┆ i64        ┆ i64        │\n",
       "╞═══════╪══════════╪════════════╪══════════╪═══╪════════════╪════════════╪════════════╪════════════╡\n",
       "│ FOODS ┆ ADEREZOS ┆ Aji        ┆ NATURA   ┆ … ┆ 20609      ┆ Salsa Aji  ┆ 240        ┆ 240        │\n",
       "│       ┆          ┆ Picante    ┆          ┆   ┆            ┆ Picante    ┆            ┆            │\n",
       "│ FOODS ┆ ADEREZOS ┆ Barbacoa   ┆ NATURA   ┆ … ┆ 20266      ┆ Salsa      ┆ 500        ┆ 250        │\n",
       "│       ┆          ┆            ┆          ┆   ┆            ┆ Barbacoa   ┆            ┆            │\n",
       "│ FOODS ┆ ADEREZOS ┆ Barbacoa   ┆ NATURA   ┆ … ┆ 20325      ┆ Salsa      ┆ 500        ┆ 250        │\n",
       "│       ┆          ┆            ┆          ┆   ┆            ┆ Barbacoa   ┆            ┆            │\n",
       "│ FOODS ┆ ADEREZOS ┆ Barbacoa   ┆ NATURA   ┆ … ┆ 20503      ┆ Salsa      ┆ 500        ┆ 250        │\n",
       "│       ┆          ┆            ┆          ┆   ┆            ┆ Barbacoa   ┆            ┆            │\n",
       "│ FOODS ┆ ADEREZOS ┆ Chimichurr ┆ NATURA   ┆ … ┆ 20797      ┆ Chimichurr ┆ 350        ┆ 350        │\n",
       "│       ┆          ┆ i          ┆          ┆   ┆            ┆ i          ┆            ┆            │\n",
       "│ …     ┆ …        ┆ …          ┆ …        ┆ … ┆ …          ┆ …          ┆ …          ┆ …          │\n",
       "│ REF   ┆ TE       ┆ Frutas     ┆ TWININGS ┆ … ┆ 21271      ┆ Frutas     ┆ 20         ┆ 20         │\n",
       "│ REF   ┆ TE       ┆ Hierbas    ┆ TWININGS ┆ … ┆ 21202      ┆ Manzanilla ┆ 20         ┆ 20         │\n",
       "│ REF   ┆ TE       ┆ Hierbas    ┆ TWININGS ┆ … ┆ 21218      ┆ Menta      ┆ 20         ┆ 20         │\n",
       "│ REF   ┆ TE       ┆ Verde      ┆ TWININGS ┆ … ┆ 21192      ┆ Verde      ┆ 20         ┆ 20         │\n",
       "│ REF   ┆ TE       ┆ Verde      ┆ TWININGS ┆ … ┆ 21222      ┆ Verde con  ┆ 20         ┆ 20         │\n",
       "│       ┆          ┆            ┆          ┆   ┆            ┆ Menta      ┆            ┆            │\n",
       "└───────┴──────────┴────────────┴──────────┴───┴────────────┴────────────┴────────────┴────────────┘"
      ]
     },
     "execution_count": 56,
     "metadata": {},
     "output_type": "execute_result"
    }
   ],
   "source": [
    "prod_data"
   ]
  },
  {
   "cell_type": "code",
   "execution_count": 61,
   "metadata": {},
   "outputs": [],
   "source": [
    "conditional_expr = (\n",
    "    pl.when((pl.col('sku_size') == pl.col('max_skusize')) & (pl.col('sku_size') == pl.col('min_skusize')) )\n",
    "    .then(pl.lit(\"Unico\"))\n",
    "    .when((pl.col('sku_size') == pl.col('max_skusize')))\n",
    "    .then(pl.lit(\"Grande\"))\n",
    "    .when((pl.col('sku_size') == pl.col('min_skusize')))\n",
    "    .then(pl.lit(\"Chico\"))\n",
    "    .otherwise(pl.lit(\"Medio\"))\n",
    ")\n",
    "\n",
    "prod_data = prod_data.with_columns(conditional_expr.cast(pl.Categorical).alias('presentacion'))"
   ]
  },
  {
   "cell_type": "code",
   "execution_count": 62,
   "metadata": {},
   "outputs": [],
   "source": [
    "df_completo.write_parquet(f'{folder}/{path_group}')\n",
    "prod_stats.write_parquet(f'{folder}/{path_prod_stats}')\n",
    "overall_prod_stats.write_parquet(f'{folder}/{path_overall_prod_stats}')\n",
    "prod_data.write_parquet(f'{folder}/{path_prod_data}')\n",
    "stock_data.write_parquet(f'{folder}/{path_stock_data}')"
   ]
  },
  {
   "cell_type": "code",
   "execution_count": 63,
   "metadata": {},
   "outputs": [
    {
     "name": "stdout",
     "output_type": "stream",
     "text": [
      "------------------------------------------01_LecturaDatos-------------------------------------------\n",
      "----------------------------------------------FINALIZA----------------------------------------------\n"
     ]
    }
   ],
   "source": [
    "print(f\"{fase:-^100}\")\n",
    "print(f\"{'FINALIZA':-^100}\")"
   ]
  }
 ],
 "metadata": {
  "kernelspec": {
   "display_name": "uni",
   "language": "python",
   "name": "python3"
  },
  "language_info": {
   "codemirror_mode": {
    "name": "ipython",
    "version": 3
   },
   "file_extension": ".py",
   "mimetype": "text/x-python",
   "name": "python",
   "nbconvert_exporter": "python",
   "pygments_lexer": "ipython3",
   "version": "3.10.14"
  }
 },
 "nbformat": 4,
 "nbformat_minor": 2
}
