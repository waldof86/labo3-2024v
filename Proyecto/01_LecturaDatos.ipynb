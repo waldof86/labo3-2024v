{
 "cells": [
  {
   "cell_type": "code",
   "execution_count": 1,
   "metadata": {},
   "outputs": [],
   "source": [
    "import pandas as pd\n",
    "import numpy as np\n",
    "import json\n",
    "from datetime import datetime\n",
    "import matplotlib.pyplot as plt\n",
    "import os\n",
    "\n",
    "fase = '01_LecturaDatos'"
   ]
  },
  {
   "cell_type": "code",
   "execution_count": 2,
   "metadata": {},
   "outputs": [],
   "source": [
    "with open('gen_config.json', 'r') as file:\n",
    "    gen_config =json.load(file)"
   ]
  },
  {
   "cell_type": "code",
   "execution_count": 3,
   "metadata": {},
   "outputs": [
    {
     "name": "stdout",
     "output_type": "stream",
     "text": [
      "----------------------------------------------COMIENZA----------------------------------------------\n",
      "------------------------------------------01_LecturaDatos-------------------------------------------\n"
     ]
    }
   ],
   "source": [
    "folder = gen_config['folder']\n",
    "\n",
    "path_group = gen_config['path_group']\n",
    "path_prod_stats = gen_config['path_prod_stats']\n",
    "path_prod_data = gen_config['path_prod_data']\n",
    "#path_prod_data_group = gen_config['path_prod_data_group']\n",
    "#path_prod_data_ungroup = gen_config['path_prod_data']\n",
    "path_stock_data = gen_config['path_stock_data']\n",
    "\n",
    "#periodo_rep_start = gen_config['var_periodo_rep_start']\n",
    "#periodo_rep_end = gen_config['var_periodo_rep_end']\n",
    "\n",
    "print(f\"{'COMIENZA':-^100}\")\n",
    "print(f\"{fase:-^100}\")"
   ]
  },
  {
   "cell_type": "code",
   "execution_count": 4,
   "metadata": {},
   "outputs": [],
   "source": [
    "df = pd.read_csv('../sell-in.txt',sep='\\t')\n",
    "prod_a_predecir = pd.read_csv('../productos_a_predecir.txt', sep='\\t')\n",
    "prod_data = pd.read_csv('../tb_productos_descripcion.txt', sep='\\t')\n",
    "stock_data = pd.read_csv('../tb_stocks.txt', sep='\\t')"
   ]
  },
  {
   "cell_type": "code",
   "execution_count": 5,
   "metadata": {},
   "outputs": [],
   "source": [
    "#filtrar los de la lista final\n",
    "df = df[df['product_id'].isin(prod_a_predecir['product_id'])]"
   ]
  },
  {
   "cell_type": "code",
   "execution_count": 32,
   "metadata": {},
   "outputs": [],
   "source": [
    "# prod_data_group = prod_data_ungroup.groupby(['cat1','cat2','cat3','brand','descripcion'],\n",
    "#                             observed=False,\n",
    "#                             as_index=False,\n",
    "#                             group_keys=True\n",
    "#                             ).count()\n",
    "# prod_data_group['group_index'] = prod_data_group.index\n",
    "# prod_data_group.rename(columns={'sku_size': 'sku_size_count', 'product_id': 'product_id_count'},\n",
    "#                         inplace=True)\n",
    "\n",
    "# prod_data_ungroup = prod_data_ungroup.merge(prod_data_group.drop(\n",
    "#     columns=['sku_size_count','product_id_count']),\n",
    "#     on=['cat1','cat2','cat3','brand','descripcion'],\n",
    "#     how='left')"
   ]
  },
  {
   "cell_type": "code",
   "execution_count": 33,
   "metadata": {},
   "outputs": [],
   "source": [
    "# for col in prod_data_group.select_dtypes(include=['object']).columns:\n",
    "#     prod_data_group[col] = prod_data_group[col].astype('category')\n",
    "\n",
    "# for col in prod_data_ungroup.select_dtypes(include=['object']).columns:\n",
    "#     prod_data_ungroup[col] = prod_data_ungroup[col].astype('category')"
   ]
  },
  {
   "cell_type": "code",
   "execution_count": 34,
   "metadata": {},
   "outputs": [],
   "source": [
    "df_grouped = df.groupby(['periodo', 'product_id', 'customer_id'])[['tn']].sum().reset_index()"
   ]
  },
  {
   "cell_type": "code",
   "execution_count": 35,
   "metadata": {},
   "outputs": [],
   "source": [
    "#df_grouped = df_grouped.merge(prod_data_ungroup, on='product_id', how='left')"
   ]
  },
  {
   "cell_type": "code",
   "execution_count": 36,
   "metadata": {},
   "outputs": [],
   "source": [
    "# print(f\"Unicos:\\n{df.nunique()}\\n\\n\")\n",
    "# print(f\"Nulos:\\n{df.isnull().sum()}\")"
   ]
  },
  {
   "cell_type": "code",
   "execution_count": 37,
   "metadata": {},
   "outputs": [],
   "source": [
    "# df_grouped = df_grouped.groupby(['periodo', 'group_index']).sum().reset_index()"
   ]
  },
  {
   "cell_type": "code",
   "execution_count": 38,
   "metadata": {},
   "outputs": [],
   "source": [
    "# df_grouped['group_index'] = df_grouped['group_index'].astype(int)"
   ]
  },
  {
   "cell_type": "code",
   "execution_count": 39,
   "metadata": {},
   "outputs": [],
   "source": [
    "# df_grouped = df_grouped[['group_index', 'periodo', 'tn']]\n",
    "# df_grouped.sort_values(by=['group_index', 'periodo'], inplace=True)\n",
    "# df_grouped.reset_index(drop=True, inplace=True)"
   ]
  },
  {
   "cell_type": "code",
   "execution_count": 40,
   "metadata": {},
   "outputs": [],
   "source": [
    "# print(f\"{'Tamaño data_grouped':.<25}: {df_grouped.shape}\")\n",
    "# df_grouped.head()"
   ]
  },
  {
   "cell_type": "code",
   "execution_count": 42,
   "metadata": {},
   "outputs": [
    {
     "data": {
      "text/html": [
       "<div>\n",
       "<style scoped>\n",
       "    .dataframe tbody tr th:only-of-type {\n",
       "        vertical-align: middle;\n",
       "    }\n",
       "\n",
       "    .dataframe tbody tr th {\n",
       "        vertical-align: top;\n",
       "    }\n",
       "\n",
       "    .dataframe thead th {\n",
       "        text-align: right;\n",
       "    }\n",
       "</style>\n",
       "<table border=\"1\" class=\"dataframe\">\n",
       "  <thead>\n",
       "    <tr style=\"text-align: right;\">\n",
       "      <th></th>\n",
       "      <th>periodo</th>\n",
       "      <th>product_id</th>\n",
       "      <th>customer_id</th>\n",
       "      <th>tn</th>\n",
       "    </tr>\n",
       "  </thead>\n",
       "  <tbody>\n",
       "    <tr>\n",
       "      <th>0</th>\n",
       "      <td>201701</td>\n",
       "      <td>20001</td>\n",
       "      <td>10001</td>\n",
       "      <td>99.43861</td>\n",
       "    </tr>\n",
       "    <tr>\n",
       "      <th>1</th>\n",
       "      <td>201701</td>\n",
       "      <td>20001</td>\n",
       "      <td>10002</td>\n",
       "      <td>35.72806</td>\n",
       "    </tr>\n",
       "    <tr>\n",
       "      <th>2</th>\n",
       "      <td>201701</td>\n",
       "      <td>20001</td>\n",
       "      <td>10003</td>\n",
       "      <td>143.49426</td>\n",
       "    </tr>\n",
       "    <tr>\n",
       "      <th>3</th>\n",
       "      <td>201701</td>\n",
       "      <td>20001</td>\n",
       "      <td>10004</td>\n",
       "      <td>184.72927</td>\n",
       "    </tr>\n",
       "    <tr>\n",
       "      <th>4</th>\n",
       "      <td>201701</td>\n",
       "      <td>20001</td>\n",
       "      <td>10005</td>\n",
       "      <td>19.08407</td>\n",
       "    </tr>\n",
       "    <tr>\n",
       "      <th>...</th>\n",
       "      <td>...</td>\n",
       "      <td>...</td>\n",
       "      <td>...</td>\n",
       "      <td>...</td>\n",
       "    </tr>\n",
       "    <tr>\n",
       "      <th>2293476</th>\n",
       "      <td>201912</td>\n",
       "      <td>21267</td>\n",
       "      <td>10219</td>\n",
       "      <td>0.00131</td>\n",
       "    </tr>\n",
       "    <tr>\n",
       "      <th>2293477</th>\n",
       "      <td>201912</td>\n",
       "      <td>21276</td>\n",
       "      <td>10029</td>\n",
       "      <td>0.00075</td>\n",
       "    </tr>\n",
       "    <tr>\n",
       "      <th>2293478</th>\n",
       "      <td>201912</td>\n",
       "      <td>21276</td>\n",
       "      <td>10052</td>\n",
       "      <td>0.00594</td>\n",
       "    </tr>\n",
       "    <tr>\n",
       "      <th>2293479</th>\n",
       "      <td>201912</td>\n",
       "      <td>21276</td>\n",
       "      <td>10219</td>\n",
       "      <td>0.00075</td>\n",
       "    </tr>\n",
       "    <tr>\n",
       "      <th>2293480</th>\n",
       "      <td>201912</td>\n",
       "      <td>21276</td>\n",
       "      <td>10289</td>\n",
       "      <td>0.00148</td>\n",
       "    </tr>\n",
       "  </tbody>\n",
       "</table>\n",
       "<p>2293481 rows × 4 columns</p>\n",
       "</div>"
      ],
      "text/plain": [
       "         periodo  product_id  customer_id         tn\n",
       "0         201701       20001        10001   99.43861\n",
       "1         201701       20001        10002   35.72806\n",
       "2         201701       20001        10003  143.49426\n",
       "3         201701       20001        10004  184.72927\n",
       "4         201701       20001        10005   19.08407\n",
       "...          ...         ...          ...        ...\n",
       "2293476   201912       21267        10219    0.00131\n",
       "2293477   201912       21276        10029    0.00075\n",
       "2293478   201912       21276        10052    0.00594\n",
       "2293479   201912       21276        10219    0.00075\n",
       "2293480   201912       21276        10289    0.00148\n",
       "\n",
       "[2293481 rows x 4 columns]"
      ]
     },
     "execution_count": 42,
     "metadata": {},
     "output_type": "execute_result"
    }
   ],
   "source": [
    "df_grouped"
   ]
  },
  {
   "cell_type": "code",
   "execution_count": 43,
   "metadata": {},
   "outputs": [],
   "source": [
    "# probar tambien agregar nievl producto para features\n",
    "\n",
    "prod_stats = df_grouped.groupby(['product_id','customer_id']).apply(lambda group: pd.Series({\n",
    "    'primer_periodo': group['periodo'].min(),\n",
    "    'ultimo_periodo': group['periodo'].max(),\n",
    "    'values': group['tn'].count(),\n",
    "    'total_tn': group['tn'].sum(),\n",
    "    'min_tn': group['tn'].min(),\n",
    "    'average_tn': group['tn'].mean(),\n",
    "    'median_tn': group['tn'].median(),\n",
    "    'std_dev_tn': group['tn'].std(),\n",
    "    'iqr_tn': (group['tn'].quantile(0.75) - group['tn'].quantile(0.25)),\n",
    "    'max_tn': group['tn'].max()\n",
    "}))\n",
    "prod_stats['primer_periodo'] = prod_stats['primer_periodo'].astype(int)\n",
    "prod_stats['primer_periodo'] = pd.to_datetime(prod_stats['primer_periodo'].astype(str), format='%Y%m')\n",
    "\n",
    "prod_stats['ultimo_periodo'] = prod_stats['ultimo_periodo'].astype(int)\n",
    "prod_stats['ultimo_periodo'] = pd.to_datetime(prod_stats['ultimo_periodo'].astype(str), format='%Y%m')\n",
    "\n",
    "prod_stats.reset_index(inplace=True)"
   ]
  },
  {
   "cell_type": "code",
   "execution_count": null,
   "metadata": {},
   "outputs": [],
   "source": [
    "# df_prod_level = df[['product_id', 'periodo', 'tn']].groupby(['product_id', 'periodo'], as_index=False).sum()\n",
    "# df_prod_level.sort_values(by=['product_id', 'periodo'], inplace=True)\n",
    "\n",
    "# df_prod_level = df_prod_level.merge(prod_data_ungroup[['product_id','group_index']], on='product_id', how='left')\n",
    "\n",
    "# df_prod_level = df_prod_level[(df_prod_level['periodo'] >= periodo_rep_start) & (df_prod_level['periodo'] <= periodo_rep_end)]\n",
    "\n",
    "# df_prod_level = df_prod_level.groupby(['product_id','group_index'],\n",
    "#             as_index=False).apply(lambda group: pd.Series({\n",
    "#                     'cuenta': group['periodo'].nunique(),\n",
    "#                     'tn': group['tn'].sum(),}))\n",
    "\n",
    "# df_prod_level['group_sum'] = df_prod_level.groupby('group_index')['tn'].transform('sum')\n",
    "# df_prod_level['proporcion'] = df_prod_level['tn'] / df_prod_level['group_sum']\n",
    "\n",
    "# df_prod_level.sort_values(by=['group_index', 'product_id'], inplace=True)\n",
    "# #df_prod_level = df_prod_level.merge(prod_stats, on='group_index', how='left')\n",
    "\n",
    "# df_prod_level = df_prod_level[['product_id','group_index','proporcion']]\n",
    "\n",
    "# prod_data_ungroup = prod_data_ungroup.merge(df_prod_level, on=['product_id','group_index'], how='left')"
   ]
  },
  {
   "cell_type": "code",
   "execution_count": 44,
   "metadata": {},
   "outputs": [
    {
     "name": "stdout",
     "output_type": "stream",
     "text": [
      "Tamaño prod_stats........: (262805, 12)\n"
     ]
    }
   ],
   "source": [
    "print(f\"{'Tamaño prod_stats':.<25}: {prod_stats.shape}\")\n",
    "# prod_stats.head()"
   ]
  },
  {
   "cell_type": "code",
   "execution_count": 45,
   "metadata": {},
   "outputs": [],
   "source": [
    "if not os.path.exists(folder):\n",
    "    os.makedirs(folder)\n",
    "\n",
    "df_grouped.to_parquet(f'{folder}/{path_group}', index=False)\n",
    "prod_stats.to_parquet(f'{folder}/{path_prod_stats}', index=False)\n",
    "prod_data.to_parquet(f'{folder}/{path_prod_data}', index=False)\n",
    "#prod_data_group.to_parquet(f'{folder}/{path_prod_data_group}', index=False)\n",
    "#prod_data_ungroup.to_parquet(f'{folder}/{path_prod_data_ungroup}', index=False)\n",
    "stock_data.to_parquet(f'{folder}/{path_stock_data}', index=False)"
   ]
  },
  {
   "cell_type": "code",
   "execution_count": 46,
   "metadata": {},
   "outputs": [
    {
     "name": "stdout",
     "output_type": "stream",
     "text": [
      "------------------------------------------01_LecturaDatos-------------------------------------------\n",
      "----------------------------------------------FINALIZA----------------------------------------------\n",
      "\n",
      "\n",
      "\n"
     ]
    }
   ],
   "source": [
    "print(f\"{fase:-^100}\")\n",
    "print(f\"{'FINALIZA':-^100}\\n\\n\\n\")"
   ]
  },
  {
   "cell_type": "code",
   "execution_count": 77,
   "metadata": {},
   "outputs": [],
   "source": [
    "# for col in prod_data_group.select_dtypes(include=['object']).columns:\n",
    "#     prod_data_group[col] = prod_data_group[col].astype('category')\n",
    "\n",
    "# for col in prod_data_ungroup.select_dtypes(include=['object']).columns:\n",
    "#     prod_data_ungroup[col] = prod_data_ungroup[col].astype('category')"
   ]
  }
 ],
 "metadata": {
  "kernelspec": {
   "display_name": "uni",
   "language": "python",
   "name": "python3"
  },
  "language_info": {
   "codemirror_mode": {
    "name": "ipython",
    "version": 3
   },
   "file_extension": ".py",
   "mimetype": "text/x-python",
   "name": "python",
   "nbconvert_exporter": "python",
   "pygments_lexer": "ipython3",
   "version": "3.10.13"
  }
 },
 "nbformat": 4,
 "nbformat_minor": 2
}
