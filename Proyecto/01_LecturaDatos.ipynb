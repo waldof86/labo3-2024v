{
 "cells": [
  {
   "cell_type": "code",
   "execution_count": 14,
   "metadata": {},
   "outputs": [],
   "source": [
    "import pandas as pd"
   ]
  },
  {
   "cell_type": "code",
   "execution_count": 15,
   "metadata": {},
   "outputs": [],
   "source": [
    "df = pd.read_csv('..\\sell-in.txt',sep='\\t')"
   ]
  },
  {
   "cell_type": "code",
   "execution_count": 16,
   "metadata": {},
   "outputs": [],
   "source": [
    "prod_a_predecir = pd.read_csv('..\\productos_a_predecir.txt', sep='\\t')"
   ]
  },
  {
   "cell_type": "code",
   "execution_count": 17,
   "metadata": {},
   "outputs": [],
   "source": [
    "df_grouped = df.groupby(['periodo', 'product_id']).sum().reset_index()"
   ]
  },
  {
   "cell_type": "code",
   "execution_count": 18,
   "metadata": {},
   "outputs": [],
   "source": [
    "df_grouped = df_grouped[['product_id', 'periodo', 'tn']]\n",
    "df_grouped.sort_values(by=['product_id', 'periodo'], inplace=True)\n",
    "df_grouped.reset_index(drop=True, inplace=True)"
   ]
  },
  {
   "cell_type": "code",
   "execution_count": 19,
   "metadata": {},
   "outputs": [
    {
     "data": {
      "text/html": [
       "<div>\n",
       "<style scoped>\n",
       "    .dataframe tbody tr th:only-of-type {\n",
       "        vertical-align: middle;\n",
       "    }\n",
       "\n",
       "    .dataframe tbody tr th {\n",
       "        vertical-align: top;\n",
       "    }\n",
       "\n",
       "    .dataframe thead th {\n",
       "        text-align: right;\n",
       "    }\n",
       "</style>\n",
       "<table border=\"1\" class=\"dataframe\">\n",
       "  <thead>\n",
       "    <tr style=\"text-align: right;\">\n",
       "      <th></th>\n",
       "      <th>product_id</th>\n",
       "      <th>periodo</th>\n",
       "      <th>tn</th>\n",
       "    </tr>\n",
       "  </thead>\n",
       "  <tbody>\n",
       "    <tr>\n",
       "      <th>0</th>\n",
       "      <td>20001</td>\n",
       "      <td>201701</td>\n",
       "      <td>934.77222</td>\n",
       "    </tr>\n",
       "    <tr>\n",
       "      <th>1</th>\n",
       "      <td>20001</td>\n",
       "      <td>201702</td>\n",
       "      <td>798.01620</td>\n",
       "    </tr>\n",
       "    <tr>\n",
       "      <th>2</th>\n",
       "      <td>20001</td>\n",
       "      <td>201703</td>\n",
       "      <td>1303.35771</td>\n",
       "    </tr>\n",
       "    <tr>\n",
       "      <th>3</th>\n",
       "      <td>20001</td>\n",
       "      <td>201704</td>\n",
       "      <td>1069.96130</td>\n",
       "    </tr>\n",
       "    <tr>\n",
       "      <th>4</th>\n",
       "      <td>20001</td>\n",
       "      <td>201705</td>\n",
       "      <td>1502.20132</td>\n",
       "    </tr>\n",
       "  </tbody>\n",
       "</table>\n",
       "</div>"
      ],
      "text/plain": [
       "   product_id  periodo          tn\n",
       "0       20001   201701   934.77222\n",
       "1       20001   201702   798.01620\n",
       "2       20001   201703  1303.35771\n",
       "3       20001   201704  1069.96130\n",
       "4       20001   201705  1502.20132"
      ]
     },
     "execution_count": 19,
     "metadata": {},
     "output_type": "execute_result"
    }
   ],
   "source": [
    "df_grouped.head()"
   ]
  },
  {
   "cell_type": "code",
   "execution_count": 20,
   "metadata": {},
   "outputs": [],
   "source": [
    "prod_stats = df_grouped.groupby('product_id').apply(lambda group: pd.Series({\n",
    "    'primer_periodo': group['periodo'].min(),\n",
    "    'ultimo_periodo': group['periodo'].max(),\n",
    "    'values': group['tn'].count(),\n",
    "    'values': group['tn'].count(),\n",
    "    'total_tn': group['tn'].sum(),\n",
    "    'average_tn': group['tn'].mean(),\n",
    "    'median_tn': group['tn'].median(),\n",
    "    'std_dev_tn': group['tn'].std(),\n",
    "    'iqr_tn': (group['tn'].quantile(0.75) - group['tn'].quantile(0.25))\n",
    "}))\n",
    "prod_stats['primer_periodo'] = prod_stats['primer_periodo'].astype(int)\n",
    "prod_stats['primer_periodo'] = pd.to_datetime(prod_stats['primer_periodo'].astype(str), format='%Y%m')\n",
    "\n",
    "prod_stats['ultimo_periodo'] = prod_stats['ultimo_periodo'].astype(int)\n",
    "prod_stats['ultimo_periodo'] = pd.to_datetime(prod_stats['ultimo_periodo'].astype(str), format='%Y%m')\n",
    "\n",
    "prod_stats.reset_index(inplace=True)"
   ]
  },
  {
   "cell_type": "code",
   "execution_count": 21,
   "metadata": {},
   "outputs": [],
   "source": [
    "prod_stats = prod_stats[prod_stats['product_id'].isin(prod_a_predecir['product_id'])]\n",
    "df_grouped = df_grouped[df_grouped['product_id'].isin(prod_a_predecir['product_id'])]"
   ]
  },
  {
   "cell_type": "code",
   "execution_count": 22,
   "metadata": {},
   "outputs": [
    {
     "data": {
      "text/html": [
       "<div>\n",
       "<style scoped>\n",
       "    .dataframe tbody tr th:only-of-type {\n",
       "        vertical-align: middle;\n",
       "    }\n",
       "\n",
       "    .dataframe tbody tr th {\n",
       "        vertical-align: top;\n",
       "    }\n",
       "\n",
       "    .dataframe thead th {\n",
       "        text-align: right;\n",
       "    }\n",
       "</style>\n",
       "<table border=\"1\" class=\"dataframe\">\n",
       "  <thead>\n",
       "    <tr style=\"text-align: right;\">\n",
       "      <th></th>\n",
       "      <th>product_id</th>\n",
       "      <th>primer_periodo</th>\n",
       "      <th>ultimo_periodo</th>\n",
       "      <th>values</th>\n",
       "      <th>total_tn</th>\n",
       "      <th>average_tn</th>\n",
       "      <th>median_tn</th>\n",
       "      <th>std_dev_tn</th>\n",
       "      <th>iqr_tn</th>\n",
       "    </tr>\n",
       "  </thead>\n",
       "  <tbody>\n",
       "    <tr>\n",
       "      <th>0</th>\n",
       "      <td>20001</td>\n",
       "      <td>2017-01-01</td>\n",
       "      <td>2019-12-01</td>\n",
       "      <td>36.0</td>\n",
       "      <td>50340.39558</td>\n",
       "      <td>1398.344322</td>\n",
       "      <td>1418.023430</td>\n",
       "      <td>298.145460</td>\n",
       "      <td>335.515348</td>\n",
       "    </tr>\n",
       "    <tr>\n",
       "      <th>1</th>\n",
       "      <td>20002</td>\n",
       "      <td>2017-01-01</td>\n",
       "      <td>2019-12-01</td>\n",
       "      <td>36.0</td>\n",
       "      <td>36337.25439</td>\n",
       "      <td>1009.368178</td>\n",
       "      <td>992.005505</td>\n",
       "      <td>303.834835</td>\n",
       "      <td>246.766150</td>\n",
       "    </tr>\n",
       "    <tr>\n",
       "      <th>2</th>\n",
       "      <td>20003</td>\n",
       "      <td>2017-01-01</td>\n",
       "      <td>2019-12-01</td>\n",
       "      <td>36.0</td>\n",
       "      <td>32004.15274</td>\n",
       "      <td>889.004243</td>\n",
       "      <td>786.715735</td>\n",
       "      <td>292.036581</td>\n",
       "      <td>260.440887</td>\n",
       "    </tr>\n",
       "    <tr>\n",
       "      <th>3</th>\n",
       "      <td>20004</td>\n",
       "      <td>2017-01-01</td>\n",
       "      <td>2019-12-01</td>\n",
       "      <td>36.0</td>\n",
       "      <td>24178.15379</td>\n",
       "      <td>671.615383</td>\n",
       "      <td>596.909300</td>\n",
       "      <td>224.450085</td>\n",
       "      <td>279.662265</td>\n",
       "    </tr>\n",
       "    <tr>\n",
       "      <th>4</th>\n",
       "      <td>20005</td>\n",
       "      <td>2017-01-01</td>\n",
       "      <td>2019-12-01</td>\n",
       "      <td>36.0</td>\n",
       "      <td>23191.21852</td>\n",
       "      <td>644.200514</td>\n",
       "      <td>578.571990</td>\n",
       "      <td>218.273222</td>\n",
       "      <td>305.415543</td>\n",
       "    </tr>\n",
       "  </tbody>\n",
       "</table>\n",
       "</div>"
      ],
      "text/plain": [
       "   product_id primer_periodo ultimo_periodo  values     total_tn   average_tn  \\\n",
       "0       20001     2017-01-01     2019-12-01    36.0  50340.39558  1398.344322   \n",
       "1       20002     2017-01-01     2019-12-01    36.0  36337.25439  1009.368178   \n",
       "2       20003     2017-01-01     2019-12-01    36.0  32004.15274   889.004243   \n",
       "3       20004     2017-01-01     2019-12-01    36.0  24178.15379   671.615383   \n",
       "4       20005     2017-01-01     2019-12-01    36.0  23191.21852   644.200514   \n",
       "\n",
       "     median_tn  std_dev_tn      iqr_tn  \n",
       "0  1418.023430  298.145460  335.515348  \n",
       "1   992.005505  303.834835  246.766150  \n",
       "2   786.715735  292.036581  260.440887  \n",
       "3   596.909300  224.450085  279.662265  \n",
       "4   578.571990  218.273222  305.415543  "
      ]
     },
     "execution_count": 22,
     "metadata": {},
     "output_type": "execute_result"
    }
   ],
   "source": [
    "prod_stats.head()"
   ]
  },
  {
   "cell_type": "code",
   "execution_count": 23,
   "metadata": {},
   "outputs": [],
   "source": [
    "df_grouped.to_csv('sell_in_group.csv', index=False)\n",
    "prod_stats.to_csv('prod_stats.csv', index=False)"
   ]
  }
 ],
 "metadata": {
  "kernelspec": {
   "display_name": "uni",
   "language": "python",
   "name": "python3"
  },
  "language_info": {
   "codemirror_mode": {
    "name": "ipython",
    "version": 3
   },
   "file_extension": ".py",
   "mimetype": "text/x-python",
   "name": "python",
   "nbconvert_exporter": "python",
   "pygments_lexer": "ipython3",
   "version": "3.10.13"
  }
 },
 "nbformat": 4,
 "nbformat_minor": 2
}
