{
 "cells": [
  {
   "cell_type": "code",
   "execution_count": 51,
   "metadata": {},
   "outputs": [],
   "source": [
    "import pandas as pd\n",
    "import lightgbm as lgb\n",
    "#from lightgbm import LGBMRegressor"
   ]
  },
  {
   "cell_type": "code",
   "execution_count": 52,
   "metadata": {},
   "outputs": [
    {
     "name": "stdout",
     "output_type": "stream",
     "text": [
      "df_train: (13731, 138)\n",
      "df_test: (780, 138)\n",
      "df_futuro: (780, 138)\n"
     ]
    }
   ],
   "source": [
    "df_train = pd.read_parquet('sell_in_train.parquet')\n",
    "df_test = pd.read_parquet('sell_in_test.parquet')\n",
    "df_futuro = pd.read_parquet('sell_in_futuro.parquet')\n",
    "print(f\"df_train: {df_train.shape}\")\n",
    "print(f\"df_test: {df_test.shape}\")\n",
    "print(f\"df_futuro: {df_futuro.shape}\")"
   ]
  },
  {
   "cell_type": "code",
   "execution_count": 53,
   "metadata": {},
   "outputs": [
    {
     "name": "stdout",
     "output_type": "stream",
     "text": [
      "convertida yearquarter\n",
      "convertida cat1\n",
      "convertida cat2\n",
      "convertida cat3\n",
      "convertida brand\n"
     ]
    }
   ],
   "source": [
    "categorical_features = df_train.select_dtypes(['category']).columns.tolist()\n",
    "for col in categorical_features:\n",
    "    print(f\"convertida {col}\")\n",
    "    df_train[col] = df_train[col].cat.codes\n",
    "    df_test[col] = df_test[col].cat.codes\n",
    "    df_futuro[col] = df_futuro[col].cat.codes"
   ]
  },
  {
   "cell_type": "code",
   "execution_count": 54,
   "metadata": {},
   "outputs": [
    {
     "name": "stdout",
     "output_type": "stream",
     "text": [
      "X_train: (13731, 137)\n",
      "X_test: (780, 137)\n",
      "X_futuro: (780, 137)\n",
      "y_train: (13731,)\n",
      "y_test: (780,)\n",
      "y_futuro: (780,)\n"
     ]
    }
   ],
   "source": [
    "X_train = df_train.iloc[:,:-1]\n",
    "X_test = df_test.iloc[:,:-1]\n",
    "X_futuro = df_futuro.iloc[:,:-1]\n",
    "\n",
    "y_train = df_train.iloc[:,-1]\n",
    "y_test = df_test.iloc[:,-1]\n",
    "y_futuro = df_futuro.iloc[:,-1]\n",
    "\n",
    "print(f\"X_train: {X_train.shape}\")\n",
    "print(f\"X_test: {X_test.shape}\")\n",
    "print(f\"X_futuro: {X_futuro.shape}\")\n",
    "\n",
    "print(f\"y_train: {y_train.shape}\")\n",
    "print(f\"y_test: {y_test.shape}\")\n",
    "print(f\"y_futuro: {y_futuro.shape}\")"
   ]
  },
  {
   "cell_type": "code",
   "execution_count": 55,
   "metadata": {},
   "outputs": [
    {
     "name": "stdout",
     "output_type": "stream",
     "text": [
      "[LightGBM] [Info] Auto-choosing col-wise multi-threading, the overhead of testing was 0.006113 seconds.\n",
      "You can set `force_col_wise=true` to remove the overhead.\n",
      "[LightGBM] [Info] Total Bins 19447\n",
      "[LightGBM] [Info] Number of data points in the train set: 13731, number of used features: 134\n",
      "[LightGBM] [Info] Start training from score -0.023311\n"
     ]
    }
   ],
   "source": [
    "train_data = lgb.Dataset(X_train, label=y_train)\n",
    "test_data = lgb.Dataset(X_test, label=y_test)\n",
    "futuro_data = lgb.Dataset(X_futuro, label=y_futuro)\n",
    "\n",
    "params = {\n",
    "    'objective': 'regression',\n",
    "    'metric': {'l2', 'rmse'},\n",
    "    'boosting_type': 'gbdt',\n",
    "    'num_leaves': 50,\n",
    "#    'max_depth': -1,\n",
    "    'learning_rate': 0.01,\n",
    "#    'feature_fraction': 0.4\n",
    "}\n",
    "\n",
    "model = lgb.train(params, train_data, num_boost_round=1000, valid_sets=[train_data, test_data])\n",
    "\n",
    "#y_pred = model.predict(X_test, num_iteration=model.best_iteration)\n",
    "y_pred = model.predict(X_test, num_iteration=model.best_iteration)\n",
    "y_pred_futuro = model.predict(X_futuro, num_iteration=model.best_iteration)\n",
    "\n",
    "#example_row = X_test.iloc[0]\n",
    "#example_pred = model.predict(example_row.values.reshape(1, -1), num_iteration=model.best_iteration)\n",
    "#print(f'Prediction for example row: {example_pred[0]}')"
   ]
  },
  {
   "cell_type": "code",
   "execution_count": 56,
   "metadata": {},
   "outputs": [],
   "source": [
    "final = X_test\n",
    "final['tn_futuro'] = y_test\n",
    "final['tn_prediccion'] = y_pred"
   ]
  },
  {
   "cell_type": "code",
   "execution_count": 57,
   "metadata": {},
   "outputs": [
    {
     "data": {
      "text/plain": [
       "Index(['product_id', 'periodo', 'primer_periodo', 'ultimo_periodo', 'tn_norm',\n",
       "       'periodo_dt', 'mes', 'quarter', 'month_in_quarter', 'year',\n",
       "       ...\n",
       "       'prop_product_yearquarter_cat1', 'prop_product_yearquarter_cat2',\n",
       "       'prop_product_yearquarter_brand', 'prop_product_year_cat1',\n",
       "       'prop_product_year_cat2', 'prop_product_year_brand', 'tn_futuro',\n",
       "       'tn_prediccion', 'average_tn', 'std_dev_tn'],\n",
       "      dtype='object', length=141)"
      ]
     },
     "execution_count": 57,
     "metadata": {},
     "output_type": "execute_result"
    }
   ],
   "source": [
    "prod_stats = pd.read_parquet('prod_stats.parquet')\n",
    "prod_stats = prod_stats[['product_id', 'average_tn','std_dev_tn']]\n",
    "final = final.merge(prod_stats, how='left', on='product_id')\n",
    "final.columns"
   ]
  },
  {
   "cell_type": "code",
   "execution_count": 58,
   "metadata": {},
   "outputs": [],
   "source": [
    "final['tn_futuro_real'] = (final['tn_norm'] + final['tn_futuro']) * final['std_dev_tn'] + final['average_tn']\n",
    "final['tn_prediccion_real'] = (final['tn_norm'] + final['tn_prediccion']) * final['std_dev_tn'] + final['average_tn']"
   ]
  },
  {
   "cell_type": "code",
   "execution_count": 59,
   "metadata": {},
   "outputs": [
    {
     "data": {
      "text/html": [
       "<div>\n",
       "<style scoped>\n",
       "    .dataframe tbody tr th:only-of-type {\n",
       "        vertical-align: middle;\n",
       "    }\n",
       "\n",
       "    .dataframe tbody tr th {\n",
       "        vertical-align: top;\n",
       "    }\n",
       "\n",
       "    .dataframe thead th {\n",
       "        text-align: right;\n",
       "    }\n",
       "</style>\n",
       "<table border=\"1\" class=\"dataframe\">\n",
       "  <thead>\n",
       "    <tr style=\"text-align: right;\">\n",
       "      <th></th>\n",
       "      <th>product_id</th>\n",
       "      <th>periodo</th>\n",
       "      <th>primer_periodo</th>\n",
       "      <th>ultimo_periodo</th>\n",
       "      <th>tn_norm</th>\n",
       "      <th>periodo_dt</th>\n",
       "      <th>mes</th>\n",
       "      <th>quarter</th>\n",
       "      <th>month_in_quarter</th>\n",
       "      <th>year</th>\n",
       "      <th>...</th>\n",
       "      <th>prop_product_yearquarter_brand</th>\n",
       "      <th>prop_product_year_cat1</th>\n",
       "      <th>prop_product_year_cat2</th>\n",
       "      <th>prop_product_year_brand</th>\n",
       "      <th>tn_futuro</th>\n",
       "      <th>tn_prediccion</th>\n",
       "      <th>average_tn</th>\n",
       "      <th>std_dev_tn</th>\n",
       "      <th>tn_futuro_real</th>\n",
       "      <th>tn_prediccion_real</th>\n",
       "    </tr>\n",
       "  </thead>\n",
       "  <tbody>\n",
       "    <tr>\n",
       "      <th>0</th>\n",
       "      <td>20001</td>\n",
       "      <td>201910</td>\n",
       "      <td>201701</td>\n",
       "      <td>201912</td>\n",
       "      <td>0.547254</td>\n",
       "      <td>201910</td>\n",
       "      <td>10</td>\n",
       "      <td>4</td>\n",
       "      <td>1</td>\n",
       "      <td>2019</td>\n",
       "      <td>...</td>\n",
       "      <td>25.615935</td>\n",
       "      <td>0.729053</td>\n",
       "      <td>1.300150</td>\n",
       "      <td>6.721442</td>\n",
       "      <td>-0.190568</td>\n",
       "      <td>-0.537512</td>\n",
       "      <td>1398.344322</td>\n",
       "      <td>298.145460</td>\n",
       "      <td>1504.68856</td>\n",
       "      <td>1401.248846</td>\n",
       "    </tr>\n",
       "    <tr>\n",
       "      <th>1</th>\n",
       "      <td>20002</td>\n",
       "      <td>201910</td>\n",
       "      <td>201701</td>\n",
       "      <td>201912</td>\n",
       "      <td>3.193077</td>\n",
       "      <td>201910</td>\n",
       "      <td>10</td>\n",
       "      <td>4</td>\n",
       "      <td>1</td>\n",
       "      <td>2019</td>\n",
       "      <td>...</td>\n",
       "      <td>8.629338</td>\n",
       "      <td>0.924228</td>\n",
       "      <td>1.648214</td>\n",
       "      <td>2.181345</td>\n",
       "      <td>-2.936555</td>\n",
       "      <td>-2.275262</td>\n",
       "      <td>1009.368178</td>\n",
       "      <td>303.834835</td>\n",
       "      <td>1087.30855</td>\n",
       "      <td>1288.232643</td>\n",
       "    </tr>\n",
       "    <tr>\n",
       "      <th>2</th>\n",
       "      <td>20003</td>\n",
       "      <td>201910</td>\n",
       "      <td>201701</td>\n",
       "      <td>201912</td>\n",
       "      <td>0.658692</td>\n",
       "      <td>201910</td>\n",
       "      <td>10</td>\n",
       "      <td>4</td>\n",
       "      <td>1</td>\n",
       "      <td>2019</td>\n",
       "      <td>...</td>\n",
       "      <td>9.281088</td>\n",
       "      <td>1.524496</td>\n",
       "      <td>2.028025</td>\n",
       "      <td>2.711313</td>\n",
       "      <td>-0.646717</td>\n",
       "      <td>-0.312087</td>\n",
       "      <td>889.004243</td>\n",
       "      <td>292.036581</td>\n",
       "      <td>892.50129</td>\n",
       "      <td>990.225610</td>\n",
       "    </tr>\n",
       "    <tr>\n",
       "      <th>3</th>\n",
       "      <td>20004</td>\n",
       "      <td>201910</td>\n",
       "      <td>201701</td>\n",
       "      <td>201912</td>\n",
       "      <td>1.751307</td>\n",
       "      <td>201910</td>\n",
       "      <td>10</td>\n",
       "      <td>4</td>\n",
       "      <td>1</td>\n",
       "      <td>2019</td>\n",
       "      <td>...</td>\n",
       "      <td>9.138012</td>\n",
       "      <td>1.500995</td>\n",
       "      <td>1.996762</td>\n",
       "      <td>2.669516</td>\n",
       "      <td>-1.901520</td>\n",
       "      <td>-1.964250</td>\n",
       "      <td>671.615383</td>\n",
       "      <td>224.450085</td>\n",
       "      <td>637.90002</td>\n",
       "      <td>623.820140</td>\n",
       "    </tr>\n",
       "    <tr>\n",
       "      <th>4</th>\n",
       "      <td>20005</td>\n",
       "      <td>201910</td>\n",
       "      <td>201701</td>\n",
       "      <td>201912</td>\n",
       "      <td>1.615325</td>\n",
       "      <td>201910</td>\n",
       "      <td>10</td>\n",
       "      <td>4</td>\n",
       "      <td>1</td>\n",
       "      <td>2019</td>\n",
       "      <td>...</td>\n",
       "      <td>8.555128</td>\n",
       "      <td>1.405251</td>\n",
       "      <td>1.869395</td>\n",
       "      <td>2.499236</td>\n",
       "      <td>-1.848776</td>\n",
       "      <td>-1.102689</td>\n",
       "      <td>644.200514</td>\n",
       "      <td>218.273222</td>\n",
       "      <td>593.24443</td>\n",
       "      <td>756.095265</td>\n",
       "    </tr>\n",
       "  </tbody>\n",
       "</table>\n",
       "<p>5 rows × 143 columns</p>\n",
       "</div>"
      ],
      "text/plain": [
       "   product_id  periodo  primer_periodo  ultimo_periodo   tn_norm  periodo_dt  \\\n",
       "0       20001   201910          201701          201912  0.547254      201910   \n",
       "1       20002   201910          201701          201912  3.193077      201910   \n",
       "2       20003   201910          201701          201912  0.658692      201910   \n",
       "3       20004   201910          201701          201912  1.751307      201910   \n",
       "4       20005   201910          201701          201912  1.615325      201910   \n",
       "\n",
       "   mes  quarter  month_in_quarter  year  ...  prop_product_yearquarter_brand  \\\n",
       "0   10        4                 1  2019  ...                       25.615935   \n",
       "1   10        4                 1  2019  ...                        8.629338   \n",
       "2   10        4                 1  2019  ...                        9.281088   \n",
       "3   10        4                 1  2019  ...                        9.138012   \n",
       "4   10        4                 1  2019  ...                        8.555128   \n",
       "\n",
       "   prop_product_year_cat1  prop_product_year_cat2  prop_product_year_brand  \\\n",
       "0                0.729053                1.300150                 6.721442   \n",
       "1                0.924228                1.648214                 2.181345   \n",
       "2                1.524496                2.028025                 2.711313   \n",
       "3                1.500995                1.996762                 2.669516   \n",
       "4                1.405251                1.869395                 2.499236   \n",
       "\n",
       "   tn_futuro  tn_prediccion   average_tn  std_dev_tn  tn_futuro_real  \\\n",
       "0  -0.190568      -0.537512  1398.344322  298.145460      1504.68856   \n",
       "1  -2.936555      -2.275262  1009.368178  303.834835      1087.30855   \n",
       "2  -0.646717      -0.312087   889.004243  292.036581       892.50129   \n",
       "3  -1.901520      -1.964250   671.615383  224.450085       637.90002   \n",
       "4  -1.848776      -1.102689   644.200514  218.273222       593.24443   \n",
       "\n",
       "   tn_prediccion_real  \n",
       "0         1401.248846  \n",
       "1         1288.232643  \n",
       "2          990.225610  \n",
       "3          623.820140  \n",
       "4          756.095265  \n",
       "\n",
       "[5 rows x 143 columns]"
      ]
     },
     "execution_count": 59,
     "metadata": {},
     "output_type": "execute_result"
    }
   ],
   "source": [
    "final.head()"
   ]
  },
  {
   "cell_type": "code",
   "execution_count": 60,
   "metadata": {},
   "outputs": [],
   "source": [
    "final.to_parquet('sell_in_pred.parquet', index=False)"
   ]
  },
  {
   "cell_type": "code",
   "execution_count": 61,
   "metadata": {},
   "outputs": [],
   "source": [
    "final_futuro = X_futuro\n",
    "final_futuro['tn_futuro'] = y_futuro\n",
    "final_futuro['tn_prediccion'] = y_pred_futuro\n",
    "\n",
    "final_futuro = final_futuro.merge(prod_stats, how='left', on='product_id')\n",
    "final_futuro.columns\n",
    "\n",
    "final_futuro['tn_futuro_real'] = (final_futuro['tn_norm'] + final_futuro['tn_futuro']) * final_futuro['std_dev_tn'] + final_futuro['average_tn']\n",
    "final_futuro['tn_prediccion_real'] = (final_futuro['tn_norm'] + final_futuro['tn_prediccion']) * final_futuro['std_dev_tn'] + final_futuro['average_tn']\n",
    "\n",
    "final_futuro.to_parquet('sell_in_pred_futuro.parquet', index=False)"
   ]
  }
 ],
 "metadata": {
  "kernelspec": {
   "display_name": "uni",
   "language": "python",
   "name": "python3"
  },
  "language_info": {
   "codemirror_mode": {
    "name": "ipython",
    "version": 3
   },
   "file_extension": ".py",
   "mimetype": "text/x-python",
   "name": "python",
   "nbconvert_exporter": "python",
   "pygments_lexer": "ipython3",
   "version": "3.10.13"
  }
 },
 "nbformat": 4,
 "nbformat_minor": 2
}
