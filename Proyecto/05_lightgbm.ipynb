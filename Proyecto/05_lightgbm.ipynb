{
 "cells": [
  {
   "cell_type": "code",
   "execution_count": 123,
   "metadata": {},
   "outputs": [],
   "source": [
    "import pandas as pd\n",
    "import lightgbm as lgb"
   ]
  },
  {
   "cell_type": "code",
   "execution_count": 124,
   "metadata": {},
   "outputs": [
    {
     "name": "stdout",
     "output_type": "stream",
     "text": [
      "df_train: (14511, 138)\n",
      "df_test: (780, 138)\n",
      "df_futuro: (780, 138)\n"
     ]
    }
   ],
   "source": [
    "df_train = pd.read_parquet('sell_in_train.parquet')\n",
    "df_test = pd.read_parquet('sell_in_test.parquet')\n",
    "df_futuro = pd.read_parquet('sell_in_futuro.parquet')\n",
    "print(f\"df_train: {df_train.shape}\")\n",
    "print(f\"df_test: {df_test.shape}\")\n",
    "print(f\"df_futuro: {df_futuro.shape}\")"
   ]
  },
  {
   "cell_type": "code",
   "execution_count": 125,
   "metadata": {},
   "outputs": [
    {
     "name": "stdout",
     "output_type": "stream",
     "text": [
      "convertida yearquarter\n",
      "convertida cat1\n",
      "convertida cat2\n",
      "convertida cat3\n",
      "convertida brand\n"
     ]
    }
   ],
   "source": [
    "categorical_features = df_train.select_dtypes(['category']).columns.tolist()\n",
    "for col in categorical_features:\n",
    "    print(f\"convertida {col}\")\n",
    "    df_train[col] = df_train[col].cat.codes\n",
    "    df_test[col] = df_test[col].cat.codes\n",
    "    df_futuro[col] = df_futuro[col].cat.codes"
   ]
  },
  {
   "cell_type": "code",
   "execution_count": 126,
   "metadata": {},
   "outputs": [
    {
     "name": "stdout",
     "output_type": "stream",
     "text": [
      "X_train: (14511, 137)\n",
      "X_test: (780, 137)\n",
      "X_futuro: (780, 137)\n",
      "y_train: (14511,)\n",
      "y_test: (780,)\n",
      "y_futuro: (780,)\n"
     ]
    }
   ],
   "source": [
    "X_train = df_train.iloc[:,:-1]\n",
    "X_test = df_test.iloc[:,:-1]\n",
    "X_futuro = df_futuro.iloc[:,:-1]\n",
    "\n",
    "y_train = df_train.iloc[:,-1]\n",
    "y_test = df_test.iloc[:,-1]\n",
    "y_futuro = df_futuro.iloc[:,-1]\n",
    "\n",
    "print(f\"X_train: {X_train.shape}\")\n",
    "print(f\"X_test: {X_test.shape}\")\n",
    "print(f\"X_futuro: {X_futuro.shape}\")\n",
    "\n",
    "print(f\"y_train: {y_train.shape}\")\n",
    "print(f\"y_test: {y_test.shape}\")\n",
    "print(f\"y_futuro: {y_futuro.shape}\")"
   ]
  },
  {
   "cell_type": "code",
   "execution_count": 127,
   "metadata": {},
   "outputs": [
    {
     "name": "stdout",
     "output_type": "stream",
     "text": [
      "[LightGBM] [Info] Auto-choosing col-wise multi-threading, the overhead of testing was 0.004940 seconds.\n",
      "You can set `force_col_wise=true` to remove the overhead.\n",
      "[LightGBM] [Info] Total Bins 19450\n",
      "[LightGBM] [Info] Number of data points in the train set: 14511, number of used features: 134\n",
      "[LightGBM] [Info] Start training from score -0.061244\n"
     ]
    }
   ],
   "source": [
    "train_data = lgb.Dataset(X_train, label=y_train)\n",
    "test_data = lgb.Dataset(X_test, label=y_test)\n",
    "futuro_data = lgb.Dataset(X_futuro, label=y_futuro)\n",
    "\n",
    "params = {\n",
    "    'objective': 'regression',\n",
    "    'metric': 'rmse',\n",
    "    'boosting_type': 'gbdt',\n",
    "    'num_leaves': 31,\n",
    "    'learning_rate': 0.01,\n",
    "    'feature_fraction': 0.4\n",
    "}\n",
    "\n",
    "model = lgb.train(params, train_data, num_boost_round=1000, valid_sets=[train_data, test_data])\n",
    "\n",
    "#y_pred = model.predict(X_test, num_iteration=model.best_iteration)\n",
    "y_pred = model.predict(X_test, num_iteration=model.best_iteration)\n",
    "y_pred_futuro = model.predict(X_futuro, num_iteration=model.best_iteration)\n",
    "\n",
    "#example_row = X_test.iloc[0]\n",
    "#example_pred = model.predict(example_row.values.reshape(1, -1), num_iteration=model.best_iteration)\n",
    "#print(f'Prediction for example row: {example_pred[0]}')"
   ]
  },
  {
   "cell_type": "code",
   "execution_count": 128,
   "metadata": {},
   "outputs": [],
   "source": [
    "final = X_test\n",
    "final['tn_futuro'] = y_test\n",
    "final['tn_prediccion'] = y_pred"
   ]
  },
  {
   "cell_type": "code",
   "execution_count": 129,
   "metadata": {},
   "outputs": [
    {
     "data": {
      "text/plain": [
       "Index(['product_id', 'periodo', 'primer_periodo', 'ultimo_periodo', 'tn_norm',\n",
       "       'periodo_dt', 'mes', 'quarter', 'month_in_quarter', 'year',\n",
       "       ...\n",
       "       'prop_product_yearquarter_cat1', 'prop_product_yearquarter_cat2',\n",
       "       'prop_product_yearquarter_brand', 'prop_product_year_cat1',\n",
       "       'prop_product_year_cat2', 'prop_product_year_brand', 'tn_futuro',\n",
       "       'tn_prediccion', 'average_tn', 'std_dev_tn'],\n",
       "      dtype='object', length=141)"
      ]
     },
     "execution_count": 129,
     "metadata": {},
     "output_type": "execute_result"
    }
   ],
   "source": [
    "prod_stats = pd.read_parquet('prod_stats.parquet')\n",
    "prod_stats = prod_stats[['product_id', 'average_tn','std_dev_tn']]\n",
    "final = final.merge(prod_stats, how='left', on='product_id')\n",
    "final.columns"
   ]
  },
  {
   "cell_type": "code",
   "execution_count": 130,
   "metadata": {},
   "outputs": [],
   "source": [
    "final['tn_futuro_real'] = (final['tn_norm'] + final['tn_futuro']) * final['std_dev_tn'] + final['average_tn']\n",
    "final['tn_prediccion_real'] = (final['tn_norm'] + final['tn_prediccion']) * final['std_dev_tn'] + final['average_tn']"
   ]
  },
  {
   "cell_type": "code",
   "execution_count": 131,
   "metadata": {},
   "outputs": [
    {
     "data": {
      "text/html": [
       "<div>\n",
       "<style scoped>\n",
       "    .dataframe tbody tr th:only-of-type {\n",
       "        vertical-align: middle;\n",
       "    }\n",
       "\n",
       "    .dataframe tbody tr th {\n",
       "        vertical-align: top;\n",
       "    }\n",
       "\n",
       "    .dataframe thead th {\n",
       "        text-align: right;\n",
       "    }\n",
       "</style>\n",
       "<table border=\"1\" class=\"dataframe\">\n",
       "  <thead>\n",
       "    <tr style=\"text-align: right;\">\n",
       "      <th></th>\n",
       "      <th>product_id</th>\n",
       "      <th>periodo</th>\n",
       "      <th>primer_periodo</th>\n",
       "      <th>ultimo_periodo</th>\n",
       "      <th>tn_norm</th>\n",
       "      <th>periodo_dt</th>\n",
       "      <th>mes</th>\n",
       "      <th>quarter</th>\n",
       "      <th>month_in_quarter</th>\n",
       "      <th>year</th>\n",
       "      <th>...</th>\n",
       "      <th>prop_product_yearquarter_brand</th>\n",
       "      <th>prop_product_year_cat1</th>\n",
       "      <th>prop_product_year_cat2</th>\n",
       "      <th>prop_product_year_brand</th>\n",
       "      <th>tn_futuro</th>\n",
       "      <th>tn_prediccion</th>\n",
       "      <th>average_tn</th>\n",
       "      <th>std_dev_tn</th>\n",
       "      <th>tn_futuro_real</th>\n",
       "      <th>tn_prediccion_real</th>\n",
       "    </tr>\n",
       "  </thead>\n",
       "  <tbody>\n",
       "    <tr>\n",
       "      <th>0</th>\n",
       "      <td>20001</td>\n",
       "      <td>201912</td>\n",
       "      <td>201701</td>\n",
       "      <td>201912</td>\n",
       "      <td>0.356686</td>\n",
       "      <td>201912</td>\n",
       "      <td>12</td>\n",
       "      <td>4</td>\n",
       "      <td>3</td>\n",
       "      <td>2019</td>\n",
       "      <td>...</td>\n",
       "      <td>24.683874</td>\n",
       "      <td>0.702526</td>\n",
       "      <td>1.252843</td>\n",
       "      <td>6.476876</td>\n",
       "      <td>NaN</td>\n",
       "      <td>-0.890872</td>\n",
       "      <td>1398.344322</td>\n",
       "      <td>298.145460</td>\n",
       "      <td>NaN</td>\n",
       "      <td>1239.079079</td>\n",
       "    </tr>\n",
       "    <tr>\n",
       "      <th>1</th>\n",
       "      <td>20002</td>\n",
       "      <td>201912</td>\n",
       "      <td>201701</td>\n",
       "      <td>201912</td>\n",
       "      <td>0.256522</td>\n",
       "      <td>201912</td>\n",
       "      <td>12</td>\n",
       "      <td>4</td>\n",
       "      <td>3</td>\n",
       "      <td>2019</td>\n",
       "      <td>...</td>\n",
       "      <td>4.739874</td>\n",
       "      <td>0.507655</td>\n",
       "      <td>0.905322</td>\n",
       "      <td>1.198157</td>\n",
       "      <td>NaN</td>\n",
       "      <td>-0.553614</td>\n",
       "      <td>1009.368178</td>\n",
       "      <td>303.834835</td>\n",
       "      <td>NaN</td>\n",
       "      <td>919.101355</td>\n",
       "    </tr>\n",
       "    <tr>\n",
       "      <th>2</th>\n",
       "      <td>20003</td>\n",
       "      <td>201912</td>\n",
       "      <td>201701</td>\n",
       "      <td>201912</td>\n",
       "      <td>0.011975</td>\n",
       "      <td>201912</td>\n",
       "      <td>12</td>\n",
       "      <td>4</td>\n",
       "      <td>3</td>\n",
       "      <td>2019</td>\n",
       "      <td>...</td>\n",
       "      <td>7.660107</td>\n",
       "      <td>1.258237</td>\n",
       "      <td>1.673822</td>\n",
       "      <td>2.237771</td>\n",
       "      <td>NaN</td>\n",
       "      <td>-0.653311</td>\n",
       "      <td>889.004243</td>\n",
       "      <td>292.036581</td>\n",
       "      <td>NaN</td>\n",
       "      <td>701.710657</td>\n",
       "    </tr>\n",
       "    <tr>\n",
       "      <th>3</th>\n",
       "      <td>20004</td>\n",
       "      <td>201912</td>\n",
       "      <td>201701</td>\n",
       "      <td>201912</td>\n",
       "      <td>-0.150213</td>\n",
       "      <td>201912</td>\n",
       "      <td>12</td>\n",
       "      <td>4</td>\n",
       "      <td>3</td>\n",
       "      <td>2019</td>\n",
       "      <td>...</td>\n",
       "      <td>5.474930</td>\n",
       "      <td>0.899303</td>\n",
       "      <td>1.196336</td>\n",
       "      <td>1.599409</td>\n",
       "      <td>NaN</td>\n",
       "      <td>-0.569770</td>\n",
       "      <td>671.615383</td>\n",
       "      <td>224.450085</td>\n",
       "      <td>NaN</td>\n",
       "      <td>510.015118</td>\n",
       "    </tr>\n",
       "    <tr>\n",
       "      <th>4</th>\n",
       "      <td>20005</td>\n",
       "      <td>201912</td>\n",
       "      <td>201701</td>\n",
       "      <td>201912</td>\n",
       "      <td>-0.233451</td>\n",
       "      <td>201912</td>\n",
       "      <td>12</td>\n",
       "      <td>4</td>\n",
       "      <td>3</td>\n",
       "      <td>2019</td>\n",
       "      <td>...</td>\n",
       "      <td>5.091663</td>\n",
       "      <td>0.836348</td>\n",
       "      <td>1.112587</td>\n",
       "      <td>1.487444</td>\n",
       "      <td>NaN</td>\n",
       "      <td>-0.508377</td>\n",
       "      <td>644.200514</td>\n",
       "      <td>218.273222</td>\n",
       "      <td>NaN</td>\n",
       "      <td>482.279275</td>\n",
       "    </tr>\n",
       "  </tbody>\n",
       "</table>\n",
       "<p>5 rows × 143 columns</p>\n",
       "</div>"
      ],
      "text/plain": [
       "   product_id  periodo  primer_periodo  ultimo_periodo   tn_norm  periodo_dt  \\\n",
       "0       20001   201912          201701          201912  0.356686      201912   \n",
       "1       20002   201912          201701          201912  0.256522      201912   \n",
       "2       20003   201912          201701          201912  0.011975      201912   \n",
       "3       20004   201912          201701          201912 -0.150213      201912   \n",
       "4       20005   201912          201701          201912 -0.233451      201912   \n",
       "\n",
       "   mes  quarter  month_in_quarter  year  ...  prop_product_yearquarter_brand  \\\n",
       "0   12        4                 3  2019  ...                       24.683874   \n",
       "1   12        4                 3  2019  ...                        4.739874   \n",
       "2   12        4                 3  2019  ...                        7.660107   \n",
       "3   12        4                 3  2019  ...                        5.474930   \n",
       "4   12        4                 3  2019  ...                        5.091663   \n",
       "\n",
       "   prop_product_year_cat1  prop_product_year_cat2  prop_product_year_brand  \\\n",
       "0                0.702526                1.252843                 6.476876   \n",
       "1                0.507655                0.905322                 1.198157   \n",
       "2                1.258237                1.673822                 2.237771   \n",
       "3                0.899303                1.196336                 1.599409   \n",
       "4                0.836348                1.112587                 1.487444   \n",
       "\n",
       "   tn_futuro  tn_prediccion   average_tn  std_dev_tn  tn_futuro_real  \\\n",
       "0        NaN      -0.890872  1398.344322  298.145460             NaN   \n",
       "1        NaN      -0.553614  1009.368178  303.834835             NaN   \n",
       "2        NaN      -0.653311   889.004243  292.036581             NaN   \n",
       "3        NaN      -0.569770   671.615383  224.450085             NaN   \n",
       "4        NaN      -0.508377   644.200514  218.273222             NaN   \n",
       "\n",
       "   tn_prediccion_real  \n",
       "0         1239.079079  \n",
       "1          919.101355  \n",
       "2          701.710657  \n",
       "3          510.015118  \n",
       "4          482.279275  \n",
       "\n",
       "[5 rows x 143 columns]"
      ]
     },
     "execution_count": 131,
     "metadata": {},
     "output_type": "execute_result"
    }
   ],
   "source": [
    "final.head()"
   ]
  },
  {
   "cell_type": "code",
   "execution_count": 132,
   "metadata": {},
   "outputs": [],
   "source": [
    "final.to_parquet('sell_in_pred.parquet', index=False)"
   ]
  },
  {
   "cell_type": "code",
   "execution_count": 133,
   "metadata": {},
   "outputs": [],
   "source": [
    "final_futuro = X_futuro\n",
    "final_futuro['tn_futuro'] = y_futuro\n",
    "final_futuro['tn_prediccion'] = y_pred_futuro\n",
    "\n",
    "final_futuro = final_futuro.merge(prod_stats, how='left', on='product_id')\n",
    "final_futuro.columns\n",
    "\n",
    "final_futuro['tn_futuro_real'] = (final_futuro['tn_norm'] + final_futuro['tn_futuro']) * final_futuro['std_dev_tn'] + final_futuro['average_tn']\n",
    "final_futuro['tn_prediccion_real'] = (final_futuro['tn_norm'] + final_futuro['tn_prediccion']) * final_futuro['std_dev_tn'] + final_futuro['average_tn']\n",
    "\n",
    "final_futuro.to_parquet('sell_in_pred_futuro.parquet', index=False)"
   ]
  }
 ],
 "metadata": {
  "kernelspec": {
   "display_name": "uni",
   "language": "python",
   "name": "python3"
  },
  "language_info": {
   "codemirror_mode": {
    "name": "ipython",
    "version": 3
   },
   "file_extension": ".py",
   "mimetype": "text/x-python",
   "name": "python",
   "nbconvert_exporter": "python",
   "pygments_lexer": "ipython3",
   "version": "3.10.13"
  }
 },
 "nbformat": 4,
 "nbformat_minor": 2
}
