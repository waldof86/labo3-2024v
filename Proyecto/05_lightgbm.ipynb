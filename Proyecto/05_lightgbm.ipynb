{
 "cells": [
  {
   "cell_type": "code",
   "execution_count": 11,
   "metadata": {},
   "outputs": [],
   "source": [
    "import pandas as pd\n",
    "import lightgbm as lgb"
   ]
  },
  {
   "cell_type": "code",
   "execution_count": 12,
   "metadata": {},
   "outputs": [],
   "source": [
    "df_train = pd.read_parquet('sell_in_train.parquet')\n",
    "df_test = pd.read_parquet('sell_in_test.parquet')"
   ]
  },
  {
   "cell_type": "code",
   "execution_count": 13,
   "metadata": {},
   "outputs": [],
   "source": [
    "X_train = df_train.iloc[:,:-1]\n",
    "X_test = df_test.iloc[:,:-1]\n",
    "y_train = df_train.iloc[:,-1]\n",
    "y_test = df_test['tn_futuro']"
   ]
  },
  {
   "cell_type": "code",
   "execution_count": 14,
   "metadata": {},
   "outputs": [
    {
     "name": "stdout",
     "output_type": "stream",
     "text": [
      "X_train: (20789, 42)\n",
      "X_test: (780, 42)\n",
      "y_train: (20789,)\n",
      "y_test: (780,)\n"
     ]
    }
   ],
   "source": [
    "print(f\"X_train: {X_train.shape}\")\n",
    "print(f\"X_test: {X_test.shape}\")\n",
    "print(f\"y_train: {y_train.shape}\")\n",
    "print(f\"y_test: {y_test.shape}\")"
   ]
  },
  {
   "cell_type": "code",
   "execution_count": 15,
   "metadata": {},
   "outputs": [
    {
     "name": "stdout",
     "output_type": "stream",
     "text": [
      "[LightGBM] [Info] Auto-choosing col-wise multi-threading, the overhead of testing was 0.002279 seconds.\n",
      "You can set `force_col_wise=true` to remove the overhead.\n",
      "[LightGBM] [Info] Total Bins 9789\n",
      "[LightGBM] [Info] Number of data points in the train set: 20789, number of used features: 41\n",
      "[LightGBM] [Info] Start training from score 0.057580\n",
      "Prediction for example row: 0.7750481715120037\n"
     ]
    }
   ],
   "source": [
    "train_data = lgb.Dataset(X_train, label=y_train)\n",
    "test_data = lgb.Dataset(X_test, label=y_test)\n",
    "\n",
    "params = {\n",
    "    'objective': 'regression',\n",
    "    'metric': 'rmse',\n",
    "    'boosting_type': 'gbdt',\n",
    "    'num_leaves': 31,\n",
    "    'learning_rate': 0.01,\n",
    "    'feature_fraction': 0.4\n",
    "}\n",
    "\n",
    "model = lgb.train(params, train_data, num_boost_round=10000, valid_sets=[train_data, test_data])\n",
    "\n",
    "y_pred = model.predict(X_test, num_iteration=model.best_iteration)\n",
    "\n",
    "example_row = X_test.iloc[0]\n",
    "example_pred = model.predict(example_row.values.reshape(1, -1), num_iteration=model.best_iteration)\n",
    "print(f'Prediction for example row: {example_pred[0]}')"
   ]
  },
  {
   "cell_type": "code",
   "execution_count": 16,
   "metadata": {},
   "outputs": [],
   "source": [
    "final = X_test\n",
    "final['tn_futuro'] = y_test\n",
    "final['tn_prediccion'] = y_pred"
   ]
  },
  {
   "cell_type": "code",
   "execution_count": 17,
   "metadata": {},
   "outputs": [
    {
     "data": {
      "text/plain": [
       "Index(['product_id', 'periodo', 'primer_periodo', 'ultimo_periodo', 'tn_norm',\n",
       "       'periodo_dt', 'tn_lag_1', 'tn_lag_2', 'tn_lag_3', 'tn_lag_4',\n",
       "       'tn_lag_5', 'tn_lag_6', 'tn_lag_7', 'tn_lag_8', 'tn_lag_9', 'tn_lag_10',\n",
       "       'tn_lag_11', 'tn_lag_12', 'tn_diff_1', 'tn_diff_2', 'tn_diff_3',\n",
       "       'tn_diff_4', 'tn_diff_5', 'tn_diff_6', 'tn_diff_7', 'tn_diff_8',\n",
       "       'tn_diff_9', 'tn_diff_10', 'tn_diff_11', 'tn_diff_12', 'tn_diff2_1',\n",
       "       'tn_diff2_2', 'tn_diff2_3', 'tn_diff2_4', 'tn_diff2_5', 'tn_diff2_6',\n",
       "       'tn_diff2_7', 'tn_diff2_8', 'tn_diff2_9', 'tn_diff2_10', 'tn_diff2_11',\n",
       "       'tn_diff2_12', 'tn_futuro', 'tn_prediccion', 'average_tn',\n",
       "       'std_dev_tn'],\n",
       "      dtype='object')"
      ]
     },
     "execution_count": 17,
     "metadata": {},
     "output_type": "execute_result"
    }
   ],
   "source": [
    "prod_stats = pd.read_parquet('prod_stats.parquet')\n",
    "prod_stats = prod_stats[['product_id', 'average_tn','std_dev_tn']]\n",
    "final = final.merge(prod_stats, how='left', on='product_id')\n",
    "final.columns"
   ]
  },
  {
   "cell_type": "code",
   "execution_count": 18,
   "metadata": {},
   "outputs": [],
   "source": [
    "final['tn_futuro_real'] = (final['tn_norm'] + final['tn_futuro']) * final['std_dev_tn'] + final['average_tn']\n",
    "final['tn_prediccion_real'] = (final['tn_norm'] + final['tn_prediccion']) * final['std_dev_tn'] + final['average_tn']"
   ]
  },
  {
   "cell_type": "code",
   "execution_count": 19,
   "metadata": {},
   "outputs": [
    {
     "data": {
      "text/html": [
       "<div>\n",
       "<style scoped>\n",
       "    .dataframe tbody tr th:only-of-type {\n",
       "        vertical-align: middle;\n",
       "    }\n",
       "\n",
       "    .dataframe tbody tr th {\n",
       "        vertical-align: top;\n",
       "    }\n",
       "\n",
       "    .dataframe thead th {\n",
       "        text-align: right;\n",
       "    }\n",
       "</style>\n",
       "<table border=\"1\" class=\"dataframe\">\n",
       "  <thead>\n",
       "    <tr style=\"text-align: right;\">\n",
       "      <th></th>\n",
       "      <th>product_id</th>\n",
       "      <th>periodo</th>\n",
       "      <th>primer_periodo</th>\n",
       "      <th>ultimo_periodo</th>\n",
       "      <th>tn_norm</th>\n",
       "      <th>periodo_dt</th>\n",
       "      <th>tn_lag_1</th>\n",
       "      <th>tn_lag_2</th>\n",
       "      <th>tn_lag_3</th>\n",
       "      <th>tn_lag_4</th>\n",
       "      <th>...</th>\n",
       "      <th>tn_diff2_9</th>\n",
       "      <th>tn_diff2_10</th>\n",
       "      <th>tn_diff2_11</th>\n",
       "      <th>tn_diff2_12</th>\n",
       "      <th>tn_futuro</th>\n",
       "      <th>tn_prediccion</th>\n",
       "      <th>average_tn</th>\n",
       "      <th>std_dev_tn</th>\n",
       "      <th>tn_futuro_real</th>\n",
       "      <th>tn_prediccion_real</th>\n",
       "    </tr>\n",
       "  </thead>\n",
       "  <tbody>\n",
       "    <tr>\n",
       "      <th>0</th>\n",
       "      <td>20001</td>\n",
       "      <td>201912</td>\n",
       "      <td>201701</td>\n",
       "      <td>201912</td>\n",
       "      <td>0.356686</td>\n",
       "      <td>201912</td>\n",
       "      <td>-0.003260</td>\n",
       "      <td>0.547254</td>\n",
       "      <td>0.877630</td>\n",
       "      <td>-0.459504</td>\n",
       "      <td>...</td>\n",
       "      <td>-0.349650</td>\n",
       "      <td>0.415891</td>\n",
       "      <td>1.067363</td>\n",
       "      <td>1.454473</td>\n",
       "      <td>NaN</td>\n",
       "      <td>0.775048</td>\n",
       "      <td>1398.344322</td>\n",
       "      <td>298.145460</td>\n",
       "      <td>NaN</td>\n",
       "      <td>1735.765654</td>\n",
       "    </tr>\n",
       "    <tr>\n",
       "      <th>1</th>\n",
       "      <td>20002</td>\n",
       "      <td>201912</td>\n",
       "      <td>201701</td>\n",
       "      <td>201912</td>\n",
       "      <td>0.256522</td>\n",
       "      <td>201912</td>\n",
       "      <td>1.363271</td>\n",
       "      <td>3.193077</td>\n",
       "      <td>0.265998</td>\n",
       "      <td>-0.643725</td>\n",
       "      <td>...</td>\n",
       "      <td>-1.240414</td>\n",
       "      <td>-0.370250</td>\n",
       "      <td>-1.953699</td>\n",
       "      <td>1.385908</td>\n",
       "      <td>NaN</td>\n",
       "      <td>0.662930</td>\n",
       "      <td>1009.368178</td>\n",
       "      <td>303.834835</td>\n",
       "      <td>NaN</td>\n",
       "      <td>1288.729765</td>\n",
       "    </tr>\n",
       "    <tr>\n",
       "      <th>2</th>\n",
       "      <td>20003</td>\n",
       "      <td>201912</td>\n",
       "      <td>201701</td>\n",
       "      <td>201912</td>\n",
       "      <td>0.011975</td>\n",
       "      <td>201912</td>\n",
       "      <td>0.203021</td>\n",
       "      <td>0.658692</td>\n",
       "      <td>0.269716</td>\n",
       "      <td>-0.867729</td>\n",
       "      <td>...</td>\n",
       "      <td>0.220842</td>\n",
       "      <td>0.515860</td>\n",
       "      <td>-0.858568</td>\n",
       "      <td>1.305646</td>\n",
       "      <td>NaN</td>\n",
       "      <td>0.830771</td>\n",
       "      <td>889.004243</td>\n",
       "      <td>292.036581</td>\n",
       "      <td>NaN</td>\n",
       "      <td>1135.116926</td>\n",
       "    </tr>\n",
       "    <tr>\n",
       "      <th>3</th>\n",
       "      <td>20004</td>\n",
       "      <td>201912</td>\n",
       "      <td>201701</td>\n",
       "      <td>201912</td>\n",
       "      <td>-0.150213</td>\n",
       "      <td>201912</td>\n",
       "      <td>0.233133</td>\n",
       "      <td>1.751307</td>\n",
       "      <td>0.510385</td>\n",
       "      <td>-0.844204</td>\n",
       "      <td>...</td>\n",
       "      <td>-1.176696</td>\n",
       "      <td>-0.073104</td>\n",
       "      <td>-0.052637</td>\n",
       "      <td>0.582490</td>\n",
       "      <td>NaN</td>\n",
       "      <td>0.689765</td>\n",
       "      <td>671.615383</td>\n",
       "      <td>224.450085</td>\n",
       "      <td>NaN</td>\n",
       "      <td>792.717853</td>\n",
       "    </tr>\n",
       "    <tr>\n",
       "      <th>4</th>\n",
       "      <td>20005</td>\n",
       "      <td>201912</td>\n",
       "      <td>201701</td>\n",
       "      <td>201912</td>\n",
       "      <td>-0.233451</td>\n",
       "      <td>201912</td>\n",
       "      <td>-0.170835</td>\n",
       "      <td>1.615325</td>\n",
       "      <td>1.078133</td>\n",
       "      <td>-0.492651</td>\n",
       "      <td>...</td>\n",
       "      <td>-0.421406</td>\n",
       "      <td>-0.274804</td>\n",
       "      <td>-0.021154</td>\n",
       "      <td>0.380083</td>\n",
       "      <td>NaN</td>\n",
       "      <td>0.206793</td>\n",
       "      <td>644.200514</td>\n",
       "      <td>218.273222</td>\n",
       "      <td>NaN</td>\n",
       "      <td>638.381746</td>\n",
       "    </tr>\n",
       "  </tbody>\n",
       "</table>\n",
       "<p>5 rows × 48 columns</p>\n",
       "</div>"
      ],
      "text/plain": [
       "   product_id  periodo  primer_periodo  ultimo_periodo   tn_norm  periodo_dt  \\\n",
       "0       20001   201912          201701          201912  0.356686      201912   \n",
       "1       20002   201912          201701          201912  0.256522      201912   \n",
       "2       20003   201912          201701          201912  0.011975      201912   \n",
       "3       20004   201912          201701          201912 -0.150213      201912   \n",
       "4       20005   201912          201701          201912 -0.233451      201912   \n",
       "\n",
       "   tn_lag_1  tn_lag_2  tn_lag_3  tn_lag_4  ...  tn_diff2_9  tn_diff2_10  \\\n",
       "0 -0.003260  0.547254  0.877630 -0.459504  ...   -0.349650     0.415891   \n",
       "1  1.363271  3.193077  0.265998 -0.643725  ...   -1.240414    -0.370250   \n",
       "2  0.203021  0.658692  0.269716 -0.867729  ...    0.220842     0.515860   \n",
       "3  0.233133  1.751307  0.510385 -0.844204  ...   -1.176696    -0.073104   \n",
       "4 -0.170835  1.615325  1.078133 -0.492651  ...   -0.421406    -0.274804   \n",
       "\n",
       "   tn_diff2_11  tn_diff2_12  tn_futuro  tn_prediccion   average_tn  \\\n",
       "0     1.067363     1.454473        NaN       0.775048  1398.344322   \n",
       "1    -1.953699     1.385908        NaN       0.662930  1009.368178   \n",
       "2    -0.858568     1.305646        NaN       0.830771   889.004243   \n",
       "3    -0.052637     0.582490        NaN       0.689765   671.615383   \n",
       "4    -0.021154     0.380083        NaN       0.206793   644.200514   \n",
       "\n",
       "   std_dev_tn  tn_futuro_real  tn_prediccion_real  \n",
       "0  298.145460             NaN         1735.765654  \n",
       "1  303.834835             NaN         1288.729765  \n",
       "2  292.036581             NaN         1135.116926  \n",
       "3  224.450085             NaN          792.717853  \n",
       "4  218.273222             NaN          638.381746  \n",
       "\n",
       "[5 rows x 48 columns]"
      ]
     },
     "execution_count": 19,
     "metadata": {},
     "output_type": "execute_result"
    }
   ],
   "source": [
    "final.head()"
   ]
  },
  {
   "cell_type": "code",
   "execution_count": 20,
   "metadata": {},
   "outputs": [],
   "source": [
    "final.to_parquet('sell_in_pred.parquet', index=False)"
   ]
  }
 ],
 "metadata": {
  "kernelspec": {
   "display_name": "uni",
   "language": "python",
   "name": "python3"
  },
  "language_info": {
   "codemirror_mode": {
    "name": "ipython",
    "version": 3
   },
   "file_extension": ".py",
   "mimetype": "text/x-python",
   "name": "python",
   "nbconvert_exporter": "python",
   "pygments_lexer": "ipython3",
   "version": "3.10.13"
  }
 },
 "nbformat": 4,
 "nbformat_minor": 2
}
