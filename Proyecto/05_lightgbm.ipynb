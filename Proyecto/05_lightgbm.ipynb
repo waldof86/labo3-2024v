{
 "cells": [
  {
   "cell_type": "code",
   "execution_count": 21,
   "metadata": {},
   "outputs": [],
   "source": [
    "import pandas as pd\n",
    "import lightgbm as lgb"
   ]
  },
  {
   "cell_type": "code",
   "execution_count": 22,
   "metadata": {},
   "outputs": [],
   "source": [
    "df_train = pd.read_parquet('sell_in_train.parquet')\n",
    "df_test = pd.read_parquet('sell_in_test.parquet')"
   ]
  },
  {
   "cell_type": "code",
   "execution_count": 23,
   "metadata": {},
   "outputs": [],
   "source": [
    "X_train = df_train.iloc[:,:-1]\n",
    "X_test = df_test.iloc[:,:-1]\n",
    "y_train = df_train.iloc[:,-1]\n",
    "y_test = df_test.iloc[:,-1]"
   ]
  },
  {
   "cell_type": "code",
   "execution_count": 24,
   "metadata": {},
   "outputs": [
    {
     "name": "stdout",
     "output_type": "stream",
     "text": [
      "X_train: (14511, 110)\n",
      "X_test: (780, 110)\n",
      "y_train: (14511,)\n",
      "y_test: (780,)\n"
     ]
    }
   ],
   "source": [
    "print(f\"X_train: {X_train.shape}\")\n",
    "print(f\"X_test: {X_test.shape}\")\n",
    "print(f\"y_train: {y_train.shape}\")\n",
    "print(f\"y_test: {y_test.shape}\")"
   ]
  },
  {
   "cell_type": "code",
   "execution_count": 25,
   "metadata": {},
   "outputs": [
    {
     "name": "stdout",
     "output_type": "stream",
     "text": [
      "[LightGBM] [Info] Auto-choosing col-wise multi-threading, the overhead of testing was 0.004983 seconds.\n",
      "You can set `force_col_wise=true` to remove the overhead.\n",
      "[LightGBM] [Info] Total Bins 16005\n",
      "[LightGBM] [Info] Number of data points in the train set: 14511, number of used features: 107\n",
      "[LightGBM] [Info] Start training from score -0.061244\n",
      "Prediction for example row: -0.9372336717356808\n"
     ]
    }
   ],
   "source": [
    "train_data = lgb.Dataset(X_train, label=y_train)\n",
    "test_data = lgb.Dataset(X_test, label=y_test)\n",
    "\n",
    "params = {\n",
    "    'objective': 'regression',\n",
    "    'metric': 'rmse',\n",
    "    'boosting_type': 'gbdt',\n",
    "    'num_leaves': 31,\n",
    "    'learning_rate': 0.01,\n",
    "    'feature_fraction': 0.4\n",
    "}\n",
    "\n",
    "model = lgb.train(params, train_data, num_boost_round=1000, valid_sets=[train_data, test_data])\n",
    "\n",
    "y_pred = model.predict(X_test, num_iteration=model.best_iteration)\n",
    "\n",
    "example_row = X_test.iloc[0]\n",
    "example_pred = model.predict(example_row.values.reshape(1, -1), num_iteration=model.best_iteration)\n",
    "print(f'Prediction for example row: {example_pred[0]}')"
   ]
  },
  {
   "cell_type": "code",
   "execution_count": 26,
   "metadata": {},
   "outputs": [],
   "source": [
    "final = X_test\n",
    "final['tn_futuro'] = y_test\n",
    "final['tn_prediccion'] = y_pred"
   ]
  },
  {
   "cell_type": "code",
   "execution_count": 27,
   "metadata": {},
   "outputs": [
    {
     "data": {
      "text/plain": [
       "Index(['product_id', 'periodo', 'primer_periodo', 'ultimo_periodo', 'tn_norm',\n",
       "       'periodo_dt', 'mes', 'quarter', 'month_in_quarter', 'year',\n",
       "       ...\n",
       "       'crece_10', 'crece_11', 'crece_12', 'crece_13', 'crece_sum',\n",
       "       'decrece_sum', 'tn_futuro', 'tn_prediccion', 'average_tn',\n",
       "       'std_dev_tn'],\n",
       "      dtype='object', length=114)"
      ]
     },
     "execution_count": 27,
     "metadata": {},
     "output_type": "execute_result"
    }
   ],
   "source": [
    "prod_stats = pd.read_parquet('prod_stats.parquet')\n",
    "prod_stats = prod_stats[['product_id', 'average_tn','std_dev_tn']]\n",
    "final = final.merge(prod_stats, how='left', on='product_id')\n",
    "final.columns"
   ]
  },
  {
   "cell_type": "code",
   "execution_count": 28,
   "metadata": {},
   "outputs": [],
   "source": [
    "final['tn_futuro_real'] = (final['tn_norm'] + final['tn_futuro']) * final['std_dev_tn'] + final['average_tn']\n",
    "final['tn_prediccion_real'] = (final['tn_norm'] + final['tn_prediccion']) * final['std_dev_tn'] + final['average_tn']"
   ]
  },
  {
   "cell_type": "code",
   "execution_count": 29,
   "metadata": {},
   "outputs": [
    {
     "data": {
      "text/html": [
       "<div>\n",
       "<style scoped>\n",
       "    .dataframe tbody tr th:only-of-type {\n",
       "        vertical-align: middle;\n",
       "    }\n",
       "\n",
       "    .dataframe tbody tr th {\n",
       "        vertical-align: top;\n",
       "    }\n",
       "\n",
       "    .dataframe thead th {\n",
       "        text-align: right;\n",
       "    }\n",
       "</style>\n",
       "<table border=\"1\" class=\"dataframe\">\n",
       "  <thead>\n",
       "    <tr style=\"text-align: right;\">\n",
       "      <th></th>\n",
       "      <th>product_id</th>\n",
       "      <th>periodo</th>\n",
       "      <th>primer_periodo</th>\n",
       "      <th>ultimo_periodo</th>\n",
       "      <th>tn_norm</th>\n",
       "      <th>periodo_dt</th>\n",
       "      <th>mes</th>\n",
       "      <th>quarter</th>\n",
       "      <th>month_in_quarter</th>\n",
       "      <th>year</th>\n",
       "      <th>...</th>\n",
       "      <th>crece_12</th>\n",
       "      <th>crece_13</th>\n",
       "      <th>crece_sum</th>\n",
       "      <th>decrece_sum</th>\n",
       "      <th>tn_futuro</th>\n",
       "      <th>tn_prediccion</th>\n",
       "      <th>average_tn</th>\n",
       "      <th>std_dev_tn</th>\n",
       "      <th>tn_futuro_real</th>\n",
       "      <th>tn_prediccion_real</th>\n",
       "    </tr>\n",
       "  </thead>\n",
       "  <tbody>\n",
       "    <tr>\n",
       "      <th>0</th>\n",
       "      <td>20001</td>\n",
       "      <td>201912</td>\n",
       "      <td>201701</td>\n",
       "      <td>201912</td>\n",
       "      <td>0.356686</td>\n",
       "      <td>201912</td>\n",
       "      <td>12</td>\n",
       "      <td>4</td>\n",
       "      <td>3</td>\n",
       "      <td>2019</td>\n",
       "      <td>...</td>\n",
       "      <td>False</td>\n",
       "      <td>False</td>\n",
       "      <td>5</td>\n",
       "      <td>7</td>\n",
       "      <td>NaN</td>\n",
       "      <td>-0.937234</td>\n",
       "      <td>1398.344322</td>\n",
       "      <td>298.145460</td>\n",
       "      <td>NaN</td>\n",
       "      <td>1225.256596</td>\n",
       "    </tr>\n",
       "    <tr>\n",
       "      <th>1</th>\n",
       "      <td>20002</td>\n",
       "      <td>201912</td>\n",
       "      <td>201701</td>\n",
       "      <td>201912</td>\n",
       "      <td>0.256522</td>\n",
       "      <td>201912</td>\n",
       "      <td>12</td>\n",
       "      <td>4</td>\n",
       "      <td>3</td>\n",
       "      <td>2019</td>\n",
       "      <td>...</td>\n",
       "      <td>True</td>\n",
       "      <td>False</td>\n",
       "      <td>6</td>\n",
       "      <td>6</td>\n",
       "      <td>NaN</td>\n",
       "      <td>-0.472139</td>\n",
       "      <td>1009.368178</td>\n",
       "      <td>303.834835</td>\n",
       "      <td>NaN</td>\n",
       "      <td>943.856354</td>\n",
       "    </tr>\n",
       "    <tr>\n",
       "      <th>2</th>\n",
       "      <td>20003</td>\n",
       "      <td>201912</td>\n",
       "      <td>201701</td>\n",
       "      <td>201912</td>\n",
       "      <td>0.011975</td>\n",
       "      <td>201912</td>\n",
       "      <td>12</td>\n",
       "      <td>4</td>\n",
       "      <td>3</td>\n",
       "      <td>2019</td>\n",
       "      <td>...</td>\n",
       "      <td>True</td>\n",
       "      <td>False</td>\n",
       "      <td>6</td>\n",
       "      <td>6</td>\n",
       "      <td>NaN</td>\n",
       "      <td>-0.502988</td>\n",
       "      <td>889.004243</td>\n",
       "      <td>292.036581</td>\n",
       "      <td>NaN</td>\n",
       "      <td>745.610447</td>\n",
       "    </tr>\n",
       "    <tr>\n",
       "      <th>3</th>\n",
       "      <td>20004</td>\n",
       "      <td>201912</td>\n",
       "      <td>201701</td>\n",
       "      <td>201912</td>\n",
       "      <td>-0.150213</td>\n",
       "      <td>201912</td>\n",
       "      <td>12</td>\n",
       "      <td>4</td>\n",
       "      <td>3</td>\n",
       "      <td>2019</td>\n",
       "      <td>...</td>\n",
       "      <td>False</td>\n",
       "      <td>False</td>\n",
       "      <td>5</td>\n",
       "      <td>7</td>\n",
       "      <td>NaN</td>\n",
       "      <td>-0.549373</td>\n",
       "      <td>671.615383</td>\n",
       "      <td>224.450085</td>\n",
       "      <td>NaN</td>\n",
       "      <td>514.593195</td>\n",
       "    </tr>\n",
       "    <tr>\n",
       "      <th>4</th>\n",
       "      <td>20005</td>\n",
       "      <td>201912</td>\n",
       "      <td>201701</td>\n",
       "      <td>201912</td>\n",
       "      <td>-0.233451</td>\n",
       "      <td>201912</td>\n",
       "      <td>12</td>\n",
       "      <td>4</td>\n",
       "      <td>3</td>\n",
       "      <td>2019</td>\n",
       "      <td>...</td>\n",
       "      <td>False</td>\n",
       "      <td>False</td>\n",
       "      <td>6</td>\n",
       "      <td>6</td>\n",
       "      <td>NaN</td>\n",
       "      <td>-0.417612</td>\n",
       "      <td>644.200514</td>\n",
       "      <td>218.273222</td>\n",
       "      <td>NaN</td>\n",
       "      <td>502.090965</td>\n",
       "    </tr>\n",
       "  </tbody>\n",
       "</table>\n",
       "<p>5 rows × 116 columns</p>\n",
       "</div>"
      ],
      "text/plain": [
       "   product_id  periodo  primer_periodo  ultimo_periodo   tn_norm  periodo_dt  \\\n",
       "0       20001   201912          201701          201912  0.356686      201912   \n",
       "1       20002   201912          201701          201912  0.256522      201912   \n",
       "2       20003   201912          201701          201912  0.011975      201912   \n",
       "3       20004   201912          201701          201912 -0.150213      201912   \n",
       "4       20005   201912          201701          201912 -0.233451      201912   \n",
       "\n",
       "   mes  quarter  month_in_quarter  year  ...  crece_12  crece_13  crece_sum  \\\n",
       "0   12        4                 3  2019  ...     False     False          5   \n",
       "1   12        4                 3  2019  ...      True     False          6   \n",
       "2   12        4                 3  2019  ...      True     False          6   \n",
       "3   12        4                 3  2019  ...     False     False          5   \n",
       "4   12        4                 3  2019  ...     False     False          6   \n",
       "\n",
       "   decrece_sum  tn_futuro  tn_prediccion   average_tn  std_dev_tn  \\\n",
       "0            7        NaN      -0.937234  1398.344322  298.145460   \n",
       "1            6        NaN      -0.472139  1009.368178  303.834835   \n",
       "2            6        NaN      -0.502988   889.004243  292.036581   \n",
       "3            7        NaN      -0.549373   671.615383  224.450085   \n",
       "4            6        NaN      -0.417612   644.200514  218.273222   \n",
       "\n",
       "   tn_futuro_real  tn_prediccion_real  \n",
       "0             NaN         1225.256596  \n",
       "1             NaN          943.856354  \n",
       "2             NaN          745.610447  \n",
       "3             NaN          514.593195  \n",
       "4             NaN          502.090965  \n",
       "\n",
       "[5 rows x 116 columns]"
      ]
     },
     "execution_count": 29,
     "metadata": {},
     "output_type": "execute_result"
    }
   ],
   "source": [
    "final.head()"
   ]
  },
  {
   "cell_type": "code",
   "execution_count": 30,
   "metadata": {},
   "outputs": [],
   "source": [
    "final.to_parquet('sell_in_pred.parquet', index=False)"
   ]
  },
  {
   "cell_type": "code",
   "execution_count": null,
   "metadata": {},
   "outputs": [],
   "source": []
  }
 ],
 "metadata": {
  "kernelspec": {
   "display_name": "uni",
   "language": "python",
   "name": "python3"
  },
  "language_info": {
   "codemirror_mode": {
    "name": "ipython",
    "version": 3
   },
   "file_extension": ".py",
   "mimetype": "text/x-python",
   "name": "python",
   "nbconvert_exporter": "python",
   "pygments_lexer": "ipython3",
   "version": "3.10.13"
  }
 },
 "nbformat": 4,
 "nbformat_minor": 2
}
