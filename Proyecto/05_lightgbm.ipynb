{
 "cells": [
  {
   "cell_type": "code",
   "execution_count": 1,
   "metadata": {},
   "outputs": [],
   "source": [
    "import pandas as pd\n",
    "import lightgbm as lgb\n",
    "from datetime import datetime\n",
    "import matplotlib.pyplot as plt\n",
    "import json\n",
    "import numpy as np\n",
    "\n",
    "import warnings\n",
    "warnings.filterwarnings('ignore')\n",
    "\n",
    "fase = '05_lightgbm (un intento)'"
   ]
  },
  {
   "cell_type": "code",
   "execution_count": 2,
   "metadata": {},
   "outputs": [],
   "source": [
    "with open('gen_config.json', 'r') as file:\n",
    "    gen_config =json.load(file)"
   ]
  },
  {
   "cell_type": "code",
   "execution_count": 3,
   "metadata": {},
   "outputs": [
    {
     "name": "stdout",
     "output_type": "stream",
     "text": [
      "----------------------------------------------COMIENZA----------------------------------------------\n",
      "--------------------------------------05_lightgbm (un intento)--------------------------------------\n"
     ]
    }
   ],
   "source": [
    "folder = gen_config['folder']\n",
    "\n",
    "path_pred_test = gen_config['path_pred_test']\n",
    "path_pred_futuro = gen_config['path_pred_futuro']\n",
    "path_prod_stats = gen_config['path_prod_stats']\n",
    "\n",
    "path_train = gen_config['path_train']\n",
    "path_test = gen_config['path_test']\n",
    "path_futuro = gen_config['path_futuro']\n",
    "\n",
    "lgbm_params = gen_config['var_lgbm_params']\n",
    "exclusiones = gen_config['var_exclusiones']\n",
    "dibujar_pesos = gen_config['var_dibujar_pesos']\n",
    "var_num_boost_round = gen_config['var_num_boost_round']\n",
    "\n",
    "print(f\"{'COMIENZA':-^100}\")\n",
    "print(f\"{fase:-^100}\")"
   ]
  },
  {
   "cell_type": "code",
   "execution_count": 4,
   "metadata": {},
   "outputs": [
    {
     "name": "stdout",
     "output_type": "stream",
     "text": [
      "Shape df_train...........: (2173865, 155)\n",
      "Shape df_test............: (68823, 155)\n",
      "Shape df_futuro..........: (53008, 155)\n"
     ]
    }
   ],
   "source": [
    "df_train = pd.read_parquet(f\"{folder}/{path_train}\")\n",
    "df_test = pd.read_parquet(f\"{folder}/{path_test}\")\n",
    "df_futuro = pd.read_parquet(f\"{folder}/{path_futuro}\")\n",
    "\n",
    "print(f\"{'Shape df_train':.<25}: {df_train.shape}\")\n",
    "print(f\"{'Shape df_test':.<25}: {df_test.shape}\")\n",
    "print(f\"{'Shape df_futuro':.<25}: {df_futuro.shape}\")"
   ]
  },
  {
   "cell_type": "code",
   "execution_count": 5,
   "metadata": {},
   "outputs": [
    {
     "name": "stdout",
     "output_type": "stream",
     "text": [
      "Convertidas a categorical: ['yearquarter', 'cat1', 'cat2', 'cat3', 'brand', 'descripcion']\n"
     ]
    }
   ],
   "source": [
    "categorical_features = df_train.select_dtypes(['category']).columns.tolist()\n",
    "for col in categorical_features:\n",
    "    df_train[col] = df_train[col].cat.codes\n",
    "    df_test[col] = df_test[col].cat.codes\n",
    "    df_futuro[col] = df_futuro[col].cat.codes\n",
    "print(f\"Convertidas a categorical: {categorical_features}\")"
   ]
  },
  {
   "cell_type": "code",
   "execution_count": 6,
   "metadata": {},
   "outputs": [
    {
     "name": "stdout",
     "output_type": "stream",
     "text": [
      "Shape X_train............: (2173865, 154)\n",
      "Shape X_test.............: (68823, 154)\n",
      "Shape X_futuro...........: (53008, 154)\n",
      "Shape y_train............: (2173865,)\n",
      "Shape y_test.............: (68823,)\n",
      "Shape y_futuro...........: (53008,)\n"
     ]
    }
   ],
   "source": [
    "X_train = df_train.iloc[:,:-1]\n",
    "X_test = df_test.iloc[:,:-1]\n",
    "X_futuro = df_futuro.iloc[:,:-1]\n",
    "\n",
    "y_train = df_train.iloc[:,-1]\n",
    "y_test = df_test.iloc[:,-1]\n",
    "y_futuro = df_futuro.iloc[:,-1]\n",
    "\n",
    "print(f\"{'Shape X_train':.<25}: {X_train.shape}\")\n",
    "print(f\"{'Shape X_test':.<25}: {X_test.shape}\")\n",
    "print(f\"{'Shape X_futuro':.<25}: {X_futuro.shape}\")\n",
    "\n",
    "print(f\"{'Shape y_train':.<25}: {y_train.shape}\")\n",
    "print(f\"{'Shape y_test':.<25}: {y_test.shape}\")\n",
    "print(f\"{'Shape y_futuro':.<25}: {y_futuro.shape}\")"
   ]
  },
  {
   "cell_type": "code",
   "execution_count": 8,
   "metadata": {},
   "outputs": [
    {
     "name": "stdout",
     "output_type": "stream",
     "text": [
      "[LightGBM] [Info] Total Bins 90394\n",
      "[LightGBM] [Info] Number of data points in the train set: 2173865, number of used features: 152\n",
      "[LightGBM] [Info] Start training from score -0.000213\n"
     ]
    }
   ],
   "source": [
    "train_data = lgb.Dataset(X_train.drop(columns=exclusiones), label=y_train)\n",
    "test_data = lgb.Dataset(X_test.drop(columns=exclusiones), label=y_test)\n",
    "futuro_data = lgb.Dataset(X_futuro.drop(columns=exclusiones), label=y_futuro)\n",
    "\n",
    "params = lgbm_params\n",
    "\n",
    "model = lgb.train(params,\n",
    "                train_data,\n",
    "                num_boost_round=var_num_boost_round,\n",
    "                valid_sets=[train_data, test_data],\n",
    "                )\n",
    "\n",
    "#y_pred = model.predict(X_test, num_iteration=model.best_iteration)\n",
    "y_pred = model.predict(X_test.drop(columns=exclusiones), num_iteration=model.best_iteration)\n",
    "y_pred_futuro = model.predict(X_futuro.drop(columns=exclusiones), num_iteration=model.best_iteration)\n",
    "\n",
    "#example_row = X_test.iloc[0]\n",
    "#example_pred = model.predict(example_row.values.reshape(1, -1), num_iteration=model.best_iteration)\n",
    "#print(f'Prediction for example row: {example_pred[0]}')"
   ]
  },
  {
   "cell_type": "code",
   "execution_count": 9,
   "metadata": {},
   "outputs": [],
   "source": [
    "final = X_test\n",
    "final['tn_futuro'] = y_test\n",
    "final['tn_prediccion'] = y_pred"
   ]
  },
  {
   "cell_type": "code",
   "execution_count": 10,
   "metadata": {},
   "outputs": [
    {
     "data": {
      "text/plain": [
       "Index(['periodo', 'product_id', 'customer_id', 'primer_periodo',\n",
       "       'ultimo_periodo', 'tn_norm', 'periodo_dt', 'mes', 'quarter',\n",
       "       'month_in_quarter',\n",
       "       ...\n",
       "       'prop_product_yearquarter_brand',\n",
       "       'prop_product_yearquarter_descripcion', 'prop_product_year_cat1',\n",
       "       'prop_product_year_cat2', 'prop_product_year_brand',\n",
       "       'prop_product_year_descripcion', 'tn_futuro', 'tn_prediccion',\n",
       "       'average_tn', 'std_dev_tn'],\n",
       "      dtype='object', length=158)"
      ]
     },
     "execution_count": 10,
     "metadata": {},
     "output_type": "execute_result"
    }
   ],
   "source": [
    "#prod_stats = pd.read_parquet('prod_stats.parquet')\n",
    "prod_stats = pd.read_parquet(f\"{folder}/{path_prod_stats}\")\n",
    "#prod_stats = pd.read_parquet('./Experimentos/2024-06-23_NuevoScript/01_prod_stats.parquet')\n",
    "\n",
    "prod_stats = prod_stats[['product_id','customer_id', 'average_tn', 'std_dev_tn']]\n",
    "final = final.merge(prod_stats, how='left', on=['product_id','customer_id'])\n",
    "final.columns"
   ]
  },
  {
   "cell_type": "code",
   "execution_count": 11,
   "metadata": {},
   "outputs": [],
   "source": [
    "final['tn_futuro_real'] = (final['tn_norm'] + final['tn_futuro']) * final['std_dev_tn'] + final['average_tn'] # por dos porque esta normalizado y al hacer sumas y restas se acumulan medias\n",
    "final['tn_prediccion_real'] = (final['tn_norm'] + final['tn_prediccion']) * final['std_dev_tn'] + final['average_tn']"
   ]
  },
  {
   "cell_type": "code",
   "execution_count": 12,
   "metadata": {},
   "outputs": [
    {
     "data": {
      "text/html": [
       "<div>\n",
       "<style scoped>\n",
       "    .dataframe tbody tr th:only-of-type {\n",
       "        vertical-align: middle;\n",
       "    }\n",
       "\n",
       "    .dataframe tbody tr th {\n",
       "        vertical-align: top;\n",
       "    }\n",
       "\n",
       "    .dataframe thead th {\n",
       "        text-align: right;\n",
       "    }\n",
       "</style>\n",
       "<table border=\"1\" class=\"dataframe\">\n",
       "  <thead>\n",
       "    <tr style=\"text-align: right;\">\n",
       "      <th></th>\n",
       "      <th>periodo</th>\n",
       "      <th>product_id</th>\n",
       "      <th>customer_id</th>\n",
       "      <th>primer_periodo</th>\n",
       "      <th>ultimo_periodo</th>\n",
       "      <th>tn_norm</th>\n",
       "      <th>periodo_dt</th>\n",
       "      <th>mes</th>\n",
       "      <th>quarter</th>\n",
       "      <th>month_in_quarter</th>\n",
       "      <th>...</th>\n",
       "      <th>prop_product_year_cat1</th>\n",
       "      <th>prop_product_year_cat2</th>\n",
       "      <th>prop_product_year_brand</th>\n",
       "      <th>prop_product_year_descripcion</th>\n",
       "      <th>tn_futuro</th>\n",
       "      <th>tn_prediccion</th>\n",
       "      <th>average_tn</th>\n",
       "      <th>std_dev_tn</th>\n",
       "      <th>tn_futuro_real</th>\n",
       "      <th>tn_prediccion_real</th>\n",
       "    </tr>\n",
       "  </thead>\n",
       "  <tbody>\n",
       "    <tr>\n",
       "      <th>0</th>\n",
       "      <td>201910</td>\n",
       "      <td>20001</td>\n",
       "      <td>10001</td>\n",
       "      <td>201701</td>\n",
       "      <td>201912</td>\n",
       "      <td>-0.002853</td>\n",
       "      <td>201910</td>\n",
       "      <td>10</td>\n",
       "      <td>4</td>\n",
       "      <td>1</td>\n",
       "      <td>...</td>\n",
       "      <td>0.886014</td>\n",
       "      <td>1.615233</td>\n",
       "      <td>4.856661</td>\n",
       "      <td>5.280223</td>\n",
       "      <td>-0.633228</td>\n",
       "      <td>-0.011160</td>\n",
       "      <td>176.332358</td>\n",
       "      <td>106.032781</td>\n",
       "      <td>108.886823</td>\n",
       "      <td>174.846428</td>\n",
       "    </tr>\n",
       "    <tr>\n",
       "      <th>1</th>\n",
       "      <td>201910</td>\n",
       "      <td>20001</td>\n",
       "      <td>10002</td>\n",
       "      <td>201701</td>\n",
       "      <td>201912</td>\n",
       "      <td>-0.682375</td>\n",
       "      <td>201910</td>\n",
       "      <td>10</td>\n",
       "      <td>4</td>\n",
       "      <td>1</td>\n",
       "      <td>...</td>\n",
       "      <td>0.119940</td>\n",
       "      <td>0.232762</td>\n",
       "      <td>2.219713</td>\n",
       "      <td>2.355310</td>\n",
       "      <td>1.644565</td>\n",
       "      <td>0.072234</td>\n",
       "      <td>39.873140</td>\n",
       "      <td>32.921912</td>\n",
       "      <td>71.550300</td>\n",
       "      <td>19.786154</td>\n",
       "    </tr>\n",
       "    <tr>\n",
       "      <th>2</th>\n",
       "      <td>201910</td>\n",
       "      <td>20001</td>\n",
       "      <td>10003</td>\n",
       "      <td>201701</td>\n",
       "      <td>201912</td>\n",
       "      <td>-0.636082</td>\n",
       "      <td>201910</td>\n",
       "      <td>10</td>\n",
       "      <td>4</td>\n",
       "      <td>1</td>\n",
       "      <td>...</td>\n",
       "      <td>0.640027</td>\n",
       "      <td>1.524578</td>\n",
       "      <td>3.846872</td>\n",
       "      <td>4.306583</td>\n",
       "      <td>0.511200</td>\n",
       "      <td>0.070922</td>\n",
       "      <td>118.936374</td>\n",
       "      <td>67.491501</td>\n",
       "      <td>110.507895</td>\n",
       "      <td>80.792907</td>\n",
       "    </tr>\n",
       "    <tr>\n",
       "      <th>3</th>\n",
       "      <td>201910</td>\n",
       "      <td>20001</td>\n",
       "      <td>10004</td>\n",
       "      <td>201701</td>\n",
       "      <td>201912</td>\n",
       "      <td>0.962191</td>\n",
       "      <td>201910</td>\n",
       "      <td>10</td>\n",
       "      <td>4</td>\n",
       "      <td>1</td>\n",
       "      <td>...</td>\n",
       "      <td>3.434900</td>\n",
       "      <td>5.606660</td>\n",
       "      <td>15.234681</td>\n",
       "      <td>15.614218</td>\n",
       "      <td>-0.413359</td>\n",
       "      <td>-0.145367</td>\n",
       "      <td>215.009476</td>\n",
       "      <td>114.272811</td>\n",
       "      <td>277.726070</td>\n",
       "      <td>308.350176</td>\n",
       "    </tr>\n",
       "    <tr>\n",
       "      <th>4</th>\n",
       "      <td>201910</td>\n",
       "      <td>20001</td>\n",
       "      <td>10005</td>\n",
       "      <td>201701</td>\n",
       "      <td>201912</td>\n",
       "      <td>-0.124882</td>\n",
       "      <td>201910</td>\n",
       "      <td>10</td>\n",
       "      <td>4</td>\n",
       "      <td>1</td>\n",
       "      <td>...</td>\n",
       "      <td>0.191784</td>\n",
       "      <td>0.309645</td>\n",
       "      <td>7.100979</td>\n",
       "      <td>8.472211</td>\n",
       "      <td>1.109747</td>\n",
       "      <td>0.007888</td>\n",
       "      <td>18.928779</td>\n",
       "      <td>14.330075</td>\n",
       "      <td>33.041972</td>\n",
       "      <td>17.252251</td>\n",
       "    </tr>\n",
       "  </tbody>\n",
       "</table>\n",
       "<p>5 rows × 160 columns</p>\n",
       "</div>"
      ],
      "text/plain": [
       "   periodo  product_id  customer_id  primer_periodo  ultimo_periodo   tn_norm  \\\n",
       "0   201910       20001        10001          201701          201912 -0.002853   \n",
       "1   201910       20001        10002          201701          201912 -0.682375   \n",
       "2   201910       20001        10003          201701          201912 -0.636082   \n",
       "3   201910       20001        10004          201701          201912  0.962191   \n",
       "4   201910       20001        10005          201701          201912 -0.124882   \n",
       "\n",
       "   periodo_dt  mes  quarter  month_in_quarter  ...  prop_product_year_cat1  \\\n",
       "0      201910   10        4                 1  ...                0.886014   \n",
       "1      201910   10        4                 1  ...                0.119940   \n",
       "2      201910   10        4                 1  ...                0.640027   \n",
       "3      201910   10        4                 1  ...                3.434900   \n",
       "4      201910   10        4                 1  ...                0.191784   \n",
       "\n",
       "   prop_product_year_cat2  prop_product_year_brand  \\\n",
       "0                1.615233                 4.856661   \n",
       "1                0.232762                 2.219713   \n",
       "2                1.524578                 3.846872   \n",
       "3                5.606660                15.234681   \n",
       "4                0.309645                 7.100979   \n",
       "\n",
       "   prop_product_year_descripcion  tn_futuro  tn_prediccion  average_tn  \\\n",
       "0                       5.280223  -0.633228      -0.011160  176.332358   \n",
       "1                       2.355310   1.644565       0.072234   39.873140   \n",
       "2                       4.306583   0.511200       0.070922  118.936374   \n",
       "3                      15.614218  -0.413359      -0.145367  215.009476   \n",
       "4                       8.472211   1.109747       0.007888   18.928779   \n",
       "\n",
       "   std_dev_tn  tn_futuro_real  tn_prediccion_real  \n",
       "0  106.032781      108.886823          174.846428  \n",
       "1   32.921912       71.550300           19.786154  \n",
       "2   67.491501      110.507895           80.792907  \n",
       "3  114.272811      277.726070          308.350176  \n",
       "4   14.330075       33.041972           17.252251  \n",
       "\n",
       "[5 rows x 160 columns]"
      ]
     },
     "execution_count": 12,
     "metadata": {},
     "output_type": "execute_result"
    }
   ],
   "source": [
    "final.head()"
   ]
  },
  {
   "cell_type": "code",
   "execution_count": 13,
   "metadata": {},
   "outputs": [],
   "source": [
    "#final.to_parquet('sell_in_pred.parquet', index=False)\n",
    "final.to_parquet(f'{folder}/{path_pred_test}', index=False)"
   ]
  },
  {
   "cell_type": "code",
   "execution_count": 14,
   "metadata": {},
   "outputs": [],
   "source": [
    "final_futuro = X_futuro\n",
    "final_futuro['tn_futuro'] = y_futuro\n",
    "final_futuro['tn_prediccion'] = y_pred_futuro\n",
    "\n",
    "final_futuro = final_futuro.merge(prod_stats, how='left', on=['product_id','customer_id'])\n",
    "final_futuro.columns\n",
    "\n",
    "# por dos porque esta normalizado y al hacer sumas y restas se acumulan medias\n",
    "final_futuro['tn_futuro_real'] = (final_futuro['tn_norm'] + final_futuro['tn_futuro']) * final_futuro['std_dev_tn'] + final_futuro['average_tn'] \n",
    "final_futuro['tn_prediccion_real'] = (final_futuro['tn_norm'] + final_futuro['tn_prediccion']) * final_futuro['std_dev_tn'] + final_futuro['average_tn']\n",
    "\n",
    "#final_futuro.to_parquet('sell_in_pred_futuro.parquet', index=False)\n",
    "final_futuro.to_parquet(f'{folder}/{path_pred_futuro}', index=False)"
   ]
  },
  {
   "cell_type": "code",
   "execution_count": 15,
   "metadata": {},
   "outputs": [],
   "source": [
    "#estado_control = f\"05_lightgbm Terminado - {nombrefile} - {datetime.now()}\""
   ]
  },
  {
   "cell_type": "code",
   "execution_count": 16,
   "metadata": {},
   "outputs": [
    {
     "data": {
      "image/png": "[encoded data removed]",
      "text/plain": [
       "<Figure size 1000x1000 with 1 Axes>"
      ]
     },
     "metadata": {},
     "output_type": "display_data"
    }
   ],
   "source": [
    "lgb.plot_importance(model, max_num_features=20, figsize=(10,10))\n",
    "plt.show()"
   ]
  },
  {
   "cell_type": "code",
   "execution_count": 17,
   "metadata": {},
   "outputs": [],
   "source": [
    "importance_df = (\n",
    "    pd.DataFrame({\n",
    "        'feature_name': model.feature_name(),\n",
    "        'importance_gain': model.feature_importance(importance_type='gain'),\n",
    "        'importance_split': model.feature_importance(importance_type='split'),\n",
    "    })\n",
    "    .sort_values('importance_gain', ascending=False)\n",
    "    .reset_index(drop=True)\n",
    ")\n",
    "importance_df.sort_values('importance_split', ascending=False, inplace=True)\n",
    "feat_dibujar = importance_df[0:20]['feature_name'].reset_index(drop=True)"
   ]
  },
  {
   "cell_type": "code",
   "execution_count": 18,
   "metadata": {},
   "outputs": [
    {
     "data": {
      "text/html": [
       "<div>\n",
       "<style scoped>\n",
       "    .dataframe tbody tr th:only-of-type {\n",
       "        vertical-align: middle;\n",
       "    }\n",
       "\n",
       "    .dataframe tbody tr th {\n",
       "        vertical-align: top;\n",
       "    }\n",
       "\n",
       "    .dataframe thead th {\n",
       "        text-align: right;\n",
       "    }\n",
       "</style>\n",
       "<table border=\"1\" class=\"dataframe\">\n",
       "  <thead>\n",
       "    <tr style=\"text-align: right;\">\n",
       "      <th></th>\n",
       "      <th>feature_name</th>\n",
       "      <th>importance_gain</th>\n",
       "      <th>importance_split</th>\n",
       "    </tr>\n",
       "  </thead>\n",
       "  <tbody>\n",
       "    <tr>\n",
       "      <th>0</th>\n",
       "      <td>tn_norm</td>\n",
       "      <td>1.140616e+07</td>\n",
       "      <td>253</td>\n",
       "    </tr>\n",
       "    <tr>\n",
       "      <th>2</th>\n",
       "      <td>periodo</td>\n",
       "      <td>1.032519e+05</td>\n",
       "      <td>106</td>\n",
       "    </tr>\n",
       "    <tr>\n",
       "      <th>1</th>\n",
       "      <td>avg_1</td>\n",
       "      <td>1.087667e+06</td>\n",
       "      <td>28</td>\n",
       "    </tr>\n",
       "    <tr>\n",
       "      <th>3</th>\n",
       "      <td>yearquarter</td>\n",
       "      <td>6.502510e+03</td>\n",
       "      <td>3</td>\n",
       "    </tr>\n",
       "    <tr>\n",
       "      <th>97</th>\n",
       "      <td>avg_2</td>\n",
       "      <td>0.000000e+00</td>\n",
       "      <td>0</td>\n",
       "    </tr>\n",
       "    <tr>\n",
       "      <th>...</th>\n",
       "      <td>...</td>\n",
       "      <td>...</td>\n",
       "      <td>...</td>\n",
       "    </tr>\n",
       "    <tr>\n",
       "      <th>53</th>\n",
       "      <td>prop_product_yearquarter_brand</td>\n",
       "      <td>0.000000e+00</td>\n",
       "      <td>0</td>\n",
       "    </tr>\n",
       "    <tr>\n",
       "      <th>54</th>\n",
       "      <td>prop_product_yearquarter_descripcion</td>\n",
       "      <td>0.000000e+00</td>\n",
       "      <td>0</td>\n",
       "    </tr>\n",
       "    <tr>\n",
       "      <th>55</th>\n",
       "      <td>prop_product_year_cat1</td>\n",
       "      <td>0.000000e+00</td>\n",
       "      <td>0</td>\n",
       "    </tr>\n",
       "    <tr>\n",
       "      <th>56</th>\n",
       "      <td>prop_product_year_cat2</td>\n",
       "      <td>0.000000e+00</td>\n",
       "      <td>0</td>\n",
       "    </tr>\n",
       "    <tr>\n",
       "      <th>153</th>\n",
       "      <td>prop_product_year_descripcion</td>\n",
       "      <td>0.000000e+00</td>\n",
       "      <td>0</td>\n",
       "    </tr>\n",
       "  </tbody>\n",
       "</table>\n",
       "<p>154 rows × 3 columns</p>\n",
       "</div>"
      ],
      "text/plain": [
       "                             feature_name  importance_gain  importance_split\n",
       "0                                 tn_norm     1.140616e+07               253\n",
       "2                                 periodo     1.032519e+05               106\n",
       "1                                   avg_1     1.087667e+06                28\n",
       "3                             yearquarter     6.502510e+03                 3\n",
       "97                                  avg_2     0.000000e+00                 0\n",
       "..                                    ...              ...               ...\n",
       "53         prop_product_yearquarter_brand     0.000000e+00                 0\n",
       "54   prop_product_yearquarter_descripcion     0.000000e+00                 0\n",
       "55                 prop_product_year_cat1     0.000000e+00                 0\n",
       "56                 prop_product_year_cat2     0.000000e+00                 0\n",
       "153         prop_product_year_descripcion     0.000000e+00                 0\n",
       "\n",
       "[154 rows x 3 columns]"
      ]
     },
     "execution_count": 18,
     "metadata": {},
     "output_type": "execute_result"
    }
   ],
   "source": [
    "importance_df"
   ]
  },
  {
   "cell_type": "code",
   "execution_count": 19,
   "metadata": {},
   "outputs": [],
   "source": [
    "if dibujar_pesos==True:\n",
    "    fig, axs = plt.subplots(5, 4, figsize=(20, 25))\n",
    "    d = -1\n",
    "    for i in range(4):\n",
    "        for j in range(5):\n",
    "            d+=1\n",
    "            lgb.plot_split_value_histogram(model,\n",
    "                            feature=feat_dibujar[d],\n",
    "                            bins=\"auto\",\n",
    "                            ax=axs[j, i]\n",
    "                            ,title=f\"Feat: {feat_dibujar[d]}\")\n",
    "    plt.show()"
   ]
  },
  {
   "cell_type": "code",
   "execution_count": 20,
   "metadata": {},
   "outputs": [
    {
     "name": "stdout",
     "output_type": "stream",
     "text": [
      "--------------------------------------05_lightgbm (un intento)--------------------------------------\n",
      "----------------------------------------------FINALIZA----------------------------------------------\n",
      "\n",
      "\n",
      "\n"
     ]
    }
   ],
   "source": [
    "print(f\"{fase:-^100}\")\n",
    "print(f\"{'FINALIZA':-^100}\\n\\n\\n\")"
   ]
  }
 ],
 "metadata": {
  "kernelspec": {
   "display_name": "uni",
   "language": "python",
   "name": "python3"
  },
  "language_info": {
   "codemirror_mode": {
    "name": "ipython",
    "version": 3
   },
   "file_extension": ".py",
   "mimetype": "text/x-python",
   "name": "python",
   "nbconvert_exporter": "python",
   "pygments_lexer": "ipython3",
   "version": "3.10.13"
  }
 },
 "nbformat": 4,
 "nbformat_minor": 2
}
