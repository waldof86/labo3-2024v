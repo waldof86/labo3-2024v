{
 "cells": [
  {
   "cell_type": "code",
   "execution_count": 31,
   "metadata": {},
   "outputs": [],
   "source": [
    "import pandas as pd\n",
    "import numpy as np\n",
    "from prophet import Prophet\n",
    "from IPython.display import clear_output"
   ]
  },
  {
   "cell_type": "code",
   "execution_count": 32,
   "metadata": {},
   "outputs": [
    {
     "data": {
      "text/html": [
       "<div>\n",
       "<style scoped>\n",
       "    .dataframe tbody tr th:only-of-type {\n",
       "        vertical-align: middle;\n",
       "    }\n",
       "\n",
       "    .dataframe tbody tr th {\n",
       "        vertical-align: top;\n",
       "    }\n",
       "\n",
       "    .dataframe thead th {\n",
       "        text-align: right;\n",
       "    }\n",
       "</style>\n",
       "<table border=\"1\" class=\"dataframe\">\n",
       "  <thead>\n",
       "    <tr style=\"text-align: right;\">\n",
       "      <th></th>\n",
       "      <th>periodo</th>\n",
       "      <th>customer_id</th>\n",
       "      <th>product_id</th>\n",
       "      <th>plan_precios_cuidados</th>\n",
       "      <th>cust_request_qty</th>\n",
       "      <th>cust_request_tn</th>\n",
       "      <th>tn</th>\n",
       "      <th>fecha</th>\n",
       "    </tr>\n",
       "  </thead>\n",
       "  <tbody>\n",
       "    <tr>\n",
       "      <th>0</th>\n",
       "      <td>201701</td>\n",
       "      <td>10234</td>\n",
       "      <td>20524</td>\n",
       "      <td>0</td>\n",
       "      <td>2</td>\n",
       "      <td>0.05300</td>\n",
       "      <td>0.05300</td>\n",
       "      <td>2017-01-01</td>\n",
       "    </tr>\n",
       "    <tr>\n",
       "      <th>1</th>\n",
       "      <td>201701</td>\n",
       "      <td>10032</td>\n",
       "      <td>20524</td>\n",
       "      <td>0</td>\n",
       "      <td>1</td>\n",
       "      <td>0.13628</td>\n",
       "      <td>0.13628</td>\n",
       "      <td>2017-01-01</td>\n",
       "    </tr>\n",
       "    <tr>\n",
       "      <th>2</th>\n",
       "      <td>201701</td>\n",
       "      <td>10217</td>\n",
       "      <td>20524</td>\n",
       "      <td>0</td>\n",
       "      <td>1</td>\n",
       "      <td>0.03028</td>\n",
       "      <td>0.03028</td>\n",
       "      <td>2017-01-01</td>\n",
       "    </tr>\n",
       "    <tr>\n",
       "      <th>3</th>\n",
       "      <td>201701</td>\n",
       "      <td>10125</td>\n",
       "      <td>20524</td>\n",
       "      <td>0</td>\n",
       "      <td>1</td>\n",
       "      <td>0.02271</td>\n",
       "      <td>0.02271</td>\n",
       "      <td>2017-01-01</td>\n",
       "    </tr>\n",
       "    <tr>\n",
       "      <th>4</th>\n",
       "      <td>201701</td>\n",
       "      <td>10012</td>\n",
       "      <td>20524</td>\n",
       "      <td>0</td>\n",
       "      <td>11</td>\n",
       "      <td>1.54452</td>\n",
       "      <td>1.54452</td>\n",
       "      <td>2017-01-01</td>\n",
       "    </tr>\n",
       "  </tbody>\n",
       "</table>\n",
       "</div>"
      ],
      "text/plain": [
       "   periodo  customer_id  product_id  plan_precios_cuidados  cust_request_qty  \\\n",
       "0   201701        10234       20524                      0                 2   \n",
       "1   201701        10032       20524                      0                 1   \n",
       "2   201701        10217       20524                      0                 1   \n",
       "3   201701        10125       20524                      0                 1   \n",
       "4   201701        10012       20524                      0                11   \n",
       "\n",
       "   cust_request_tn       tn      fecha  \n",
       "0          0.05300  0.05300 2017-01-01  \n",
       "1          0.13628  0.13628 2017-01-01  \n",
       "2          0.03028  0.03028 2017-01-01  \n",
       "3          0.02271  0.02271 2017-01-01  \n",
       "4          1.54452  1.54452 2017-01-01  "
      ]
     },
     "execution_count": 32,
     "metadata": {},
     "output_type": "execute_result"
    }
   ],
   "source": [
    "df = pd.read_csv('sell-in.txt',sep='\\t')\n",
    "df['fecha'] = pd.to_datetime(df['periodo'].astype(str), format='%Y%m')\n",
    "df.head()"
   ]
  },
  {
   "cell_type": "code",
   "execution_count": 33,
   "metadata": {},
   "outputs": [],
   "source": [
    "# Función para crear la serie de tiempo para un producto\n",
    "def serie_producto(id_producto):\n",
    "    df_prod = df[df['product_id'] == id_producto].loc[:, ['fecha', 'tn']]\n",
    "    if len(df_prod) == 0:\n",
    "        return None\n",
    "    \n",
    "    # Filtrar solo los períodos de 2019\n",
    "    df_prod = df_prod[df_prod['fecha'].dt.year == 2019]\n",
    "    #df_prod = df_prod[df_prod['fecha'].dt.month >= 7]\n",
    "\n",
    "    # Encontrar la fecha inicial y final para el producto\n",
    "    fecha_inicial = df_prod['fecha'].min()\n",
    "    fecha_final = df_prod['fecha'].max()\n",
    "    \n",
    "    # Generar fechas hasta febrero de 2020\n",
    "    fechas_productos = pd.date_range(start=fecha_inicial, end='2020-02-01', freq='MS')\n",
    "    df_fechas_productos = pd.DataFrame({'fecha': fechas_productos})\n",
    "    \n",
    "    df_prod = df_prod.groupby('fecha').agg({'tn': 'sum'}).reset_index()\n",
    "    df_ret = pd.merge(df_fechas_productos, df_prod, on='fecha', how='left')\n",
    "    df_ret['tn'].interpolate(method='linear', inplace=True)\n",
    "    df_ret.fillna(0, inplace=True)\n",
    "    return df_ret"
   ]
  },
  {
   "cell_type": "code",
   "execution_count": 34,
   "metadata": {},
   "outputs": [],
   "source": [
    "# DataFrame para almacenar predicciones\n",
    "df_pred = pd.read_csv('productos_a_predecir.txt', sep='\\t')\n",
    "\n",
    "# Predicciones\n",
    "resultados = []"
   ]
  },
  {
   "cell_type": "code",
   "execution_count": 35,
   "metadata": {},
   "outputs": [
    {
     "name": "stderr",
     "output_type": "stream",
     "text": [
      "01:51:41 - cmdstanpy - INFO - Chain [1] start processing\n"
     ]
    },
    {
     "name": "stdout",
     "output_type": "stream",
     "text": [
      "Progress: 780/780\r"
     ]
    },
    {
     "name": "stderr",
     "output_type": "stream",
     "text": [
      "01:51:41 - cmdstanpy - INFO - Chain [1] done processing\n"
     ]
    }
   ],
   "source": [
    "for i in range(len(df_pred)):\n",
    "    id_producto = df_pred.iloc[i, 0]\n",
    "    df_prod = serie_producto(id_producto)\n",
    "    clear_output()\n",
    "    print(f\"Progress: {i+1}/{len(df_pred)}\", end=\"\\r\")\n",
    "    if df_prod is not None:\n",
    "        df_prod_prophet = df_prod.rename(columns={'fecha': 'ds', 'tn': 'y'})\n",
    "        \n",
    "        modelo = Prophet()\n",
    "        modelo.fit(df_prod_prophet)\n",
    "        \n",
    "        future = modelo.make_future_dataframe(periods=1, freq='MS')\n",
    "        forecast = modelo.predict(future)\n",
    "        \n",
    "        pred_final =  max(forecast['yhat'].iloc[-1],0) #abs(forecast['yhat'].iloc[-1])  # Valor absoluto para evitar negativos\n",
    "        resultados.append([id_producto, pred_final])"
   ]
  },
  {
   "cell_type": "code",
   "execution_count": 36,
   "metadata": {},
   "outputs": [],
   "source": [
    "# Crear DataFrame con los resultados\n",
    "df_resultados = pd.DataFrame(resultados, columns=['product_id', 'tn'])\n",
    "\n",
    "# Guardar predicciones\n",
    "df_resultados.to_csv('pred_prophet0_1.csv', index=False)"
   ]
  },
  {
   "cell_type": "code",
   "execution_count": 47,
   "metadata": {},
   "outputs": [],
   "source": [
    "pred12meses = pd.read_csv('prediccion2.csv')\n",
    "predprophet = pd.read_csv('pred_prophet0_1.csv')"
   ]
  },
  {
   "cell_type": "code",
   "execution_count": 48,
   "metadata": {},
   "outputs": [
    {
     "name": "stdout",
     "output_type": "stream",
     "text": [
      "30069.153636666666\n",
      "27295.226766673997\n",
      "1.1016268116658214\n"
     ]
    }
   ],
   "source": [
    "tot12 = pred12meses['tn'].sum()\n",
    "totproph = predprophet['tn'].sum()\n",
    "print(tot12)\n",
    "print(totproph)\n",
    "ratio = tot12/totproph\n",
    "print(ratio)"
   ]
  },
  {
   "cell_type": "code",
   "execution_count": 49,
   "metadata": {},
   "outputs": [],
   "source": [
    "predprophet['tn'] = predprophet['tn']*ratio"
   ]
  },
  {
   "cell_type": "code",
   "execution_count": 50,
   "metadata": {},
   "outputs": [
    {
     "name": "stdout",
     "output_type": "stream",
     "text": [
      "30069.153636666666\n",
      "30069.153636666666\n",
      "1.0\n"
     ]
    }
   ],
   "source": [
    "tot12 = pred12meses['tn'].sum()\n",
    "totproph = predprophet['tn'].sum()\n",
    "print(tot12)\n",
    "print(totproph)\n",
    "ratio = tot12/totproph\n",
    "print(ratio)"
   ]
  },
  {
   "cell_type": "code",
   "execution_count": 51,
   "metadata": {},
   "outputs": [],
   "source": [
    "predprophet.to_csv('corregida_ratio2.csv', index=False)"
   ]
  },
  {
   "cell_type": "markdown",
   "metadata": {},
   "source": [
    "otra"
   ]
  },
  {
   "cell_type": "code",
   "execution_count": 52,
   "metadata": {},
   "outputs": [],
   "source": [
    "pred12meses = pd.read_csv('prediccion2.csv')\n",
    "predprophet = pd.read_csv('pred_prophet3.csv')"
   ]
  },
  {
   "cell_type": "code",
   "execution_count": 53,
   "metadata": {},
   "outputs": [
    {
     "name": "stdout",
     "output_type": "stream",
     "text": [
      "30069.153636666666\n",
      "25497.82757923429\n",
      "1.1792829621749938\n"
     ]
    }
   ],
   "source": [
    "tot12 = pred12meses['tn'].sum()\n",
    "totproph = predprophet['tn'].sum()\n",
    "print(tot12)\n",
    "print(totproph)\n",
    "ratio = tot12/totproph\n",
    "print(ratio)"
   ]
  },
  {
   "cell_type": "code",
   "execution_count": 54,
   "metadata": {},
   "outputs": [],
   "source": [
    "predprophet['tn'] = predprophet['tn']*ratio"
   ]
  },
  {
   "cell_type": "code",
   "execution_count": 55,
   "metadata": {},
   "outputs": [
    {
     "name": "stdout",
     "output_type": "stream",
     "text": [
      "30069.153636666666\n",
      "30069.15363666667\n",
      "0.9999999999999999\n"
     ]
    }
   ],
   "source": [
    "tot12 = pred12meses['tn'].sum()\n",
    "totproph = predprophet['tn'].sum()\n",
    "print(tot12)\n",
    "print(totproph)\n",
    "ratio = tot12/totproph\n",
    "print(ratio)"
   ]
  },
  {
   "cell_type": "code",
   "execution_count": 57,
   "metadata": {},
   "outputs": [],
   "source": [
    "predprophet.to_csv('corregida_ratio3.csv', index=False)"
   ]
  }
 ],
 "metadata": {
  "kernelspec": {
   "display_name": "uni",
   "language": "python",
   "name": "python3"
  },
  "language_info": {
   "codemirror_mode": {
    "name": "ipython",
    "version": 3
   },
   "file_extension": ".py",
   "mimetype": "text/x-python",
   "name": "python",
   "nbconvert_exporter": "python",
   "pygments_lexer": "ipython3",
   "version": "3.10.13"
  }
 },
 "nbformat": 4,
 "nbformat_minor": 2
}
