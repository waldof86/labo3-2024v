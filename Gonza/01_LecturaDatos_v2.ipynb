{
 "cells": [
  {
   "cell_type": "code",
   "execution_count": 4,
   "metadata": {},
   "outputs": [],
   "source": [
    "import pandas as pd\n",
    "import numpy as np"
   ]
  },
  {
   "cell_type": "code",
   "execution_count": 5,
   "metadata": {},
   "outputs": [],
   "source": [
    "df = pd.read_csv('sell-in.txt',sep='\\t')"
   ]
  },
  {
   "cell_type": "code",
   "execution_count": 6,
   "metadata": {},
   "outputs": [],
   "source": [
    "prod_a_predecir = pd.read_csv('productos_a_predecir.txt', sep='\\t')"
   ]
  },
  {
   "cell_type": "code",
   "execution_count": 7,
   "metadata": {},
   "outputs": [],
   "source": [
    "df_grouped = df.groupby(['periodo', 'product_id']).sum().reset_index()"
   ]
  },
  {
   "cell_type": "code",
   "execution_count": 8,
   "metadata": {},
   "outputs": [],
   "source": [
    "categorias = pd.read_csv('tb_productos_nuevo.txt', sep='\\t')"
   ]
  },
  {
   "cell_type": "code",
   "execution_count": 10,
   "metadata": {},
   "outputs": [],
   "source": [
    "stocks = pd.read_csv('tb_stocks.txt', sep='\\t')"
   ]
  },
  {
   "cell_type": "code",
   "execution_count": 57,
   "metadata": {},
   "outputs": [],
   "source": [
    "df_grouped = df_grouped[['product_id', 'periodo', 'tn']]\n",
    "df_grouped.sort_values(by=['product_id', 'periodo'], inplace=True)\n",
    "df_grouped.reset_index(drop=True, inplace=True)"
   ]
  },
  {
   "cell_type": "code",
   "execution_count": 58,
   "metadata": {},
   "outputs": [
    {
     "data": {
      "text/html": [
       "<div>\n",
       "<style scoped>\n",
       "    .dataframe tbody tr th:only-of-type {\n",
       "        vertical-align: middle;\n",
       "    }\n",
       "\n",
       "    .dataframe tbody tr th {\n",
       "        vertical-align: top;\n",
       "    }\n",
       "\n",
       "    .dataframe thead th {\n",
       "        text-align: right;\n",
       "    }\n",
       "</style>\n",
       "<table border=\"1\" class=\"dataframe\">\n",
       "  <thead>\n",
       "    <tr style=\"text-align: right;\">\n",
       "      <th></th>\n",
       "      <th>product_id</th>\n",
       "      <th>periodo</th>\n",
       "      <th>tn</th>\n",
       "    </tr>\n",
       "  </thead>\n",
       "  <tbody>\n",
       "    <tr>\n",
       "      <th>0</th>\n",
       "      <td>20001</td>\n",
       "      <td>201701</td>\n",
       "      <td>934.77222</td>\n",
       "    </tr>\n",
       "    <tr>\n",
       "      <th>1</th>\n",
       "      <td>20001</td>\n",
       "      <td>201702</td>\n",
       "      <td>798.01620</td>\n",
       "    </tr>\n",
       "    <tr>\n",
       "      <th>2</th>\n",
       "      <td>20001</td>\n",
       "      <td>201703</td>\n",
       "      <td>1303.35771</td>\n",
       "    </tr>\n",
       "    <tr>\n",
       "      <th>3</th>\n",
       "      <td>20001</td>\n",
       "      <td>201704</td>\n",
       "      <td>1069.96130</td>\n",
       "    </tr>\n",
       "    <tr>\n",
       "      <th>4</th>\n",
       "      <td>20001</td>\n",
       "      <td>201705</td>\n",
       "      <td>1502.20132</td>\n",
       "    </tr>\n",
       "  </tbody>\n",
       "</table>\n",
       "</div>"
      ],
      "text/plain": [
       "   product_id  periodo          tn\n",
       "0       20001   201701   934.77222\n",
       "1       20001   201702   798.01620\n",
       "2       20001   201703  1303.35771\n",
       "3       20001   201704  1069.96130\n",
       "4       20001   201705  1502.20132"
      ]
     },
     "execution_count": 58,
     "metadata": {},
     "output_type": "execute_result"
    }
   ],
   "source": [
    "df_grouped.head()"
   ]
  },
  {
   "cell_type": "code",
   "execution_count": 59,
   "metadata": {},
   "outputs": [
    {
     "name": "stderr",
     "output_type": "stream",
     "text": [
      "C:\\Users\\Gonzalo\\AppData\\Local\\Temp\\ipykernel_39880\\2010962544.py:1: DeprecationWarning: DataFrameGroupBy.apply operated on the grouping columns. This behavior is deprecated, and in a future version of pandas the grouping columns will be excluded from the operation. Either pass `include_groups=False` to exclude the groupings or explicitly select the grouping columns after groupby to silence this warning.\n",
      "  prod_stats = df_grouped.groupby('product_id').apply(lambda group: pd.Series({\n"
     ]
    }
   ],
   "source": [
    "prod_stats = df_grouped.groupby('product_id').apply(lambda group: pd.Series({\n",
    "    'primer_periodo': group['periodo'].min(),\n",
    "    'ultimo_periodo': group['periodo'].max(),\n",
    "    'values': group['tn'].count(),\n",
    "    'total_tn': group['tn'].sum(),\n",
    "    'min_tn': group['tn'].min(),\n",
    "    'average_tn': group['tn'].mean(),\n",
    "    'median_tn': group['tn'].median(),\n",
    "    'std_dev_tn': group['tn'].std(),\n",
    "    'iqr_tn': (group['tn'].quantile(0.75) - group['tn'].quantile(0.25)),\n",
    "    'max_tn': group['tn'].max()\n",
    "}))\n",
    "prod_stats['primer_periodo'] = prod_stats['primer_periodo'].astype(int)\n",
    "prod_stats['primer_periodo'] = pd.to_datetime(prod_stats['primer_periodo'].astype(str), format='%Y%m')\n",
    "\n",
    "prod_stats['ultimo_periodo'] = prod_stats['ultimo_periodo'].astype(int)\n",
    "prod_stats['ultimo_periodo'] = pd.to_datetime(prod_stats['ultimo_periodo'].astype(str), format='%Y%m')\n",
    "\n",
    "prod_stats.reset_index(inplace=True)"
   ]
  },
  {
   "cell_type": "code",
   "execution_count": 60,
   "metadata": {},
   "outputs": [],
   "source": [
    "prod_stats = prod_stats[prod_stats['product_id'].isin(prod_a_predecir['product_id'])]\n",
    "df_grouped = df_grouped[df_grouped['product_id'].isin(prod_a_predecir['product_id'])]"
   ]
  },
  {
   "cell_type": "code",
   "execution_count": 61,
   "metadata": {},
   "outputs": [
    {
     "data": {
      "text/html": [
       "<div>\n",
       "<style scoped>\n",
       "    .dataframe tbody tr th:only-of-type {\n",
       "        vertical-align: middle;\n",
       "    }\n",
       "\n",
       "    .dataframe tbody tr th {\n",
       "        vertical-align: top;\n",
       "    }\n",
       "\n",
       "    .dataframe thead th {\n",
       "        text-align: right;\n",
       "    }\n",
       "</style>\n",
       "<table border=\"1\" class=\"dataframe\">\n",
       "  <thead>\n",
       "    <tr style=\"text-align: right;\">\n",
       "      <th></th>\n",
       "      <th>product_id</th>\n",
       "      <th>primer_periodo</th>\n",
       "      <th>ultimo_periodo</th>\n",
       "      <th>values</th>\n",
       "      <th>total_tn</th>\n",
       "      <th>min_tn</th>\n",
       "      <th>average_tn</th>\n",
       "      <th>median_tn</th>\n",
       "      <th>std_dev_tn</th>\n",
       "      <th>iqr_tn</th>\n",
       "      <th>max_tn</th>\n",
       "    </tr>\n",
       "  </thead>\n",
       "  <tbody>\n",
       "    <tr>\n",
       "      <th>0</th>\n",
       "      <td>20001</td>\n",
       "      <td>2017-01-01</td>\n",
       "      <td>2019-12-01</td>\n",
       "      <td>36.0</td>\n",
       "      <td>50340.39558</td>\n",
       "      <td>798.01620</td>\n",
       "      <td>1398.344322</td>\n",
       "      <td>1418.023430</td>\n",
       "      <td>298.145460</td>\n",
       "      <td>335.515348</td>\n",
       "      <td>2295.19832</td>\n",
       "    </tr>\n",
       "    <tr>\n",
       "      <th>1</th>\n",
       "      <td>20002</td>\n",
       "      <td>2017-01-01</td>\n",
       "      <td>2019-12-01</td>\n",
       "      <td>36.0</td>\n",
       "      <td>36337.25439</td>\n",
       "      <td>505.88633</td>\n",
       "      <td>1009.368178</td>\n",
       "      <td>992.005505</td>\n",
       "      <td>303.834835</td>\n",
       "      <td>246.766150</td>\n",
       "      <td>1979.53635</td>\n",
       "    </tr>\n",
       "    <tr>\n",
       "      <th>2</th>\n",
       "      <td>20003</td>\n",
       "      <td>2017-01-01</td>\n",
       "      <td>2019-12-01</td>\n",
       "      <td>36.0</td>\n",
       "      <td>32004.15274</td>\n",
       "      <td>525.82591</td>\n",
       "      <td>889.004243</td>\n",
       "      <td>786.715735</td>\n",
       "      <td>292.036581</td>\n",
       "      <td>260.440887</td>\n",
       "      <td>1958.59845</td>\n",
       "    </tr>\n",
       "    <tr>\n",
       "      <th>3</th>\n",
       "      <td>20004</td>\n",
       "      <td>2017-01-01</td>\n",
       "      <td>2019-12-01</td>\n",
       "      <td>36.0</td>\n",
       "      <td>24178.15379</td>\n",
       "      <td>415.52538</td>\n",
       "      <td>671.615383</td>\n",
       "      <td>596.909300</td>\n",
       "      <td>224.450085</td>\n",
       "      <td>279.662265</td>\n",
       "      <td>1268.21209</td>\n",
       "    </tr>\n",
       "    <tr>\n",
       "      <th>4</th>\n",
       "      <td>20005</td>\n",
       "      <td>2017-01-01</td>\n",
       "      <td>2019-12-01</td>\n",
       "      <td>36.0</td>\n",
       "      <td>23191.21852</td>\n",
       "      <td>329.42894</td>\n",
       "      <td>644.200514</td>\n",
       "      <td>578.571990</td>\n",
       "      <td>218.273222</td>\n",
       "      <td>305.415543</td>\n",
       "      <td>1247.88880</td>\n",
       "    </tr>\n",
       "  </tbody>\n",
       "</table>\n",
       "</div>"
      ],
      "text/plain": [
       "   product_id primer_periodo ultimo_periodo  values     total_tn     min_tn  \\\n",
       "0       20001     2017-01-01     2019-12-01    36.0  50340.39558  798.01620   \n",
       "1       20002     2017-01-01     2019-12-01    36.0  36337.25439  505.88633   \n",
       "2       20003     2017-01-01     2019-12-01    36.0  32004.15274  525.82591   \n",
       "3       20004     2017-01-01     2019-12-01    36.0  24178.15379  415.52538   \n",
       "4       20005     2017-01-01     2019-12-01    36.0  23191.21852  329.42894   \n",
       "\n",
       "    average_tn    median_tn  std_dev_tn      iqr_tn      max_tn  \n",
       "0  1398.344322  1418.023430  298.145460  335.515348  2295.19832  \n",
       "1  1009.368178   992.005505  303.834835  246.766150  1979.53635  \n",
       "2   889.004243   786.715735  292.036581  260.440887  1958.59845  \n",
       "3   671.615383   596.909300  224.450085  279.662265  1268.21209  \n",
       "4   644.200514   578.571990  218.273222  305.415543  1247.88880  "
      ]
     },
     "execution_count": 61,
     "metadata": {},
     "output_type": "execute_result"
    }
   ],
   "source": [
    "prod_stats.head()"
   ]
  },
  {
   "cell_type": "code",
   "execution_count": 62,
   "metadata": {},
   "outputs": [],
   "source": [
    "# periodos_manual = [202001, 202002]\n",
    "\n",
    "# for per in periodos_manual:\n",
    "#     prod_a_pred = prod_a_predecir\n",
    "#     prod_a_pred['periodo'] = per\n",
    "#     prod_a_pred['tn'] = np.NaN\n",
    "#     df_grouped = pd.concat([df_grouped, prod_a_pred], axis=0)\n",
    "\n",
    "# df_grouped.sort_values(by=['product_id', 'periodo'], inplace=True)\n",
    "# df_grouped.reset_index(drop=True, inplace=True)"
   ]
  },
  {
   "cell_type": "code",
   "execution_count": 63,
   "metadata": {},
   "outputs": [
    {
     "data": {
      "text/html": [
       "<div>\n",
       "<style scoped>\n",
       "    .dataframe tbody tr th:only-of-type {\n",
       "        vertical-align: middle;\n",
       "    }\n",
       "\n",
       "    .dataframe tbody tr th {\n",
       "        vertical-align: top;\n",
       "    }\n",
       "\n",
       "    .dataframe thead th {\n",
       "        text-align: right;\n",
       "    }\n",
       "</style>\n",
       "<table border=\"1\" class=\"dataframe\">\n",
       "  <thead>\n",
       "    <tr style=\"text-align: right;\">\n",
       "      <th></th>\n",
       "      <th>product_id</th>\n",
       "      <th>periodo</th>\n",
       "      <th>tn</th>\n",
       "    </tr>\n",
       "  </thead>\n",
       "  <tbody>\n",
       "    <tr>\n",
       "      <th>0</th>\n",
       "      <td>20001</td>\n",
       "      <td>201701</td>\n",
       "      <td>934.77222</td>\n",
       "    </tr>\n",
       "    <tr>\n",
       "      <th>1</th>\n",
       "      <td>20001</td>\n",
       "      <td>201702</td>\n",
       "      <td>798.01620</td>\n",
       "    </tr>\n",
       "    <tr>\n",
       "      <th>2</th>\n",
       "      <td>20001</td>\n",
       "      <td>201703</td>\n",
       "      <td>1303.35771</td>\n",
       "    </tr>\n",
       "    <tr>\n",
       "      <th>3</th>\n",
       "      <td>20001</td>\n",
       "      <td>201704</td>\n",
       "      <td>1069.96130</td>\n",
       "    </tr>\n",
       "    <tr>\n",
       "      <th>4</th>\n",
       "      <td>20001</td>\n",
       "      <td>201705</td>\n",
       "      <td>1502.20132</td>\n",
       "    </tr>\n",
       "    <tr>\n",
       "      <th>...</th>\n",
       "      <td>...</td>\n",
       "      <td>...</td>\n",
       "      <td>...</td>\n",
       "    </tr>\n",
       "    <tr>\n",
       "      <th>31206</th>\n",
       "      <td>21276</td>\n",
       "      <td>201908</td>\n",
       "      <td>0.01265</td>\n",
       "    </tr>\n",
       "    <tr>\n",
       "      <th>31207</th>\n",
       "      <td>21276</td>\n",
       "      <td>201909</td>\n",
       "      <td>0.01856</td>\n",
       "    </tr>\n",
       "    <tr>\n",
       "      <th>31208</th>\n",
       "      <td>21276</td>\n",
       "      <td>201910</td>\n",
       "      <td>0.02079</td>\n",
       "    </tr>\n",
       "    <tr>\n",
       "      <th>31209</th>\n",
       "      <td>21276</td>\n",
       "      <td>201911</td>\n",
       "      <td>0.03341</td>\n",
       "    </tr>\n",
       "    <tr>\n",
       "      <th>31210</th>\n",
       "      <td>21276</td>\n",
       "      <td>201912</td>\n",
       "      <td>0.00892</td>\n",
       "    </tr>\n",
       "  </tbody>\n",
       "</table>\n",
       "<p>22349 rows × 3 columns</p>\n",
       "</div>"
      ],
      "text/plain": [
       "       product_id  periodo          tn\n",
       "0           20001   201701   934.77222\n",
       "1           20001   201702   798.01620\n",
       "2           20001   201703  1303.35771\n",
       "3           20001   201704  1069.96130\n",
       "4           20001   201705  1502.20132\n",
       "...           ...      ...         ...\n",
       "31206       21276   201908     0.01265\n",
       "31207       21276   201909     0.01856\n",
       "31208       21276   201910     0.02079\n",
       "31209       21276   201911     0.03341\n",
       "31210       21276   201912     0.00892\n",
       "\n",
       "[22349 rows x 3 columns]"
      ]
     },
     "execution_count": 63,
     "metadata": {},
     "output_type": "execute_result"
    }
   ],
   "source": [
    "df_grouped"
   ]
  },
  {
   "cell_type": "code",
   "execution_count": 64,
   "metadata": {},
   "outputs": [],
   "source": [
    "df_grouped.to_parquet('sell_in_group.parquet', index=False)\n",
    "prod_stats.to_parquet('prod_stats.parquet', index=False)"
   ]
  },
  {
   "cell_type": "code",
   "execution_count": 65,
   "metadata": {},
   "outputs": [],
   "source": [
    "import matplotlib.pyplot as plt"
   ]
  },
  {
   "cell_type": "code",
   "execution_count": 66,
   "metadata": {},
   "outputs": [
    {
     "data": {
      "text/html": [
       "<div>\n",
       "<style scoped>\n",
       "    .dataframe tbody tr th:only-of-type {\n",
       "        vertical-align: middle;\n",
       "    }\n",
       "\n",
       "    .dataframe tbody tr th {\n",
       "        vertical-align: top;\n",
       "    }\n",
       "\n",
       "    .dataframe thead th {\n",
       "        text-align: right;\n",
       "    }\n",
       "</style>\n",
       "<table border=\"1\" class=\"dataframe\">\n",
       "  <thead>\n",
       "    <tr style=\"text-align: right;\">\n",
       "      <th></th>\n",
       "      <th>periodo</th>\n",
       "      <th>tn</th>\n",
       "      <th>fecha</th>\n",
       "    </tr>\n",
       "  </thead>\n",
       "  <tbody>\n",
       "    <tr>\n",
       "      <th>0</th>\n",
       "      <td>201701</td>\n",
       "      <td>54.836658</td>\n",
       "      <td>2017-01-01</td>\n",
       "    </tr>\n",
       "    <tr>\n",
       "      <th>1</th>\n",
       "      <td>201702</td>\n",
       "      <td>54.827691</td>\n",
       "      <td>2017-02-01</td>\n",
       "    </tr>\n",
       "    <tr>\n",
       "      <th>2</th>\n",
       "      <td>201703</td>\n",
       "      <td>73.167157</td>\n",
       "      <td>2017-03-01</td>\n",
       "    </tr>\n",
       "    <tr>\n",
       "      <th>3</th>\n",
       "      <td>201704</td>\n",
       "      <td>62.153104</td>\n",
       "      <td>2017-04-01</td>\n",
       "    </tr>\n",
       "    <tr>\n",
       "      <th>4</th>\n",
       "      <td>201705</td>\n",
       "      <td>70.767490</td>\n",
       "      <td>2017-05-01</td>\n",
       "    </tr>\n",
       "  </tbody>\n",
       "</table>\n",
       "</div>"
      ],
      "text/plain": [
       "   periodo         tn      fecha\n",
       "0   201701  54.836658 2017-01-01\n",
       "1   201702  54.827691 2017-02-01\n",
       "2   201703  73.167157 2017-03-01\n",
       "3   201704  62.153104 2017-04-01\n",
       "4   201705  70.767490 2017-05-01"
      ]
     },
     "execution_count": 66,
     "metadata": {},
     "output_type": "execute_result"
    }
   ],
   "source": [
    "dibujo = pd.DataFrame(df_grouped['tn'].groupby(df_grouped['periodo']).aggregate('mean')).reset_index()\n",
    "dibujo['fecha'] = pd.to_datetime(dibujo['periodo'].astype(str), format='%Y%m')\n",
    "dibujo.head()"
   ]
  },
  {
   "cell_type": "code",
   "execution_count": 67,
   "metadata": {},
   "outputs": [
    {
     "data": {
      "image/png": "[encoded data removed]",
      "text/plain": [
       "<Figure size 2000x700 with 1 Axes>"
      ]
     },
     "metadata": {},
     "output_type": "display_data"
    }
   ],
   "source": [
    "plt.figure(figsize=(20, 7))\n",
    "plt.plot(dibujo['fecha'], dibujo['tn'], marker='o')\n",
    "plt.title('Total TN by Time')\n",
    "plt.xlabel('Time')\n",
    "plt.ylabel('Total TN')\n",
    "plt.grid(True)\n",
    "plt.tight_layout()\n",
    "plt.show()"
   ]
  }
 ],
 "metadata": {
  "kernelspec": {
   "display_name": "uni",
   "language": "python",
   "name": "python3"
  },
  "language_info": {
   "codemirror_mode": {
    "name": "ipython",
    "version": 3
   },
   "file_extension": ".py",
   "mimetype": "text/x-python",
   "name": "python",
   "nbconvert_exporter": "python",
   "pygments_lexer": "ipython3",
   "version": "3.12.2"
  }
 },
 "nbformat": 4,
 "nbformat_minor": 2
}
