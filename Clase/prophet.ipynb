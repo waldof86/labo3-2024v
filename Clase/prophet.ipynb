{
 "cells": [
  {
   "cell_type": "code",
   "execution_count": 3,
   "metadata": {},
   "outputs": [
    {
     "ename": "ModuleNotFoundError",
     "evalue": "No module named 'Prophet'",
     "output_type": "error",
     "traceback": [
      "\u001b[1;31m---------------------------------------------------------------------------\u001b[0m",
      "\u001b[1;31mModuleNotFoundError\u001b[0m                       Traceback (most recent call last)",
      "Cell \u001b[1;32mIn[3], line 3\u001b[0m\n\u001b[0;32m      1\u001b[0m \u001b[39mimport\u001b[39;00m \u001b[39mpandas\u001b[39;00m \u001b[39mas\u001b[39;00m \u001b[39mpd\u001b[39;00m\n\u001b[0;32m      2\u001b[0m \u001b[39mimport\u001b[39;00m \u001b[39mnumpy\u001b[39;00m \u001b[39mas\u001b[39;00m \u001b[39mnp\u001b[39;00m\n\u001b[1;32m----> 3\u001b[0m \u001b[39mfrom\u001b[39;00m \u001b[39mProphet\u001b[39;00m \u001b[39mimport\u001b[39;00m Prophet\n\u001b[0;32m      5\u001b[0m \u001b[39m# Carga de datos\u001b[39;00m\n\u001b[0;32m      6\u001b[0m df \u001b[39m=\u001b[39m pd\u001b[39m.\u001b[39mread_csv(\u001b[39m'\u001b[39m\u001b[39msell-in.txt\u001b[39m\u001b[39m'\u001b[39m, sep\u001b[39m=\u001b[39m\u001b[39m'\u001b[39m\u001b[39m\\t\u001b[39;00m\u001b[39m'\u001b[39m)\n",
      "\u001b[1;31mModuleNotFoundError\u001b[0m: No module named 'Prophet'"
     ]
    }
   ],
   "source": [
    "import pandas as pd\n",
    "import numpy as np\n",
    "from prophet import Prophet\n",
    "\n",
    "# Carga de datos\n",
    "df = pd.read_csv('sell-in.txt', sep='\\t')\n",
    "df['fecha'] = pd.to_datetime(df['periodo'].astype(str), format='%Y%m')\n",
    "\n",
    "# Función para crear la serie de tiempo para un producto\n",
    "def serie_producto(id_producto):\n",
    "    df_prod = df[df['product_id'] == id_producto].loc[:, ['fecha', 'tn']]\n",
    "    if len(df_prod) == 0:\n",
    "        return None\n",
    "    \n",
    "    # Filtrar solo los períodos de 2019\n",
    "    df_prod = df_prod[df_prod['fecha'].dt.year == 2019]\n",
    "\n",
    "    # Encontrar la fecha inicial y final para el producto\n",
    "    fecha_inicial = df_prod['fecha'].min()\n",
    "    fecha_final = df_prod['fecha'].max()\n",
    "    \n",
    "    # Generar fechas hasta febrero de 2020\n",
    "    fechas_productos = pd.date_range(start=fecha_inicial, end='2020-02-01', freq='MS')\n",
    "    df_fechas_productos = pd.DataFrame({'fecha': fechas_productos})\n",
    "    \n",
    "    df_prod = df_prod.groupby('fecha').agg({'tn': 'sum'}).reset_index()\n",
    "    df_ret = pd.merge(df_fechas_productos, df_prod, on='fecha', how='left')\n",
    "    df_ret['tn'].interpolate(method='linear', inplace=True)\n",
    "    df_ret.fillna(0, inplace=True)\n",
    "    return df_ret\n",
    "\n",
    "# DataFrame para almacenar predicciones\n",
    "df_pred = pd.read_csv('productos_a_predecir.txt', sep='\\t')\n",
    "\n",
    "# Predicciones\n",
    "resultados = []\n",
    "\n",
    "for i in range(len(df_pred)):\n",
    "    id_producto = df_pred.iloc[i, 0]\n",
    "    df_prod = serie_producto(id_producto)\n",
    "    print(f\"Progress: {i+1}/{len(df_pred)}\", end=\"\\r\")\n",
    "    if df_prod is not None:\n",
    "        df_prod_prophet = df_prod.rename(columns={'fecha': 'ds', 'tn': 'y'})\n",
    "        \n",
    "        modelo = Prophet()\n",
    "        modelo.fit(df_prod_prophet)\n",
    "        \n",
    "        future = modelo.make_future_dataframe(periods=1, freq='MS')\n",
    "        forecast = modelo.predict(future)\n",
    "        \n",
    "        pred_final = abs(forecast['yhat'].iloc[-1])  # Valor absoluto para evitar negativos\n",
    "        resultados.append([id_producto, pred_final])\n",
    "\n",
    "# Crear DataFrame con los resultados\n",
    "df_resultados = pd.DataFrame(resultados, columns=['product_id', 'tn'])\n",
    "\n",
    "# Guardar predicciones\n",
    "df_resultados.to_csv('pred_prophet.csv', index=False)\n"
   ]
  }
 ],
 "metadata": {
  "kernelspec": {
   "display_name": "laboiii",
   "language": "python",
   "name": "python3"
  },
  "language_info": {
   "codemirror_mode": {
    "name": "ipython",
    "version": 3
   },
   "file_extension": ".py",
   "mimetype": "text/x-python",
   "name": "python",
   "nbconvert_exporter": "python",
   "pygments_lexer": "ipython3",
   "version": "3.12.3"
  },
  "orig_nbformat": 4
 },
 "nbformat": 4,
 "nbformat_minor": 2
}
