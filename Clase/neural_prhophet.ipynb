{
 "cells": [
  {
   "cell_type": "code",
   "execution_count": 16,
   "metadata": {},
   "outputs": [],
   "source": [
    "import pandas as pd\n",
    "from neuralprophet import NeuralProphet\n",
    "from IPython.display import clear_output"
   ]
  },
  {
   "cell_type": "code",
   "execution_count": 17,
   "metadata": {},
   "outputs": [],
   "source": [
    "# Carga de datos\n",
    "df = pd.read_csv('sell-in.txt', sep='\\t')\n",
    "df['fecha'] = pd.to_datetime(df['periodo'].astype(str), format='%Y%m')"
   ]
  },
  {
   "cell_type": "code",
   "execution_count": 18,
   "metadata": {},
   "outputs": [],
   "source": [
    "# Función para crear la serie de tiempo para un producto\n",
    "def serie_producto(id_producto):\n",
    "    df_prod = df[df['product_id'] == id_producto].loc[:, ['fecha', 'tn']]\n",
    "    df_prod = df_prod[(df_prod['fecha'].dt.year == 2019)]\n",
    "    if len(df_prod) == 0:\n",
    "        return None\n",
    "\n",
    "    # Encontrar la fecha inicial y final para el producto\n",
    "    fecha_inicial = df_prod['fecha'].min()\n",
    "    fecha_final = df_prod['fecha'].max()\n",
    "    \n",
    "    # Generar fechas hasta febrero de 2020\n",
    "    fechas_productos = pd.date_range(start=fecha_inicial, end='2020-02-01', freq='MS')\n",
    "    df_fechas_productos = pd.DataFrame({'fecha': fechas_productos})\n",
    "    \n",
    "    df_prod = df_prod.groupby('fecha').agg({'tn': 'sum'}).reset_index()\n",
    "    df_ret = pd.merge(df_fechas_productos, df_prod, on='fecha', how='left')\n",
    "    df_ret['tn'].interpolate(method='linear', inplace=True)\n",
    "    df_ret.fillna(0, inplace=True)\n",
    "    return df_ret"
   ]
  },
  {
   "cell_type": "code",
   "execution_count": 19,
   "metadata": {},
   "outputs": [],
   "source": [
    "# DataFrame para almacenar predicciones\n",
    "df_pred = pd.read_csv('productos_a_predecir.txt', sep='\\t')"
   ]
  },
  {
   "cell_type": "code",
   "execution_count": 20,
   "metadata": {},
   "outputs": [],
   "source": [
    "# resultados = []\n",
    "\n",
    "# #max_epochs = 40\n",
    "\n",
    "# for i in range(len(df_pred)):\n",
    "#     id_producto = df_pred.iloc[i, 0]\n",
    "#     df_prod = serie_producto(id_producto)\n",
    "#     clear_output()\n",
    "#     print(f\"Progress: {i+1}/{len(df_pred)}\", end=\"\\r\")\n",
    "#     if df_prod is not None:\n",
    "#         df_prod_neuralprophet = df_prod.rename(columns={'fecha': 'ds', 'tn': 'y'})\n",
    "        \n",
    "#         modelo = NeuralProphet()\n",
    "#         metrics = modelo.fit(df_prod_neuralprophet, early_stopping=True, progress = None)\n",
    "        \n",
    "#         future = modelo.make_future_dataframe(df_prod_neuralprophet, periods=1, n_historic_predictions=True)\n",
    "#         forecast = modelo.predict(future)\n",
    "        \n",
    "#         pred_final = abs(forecast['yhat1'].iloc[-1])  # Valor absoluto para evitar negativos\n",
    "#         resultados.append([id_producto, pred_final])"
   ]
  },
  {
   "cell_type": "code",
   "execution_count": 21,
   "metadata": {},
   "outputs": [
    {
     "name": "stdout",
     "output_type": "stream",
     "text": [
      "Progress: 780/780\r\n",
      "Processing complete!\n"
     ]
    }
   ],
   "source": [
    "from concurrent.futures import ThreadPoolExecutor, as_completed\n",
    "\n",
    "def process_row(i):\n",
    "    id_producto = df_pred.iloc[i, 0]\n",
    "    df_prod = serie_producto(id_producto)\n",
    "    \n",
    "    if df_prod is not None:\n",
    "        df_prod_neuralprophet = df_prod.rename(columns={'fecha': 'ds', 'tn': 'y'})\n",
    "        \n",
    "        modelo = NeuralProphet()\n",
    "        metrics = modelo.fit(df_prod_neuralprophet, early_stopping=True, progress=None, epochs = 100)\n",
    "        \n",
    "        future = modelo.make_future_dataframe(df_prod_neuralprophet, periods=1, n_historic_predictions=True)\n",
    "        forecast = modelo.predict(future)\n",
    "        \n",
    "        pred_final =  max(forecast['yhat'].iloc[-1],0) # Valor absoluto para evitar negativos\n",
    "        return id_producto, pred_final\n",
    "    return id_producto, None\n",
    "\n",
    "resultados = []\n",
    "\n",
    "# Create a thread pool executor\n",
    "with ThreadPoolExecutor() as executor:\n",
    "    # Submit tasks to the executor\n",
    "    future_to_index = {executor.submit(process_row, i): i for i in range(len(df_pred))}\n",
    "    \n",
    "    # Process the results as they complete\n",
    "    for future in as_completed(future_to_index):\n",
    "        i = future_to_index[future]\n",
    "        try:\n",
    "            result = future.result()\n",
    "            if result[1] is not None:  # Check if result is not None\n",
    "                resultados.append(result)\n",
    "        except Exception as e:\n",
    "            print(f\"Row {i} generated an exception: {e}\")\n",
    "        \n",
    "        # Update progress\n",
    "        clear_output(wait=True)\n",
    "        print(f\"Progress: {i+1}/{len(df_pred)}\", end=\"\\r\")\n",
    "        \n",
    "print(\"\\nProcessing complete!\")\n"
   ]
  },
  {
   "cell_type": "code",
   "execution_count": 24,
   "metadata": {},
   "outputs": [],
   "source": [
    "# Crear DataFrame con los resultados\n",
    "df_resultados = pd.DataFrame(resultados, columns=['product_id', 'tn'])\n",
    "\n",
    "# Guardar predicciones\n",
    "df_resultados.to_csv('pred_neuralprophet0_1.csv', index=False)"
   ]
  }
 ],
 "metadata": {
  "kernelspec": {
   "display_name": "laboiii",
   "language": "python",
   "name": "python3"
  },
  "language_info": {
   "codemirror_mode": {
    "name": "ipython",
    "version": 3
   },
   "file_extension": ".py",
   "mimetype": "text/x-python",
   "name": "python",
   "nbconvert_exporter": "python",
   "pygments_lexer": "ipython3",
   "version": "3.10.13"
  }
 },
 "nbformat": 4,
 "nbformat_minor": 2
}
